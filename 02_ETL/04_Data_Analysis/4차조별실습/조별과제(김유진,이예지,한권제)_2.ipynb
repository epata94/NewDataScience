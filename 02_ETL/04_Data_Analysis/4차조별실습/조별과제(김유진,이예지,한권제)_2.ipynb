{
 "cells": [
  {
   "cell_type": "code",
   "execution_count": 126,
   "id": "f9c98d4c",
   "metadata": {},
   "outputs": [],
   "source": [
    "import pandas as pd\n",
    "import numpy as np\n",
    "import matplotlib.pyplot as plt\n",
    "import seaborn as sns\n",
    "import datetime\n",
    "from matplotlib import font_manager,rc\n",
    "\n",
    "import random\n",
    "\n",
    "font_location = \"C:\\Windows\\Fonts\\malgun.ttf\"\n",
    "font_name = font_manager.FontProperties(fname=font_location).get_name()\n",
    "rc('font',family=font_name)\n",
    "plt.rcParams['axes.unicode_minus'] = False"
   ]
  },
  {
   "cell_type": "code",
   "execution_count": 127,
   "id": "8978f81f",
   "metadata": {},
   "outputs": [],
   "source": [
    "file_path = '../data/best_selling_artists.csv'\n",
    "artist = pd.read_csv(file_path) # read_csv 함수로 데이터를 Dataframe 형태로 불러옵니다."
   ]
  },
  {
   "cell_type": "markdown",
   "id": "2e2ec741",
   "metadata": {},
   "source": [
    "### 데이터 원본분석"
   ]
  },
  {
   "cell_type": "code",
   "execution_count": 128,
   "id": "d3abb5a7",
   "metadata": {
    "scrolled": true
   },
   "outputs": [
    {
     "name": "stdout",
     "output_type": "stream",
     "text": [
      "<class 'pandas.core.frame.DataFrame'>\n",
      "RangeIndex: 121 entries, 0 to 120\n",
      "Data columns (total 7 columns):\n",
      " #   Column         Non-Null Count  Dtype \n",
      "---  ------         --------------  ----- \n",
      " 0   Artist         121 non-null    object\n",
      " 1   Country        121 non-null    object\n",
      " 2   period_active  121 non-null    object\n",
      " 3   Year           121 non-null    int64 \n",
      " 4   Genre          121 non-null    object\n",
      " 5   TCU            121 non-null    object\n",
      " 6   Sales          121 non-null    object\n",
      "dtypes: int64(1), object(6)\n",
      "memory usage: 6.7+ KB\n"
     ]
    }
   ],
   "source": [
    "artist.info()"
   ]
  },
  {
   "cell_type": "code",
   "execution_count": 132,
   "id": "84bc33e1",
   "metadata": {},
   "outputs": [
    {
     "data": {
      "text/plain": [
       "Index(['Artist', 'Country', 'period_active', 'Year', 'Genre', 'TCU', 'Sales'], dtype='object')"
      ]
     },
     "execution_count": 132,
     "metadata": {},
     "output_type": "execute_result"
    }
   ],
   "source": [
    "artist.columns"
   ]
  },
  {
   "cell_type": "markdown",
   "id": "5d52496e",
   "metadata": {},
   "source": [
    "* Artist          : 아티스트 이름\n",
    "* Country         : 아티스트가 출신 국가\n",
    "* period_active   : 아티스트가 음악을 만든 시간\n",
    "* Year            : 음반차트 첫 진입년도\n",
    "* Genre           : 아티스트의 음악 장르\n",
    "* TCU             : 인증받은 판매량\n",
    "* Sales           : 알려진 판매량 "
   ]
  },
  {
   "cell_type": "code",
   "execution_count": 129,
   "id": "618694ec",
   "metadata": {},
   "outputs": [
    {
     "data": {
      "text/plain": [
       "(121, 7)"
      ]
     },
     "execution_count": 129,
     "metadata": {},
     "output_type": "execute_result"
    }
   ],
   "source": [
    "artist.shape"
   ]
  },
  {
   "cell_type": "code",
   "execution_count": 130,
   "id": "8a59a039",
   "metadata": {},
   "outputs": [
    {
     "data": {
      "text/html": [
       "<div>\n",
       "<style scoped>\n",
       "    .dataframe tbody tr th:only-of-type {\n",
       "        vertical-align: middle;\n",
       "    }\n",
       "\n",
       "    .dataframe tbody tr th {\n",
       "        vertical-align: top;\n",
       "    }\n",
       "\n",
       "    .dataframe thead th {\n",
       "        text-align: right;\n",
       "    }\n",
       "</style>\n",
       "<table border=\"1\" class=\"dataframe\">\n",
       "  <thead>\n",
       "    <tr style=\"text-align: right;\">\n",
       "      <th></th>\n",
       "      <th>Artist</th>\n",
       "      <th>Country</th>\n",
       "      <th>period_active</th>\n",
       "      <th>Year</th>\n",
       "      <th>Genre</th>\n",
       "      <th>TCU</th>\n",
       "      <th>Sales</th>\n",
       "    </tr>\n",
       "  </thead>\n",
       "  <tbody>\n",
       "    <tr>\n",
       "      <th>0</th>\n",
       "      <td>The Beatles</td>\n",
       "      <td>United Kingdom</td>\n",
       "      <td>1960–1970</td>\n",
       "      <td>1962</td>\n",
       "      <td>Rock / pop</td>\n",
       "      <td>290.4 million</td>\n",
       "      <td>600 million500 million</td>\n",
       "    </tr>\n",
       "    <tr>\n",
       "      <th>1</th>\n",
       "      <td>Elvis Presley</td>\n",
       "      <td>United States</td>\n",
       "      <td>1954–1977</td>\n",
       "      <td>1956</td>\n",
       "      <td>Rock and roll / pop / country</td>\n",
       "      <td>231.2 million</td>\n",
       "      <td>500 million</td>\n",
       "    </tr>\n",
       "    <tr>\n",
       "      <th>2</th>\n",
       "      <td>Michael Jackson</td>\n",
       "      <td>United States</td>\n",
       "      <td>1964–2009</td>\n",
       "      <td>1971</td>\n",
       "      <td>Pop / rock / dance / soul / R&amp;B</td>\n",
       "      <td>277.3 million</td>\n",
       "      <td>400 million</td>\n",
       "    </tr>\n",
       "    <tr>\n",
       "      <th>3</th>\n",
       "      <td>Elton John</td>\n",
       "      <td>United Kingdom</td>\n",
       "      <td>1964–present</td>\n",
       "      <td>1970</td>\n",
       "      <td>Pop / rock</td>\n",
       "      <td>208 million</td>\n",
       "      <td>300 million250 million</td>\n",
       "    </tr>\n",
       "    <tr>\n",
       "      <th>4</th>\n",
       "      <td>Queen</td>\n",
       "      <td>United Kingdom</td>\n",
       "      <td>1971–present</td>\n",
       "      <td>1973</td>\n",
       "      <td>Rock</td>\n",
       "      <td>184 million</td>\n",
       "      <td>300 million250 million</td>\n",
       "    </tr>\n",
       "    <tr>\n",
       "      <th>5</th>\n",
       "      <td>Madonna</td>\n",
       "      <td>United States</td>\n",
       "      <td>1979–present</td>\n",
       "      <td>1983</td>\n",
       "      <td>Pop / dance / electronica</td>\n",
       "      <td>181.7 million</td>\n",
       "      <td>300 million250 million</td>\n",
       "    </tr>\n",
       "    <tr>\n",
       "      <th>6</th>\n",
       "      <td>Led Zeppelin</td>\n",
       "      <td>United Kingdom</td>\n",
       "      <td>1968–1980</td>\n",
       "      <td>1969</td>\n",
       "      <td>Hard rock / blues rock / folk rock</td>\n",
       "      <td>142.4 million</td>\n",
       "      <td>300 million200 million</td>\n",
       "    </tr>\n",
       "    <tr>\n",
       "      <th>7</th>\n",
       "      <td>Rihanna</td>\n",
       "      <td>Barbados</td>\n",
       "      <td>2005–present</td>\n",
       "      <td>2005</td>\n",
       "      <td>R&amp;B / pop / dance / hip-hop</td>\n",
       "      <td>335.3 million</td>\n",
       "      <td>250 million230 million</td>\n",
       "    </tr>\n",
       "    <tr>\n",
       "      <th>8</th>\n",
       "      <td>Pink Floyd</td>\n",
       "      <td>United Kingdom</td>\n",
       "      <td>1965–1996, 2005, 2012–2014</td>\n",
       "      <td>1967</td>\n",
       "      <td>Progressive rock / psychedelic rock</td>\n",
       "      <td>123.8 million</td>\n",
       "      <td>250 million200 million</td>\n",
       "    </tr>\n",
       "    <tr>\n",
       "      <th>9</th>\n",
       "      <td>Eminem</td>\n",
       "      <td>United States</td>\n",
       "      <td>1996–present</td>\n",
       "      <td>1999</td>\n",
       "      <td>Hip-hop</td>\n",
       "      <td>325.7 million</td>\n",
       "      <td>220 million</td>\n",
       "    </tr>\n",
       "  </tbody>\n",
       "</table>\n",
       "</div>"
      ],
      "text/plain": [
       "            Artist         Country               period_active  Year  \\\n",
       "0      The Beatles  United Kingdom                   1960–1970  1962   \n",
       "1    Elvis Presley   United States                   1954–1977  1956   \n",
       "2  Michael Jackson   United States                   1964–2009  1971   \n",
       "3       Elton John  United Kingdom                1964–present  1970   \n",
       "4            Queen  United Kingdom                1971–present  1973   \n",
       "5          Madonna   United States                1979–present  1983   \n",
       "6     Led Zeppelin  United Kingdom                   1968–1980  1969   \n",
       "7          Rihanna        Barbados                2005–present  2005   \n",
       "8       Pink Floyd  United Kingdom  1965–1996, 2005, 2012–2014  1967   \n",
       "9           Eminem   United States                1996–present  1999   \n",
       "\n",
       "                                 Genre            TCU                   Sales  \n",
       "0                           Rock / pop  290.4 million  600 million500 million  \n",
       "1        Rock and roll / pop / country  231.2 million             500 million  \n",
       "2      Pop / rock / dance / soul / R&B  277.3 million             400 million  \n",
       "3                           Pop / rock    208 million  300 million250 million  \n",
       "4                                 Rock    184 million  300 million250 million  \n",
       "5            Pop / dance / electronica  181.7 million  300 million250 million  \n",
       "6   Hard rock / blues rock / folk rock  142.4 million  300 million200 million  \n",
       "7          R&B / pop / dance / hip-hop  335.3 million  250 million230 million  \n",
       "8  Progressive rock / psychedelic rock  123.8 million  250 million200 million  \n",
       "9                              Hip-hop  325.7 million             220 million  "
      ]
     },
     "execution_count": 130,
     "metadata": {},
     "output_type": "execute_result"
    }
   ],
   "source": [
    "artist.head(10)"
   ]
  },
  {
   "cell_type": "code",
   "execution_count": 131,
   "id": "0571e605",
   "metadata": {
    "scrolled": true
   },
   "outputs": [
    {
     "data": {
      "text/html": [
       "<div>\n",
       "<style scoped>\n",
       "    .dataframe tbody tr th:only-of-type {\n",
       "        vertical-align: middle;\n",
       "    }\n",
       "\n",
       "    .dataframe tbody tr th {\n",
       "        vertical-align: top;\n",
       "    }\n",
       "\n",
       "    .dataframe thead th {\n",
       "        text-align: right;\n",
       "    }\n",
       "</style>\n",
       "<table border=\"1\" class=\"dataframe\">\n",
       "  <thead>\n",
       "    <tr style=\"text-align: right;\">\n",
       "      <th></th>\n",
       "      <th>Artist</th>\n",
       "      <th>Country</th>\n",
       "      <th>period_active</th>\n",
       "      <th>Year</th>\n",
       "      <th>Genre</th>\n",
       "      <th>TCU</th>\n",
       "      <th>Sales</th>\n",
       "    </tr>\n",
       "  </thead>\n",
       "  <tbody>\n",
       "    <tr>\n",
       "      <th>111</th>\n",
       "      <td>Kenny G</td>\n",
       "      <td>United States</td>\n",
       "      <td>1982–present</td>\n",
       "      <td>1984</td>\n",
       "      <td>Smooth jazz</td>\n",
       "      <td>53.9 million</td>\n",
       "      <td>75 million</td>\n",
       "    </tr>\n",
       "    <tr>\n",
       "      <th>112</th>\n",
       "      <td>Green Day</td>\n",
       "      <td>United States</td>\n",
       "      <td>1987–present</td>\n",
       "      <td>1994</td>\n",
       "      <td>Punk rock / pop punk / alternative rock</td>\n",
       "      <td>53 million</td>\n",
       "      <td>75 million</td>\n",
       "    </tr>\n",
       "    <tr>\n",
       "      <th>113</th>\n",
       "      <td>Enya</td>\n",
       "      <td>Ireland</td>\n",
       "      <td>1982–present</td>\n",
       "      <td>1987</td>\n",
       "      <td>New-age / Celtic</td>\n",
       "      <td>51.9 million</td>\n",
       "      <td>75 million</td>\n",
       "    </tr>\n",
       "    <tr>\n",
       "      <th>114</th>\n",
       "      <td>Bryan Adams</td>\n",
       "      <td>Canada</td>\n",
       "      <td>1979–present</td>\n",
       "      <td>1979</td>\n",
       "      <td>Rock</td>\n",
       "      <td>49.9 million</td>\n",
       "      <td>75 million</td>\n",
       "    </tr>\n",
       "    <tr>\n",
       "      <th>115</th>\n",
       "      <td>Bob Marley</td>\n",
       "      <td>Jamaica</td>\n",
       "      <td>1962–1981</td>\n",
       "      <td>1975</td>\n",
       "      <td>Reggae</td>\n",
       "      <td>46.3 million</td>\n",
       "      <td>75 million</td>\n",
       "    </tr>\n",
       "    <tr>\n",
       "      <th>116</th>\n",
       "      <td>The Police</td>\n",
       "      <td>United Kingdom</td>\n",
       "      <td>1977–19862007–2008</td>\n",
       "      <td>1978</td>\n",
       "      <td>Pop / rock</td>\n",
       "      <td>42.2 million</td>\n",
       "      <td>75 million</td>\n",
       "    </tr>\n",
       "    <tr>\n",
       "      <th>117</th>\n",
       "      <td>Gloria Estefan</td>\n",
       "      <td>United States</td>\n",
       "      <td>1975–present</td>\n",
       "      <td>1984</td>\n",
       "      <td>Latin pop / dance pop</td>\n",
       "      <td>37.6 million</td>\n",
       "      <td>75 million</td>\n",
       "    </tr>\n",
       "    <tr>\n",
       "      <th>118</th>\n",
       "      <td>Barry Manilow</td>\n",
       "      <td>United States</td>\n",
       "      <td>1973–present</td>\n",
       "      <td>1973</td>\n",
       "      <td>Pop / soft rock</td>\n",
       "      <td>36.7 million</td>\n",
       "      <td>75 million</td>\n",
       "    </tr>\n",
       "    <tr>\n",
       "      <th>119</th>\n",
       "      <td>Kiss</td>\n",
       "      <td>United States</td>\n",
       "      <td>1972–present</td>\n",
       "      <td>1974</td>\n",
       "      <td>Hard rock / heavy metal</td>\n",
       "      <td>28.7 million</td>\n",
       "      <td>75 million</td>\n",
       "    </tr>\n",
       "    <tr>\n",
       "      <th>120</th>\n",
       "      <td>Aretha Franklin</td>\n",
       "      <td>United States</td>\n",
       "      <td>1956–2018</td>\n",
       "      <td>1961</td>\n",
       "      <td>Soul / jazz / blues / R&amp;B</td>\n",
       "      <td>26.6 million</td>\n",
       "      <td>75 million</td>\n",
       "    </tr>\n",
       "  </tbody>\n",
       "</table>\n",
       "</div>"
      ],
      "text/plain": [
       "              Artist         Country       period_active  Year  \\\n",
       "111          Kenny G   United States        1982–present  1984   \n",
       "112        Green Day   United States        1987–present  1994   \n",
       "113             Enya         Ireland        1982–present  1987   \n",
       "114      Bryan Adams          Canada        1979–present  1979   \n",
       "115       Bob Marley         Jamaica           1962–1981  1975   \n",
       "116       The Police  United Kingdom  1977–19862007–2008  1978   \n",
       "117   Gloria Estefan   United States        1975–present  1984   \n",
       "118    Barry Manilow   United States        1973–present  1973   \n",
       "119             Kiss   United States        1972–present  1974   \n",
       "120  Aretha Franklin   United States           1956–2018  1961   \n",
       "\n",
       "                                       Genre           TCU       Sales  \n",
       "111                              Smooth jazz  53.9 million  75 million  \n",
       "112  Punk rock / pop punk / alternative rock    53 million  75 million  \n",
       "113                         New-age / Celtic  51.9 million  75 million  \n",
       "114                                     Rock  49.9 million  75 million  \n",
       "115                                   Reggae  46.3 million  75 million  \n",
       "116                               Pop / rock  42.2 million  75 million  \n",
       "117                    Latin pop / dance pop  37.6 million  75 million  \n",
       "118                          Pop / soft rock  36.7 million  75 million  \n",
       "119                  Hard rock / heavy metal  28.7 million  75 million  \n",
       "120                Soul / jazz / blues / R&B  26.6 million  75 million  "
      ]
     },
     "execution_count": 131,
     "metadata": {},
     "output_type": "execute_result"
    }
   ],
   "source": [
    "artist.tail(10)"
   ]
  },
  {
   "cell_type": "markdown",
   "id": "06227262",
   "metadata": {},
   "source": [
    "#### => 'sales'는 인증되지않은판매량이므로 인증된 수치인 'TCU'만 사용"
   ]
  },
  {
   "cell_type": "code",
   "execution_count": 133,
   "id": "abd84f64",
   "metadata": {},
   "outputs": [],
   "source": [
    "artist = artist.drop(['Sales'], axis = 1)"
   ]
  },
  {
   "cell_type": "code",
   "execution_count": 134,
   "id": "c06dd09a",
   "metadata": {
    "scrolled": false
   },
   "outputs": [
    {
     "data": {
      "text/html": [
       "<div>\n",
       "<style scoped>\n",
       "    .dataframe tbody tr th:only-of-type {\n",
       "        vertical-align: middle;\n",
       "    }\n",
       "\n",
       "    .dataframe tbody tr th {\n",
       "        vertical-align: top;\n",
       "    }\n",
       "\n",
       "    .dataframe thead th {\n",
       "        text-align: right;\n",
       "    }\n",
       "</style>\n",
       "<table border=\"1\" class=\"dataframe\">\n",
       "  <thead>\n",
       "    <tr style=\"text-align: right;\">\n",
       "      <th></th>\n",
       "      <th>Artist</th>\n",
       "      <th>Country</th>\n",
       "      <th>period_active</th>\n",
       "      <th>Year</th>\n",
       "      <th>Genre</th>\n",
       "      <th>TCU</th>\n",
       "    </tr>\n",
       "  </thead>\n",
       "  <tbody>\n",
       "    <tr>\n",
       "      <th>0</th>\n",
       "      <td>The Beatles</td>\n",
       "      <td>United Kingdom</td>\n",
       "      <td>1960–1970</td>\n",
       "      <td>1962</td>\n",
       "      <td>Rock / pop</td>\n",
       "      <td>290.4 million</td>\n",
       "    </tr>\n",
       "    <tr>\n",
       "      <th>1</th>\n",
       "      <td>Elvis Presley</td>\n",
       "      <td>United States</td>\n",
       "      <td>1954–1977</td>\n",
       "      <td>1956</td>\n",
       "      <td>Rock and roll / pop / country</td>\n",
       "      <td>231.2 million</td>\n",
       "    </tr>\n",
       "    <tr>\n",
       "      <th>2</th>\n",
       "      <td>Michael Jackson</td>\n",
       "      <td>United States</td>\n",
       "      <td>1964–2009</td>\n",
       "      <td>1971</td>\n",
       "      <td>Pop / rock / dance / soul / R&amp;B</td>\n",
       "      <td>277.3 million</td>\n",
       "    </tr>\n",
       "    <tr>\n",
       "      <th>3</th>\n",
       "      <td>Elton John</td>\n",
       "      <td>United Kingdom</td>\n",
       "      <td>1964–present</td>\n",
       "      <td>1970</td>\n",
       "      <td>Pop / rock</td>\n",
       "      <td>208 million</td>\n",
       "    </tr>\n",
       "    <tr>\n",
       "      <th>4</th>\n",
       "      <td>Queen</td>\n",
       "      <td>United Kingdom</td>\n",
       "      <td>1971–present</td>\n",
       "      <td>1973</td>\n",
       "      <td>Rock</td>\n",
       "      <td>184 million</td>\n",
       "    </tr>\n",
       "    <tr>\n",
       "      <th>...</th>\n",
       "      <td>...</td>\n",
       "      <td>...</td>\n",
       "      <td>...</td>\n",
       "      <td>...</td>\n",
       "      <td>...</td>\n",
       "      <td>...</td>\n",
       "    </tr>\n",
       "    <tr>\n",
       "      <th>116</th>\n",
       "      <td>The Police</td>\n",
       "      <td>United Kingdom</td>\n",
       "      <td>1977–19862007–2008</td>\n",
       "      <td>1978</td>\n",
       "      <td>Pop / rock</td>\n",
       "      <td>42.2 million</td>\n",
       "    </tr>\n",
       "    <tr>\n",
       "      <th>117</th>\n",
       "      <td>Gloria Estefan</td>\n",
       "      <td>United States</td>\n",
       "      <td>1975–present</td>\n",
       "      <td>1984</td>\n",
       "      <td>Latin pop / dance pop</td>\n",
       "      <td>37.6 million</td>\n",
       "    </tr>\n",
       "    <tr>\n",
       "      <th>118</th>\n",
       "      <td>Barry Manilow</td>\n",
       "      <td>United States</td>\n",
       "      <td>1973–present</td>\n",
       "      <td>1973</td>\n",
       "      <td>Pop / soft rock</td>\n",
       "      <td>36.7 million</td>\n",
       "    </tr>\n",
       "    <tr>\n",
       "      <th>119</th>\n",
       "      <td>Kiss</td>\n",
       "      <td>United States</td>\n",
       "      <td>1972–present</td>\n",
       "      <td>1974</td>\n",
       "      <td>Hard rock / heavy metal</td>\n",
       "      <td>28.7 million</td>\n",
       "    </tr>\n",
       "    <tr>\n",
       "      <th>120</th>\n",
       "      <td>Aretha Franklin</td>\n",
       "      <td>United States</td>\n",
       "      <td>1956–2018</td>\n",
       "      <td>1961</td>\n",
       "      <td>Soul / jazz / blues / R&amp;B</td>\n",
       "      <td>26.6 million</td>\n",
       "    </tr>\n",
       "  </tbody>\n",
       "</table>\n",
       "<p>121 rows × 6 columns</p>\n",
       "</div>"
      ],
      "text/plain": [
       "              Artist         Country       period_active  Year  \\\n",
       "0        The Beatles  United Kingdom           1960–1970  1962   \n",
       "1      Elvis Presley   United States           1954–1977  1956   \n",
       "2    Michael Jackson   United States           1964–2009  1971   \n",
       "3         Elton John  United Kingdom        1964–present  1970   \n",
       "4              Queen  United Kingdom        1971–present  1973   \n",
       "..               ...             ...                 ...   ...   \n",
       "116       The Police  United Kingdom  1977–19862007–2008  1978   \n",
       "117   Gloria Estefan   United States        1975–present  1984   \n",
       "118    Barry Manilow   United States        1973–present  1973   \n",
       "119             Kiss   United States        1972–present  1974   \n",
       "120  Aretha Franklin   United States           1956–2018  1961   \n",
       "\n",
       "                               Genre            TCU  \n",
       "0                         Rock / pop  290.4 million  \n",
       "1      Rock and roll / pop / country  231.2 million  \n",
       "2    Pop / rock / dance / soul / R&B  277.3 million  \n",
       "3                         Pop / rock    208 million  \n",
       "4                               Rock    184 million  \n",
       "..                               ...            ...  \n",
       "116                       Pop / rock   42.2 million  \n",
       "117            Latin pop / dance pop   37.6 million  \n",
       "118                  Pop / soft rock   36.7 million  \n",
       "119          Hard rock / heavy metal   28.7 million  \n",
       "120        Soul / jazz / blues / R&B   26.6 million  \n",
       "\n",
       "[121 rows x 6 columns]"
      ]
     },
     "execution_count": 134,
     "metadata": {},
     "output_type": "execute_result"
    }
   ],
   "source": [
    "artist"
   ]
  },
  {
   "cell_type": "markdown",
   "id": "cbbefab2",
   "metadata": {},
   "source": [
    "### 결측치, 이상치 점검"
   ]
  },
  {
   "cell_type": "code",
   "execution_count": 135,
   "id": "c417e216",
   "metadata": {},
   "outputs": [],
   "source": [
    "artist['TCU'] = artist.TCU.str.split(' ').str[0].astype('float64')"
   ]
  },
  {
   "cell_type": "code",
   "execution_count": 136,
   "id": "bb9d3148",
   "metadata": {},
   "outputs": [],
   "source": [
    "artist['TCU'] = artist['TCU']*1000000"
   ]
  },
  {
   "cell_type": "code",
   "execution_count": 137,
   "id": "084200ca",
   "metadata": {},
   "outputs": [
    {
     "data": {
      "text/plain": [
       "0      290400000.0\n",
       "1      231200000.0\n",
       "2      277300000.0\n",
       "3      208000000.0\n",
       "4      184000000.0\n",
       "          ...     \n",
       "116     42200000.0\n",
       "117     37600000.0\n",
       "118     36700000.0\n",
       "119     28700000.0\n",
       "120     26600000.0\n",
       "Name: TCU, Length: 121, dtype: float64"
      ]
     },
     "execution_count": 137,
     "metadata": {},
     "output_type": "execute_result"
    }
   ],
   "source": [
    "artist['TCU']"
   ]
  },
  {
   "cell_type": "code",
   "execution_count": 138,
   "id": "9675de0c",
   "metadata": {},
   "outputs": [
    {
     "data": {
      "text/plain": [
       "Artist           0\n",
       "Country          0\n",
       "period_active    0\n",
       "Year             0\n",
       "Genre            0\n",
       "TCU              0\n",
       "dtype: int64"
      ]
     },
     "execution_count": 138,
     "metadata": {},
     "output_type": "execute_result"
    }
   ],
   "source": [
    "artist.isnull().sum()"
   ]
  },
  {
   "cell_type": "code",
   "execution_count": 140,
   "id": "593d425d",
   "metadata": {
    "scrolled": false
   },
   "outputs": [
    {
     "data": {
      "text/html": [
       "<div>\n",
       "<style scoped>\n",
       "    .dataframe tbody tr th:only-of-type {\n",
       "        vertical-align: middle;\n",
       "    }\n",
       "\n",
       "    .dataframe tbody tr th {\n",
       "        vertical-align: top;\n",
       "    }\n",
       "\n",
       "    .dataframe thead th {\n",
       "        text-align: right;\n",
       "    }\n",
       "</style>\n",
       "<table border=\"1\" class=\"dataframe\">\n",
       "  <thead>\n",
       "    <tr style=\"text-align: right;\">\n",
       "      <th></th>\n",
       "      <th>Artist</th>\n",
       "      <th>Country</th>\n",
       "      <th>period_active</th>\n",
       "      <th>Year</th>\n",
       "      <th>Genre</th>\n",
       "      <th>TCU</th>\n",
       "    </tr>\n",
       "  </thead>\n",
       "  <tbody>\n",
       "  </tbody>\n",
       "</table>\n",
       "</div>"
      ],
      "text/plain": [
       "Empty DataFrame\n",
       "Columns: [Artist, Country, period_active, Year, Genre, TCU]\n",
       "Index: []"
      ]
     },
     "execution_count": 140,
     "metadata": {},
     "output_type": "execute_result"
    }
   ],
   "source": [
    "artist[artist['Country'].map(len) < 3]"
   ]
  },
  {
   "cell_type": "markdown",
   "id": "5d4dff1c",
   "metadata": {},
   "source": [
    "* 나라별 인기있는 장르\n",
    "* 년도별 어떤 장르가 인기있었는지 ..\n",
    "* 오랜시간동안 차트인 하지못한 가수 "
   ]
  },
  {
   "cell_type": "code",
   "execution_count": 174,
   "id": "8db352ba",
   "metadata": {},
   "outputs": [],
   "source": [
    "artist['Debut']=artist.period_active.str.split('–').str[0].astype('int64')"
   ]
  },
  {
   "cell_type": "code",
   "execution_count": 175,
   "id": "98569638",
   "metadata": {},
   "outputs": [],
   "source": [
    "artist['Year']=artist['Year'].astype('int64')"
   ]
  },
  {
   "cell_type": "code",
   "execution_count": 176,
   "id": "3f48d1f6",
   "metadata": {},
   "outputs": [],
   "source": [
    "artist['Cart_In_period']=artist['Year']-artist['Debut']"
   ]
  },
  {
   "cell_type": "code",
   "execution_count": 177,
   "id": "2b202c65",
   "metadata": {},
   "outputs": [
    {
     "data": {
      "text/html": [
       "<div>\n",
       "<style scoped>\n",
       "    .dataframe tbody tr th:only-of-type {\n",
       "        vertical-align: middle;\n",
       "    }\n",
       "\n",
       "    .dataframe tbody tr th {\n",
       "        vertical-align: top;\n",
       "    }\n",
       "\n",
       "    .dataframe thead th {\n",
       "        text-align: right;\n",
       "    }\n",
       "</style>\n",
       "<table border=\"1\" class=\"dataframe\">\n",
       "  <thead>\n",
       "    <tr style=\"text-align: right;\">\n",
       "      <th></th>\n",
       "      <th>Artist</th>\n",
       "      <th>Cart_In_period</th>\n",
       "    </tr>\n",
       "  </thead>\n",
       "  <tbody>\n",
       "    <tr>\n",
       "      <th>61</th>\n",
       "      <td>Kenny Rogers</td>\n",
       "      <td>17</td>\n",
       "    </tr>\n",
       "    <tr>\n",
       "      <th>87</th>\n",
       "      <td>Lionel Richie</td>\n",
       "      <td>13</td>\n",
       "    </tr>\n",
       "    <tr>\n",
       "      <th>115</th>\n",
       "      <td>Bob Marley</td>\n",
       "      <td>13</td>\n",
       "    </tr>\n",
       "    <tr>\n",
       "      <th>59</th>\n",
       "      <td>Paul McCartney</td>\n",
       "      <td>10</td>\n",
       "    </tr>\n",
       "    <tr>\n",
       "      <th>89</th>\n",
       "      <td>Justin Timberlake</td>\n",
       "      <td>10</td>\n",
       "    </tr>\n",
       "  </tbody>\n",
       "</table>\n",
       "</div>"
      ],
      "text/plain": [
       "                Artist  Cart_In_period\n",
       "61        Kenny Rogers              17\n",
       "87       Lionel Richie              13\n",
       "115         Bob Marley              13\n",
       "59      Paul McCartney              10\n",
       "89   Justin Timberlake              10"
      ]
     },
     "execution_count": 177,
     "metadata": {},
     "output_type": "execute_result"
    }
   ],
   "source": [
    "sort_by_cartin=artist[['Artist','Cart_In_period']]\n",
    "sort_by_cartin=sort_by_cartin.sort_values('Cart_In_period',ascending=0)\n",
    "sort_by_cartin.head()"
   ]
  },
  {
   "cell_type": "code",
   "execution_count": 149,
   "id": "c8fd4b84",
   "metadata": {},
   "outputs": [],
   "source": [
    "cartin_avg=sort_by_cartin['Cart_In_period'].mean()"
   ]
  },
  {
   "cell_type": "code",
   "execution_count": 157,
   "id": "fadc4031",
   "metadata": {},
   "outputs": [
    {
     "data": {
      "image/png": "[encoded data removed]",
      "text/plain": [
       "<Figure size 640x480 with 1 Axes>"
      ]
     },
     "metadata": {},
     "output_type": "display_data"
    }
   ],
   "source": [
    "plt.title('차트인을 늦게 한 가수들')\n",
    "plt.xticks(rotation = -45)\n",
    "sns.barplot(x='Artist',y='Cart_In_period',data=sort_by_cartin.head(10))\n",
    "plt.plot([0,10], [cartin_avg, cartin_avg], \"k--\")\n",
    "plt.show()"
   ]
  },
  {
   "cell_type": "code",
   "execution_count": 158,
   "id": "a4231b53",
   "metadata": {},
   "outputs": [
    {
     "data": {
      "text/plain": [
       "array(['Rock / pop', 'Rock and roll / pop / country',\n",
       "       'Pop / rock / dance / soul / R&B', 'Pop / rock', 'Rock',\n",
       "       'Pop / dance / electronica', 'Hard rock / blues rock / folk rock',\n",
       "       'R&B / pop / dance / hip-hop',\n",
       "       'Progressive rock / psychedelic rock', 'Hip-hop',\n",
       "       'R&B / pop / soul / hip-hop',\n",
       "       'Pop / country / rock / folk / alternative', 'R&B / pop',\n",
       "       'R&B / soul / pop / gospel', 'Pop / Rock',\n",
       "       'Hard rock / blues rock / rock and roll', 'Rock / blues rock',\n",
       "       'Hip-hop / R&B / pop', 'Country', 'Hip-hop / electronic / pop',\n",
       "       'Pop / teen pop / dance pop', 'Pop / folk pop', 'Pop rock / R&B',\n",
       "       'Hard rock', 'Rock / progressive rock / adult contemporary',\n",
       "       'Pop / adult contemporary', 'Pop / disco',\n",
       "       'Pop / swing / easy listening', 'Pop', 'Pop / R&B / hip-hop',\n",
       "       'Heavy metal / thrash metal', 'Pop / dance / electronic',\n",
       "       'Pop rock / funk rock / dance-pop', 'Pop / soul',\n",
       "       'Funk rock / alternative rock', 'Hard rock / glam metal',\n",
       "       'Hip-hop / pop', 'Alternative rock / pop rock / pop',\n",
       "       'Alternative rock / nu metal / rap rock', 'Pop / pop rock / R&B',\n",
       "       'Pop / dance / dance-pop', 'Rock / pop rock / hard rock',\n",
       "       'Country pop', 'Hard rock / heavy metal', 'Rock / blues',\n",
       "       'Funk / R&B / pop / soul / rock', 'Rock / soft rock',\n",
       "       'Country / pop', 'Folk rock', 'Latin', 'Psychedelic rock',\n",
       "       'Rock / hard rock', 'Folk / rock', 'Funk / R&B / soul',\n",
       "       'Pop / rock / dance / folk', 'Progressive rock / pop rock',\n",
       "       'Art rock / glam rock / pop', 'Rock / folk / country',\n",
       "       'Rock / pop / surf rock', 'Pop / disco / R&B', 'R&B / pop / rock',\n",
       "       'Pop / R&B', 'Country / rock and roll / gospel',\n",
       "       'Pop / R&B / neo soul', 'Alternative rock',\n",
       "       'Hip-hop / hip house /EDM', 'Latin pop / pop / pop rock',\n",
       "       'Hip-hop / R&B / dance', 'J-pop / pop / dance / electronic',\n",
       "       'Pop rock / electropop / pop', 'Country / country pop',\n",
       "       'Country / pop rock', 'R&B / soul / hip-hop',\n",
       "       'Grunge / alternative rock', 'Pop rock',\n",
       "       'Rock / Hard rock/ Pop rock', 'Smooth jazz',\n",
       "       'Punk rock / pop punk / alternative rock', 'New-age / Celtic',\n",
       "       'Reggae', 'Latin pop / dance pop', 'Pop / soft rock',\n",
       "       'Soul / jazz / blues / R&B'], dtype=object)"
      ]
     },
     "execution_count": 158,
     "metadata": {},
     "output_type": "execute_result"
    }
   ],
   "source": [
    "artist['Genre'].unique()"
   ]
  },
  {
   "cell_type": "code",
   "execution_count": 173,
   "id": "9614200e",
   "metadata": {},
   "outputs": [],
   "source": [
    "# genre_list=[]\n",
    "# for genre in artist['Genre'].unique():\n",
    "#     for \n",
    "#     print(genre.split(\"/\"))"
   ]
  },
  {
   "cell_type": "markdown",
   "id": "18aae664",
   "metadata": {},
   "source": [
    "1960년대, 1970년대 , 1980년대, 1990년대, 2000년 이후"
   ]
  },
  {
   "cell_type": "code",
   "execution_count": 242,
   "id": "2c89fa58",
   "metadata": {},
   "outputs": [],
   "source": [
    "# fig, axes = plt.subplots(2, 2)\n",
    "\n",
    "# x = [i for i in range(20)]\n",
    "# y = [np.random.randint(1, 10) for i in range(20)]\n",
    "# axes[0][0].plot(x, y)\n",
    "\n",
    "# x = range(20)\n",
    "# y = [np.random.randint(1, 10) for i in range(20)]\n",
    "# axes[0][1].bar(x, y)\n",
    "\n",
    "# x = range(20)\n",
    "# y = [np.random.randint(1, 10) for i in range(20)]\n",
    "# axes[1][0].bar(x, y)\n",
    "\n",
    "# x = range(20)\n",
    "# y = [np.random.randint(1, 10) for i in range(20)]\n",
    "# axes[1][1].scatter(x, y)\n",
    "\n",
    "\n",
    "# plt.tight_layout()\n",
    "# plt.show()\n",
    "\n",
    "#그래프"
   ]
  },
  {
   "cell_type": "code",
   "execution_count": 192,
   "id": "76cd2e1f",
   "metadata": {},
   "outputs": [
    {
     "data": {
      "text/html": [
       "<div>\n",
       "<style scoped>\n",
       "    .dataframe tbody tr th:only-of-type {\n",
       "        vertical-align: middle;\n",
       "    }\n",
       "\n",
       "    .dataframe tbody tr th {\n",
       "        vertical-align: top;\n",
       "    }\n",
       "\n",
       "    .dataframe thead th {\n",
       "        text-align: right;\n",
       "    }\n",
       "</style>\n",
       "<table border=\"1\" class=\"dataframe\">\n",
       "  <thead>\n",
       "    <tr style=\"text-align: right;\">\n",
       "      <th></th>\n",
       "      <th>Artist</th>\n",
       "      <th>Country</th>\n",
       "      <th>period_active</th>\n",
       "      <th>Year</th>\n",
       "      <th>Genre</th>\n",
       "      <th>TCU</th>\n",
       "      <th>Debut</th>\n",
       "      <th>Cart_In_period</th>\n",
       "    </tr>\n",
       "  </thead>\n",
       "  <tbody>\n",
       "    <tr>\n",
       "      <th>0</th>\n",
       "      <td>The Beatles</td>\n",
       "      <td>United Kingdom</td>\n",
       "      <td>1960–1970</td>\n",
       "      <td>1962</td>\n",
       "      <td>Rock / pop</td>\n",
       "      <td>290400000.0</td>\n",
       "      <td>1960</td>\n",
       "      <td>2</td>\n",
       "    </tr>\n",
       "    <tr>\n",
       "      <th>6</th>\n",
       "      <td>Led Zeppelin</td>\n",
       "      <td>United Kingdom</td>\n",
       "      <td>1968–1980</td>\n",
       "      <td>1969</td>\n",
       "      <td>Hard rock / blues rock / folk rock</td>\n",
       "      <td>142400000.0</td>\n",
       "      <td>1968</td>\n",
       "      <td>1</td>\n",
       "    </tr>\n",
       "    <tr>\n",
       "      <th>8</th>\n",
       "      <td>Pink Floyd</td>\n",
       "      <td>United Kingdom</td>\n",
       "      <td>1965–1996, 2005, 2012–2014</td>\n",
       "      <td>1967</td>\n",
       "      <td>Progressive rock / psychedelic rock</td>\n",
       "      <td>123800000.0</td>\n",
       "      <td>1965</td>\n",
       "      <td>2</td>\n",
       "    </tr>\n",
       "    <tr>\n",
       "      <th>17</th>\n",
       "      <td>The Rolling Stones</td>\n",
       "      <td>United Kingdom</td>\n",
       "      <td>1962–present</td>\n",
       "      <td>1963</td>\n",
       "      <td>Rock / blues rock</td>\n",
       "      <td>102700000.0</td>\n",
       "      <td>1962</td>\n",
       "      <td>1</td>\n",
       "    </tr>\n",
       "    <tr>\n",
       "      <th>29</th>\n",
       "      <td>Barbra Streisand</td>\n",
       "      <td>United States</td>\n",
       "      <td>1960–present</td>\n",
       "      <td>1963</td>\n",
       "      <td>Pop / adult contemporary</td>\n",
       "      <td>98400000.0</td>\n",
       "      <td>1960</td>\n",
       "      <td>3</td>\n",
       "    </tr>\n",
       "  </tbody>\n",
       "</table>\n",
       "</div>"
      ],
      "text/plain": [
       "                Artist         Country               period_active  Year  \\\n",
       "0          The Beatles  United Kingdom                   1960–1970  1962   \n",
       "6         Led Zeppelin  United Kingdom                   1968–1980  1969   \n",
       "8           Pink Floyd  United Kingdom  1965–1996, 2005, 2012–2014  1967   \n",
       "17  The Rolling Stones  United Kingdom                1962–present  1963   \n",
       "29    Barbra Streisand   United States                1960–present  1963   \n",
       "\n",
       "                                  Genre          TCU  Debut  Cart_In_period  \n",
       "0                            Rock / pop  290400000.0   1960               2  \n",
       "6    Hard rock / blues rock / folk rock  142400000.0   1968               1  \n",
       "8   Progressive rock / psychedelic rock  123800000.0   1965               2  \n",
       "17                    Rock / blues rock  102700000.0   1962               1  \n",
       "29             Pop / adult contemporary   98400000.0   1960               3  "
      ]
     },
     "execution_count": 192,
     "metadata": {},
     "output_type": "execute_result"
    }
   ],
   "source": [
    "artist_year_1960 = artist.loc[(artist['Year'] >= 1960) & (artist['Year'] <= 1969)]\n",
    "\n",
    "artist_year_1960.head()"
   ]
  },
  {
   "cell_type": "code",
   "execution_count": 163,
   "id": "46ab8f86",
   "metadata": {},
   "outputs": [
    {
     "data": {
      "text/plain": [
       "Rock / pop                             6\n",
       "Pop                                    2\n",
       "Folk / rock                            1\n",
       "Rock / Hard rock/ Pop rock             1\n",
       "Rock / pop / surf rock                 1\n",
       "Rock / folk / country                  1\n",
       "Funk / R&B / soul                      1\n",
       "Art rock / glam rock / pop             1\n",
       "Progressive rock / pop rock            1\n",
       "Pop / rock / dance / folk              1\n",
       "Psychedelic rock                       1\n",
       "Hard rock / blues rock / folk rock     1\n",
       "Latin                                  1\n",
       "Folk rock                              1\n",
       "Rock                                   1\n",
       "Pop / rock                             1\n",
       "Pop / disco                            1\n",
       "Pop / adult contemporary               1\n",
       "Rock / blues rock                      1\n",
       "Progressive rock / psychedelic rock    1\n",
       "Soul / jazz / blues / R&B              1\n",
       "Name: Genre, dtype: int64"
      ]
     },
     "execution_count": 163,
     "metadata": {},
     "output_type": "execute_result"
    }
   ],
   "source": [
    "artist_year_1960['Genre'].value_counts()"
   ]
  },
  {
   "cell_type": "markdown",
   "id": "2f0e50c7",
   "metadata": {},
   "source": [
    "=> 60년대에 가장 인기있었던 장르는 Rock / pop , pop 순이다"
   ]
  },
  {
   "cell_type": "markdown",
   "id": "5688c2b2",
   "metadata": {},
   "source": [
    "1970년대"
   ]
  },
  {
   "cell_type": "code",
   "execution_count": 191,
   "id": "8d363199",
   "metadata": {},
   "outputs": [
    {
     "data": {
      "text/html": [
       "<div>\n",
       "<style scoped>\n",
       "    .dataframe tbody tr th:only-of-type {\n",
       "        vertical-align: middle;\n",
       "    }\n",
       "\n",
       "    .dataframe tbody tr th {\n",
       "        vertical-align: top;\n",
       "    }\n",
       "\n",
       "    .dataframe thead th {\n",
       "        text-align: right;\n",
       "    }\n",
       "</style>\n",
       "<table border=\"1\" class=\"dataframe\">\n",
       "  <thead>\n",
       "    <tr style=\"text-align: right;\">\n",
       "      <th></th>\n",
       "      <th>Artist</th>\n",
       "      <th>Country</th>\n",
       "      <th>period_active</th>\n",
       "      <th>Year</th>\n",
       "      <th>Genre</th>\n",
       "      <th>TCU</th>\n",
       "      <th>Debut</th>\n",
       "      <th>Cart_In_period</th>\n",
       "    </tr>\n",
       "  </thead>\n",
       "  <tbody>\n",
       "    <tr>\n",
       "      <th>2</th>\n",
       "      <td>Michael Jackson</td>\n",
       "      <td>United States</td>\n",
       "      <td>1964–2009</td>\n",
       "      <td>1971</td>\n",
       "      <td>Pop / rock / dance / soul / R&amp;B</td>\n",
       "      <td>277300000.0</td>\n",
       "      <td>1964</td>\n",
       "      <td>7</td>\n",
       "    </tr>\n",
       "    <tr>\n",
       "      <th>3</th>\n",
       "      <td>Elton John</td>\n",
       "      <td>United Kingdom</td>\n",
       "      <td>1964–present</td>\n",
       "      <td>1970</td>\n",
       "      <td>Pop / rock</td>\n",
       "      <td>208000000.0</td>\n",
       "      <td>1964</td>\n",
       "      <td>6</td>\n",
       "    </tr>\n",
       "    <tr>\n",
       "      <th>4</th>\n",
       "      <td>Queen</td>\n",
       "      <td>United Kingdom</td>\n",
       "      <td>1971–present</td>\n",
       "      <td>1973</td>\n",
       "      <td>Rock</td>\n",
       "      <td>184000000.0</td>\n",
       "      <td>1971</td>\n",
       "      <td>2</td>\n",
       "    </tr>\n",
       "    <tr>\n",
       "      <th>14</th>\n",
       "      <td>Eagles</td>\n",
       "      <td>United States</td>\n",
       "      <td>1971–1980, 1994–present</td>\n",
       "      <td>1972</td>\n",
       "      <td>Rock</td>\n",
       "      <td>152200000.0</td>\n",
       "      <td>1971</td>\n",
       "      <td>1</td>\n",
       "    </tr>\n",
       "    <tr>\n",
       "      <th>16</th>\n",
       "      <td>AC/DC</td>\n",
       "      <td>Australia</td>\n",
       "      <td>1973–present</td>\n",
       "      <td>1975</td>\n",
       "      <td>Hard rock / blues rock / rock and roll</td>\n",
       "      <td>130200000.0</td>\n",
       "      <td>1973</td>\n",
       "      <td>2</td>\n",
       "    </tr>\n",
       "  </tbody>\n",
       "</table>\n",
       "</div>"
      ],
      "text/plain": [
       "             Artist         Country            period_active  Year  \\\n",
       "2   Michael Jackson   United States                1964–2009  1971   \n",
       "3        Elton John  United Kingdom             1964–present  1970   \n",
       "4             Queen  United Kingdom             1971–present  1973   \n",
       "14           Eagles   United States  1971–1980, 1994–present  1972   \n",
       "16            AC/DC       Australia             1973–present  1975   \n",
       "\n",
       "                                     Genre          TCU  Debut  Cart_In_period  \n",
       "2          Pop / rock / dance / soul / R&B  277300000.0   1964               7  \n",
       "3                               Pop / rock  208000000.0   1964               6  \n",
       "4                                     Rock  184000000.0   1971               2  \n",
       "14                                    Rock  152200000.0   1971               1  \n",
       "16  Hard rock / blues rock / rock and roll  130200000.0   1973               2  "
      ]
     },
     "execution_count": 191,
     "metadata": {},
     "output_type": "execute_result"
    }
   ],
   "source": [
    "artist_year_1970 = artist.loc[(artist['Year'] >= 1970) & (artist['Year'] <= 1979)]\n",
    "\n",
    "artist_year_1970.head()"
   ]
  },
  {
   "cell_type": "code",
   "execution_count": 165,
   "id": "540cf5df",
   "metadata": {},
   "outputs": [
    {
     "data": {
      "text/plain": [
       "Rock                                      7\n",
       "Hard rock / heavy metal                   3\n",
       "Pop / rock                                3\n",
       "Rock / hard rock                          2\n",
       "Pop / rock / dance / soul / R&B           1\n",
       "Reggae                                    1\n",
       "Pop / disco / R&B                         1\n",
       "Rock / pop                                1\n",
       "Funk / R&B / soul                         1\n",
       "Rock / soft rock                          1\n",
       "Country / pop                             1\n",
       "Funk / R&B / pop / soul / rock            1\n",
       "Rock / blues                              1\n",
       "Pop / disco                               1\n",
       "Hard rock                                 1\n",
       "Hard rock / blues rock / rock and roll    1\n",
       "Pop / soft rock                           1\n",
       "Name: Genre, dtype: int64"
      ]
     },
     "execution_count": 165,
     "metadata": {},
     "output_type": "execute_result"
    }
   ],
   "source": [
    "artist_year_1970['Genre'].value_counts()"
   ]
  },
  {
   "cell_type": "markdown",
   "id": "be6fa73f",
   "metadata": {},
   "source": [
    "=> 70년대 가장 인기있었던 장르는 Rock, Hard rock / heavy metal 순이다"
   ]
  },
  {
   "cell_type": "code",
   "execution_count": 190,
   "id": "40faf73b",
   "metadata": {},
   "outputs": [
    {
     "data": {
      "text/html": [
       "<div>\n",
       "<style scoped>\n",
       "    .dataframe tbody tr th:only-of-type {\n",
       "        vertical-align: middle;\n",
       "    }\n",
       "\n",
       "    .dataframe tbody tr th {\n",
       "        vertical-align: top;\n",
       "    }\n",
       "\n",
       "    .dataframe thead th {\n",
       "        text-align: right;\n",
       "    }\n",
       "</style>\n",
       "<table border=\"1\" class=\"dataframe\">\n",
       "  <thead>\n",
       "    <tr style=\"text-align: right;\">\n",
       "      <th></th>\n",
       "      <th>Artist</th>\n",
       "      <th>Country</th>\n",
       "      <th>period_active</th>\n",
       "      <th>Year</th>\n",
       "      <th>Genre</th>\n",
       "      <th>TCU</th>\n",
       "      <th>Debut</th>\n",
       "      <th>Cart_In_period</th>\n",
       "    </tr>\n",
       "  </thead>\n",
       "  <tbody>\n",
       "    <tr>\n",
       "      <th>5</th>\n",
       "      <td>Madonna</td>\n",
       "      <td>United States</td>\n",
       "      <td>1979–present</td>\n",
       "      <td>1983</td>\n",
       "      <td>Pop / dance / electronica</td>\n",
       "      <td>181700000.0</td>\n",
       "      <td>1979</td>\n",
       "      <td>4</td>\n",
       "    </tr>\n",
       "    <tr>\n",
       "      <th>13</th>\n",
       "      <td>Whitney Houston</td>\n",
       "      <td>United States</td>\n",
       "      <td>1977–2012</td>\n",
       "      <td>1984</td>\n",
       "      <td>R&amp;B / soul / pop / gospel</td>\n",
       "      <td>155300000.0</td>\n",
       "      <td>1977</td>\n",
       "      <td>7</td>\n",
       "    </tr>\n",
       "    <tr>\n",
       "      <th>15</th>\n",
       "      <td>Celine Dion</td>\n",
       "      <td>Canada</td>\n",
       "      <td>1981–present</td>\n",
       "      <td>1981</td>\n",
       "      <td>Pop / Rock</td>\n",
       "      <td>143000000.0</td>\n",
       "      <td>1981</td>\n",
       "      <td>0</td>\n",
       "    </tr>\n",
       "    <tr>\n",
       "      <th>19</th>\n",
       "      <td>Garth Brooks</td>\n",
       "      <td>United States</td>\n",
       "      <td>1989–present</td>\n",
       "      <td>1989</td>\n",
       "      <td>Country</td>\n",
       "      <td>165300000.0</td>\n",
       "      <td>1989</td>\n",
       "      <td>0</td>\n",
       "    </tr>\n",
       "    <tr>\n",
       "      <th>26</th>\n",
       "      <td>U2</td>\n",
       "      <td>Ireland</td>\n",
       "      <td>1976–present</td>\n",
       "      <td>1980</td>\n",
       "      <td>Rock</td>\n",
       "      <td>114600000.0</td>\n",
       "      <td>1976</td>\n",
       "      <td>4</td>\n",
       "    </tr>\n",
       "  </tbody>\n",
       "</table>\n",
       "</div>"
      ],
      "text/plain": [
       "             Artist        Country period_active  Year  \\\n",
       "5           Madonna  United States  1979–present  1983   \n",
       "13  Whitney Houston  United States     1977–2012  1984   \n",
       "15      Celine Dion         Canada  1981–present  1981   \n",
       "19     Garth Brooks  United States  1989–present  1989   \n",
       "26               U2        Ireland  1976–present  1980   \n",
       "\n",
       "                        Genre          TCU  Debut  Cart_In_period  \n",
       "5   Pop / dance / electronica  181700000.0   1979               4  \n",
       "13  R&B / soul / pop / gospel  155300000.0   1977               7  \n",
       "15                 Pop / Rock  143000000.0   1981               0  \n",
       "19                    Country  165300000.0   1989               0  \n",
       "26                       Rock  114600000.0   1976               4  "
      ]
     },
     "execution_count": 190,
     "metadata": {},
     "output_type": "execute_result"
    }
   ],
   "source": [
    "artist_year_1980 = artist.loc[(artist['Year'] >= 1980) & (artist['Year'] <= 1989)]\n",
    "\n",
    "artist_year_1980.head()"
   ]
  },
  {
   "cell_type": "code",
   "execution_count": 168,
   "id": "3a0e0817",
   "metadata": {},
   "outputs": [
    {
     "data": {
      "text/plain": [
       "Country                                         2\n",
       "Pop / dance / electronica                       1\n",
       "Hard rock / heavy metal                         1\n",
       "New-age / Celtic                                1\n",
       "Smooth jazz                                     1\n",
       "Country / pop rock                              1\n",
       "Alternative rock                                1\n",
       "Pop / R&B                                       1\n",
       "Pop                                             1\n",
       "R&B / pop                                       1\n",
       "Rock / pop rock / hard rock                     1\n",
       "R&B / soul / pop / gospel                       1\n",
       "Hard rock / glam metal                          1\n",
       "Funk rock / alternative rock                    1\n",
       "Heavy metal / thrash metal                      1\n",
       "Rock / progressive rock / adult contemporary    1\n",
       "Rock                                            1\n",
       "Pop / Rock                                      1\n",
       "Latin pop / dance pop                           1\n",
       "Name: Genre, dtype: int64"
      ]
     },
     "execution_count": 168,
     "metadata": {},
     "output_type": "execute_result"
    }
   ],
   "source": [
    "artist_year_1980['Genre'].value_counts()"
   ]
  },
  {
   "cell_type": "markdown",
   "id": "6e2330b2",
   "metadata": {},
   "source": [
    "=> 80년대는 Country가 가장 인기있는 장르지만, \n",
    "가장 많은 데이터와 편차가 심하지않고 다른 데이터가 골고루 분산되서 많은 장르가 사랑받은것으로 보임."
   ]
  },
  {
   "cell_type": "markdown",
   "id": "269ff33e",
   "metadata": {},
   "source": [
    "1990년대"
   ]
  },
  {
   "cell_type": "code",
   "execution_count": 189,
   "id": "5ef30993",
   "metadata": {},
   "outputs": [
    {
     "data": {
      "text/html": [
       "<div>\n",
       "<style scoped>\n",
       "    .dataframe tbody tr th:only-of-type {\n",
       "        vertical-align: middle;\n",
       "    }\n",
       "\n",
       "    .dataframe tbody tr th {\n",
       "        vertical-align: top;\n",
       "    }\n",
       "\n",
       "    .dataframe thead th {\n",
       "        text-align: right;\n",
       "    }\n",
       "</style>\n",
       "<table border=\"1\" class=\"dataframe\">\n",
       "  <thead>\n",
       "    <tr style=\"text-align: right;\">\n",
       "      <th></th>\n",
       "      <th>Artist</th>\n",
       "      <th>Country</th>\n",
       "      <th>period_active</th>\n",
       "      <th>Year</th>\n",
       "      <th>Genre</th>\n",
       "      <th>TCU</th>\n",
       "      <th>Debut</th>\n",
       "      <th>Cart_In_period</th>\n",
       "    </tr>\n",
       "  </thead>\n",
       "  <tbody>\n",
       "    <tr>\n",
       "      <th>9</th>\n",
       "      <td>Eminem</td>\n",
       "      <td>United States</td>\n",
       "      <td>1996–present</td>\n",
       "      <td>1999</td>\n",
       "      <td>Hip-hop</td>\n",
       "      <td>325700000.0</td>\n",
       "      <td>1996</td>\n",
       "      <td>3</td>\n",
       "    </tr>\n",
       "    <tr>\n",
       "      <th>10</th>\n",
       "      <td>Mariah Carey</td>\n",
       "      <td>United States</td>\n",
       "      <td>1988–present</td>\n",
       "      <td>1990</td>\n",
       "      <td>R&amp;B / pop / soul / hip-hop</td>\n",
       "      <td>205800000.0</td>\n",
       "      <td>1988</td>\n",
       "      <td>2</td>\n",
       "    </tr>\n",
       "    <tr>\n",
       "      <th>34</th>\n",
       "      <td>Jay-Z</td>\n",
       "      <td>United States</td>\n",
       "      <td>1996–present</td>\n",
       "      <td>1996</td>\n",
       "      <td>Hip-hop</td>\n",
       "      <td>136400000.0</td>\n",
       "      <td>1996</td>\n",
       "      <td>0</td>\n",
       "    </tr>\n",
       "    <tr>\n",
       "      <th>37</th>\n",
       "      <td>Lil Wayne</td>\n",
       "      <td>United States</td>\n",
       "      <td>1996–present</td>\n",
       "      <td>1999</td>\n",
       "      <td>Hip-hop</td>\n",
       "      <td>188700000.0</td>\n",
       "      <td>1996</td>\n",
       "      <td>3</td>\n",
       "    </tr>\n",
       "    <tr>\n",
       "      <th>46</th>\n",
       "      <td>Coldplay</td>\n",
       "      <td>United Kingdom</td>\n",
       "      <td>1996–present</td>\n",
       "      <td>1999</td>\n",
       "      <td>Alternative rock / pop rock / pop</td>\n",
       "      <td>109400000.0</td>\n",
       "      <td>1996</td>\n",
       "      <td>3</td>\n",
       "    </tr>\n",
       "  </tbody>\n",
       "</table>\n",
       "</div>"
      ],
      "text/plain": [
       "          Artist         Country period_active  Year  \\\n",
       "9         Eminem   United States  1996–present  1999   \n",
       "10  Mariah Carey   United States  1988–present  1990   \n",
       "34         Jay-Z   United States  1996–present  1996   \n",
       "37     Lil Wayne   United States  1996–present  1999   \n",
       "46      Coldplay  United Kingdom  1996–present  1999   \n",
       "\n",
       "                                Genre          TCU  Debut  Cart_In_period  \n",
       "9                             Hip-hop  325700000.0   1996               3  \n",
       "10         R&B / pop / soul / hip-hop  205800000.0   1988               2  \n",
       "34                            Hip-hop  136400000.0   1996               0  \n",
       "37                            Hip-hop  188700000.0   1996               3  \n",
       "46  Alternative rock / pop rock / pop  109400000.0   1996               3  "
      ]
     },
     "execution_count": 189,
     "metadata": {},
     "output_type": "execute_result"
    }
   ],
   "source": [
    "artist_year_1990 = artist.loc[(artist['Year'] >= 1990) & (artist['Year'] <= 1999)]\n",
    "\n",
    "artist_year_1990.head()"
   ]
  },
  {
   "cell_type": "code",
   "execution_count": 170,
   "id": "83098db1",
   "metadata": {},
   "outputs": [
    {
     "data": {
      "text/plain": [
       "Hip-hop                                    4\n",
       "R&B / pop / soul / hip-hop                 1\n",
       "Alternative rock / pop rock / pop          1\n",
       "Pop / dance / dance-pop                    1\n",
       "Country pop                                1\n",
       "Pop                                        1\n",
       "R&B / pop / rock                           1\n",
       "R&B / pop                                  1\n",
       "Latin pop / pop / pop rock                 1\n",
       "Country                                    1\n",
       "Hip-hop / R&B / dance                      1\n",
       "J-pop / pop / dance / electronic           1\n",
       "R&B / soul / hip-hop                       1\n",
       "Grunge / alternative rock                  1\n",
       "Pop rock                                   1\n",
       "Punk rock / pop punk / alternative rock    1\n",
       "Name: Genre, dtype: int64"
      ]
     },
     "execution_count": 170,
     "metadata": {},
     "output_type": "execute_result"
    }
   ],
   "source": [
    "artist_year_1990['Genre'].value_counts()"
   ]
  },
  {
   "cell_type": "markdown",
   "id": "97a3c24a",
   "metadata": {},
   "source": [
    "=> 1990년대에 가장 인기있었던 장르는 Hip-hop이다"
   ]
  },
  {
   "cell_type": "markdown",
   "id": "640dac03",
   "metadata": {},
   "source": [
    "2000년 이후"
   ]
  },
  {
   "cell_type": "code",
   "execution_count": 188,
   "id": "a11d2440",
   "metadata": {},
   "outputs": [
    {
     "data": {
      "text/html": [
       "<div>\n",
       "<style scoped>\n",
       "    .dataframe tbody tr th:only-of-type {\n",
       "        vertical-align: middle;\n",
       "    }\n",
       "\n",
       "    .dataframe tbody tr th {\n",
       "        vertical-align: top;\n",
       "    }\n",
       "\n",
       "    .dataframe thead th {\n",
       "        text-align: right;\n",
       "    }\n",
       "</style>\n",
       "<table border=\"1\" class=\"dataframe\">\n",
       "  <thead>\n",
       "    <tr style=\"text-align: right;\">\n",
       "      <th></th>\n",
       "      <th>Artist</th>\n",
       "      <th>Country</th>\n",
       "      <th>period_active</th>\n",
       "      <th>Year</th>\n",
       "      <th>Genre</th>\n",
       "      <th>TCU</th>\n",
       "      <th>Debut</th>\n",
       "      <th>Cart_In_period</th>\n",
       "    </tr>\n",
       "  </thead>\n",
       "  <tbody>\n",
       "    <tr>\n",
       "      <th>7</th>\n",
       "      <td>Rihanna</td>\n",
       "      <td>Barbados</td>\n",
       "      <td>2005–present</td>\n",
       "      <td>2005</td>\n",
       "      <td>R&amp;B / pop / dance / hip-hop</td>\n",
       "      <td>335300000.0</td>\n",
       "      <td>2005</td>\n",
       "      <td>0</td>\n",
       "    </tr>\n",
       "    <tr>\n",
       "      <th>11</th>\n",
       "      <td>Taylor Swift</td>\n",
       "      <td>United States</td>\n",
       "      <td>2006–present</td>\n",
       "      <td>2006</td>\n",
       "      <td>Pop / country / rock / folk / alternative</td>\n",
       "      <td>250400000.0</td>\n",
       "      <td>2006</td>\n",
       "      <td>0</td>\n",
       "    </tr>\n",
       "    <tr>\n",
       "      <th>12</th>\n",
       "      <td>Beyoncé</td>\n",
       "      <td>United States</td>\n",
       "      <td>1997–present</td>\n",
       "      <td>2002</td>\n",
       "      <td>R&amp;B / pop</td>\n",
       "      <td>226500000.0</td>\n",
       "      <td>1997</td>\n",
       "      <td>5</td>\n",
       "    </tr>\n",
       "    <tr>\n",
       "      <th>18</th>\n",
       "      <td>Drake</td>\n",
       "      <td>Canada</td>\n",
       "      <td>2001–present</td>\n",
       "      <td>2009</td>\n",
       "      <td>Hip-hop / R&amp;B / pop</td>\n",
       "      <td>413060000.0</td>\n",
       "      <td>2001</td>\n",
       "      <td>8</td>\n",
       "    </tr>\n",
       "    <tr>\n",
       "      <th>20</th>\n",
       "      <td>Kanye West</td>\n",
       "      <td>United States</td>\n",
       "      <td>1996–present</td>\n",
       "      <td>2003</td>\n",
       "      <td>Hip-hop / electronic / pop</td>\n",
       "      <td>258300000.0</td>\n",
       "      <td>1996</td>\n",
       "      <td>7</td>\n",
       "    </tr>\n",
       "  </tbody>\n",
       "</table>\n",
       "</div>"
      ],
      "text/plain": [
       "          Artist        Country period_active  Year  \\\n",
       "7        Rihanna       Barbados  2005–present  2005   \n",
       "11  Taylor Swift  United States  2006–present  2006   \n",
       "12       Beyoncé  United States  1997–present  2002   \n",
       "18         Drake         Canada  2001–present  2009   \n",
       "20    Kanye West  United States  1996–present  2003   \n",
       "\n",
       "                                        Genre          TCU  Debut  \\\n",
       "7                 R&B / pop / dance / hip-hop  335300000.0   2005   \n",
       "11  Pop / country / rock / folk / alternative  250400000.0   2006   \n",
       "12                                  R&B / pop  226500000.0   1997   \n",
       "18                        Hip-hop / R&B / pop  413060000.0   2001   \n",
       "20                 Hip-hop / electronic / pop  258300000.0   1996   \n",
       "\n",
       "    Cart_In_period  \n",
       "7                0  \n",
       "11               0  \n",
       "12               5  \n",
       "18               8  \n",
       "20               7  "
      ]
     },
     "execution_count": 188,
     "metadata": {},
     "output_type": "execute_result"
    }
   ],
   "source": [
    "artist_year_2000 = artist.loc[(artist['Year'] >= 2000)]\n",
    "\n",
    "artist_year_2000.head()"
   ]
  },
  {
   "cell_type": "code",
   "execution_count": 172,
   "id": "f32c3beb",
   "metadata": {},
   "outputs": [
    {
     "data": {
      "text/plain": [
       "Hip-hop / R&B / pop                          2\n",
       "Pop / R&B                                    2\n",
       "Pop / R&B / hip-hop                          2\n",
       "R&B / pop / dance / hip-hop                  1\n",
       "Pop / soul                                   1\n",
       "Pop rock / electropop / pop                  1\n",
       "Hip-hop / hip house /EDM                     1\n",
       "Pop / R&B / neo soul                         1\n",
       "Pop / pop rock / R&B                         1\n",
       "Alternative rock / nu metal / rap rock       1\n",
       "Hip-hop / pop                                1\n",
       "Pop / dance / electronic                     1\n",
       "Pop rock / funk rock / dance-pop             1\n",
       "Pop / country / rock / folk / alternative    1\n",
       "Pop                                          1\n",
       "Pop rock / R&B                               1\n",
       "Pop / folk pop                               1\n",
       "Pop / teen pop / dance pop                   1\n",
       "Hip-hop / electronic / pop                   1\n",
       "R&B / pop                                    1\n",
       "Country / country pop                        1\n",
       "Name: Genre, dtype: int64"
      ]
     },
     "execution_count": 172,
     "metadata": {},
     "output_type": "execute_result"
    }
   ],
   "source": [
    "artist_year_2000['Genre'].value_counts()"
   ]
  },
  {
   "cell_type": "markdown",
   "id": "de3b1aff",
   "metadata": {},
   "source": [
    "=> 2000년대 이후는 Hip-hop / R&B / pop , Pop / R&B ... \n",
    "힙합과 알앤비 장르가 인기있는 장르이다."
   ]
  },
  {
   "cell_type": "code",
   "execution_count": 187,
   "id": "1b19226c",
   "metadata": {},
   "outputs": [
    {
     "data": {
      "text/html": [
       "<div>\n",
       "<style scoped>\n",
       "    .dataframe tbody tr th:only-of-type {\n",
       "        vertical-align: middle;\n",
       "    }\n",
       "\n",
       "    .dataframe tbody tr th {\n",
       "        vertical-align: top;\n",
       "    }\n",
       "\n",
       "    .dataframe thead th {\n",
       "        text-align: right;\n",
       "    }\n",
       "</style>\n",
       "<table border=\"1\" class=\"dataframe\">\n",
       "  <thead>\n",
       "    <tr style=\"text-align: right;\">\n",
       "      <th></th>\n",
       "      <th>Artist</th>\n",
       "    </tr>\n",
       "    <tr>\n",
       "      <th>Country</th>\n",
       "      <th></th>\n",
       "    </tr>\n",
       "  </thead>\n",
       "  <tbody>\n",
       "    <tr>\n",
       "      <th>United States</th>\n",
       "      <td>79</td>\n",
       "    </tr>\n",
       "    <tr>\n",
       "      <th>United Kingdom</th>\n",
       "      <td>20</td>\n",
       "    </tr>\n",
       "    <tr>\n",
       "      <th>Canada</th>\n",
       "      <td>5</td>\n",
       "    </tr>\n",
       "    <tr>\n",
       "      <th>Australia</th>\n",
       "      <td>2</td>\n",
       "    </tr>\n",
       "    <tr>\n",
       "      <th>Ireland</th>\n",
       "      <td>2</td>\n",
       "    </tr>\n",
       "    <tr>\n",
       "      <th>Japan</th>\n",
       "      <td>2</td>\n",
       "    </tr>\n",
       "    <tr>\n",
       "      <th>France</th>\n",
       "      <td>1</td>\n",
       "    </tr>\n",
       "    <tr>\n",
       "      <th>Jamaica</th>\n",
       "      <td>1</td>\n",
       "    </tr>\n",
       "    <tr>\n",
       "      <th>Barbados</th>\n",
       "      <td>1</td>\n",
       "    </tr>\n",
       "    <tr>\n",
       "      <th>Spain</th>\n",
       "      <td>1</td>\n",
       "    </tr>\n",
       "    <tr>\n",
       "      <th>Sweden</th>\n",
       "      <td>1</td>\n",
       "    </tr>\n",
       "    <tr>\n",
       "      <th>Trinidad and Tobago</th>\n",
       "      <td>1</td>\n",
       "    </tr>\n",
       "    <tr>\n",
       "      <th>Colombia</th>\n",
       "      <td>1</td>\n",
       "    </tr>\n",
       "    <tr>\n",
       "      <th>United Kingdom Australia[238][239]</th>\n",
       "      <td>1</td>\n",
       "    </tr>\n",
       "    <tr>\n",
       "      <th>United Kingdom United States</th>\n",
       "      <td>1</td>\n",
       "    </tr>\n",
       "    <tr>\n",
       "      <th>CanadaUnited States</th>\n",
       "      <td>1</td>\n",
       "    </tr>\n",
       "    <tr>\n",
       "      <th>United StatesUnited Kingdom</th>\n",
       "      <td>1</td>\n",
       "    </tr>\n",
       "  </tbody>\n",
       "</table>\n",
       "</div>"
      ],
      "text/plain": [
       "                                    Artist\n",
       "Country                                   \n",
       "United States                           79\n",
       "United Kingdom                          20\n",
       "Canada                                   5\n",
       "Australia                                2\n",
       "Ireland                                  2\n",
       "Japan                                    2\n",
       "France                                   1\n",
       "Jamaica                                  1\n",
       "Barbados                                 1\n",
       "Spain                                    1\n",
       "Sweden                                   1\n",
       "Trinidad and Tobago                      1\n",
       "Colombia                                 1\n",
       "United Kingdom Australia[238][239]       1\n",
       "United Kingdom United States             1\n",
       "CanadaUnited States                      1\n",
       "United StatesUnited Kingdom              1"
      ]
     },
     "execution_count": 187,
     "metadata": {},
     "output_type": "execute_result"
    }
   ],
   "source": [
    "country_aritst=pd.DataFrame(artist.groupby('Country')['Artist'].count())\n",
    "country_aritst.sort_values('Artist',ascending=0)"
   ]
  },
  {
   "cell_type": "code",
   "execution_count": 256,
   "id": "7eac23c4",
   "metadata": {},
   "outputs": [],
   "source": [
    "artist.loc[artist['Country']=='United Kingdom United States','Country']='United Kingdom'"
   ]
  },
  {
   "cell_type": "code",
   "execution_count": 257,
   "id": "8b9504c0",
   "metadata": {},
   "outputs": [],
   "source": [
    "artist.loc[artist['Country']=='CanadaUnited States','Country']='Canada'"
   ]
  },
  {
   "cell_type": "code",
   "execution_count": 258,
   "id": "e2b77bf2",
   "metadata": {},
   "outputs": [],
   "source": [
    "artist.loc[artist['Country']=='United StatesUnited Kingdom','Country']='United States'"
   ]
  },
  {
   "cell_type": "code",
   "execution_count": 259,
   "id": "15f74022",
   "metadata": {},
   "outputs": [],
   "source": [
    "artist.loc[artist['Country']=='United Kingdom Australia[238][239]','Country']='Australia'"
   ]
  },
  {
   "cell_type": "code",
   "execution_count": 260,
   "id": "05bcce56",
   "metadata": {},
   "outputs": [
    {
     "data": {
      "text/plain": [
       "array(['United Kingdom', 'United States', 'Barbados', 'Canada',\n",
       "       'Australia', 'Ireland', 'Sweden', 'Trinidad and Tobago', 'Japan',\n",
       "       'Spain', 'Colombia', 'France', 'Jamaica'], dtype=object)"
      ]
     },
     "execution_count": 260,
     "metadata": {},
     "output_type": "execute_result"
    }
   ],
   "source": [
    "artist['Country'].unique()"
   ]
  },
  {
   "cell_type": "markdown",
   "id": "54641e31",
   "metadata": {},
   "source": [
    "=>바꿔야한다"
   ]
  },
  {
   "cell_type": "markdown",
   "id": "1c65b2cc",
   "metadata": {},
   "source": [
    "# 목표: 현재까지 활동을 하는 가수들 중 사랑받는 장르를 구한다"
   ]
  },
  {
   "cell_type": "code",
   "execution_count": 223,
   "id": "3473d0d5",
   "metadata": {},
   "outputs": [],
   "source": [
    "artist['Until']=artist.period_active.str.split('–').str[-1]"
   ]
  },
  {
   "cell_type": "code",
   "execution_count": 230,
   "id": "bef2990d",
   "metadata": {},
   "outputs": [],
   "source": [
    "# if artist.Until.str.contains('-'):\n",
    "#     artist['Until']=artist.period_active.str.split('-').str[-1]"
   ]
  },
  {
   "cell_type": "code",
   "execution_count": 232,
   "id": "ad7d08ac",
   "metadata": {},
   "outputs": [],
   "source": [
    "artist['Until']=artist['Until'].str.replace('present','2022')"
   ]
  },
  {
   "cell_type": "code",
   "execution_count": 233,
   "id": "384f3bd2",
   "metadata": {},
   "outputs": [
    {
     "data": {
      "text/plain": [
       "0    1970\n",
       "1    1977\n",
       "2    2009\n",
       "3    2022\n",
       "4    2022\n",
       "Name: Until, dtype: object"
      ]
     },
     "execution_count": 233,
     "metadata": {},
     "output_type": "execute_result"
    }
   ],
   "source": [
    "artist['Until'].head()"
   ]
  },
  {
   "cell_type": "code",
   "execution_count": 240,
   "id": "b13bb480",
   "metadata": {},
   "outputs": [
    {
     "data": {
      "text/plain": [
       "Rock                                 7\n",
       "Rock / pop                           4\n",
       "Pop / rock                           3\n",
       "R&B / pop                            3\n",
       "Pop                                  3\n",
       "                                    ..\n",
       "Hard rock / glam metal               1\n",
       "Hip-hop / pop                        1\n",
       "Alternative rock / pop rock / pop    1\n",
       "Pop / pop rock / R&B                 1\n",
       "Pop / soft rock                      1\n",
       "Name: Genre, Length: 64, dtype: int64"
      ]
     },
     "execution_count": 240,
     "metadata": {},
     "output_type": "execute_result"
    }
   ],
   "source": [
    "present_artist=artist[artist['Until']=='2022']\n",
    "present_artist['Genre'].value_counts()"
   ]
  },
  {
   "cell_type": "code",
   "execution_count": 261,
   "id": "b66db478",
   "metadata": {},
   "outputs": [
    {
     "name": "stderr",
     "output_type": "stream",
     "text": [
      "C:\\Users\\tj\\AppData\\Local\\Temp\\ipykernel_16148\\635316106.py:1: FutureWarning: Indexing with multiple keys (implicitly converted to a tuple of keys) will be deprecated, use a list instead.\n",
      "  artist.groupby('Country')['Artist','Genre'].count()\n"
     ]
    },
    {
     "data": {
      "text/html": [
       "<div>\n",
       "<style scoped>\n",
       "    .dataframe tbody tr th:only-of-type {\n",
       "        vertical-align: middle;\n",
       "    }\n",
       "\n",
       "    .dataframe tbody tr th {\n",
       "        vertical-align: top;\n",
       "    }\n",
       "\n",
       "    .dataframe thead th {\n",
       "        text-align: right;\n",
       "    }\n",
       "</style>\n",
       "<table border=\"1\" class=\"dataframe\">\n",
       "  <thead>\n",
       "    <tr style=\"text-align: right;\">\n",
       "      <th></th>\n",
       "      <th>Artist</th>\n",
       "      <th>Genre</th>\n",
       "    </tr>\n",
       "    <tr>\n",
       "      <th>Country</th>\n",
       "      <th></th>\n",
       "      <th></th>\n",
       "    </tr>\n",
       "  </thead>\n",
       "  <tbody>\n",
       "    <tr>\n",
       "      <th>Australia</th>\n",
       "      <td>3</td>\n",
       "      <td>3</td>\n",
       "    </tr>\n",
       "    <tr>\n",
       "      <th>Barbados</th>\n",
       "      <td>1</td>\n",
       "      <td>1</td>\n",
       "    </tr>\n",
       "    <tr>\n",
       "      <th>Canada</th>\n",
       "      <td>6</td>\n",
       "      <td>6</td>\n",
       "    </tr>\n",
       "    <tr>\n",
       "      <th>Colombia</th>\n",
       "      <td>1</td>\n",
       "      <td>1</td>\n",
       "    </tr>\n",
       "    <tr>\n",
       "      <th>France</th>\n",
       "      <td>1</td>\n",
       "      <td>1</td>\n",
       "    </tr>\n",
       "    <tr>\n",
       "      <th>Ireland</th>\n",
       "      <td>2</td>\n",
       "      <td>2</td>\n",
       "    </tr>\n",
       "    <tr>\n",
       "      <th>Jamaica</th>\n",
       "      <td>1</td>\n",
       "      <td>1</td>\n",
       "    </tr>\n",
       "    <tr>\n",
       "      <th>Japan</th>\n",
       "      <td>2</td>\n",
       "      <td>2</td>\n",
       "    </tr>\n",
       "    <tr>\n",
       "      <th>Spain</th>\n",
       "      <td>1</td>\n",
       "      <td>1</td>\n",
       "    </tr>\n",
       "    <tr>\n",
       "      <th>Sweden</th>\n",
       "      <td>1</td>\n",
       "      <td>1</td>\n",
       "    </tr>\n",
       "    <tr>\n",
       "      <th>Trinidad and Tobago</th>\n",
       "      <td>1</td>\n",
       "      <td>1</td>\n",
       "    </tr>\n",
       "    <tr>\n",
       "      <th>United Kingdom</th>\n",
       "      <td>21</td>\n",
       "      <td>21</td>\n",
       "    </tr>\n",
       "    <tr>\n",
       "      <th>United States</th>\n",
       "      <td>80</td>\n",
       "      <td>80</td>\n",
       "    </tr>\n",
       "  </tbody>\n",
       "</table>\n",
       "</div>"
      ],
      "text/plain": [
       "                     Artist  Genre\n",
       "Country                           \n",
       "Australia                 3      3\n",
       "Barbados                  1      1\n",
       "Canada                    6      6\n",
       "Colombia                  1      1\n",
       "France                    1      1\n",
       "Ireland                   2      2\n",
       "Jamaica                   1      1\n",
       "Japan                     2      2\n",
       "Spain                     1      1\n",
       "Sweden                    1      1\n",
       "Trinidad and Tobago       1      1\n",
       "United Kingdom           21     21\n",
       "United States            80     80"
      ]
     },
     "execution_count": 261,
     "metadata": {},
     "output_type": "execute_result"
    }
   ],
   "source": [
    "artist.groupby('Country')['Artist','Genre'].count()"
   ]
  },
  {
   "cell_type": "code",
   "execution_count": null,
   "id": "1ec7c367",
   "metadata": {},
   "outputs": [],
   "source": []
  },
  {
   "cell_type": "code",
   "execution_count": null,
   "id": "bfe48645",
   "metadata": {},
   "outputs": [],
   "source": []
  }
 ],
 "metadata": {
  "kernelspec": {
   "display_name": "Python 3 (ipykernel)",
   "language": "python",
   "name": "python3"
  },
  "language_info": {
   "codemirror_mode": {
    "name": "ipython",
    "version": 3
   },
   "file_extension": ".py",
   "mimetype": "text/x-python",
   "name": "python",
   "nbconvert_exporter": "python",
   "pygments_lexer": "ipython3",
   "version": "3.9.13"
  }
 },
 "nbformat": 4,
 "nbformat_minor": 5
}
