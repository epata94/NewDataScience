{
 "cells": [
  {
   "cell_type": "code",
   "execution_count": 66,
   "id": "095faa5a",
   "metadata": {},
   "outputs": [],
   "source": [
    "import pandas as pd\n",
    "import numpy as np\n",
    "import seaborn as sns"
   ]
  },
  {
   "cell_type": "code",
   "execution_count": 4,
   "id": "ba62bec6",
   "metadata": {},
   "outputs": [
    {
     "data": {
      "text/plain": [
       "(210, 12)"
      ]
     },
     "execution_count": 4,
     "metadata": {},
     "output_type": "execute_result"
    }
   ],
   "source": [
    "nls97 = pd.read_csv(\"data/nls97.csv\")\n",
    "covidtotals = pd.read_csv(\"data/covidtotals.csv\",\n",
    "  parse_dates=['lastdate'])"
   ]
  },
  {
   "cell_type": "code",
   "execution_count": 9,
   "id": "a56d20a9",
   "metadata": {},
   "outputs": [
    {
     "data": {
      "text/html": [
       "<div>\n",
       "<style scoped>\n",
       "    .dataframe tbody tr th:only-of-type {\n",
       "        vertical-align: middle;\n",
       "    }\n",
       "\n",
       "    .dataframe tbody tr th {\n",
       "        vertical-align: top;\n",
       "    }\n",
       "\n",
       "    .dataframe thead th {\n",
       "        text-align: right;\n",
       "    }\n",
       "</style>\n",
       "<table border=\"1\" class=\"dataframe\">\n",
       "  <thead>\n",
       "    <tr style=\"text-align: right;\">\n",
       "      <th></th>\n",
       "      <th>personid</th>\n",
       "      <th>gender</th>\n",
       "      <th>birthmonth</th>\n",
       "      <th>birthyear</th>\n",
       "      <th>highestgradecompleted</th>\n",
       "      <th>maritalstatus</th>\n",
       "      <th>childathome</th>\n",
       "      <th>childnotathome</th>\n",
       "      <th>wageincome</th>\n",
       "      <th>weeklyhrscomputer</th>\n",
       "      <th>...</th>\n",
       "      <th>colenrfeb13</th>\n",
       "      <th>colenroct13</th>\n",
       "      <th>colenrfeb14</th>\n",
       "      <th>colenroct14</th>\n",
       "      <th>colenrfeb15</th>\n",
       "      <th>colenroct15</th>\n",
       "      <th>colenrfeb16</th>\n",
       "      <th>colenroct16</th>\n",
       "      <th>colenrfeb17</th>\n",
       "      <th>colenroct17</th>\n",
       "    </tr>\n",
       "  </thead>\n",
       "  <tbody>\n",
       "    <tr>\n",
       "      <th>0</th>\n",
       "      <td>100061</td>\n",
       "      <td>Female</td>\n",
       "      <td>5</td>\n",
       "      <td>1980</td>\n",
       "      <td>13.0</td>\n",
       "      <td>Married</td>\n",
       "      <td>4.0</td>\n",
       "      <td>0.0</td>\n",
       "      <td>12500.0</td>\n",
       "      <td>10 hours or more a week</td>\n",
       "      <td>...</td>\n",
       "      <td>1. Not enrolled</td>\n",
       "      <td>1. Not enrolled</td>\n",
       "      <td>1. Not enrolled</td>\n",
       "      <td>1. Not enrolled</td>\n",
       "      <td>1. Not enrolled</td>\n",
       "      <td>1. Not enrolled</td>\n",
       "      <td>1. Not enrolled</td>\n",
       "      <td>1. Not enrolled</td>\n",
       "      <td>1. Not enrolled</td>\n",
       "      <td>1. Not enrolled</td>\n",
       "    </tr>\n",
       "    <tr>\n",
       "      <th>1</th>\n",
       "      <td>100139</td>\n",
       "      <td>Male</td>\n",
       "      <td>9</td>\n",
       "      <td>1983</td>\n",
       "      <td>12.0</td>\n",
       "      <td>Married</td>\n",
       "      <td>2.0</td>\n",
       "      <td>0.0</td>\n",
       "      <td>120000.0</td>\n",
       "      <td>1 to 3 hours a week</td>\n",
       "      <td>...</td>\n",
       "      <td>1. Not enrolled</td>\n",
       "      <td>1. Not enrolled</td>\n",
       "      <td>1. Not enrolled</td>\n",
       "      <td>1. Not enrolled</td>\n",
       "      <td>1. Not enrolled</td>\n",
       "      <td>1. Not enrolled</td>\n",
       "      <td>1. Not enrolled</td>\n",
       "      <td>1. Not enrolled</td>\n",
       "      <td>1. Not enrolled</td>\n",
       "      <td>1. Not enrolled</td>\n",
       "    </tr>\n",
       "    <tr>\n",
       "      <th>2</th>\n",
       "      <td>100284</td>\n",
       "      <td>Male</td>\n",
       "      <td>11</td>\n",
       "      <td>1984</td>\n",
       "      <td>7.0</td>\n",
       "      <td>Never-married</td>\n",
       "      <td>1.0</td>\n",
       "      <td>0.0</td>\n",
       "      <td>58000.0</td>\n",
       "      <td>None</td>\n",
       "      <td>...</td>\n",
       "      <td>1. Not enrolled</td>\n",
       "      <td>1. Not enrolled</td>\n",
       "      <td>1. Not enrolled</td>\n",
       "      <td>1. Not enrolled</td>\n",
       "      <td>1. Not enrolled</td>\n",
       "      <td>1. Not enrolled</td>\n",
       "      <td>1. Not enrolled</td>\n",
       "      <td>1. Not enrolled</td>\n",
       "      <td>1. Not enrolled</td>\n",
       "      <td>1. Not enrolled</td>\n",
       "    </tr>\n",
       "    <tr>\n",
       "      <th>3</th>\n",
       "      <td>100292</td>\n",
       "      <td>Male</td>\n",
       "      <td>4</td>\n",
       "      <td>1982</td>\n",
       "      <td>NaN</td>\n",
       "      <td>NaN</td>\n",
       "      <td>NaN</td>\n",
       "      <td>NaN</td>\n",
       "      <td>NaN</td>\n",
       "      <td>NaN</td>\n",
       "      <td>...</td>\n",
       "      <td>1. Not enrolled</td>\n",
       "      <td>1. Not enrolled</td>\n",
       "      <td>1. Not enrolled</td>\n",
       "      <td>1. Not enrolled</td>\n",
       "      <td>1. Not enrolled</td>\n",
       "      <td>1. Not enrolled</td>\n",
       "      <td>NaN</td>\n",
       "      <td>NaN</td>\n",
       "      <td>NaN</td>\n",
       "      <td>NaN</td>\n",
       "    </tr>\n",
       "    <tr>\n",
       "      <th>4</th>\n",
       "      <td>100583</td>\n",
       "      <td>Male</td>\n",
       "      <td>1</td>\n",
       "      <td>1980</td>\n",
       "      <td>13.0</td>\n",
       "      <td>Married</td>\n",
       "      <td>4.0</td>\n",
       "      <td>0.0</td>\n",
       "      <td>30000.0</td>\n",
       "      <td>Less than 1 hour a week</td>\n",
       "      <td>...</td>\n",
       "      <td>1. Not enrolled</td>\n",
       "      <td>1. Not enrolled</td>\n",
       "      <td>1. Not enrolled</td>\n",
       "      <td>1. Not enrolled</td>\n",
       "      <td>1. Not enrolled</td>\n",
       "      <td>1. Not enrolled</td>\n",
       "      <td>1. Not enrolled</td>\n",
       "      <td>1. Not enrolled</td>\n",
       "      <td>1. Not enrolled</td>\n",
       "      <td>1. Not enrolled</td>\n",
       "    </tr>\n",
       "  </tbody>\n",
       "</table>\n",
       "<p>5 rows × 89 columns</p>\n",
       "</div>"
      ],
      "text/plain": [
       "   personid  gender  birthmonth  birthyear  highestgradecompleted  \\\n",
       "0    100061  Female           5       1980                   13.0   \n",
       "1    100139    Male           9       1983                   12.0   \n",
       "2    100284    Male          11       1984                    7.0   \n",
       "3    100292    Male           4       1982                    NaN   \n",
       "4    100583    Male           1       1980                   13.0   \n",
       "\n",
       "   maritalstatus  childathome  childnotathome  wageincome  \\\n",
       "0        Married          4.0             0.0     12500.0   \n",
       "1        Married          2.0             0.0    120000.0   \n",
       "2  Never-married          1.0             0.0     58000.0   \n",
       "3            NaN          NaN             NaN         NaN   \n",
       "4        Married          4.0             0.0     30000.0   \n",
       "\n",
       "         weeklyhrscomputer  ...      colenrfeb13      colenroct13  \\\n",
       "0  10 hours or more a week  ...  1. Not enrolled  1. Not enrolled   \n",
       "1      1 to 3 hours a week  ...  1. Not enrolled  1. Not enrolled   \n",
       "2                     None  ...  1. Not enrolled  1. Not enrolled   \n",
       "3                      NaN  ...  1. Not enrolled  1. Not enrolled   \n",
       "4  Less than 1 hour a week  ...  1. Not enrolled  1. Not enrolled   \n",
       "\n",
       "       colenrfeb14      colenroct14      colenrfeb15      colenroct15  \\\n",
       "0  1. Not enrolled  1. Not enrolled  1. Not enrolled  1. Not enrolled   \n",
       "1  1. Not enrolled  1. Not enrolled  1. Not enrolled  1. Not enrolled   \n",
       "2  1. Not enrolled  1. Not enrolled  1. Not enrolled  1. Not enrolled   \n",
       "3  1. Not enrolled  1. Not enrolled  1. Not enrolled  1. Not enrolled   \n",
       "4  1. Not enrolled  1. Not enrolled  1. Not enrolled  1. Not enrolled   \n",
       "\n",
       "       colenrfeb16      colenroct16      colenrfeb17      colenroct17  \n",
       "0  1. Not enrolled  1. Not enrolled  1. Not enrolled  1. Not enrolled  \n",
       "1  1. Not enrolled  1. Not enrolled  1. Not enrolled  1. Not enrolled  \n",
       "2  1. Not enrolled  1. Not enrolled  1. Not enrolled  1. Not enrolled  \n",
       "3              NaN              NaN              NaN              NaN  \n",
       "4  1. Not enrolled  1. Not enrolled  1. Not enrolled  1. Not enrolled  \n",
       "\n",
       "[5 rows x 89 columns]"
      ]
     },
     "execution_count": 9,
     "metadata": {},
     "output_type": "execute_result"
    }
   ],
   "source": [
    "nls97.head()"
   ]
  },
  {
   "cell_type": "code",
   "execution_count": 10,
   "id": "4c2ccbae",
   "metadata": {},
   "outputs": [
    {
     "data": {
      "text/plain": [
       "(8984, 89)"
      ]
     },
     "execution_count": 10,
     "metadata": {},
     "output_type": "execute_result"
    }
   ],
   "source": [
    "nls97.shape"
   ]
  },
  {
   "cell_type": "code",
   "execution_count": 11,
   "id": "f38a8fdf",
   "metadata": {},
   "outputs": [
    {
     "name": "stdout",
     "output_type": "stream",
     "text": [
      "<class 'pandas.core.frame.DataFrame'>\n",
      "RangeIndex: 8984 entries, 0 to 8983\n",
      "Data columns (total 89 columns):\n",
      " #   Column                 Non-Null Count  Dtype  \n",
      "---  ------                 --------------  -----  \n",
      " 0   personid               8984 non-null   int64  \n",
      " 1   gender                 8984 non-null   object \n",
      " 2   birthmonth             8984 non-null   int64  \n",
      " 3   birthyear              8984 non-null   int64  \n",
      " 4   highestgradecompleted  6663 non-null   float64\n",
      " 5   maritalstatus          6672 non-null   object \n",
      " 6   childathome            4791 non-null   float64\n",
      " 7   childnotathome         4791 non-null   float64\n",
      " 8   wageincome             5091 non-null   float64\n",
      " 9   weeklyhrscomputer      6710 non-null   object \n",
      " 10  weeklyhrstv            6711 non-null   object \n",
      " 11  nightlyhrssleep        6706 non-null   float64\n",
      " 12  satverbal              1406 non-null   float64\n",
      " 13  satmath                1407 non-null   float64\n",
      " 14  gpaoverall             6004 non-null   float64\n",
      " 15  gpaenglish             5798 non-null   float64\n",
      " 16  gpamath                5766 non-null   float64\n",
      " 17  gpascience             5684 non-null   float64\n",
      " 18  highestdegree          8953 non-null   object \n",
      " 19  govprovidejobs         1833 non-null   object \n",
      " 20  govpricecontrols       1859 non-null   object \n",
      " 21  govhealthcare          1874 non-null   object \n",
      " 22  govelderliving         1872 non-null   object \n",
      " 23  govindhelp             1815 non-null   object \n",
      " 24  govunemp               1811 non-null   object \n",
      " 25  govincomediff          1775 non-null   object \n",
      " 26  govcollegefinance      1875 non-null   object \n",
      " 27  govdecenthousing       1847 non-null   object \n",
      " 28  govprotectenvironment  1860 non-null   object \n",
      " 29  weeksworked00          8603 non-null   float64\n",
      " 30  weeksworked01          8564 non-null   float64\n",
      " 31  weeksworked02          8556 non-null   float64\n",
      " 32  weeksworked03          8490 non-null   float64\n",
      " 33  weeksworked04          8458 non-null   float64\n",
      " 34  weeksworked05          8403 non-null   float64\n",
      " 35  weeksworked06          8340 non-null   float64\n",
      " 36  weeksworked07          8272 non-null   float64\n",
      " 37  weeksworked08          8186 non-null   float64\n",
      " 38  weeksworked09          8146 non-null   float64\n",
      " 39  weeksworked10          8054 non-null   float64\n",
      " 40  weeksworked11          7968 non-null   float64\n",
      " 41  weeksworked12          7747 non-null   float64\n",
      " 42  weeksworked13          7680 non-null   float64\n",
      " 43  weeksworked14          7612 non-null   float64\n",
      " 44  weeksworked15          7389 non-null   float64\n",
      " 45  weeksworked16          7068 non-null   float64\n",
      " 46  weeksworked17          6670 non-null   float64\n",
      " 47  colenrfeb97            1250 non-null   object \n",
      " 48  colenroct97            8501 non-null   object \n",
      " 49  colenrfeb98            8501 non-null   object \n",
      " 50  colenroct98            8888 non-null   object \n",
      " 51  colenrfeb99            8865 non-null   object \n",
      " 52  colenroct99            8851 non-null   object \n",
      " 53  colenrfeb00            8820 non-null   object \n",
      " 54  colenroct00            8805 non-null   object \n",
      " 55  colenrfeb01            8786 non-null   object \n",
      " 56  colenroct01            8758 non-null   object \n",
      " 57  colenrfeb02            8732 non-null   object \n",
      " 58  colenroct02            8698 non-null   object \n",
      " 59  colenrfeb03            8658 non-null   object \n",
      " 60  colenroct03            8622 non-null   object \n",
      " 61  colenrfeb04            8578 non-null   object \n",
      " 62  colenroct04            8546 non-null   object \n",
      " 63  colenrfeb05            8508 non-null   object \n",
      " 64  colenroct05            8471 non-null   object \n",
      " 65  colenrfeb06            8426 non-null   object \n",
      " 66  colenroct06            8407 non-null   object \n",
      " 67  colenrfeb07            8352 non-null   object \n",
      " 68  colenroct07            8331 non-null   object \n",
      " 69  colenrfeb08            8289 non-null   object \n",
      " 70  colenroct08            8280 non-null   object \n",
      " 71  colenrfeb09            8236 non-null   object \n",
      " 72  colenroct09            8193 non-null   object \n",
      " 73  colenrfeb10            8116 non-null   object \n",
      " 74  colenroct10            8091 non-null   object \n",
      " 75  colenrfeb11            8037 non-null   object \n",
      " 76  colenroct11            7972 non-null   object \n",
      " 77  colenrfeb12            7794 non-null   object \n",
      " 78  colenroct12            7754 non-null   object \n",
      " 79  colenrfeb13            7754 non-null   object \n",
      " 80  colenroct13            7754 non-null   object \n",
      " 81  colenrfeb14            7624 non-null   object \n",
      " 82  colenroct14            7469 non-null   object \n",
      " 83  colenrfeb15            7469 non-null   object \n",
      " 84  colenroct15            7469 non-null   object \n",
      " 85  colenrfeb16            7036 non-null   object \n",
      " 86  colenroct16            6733 non-null   object \n",
      " 87  colenrfeb17            6733 non-null   object \n",
      " 88  colenroct17            6734 non-null   object \n",
      "dtypes: float64(29), int64(3), object(57)\n",
      "memory usage: 6.1+ MB\n"
     ]
    }
   ],
   "source": [
    "# 다수의 컬럼 정보도 info()를 통해 확인\n",
    "nls97.info()"
   ]
  },
  {
   "cell_type": "markdown",
   "id": "00ca4b7c",
   "metadata": {},
   "source": [
    "#### highestgradecompleted"
   ]
  },
  {
   "cell_type": "code",
   "execution_count": 55,
   "id": "ee23d3fe",
   "metadata": {},
   "outputs": [
    {
     "data": {
      "text/plain": [
       "12.0    1389\n",
       "16.0    1016\n",
       "14.0     750\n",
       "13.0     538\n",
       "18.0     407\n",
       "15.0     397\n",
       "17.0     388\n",
       "11.0     364\n",
       "20.0     333\n",
       "10.0     329\n",
       "9.0      292\n",
       "19.0     203\n",
       "8.0      198\n",
       "7.0       31\n",
       "6.0       16\n",
       "95.0      11\n",
       "5.0        1\n",
       "Name: highestgradecompleted, dtype: int64"
      ]
     },
     "execution_count": 55,
     "metadata": {},
     "output_type": "execute_result"
    }
   ],
   "source": [
    "nls97['highestgradecompleted'].value_counts()"
   ]
  },
  {
   "cell_type": "markdown",
   "id": "4180d88b",
   "metadata": {},
   "source": [
    "<table class=\"sticky-enabled\">\n",
    " <thead><tr><th>Value</th><th>Value Meaning</th><th>Description</th><th>Display Order</th> </tr></thead>\n",
    "<tbody>\n",
    " <tr class=\"odd\"><td>No Formal Schooling</td><td>Never attended / kindergarten only</td><td>Indicates that a person never attended school or only attended kindergarten.</td><td>0</td> </tr>\n",
    " <tr class=\"even\"><td>1st Grade</td><td>1st Grade</td><td>Indicates that 1st grade is the highest level of educational achievement.</td><td>1</td> </tr>\n",
    " <tr class=\"odd\"><td>2nd Grade</td><td>2nd Grade</td><td>Indicates that 2nd grade is the highest level of educational achievement.</td><td>2</td> </tr>\n",
    " <tr class=\"even\"><td>3rd Grade</td><td>3rd Grade</td><td>Indicates that 3rd grade is the highest level of educational achievement.</td><td>3</td> </tr>\n",
    " <tr class=\"odd\"><td>4th Grade</td><td>4th Grade</td><td>Indicates that 4th grade is the highest level of educational achievement.</td><td>4</td> </tr>\n",
    " <tr class=\"even\"><td>5th Grade</td><td>5th Grade</td><td>Indicates that 5th grade is the highest level of educational achievement.</td><td>5</td> </tr>\n",
    " <tr class=\"odd\"><td>6th Grade</td><td>6th Grade</td><td>Indicates that 6th grade is the highest level of educational achievement.</td><td>6</td> </tr>\n",
    " <tr class=\"even\"><td>7th Grade</td><td>7th Grade</td><td>Indicates that 7th grade is the highest level of educational achievement</td><td>7</td> </tr>\n",
    " <tr class=\"odd\"><td>8th Grade</td><td>8th Grade</td><td>Indicates that 8th grade is the highest level of educational achievement</td><td>8</td> </tr>\n",
    " <tr class=\"even\"><td>9th Grade</td><td>9th Grade</td><td>Indicates that 9th grade is the highest level of educational achievement</td><td>9</td> </tr>\n",
    " <tr class=\"odd\"><td>10th Grade</td><td>10th Grade</td><td>Indicates that 10th grade is the highest level of educational achievement</td><td>10</td> </tr>\n",
    " <tr class=\"even\"><td>11th Grade</td><td>11th Grade</td><td>Indicates that 11th grade is the highest level of educational achievement</td><td>11</td> </tr>\n",
    " <tr class=\"odd\"><td>12th Grade No Diploma</td><td>12th Grade</td><td>Indicates that a person was in school through 12th grade but that they did not receive a high school diploma.</td><td>12</td> </tr>\n",
    " <tr class=\"even\"><td>High School Graduate</td><td>High School Graduate</td><td>Indicates that a person has attended high school and has received a high school diploma.</td><td>13</td> </tr>\n",
    " <tr class=\"odd\"><td>General Equivalency Diploma</td><td>GED or equivalent</td><td>Indicates that a person has received a General Equivalency Diploma in lieu of a high school diploma.</td><td>14</td> </tr>\n",
    " <tr class=\"even\"><td>Some College, No Degree</td><td>Some College</td><td>Indicates that a person has attended college but that they did not receive any degree.</td><td>15</td> </tr>\n",
    " <tr class=\"odd\"><td>VoTech Program</td><td>Associate&#039;s degree: occupational, technical or vocational program</td><td>Indicates that a person has received a degree from a occupational, technical, or vocational program.</td><td>16</td> </tr>\n",
    " <tr class=\"even\"><td>Associate Degree</td><td>Associate&#039;s degree: academic program</td><td>Indicates that a person has received a degree from a 2 year college program.</td><td>17</td> </tr>\n",
    " <tr class=\"odd\"><td>Bachelor Degree</td><td>Bachelor&#039;s degree</td><td>Indicates that a person has received a degree for successful completion of a program of studies that normally requires at least 4-5 years of full-time equivalent college-level work.</td><td>18</td> </tr>\n",
    " <tr class=\"even\"><td>Master&#039;s Degree</td><td>Master&#039;s Degree Completion</td><td>Indicates that a person has received a degree for completion of at least one year of prescribed study beyond the bachelor&#039;s degree.</td><td>19</td> </tr>\n",
    " <tr class=\"odd\"><td>Professional Doctorate Degree</td><td>Professional school degree</td><td>Indicates that a person has received a degree allowing them to practice a profession, such as law, medicine, music, or ministry.</td><td>20</td> </tr>\n",
    " <tr class=\"even\"><td>Academic Doctorate Degree</td><td>Doctoral degree</td><td>Indicates that a person has received a degree the highest award earned for graduate study.</td><td>21</td> </tr>\n",
    " <tr class=\"odd\"><td>Refused</td><td>Refuse</td><td>To decline to do, accept, give, or allow something.</td><td>22</td> </tr>\n",
    " <tr class=\"even\"><td>Don&#039;t Know</td><td>Does Not Know</td><td>The answer is not known by the person answering.</td><td>23</td> </tr>\n",
    "</tbody>\n",
    "</table>"
   ]
  },
  {
   "cell_type": "code",
   "execution_count": 57,
   "id": "ca05c8dc",
   "metadata": {},
   "outputs": [
    {
     "data": {
      "text/html": [
       "<div>\n",
       "<style scoped>\n",
       "    .dataframe tbody tr th:only-of-type {\n",
       "        vertical-align: middle;\n",
       "    }\n",
       "\n",
       "    .dataframe tbody tr th {\n",
       "        vertical-align: top;\n",
       "    }\n",
       "\n",
       "    .dataframe thead th {\n",
       "        text-align: right;\n",
       "    }\n",
       "</style>\n",
       "<table border=\"1\" class=\"dataframe\">\n",
       "  <thead>\n",
       "    <tr style=\"text-align: right;\">\n",
       "      <th></th>\n",
       "      <th>gender</th>\n",
       "      <th>birthmonth</th>\n",
       "      <th>birthyear</th>\n",
       "      <th>highestgradecompleted</th>\n",
       "      <th>maritalstatus</th>\n",
       "      <th>childathome</th>\n",
       "      <th>childnotathome</th>\n",
       "      <th>wageincome</th>\n",
       "      <th>weeklyhrscomputer</th>\n",
       "      <th>weeklyhrstv</th>\n",
       "      <th>...</th>\n",
       "      <th>colenrfeb13</th>\n",
       "      <th>colenroct13</th>\n",
       "      <th>colenrfeb14</th>\n",
       "      <th>colenroct14</th>\n",
       "      <th>colenrfeb15</th>\n",
       "      <th>colenroct15</th>\n",
       "      <th>colenrfeb16</th>\n",
       "      <th>colenroct16</th>\n",
       "      <th>colenrfeb17</th>\n",
       "      <th>colenroct17</th>\n",
       "    </tr>\n",
       "    <tr>\n",
       "      <th>personid</th>\n",
       "      <th></th>\n",
       "      <th></th>\n",
       "      <th></th>\n",
       "      <th></th>\n",
       "      <th></th>\n",
       "      <th></th>\n",
       "      <th></th>\n",
       "      <th></th>\n",
       "      <th></th>\n",
       "      <th></th>\n",
       "      <th></th>\n",
       "      <th></th>\n",
       "      <th></th>\n",
       "      <th></th>\n",
       "      <th></th>\n",
       "      <th></th>\n",
       "      <th></th>\n",
       "      <th></th>\n",
       "      <th></th>\n",
       "      <th></th>\n",
       "      <th></th>\n",
       "    </tr>\n",
       "  </thead>\n",
       "  <tbody>\n",
       "    <tr>\n",
       "      <th>100061</th>\n",
       "      <td>Female</td>\n",
       "      <td>5</td>\n",
       "      <td>1980</td>\n",
       "      <td>13.0</td>\n",
       "      <td>Married</td>\n",
       "      <td>4.0</td>\n",
       "      <td>0.0</td>\n",
       "      <td>12500.0</td>\n",
       "      <td>10 hours or more a week</td>\n",
       "      <td>11 to 20 hours a week</td>\n",
       "      <td>...</td>\n",
       "      <td>1. Not enrolled</td>\n",
       "      <td>1. Not enrolled</td>\n",
       "      <td>1. Not enrolled</td>\n",
       "      <td>1. Not enrolled</td>\n",
       "      <td>1. Not enrolled</td>\n",
       "      <td>1. Not enrolled</td>\n",
       "      <td>1. Not enrolled</td>\n",
       "      <td>1. Not enrolled</td>\n",
       "      <td>1. Not enrolled</td>\n",
       "      <td>1. Not enrolled</td>\n",
       "    </tr>\n",
       "  </tbody>\n",
       "</table>\n",
       "<p>1 rows × 88 columns</p>\n",
       "</div>"
      ],
      "text/plain": [
       "          gender  birthmonth  birthyear  highestgradecompleted maritalstatus  \\\n",
       "personid                                                                       \n",
       "100061    Female           5       1980                   13.0       Married   \n",
       "\n",
       "          childathome  childnotathome  wageincome        weeklyhrscomputer  \\\n",
       "personid                                                                     \n",
       "100061            4.0             0.0     12500.0  10 hours or more a week   \n",
       "\n",
       "                    weeklyhrstv  ...      colenrfeb13      colenroct13  \\\n",
       "personid                         ...                                     \n",
       "100061    11 to 20 hours a week  ...  1. Not enrolled  1. Not enrolled   \n",
       "\n",
       "              colenrfeb14      colenroct14      colenrfeb15      colenroct15  \\\n",
       "personid                                                                       \n",
       "100061    1. Not enrolled  1. Not enrolled  1. Not enrolled  1. Not enrolled   \n",
       "\n",
       "              colenrfeb16      colenroct16      colenrfeb17      colenroct17  \n",
       "personid                                                                      \n",
       "100061    1. Not enrolled  1. Not enrolled  1. Not enrolled  1. Not enrolled  \n",
       "\n",
       "[1 rows x 88 columns]"
      ]
     },
     "execution_count": 57,
     "metadata": {},
     "output_type": "execute_result"
    }
   ],
   "source": [
    "nls97.head(1)"
   ]
  },
  {
   "cell_type": "code",
   "execution_count": 59,
   "id": "6646fc04",
   "metadata": {},
   "outputs": [
    {
     "data": {
      "text/plain": [
       "1981    1874\n",
       "1982    1841\n",
       "1983    1807\n",
       "1984    1771\n",
       "1980    1691\n",
       "Name: birthyear, dtype: int64"
      ]
     },
     "execution_count": 59,
     "metadata": {},
     "output_type": "execute_result"
    }
   ],
   "source": [
    "nls97['birthyear'].value_counts()"
   ]
  },
  {
   "cell_type": "code",
   "execution_count": 60,
   "id": "6c153838",
   "metadata": {},
   "outputs": [
    {
     "data": {
      "text/plain": [
       "Married          3066\n",
       "Never-married    2766\n",
       "Divorced          663\n",
       "Separated         154\n",
       "Widowed            23\n",
       "Name: maritalstatus, dtype: int64"
      ]
     },
     "execution_count": 60,
     "metadata": {},
     "output_type": "execute_result"
    }
   ],
   "source": [
    "nls97['maritalstatus'].value_counts()"
   ]
  },
  {
   "cell_type": "code",
   "execution_count": 62,
   "id": "7ff9e6f4",
   "metadata": {},
   "outputs": [
    {
     "data": {
      "text/plain": [
       "2.0    1542\n",
       "1.0    1272\n",
       "3.0     853\n",
       "0.0     672\n",
       "4.0     320\n",
       "5.0      92\n",
       "6.0      31\n",
       "7.0       6\n",
       "8.0       2\n",
       "9.0       1\n",
       "Name: childathome, dtype: int64"
      ]
     },
     "execution_count": 62,
     "metadata": {},
     "output_type": "execute_result"
    }
   ],
   "source": [
    "nls97['childathome'].value_counts()"
   ]
  },
  {
   "cell_type": "code",
   "execution_count": 63,
   "id": "b828ea29",
   "metadata": {},
   "outputs": [
    {
     "data": {
      "text/plain": [
       "0.0     3711\n",
       "1.0      575\n",
       "2.0      292\n",
       "3.0      119\n",
       "4.0       53\n",
       "5.0       25\n",
       "6.0        8\n",
       "7.0        4\n",
       "8.0        3\n",
       "12.0       1\n",
       "Name: childnotathome, dtype: int64"
      ]
     },
     "execution_count": 63,
     "metadata": {},
     "output_type": "execute_result"
    }
   ],
   "source": [
    "nls97['childnotathome'].value_counts()"
   ]
  },
  {
   "cell_type": "code",
   "execution_count": 64,
   "id": "44171cdd",
   "metadata": {},
   "outputs": [
    {
     "data": {
      "text/plain": [
       "40000.0     225\n",
       "50000.0     216\n",
       "30000.0     204\n",
       "25000.0     189\n",
       "35000.0     156\n",
       "           ... \n",
       "11200.0       1\n",
       "74674.0       1\n",
       "63582.0       1\n",
       "100500.0      1\n",
       "93580.0       1\n",
       "Name: wageincome, Length: 364, dtype: int64"
      ]
     },
     "execution_count": 64,
     "metadata": {},
     "output_type": "execute_result"
    }
   ],
   "source": [
    "nls97['wageincome'].value_counts()"
   ]
  },
  {
   "cell_type": "code",
   "execution_count": 67,
   "id": "c23c9b8c",
   "metadata": {},
   "outputs": [
    {
     "data": {
      "text/plain": [
       "<AxesSubplot:xlabel='wageincome', ylabel='Count'>"
      ]
     },
     "execution_count": 67,
     "metadata": {},
     "output_type": "execute_result"
    },
    {
     "data": {
      "image/png": "[encoded data removed]",
      "text/plain": [
       "<Figure size 640x480 with 1 Axes>"
      ]
     },
     "metadata": {},
     "output_type": "display_data"
    }
   ],
   "source": [
    "sns.histplot(nls97['wageincome'])"
   ]
  },
  {
   "cell_type": "code",
   "execution_count": 74,
   "id": "616fd7f2",
   "metadata": {},
   "outputs": [
    {
     "data": {
      "text/plain": [
       "<AxesSubplot:xlabel='wageincome', ylabel='Count'>"
      ]
     },
     "execution_count": 74,
     "metadata": {},
     "output_type": "execute_result"
    },
    {
     "data": {
      "image/png": "[encoded data removed]",
      "text/plain": [
       "<Figure size 640x480 with 1 Axes>"
      ]
     },
     "metadata": {},
     "output_type": "display_data"
    }
   ],
   "source": [
    "sns.histplot(data=nls97['wageincome'], kde=True)"
   ]
  },
  {
   "cell_type": "code",
   "execution_count": 78,
   "id": "b9779891",
   "metadata": {},
   "outputs": [
    {
     "data": {
      "text/plain": [
       "<AxesSubplot:xlabel='wageincome', ylabel='Count'>"
      ]
     },
     "execution_count": 78,
     "metadata": {},
     "output_type": "execute_result"
    },
    {
     "data": {
      "image/png": "[encoded data removed]",
      "text/plain": [
       "<Figure size 640x480 with 1 Axes>"
      ]
     },
     "metadata": {},
     "output_type": "display_data"
    }
   ],
   "source": [
    "sns.histplot(data=nls97, x='wageincome', hue=\"gender\", kde=True)"
   ]
  },
  {
   "cell_type": "code",
   "execution_count": null,
   "id": "43810d90",
   "metadata": {},
   "outputs": [],
   "source": []
  },
  {
   "cell_type": "code",
   "execution_count": null,
   "id": "7e1b8bbd",
   "metadata": {},
   "outputs": [],
   "source": []
  },
  {
   "cell_type": "code",
   "execution_count": null,
   "id": "a417cb0e",
   "metadata": {},
   "outputs": [],
   "source": []
  },
  {
   "cell_type": "code",
   "execution_count": null,
   "id": "3e31989e",
   "metadata": {},
   "outputs": [],
   "source": []
  },
  {
   "cell_type": "code",
   "execution_count": null,
   "id": "e8997f30",
   "metadata": {},
   "outputs": [],
   "source": []
  },
  {
   "cell_type": "code",
   "execution_count": null,
   "id": "89a5d896",
   "metadata": {},
   "outputs": [],
   "source": []
  },
  {
   "cell_type": "code",
   "execution_count": null,
   "id": "0300a8c6",
   "metadata": {},
   "outputs": [],
   "source": []
  },
  {
   "cell_type": "code",
   "execution_count": null,
   "id": "ac6f2149",
   "metadata": {},
   "outputs": [],
   "source": []
  },
  {
   "cell_type": "code",
   "execution_count": null,
   "id": "94ab63d9",
   "metadata": {},
   "outputs": [],
   "source": []
  },
  {
   "cell_type": "markdown",
   "id": "69d504c4",
   "metadata": {},
   "source": [
    "### 행 인덱스 설정"
   ]
  },
  {
   "cell_type": "code",
   "execution_count": 15,
   "id": "390d86d1",
   "metadata": {},
   "outputs": [
    {
     "data": {
      "text/plain": [
       "0       100061\n",
       "1       100139\n",
       "2       100284\n",
       "3       100292\n",
       "4       100583\n",
       "         ...  \n",
       "8979    999291\n",
       "8980    999406\n",
       "8981    999543\n",
       "8982    999698\n",
       "8983    999963\n",
       "Name: personid, Length: 8984, dtype: int64"
      ]
     },
     "execution_count": 15,
     "metadata": {},
     "output_type": "execute_result"
    }
   ],
   "source": [
    "nls97['personid']"
   ]
  },
  {
   "cell_type": "code",
   "execution_count": 25,
   "id": "ffdbf0b5",
   "metadata": {},
   "outputs": [
    {
     "data": {
      "text/html": [
       "<div>\n",
       "<style scoped>\n",
       "    .dataframe tbody tr th:only-of-type {\n",
       "        vertical-align: middle;\n",
       "    }\n",
       "\n",
       "    .dataframe tbody tr th {\n",
       "        vertical-align: top;\n",
       "    }\n",
       "\n",
       "    .dataframe thead th {\n",
       "        text-align: right;\n",
       "    }\n",
       "</style>\n",
       "<table border=\"1\" class=\"dataframe\">\n",
       "  <thead>\n",
       "    <tr style=\"text-align: right;\">\n",
       "      <th></th>\n",
       "      <th>self</th>\n",
       "      <th>other</th>\n",
       "    </tr>\n",
       "  </thead>\n",
       "  <tbody>\n",
       "  </tbody>\n",
       "</table>\n",
       "</div>"
      ],
      "text/plain": [
       "Empty DataFrame\n",
       "Columns: [self, other]\n",
       "Index: []"
      ]
     },
     "execution_count": 25,
     "metadata": {},
     "output_type": "execute_result"
    }
   ],
   "source": [
    "s1 = pd.Series([1,2,3,4])\n",
    "s2 = pd.Series([1,2,3,4])\n",
    "s1.compare(s2)"
   ]
  },
  {
   "cell_type": "code",
   "execution_count": 26,
   "id": "808efc87",
   "metadata": {},
   "outputs": [
    {
     "data": {
      "text/html": [
       "<div>\n",
       "<style scoped>\n",
       "    .dataframe tbody tr th:only-of-type {\n",
       "        vertical-align: middle;\n",
       "    }\n",
       "\n",
       "    .dataframe tbody tr th {\n",
       "        vertical-align: top;\n",
       "    }\n",
       "\n",
       "    .dataframe thead th {\n",
       "        text-align: right;\n",
       "    }\n",
       "</style>\n",
       "<table border=\"1\" class=\"dataframe\">\n",
       "  <thead>\n",
       "    <tr style=\"text-align: right;\">\n",
       "      <th></th>\n",
       "      <th>self</th>\n",
       "      <th>other</th>\n",
       "    </tr>\n",
       "  </thead>\n",
       "  <tbody>\n",
       "    <tr>\n",
       "      <th>0</th>\n",
       "      <td>1</td>\n",
       "      <td>4</td>\n",
       "    </tr>\n",
       "    <tr>\n",
       "      <th>1</th>\n",
       "      <td>2</td>\n",
       "      <td>3</td>\n",
       "    </tr>\n",
       "    <tr>\n",
       "      <th>2</th>\n",
       "      <td>3</td>\n",
       "      <td>2</td>\n",
       "    </tr>\n",
       "    <tr>\n",
       "      <th>3</th>\n",
       "      <td>4</td>\n",
       "      <td>1</td>\n",
       "    </tr>\n",
       "  </tbody>\n",
       "</table>\n",
       "</div>"
      ],
      "text/plain": [
       "   self  other\n",
       "0     1      4\n",
       "1     2      3\n",
       "2     3      2\n",
       "3     4      1"
      ]
     },
     "execution_count": 26,
     "metadata": {},
     "output_type": "execute_result"
    }
   ],
   "source": [
    "s1 = pd.Series([1,2,3,4])\n",
    "s2 = pd.Series([4,3,2,1])\n",
    "s1.compare(s2)"
   ]
  },
  {
   "cell_type": "code",
   "execution_count": 32,
   "id": "cd7e1c36",
   "metadata": {},
   "outputs": [
    {
     "data": {
      "text/plain": [
       "3    1\n",
       "2    2\n",
       "1    3\n",
       "0    4\n",
       "dtype: int64"
      ]
     },
     "execution_count": 32,
     "metadata": {},
     "output_type": "execute_result"
    }
   ],
   "source": [
    "s2.sort_values()"
   ]
  },
  {
   "cell_type": "code",
   "execution_count": 35,
   "id": "cf05da34",
   "metadata": {},
   "outputs": [],
   "source": [
    "# 인덱스가 일치하지 않아 에러\n",
    "#s1.compare(s2.sort_values())"
   ]
  },
  {
   "cell_type": "code",
   "execution_count": 37,
   "id": "5da4e6c1",
   "metadata": {},
   "outputs": [
    {
     "data": {
      "text/plain": [
       "array([4, 3, 2, 1], dtype=int64)"
      ]
     },
     "execution_count": 37,
     "metadata": {},
     "output_type": "execute_result"
    }
   ],
   "source": [
    "s2.values"
   ]
  },
  {
   "cell_type": "code",
   "execution_count": 45,
   "id": "1f3707bf",
   "metadata": {},
   "outputs": [
    {
     "data": {
      "text/plain": [
       "numpy.ndarray"
      ]
     },
     "execution_count": 45,
     "metadata": {},
     "output_type": "execute_result"
    }
   ],
   "source": [
    "type(s2.values)"
   ]
  },
  {
   "cell_type": "code",
   "execution_count": 42,
   "id": "0975d60e",
   "metadata": {},
   "outputs": [
    {
     "data": {
      "text/plain": [
       "array([1, 2, 3, 4], dtype=int64)"
      ]
     },
     "execution_count": 42,
     "metadata": {},
     "output_type": "execute_result"
    }
   ],
   "source": [
    "s2.sort_values().values"
   ]
  },
  {
   "cell_type": "code",
   "execution_count": 46,
   "id": "ce357859",
   "metadata": {},
   "outputs": [
    {
     "data": {
      "text/plain": [
       "True"
      ]
     },
     "execution_count": 46,
     "metadata": {},
     "output_type": "execute_result"
    }
   ],
   "source": [
    "np.array_equal(s1.values, s2.sort_values().values)"
   ]
  },
  {
   "cell_type": "code",
   "execution_count": 21,
   "id": "9ca3af6f",
   "metadata": {},
   "outputs": [
    {
     "data": {
      "text/plain": [
       "0       100061\n",
       "1       100139\n",
       "2       100284\n",
       "3       100292\n",
       "4       100583\n",
       "         ...  \n",
       "8979    999291\n",
       "8980    999406\n",
       "8981    999543\n",
       "8982    999698\n",
       "8983    999963\n",
       "Name: personid, Length: 8984, dtype: int64"
      ]
     },
     "execution_count": 21,
     "metadata": {},
     "output_type": "execute_result"
    }
   ],
   "source": [
    "nls97['personid'].sort_values()"
   ]
  },
  {
   "cell_type": "code",
   "execution_count": 47,
   "id": "bfdd0c13",
   "metadata": {},
   "outputs": [
    {
     "data": {
      "text/plain": [
       "True"
      ]
     },
     "execution_count": 47,
     "metadata": {},
     "output_type": "execute_result"
    }
   ],
   "source": [
    "np.array_equal(nls97['personid'].values, nls97['personid'].sort_values().values)"
   ]
  },
  {
   "cell_type": "code",
   "execution_count": 48,
   "id": "e4aca935",
   "metadata": {},
   "outputs": [
    {
     "data": {
      "text/html": [
       "<div>\n",
       "<style scoped>\n",
       "    .dataframe tbody tr th:only-of-type {\n",
       "        vertical-align: middle;\n",
       "    }\n",
       "\n",
       "    .dataframe tbody tr th {\n",
       "        vertical-align: top;\n",
       "    }\n",
       "\n",
       "    .dataframe thead th {\n",
       "        text-align: right;\n",
       "    }\n",
       "</style>\n",
       "<table border=\"1\" class=\"dataframe\">\n",
       "  <thead>\n",
       "    <tr style=\"text-align: right;\">\n",
       "      <th></th>\n",
       "      <th>gender</th>\n",
       "      <th>birthmonth</th>\n",
       "      <th>birthyear</th>\n",
       "      <th>highestgradecompleted</th>\n",
       "      <th>maritalstatus</th>\n",
       "      <th>childathome</th>\n",
       "      <th>childnotathome</th>\n",
       "      <th>wageincome</th>\n",
       "      <th>weeklyhrscomputer</th>\n",
       "      <th>weeklyhrstv</th>\n",
       "      <th>...</th>\n",
       "      <th>colenrfeb13</th>\n",
       "      <th>colenroct13</th>\n",
       "      <th>colenrfeb14</th>\n",
       "      <th>colenroct14</th>\n",
       "      <th>colenrfeb15</th>\n",
       "      <th>colenroct15</th>\n",
       "      <th>colenrfeb16</th>\n",
       "      <th>colenroct16</th>\n",
       "      <th>colenrfeb17</th>\n",
       "      <th>colenroct17</th>\n",
       "    </tr>\n",
       "    <tr>\n",
       "      <th>personid</th>\n",
       "      <th></th>\n",
       "      <th></th>\n",
       "      <th></th>\n",
       "      <th></th>\n",
       "      <th></th>\n",
       "      <th></th>\n",
       "      <th></th>\n",
       "      <th></th>\n",
       "      <th></th>\n",
       "      <th></th>\n",
       "      <th></th>\n",
       "      <th></th>\n",
       "      <th></th>\n",
       "      <th></th>\n",
       "      <th></th>\n",
       "      <th></th>\n",
       "      <th></th>\n",
       "      <th></th>\n",
       "      <th></th>\n",
       "      <th></th>\n",
       "      <th></th>\n",
       "    </tr>\n",
       "  </thead>\n",
       "  <tbody>\n",
       "    <tr>\n",
       "      <th>100061</th>\n",
       "      <td>Female</td>\n",
       "      <td>5</td>\n",
       "      <td>1980</td>\n",
       "      <td>13.0</td>\n",
       "      <td>Married</td>\n",
       "      <td>4.0</td>\n",
       "      <td>0.0</td>\n",
       "      <td>12500.0</td>\n",
       "      <td>10 hours or more a week</td>\n",
       "      <td>11 to 20 hours a week</td>\n",
       "      <td>...</td>\n",
       "      <td>1. Not enrolled</td>\n",
       "      <td>1. Not enrolled</td>\n",
       "      <td>1. Not enrolled</td>\n",
       "      <td>1. Not enrolled</td>\n",
       "      <td>1. Not enrolled</td>\n",
       "      <td>1. Not enrolled</td>\n",
       "      <td>1. Not enrolled</td>\n",
       "      <td>1. Not enrolled</td>\n",
       "      <td>1. Not enrolled</td>\n",
       "      <td>1. Not enrolled</td>\n",
       "    </tr>\n",
       "    <tr>\n",
       "      <th>100139</th>\n",
       "      <td>Male</td>\n",
       "      <td>9</td>\n",
       "      <td>1983</td>\n",
       "      <td>12.0</td>\n",
       "      <td>Married</td>\n",
       "      <td>2.0</td>\n",
       "      <td>0.0</td>\n",
       "      <td>120000.0</td>\n",
       "      <td>1 to 3 hours a week</td>\n",
       "      <td>3 to 10 hours a week</td>\n",
       "      <td>...</td>\n",
       "      <td>1. Not enrolled</td>\n",
       "      <td>1. Not enrolled</td>\n",
       "      <td>1. Not enrolled</td>\n",
       "      <td>1. Not enrolled</td>\n",
       "      <td>1. Not enrolled</td>\n",
       "      <td>1. Not enrolled</td>\n",
       "      <td>1. Not enrolled</td>\n",
       "      <td>1. Not enrolled</td>\n",
       "      <td>1. Not enrolled</td>\n",
       "      <td>1. Not enrolled</td>\n",
       "    </tr>\n",
       "    <tr>\n",
       "      <th>100284</th>\n",
       "      <td>Male</td>\n",
       "      <td>11</td>\n",
       "      <td>1984</td>\n",
       "      <td>7.0</td>\n",
       "      <td>Never-married</td>\n",
       "      <td>1.0</td>\n",
       "      <td>0.0</td>\n",
       "      <td>58000.0</td>\n",
       "      <td>None</td>\n",
       "      <td>11 to 20 hours a week</td>\n",
       "      <td>...</td>\n",
       "      <td>1. Not enrolled</td>\n",
       "      <td>1. Not enrolled</td>\n",
       "      <td>1. Not enrolled</td>\n",
       "      <td>1. Not enrolled</td>\n",
       "      <td>1. Not enrolled</td>\n",
       "      <td>1. Not enrolled</td>\n",
       "      <td>1. Not enrolled</td>\n",
       "      <td>1. Not enrolled</td>\n",
       "      <td>1. Not enrolled</td>\n",
       "      <td>1. Not enrolled</td>\n",
       "    </tr>\n",
       "    <tr>\n",
       "      <th>100292</th>\n",
       "      <td>Male</td>\n",
       "      <td>4</td>\n",
       "      <td>1982</td>\n",
       "      <td>NaN</td>\n",
       "      <td>NaN</td>\n",
       "      <td>NaN</td>\n",
       "      <td>NaN</td>\n",
       "      <td>NaN</td>\n",
       "      <td>NaN</td>\n",
       "      <td>NaN</td>\n",
       "      <td>...</td>\n",
       "      <td>1. Not enrolled</td>\n",
       "      <td>1. Not enrolled</td>\n",
       "      <td>1. Not enrolled</td>\n",
       "      <td>1. Not enrolled</td>\n",
       "      <td>1. Not enrolled</td>\n",
       "      <td>1. Not enrolled</td>\n",
       "      <td>NaN</td>\n",
       "      <td>NaN</td>\n",
       "      <td>NaN</td>\n",
       "      <td>NaN</td>\n",
       "    </tr>\n",
       "    <tr>\n",
       "      <th>100583</th>\n",
       "      <td>Male</td>\n",
       "      <td>1</td>\n",
       "      <td>1980</td>\n",
       "      <td>13.0</td>\n",
       "      <td>Married</td>\n",
       "      <td>4.0</td>\n",
       "      <td>0.0</td>\n",
       "      <td>30000.0</td>\n",
       "      <td>Less than 1 hour a week</td>\n",
       "      <td>3 to 10 hours a week</td>\n",
       "      <td>...</td>\n",
       "      <td>1. Not enrolled</td>\n",
       "      <td>1. Not enrolled</td>\n",
       "      <td>1. Not enrolled</td>\n",
       "      <td>1. Not enrolled</td>\n",
       "      <td>1. Not enrolled</td>\n",
       "      <td>1. Not enrolled</td>\n",
       "      <td>1. Not enrolled</td>\n",
       "      <td>1. Not enrolled</td>\n",
       "      <td>1. Not enrolled</td>\n",
       "      <td>1. Not enrolled</td>\n",
       "    </tr>\n",
       "  </tbody>\n",
       "</table>\n",
       "<p>5 rows × 88 columns</p>\n",
       "</div>"
      ],
      "text/plain": [
       "          gender  birthmonth  birthyear  highestgradecompleted  maritalstatus  \\\n",
       "personid                                                                        \n",
       "100061    Female           5       1980                   13.0        Married   \n",
       "100139      Male           9       1983                   12.0        Married   \n",
       "100284      Male          11       1984                    7.0  Never-married   \n",
       "100292      Male           4       1982                    NaN            NaN   \n",
       "100583      Male           1       1980                   13.0        Married   \n",
       "\n",
       "          childathome  childnotathome  wageincome        weeklyhrscomputer  \\\n",
       "personid                                                                     \n",
       "100061            4.0             0.0     12500.0  10 hours or more a week   \n",
       "100139            2.0             0.0    120000.0      1 to 3 hours a week   \n",
       "100284            1.0             0.0     58000.0                     None   \n",
       "100292            NaN             NaN         NaN                      NaN   \n",
       "100583            4.0             0.0     30000.0  Less than 1 hour a week   \n",
       "\n",
       "                    weeklyhrstv  ...      colenrfeb13      colenroct13  \\\n",
       "personid                         ...                                     \n",
       "100061    11 to 20 hours a week  ...  1. Not enrolled  1. Not enrolled   \n",
       "100139     3 to 10 hours a week  ...  1. Not enrolled  1. Not enrolled   \n",
       "100284    11 to 20 hours a week  ...  1. Not enrolled  1. Not enrolled   \n",
       "100292                      NaN  ...  1. Not enrolled  1. Not enrolled   \n",
       "100583     3 to 10 hours a week  ...  1. Not enrolled  1. Not enrolled   \n",
       "\n",
       "              colenrfeb14      colenroct14      colenrfeb15      colenroct15  \\\n",
       "personid                                                                       \n",
       "100061    1. Not enrolled  1. Not enrolled  1. Not enrolled  1. Not enrolled   \n",
       "100139    1. Not enrolled  1. Not enrolled  1. Not enrolled  1. Not enrolled   \n",
       "100284    1. Not enrolled  1. Not enrolled  1. Not enrolled  1. Not enrolled   \n",
       "100292    1. Not enrolled  1. Not enrolled  1. Not enrolled  1. Not enrolled   \n",
       "100583    1. Not enrolled  1. Not enrolled  1. Not enrolled  1. Not enrolled   \n",
       "\n",
       "              colenrfeb16      colenroct16      colenrfeb17      colenroct17  \n",
       "personid                                                                      \n",
       "100061    1. Not enrolled  1. Not enrolled  1. Not enrolled  1. Not enrolled  \n",
       "100139    1. Not enrolled  1. Not enrolled  1. Not enrolled  1. Not enrolled  \n",
       "100284    1. Not enrolled  1. Not enrolled  1. Not enrolled  1. Not enrolled  \n",
       "100292                NaN              NaN              NaN              NaN  \n",
       "100583    1. Not enrolled  1. Not enrolled  1. Not enrolled  1. Not enrolled  \n",
       "\n",
       "[5 rows x 88 columns]"
      ]
     },
     "execution_count": 48,
     "metadata": {},
     "output_type": "execute_result"
    }
   ],
   "source": [
    "nls97.set_index('personid',inplace=True)\n",
    "nls97.head()"
   ]
  },
  {
   "cell_type": "code",
   "execution_count": null,
   "id": "0a804152",
   "metadata": {},
   "outputs": [],
   "source": []
  },
  {
   "cell_type": "code",
   "execution_count": null,
   "id": "1ea12eb4",
   "metadata": {},
   "outputs": [],
   "source": []
  },
  {
   "cell_type": "code",
   "execution_count": 6,
   "id": "0ab183e4",
   "metadata": {},
   "outputs": [
    {
     "data": {
      "text/html": [
       "<div>\n",
       "<style scoped>\n",
       "    .dataframe tbody tr th:only-of-type {\n",
       "        vertical-align: middle;\n",
       "    }\n",
       "\n",
       "    .dataframe tbody tr th {\n",
       "        vertical-align: top;\n",
       "    }\n",
       "\n",
       "    .dataframe thead th {\n",
       "        text-align: right;\n",
       "    }\n",
       "</style>\n",
       "<table border=\"1\" class=\"dataframe\">\n",
       "  <thead>\n",
       "    <tr style=\"text-align: right;\">\n",
       "      <th></th>\n",
       "      <th>iso_code</th>\n",
       "      <th>lastdate</th>\n",
       "      <th>location</th>\n",
       "      <th>total_cases</th>\n",
       "      <th>total_deaths</th>\n",
       "      <th>total_cases_pm</th>\n",
       "      <th>total_deaths_pm</th>\n",
       "      <th>population</th>\n",
       "      <th>pop_density</th>\n",
       "      <th>median_age</th>\n",
       "      <th>gdp_per_capita</th>\n",
       "      <th>hosp_beds</th>\n",
       "    </tr>\n",
       "  </thead>\n",
       "  <tbody>\n",
       "    <tr>\n",
       "      <th>0</th>\n",
       "      <td>AFG</td>\n",
       "      <td>2020-06-01</td>\n",
       "      <td>Afghanistan</td>\n",
       "      <td>15205</td>\n",
       "      <td>257</td>\n",
       "      <td>390.589</td>\n",
       "      <td>6.602</td>\n",
       "      <td>38928341.0</td>\n",
       "      <td>54.422</td>\n",
       "      <td>18.6</td>\n",
       "      <td>1803.987</td>\n",
       "      <td>0.50</td>\n",
       "    </tr>\n",
       "    <tr>\n",
       "      <th>1</th>\n",
       "      <td>ALB</td>\n",
       "      <td>2020-06-01</td>\n",
       "      <td>Albania</td>\n",
       "      <td>1137</td>\n",
       "      <td>33</td>\n",
       "      <td>395.093</td>\n",
       "      <td>11.467</td>\n",
       "      <td>2877800.0</td>\n",
       "      <td>104.871</td>\n",
       "      <td>38.0</td>\n",
       "      <td>11803.431</td>\n",
       "      <td>2.89</td>\n",
       "    </tr>\n",
       "    <tr>\n",
       "      <th>2</th>\n",
       "      <td>DZA</td>\n",
       "      <td>2020-06-01</td>\n",
       "      <td>Algeria</td>\n",
       "      <td>9394</td>\n",
       "      <td>653</td>\n",
       "      <td>214.225</td>\n",
       "      <td>14.891</td>\n",
       "      <td>43851043.0</td>\n",
       "      <td>17.348</td>\n",
       "      <td>29.1</td>\n",
       "      <td>13913.839</td>\n",
       "      <td>1.90</td>\n",
       "    </tr>\n",
       "    <tr>\n",
       "      <th>3</th>\n",
       "      <td>AND</td>\n",
       "      <td>2020-06-01</td>\n",
       "      <td>Andorra</td>\n",
       "      <td>764</td>\n",
       "      <td>51</td>\n",
       "      <td>9888.048</td>\n",
       "      <td>660.066</td>\n",
       "      <td>77265.0</td>\n",
       "      <td>163.755</td>\n",
       "      <td>NaN</td>\n",
       "      <td>NaN</td>\n",
       "      <td>NaN</td>\n",
       "    </tr>\n",
       "    <tr>\n",
       "      <th>4</th>\n",
       "      <td>AGO</td>\n",
       "      <td>2020-06-01</td>\n",
       "      <td>Angola</td>\n",
       "      <td>86</td>\n",
       "      <td>4</td>\n",
       "      <td>2.617</td>\n",
       "      <td>0.122</td>\n",
       "      <td>32866268.0</td>\n",
       "      <td>23.890</td>\n",
       "      <td>16.8</td>\n",
       "      <td>5819.495</td>\n",
       "      <td>NaN</td>\n",
       "    </tr>\n",
       "  </tbody>\n",
       "</table>\n",
       "</div>"
      ],
      "text/plain": [
       "  iso_code   lastdate     location  total_cases  total_deaths  total_cases_pm  \\\n",
       "0      AFG 2020-06-01  Afghanistan        15205           257         390.589   \n",
       "1      ALB 2020-06-01      Albania         1137            33         395.093   \n",
       "2      DZA 2020-06-01      Algeria         9394           653         214.225   \n",
       "3      AND 2020-06-01      Andorra          764            51        9888.048   \n",
       "4      AGO 2020-06-01       Angola           86             4           2.617   \n",
       "\n",
       "   total_deaths_pm  population  pop_density  median_age  gdp_per_capita  \\\n",
       "0            6.602  38928341.0       54.422        18.6        1803.987   \n",
       "1           11.467   2877800.0      104.871        38.0       11803.431   \n",
       "2           14.891  43851043.0       17.348        29.1       13913.839   \n",
       "3          660.066     77265.0      163.755         NaN             NaN   \n",
       "4            0.122  32866268.0       23.890        16.8        5819.495   \n",
       "\n",
       "   hosp_beds  \n",
       "0       0.50  \n",
       "1       2.89  \n",
       "2       1.90  \n",
       "3        NaN  \n",
       "4        NaN  "
      ]
     },
     "execution_count": 6,
     "metadata": {},
     "output_type": "execute_result"
    }
   ],
   "source": [
    "covidtotals.head()"
   ]
  },
  {
   "cell_type": "code",
   "execution_count": 7,
   "id": "108bc777",
   "metadata": {},
   "outputs": [
    {
     "data": {
      "text/plain": [
       "(210, 12)"
      ]
     },
     "execution_count": 7,
     "metadata": {},
     "output_type": "execute_result"
    }
   ],
   "source": [
    "covidtotals.shape"
   ]
  },
  {
   "cell_type": "code",
   "execution_count": 8,
   "id": "e7cbd7be",
   "metadata": {},
   "outputs": [
    {
     "data": {
      "text/plain": [
       "iso_code                   object\n",
       "lastdate           datetime64[ns]\n",
       "location                   object\n",
       "total_cases                 int64\n",
       "total_deaths                int64\n",
       "total_cases_pm            float64\n",
       "total_deaths_pm           float64\n",
       "population                float64\n",
       "pop_density               float64\n",
       "median_age                float64\n",
       "gdp_per_capita            float64\n",
       "hosp_beds                 float64\n",
       "dtype: object"
      ]
     },
     "execution_count": 8,
     "metadata": {},
     "output_type": "execute_result"
    }
   ],
   "source": [
    "covidtotals.dtypes"
   ]
  },
  {
   "cell_type": "code",
   "execution_count": 49,
   "id": "b50c2616",
   "metadata": {},
   "outputs": [
    {
     "name": "stdout",
     "output_type": "stream",
     "text": [
      "<class 'pandas.core.frame.DataFrame'>\n",
      "RangeIndex: 210 entries, 0 to 209\n",
      "Data columns (total 12 columns):\n",
      " #   Column           Non-Null Count  Dtype         \n",
      "---  ------           --------------  -----         \n",
      " 0   iso_code         210 non-null    object        \n",
      " 1   lastdate         210 non-null    datetime64[ns]\n",
      " 2   location         210 non-null    object        \n",
      " 3   total_cases      210 non-null    int64         \n",
      " 4   total_deaths     210 non-null    int64         \n",
      " 5   total_cases_pm   209 non-null    float64       \n",
      " 6   total_deaths_pm  209 non-null    float64       \n",
      " 7   population       210 non-null    float64       \n",
      " 8   pop_density      198 non-null    float64       \n",
      " 9   median_age       186 non-null    float64       \n",
      " 10  gdp_per_capita   182 non-null    float64       \n",
      " 11  hosp_beds        164 non-null    float64       \n",
      "dtypes: datetime64[ns](1), float64(7), int64(2), object(2)\n",
      "memory usage: 19.8+ KB\n"
     ]
    }
   ],
   "source": [
    "covidtotals.info()"
   ]
  },
  {
   "cell_type": "code",
   "execution_count": 50,
   "id": "7724805a",
   "metadata": {},
   "outputs": [
    {
     "data": {
      "text/plain": [
       "AFG    1\n",
       "RUS    1\n",
       "MMR    1\n",
       "NAM    1\n",
       "NPL    1\n",
       "      ..\n",
       "DEU    1\n",
       "GHA    1\n",
       "GIB    1\n",
       "GRC    1\n",
       "ZWE    1\n",
       "Name: iso_code, Length: 210, dtype: int64"
      ]
     },
     "execution_count": 50,
     "metadata": {},
     "output_type": "execute_result"
    }
   ],
   "source": [
    "covidtotals['iso_code'].value_counts()"
   ]
  },
  {
   "cell_type": "code",
   "execution_count": null,
   "id": "0d2b1ecc",
   "metadata": {},
   "outputs": [],
   "source": [
    "covidtotals"
   ]
  },
  {
   "cell_type": "code",
   "execution_count": 51,
   "id": "ebc9fc69",
   "metadata": {},
   "outputs": [
    {
     "data": {
      "text/plain": [
       "2020-06-01    208\n",
       "2020-05-26      1\n",
       "2020-05-31      1\n",
       "Name: lastdate, dtype: int64"
      ]
     },
     "execution_count": 51,
     "metadata": {},
     "output_type": "execute_result"
    }
   ],
   "source": [
    "covidtotals['lastdate'].value_counts()"
   ]
  },
  {
   "cell_type": "code",
   "execution_count": 52,
   "id": "a7668aeb",
   "metadata": {},
   "outputs": [
    {
     "data": {
      "text/plain": [
       "Afghanistan    1\n",
       "Russia         1\n",
       "Myanmar        1\n",
       "Namibia        1\n",
       "Nepal          1\n",
       "              ..\n",
       "Germany        1\n",
       "Ghana          1\n",
       "Gibraltar      1\n",
       "Greece         1\n",
       "Zimbabwe       1\n",
       "Name: location, Length: 210, dtype: int64"
      ]
     },
     "execution_count": 52,
     "metadata": {},
     "output_type": "execute_result"
    }
   ],
   "source": [
    "covidtotals['location'].value_counts()"
   ]
  },
  {
   "cell_type": "code",
   "execution_count": null,
   "id": "8813d337",
   "metadata": {},
   "outputs": [],
   "source": []
  }
 ],
 "metadata": {
  "kernelspec": {
   "display_name": "Python 3 (ipykernel)",
   "language": "python",
   "name": "python3"
  },
  "language_info": {
   "codemirror_mode": {
    "name": "ipython",
    "version": 3
   },
   "file_extension": ".py",
   "mimetype": "text/x-python",
   "name": "python",
   "nbconvert_exporter": "python",
   "pygments_lexer": "ipython3",
   "version": "3.9.13"
  }
 },
 "nbformat": 4,
 "nbformat_minor": 5
}
