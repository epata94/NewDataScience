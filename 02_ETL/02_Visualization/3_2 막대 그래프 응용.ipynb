{
 "cells": [
  {
   "cell_type": "code",
   "execution_count": 2,
   "id": "50fcd0f2",
   "metadata": {},
   "outputs": [],
   "source": [
    "import pandas as pd\n",
    "import numpy as np\n",
    "import matplotlib.pyplot as plt\n",
    "from matplotlib import font_manager,rc\n",
    "\n",
    "import random\n",
    "\n",
    "font_location = \"C:\\Windows\\Fonts\\malgun.ttf\"\n",
    "font_name = font_manager.FontProperties(fname=font_location).get_name()\n",
    "rc('font',family=font_name)"
   ]
  },
  {
   "cell_type": "code",
   "execution_count": 3,
   "id": "5191d4b0",
   "metadata": {},
   "outputs": [
    {
     "data": {
      "text/plain": [
       "여성    64981\n",
       "남성    35019\n",
       "dtype: int64"
      ]
     },
     "execution_count": 3,
     "metadata": {},
     "output_type": "execute_result"
    }
   ],
   "source": [
    "sex_range=['남성', '여성']\n",
    "age_range=[20,21,22,23,24,25,26,27,28,29]\n",
    "marrage_range=['독신','기혼','재혼']\n",
    "income_range=['저소득자','3000만원대','4000만원대','5000만원대','6000만원대','고소득자']\n",
    "\n",
    "MAX_RECORD=100000\n",
    "\n",
    "sex_list=[]\n",
    "\n",
    "# random.choices(range(0,len(sex_range)), weights=[0.35,0.65])\n",
    "\n",
    "for i in range(MAX_RECORD):\n",
    "    sex_list.append(\n",
    "        sex_range[\n",
    "            random.choices(range(0,len(sex_range)), weights=[0.35,0.65])[0]\n",
    "        ]\n",
    "    )\n",
    "\n",
    "pd.Series(sex_list).value_counts()"
   ]
  },
  {
   "cell_type": "code",
   "execution_count": 4,
   "id": "97a6b2f6",
   "metadata": {},
   "outputs": [
    {
     "data": {
      "text/plain": [
       "Index        128\n",
       "0        8600000\n",
       "dtype: int64"
      ]
     },
     "execution_count": 4,
     "metadata": {},
     "output_type": "execute_result"
    }
   ],
   "source": [
    "df = pd.DataFrame(sex_list)\n",
    "df.memory_usage(deep=True)\n",
    "\n",
    "# Index        128\n",
    "# 0        8600000 <=86Kb\n",
    "# dtype: int64"
   ]
  },
  {
   "cell_type": "code",
   "execution_count": 18,
   "id": "5f5e056e",
   "metadata": {},
   "outputs": [
    {
     "data": {
      "text/plain": [
       "[1]"
      ]
     },
     "execution_count": 18,
     "metadata": {},
     "output_type": "execute_result"
    }
   ],
   "source": [
    "sex_range=['남성', '여성']\n",
    "age_range=[20,21,22,23,24,25,26,27,28,29]\n",
    "marrage_range=['독신','기혼','재혼']\n",
    "income_range=['저소득자','3000만원대','4000만원대','5000만원대','6000만원대','고소득자']\n",
    "\n",
    "MAX_RECORD=1000000\n",
    "\n",
    "sex_list=[]\n",
    "age_list=[]\n",
    "marrage_list=[]\n",
    "income_list=[]\n",
    "\n",
    "random.choices(range(0,len(sex_range)), weights=[0.35,0.65])\n",
    "\n",
    "# for i in range(MAX_RECORD):\n",
    "#     sex_list.append(sex_range[random.choices(range(0,len(sex_range)), weights=[0.35,0.65])[0]])\n",
    "#     age_list.append(age_range[random.choices(range(0,len(age_range)), weights=[0.05,0.05,0.1,0.07,0.05,0.05,0.05,0.13,0.3,0.2])[0]])\n",
    "#     marrage_list.append(marrage_range[random.choices(range(0,len(marrage_range)), weights=[0.7,0.25,0.05])[0]])\n",
    "#     income_list.append(income_range[random.choices(range(0,len(income_range)), weights=[0.1,0.4,0.2,0.15,0.1,0.05])[0]])\n",
    "    \n",
    "\n",
    "# df = pd.DataFrame(\n",
    "#     {\n",
    "#         \"성별\":sex_list,\n",
    "#         \"나이\":age_list,\n",
    "#         \"결혼여부\":marrage_list,\n",
    "#         \"소득수준\":income_list\n",
    "#     }\n",
    "# )\n",
    "\n",
    "# df.head()"
   ]
  },
  {
   "cell_type": "code",
   "execution_count": 19,
   "id": "7ad6bf7b",
   "metadata": {},
   "outputs": [
    {
     "data": {
      "text/plain": [
       "1"
      ]
     },
     "execution_count": 19,
     "metadata": {},
     "output_type": "execute_result"
    }
   ],
   "source": [
    "a=[1]\n",
    "a[0]"
   ]
  },
  {
   "cell_type": "code",
   "execution_count": 6,
   "id": "e0df2a20",
   "metadata": {},
   "outputs": [
    {
     "data": {
      "text/plain": [
       "(1000000, 4)"
      ]
     },
     "execution_count": 6,
     "metadata": {},
     "output_type": "execute_result"
    }
   ],
   "source": [
    "df.shape"
   ]
  },
  {
   "cell_type": "code",
   "execution_count": 7,
   "id": "f20e55f2",
   "metadata": {},
   "outputs": [
    {
     "data": {
      "text/plain": [
       "Index         128\n",
       "성별       86000000\n",
       "나이        8000000\n",
       "결혼여부     86000000\n",
       "소득수준     95102346\n",
       "dtype: int64"
      ]
     },
     "execution_count": 7,
     "metadata": {},
     "output_type": "execute_result"
    }
   ],
   "source": [
    "df.memory_usage(deep=True)"
   ]
  },
  {
   "cell_type": "code",
   "execution_count": 8,
   "id": "53e71ea5",
   "metadata": {},
   "outputs": [
    {
     "data": {
      "text/plain": [
       "여성    650115\n",
       "남성    349885\n",
       "Name: 성별, dtype: int64"
      ]
     },
     "execution_count": 8,
     "metadata": {},
     "output_type": "execute_result"
    }
   ],
   "source": [
    "df['성별'].value_counts()"
   ]
  },
  {
   "cell_type": "code",
   "execution_count": 9,
   "id": "7923ee35",
   "metadata": {},
   "outputs": [
    {
     "data": {
      "text/plain": [
       "Index(['여성', '남성'], dtype='object')"
      ]
     },
     "execution_count": 9,
     "metadata": {},
     "output_type": "execute_result"
    }
   ],
   "source": [
    "df['성별'].value_counts().index"
   ]
  },
  {
   "cell_type": "code",
   "execution_count": 10,
   "id": "298a6ff5",
   "metadata": {},
   "outputs": [
    {
     "data": {
      "text/plain": [
       "array([650115, 349885], dtype=int64)"
      ]
     },
     "execution_count": 10,
     "metadata": {},
     "output_type": "execute_result"
    }
   ],
   "source": [
    "df['성별'].value_counts().values"
   ]
  },
  {
   "cell_type": "code",
   "execution_count": 11,
   "id": "1b7893f6",
   "metadata": {},
   "outputs": [
    {
     "data": {
      "text/plain": [
       "2"
      ]
     },
     "execution_count": 11,
     "metadata": {},
     "output_type": "execute_result"
    }
   ],
   "source": [
    "len(df['성별'].value_counts().index)"
   ]
  },
  {
   "cell_type": "code",
   "execution_count": 12,
   "id": "7bd9a13a",
   "metadata": {},
   "outputs": [
    {
     "data": {
      "text/plain": [
       "[650115, 349885]"
      ]
     },
     "execution_count": 12,
     "metadata": {},
     "output_type": "execute_result"
    }
   ],
   "source": [
    "df['성별'].value_counts().values.tolist()"
   ]
  },
  {
   "cell_type": "code",
   "execution_count": 14,
   "id": "c62c4e30",
   "metadata": {},
   "outputs": [
    {
     "data": {
      "text/plain": [
       "([<matplotlib.axis.XTick at 0x24ea47cbbe0>,\n",
       "  <matplotlib.axis.XTick at 0x24ea47cbbb0>],\n",
       " [Text(0, 0, '여성'), Text(1, 0, '남성')])"
      ]
     },
     "execution_count": 14,
     "metadata": {},
     "output_type": "execute_result"
    },
    {
     "data": {
      "image/png": "[encoded data removed]",
      "text/plain": [
       "<Figure size 640x480 with 1 Axes>"
      ]
     },
     "metadata": {},
     "output_type": "display_data"
    }
   ],
   "source": [
    "idx = np.arange(len(df['성별'].value_counts().index))\n",
    "plt.bar(idx, df['성별'].value_counts().values)\n",
    "plt.xticks(idx,df['성별'].value_counts().index)"
   ]
  },
  {
   "cell_type": "code",
   "execution_count": 15,
   "id": "530a6262",
   "metadata": {},
   "outputs": [
    {
     "data": {
      "text/plain": [
       "([<matplotlib.axis.XTick at 0x24ea466e3d0>,\n",
       "  <matplotlib.axis.XTick at 0x24ea466e3a0>,\n",
       "  <matplotlib.axis.XTick at 0x24ea4668040>,\n",
       "  <matplotlib.axis.XTick at 0x24ea46b5400>,\n",
       "  <matplotlib.axis.XTick at 0x24ea46b5b50>,\n",
       "  <matplotlib.axis.XTick at 0x24ea46ba2e0>,\n",
       "  <matplotlib.axis.XTick at 0x24ea46baa30>,\n",
       "  <matplotlib.axis.XTick at 0x24ea46c21c0>,\n",
       "  <matplotlib.axis.XTick at 0x24ea46bab20>,\n",
       "  <matplotlib.axis.XTick at 0x24ea46b57f0>],\n",
       " [Text(0, 0, '28'),\n",
       "  Text(1, 0, '29'),\n",
       "  Text(2, 0, '27'),\n",
       "  Text(3, 0, '22'),\n",
       "  Text(4, 0, '23'),\n",
       "  Text(5, 0, '24'),\n",
       "  Text(6, 0, '21'),\n",
       "  Text(7, 0, '26'),\n",
       "  Text(8, 0, '20'),\n",
       "  Text(9, 0, '25')])"
      ]
     },
     "execution_count": 15,
     "metadata": {},
     "output_type": "execute_result"
    },
    {
     "data": {
      "image/png": "[encoded data removed]",
      "text/plain": [
       "<Figure size 640x480 with 1 Axes>"
      ]
     },
     "metadata": {},
     "output_type": "display_data"
    }
   ],
   "source": [
    "idx = np.arange(len(df['나이'].value_counts().index))\n",
    "plt.bar(idx, df['나이'].value_counts().values)\n",
    "plt.xticks(idx,df['나이'].value_counts().index)"
   ]
  },
  {
   "cell_type": "code",
   "execution_count": 16,
   "id": "3fd2c359",
   "metadata": {},
   "outputs": [
    {
     "data": {
      "text/plain": [
       "([<matplotlib.axis.XTick at 0x24ea46f23d0>,\n",
       "  <matplotlib.axis.XTick at 0x24ea46f23a0>,\n",
       "  <matplotlib.axis.XTick at 0x24ea46baaf0>],\n",
       " [Text(0, 0, '독신'), Text(1, 0, '기혼'), Text(2, 0, '재혼')])"
      ]
     },
     "execution_count": 16,
     "metadata": {},
     "output_type": "execute_result"
    },
    {
     "data": {
      "image/png": "[encoded data removed]",
      "text/plain": [
       "<Figure size 640x480 with 1 Axes>"
      ]
     },
     "metadata": {},
     "output_type": "display_data"
    }
   ],
   "source": [
    "idx = np.arange(len(df['결혼여부'].value_counts().index))\n",
    "plt.bar(idx, df['결혼여부'].value_counts().values)\n",
    "plt.xticks(idx,df['결혼여부'].value_counts().index)"
   ]
  },
  {
   "cell_type": "code",
   "execution_count": 17,
   "id": "9f3c4e09",
   "metadata": {},
   "outputs": [
    {
     "data": {
      "text/plain": [
       "([<matplotlib.axis.XTick at 0x24ea4750220>,\n",
       "  <matplotlib.axis.XTick at 0x24ea47501f0>,\n",
       "  <matplotlib.axis.XTick at 0x24ea4724250>,\n",
       "  <matplotlib.axis.XTick at 0x24ea48049d0>,\n",
       "  <matplotlib.axis.XTick at 0x24ea4804c70>,\n",
       "  <matplotlib.axis.XTick at 0x24ea480f4c0>],\n",
       " [Text(0, 0, '3000만원대'),\n",
       "  Text(1, 0, '4000만원대'),\n",
       "  Text(2, 0, '5000만원대'),\n",
       "  Text(3, 0, '6000만원대'),\n",
       "  Text(4, 0, '저소득자'),\n",
       "  Text(5, 0, '고소득자')])"
      ]
     },
     "execution_count": 17,
     "metadata": {},
     "output_type": "execute_result"
    },
    {
     "data": {
      "image/png": "[encoded data removed]",
      "text/plain": [
       "<Figure size 640x480 with 1 Axes>"
      ]
     },
     "metadata": {},
     "output_type": "display_data"
    }
   ],
   "source": [
    "idx = np.arange(len(df['소득수준'].value_counts().index))\n",
    "plt.bar(idx, df['소득수준'].value_counts().values)\n",
    "plt.xticks(idx,df['소득수준'].value_counts().index)"
   ]
  },
  {
   "cell_type": "code",
   "execution_count": null,
   "id": "27b6eca2",
   "metadata": {},
   "outputs": [],
   "source": []
  }
 ],
 "metadata": {
  "kernelspec": {
   "display_name": "Python 3 (ipykernel)",
   "language": "python",
   "name": "python3"
  },
  "language_info": {
   "codemirror_mode": {
    "name": "ipython",
    "version": 3
   },
   "file_extension": ".py",
   "mimetype": "text/x-python",
   "name": "python",
   "nbconvert_exporter": "python",
   "pygments_lexer": "ipython3",
   "version": "3.9.13"
  }
 },
 "nbformat": 4,
 "nbformat_minor": 5
}
