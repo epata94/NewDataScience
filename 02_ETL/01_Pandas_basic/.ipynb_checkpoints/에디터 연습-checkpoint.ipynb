{
 "cells": [
  {
   "cell_type": "markdown",
   "id": "ad599cf1",
   "metadata": {},
   "source": [
    "# 에디터 연습"
   ]
  },
  {
   "cell_type": "markdown",
   "id": "1583d5e9",
   "metadata": {},
   "source": [
    "#### 더 작은 사이즈"
   ]
  },
  {
   "cell_type": "code",
   "execution_count": 5,
   "id": "a66c1d89",
   "metadata": {},
   "outputs": [
    {
     "data": {
      "text/plain": [
       "200"
      ]
     },
     "execution_count": 5,
     "metadata": {},
     "output_type": "execute_result"
    }
   ],
   "source": [
    "# 코드 \n",
    "num1 = 100\n",
    "num2 = 100\n",
    "num1+num2"
   ]
  },
  {
   "cell_type": "code",
   "execution_count": 8,
   "id": "66d35009",
   "metadata": {},
   "outputs": [],
   "source": [
    "my_long_variable = 100"
   ]
  },
  {
   "cell_type": "code",
   "execution_count": 4,
   "id": "877e15a7",
   "metadata": {},
   "outputs": [
    {
     "name": "stdout",
     "output_type": "stream",
     "text": [
      "100\n"
     ]
    }
   ],
   "source": [
    "# 자동완성은 Tab, 단 해당 변수가 실행되어 있어야 한다.\n",
    "print(my_long_variable)\n",
    "\n",
    "# 함수 설명은 함수에 커서를 이동하고 Shift+Tab"
   ]
  },
  {
   "cell_type": "markdown",
   "id": "7c93dcfe",
   "metadata": {},
   "source": [
    "# 키보드 단축키\n",
    "* 편집모드\n",
    "* 명령모드"
   ]
  },
  {
   "cell_type": "markdown",
   "id": "c99fd8c0",
   "metadata": {},
   "source": [
    "## 두 모드 모두에서 모두 사용 할 수 있는 단축키\n",
    "* Ctrl + Enter: 셀 실행\n",
    "* Shift + Enter: 아래의 셀을 선택하고 셀 실행\n",
    "* Alt + Enter: 셀 실행하고 아래에 새 셀 추가\n",
    "* Ctrl + S: 저장"
   ]
  },
  {
   "cell_type": "markdown",
   "id": "952f0e9e",
   "metadata": {},
   "source": [
    "## 편집 모드에서만 사용할 수 있는 키보드 단축키\n",
    "* Esc: 명령 모드로 전환\n",
    "* Ctrl + Shift + - : 셀 분할\n",
    "* Ctrl + z : Undo\n",
    "* Ctrl + / : Comment"
   ]
  },
  {
   "cell_type": "code",
   "execution_count": null,
   "id": "faccf8ef",
   "metadata": {},
   "outputs": [],
   "source": [
    "# num2 = 100 라인에 커서를 옮기고 Ctrl + Shift + - 해 볼 것\n",
    "num1 = 100\n",
    "num2 = 100\n",
    "num1 + num2"
   ]
  },
  {
   "cell_type": "markdown",
   "id": "fbb7baf3",
   "metadata": {},
   "source": [
    "## 명령 모드에서만 사용할 수 있는 키보드 단축키\n",
    "* Enter: 편집 모드로 전환\n",
    "* k: 이전 셀 선택\n",
    "* j: 다음 셀 선택\n",
    "* y/m:  코드 셀/ 마크다운 셀로 셀 타입 전환\n",
    "* a/b:  현재 셀의 위/아래에 새 셀 추가\n",
    "* x/c/v: 현재 셀에 대한 cut/copy/paste\n",
    "* dd: 현재 셀 삭제\n",
    "* Shift + m = 아래셀과 병합\n",
    "* z: 삭제한 셀 복원\n",
    "* f: find and replace\n",
    "* l: 셀의 라인을 Toggle\n",
    "* shift+l: 전체 셀의 라인을 Toogle\n",
    "* o: 셀의 아웃풋을 Toggle\n",
    "* Space: 화면 단위 스크롤 다운\n",
    "* Shift + Space: 화면 단위 스크롤 업\n",
    "* h: 키보드 단축키 전체 목록"
   ]
  },
  {
   "cell_type": "raw",
   "id": "1c5e08da",
   "metadata": {},
   "source": [
    "추가 작업"
   ]
  },
  {
   "cell_type": "code",
   "execution_count": 15,
   "id": "744c302c",
   "metadata": {
    "scrolled": true
   },
   "outputs": [
    {
     "data": {
      "text/plain": [
       "3"
      ]
     },
     "execution_count": 15,
     "metadata": {},
     "output_type": "execute_result"
    }
   ],
   "source": [
    "num1 = 1\n",
    "num2 = 2\n",
    "num1 + num2"
   ]
  },
  {
   "cell_type": "code",
   "execution_count": null,
   "id": "2fcb8094",
   "metadata": {
    "scrolled": true
   },
   "outputs": [],
   "source": []
  }
 ],
 "metadata": {
  "kernelspec": {
   "display_name": "Python 3 (ipykernel)",
   "language": "python",
   "name": "python3"
  },
  "language_info": {
   "codemirror_mode": {
    "name": "ipython",
    "version": 3
   },
   "file_extension": ".py",
   "mimetype": "text/x-python",
   "name": "python",
   "nbconvert_exporter": "python",
   "pygments_lexer": "ipython3",
   "version": "3.9.13"
  }
 },
 "nbformat": 4,
 "nbformat_minor": 5
}
