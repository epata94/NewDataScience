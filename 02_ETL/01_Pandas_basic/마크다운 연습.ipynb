{
 "cells": [
  {
   "cell_type": "markdown",
   "id": "ae3be721",
   "metadata": {},
   "source": [
    "   # 제목 크기 별 표시\n",
    "   ### (최대 6단계 까지 표시)"
   ]
  },
  {
   "cell_type": "code",
   "execution_count": null,
   "id": "87c79a9d",
   "metadata": {},
   "outputs": [],
   "source": [
    "# 첫 번째 큰 제목\n",
    "\n",
    "## 두 번째 큰 제목\n",
    "\n",
    "### 세 번째 큰 제목\n",
    "\n",
    "#### 네 번째 제목\n",
    "\n",
    "##### 다섯 번째 제목\n",
    "\n",
    "###### 여섯 번째 제목"
   ]
  },
  {
   "cell_type": "markdown",
   "id": "23def58f",
   "metadata": {},
   "source": [
    "# 첫 번째 큰 제목\n",
    "\n",
    "## 두 번째 큰 제목\n",
    "\n",
    "### 세 번째 큰 제목\n",
    "\n",
    "#### 네 번째 제목\n",
    "\n",
    "##### 다섯 번째 제목\n",
    "\n",
    "###### 여섯 번째 제목"
   ]
  },
  {
   "cell_type": "markdown",
   "id": "51194f7c",
   "metadata": {},
   "source": [
    "## 단축키 1~6 으로 크기 조정"
   ]
  },
  {
   "cell_type": "markdown",
   "id": "97941666",
   "metadata": {},
   "source": [
    "# 이 문장의 크기를 단축키로 바꿔보세요"
   ]
  },
  {
   "cell_type": "markdown",
   "id": "8f24f31e",
   "metadata": {},
   "source": [
    "# Code"
   ]
  },
  {
   "cell_type": "code",
   "execution_count": 1,
   "id": "59929fc7",
   "metadata": {},
   "outputs": [
    {
     "data": {
      "text/plain": [
       "'\\n~~~python\\nimport pandas as ps\\nnum1 += 1\\n\"\"\"\\n프로그램 알고리즘 작성\\n\"\"\"\\n~~~\\n'"
      ]
     },
     "execution_count": 1,
     "metadata": {},
     "output_type": "execute_result"
    }
   ],
   "source": [
    "'''\n",
    "~~~python\n",
    "import pandas as ps\n",
    "num1 += 1\n",
    "\"\"\"\n",
    "프로그램 알고리즘 작성\n",
    "\"\"\"\n",
    "~~~\n",
    "'''"
   ]
  },
  {
   "cell_type": "markdown",
   "id": "cc74d07d",
   "metadata": {},
   "source": [
    "~~~python\n",
    "import pandas as ps\n",
    "num1 += 1\n",
    "\"\"\"\n",
    "프로그램 알고리즘 작성\n",
    "\"\"\"\n",
    "~~~"
   ]
  },
  {
   "cell_type": "markdown",
   "id": "02b680ab",
   "metadata": {},
   "source": [
    "# 수평선"
   ]
  },
  {
   "cell_type": "raw",
   "id": "d974cb3c",
   "metadata": {},
   "source": [
    "***\n",
    "---"
   ]
  },
  {
   "cell_type": "markdown",
   "id": "9a2b9a77",
   "metadata": {},
   "source": [
    "***"
   ]
  },
  {
   "cell_type": "markdown",
   "id": "08b52b79",
   "metadata": {},
   "source": [
    "---"
   ]
  },
  {
   "cell_type": "markdown",
   "id": "1b183801",
   "metadata": {},
   "source": [
    "# 목록"
   ]
  },
  {
   "cell_type": "raw",
   "id": "5d17f5eb",
   "metadata": {},
   "source": [
    "+ 첫번째\n",
    "\n",
    "+ 두번째\n",
    "\n",
    "+ 세번째\n",
    "\n",
    "\n",
    "\n",
    "- 첫번째\n",
    "\n",
    "- 두번째\n",
    "\n",
    "- 세번째\n",
    "\n",
    "\n",
    "\n",
    "* 첫번째\n",
    "\n",
    "* 두번째\n",
    "\n",
    "* 세번째"
   ]
  },
  {
   "cell_type": "markdown",
   "id": "69929a8b",
   "metadata": {},
   "source": [
    "# 블릿\n",
    "## 블릿 입력기호"
   ]
  },
  {
   "cell_type": "markdown",
   "id": "e8c49548",
   "metadata": {},
   "source": [
    "+ 첫번째\n",
    "\n",
    "+ 두번째\n",
    "\n",
    "+ 세번째\n",
    "\n",
    "\n",
    "\n",
    "- 첫번째\n",
    "\n",
    "- 두번째\n",
    "\n",
    "- 세번째\n",
    "\n",
    "\n",
    "\n",
    "* 첫번째\n",
    "\n",
    "* 두번째\n",
    "\n",
    "* 세번째"
   ]
  },
  {
   "cell_type": "raw",
   "id": "5fb995fa",
   "metadata": {},
   "source": [
    "+ 첫번째\n",
    "\n",
    "     + 두번째\n",
    "\n",
    "          + 세번째\n",
    "\n",
    "- 첫번째\n",
    "\n",
    "     - 두번째\n",
    "\n",
    "          - 세번째\n",
    "\n",
    "* 첫번째\n",
    "\n",
    "     * 두번째\n",
    "\n",
    "          * 세번째"
   ]
  },
  {
   "cell_type": "markdown",
   "id": "6448f8ec",
   "metadata": {},
   "source": [
    "## Depth별 블릿 기호"
   ]
  },
  {
   "cell_type": "markdown",
   "id": "def85d48",
   "metadata": {},
   "source": [
    "+ 첫번째\n",
    "\n",
    "     + 두번째\n",
    "\n",
    "          + 세번째\n",
    "\n",
    "- 첫번째\n",
    "\n",
    "     - 두번째\n",
    "\n",
    "          - 세번째\n",
    "\n",
    "* 첫번째\n",
    "\n",
    "     * 두번째\n",
    "\n",
    "          * 세번째\n"
   ]
  },
  {
   "cell_type": "markdown",
   "id": "3cc97e54",
   "metadata": {},
   "source": [
    "* 첫번째\n",
    "    * 두 번째\n",
    "        * 세 번째"
   ]
  },
  {
   "cell_type": "markdown",
   "id": "00f844ac",
   "metadata": {},
   "source": [
    "# 글씨 효과"
   ]
  },
  {
   "cell_type": "raw",
   "id": "6cd32b0c",
   "metadata": {},
   "source": [
    "*기울어진 글씨* \n",
    "\n",
    "_기울어진 글씨_ \n",
    "\n",
    "**굵은 글씨** \n",
    "\n",
    "__굵은 글씨__ \n",
    "\n",
    "~~줄그어진 글씨~"
   ]
  },
  {
   "cell_type": "markdown",
   "id": "c0f043e6",
   "metadata": {},
   "source": [
    "*기울어진 글씨* \n",
    "\n",
    "_기울어진 글씨_ \n",
    "\n",
    "**굵은 글씨** \n",
    "\n",
    "__굵은 글씨__ \n",
    "\n",
    "~~줄그어진 글씨~"
   ]
  },
  {
   "cell_type": "markdown",
   "id": "f0b3574a",
   "metadata": {},
   "source": [
    "# 하이퍼링크"
   ]
  },
  {
   "cell_type": "raw",
   "id": "0ca894cd",
   "metadata": {},
   "source": [
    "[홈페이지이름](URL)\n",
    "예)\n",
    "[네이버](http://www.naver.com)"
   ]
  },
  {
   "cell_type": "markdown",
   "id": "15128036",
   "metadata": {},
   "source": [
    "[네이버](http://www.naver.com)"
   ]
  },
  {
   "cell_type": "markdown",
   "id": "42ef9974",
   "metadata": {},
   "source": [
    "# 줄바꿈"
   ]
  },
  {
   "cell_type": "raw",
   "id": "0e708e8b",
   "metadata": {},
   "source": [
    "나는 자랑스러운 태극기 앞에[공백(Space)문자 2개]  \n",
    "조국과 민족의 무궁한"
   ]
  },
  {
   "cell_type": "markdown",
   "id": "91e7921c",
   "metadata": {},
   "source": [
    "나는 자랑스러운 태극기 앞에  \n",
    "조국과 민족의 무궁한"
   ]
  },
  {
   "cell_type": "markdown",
   "id": "1dc66655",
   "metadata": {},
   "source": [
    "# 테이블"
   ]
  },
  {
   "cell_type": "raw",
   "id": "e447208f",
   "metadata": {},
   "source": [
    "|  이름  | 국어성적 | 영어성적 | 수학성적 |\n",
    "|--------|----------|----------|----------|\n",
    "| 홍길동 |    90    |    79    |    80    |\n",
    "| 이순신 |    90    |    79    |    80    |\n",
    "| 임꺽정 |    90    |    79    |    80    |"
   ]
  },
  {
   "cell_type": "markdown",
   "id": "e1de2d34",
   "metadata": {},
   "source": [
    "|  이름  | 국어성적 | 영어성적 | 수학성적 |\n",
    "|--------|----------|----------|----------|\n",
    "| 홍길동 |    90    |    79    |    80    |\n",
    "| 이순신 |    90    |    79    |    80    |\n",
    "| 임꺽정 |    90    |    79    |    80    |"
   ]
  },
  {
   "cell_type": "markdown",
   "id": "83f9f8b9",
   "metadata": {},
   "source": [
    "# 수학공식"
   ]
  },
  {
   "cell_type": "markdown",
   "id": "3dea7adb",
   "metadata": {},
   "source": [
    "[LaTex 문법](https://ko.wikipedia.org/wiki/%EC%9C%84%ED%82%A4%EB%B0%B1%EA%B3%BC:TeX_%EB%AC%B8%EB%B2%95) 을 따름"
   ]
  },
  {
   "cell_type": "raw",
   "id": "8e12126b",
   "metadata": {},
   "source": [
    "사용예)\n",
    "$$\\sqrt{x^3+y^3 \\over 2}$$"
   ]
  },
  {
   "cell_type": "markdown",
   "id": "299894c2",
   "metadata": {},
   "source": [
    "$$\\sqrt{x^3+y^3 \\over 2}$$"
   ]
  },
  {
   "cell_type": "markdown",
   "id": "ed613890",
   "metadata": {},
   "source": [
    "# HTML 코드"
   ]
  },
  {
   "cell_type": "markdown",
   "id": "95211c11",
   "metadata": {},
   "source": [
    "## 글자색상"
   ]
  },
  {
   "cell_type": "markdown",
   "id": "685d42f7",
   "metadata": {},
   "source": [
    "~~~python\n",
    "\"\"\"\n",
    "<span style=\"color:red\">빨간색 글씨</span>  \n",
    "<span style=\"color:blue\">파란색 글씨</span>\n",
    "<span style=\"color:#F8766D\">색상코드의 글씨</span>\n",
    "\"\"\"\n",
    "~~~"
   ]
  },
  {
   "cell_type": "markdown",
   "id": "52d21c24",
   "metadata": {},
   "source": [
    "<span style=\"color:red\">빨간색 글씨</span>  \n",
    "<span style=\"color:blue\">파란색 글씨</span>  \n",
    "<span style=\"color:#F8766D\">색상코드의 글씨</span>"
   ]
  },
  {
   "cell_type": "markdown",
   "id": "7d60051c",
   "metadata": {},
   "source": [
    "## Table"
   ]
  },
  {
   "cell_type": "markdown",
   "id": "9ce22494",
   "metadata": {},
   "source": [
    "~~~python\n",
    "\"\"\"\n",
    "<table border=\"\">\n",
    "  <th>이름</th><th>나이</th>\n",
    "    <tr>\n",
    "      <td>사람1</td>\n",
    "      <td>20</td>\n",
    "    </tr>\n",
    "    <tr>\n",
    "      <td>사람2</td>\n",
    "      <td>22</td>\n",
    "    </tr>\n",
    "</table>\n",
    "\"\"\"\n",
    "~~~"
   ]
  },
  {
   "cell_type": "markdown",
   "id": "00f527f0",
   "metadata": {},
   "source": [
    "<table border=\"\">\n",
    "  <th>이름</th><th>나이</th>\n",
    "    <tr>\n",
    "      <td>사람1</td>\n",
    "      <td>20</td>\n",
    "    </tr>\n",
    "    <tr>\n",
    "      <td>사람2</td>\n",
    "      <td>22</td>\n",
    "    </tr>\n",
    "</table>"
   ]
  },
  {
   "cell_type": "code",
   "execution_count": null,
   "id": "3c7fa24a",
   "metadata": {},
   "outputs": [],
   "source": []
  },
  {
   "cell_type": "code",
   "execution_count": null,
   "id": "25d579a0",
   "metadata": {},
   "outputs": [],
   "source": []
  }
 ],
 "metadata": {
  "kernelspec": {
   "display_name": "Python 3 (ipykernel)",
   "language": "python",
   "name": "python3"
  },
  "language_info": {
   "codemirror_mode": {
    "name": "ipython",
    "version": 3
   },
   "file_extension": ".py",
   "mimetype": "text/x-python",
   "name": "python",
   "nbconvert_exporter": "python",
   "pygments_lexer": "ipython3",
   "version": "3.9.13"
  }
 },
 "nbformat": 4,
 "nbformat_minor": 5
}
