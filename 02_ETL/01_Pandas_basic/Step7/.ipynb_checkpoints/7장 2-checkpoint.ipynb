{
 "cells": [
  {
   "cell_type": "code",
   "execution_count": 1,
   "metadata": {},
   "outputs": [],
   "source": [
    "import pandas as pd"
   ]
  },
  {
   "cell_type": "markdown",
   "metadata": {},
   "source": [
    "## 예제 7-4   샘플링 데이터 처리하기"
   ]
  },
  {
   "cell_type": "markdown",
   "metadata": {},
   "source": [
    "!python -m pip install --upgrade pip"
   ]
  },
  {
   "cell_type": "markdown",
   "metadata": {},
   "source": [
    "!pip install pandas_datareader --upgrade"
   ]
  },
  {
   "cell_type": "code",
   "execution_count": 2,
   "metadata": {},
   "outputs": [],
   "source": [
    "from pandas_datareader import data"
   ]
  },
  {
   "cell_type": "code",
   "execution_count": 3,
   "metadata": {},
   "outputs": [],
   "source": [
    "import datetime"
   ]
  },
  {
   "cell_type": "code",
   "execution_count": 4,
   "metadata": {},
   "outputs": [],
   "source": [
    "start = datetime.datetime(2018, 1, 2)"
   ]
  },
  {
   "cell_type": "code",
   "execution_count": 5,
   "metadata": {},
   "outputs": [],
   "source": [
    "end = datetime.datetime(2018, 4, 3)"
   ]
  },
  {
   "cell_type": "code",
   "execution_count": 12,
   "metadata": {},
   "outputs": [],
   "source": [
    "cel = data.DataReader(\"068270.KS\", \"yahoo\", start, end)"
   ]
  },
  {
   "cell_type": "code",
   "execution_count": 13,
   "metadata": {},
   "outputs": [
    {
     "data": {
      "text/plain": [
       "(63, 6)"
      ]
     },
     "execution_count": 13,
     "metadata": {},
     "output_type": "execute_result"
    }
   ],
   "source": [
    "cel.shape"
   ]
  },
  {
   "cell_type": "code",
   "execution_count": 14,
   "metadata": {},
   "outputs": [
    {
     "data": {
      "text/html": [
       "<div>\n",
       "<style scoped>\n",
       "    .dataframe tbody tr th:only-of-type {\n",
       "        vertical-align: middle;\n",
       "    }\n",
       "\n",
       "    .dataframe tbody tr th {\n",
       "        vertical-align: top;\n",
       "    }\n",
       "\n",
       "    .dataframe thead th {\n",
       "        text-align: right;\n",
       "    }\n",
       "</style>\n",
       "<table border=\"1\" class=\"dataframe\">\n",
       "  <thead>\n",
       "    <tr style=\"text-align: right;\">\n",
       "      <th></th>\n",
       "      <th>High</th>\n",
       "      <th>Low</th>\n",
       "      <th>Open</th>\n",
       "      <th>Close</th>\n",
       "      <th>Volume</th>\n",
       "      <th>Adj Close</th>\n",
       "    </tr>\n",
       "    <tr>\n",
       "      <th>Date</th>\n",
       "      <th></th>\n",
       "      <th></th>\n",
       "      <th></th>\n",
       "      <th></th>\n",
       "      <th></th>\n",
       "      <th></th>\n",
       "    </tr>\n",
       "  </thead>\n",
       "  <tbody>\n",
       "    <tr>\n",
       "      <th>2018-01-02</th>\n",
       "      <td>204349.328125</td>\n",
       "      <td>199413.359375</td>\n",
       "      <td>200669.781250</td>\n",
       "      <td>202733.921875</td>\n",
       "      <td>1310873</td>\n",
       "      <td>202015.90625</td>\n",
       "    </tr>\n",
       "    <tr>\n",
       "      <th>2018-01-03</th>\n",
       "      <td>221849.593750</td>\n",
       "      <td>203810.859375</td>\n",
       "      <td>205426.265625</td>\n",
       "      <td>221400.875000</td>\n",
       "      <td>2686681</td>\n",
       "      <td>220616.75000</td>\n",
       "    </tr>\n",
       "    <tr>\n",
       "      <th>2018-01-04</th>\n",
       "      <td>234413.906250</td>\n",
       "      <td>220144.453125</td>\n",
       "      <td>224003.484375</td>\n",
       "      <td>224362.453125</td>\n",
       "      <td>3638673</td>\n",
       "      <td>223567.84375</td>\n",
       "    </tr>\n",
       "    <tr>\n",
       "      <th>2018-01-05</th>\n",
       "      <td>239619.109375</td>\n",
       "      <td>227952.265625</td>\n",
       "      <td>228759.968750</td>\n",
       "      <td>239529.359375</td>\n",
       "      <td>2140418</td>\n",
       "      <td>238681.03125</td>\n",
       "    </tr>\n",
       "    <tr>\n",
       "      <th>2018-01-08</th>\n",
       "      <td>272106.781250</td>\n",
       "      <td>248773.093750</td>\n",
       "      <td>249939.781250</td>\n",
       "      <td>271478.562500</td>\n",
       "      <td>4789983</td>\n",
       "      <td>270517.09375</td>\n",
       "    </tr>\n",
       "  </tbody>\n",
       "</table>\n",
       "</div>"
      ],
      "text/plain": [
       "                     High            Low           Open          Close  \\\n",
       "Date                                                                     \n",
       "2018-01-02  204349.328125  199413.359375  200669.781250  202733.921875   \n",
       "2018-01-03  221849.593750  203810.859375  205426.265625  221400.875000   \n",
       "2018-01-04  234413.906250  220144.453125  224003.484375  224362.453125   \n",
       "2018-01-05  239619.109375  227952.265625  228759.968750  239529.359375   \n",
       "2018-01-08  272106.781250  248773.093750  249939.781250  271478.562500   \n",
       "\n",
       "             Volume     Adj Close  \n",
       "Date                               \n",
       "2018-01-02  1310873  202015.90625  \n",
       "2018-01-03  2686681  220616.75000  \n",
       "2018-01-04  3638673  223567.84375  \n",
       "2018-01-05  2140418  238681.03125  \n",
       "2018-01-08  4789983  270517.09375  "
      ]
     },
     "execution_count": 14,
     "metadata": {},
     "output_type": "execute_result"
    }
   ],
   "source": [
    "cel.head()"
   ]
  },
  {
   "cell_type": "code",
   "execution_count": null,
   "metadata": {},
   "outputs": [],
   "source": []
  },
  {
   "cell_type": "code",
   "execution_count": 15,
   "metadata": {},
   "outputs": [
    {
     "data": {
      "text/html": [
       "<div>\n",
       "<style scoped>\n",
       "    .dataframe tbody tr th:only-of-type {\n",
       "        vertical-align: middle;\n",
       "    }\n",
       "\n",
       "    .dataframe tbody tr th {\n",
       "        vertical-align: top;\n",
       "    }\n",
       "\n",
       "    .dataframe thead th {\n",
       "        text-align: right;\n",
       "    }\n",
       "</style>\n",
       "<table border=\"1\" class=\"dataframe\">\n",
       "  <thead>\n",
       "    <tr style=\"text-align: right;\">\n",
       "      <th></th>\n",
       "      <th>High</th>\n",
       "      <th>Low</th>\n",
       "      <th>Open</th>\n",
       "      <th>Close</th>\n",
       "      <th>Volume</th>\n",
       "      <th>Adj Close</th>\n",
       "    </tr>\n",
       "    <tr>\n",
       "      <th>Date</th>\n",
       "      <th></th>\n",
       "      <th></th>\n",
       "      <th></th>\n",
       "      <th></th>\n",
       "      <th></th>\n",
       "      <th></th>\n",
       "    </tr>\n",
       "  </thead>\n",
       "  <tbody>\n",
       "    <tr>\n",
       "      <th>2018-03-12</th>\n",
       "      <td>299299.53125</td>\n",
       "      <td>281350.531250</td>\n",
       "      <td>290773.7500</td>\n",
       "      <td>288978.84375</td>\n",
       "      <td>2870306</td>\n",
       "      <td>287955.375000</td>\n",
       "    </tr>\n",
       "    <tr>\n",
       "      <th>2018-02-14</th>\n",
       "      <td>281350.53125</td>\n",
       "      <td>266093.875000</td>\n",
       "      <td>268337.5000</td>\n",
       "      <td>280453.06250</td>\n",
       "      <td>1912041</td>\n",
       "      <td>279459.781250</td>\n",
       "    </tr>\n",
       "    <tr>\n",
       "      <th>2018-01-19</th>\n",
       "      <td>287901.90625</td>\n",
       "      <td>255234.734375</td>\n",
       "      <td>287183.9375</td>\n",
       "      <td>258286.06250</td>\n",
       "      <td>4184709</td>\n",
       "      <td>257371.296875</td>\n",
       "    </tr>\n",
       "  </tbody>\n",
       "</table>\n",
       "</div>"
      ],
      "text/plain": [
       "                    High            Low         Open         Close   Volume  \\\n",
       "Date                                                                          \n",
       "2018-03-12  299299.53125  281350.531250  290773.7500  288978.84375  2870306   \n",
       "2018-02-14  281350.53125  266093.875000  268337.5000  280453.06250  1912041   \n",
       "2018-01-19  287901.90625  255234.734375  287183.9375  258286.06250  4184709   \n",
       "\n",
       "                Adj Close  \n",
       "Date                       \n",
       "2018-03-12  287955.375000  \n",
       "2018-02-14  279459.781250  \n",
       "2018-01-19  257371.296875  "
      ]
     },
     "execution_count": 15,
     "metadata": {},
     "output_type": "execute_result"
    }
   ],
   "source": [
    "cel.sample(n=3)"
   ]
  },
  {
   "cell_type": "code",
   "execution_count": 16,
   "metadata": {},
   "outputs": [
    {
     "data": {
      "text/plain": [
       "(63, 6)"
      ]
     },
     "execution_count": 16,
     "metadata": {},
     "output_type": "execute_result"
    }
   ],
   "source": [
    "cel.shape"
   ]
  },
  {
   "cell_type": "code",
   "execution_count": 11,
   "metadata": {},
   "outputs": [
    {
     "data": {
      "text/html": [
       "<div>\n",
       "<style scoped>\n",
       "    .dataframe tbody tr th:only-of-type {\n",
       "        vertical-align: middle;\n",
       "    }\n",
       "\n",
       "    .dataframe tbody tr th {\n",
       "        vertical-align: top;\n",
       "    }\n",
       "\n",
       "    .dataframe thead th {\n",
       "        text-align: right;\n",
       "    }\n",
       "</style>\n",
       "<table border=\"1\" class=\"dataframe\">\n",
       "  <thead>\n",
       "    <tr style=\"text-align: right;\">\n",
       "      <th></th>\n",
       "      <th>High</th>\n",
       "      <th>Low</th>\n",
       "      <th>Open</th>\n",
       "      <th>Close</th>\n",
       "      <th>Volume</th>\n",
       "      <th>Adj Close</th>\n",
       "    </tr>\n",
       "    <tr>\n",
       "      <th>Date</th>\n",
       "      <th></th>\n",
       "      <th></th>\n",
       "      <th></th>\n",
       "      <th></th>\n",
       "      <th></th>\n",
       "      <th></th>\n",
       "    </tr>\n",
       "  </thead>\n",
       "  <tbody>\n",
       "    <tr>\n",
       "      <th>2018-01-09</th>\n",
       "      <td>287183.93750</td>\n",
       "      <td>261337.390625</td>\n",
       "      <td>272824.750000</td>\n",
       "      <td>262504.09375</td>\n",
       "      <td>5692445</td>\n",
       "      <td>261574.390625</td>\n",
       "    </tr>\n",
       "    <tr>\n",
       "      <th>2018-03-08</th>\n",
       "      <td>317697.25000</td>\n",
       "      <td>296607.187500</td>\n",
       "      <td>297055.906250</td>\n",
       "      <td>317697.25000</td>\n",
       "      <td>8626021</td>\n",
       "      <td>316572.062500</td>\n",
       "    </tr>\n",
       "    <tr>\n",
       "      <th>2018-01-03</th>\n",
       "      <td>221849.59375</td>\n",
       "      <td>203810.859375</td>\n",
       "      <td>205426.265625</td>\n",
       "      <td>221400.87500</td>\n",
       "      <td>2686681</td>\n",
       "      <td>220616.750000</td>\n",
       "    </tr>\n",
       "  </tbody>\n",
       "</table>\n",
       "</div>"
      ],
      "text/plain": [
       "                    High            Low           Open         Close   Volume  \\\n",
       "Date                                                                            \n",
       "2018-01-09  287183.93750  261337.390625  272824.750000  262504.09375  5692445   \n",
       "2018-03-08  317697.25000  296607.187500  297055.906250  317697.25000  8626021   \n",
       "2018-01-03  221849.59375  203810.859375  205426.265625  221400.87500  2686681   \n",
       "\n",
       "                Adj Close  \n",
       "Date                       \n",
       "2018-01-09  261574.390625  \n",
       "2018-03-08  316572.062500  \n",
       "2018-01-03  220616.750000  "
      ]
     },
     "execution_count": 11,
     "metadata": {},
     "output_type": "execute_result"
    }
   ],
   "source": [
    "# 랜덤하게 셈플링하기 때문에 수행 할 때 마다 다른 결과값을 같는다.\n",
    "cel.sample(n=3)"
   ]
  },
  {
   "cell_type": "code",
   "execution_count": 54,
   "metadata": {},
   "outputs": [
    {
     "data": {
      "text/plain": [
       "(63, 6)"
      ]
     },
     "execution_count": 54,
     "metadata": {},
     "output_type": "execute_result"
    }
   ],
   "source": [
    "cel.shape"
   ]
  },
  {
   "cell_type": "code",
   "execution_count": 56,
   "metadata": {},
   "outputs": [
    {
     "data": {
      "text/plain": [
       "6"
      ]
     },
     "execution_count": 56,
     "metadata": {},
     "output_type": "execute_result"
    }
   ],
   "source": [
    "int(cel.shape[0]/10)"
   ]
  },
  {
   "cell_type": "code",
   "execution_count": 17,
   "metadata": {},
   "outputs": [
    {
     "data": {
      "text/html": [
       "<div>\n",
       "<style scoped>\n",
       "    .dataframe tbody tr th:only-of-type {\n",
       "        vertical-align: middle;\n",
       "    }\n",
       "\n",
       "    .dataframe tbody tr th {\n",
       "        vertical-align: top;\n",
       "    }\n",
       "\n",
       "    .dataframe thead th {\n",
       "        text-align: right;\n",
       "    }\n",
       "</style>\n",
       "<table border=\"1\" class=\"dataframe\">\n",
       "  <thead>\n",
       "    <tr style=\"text-align: right;\">\n",
       "      <th></th>\n",
       "      <th>High</th>\n",
       "      <th>Low</th>\n",
       "      <th>Open</th>\n",
       "      <th>Close</th>\n",
       "      <th>Volume</th>\n",
       "      <th>Adj Close</th>\n",
       "    </tr>\n",
       "    <tr>\n",
       "      <th>Date</th>\n",
       "      <th></th>\n",
       "      <th></th>\n",
       "      <th></th>\n",
       "      <th></th>\n",
       "      <th></th>\n",
       "      <th></th>\n",
       "    </tr>\n",
       "  </thead>\n",
       "  <tbody>\n",
       "    <tr>\n",
       "      <th>2018-02-12</th>\n",
       "      <td>279555.62500</td>\n",
       "      <td>264747.71875</td>\n",
       "      <td>265196.43750</td>\n",
       "      <td>271478.56250</td>\n",
       "      <td>2353686</td>\n",
       "      <td>270517.09375</td>\n",
       "    </tr>\n",
       "    <tr>\n",
       "      <th>2018-03-23</th>\n",
       "      <td>280453.06250</td>\n",
       "      <td>267440.06250</td>\n",
       "      <td>271478.56250</td>\n",
       "      <td>269234.93750</td>\n",
       "      <td>1652620</td>\n",
       "      <td>268281.40625</td>\n",
       "    </tr>\n",
       "    <tr>\n",
       "      <th>2018-02-27</th>\n",
       "      <td>318145.96875</td>\n",
       "      <td>296607.18750</td>\n",
       "      <td>299748.25000</td>\n",
       "      <td>315004.90625</td>\n",
       "      <td>2337601</td>\n",
       "      <td>313889.28125</td>\n",
       "    </tr>\n",
       "    <tr>\n",
       "      <th>2018-01-31</th>\n",
       "      <td>289068.59375</td>\n",
       "      <td>280453.06250</td>\n",
       "      <td>285030.06250</td>\n",
       "      <td>283324.90625</td>\n",
       "      <td>1541541</td>\n",
       "      <td>282321.46875</td>\n",
       "    </tr>\n",
       "    <tr>\n",
       "      <th>2018-03-20</th>\n",
       "      <td>291671.18750</td>\n",
       "      <td>280453.06250</td>\n",
       "      <td>283594.15625</td>\n",
       "      <td>289427.56250</td>\n",
       "      <td>1293359</td>\n",
       "      <td>288402.50000</td>\n",
       "    </tr>\n",
       "    <tr>\n",
       "      <th>2018-03-22</th>\n",
       "      <td>286286.50000</td>\n",
       "      <td>273722.18750</td>\n",
       "      <td>280004.34375</td>\n",
       "      <td>278658.18750</td>\n",
       "      <td>1311654</td>\n",
       "      <td>277671.28125</td>\n",
       "    </tr>\n",
       "  </tbody>\n",
       "</table>\n",
       "</div>"
      ],
      "text/plain": [
       "                    High           Low          Open         Close   Volume  \\\n",
       "Date                                                                          \n",
       "2018-02-12  279555.62500  264747.71875  265196.43750  271478.56250  2353686   \n",
       "2018-03-23  280453.06250  267440.06250  271478.56250  269234.93750  1652620   \n",
       "2018-02-27  318145.96875  296607.18750  299748.25000  315004.90625  2337601   \n",
       "2018-01-31  289068.59375  280453.06250  285030.06250  283324.90625  1541541   \n",
       "2018-03-20  291671.18750  280453.06250  283594.15625  289427.56250  1293359   \n",
       "2018-03-22  286286.50000  273722.18750  280004.34375  278658.18750  1311654   \n",
       "\n",
       "               Adj Close  \n",
       "Date                      \n",
       "2018-02-12  270517.09375  \n",
       "2018-03-23  268281.40625  \n",
       "2018-02-27  313889.28125  \n",
       "2018-01-31  282321.46875  \n",
       "2018-03-20  288402.50000  \n",
       "2018-03-22  277671.28125  "
      ]
     },
     "execution_count": 17,
     "metadata": {},
     "output_type": "execute_result"
    }
   ],
   "source": [
    "# 고정개수가 아닌 퍼센트 단위로 추출\n",
    "# frac의 인자 0.1은 10%를 의미함\n",
    "cel.sample(frac=0.1)"
   ]
  },
  {
   "cell_type": "code",
   "execution_count": 18,
   "metadata": {},
   "outputs": [
    {
     "data": {
      "text/plain": [
       "(63, 6)"
      ]
     },
     "execution_count": 18,
     "metadata": {},
     "output_type": "execute_result"
    }
   ],
   "source": [
    "cel.shape"
   ]
  },
  {
   "cell_type": "code",
   "execution_count": null,
   "metadata": {},
   "outputs": [],
   "source": []
  },
  {
   "cell_type": "code",
   "execution_count": 21,
   "metadata": {},
   "outputs": [
    {
     "data": {
      "text/html": [
       "<div>\n",
       "<style scoped>\n",
       "    .dataframe tbody tr th:only-of-type {\n",
       "        vertical-align: middle;\n",
       "    }\n",
       "\n",
       "    .dataframe tbody tr th {\n",
       "        vertical-align: top;\n",
       "    }\n",
       "\n",
       "    .dataframe thead th {\n",
       "        text-align: right;\n",
       "    }\n",
       "</style>\n",
       "<table border=\"1\" class=\"dataframe\">\n",
       "  <thead>\n",
       "    <tr style=\"text-align: right;\">\n",
       "      <th></th>\n",
       "      <th>High</th>\n",
       "      <th>Low</th>\n",
       "      <th>Open</th>\n",
       "      <th>Close</th>\n",
       "      <th>Volume</th>\n",
       "      <th>Adj Close</th>\n",
       "    </tr>\n",
       "    <tr>\n",
       "      <th>Date</th>\n",
       "      <th></th>\n",
       "      <th></th>\n",
       "      <th></th>\n",
       "      <th></th>\n",
       "      <th></th>\n",
       "      <th></th>\n",
       "    </tr>\n",
       "  </thead>\n",
       "  <tbody>\n",
       "    <tr>\n",
       "      <th>2018-03-05</th>\n",
       "      <td>351800.343750</td>\n",
       "      <td>320389.59375</td>\n",
       "      <td>346864.375000</td>\n",
       "      <td>335197.53125</td>\n",
       "      <td>3494736</td>\n",
       "      <td>334010.37500</td>\n",
       "    </tr>\n",
       "    <tr>\n",
       "      <th>2018-02-19</th>\n",
       "      <td>292568.656250</td>\n",
       "      <td>279555.62500</td>\n",
       "      <td>292568.656250</td>\n",
       "      <td>284042.87500</td>\n",
       "      <td>1498994</td>\n",
       "      <td>283036.90625</td>\n",
       "    </tr>\n",
       "    <tr>\n",
       "      <th>2018-01-18</th>\n",
       "      <td>290235.281250</td>\n",
       "      <td>274260.65625</td>\n",
       "      <td>277222.250000</td>\n",
       "      <td>286555.75000</td>\n",
       "      <td>2177417</td>\n",
       "      <td>285540.87500</td>\n",
       "    </tr>\n",
       "    <tr>\n",
       "      <th>2018-03-22</th>\n",
       "      <td>286286.500000</td>\n",
       "      <td>273722.18750</td>\n",
       "      <td>280004.343750</td>\n",
       "      <td>278658.18750</td>\n",
       "      <td>1311654</td>\n",
       "      <td>277671.28125</td>\n",
       "    </tr>\n",
       "    <tr>\n",
       "      <th>2018-03-23</th>\n",
       "      <td>280453.062500</td>\n",
       "      <td>267440.06250</td>\n",
       "      <td>271478.562500</td>\n",
       "      <td>269234.93750</td>\n",
       "      <td>1652620</td>\n",
       "      <td>268281.40625</td>\n",
       "    </tr>\n",
       "    <tr>\n",
       "      <th>2018-02-06</th>\n",
       "      <td>261337.390625</td>\n",
       "      <td>244285.84375</td>\n",
       "      <td>247875.640625</td>\n",
       "      <td>255055.25000</td>\n",
       "      <td>2893021</td>\n",
       "      <td>254151.93750</td>\n",
       "    </tr>\n",
       "  </tbody>\n",
       "</table>\n",
       "</div>"
      ],
      "text/plain": [
       "                     High           Low           Open         Close   Volume  \\\n",
       "Date                                                                            \n",
       "2018-03-05  351800.343750  320389.59375  346864.375000  335197.53125  3494736   \n",
       "2018-02-19  292568.656250  279555.62500  292568.656250  284042.87500  1498994   \n",
       "2018-01-18  290235.281250  274260.65625  277222.250000  286555.75000  2177417   \n",
       "2018-03-22  286286.500000  273722.18750  280004.343750  278658.18750  1311654   \n",
       "2018-03-23  280453.062500  267440.06250  271478.562500  269234.93750  1652620   \n",
       "2018-02-06  261337.390625  244285.84375  247875.640625  255055.25000  2893021   \n",
       "\n",
       "               Adj Close  \n",
       "Date                      \n",
       "2018-03-05  334010.37500  \n",
       "2018-02-19  283036.90625  \n",
       "2018-01-18  285540.87500  \n",
       "2018-03-22  277671.28125  \n",
       "2018-03-23  268281.40625  \n",
       "2018-02-06  254151.93750  "
      ]
     },
     "execution_count": 21,
     "metadata": {},
     "output_type": "execute_result"
    }
   ],
   "source": [
    "cel.sample(frac=0.1,random_state=100 )"
   ]
  },
  {
   "cell_type": "code",
   "execution_count": 22,
   "metadata": {},
   "outputs": [
    {
     "data": {
      "text/html": [
       "<div>\n",
       "<style scoped>\n",
       "    .dataframe tbody tr th:only-of-type {\n",
       "        vertical-align: middle;\n",
       "    }\n",
       "\n",
       "    .dataframe tbody tr th {\n",
       "        vertical-align: top;\n",
       "    }\n",
       "\n",
       "    .dataframe thead th {\n",
       "        text-align: right;\n",
       "    }\n",
       "</style>\n",
       "<table border=\"1\" class=\"dataframe\">\n",
       "  <thead>\n",
       "    <tr style=\"text-align: right;\">\n",
       "      <th></th>\n",
       "      <th>High</th>\n",
       "      <th>Low</th>\n",
       "      <th>Open</th>\n",
       "      <th>Close</th>\n",
       "      <th>Volume</th>\n",
       "      <th>Adj Close</th>\n",
       "    </tr>\n",
       "    <tr>\n",
       "      <th>Date</th>\n",
       "      <th></th>\n",
       "      <th></th>\n",
       "      <th></th>\n",
       "      <th></th>\n",
       "      <th></th>\n",
       "      <th></th>\n",
       "    </tr>\n",
       "  </thead>\n",
       "  <tbody>\n",
       "    <tr>\n",
       "      <th>2018-03-05</th>\n",
       "      <td>351800.343750</td>\n",
       "      <td>320389.59375</td>\n",
       "      <td>346864.375000</td>\n",
       "      <td>335197.53125</td>\n",
       "      <td>3494736</td>\n",
       "      <td>334010.37500</td>\n",
       "    </tr>\n",
       "    <tr>\n",
       "      <th>2018-02-19</th>\n",
       "      <td>292568.656250</td>\n",
       "      <td>279555.62500</td>\n",
       "      <td>292568.656250</td>\n",
       "      <td>284042.87500</td>\n",
       "      <td>1498994</td>\n",
       "      <td>283036.90625</td>\n",
       "    </tr>\n",
       "    <tr>\n",
       "      <th>2018-01-18</th>\n",
       "      <td>290235.281250</td>\n",
       "      <td>274260.65625</td>\n",
       "      <td>277222.250000</td>\n",
       "      <td>286555.75000</td>\n",
       "      <td>2177417</td>\n",
       "      <td>285540.87500</td>\n",
       "    </tr>\n",
       "    <tr>\n",
       "      <th>2018-03-22</th>\n",
       "      <td>286286.500000</td>\n",
       "      <td>273722.18750</td>\n",
       "      <td>280004.343750</td>\n",
       "      <td>278658.18750</td>\n",
       "      <td>1311654</td>\n",
       "      <td>277671.28125</td>\n",
       "    </tr>\n",
       "    <tr>\n",
       "      <th>2018-03-23</th>\n",
       "      <td>280453.062500</td>\n",
       "      <td>267440.06250</td>\n",
       "      <td>271478.562500</td>\n",
       "      <td>269234.93750</td>\n",
       "      <td>1652620</td>\n",
       "      <td>268281.40625</td>\n",
       "    </tr>\n",
       "    <tr>\n",
       "      <th>2018-02-06</th>\n",
       "      <td>261337.390625</td>\n",
       "      <td>244285.84375</td>\n",
       "      <td>247875.640625</td>\n",
       "      <td>255055.25000</td>\n",
       "      <td>2893021</td>\n",
       "      <td>254151.93750</td>\n",
       "    </tr>\n",
       "  </tbody>\n",
       "</table>\n",
       "</div>"
      ],
      "text/plain": [
       "                     High           Low           Open         Close   Volume  \\\n",
       "Date                                                                            \n",
       "2018-03-05  351800.343750  320389.59375  346864.375000  335197.53125  3494736   \n",
       "2018-02-19  292568.656250  279555.62500  292568.656250  284042.87500  1498994   \n",
       "2018-01-18  290235.281250  274260.65625  277222.250000  286555.75000  2177417   \n",
       "2018-03-22  286286.500000  273722.18750  280004.343750  278658.18750  1311654   \n",
       "2018-03-23  280453.062500  267440.06250  271478.562500  269234.93750  1652620   \n",
       "2018-02-06  261337.390625  244285.84375  247875.640625  255055.25000  2893021   \n",
       "\n",
       "               Adj Close  \n",
       "Date                      \n",
       "2018-03-05  334010.37500  \n",
       "2018-02-19  283036.90625  \n",
       "2018-01-18  285540.87500  \n",
       "2018-03-22  277671.28125  \n",
       "2018-03-23  268281.40625  \n",
       "2018-02-06  254151.93750  "
      ]
     },
     "execution_count": 22,
     "metadata": {},
     "output_type": "execute_result"
    }
   ],
   "source": [
    "# 동일한 random_state 값으로 샘플링할 경우에는 같은 결과의 값을 같는다.\n",
    "cel.sample(frac=0.1,random_state=100 )"
   ]
  },
  {
   "cell_type": "code",
   "execution_count": 23,
   "metadata": {},
   "outputs": [
    {
     "data": {
      "text/html": [
       "<div>\n",
       "<style scoped>\n",
       "    .dataframe tbody tr th:only-of-type {\n",
       "        vertical-align: middle;\n",
       "    }\n",
       "\n",
       "    .dataframe tbody tr th {\n",
       "        vertical-align: top;\n",
       "    }\n",
       "\n",
       "    .dataframe thead th {\n",
       "        text-align: right;\n",
       "    }\n",
       "</style>\n",
       "<table border=\"1\" class=\"dataframe\">\n",
       "  <thead>\n",
       "    <tr style=\"text-align: right;\">\n",
       "      <th></th>\n",
       "      <th>High</th>\n",
       "      <th>Low</th>\n",
       "      <th>Open</th>\n",
       "      <th>Close</th>\n",
       "      <th>Volume</th>\n",
       "      <th>Adj Close</th>\n",
       "    </tr>\n",
       "  </thead>\n",
       "  <tbody>\n",
       "    <tr>\n",
       "      <th>count</th>\n",
       "      <td>63.000000</td>\n",
       "      <td>63.000000</td>\n",
       "      <td>63.000000</td>\n",
       "      <td>63.000000</td>\n",
       "      <td>6.300000e+01</td>\n",
       "      <td>63.000000</td>\n",
       "    </tr>\n",
       "    <tr>\n",
       "      <th>mean</th>\n",
       "      <td>286024.387153</td>\n",
       "      <td>268341.776786</td>\n",
       "      <td>276437.343254</td>\n",
       "      <td>277015.698165</td>\n",
       "      <td>2.606400e+06</td>\n",
       "      <td>276034.606151</td>\n",
       "    </tr>\n",
       "    <tr>\n",
       "      <th>std</th>\n",
       "      <td>26755.016851</td>\n",
       "      <td>24968.236440</td>\n",
       "      <td>26975.868553</td>\n",
       "      <td>25539.753337</td>\n",
       "      <td>1.779111e+06</td>\n",
       "      <td>25449.299462</td>\n",
       "    </tr>\n",
       "    <tr>\n",
       "      <th>min</th>\n",
       "      <td>204349.328125</td>\n",
       "      <td>199413.359375</td>\n",
       "      <td>200669.781250</td>\n",
       "      <td>202733.921875</td>\n",
       "      <td>7.833220e+05</td>\n",
       "      <td>202015.906250</td>\n",
       "    </tr>\n",
       "    <tr>\n",
       "      <th>25%</th>\n",
       "      <td>273497.828125</td>\n",
       "      <td>256221.929688</td>\n",
       "      <td>264478.468750</td>\n",
       "      <td>264747.703125</td>\n",
       "      <td>1.494404e+06</td>\n",
       "      <td>263810.062500</td>\n",
       "    </tr>\n",
       "    <tr>\n",
       "      <th>50%</th>\n",
       "      <td>285658.281250</td>\n",
       "      <td>270132.406250</td>\n",
       "      <td>277222.250000</td>\n",
       "      <td>275965.812500</td>\n",
       "      <td>2.140418e+06</td>\n",
       "      <td>274988.437500</td>\n",
       "    </tr>\n",
       "    <tr>\n",
       "      <th>75%</th>\n",
       "      <td>297055.890625</td>\n",
       "      <td>280901.796875</td>\n",
       "      <td>291042.984375</td>\n",
       "      <td>289427.562500</td>\n",
       "      <td>3.200056e+06</td>\n",
       "      <td>288402.500000</td>\n",
       "    </tr>\n",
       "    <tr>\n",
       "      <th>max</th>\n",
       "      <td>351800.343750</td>\n",
       "      <td>321735.781250</td>\n",
       "      <td>346864.375000</td>\n",
       "      <td>335197.531250</td>\n",
       "      <td>8.647152e+06</td>\n",
       "      <td>334010.375000</td>\n",
       "    </tr>\n",
       "  </tbody>\n",
       "</table>\n",
       "</div>"
      ],
      "text/plain": [
       "                High            Low           Open          Close  \\\n",
       "count      63.000000      63.000000      63.000000      63.000000   \n",
       "mean   286024.387153  268341.776786  276437.343254  277015.698165   \n",
       "std     26755.016851   24968.236440   26975.868553   25539.753337   \n",
       "min    204349.328125  199413.359375  200669.781250  202733.921875   \n",
       "25%    273497.828125  256221.929688  264478.468750  264747.703125   \n",
       "50%    285658.281250  270132.406250  277222.250000  275965.812500   \n",
       "75%    297055.890625  280901.796875  291042.984375  289427.562500   \n",
       "max    351800.343750  321735.781250  346864.375000  335197.531250   \n",
       "\n",
       "             Volume      Adj Close  \n",
       "count  6.300000e+01      63.000000  \n",
       "mean   2.606400e+06  276034.606151  \n",
       "std    1.779111e+06   25449.299462  \n",
       "min    7.833220e+05  202015.906250  \n",
       "25%    1.494404e+06  263810.062500  \n",
       "50%    2.140418e+06  274988.437500  \n",
       "75%    3.200056e+06  288402.500000  \n",
       "max    8.647152e+06  334010.375000  "
      ]
     },
     "execution_count": 23,
     "metadata": {},
     "output_type": "execute_result"
    }
   ],
   "source": [
    "cel.describe()"
   ]
  },
  {
   "cell_type": "code",
   "execution_count": 24,
   "metadata": {},
   "outputs": [
    {
     "data": {
      "text/plain": [
       "High         2.860244e+05\n",
       "Low          2.683418e+05\n",
       "Open         2.764373e+05\n",
       "Close        2.770157e+05\n",
       "Volume       2.606400e+06\n",
       "Adj Close    2.760346e+05\n",
       "dtype: float64"
      ]
     },
     "execution_count": 24,
     "metadata": {},
     "output_type": "execute_result"
    }
   ],
   "source": [
    "cel.mean()"
   ]
  },
  {
   "cell_type": "code",
   "execution_count": 25,
   "metadata": {},
   "outputs": [
    {
     "data": {
      "text/plain": [
       "High         2.675502e+04\n",
       "Low          2.496824e+04\n",
       "Open         2.697587e+04\n",
       "Close        2.553975e+04\n",
       "Volume       1.779111e+06\n",
       "Adj Close    2.544930e+04\n",
       "dtype: float64"
      ]
     },
     "execution_count": 25,
     "metadata": {},
     "output_type": "execute_result"
    }
   ],
   "source": [
    "cel.std()"
   ]
  },
  {
   "cell_type": "code",
   "execution_count": 26,
   "metadata": {},
   "outputs": [
    {
     "data": {
      "text/plain": [
       "High         7.158309e+08\n",
       "Low          6.234128e+08\n",
       "Open         7.276975e+08\n",
       "Close        6.522790e+08\n",
       "Volume       3.165235e+12\n",
       "Adj Close    6.476668e+08\n",
       "dtype: float64"
      ]
     },
     "execution_count": 26,
     "metadata": {},
     "output_type": "execute_result"
    }
   ],
   "source": [
    "cel.var()"
   ]
  },
  {
   "cell_type": "code",
   "execution_count": null,
   "metadata": {},
   "outputs": [],
   "source": []
  },
  {
   "cell_type": "code",
   "execution_count": null,
   "metadata": {},
   "outputs": [],
   "source": []
  },
  {
   "cell_type": "markdown",
   "metadata": {},
   "source": [
    "## 예제 7-5   리샘플링 데이터 처리하기"
   ]
  },
  {
   "cell_type": "code",
   "execution_count": 107,
   "metadata": {},
   "outputs": [],
   "source": [
    "from pandas_datareader import data"
   ]
  },
  {
   "cell_type": "code",
   "execution_count": 106,
   "metadata": {},
   "outputs": [],
   "source": [
    "cel_re = data.DataReader(\"068270.KS\", \"yahoo\", '2018-01-02', '2018-08-31')"
   ]
  },
  {
   "cell_type": "code",
   "execution_count": 108,
   "metadata": {},
   "outputs": [
    {
     "data": {
      "text/html": [
       "<div>\n",
       "<style scoped>\n",
       "    .dataframe tbody tr th:only-of-type {\n",
       "        vertical-align: middle;\n",
       "    }\n",
       "\n",
       "    .dataframe tbody tr th {\n",
       "        vertical-align: top;\n",
       "    }\n",
       "\n",
       "    .dataframe thead th {\n",
       "        text-align: right;\n",
       "    }\n",
       "</style>\n",
       "<table border=\"1\" class=\"dataframe\">\n",
       "  <thead>\n",
       "    <tr style=\"text-align: right;\">\n",
       "      <th></th>\n",
       "      <th>High</th>\n",
       "      <th>Low</th>\n",
       "      <th>Open</th>\n",
       "      <th>Close</th>\n",
       "      <th>Volume</th>\n",
       "      <th>Adj Close</th>\n",
       "    </tr>\n",
       "    <tr>\n",
       "      <th>Date</th>\n",
       "      <th></th>\n",
       "      <th></th>\n",
       "      <th></th>\n",
       "      <th></th>\n",
       "      <th></th>\n",
       "      <th></th>\n",
       "    </tr>\n",
       "  </thead>\n",
       "  <tbody>\n",
       "    <tr>\n",
       "      <th>2018-01-02</th>\n",
       "      <td>227700</td>\n",
       "      <td>222200</td>\n",
       "      <td>223600</td>\n",
       "      <td>225900</td>\n",
       "      <td>1176443</td>\n",
       "      <td>225900</td>\n",
       "    </tr>\n",
       "    <tr>\n",
       "      <th>2018-01-03</th>\n",
       "      <td>247200</td>\n",
       "      <td>227100</td>\n",
       "      <td>228900</td>\n",
       "      <td>246700</td>\n",
       "      <td>2411162</td>\n",
       "      <td>246700</td>\n",
       "    </tr>\n",
       "    <tr>\n",
       "      <th>2018-01-04</th>\n",
       "      <td>261200</td>\n",
       "      <td>245300</td>\n",
       "      <td>249600</td>\n",
       "      <td>250000</td>\n",
       "      <td>3265527</td>\n",
       "      <td>250000</td>\n",
       "    </tr>\n",
       "    <tr>\n",
       "      <th>2018-01-05</th>\n",
       "      <td>267000</td>\n",
       "      <td>254000</td>\n",
       "      <td>254900</td>\n",
       "      <td>266900</td>\n",
       "      <td>1920918</td>\n",
       "      <td>266900</td>\n",
       "    </tr>\n",
       "    <tr>\n",
       "      <th>2018-01-08</th>\n",
       "      <td>303200</td>\n",
       "      <td>277200</td>\n",
       "      <td>278500</td>\n",
       "      <td>302500</td>\n",
       "      <td>4298770</td>\n",
       "      <td>302500</td>\n",
       "    </tr>\n",
       "  </tbody>\n",
       "</table>\n",
       "</div>"
      ],
      "text/plain": [
       "              High     Low    Open   Close   Volume  Adj Close\n",
       "Date                                                          \n",
       "2018-01-02  227700  222200  223600  225900  1176443     225900\n",
       "2018-01-03  247200  227100  228900  246700  2411162     246700\n",
       "2018-01-04  261200  245300  249600  250000  3265527     250000\n",
       "2018-01-05  267000  254000  254900  266900  1920918     266900\n",
       "2018-01-08  303200  277200  278500  302500  4298770     302500"
      ]
     },
     "execution_count": 108,
     "metadata": {},
     "output_type": "execute_result"
    }
   ],
   "source": [
    "cel_re.head()"
   ]
  },
  {
   "cell_type": "code",
   "execution_count": 109,
   "metadata": {},
   "outputs": [
    {
     "data": {
      "text/plain": [
       "DatetimeIndexResampler [freq=<BusinessYearEnd: month=12>, axis=0, closed=right, label=right, convention=start, base=0]"
      ]
     },
     "execution_count": 109,
     "metadata": {},
     "output_type": "execute_result"
    }
   ],
   "source": [
    "cel_re.resample('BA')"
   ]
  },
  {
   "cell_type": "code",
   "execution_count": 110,
   "metadata": {},
   "outputs": [],
   "source": [
    "a = cel_re.resample('BA')"
   ]
  },
  {
   "cell_type": "code",
   "execution_count": 111,
   "metadata": {},
   "outputs": [
    {
     "name": "stdout",
     "output_type": "stream",
     "text": [
      "Close,  High,  Low,  Open,  Volume,  agg,  \n",
      "aggregate,  apply,  asfreq,  ax,  backfill,  bfill,  \n",
      "count,  ffill,  fillna,  first,  get_group,  groups,  \n",
      "indices,  interpolate,  last,  max,  mean,  median,  \n",
      "min,  ndim,  nearest,  ngroups,  nunique,  obj,  \n",
      "ohlc,  pad,  plot,  prod,  sem,  size,  \n",
      "std,  sum,  transform,  var,  "
     ]
    }
   ],
   "source": [
    "count = 0\n",
    "for i in dir(a) :\n",
    "    if not i.startswith(\"_\") :\n",
    "        print(i, end=\",  \")\n",
    "        count += 1\n",
    "        if count % 6 == 0 :\n",
    "            print()"
   ]
  },
  {
   "cell_type": "code",
   "execution_count": 115,
   "metadata": {},
   "outputs": [
    {
     "data": {
      "text/plain": [
       "Date\n",
       "2018-01-02    227700\n",
       "2018-01-03    247200\n",
       "2018-01-04    261200\n",
       "2018-01-05    267000\n",
       "2018-01-08    303200\n",
       "Name: High, dtype: int64"
      ]
     },
     "execution_count": 115,
     "metadata": {},
     "output_type": "execute_result"
    }
   ],
   "source": [
    "a.High.head()"
   ]
  },
  {
   "cell_type": "code",
   "execution_count": null,
   "metadata": {},
   "outputs": [],
   "source": []
  },
  {
   "cell_type": "code",
   "execution_count": 119,
   "metadata": {},
   "outputs": [],
   "source": [
    "cel_2018 = cel_re.resample('BA')"
   ]
  },
  {
   "cell_type": "code",
   "execution_count": 121,
   "metadata": {},
   "outputs": [
    {
     "data": {
      "text/plain": [
       "2"
      ]
     },
     "execution_count": 121,
     "metadata": {},
     "output_type": "execute_result"
    }
   ],
   "source": [
    "cel_2018.ndim"
   ]
  },
  {
   "cell_type": "code",
   "execution_count": 122,
   "metadata": {},
   "outputs": [
    {
     "data": {
      "text/plain": [
       "1"
      ]
     },
     "execution_count": 122,
     "metadata": {},
     "output_type": "execute_result"
    }
   ],
   "source": [
    "cel_2018.ngroups"
   ]
  },
  {
   "cell_type": "code",
   "execution_count": 123,
   "metadata": {},
   "outputs": [
    {
     "data": {
      "text/plain": [
       "Date\n",
       "2018-12-31    160\n",
       "Freq: BA-DEC, dtype: int64"
      ]
     },
     "execution_count": 123,
     "metadata": {},
     "output_type": "execute_result"
    }
   ],
   "source": [
    "cel_2018.size()"
   ]
  },
  {
   "cell_type": "code",
   "execution_count": 124,
   "metadata": {},
   "outputs": [
    {
     "data": {
      "text/html": [
       "<div>\n",
       "<style scoped>\n",
       "    .dataframe tbody tr th:only-of-type {\n",
       "        vertical-align: middle;\n",
       "    }\n",
       "\n",
       "    .dataframe tbody tr th {\n",
       "        vertical-align: top;\n",
       "    }\n",
       "\n",
       "    .dataframe thead th {\n",
       "        text-align: right;\n",
       "    }\n",
       "</style>\n",
       "<table border=\"1\" class=\"dataframe\">\n",
       "  <thead>\n",
       "    <tr style=\"text-align: right;\">\n",
       "      <th></th>\n",
       "      <th>High</th>\n",
       "      <th>Low</th>\n",
       "      <th>Open</th>\n",
       "      <th>Close</th>\n",
       "      <th>Volume</th>\n",
       "      <th>Adj Close</th>\n",
       "    </tr>\n",
       "    <tr>\n",
       "      <th>Date</th>\n",
       "      <th></th>\n",
       "      <th></th>\n",
       "      <th></th>\n",
       "      <th></th>\n",
       "      <th></th>\n",
       "      <th></th>\n",
       "    </tr>\n",
       "  </thead>\n",
       "  <tbody>\n",
       "    <tr>\n",
       "      <th>2018-12-31</th>\n",
       "      <td>297050.62</td>\n",
       "      <td>282461.25</td>\n",
       "      <td>289472.5</td>\n",
       "      <td>289107.5</td>\n",
       "      <td>1463355.06</td>\n",
       "      <td>289107.5</td>\n",
       "    </tr>\n",
       "  </tbody>\n",
       "</table>\n",
       "</div>"
      ],
      "text/plain": [
       "                 High        Low      Open     Close      Volume  Adj Close\n",
       "Date                                                                       \n",
       "2018-12-31  297050.62  282461.25  289472.5  289107.5  1463355.06   289107.5"
      ]
     },
     "execution_count": 124,
     "metadata": {},
     "output_type": "execute_result"
    }
   ],
   "source": [
    "cel_2018.mean().round(2)"
   ]
  },
  {
   "cell_type": "code",
   "execution_count": 71,
   "metadata": {},
   "outputs": [
    {
     "data": {
      "text/html": [
       "<div>\n",
       "<style scoped>\n",
       "    .dataframe tbody tr th:only-of-type {\n",
       "        vertical-align: middle;\n",
       "    }\n",
       "\n",
       "    .dataframe tbody tr th {\n",
       "        vertical-align: top;\n",
       "    }\n",
       "\n",
       "    .dataframe thead th {\n",
       "        text-align: right;\n",
       "    }\n",
       "</style>\n",
       "<table border=\"1\" class=\"dataframe\">\n",
       "  <thead>\n",
       "    <tr style=\"text-align: right;\">\n",
       "      <th></th>\n",
       "      <th>High</th>\n",
       "      <th>Low</th>\n",
       "      <th>Open</th>\n",
       "      <th>Close</th>\n",
       "      <th>Volume</th>\n",
       "      <th>Adj Close</th>\n",
       "    </tr>\n",
       "    <tr>\n",
       "      <th>Date</th>\n",
       "      <th></th>\n",
       "      <th></th>\n",
       "      <th></th>\n",
       "      <th></th>\n",
       "      <th></th>\n",
       "      <th></th>\n",
       "    </tr>\n",
       "  </thead>\n",
       "  <tbody>\n",
       "    <tr>\n",
       "      <th>2018-12-31</th>\n",
       "      <td>29812.0</td>\n",
       "      <td>27821.0</td>\n",
       "      <td>30058.0</td>\n",
       "      <td>28458.0</td>\n",
       "      <td>1596663.0</td>\n",
       "      <td>28458.0</td>\n",
       "    </tr>\n",
       "  </tbody>\n",
       "</table>\n",
       "</div>"
      ],
      "text/plain": [
       "               High      Low     Open    Close     Volume  Adj Close\n",
       "Date                                                                \n",
       "2018-12-31  29812.0  27821.0  30058.0  28458.0  1596663.0    28458.0"
      ]
     },
     "execution_count": 71,
     "metadata": {},
     "output_type": "execute_result"
    }
   ],
   "source": [
    "cel_2018.std().round(2)"
   ]
  },
  {
   "cell_type": "code",
   "execution_count": 77,
   "metadata": {},
   "outputs": [
    {
     "data": {
      "text/html": [
       "<div>\n",
       "<style scoped>\n",
       "    .dataframe tbody tr th:only-of-type {\n",
       "        vertical-align: middle;\n",
       "    }\n",
       "\n",
       "    .dataframe tbody tr th {\n",
       "        vertical-align: top;\n",
       "    }\n",
       "\n",
       "    .dataframe thead th {\n",
       "        text-align: right;\n",
       "    }\n",
       "</style>\n",
       "<table border=\"1\" class=\"dataframe\">\n",
       "  <thead>\n",
       "    <tr style=\"text-align: right;\">\n",
       "      <th></th>\n",
       "      <th>High</th>\n",
       "      <th>Low</th>\n",
       "      <th>Open</th>\n",
       "      <th>Close</th>\n",
       "      <th>Volume</th>\n",
       "      <th>Adj Close</th>\n",
       "    </tr>\n",
       "    <tr>\n",
       "      <th>Date</th>\n",
       "      <th></th>\n",
       "      <th></th>\n",
       "      <th></th>\n",
       "      <th></th>\n",
       "      <th></th>\n",
       "      <th></th>\n",
       "    </tr>\n",
       "  </thead>\n",
       "  <tbody>\n",
       "    <tr>\n",
       "      <th>2018-12-31</th>\n",
       "      <td>888771387.6</td>\n",
       "      <td>774025622.1</td>\n",
       "      <td>903504828.5</td>\n",
       "      <td>809865688.7</td>\n",
       "      <td>2.549332e+12</td>\n",
       "      <td>809865688.7</td>\n",
       "    </tr>\n",
       "  </tbody>\n",
       "</table>\n",
       "</div>"
      ],
      "text/plain": [
       "                   High          Low         Open        Close        Volume  \\\n",
       "Date                                                                           \n",
       "2018-12-31  888771387.6  774025622.1  903504828.5  809865688.7  2.549332e+12   \n",
       "\n",
       "              Adj Close  \n",
       "Date                     \n",
       "2018-12-31  809865688.7  "
      ]
     },
     "execution_count": 77,
     "metadata": {},
     "output_type": "execute_result"
    }
   ],
   "source": [
    "cel_2018.var().round(1)"
   ]
  },
  {
   "cell_type": "code",
   "execution_count": 127,
   "metadata": {},
   "outputs": [],
   "source": [
    "year = cel_re.resample('A')"
   ]
  },
  {
   "cell_type": "code",
   "execution_count": 128,
   "metadata": {},
   "outputs": [
    {
     "data": {
      "text/html": [
       "<div>\n",
       "<style scoped>\n",
       "    .dataframe tbody tr th:only-of-type {\n",
       "        vertical-align: middle;\n",
       "    }\n",
       "\n",
       "    .dataframe tbody tr th {\n",
       "        vertical-align: top;\n",
       "    }\n",
       "\n",
       "    .dataframe thead th {\n",
       "        text-align: right;\n",
       "    }\n",
       "</style>\n",
       "<table border=\"1\" class=\"dataframe\">\n",
       "  <thead>\n",
       "    <tr style=\"text-align: right;\">\n",
       "      <th></th>\n",
       "      <th>High</th>\n",
       "      <th>Low</th>\n",
       "      <th>Open</th>\n",
       "      <th>Close</th>\n",
       "      <th>Volume</th>\n",
       "      <th>Adj Close</th>\n",
       "    </tr>\n",
       "    <tr>\n",
       "      <th>Date</th>\n",
       "      <th></th>\n",
       "      <th></th>\n",
       "      <th></th>\n",
       "      <th></th>\n",
       "      <th></th>\n",
       "      <th></th>\n",
       "    </tr>\n",
       "  </thead>\n",
       "  <tbody>\n",
       "    <tr>\n",
       "      <th>2018-12-31</th>\n",
       "      <td>297050.62</td>\n",
       "      <td>282461.25</td>\n",
       "      <td>289472.5</td>\n",
       "      <td>289107.5</td>\n",
       "      <td>1463355.06</td>\n",
       "      <td>289107.5</td>\n",
       "    </tr>\n",
       "  </tbody>\n",
       "</table>\n",
       "</div>"
      ],
      "text/plain": [
       "                 High        Low      Open     Close      Volume  Adj Close\n",
       "Date                                                                       \n",
       "2018-12-31  297050.62  282461.25  289472.5  289107.5  1463355.06   289107.5"
      ]
     },
     "execution_count": 128,
     "metadata": {},
     "output_type": "execute_result"
    }
   ],
   "source": [
    "year.mean().round(2)"
   ]
  },
  {
   "cell_type": "code",
   "execution_count": null,
   "metadata": {},
   "outputs": [],
   "source": []
  },
  {
   "cell_type": "code",
   "execution_count": 144,
   "metadata": {},
   "outputs": [],
   "source": [
    "cel_bq = cel.resample('BQ')"
   ]
  },
  {
   "cell_type": "code",
   "execution_count": 145,
   "metadata": {},
   "outputs": [
    {
     "data": {
      "text/html": [
       "<div>\n",
       "<style scoped>\n",
       "    .dataframe tbody tr th:only-of-type {\n",
       "        vertical-align: middle;\n",
       "    }\n",
       "\n",
       "    .dataframe tbody tr th {\n",
       "        vertical-align: top;\n",
       "    }\n",
       "\n",
       "    .dataframe thead th {\n",
       "        text-align: right;\n",
       "    }\n",
       "</style>\n",
       "<table border=\"1\" class=\"dataframe\">\n",
       "  <thead>\n",
       "    <tr style=\"text-align: right;\">\n",
       "      <th></th>\n",
       "      <th>High</th>\n",
       "      <th>Low</th>\n",
       "      <th>Open</th>\n",
       "      <th>Close</th>\n",
       "      <th>Volume</th>\n",
       "      <th>Adj Close</th>\n",
       "    </tr>\n",
       "    <tr>\n",
       "      <th>Date</th>\n",
       "      <th></th>\n",
       "      <th></th>\n",
       "      <th></th>\n",
       "      <th></th>\n",
       "      <th></th>\n",
       "      <th></th>\n",
       "    </tr>\n",
       "  </thead>\n",
       "  <tbody>\n",
       "    <tr>\n",
       "      <th>2018-03-30</th>\n",
       "      <td>318985.25</td>\n",
       "      <td>298955.74</td>\n",
       "      <td>308124.59</td>\n",
       "      <td>308904.92</td>\n",
       "      <td>2390017.69</td>\n",
       "      <td>308904.92</td>\n",
       "    </tr>\n",
       "    <tr>\n",
       "      <th>2018-06-29</th>\n",
       "      <td>284308.33</td>\n",
       "      <td>272675.00</td>\n",
       "      <td>278358.33</td>\n",
       "      <td>277350.00</td>\n",
       "      <td>1019217.68</td>\n",
       "      <td>277350.00</td>\n",
       "    </tr>\n",
       "    <tr>\n",
       "      <th>2018-09-28</th>\n",
       "      <td>282346.15</td>\n",
       "      <td>271717.95</td>\n",
       "      <td>277397.44</td>\n",
       "      <td>276217.95</td>\n",
       "      <td>697240.87</td>\n",
       "      <td>276217.95</td>\n",
       "    </tr>\n",
       "  </tbody>\n",
       "</table>\n",
       "</div>"
      ],
      "text/plain": [
       "                 High        Low       Open      Close      Volume  Adj Close\n",
       "Date                                                                         \n",
       "2018-03-30  318985.25  298955.74  308124.59  308904.92  2390017.69  308904.92\n",
       "2018-06-29  284308.33  272675.00  278358.33  277350.00  1019217.68  277350.00\n",
       "2018-09-28  282346.15  271717.95  277397.44  276217.95   697240.87  276217.95"
      ]
     },
     "execution_count": 145,
     "metadata": {},
     "output_type": "execute_result"
    }
   ],
   "source": [
    "cel_bq.mean().round(2)"
   ]
  },
  {
   "cell_type": "code",
   "execution_count": null,
   "metadata": {},
   "outputs": [],
   "source": []
  },
  {
   "cell_type": "code",
   "execution_count": 146,
   "metadata": {},
   "outputs": [],
   "source": [
    "cel_q = cel.resample('Q')"
   ]
  },
  {
   "cell_type": "code",
   "execution_count": 147,
   "metadata": {},
   "outputs": [
    {
     "data": {
      "text/html": [
       "<div>\n",
       "<style scoped>\n",
       "    .dataframe tbody tr th:only-of-type {\n",
       "        vertical-align: middle;\n",
       "    }\n",
       "\n",
       "    .dataframe tbody tr th {\n",
       "        vertical-align: top;\n",
       "    }\n",
       "\n",
       "    .dataframe thead th {\n",
       "        text-align: right;\n",
       "    }\n",
       "</style>\n",
       "<table border=\"1\" class=\"dataframe\">\n",
       "  <thead>\n",
       "    <tr style=\"text-align: right;\">\n",
       "      <th></th>\n",
       "      <th>High</th>\n",
       "      <th>Low</th>\n",
       "      <th>Open</th>\n",
       "      <th>Close</th>\n",
       "      <th>Volume</th>\n",
       "      <th>Adj Close</th>\n",
       "    </tr>\n",
       "    <tr>\n",
       "      <th>Date</th>\n",
       "      <th></th>\n",
       "      <th></th>\n",
       "      <th></th>\n",
       "      <th></th>\n",
       "      <th></th>\n",
       "      <th></th>\n",
       "    </tr>\n",
       "  </thead>\n",
       "  <tbody>\n",
       "    <tr>\n",
       "      <th>2018-03-31</th>\n",
       "      <td>318985.25</td>\n",
       "      <td>298955.74</td>\n",
       "      <td>308124.59</td>\n",
       "      <td>308904.92</td>\n",
       "      <td>2390017.69</td>\n",
       "      <td>308904.92</td>\n",
       "    </tr>\n",
       "    <tr>\n",
       "      <th>2018-06-30</th>\n",
       "      <td>284308.33</td>\n",
       "      <td>272675.00</td>\n",
       "      <td>278358.33</td>\n",
       "      <td>277350.00</td>\n",
       "      <td>1019217.68</td>\n",
       "      <td>277350.00</td>\n",
       "    </tr>\n",
       "    <tr>\n",
       "      <th>2018-09-30</th>\n",
       "      <td>282346.15</td>\n",
       "      <td>271717.95</td>\n",
       "      <td>277397.44</td>\n",
       "      <td>276217.95</td>\n",
       "      <td>697240.87</td>\n",
       "      <td>276217.95</td>\n",
       "    </tr>\n",
       "  </tbody>\n",
       "</table>\n",
       "</div>"
      ],
      "text/plain": [
       "                 High        Low       Open      Close      Volume  Adj Close\n",
       "Date                                                                         \n",
       "2018-03-31  318985.25  298955.74  308124.59  308904.92  2390017.69  308904.92\n",
       "2018-06-30  284308.33  272675.00  278358.33  277350.00  1019217.68  277350.00\n",
       "2018-09-30  282346.15  271717.95  277397.44  276217.95   697240.87  276217.95"
      ]
     },
     "execution_count": 147,
     "metadata": {},
     "output_type": "execute_result"
    }
   ],
   "source": [
    "cel_q.mean().round(2)"
   ]
  },
  {
   "cell_type": "code",
   "execution_count": null,
   "metadata": {},
   "outputs": [],
   "source": []
  },
  {
   "cell_type": "code",
   "execution_count": 148,
   "metadata": {},
   "outputs": [],
   "source": [
    "cel_bm = cel.resample('BM')"
   ]
  },
  {
   "cell_type": "code",
   "execution_count": 149,
   "metadata": {},
   "outputs": [
    {
     "data": {
      "text/html": [
       "<div>\n",
       "<style scoped>\n",
       "    .dataframe tbody tr th:only-of-type {\n",
       "        vertical-align: middle;\n",
       "    }\n",
       "\n",
       "    .dataframe tbody tr th {\n",
       "        vertical-align: top;\n",
       "    }\n",
       "\n",
       "    .dataframe thead th {\n",
       "        text-align: right;\n",
       "    }\n",
       "</style>\n",
       "<table border=\"1\" class=\"dataframe\">\n",
       "  <thead>\n",
       "    <tr style=\"text-align: right;\">\n",
       "      <th></th>\n",
       "      <th>High</th>\n",
       "      <th>Low</th>\n",
       "      <th>Open</th>\n",
       "      <th>Close</th>\n",
       "      <th>Volume</th>\n",
       "      <th>Adj Close</th>\n",
       "    </tr>\n",
       "    <tr>\n",
       "      <th>Date</th>\n",
       "      <th></th>\n",
       "      <th></th>\n",
       "      <th></th>\n",
       "      <th></th>\n",
       "      <th></th>\n",
       "      <th></th>\n",
       "    </tr>\n",
       "  </thead>\n",
       "  <tbody>\n",
       "    <tr>\n",
       "      <th>2018-01-31</th>\n",
       "      <td>309900.00</td>\n",
       "      <td>287286.36</td>\n",
       "      <td>296740.91</td>\n",
       "      <td>299109.09</td>\n",
       "      <td>2638188.64</td>\n",
       "      <td>299109.09</td>\n",
       "    </tr>\n",
       "    <tr>\n",
       "      <th>2018-02-28</th>\n",
       "      <td>313683.33</td>\n",
       "      <td>294361.11</td>\n",
       "      <td>302322.22</td>\n",
       "      <td>304433.33</td>\n",
       "      <td>2045820.39</td>\n",
       "      <td>304433.33</td>\n",
       "    </tr>\n",
       "    <tr>\n",
       "      <th>2018-03-30</th>\n",
       "      <td>333047.62</td>\n",
       "      <td>315119.05</td>\n",
       "      <td>325023.81</td>\n",
       "      <td>323000.00</td>\n",
       "      <td>2425055.33</td>\n",
       "      <td>323000.00</td>\n",
       "    </tr>\n",
       "    <tr>\n",
       "      <th>2018-04-30</th>\n",
       "      <td>291357.14</td>\n",
       "      <td>278452.38</td>\n",
       "      <td>285571.43</td>\n",
       "      <td>282833.33</td>\n",
       "      <td>1182494.76</td>\n",
       "      <td>282833.33</td>\n",
       "    </tr>\n",
       "    <tr>\n",
       "      <th>2018-05-31</th>\n",
       "      <td>270350.00</td>\n",
       "      <td>258475.00</td>\n",
       "      <td>264250.00</td>\n",
       "      <td>262875.00</td>\n",
       "      <td>1050451.90</td>\n",
       "      <td>262875.00</td>\n",
       "    </tr>\n",
       "    <tr>\n",
       "      <th>2018-06-29</th>\n",
       "      <td>291210.53</td>\n",
       "      <td>281236.84</td>\n",
       "      <td>285236.84</td>\n",
       "      <td>286526.32</td>\n",
       "      <td>805875.42</td>\n",
       "      <td>286526.32</td>\n",
       "    </tr>\n",
       "    <tr>\n",
       "      <th>2018-07-31</th>\n",
       "      <td>287045.45</td>\n",
       "      <td>275613.64</td>\n",
       "      <td>282250.00</td>\n",
       "      <td>280181.82</td>\n",
       "      <td>739477.95</td>\n",
       "      <td>280181.82</td>\n",
       "    </tr>\n",
       "    <tr>\n",
       "      <th>2018-08-31</th>\n",
       "      <td>276264.71</td>\n",
       "      <td>266676.47</td>\n",
       "      <td>271117.65</td>\n",
       "      <td>271088.24</td>\n",
       "      <td>642581.12</td>\n",
       "      <td>271088.24</td>\n",
       "    </tr>\n",
       "  </tbody>\n",
       "</table>\n",
       "</div>"
      ],
      "text/plain": [
       "                 High        Low       Open      Close      Volume  Adj Close\n",
       "Date                                                                         \n",
       "2018-01-31  309900.00  287286.36  296740.91  299109.09  2638188.64  299109.09\n",
       "2018-02-28  313683.33  294361.11  302322.22  304433.33  2045820.39  304433.33\n",
       "2018-03-30  333047.62  315119.05  325023.81  323000.00  2425055.33  323000.00\n",
       "2018-04-30  291357.14  278452.38  285571.43  282833.33  1182494.76  282833.33\n",
       "2018-05-31  270350.00  258475.00  264250.00  262875.00  1050451.90  262875.00\n",
       "2018-06-29  291210.53  281236.84  285236.84  286526.32   805875.42  286526.32\n",
       "2018-07-31  287045.45  275613.64  282250.00  280181.82   739477.95  280181.82\n",
       "2018-08-31  276264.71  266676.47  271117.65  271088.24   642581.12  271088.24"
      ]
     },
     "execution_count": 149,
     "metadata": {},
     "output_type": "execute_result"
    }
   ],
   "source": [
    "cel_bm.mean().round(2)"
   ]
  },
  {
   "cell_type": "code",
   "execution_count": 150,
   "metadata": {},
   "outputs": [],
   "source": [
    "cel_m = cel.resample('M')"
   ]
  },
  {
   "cell_type": "code",
   "execution_count": 151,
   "metadata": {},
   "outputs": [
    {
     "data": {
      "text/html": [
       "<div>\n",
       "<style scoped>\n",
       "    .dataframe tbody tr th:only-of-type {\n",
       "        vertical-align: middle;\n",
       "    }\n",
       "\n",
       "    .dataframe tbody tr th {\n",
       "        vertical-align: top;\n",
       "    }\n",
       "\n",
       "    .dataframe thead th {\n",
       "        text-align: right;\n",
       "    }\n",
       "</style>\n",
       "<table border=\"1\" class=\"dataframe\">\n",
       "  <thead>\n",
       "    <tr style=\"text-align: right;\">\n",
       "      <th></th>\n",
       "      <th>High</th>\n",
       "      <th>Low</th>\n",
       "      <th>Open</th>\n",
       "      <th>Close</th>\n",
       "      <th>Volume</th>\n",
       "      <th>Adj Close</th>\n",
       "    </tr>\n",
       "    <tr>\n",
       "      <th>Date</th>\n",
       "      <th></th>\n",
       "      <th></th>\n",
       "      <th></th>\n",
       "      <th></th>\n",
       "      <th></th>\n",
       "      <th></th>\n",
       "    </tr>\n",
       "  </thead>\n",
       "  <tbody>\n",
       "    <tr>\n",
       "      <th>2018-01-31</th>\n",
       "      <td>309900.00</td>\n",
       "      <td>287286.36</td>\n",
       "      <td>296740.91</td>\n",
       "      <td>299109.09</td>\n",
       "      <td>2638188.64</td>\n",
       "      <td>299109.09</td>\n",
       "    </tr>\n",
       "    <tr>\n",
       "      <th>2018-02-28</th>\n",
       "      <td>313683.33</td>\n",
       "      <td>294361.11</td>\n",
       "      <td>302322.22</td>\n",
       "      <td>304433.33</td>\n",
       "      <td>2045820.39</td>\n",
       "      <td>304433.33</td>\n",
       "    </tr>\n",
       "    <tr>\n",
       "      <th>2018-03-31</th>\n",
       "      <td>333047.62</td>\n",
       "      <td>315119.05</td>\n",
       "      <td>325023.81</td>\n",
       "      <td>323000.00</td>\n",
       "      <td>2425055.33</td>\n",
       "      <td>323000.00</td>\n",
       "    </tr>\n",
       "    <tr>\n",
       "      <th>2018-04-30</th>\n",
       "      <td>291357.14</td>\n",
       "      <td>278452.38</td>\n",
       "      <td>285571.43</td>\n",
       "      <td>282833.33</td>\n",
       "      <td>1182494.76</td>\n",
       "      <td>282833.33</td>\n",
       "    </tr>\n",
       "    <tr>\n",
       "      <th>2018-05-31</th>\n",
       "      <td>270350.00</td>\n",
       "      <td>258475.00</td>\n",
       "      <td>264250.00</td>\n",
       "      <td>262875.00</td>\n",
       "      <td>1050451.90</td>\n",
       "      <td>262875.00</td>\n",
       "    </tr>\n",
       "    <tr>\n",
       "      <th>2018-06-30</th>\n",
       "      <td>291210.53</td>\n",
       "      <td>281236.84</td>\n",
       "      <td>285236.84</td>\n",
       "      <td>286526.32</td>\n",
       "      <td>805875.42</td>\n",
       "      <td>286526.32</td>\n",
       "    </tr>\n",
       "    <tr>\n",
       "      <th>2018-07-31</th>\n",
       "      <td>287045.45</td>\n",
       "      <td>275613.64</td>\n",
       "      <td>282250.00</td>\n",
       "      <td>280181.82</td>\n",
       "      <td>739477.95</td>\n",
       "      <td>280181.82</td>\n",
       "    </tr>\n",
       "    <tr>\n",
       "      <th>2018-08-31</th>\n",
       "      <td>276264.71</td>\n",
       "      <td>266676.47</td>\n",
       "      <td>271117.65</td>\n",
       "      <td>271088.24</td>\n",
       "      <td>642581.12</td>\n",
       "      <td>271088.24</td>\n",
       "    </tr>\n",
       "  </tbody>\n",
       "</table>\n",
       "</div>"
      ],
      "text/plain": [
       "                 High        Low       Open      Close      Volume  Adj Close\n",
       "Date                                                                         \n",
       "2018-01-31  309900.00  287286.36  296740.91  299109.09  2638188.64  299109.09\n",
       "2018-02-28  313683.33  294361.11  302322.22  304433.33  2045820.39  304433.33\n",
       "2018-03-31  333047.62  315119.05  325023.81  323000.00  2425055.33  323000.00\n",
       "2018-04-30  291357.14  278452.38  285571.43  282833.33  1182494.76  282833.33\n",
       "2018-05-31  270350.00  258475.00  264250.00  262875.00  1050451.90  262875.00\n",
       "2018-06-30  291210.53  281236.84  285236.84  286526.32   805875.42  286526.32\n",
       "2018-07-31  287045.45  275613.64  282250.00  280181.82   739477.95  280181.82\n",
       "2018-08-31  276264.71  266676.47  271117.65  271088.24   642581.12  271088.24"
      ]
     },
     "execution_count": 151,
     "metadata": {},
     "output_type": "execute_result"
    }
   ],
   "source": [
    "cel_m.mean().round(2)"
   ]
  },
  {
   "cell_type": "code",
   "execution_count": 155,
   "metadata": {},
   "outputs": [],
   "source": [
    "cel_w = cel.resample('W')"
   ]
  },
  {
   "cell_type": "code",
   "execution_count": 153,
   "metadata": {},
   "outputs": [
    {
     "data": {
      "text/html": [
       "<div>\n",
       "<style scoped>\n",
       "    .dataframe tbody tr th:only-of-type {\n",
       "        vertical-align: middle;\n",
       "    }\n",
       "\n",
       "    .dataframe tbody tr th {\n",
       "        vertical-align: top;\n",
       "    }\n",
       "\n",
       "    .dataframe thead th {\n",
       "        text-align: right;\n",
       "    }\n",
       "</style>\n",
       "<table border=\"1\" class=\"dataframe\">\n",
       "  <thead>\n",
       "    <tr style=\"text-align: right;\">\n",
       "      <th></th>\n",
       "      <th>High</th>\n",
       "      <th>Low</th>\n",
       "      <th>Open</th>\n",
       "      <th>Close</th>\n",
       "      <th>Volume</th>\n",
       "      <th>Adj Close</th>\n",
       "    </tr>\n",
       "    <tr>\n",
       "      <th>Date</th>\n",
       "      <th></th>\n",
       "      <th></th>\n",
       "      <th></th>\n",
       "      <th></th>\n",
       "      <th></th>\n",
       "      <th></th>\n",
       "    </tr>\n",
       "  </thead>\n",
       "  <tbody>\n",
       "    <tr>\n",
       "      <th>2018-01-07</th>\n",
       "      <td>250775.0</td>\n",
       "      <td>237150.0</td>\n",
       "      <td>239250.0</td>\n",
       "      <td>247375.0</td>\n",
       "      <td>2193512.5</td>\n",
       "      <td>247375.0</td>\n",
       "    </tr>\n",
       "    <tr>\n",
       "      <th>2018-01-14</th>\n",
       "      <td>323840.0</td>\n",
       "      <td>292780.0</td>\n",
       "      <td>301800.0</td>\n",
       "      <td>307900.0</td>\n",
       "      <td>4091696.8</td>\n",
       "      <td>307900.0</td>\n",
       "    </tr>\n",
       "    <tr>\n",
       "      <th>2018-01-21</th>\n",
       "      <td>339640.0</td>\n",
       "      <td>313240.0</td>\n",
       "      <td>332160.0</td>\n",
       "      <td>323600.0</td>\n",
       "      <td>2782391.0</td>\n",
       "      <td>323600.0</td>\n",
       "    </tr>\n",
       "    <tr>\n",
       "      <th>2018-01-28</th>\n",
       "      <td>299740.0</td>\n",
       "      <td>282000.0</td>\n",
       "      <td>291220.0</td>\n",
       "      <td>292560.0</td>\n",
       "      <td>1913707.2</td>\n",
       "      <td>292560.0</td>\n",
       "    </tr>\n",
       "    <tr>\n",
       "      <th>2018-02-04</th>\n",
       "      <td>324660.0</td>\n",
       "      <td>303780.0</td>\n",
       "      <td>312100.0</td>\n",
       "      <td>314360.0</td>\n",
       "      <td>1776936.0</td>\n",
       "      <td>314360.0</td>\n",
       "    </tr>\n",
       "  </tbody>\n",
       "</table>\n",
       "</div>"
      ],
      "text/plain": [
       "                High       Low      Open     Close     Volume  Adj Close\n",
       "Date                                                                    \n",
       "2018-01-07  250775.0  237150.0  239250.0  247375.0  2193512.5   247375.0\n",
       "2018-01-14  323840.0  292780.0  301800.0  307900.0  4091696.8   307900.0\n",
       "2018-01-21  339640.0  313240.0  332160.0  323600.0  2782391.0   323600.0\n",
       "2018-01-28  299740.0  282000.0  291220.0  292560.0  1913707.2   292560.0\n",
       "2018-02-04  324660.0  303780.0  312100.0  314360.0  1776936.0   314360.0"
      ]
     },
     "execution_count": 153,
     "metadata": {},
     "output_type": "execute_result"
    }
   ],
   "source": [
    "cel_w.mean().round(2).head()"
   ]
  },
  {
   "cell_type": "code",
   "execution_count": null,
   "metadata": {},
   "outputs": [],
   "source": []
  },
  {
   "cell_type": "code",
   "execution_count": 189,
   "metadata": {},
   "outputs": [],
   "source": [
    "cel_d = cel.resample('D')"
   ]
  },
  {
   "cell_type": "code",
   "execution_count": 196,
   "metadata": {},
   "outputs": [
    {
     "data": {
      "text/plain": [
       "(160, 6)"
      ]
     },
     "execution_count": 196,
     "metadata": {},
     "output_type": "execute_result"
    }
   ],
   "source": [
    "cel.shape"
   ]
  },
  {
   "cell_type": "code",
   "execution_count": 195,
   "metadata": {},
   "outputs": [
    {
     "data": {
      "text/plain": [
       "(235, 6)"
      ]
     },
     "execution_count": 195,
     "metadata": {},
     "output_type": "execute_result"
    }
   ],
   "source": [
    "cel_d.count().shape"
   ]
  },
  {
   "cell_type": "code",
   "execution_count": 201,
   "metadata": {},
   "outputs": [],
   "source": [
    "interpolated = cel_d.interpolate(method='linear').astype('int64')"
   ]
  },
  {
   "cell_type": "code",
   "execution_count": 204,
   "metadata": {},
   "outputs": [
    {
     "data": {
      "text/html": [
       "<div>\n",
       "<style scoped>\n",
       "    .dataframe tbody tr th:only-of-type {\n",
       "        vertical-align: middle;\n",
       "    }\n",
       "\n",
       "    .dataframe tbody tr th {\n",
       "        vertical-align: top;\n",
       "    }\n",
       "\n",
       "    .dataframe thead th {\n",
       "        text-align: right;\n",
       "    }\n",
       "</style>\n",
       "<table border=\"1\" class=\"dataframe\">\n",
       "  <thead>\n",
       "    <tr style=\"text-align: right;\">\n",
       "      <th></th>\n",
       "      <th>High</th>\n",
       "      <th>Low</th>\n",
       "      <th>Open</th>\n",
       "      <th>Close</th>\n",
       "      <th>Volume</th>\n",
       "      <th>Adj Close</th>\n",
       "    </tr>\n",
       "    <tr>\n",
       "      <th>Date</th>\n",
       "      <th></th>\n",
       "      <th></th>\n",
       "      <th></th>\n",
       "      <th></th>\n",
       "      <th></th>\n",
       "      <th></th>\n",
       "    </tr>\n",
       "  </thead>\n",
       "  <tbody>\n",
       "    <tr>\n",
       "      <th>2018-01-02</th>\n",
       "      <td>227700</td>\n",
       "      <td>222200</td>\n",
       "      <td>223600</td>\n",
       "      <td>225900</td>\n",
       "      <td>1176443</td>\n",
       "      <td>225900</td>\n",
       "    </tr>\n",
       "    <tr>\n",
       "      <th>2018-01-03</th>\n",
       "      <td>247200</td>\n",
       "      <td>227100</td>\n",
       "      <td>228900</td>\n",
       "      <td>246700</td>\n",
       "      <td>2411162</td>\n",
       "      <td>246700</td>\n",
       "    </tr>\n",
       "    <tr>\n",
       "      <th>2018-01-04</th>\n",
       "      <td>261200</td>\n",
       "      <td>245300</td>\n",
       "      <td>249600</td>\n",
       "      <td>250000</td>\n",
       "      <td>3265527</td>\n",
       "      <td>250000</td>\n",
       "    </tr>\n",
       "    <tr>\n",
       "      <th>2018-01-05</th>\n",
       "      <td>267000</td>\n",
       "      <td>254000</td>\n",
       "      <td>254900</td>\n",
       "      <td>266900</td>\n",
       "      <td>1920918</td>\n",
       "      <td>266900</td>\n",
       "    </tr>\n",
       "    <tr>\n",
       "      <th>2018-01-06</th>\n",
       "      <td>279066</td>\n",
       "      <td>261733</td>\n",
       "      <td>262766</td>\n",
       "      <td>278766</td>\n",
       "      <td>2713535</td>\n",
       "      <td>278766</td>\n",
       "    </tr>\n",
       "    <tr>\n",
       "      <th>2018-01-07</th>\n",
       "      <td>291133</td>\n",
       "      <td>269466</td>\n",
       "      <td>270633</td>\n",
       "      <td>290633</td>\n",
       "      <td>3506152</td>\n",
       "      <td>290633</td>\n",
       "    </tr>\n",
       "    <tr>\n",
       "      <th>2018-01-08</th>\n",
       "      <td>303200</td>\n",
       "      <td>277200</td>\n",
       "      <td>278500</td>\n",
       "      <td>302500</td>\n",
       "      <td>4298770</td>\n",
       "      <td>302500</td>\n",
       "    </tr>\n",
       "  </tbody>\n",
       "</table>\n",
       "</div>"
      ],
      "text/plain": [
       "              High     Low    Open   Close   Volume  Adj Close\n",
       "Date                                                          \n",
       "2018-01-02  227700  222200  223600  225900  1176443     225900\n",
       "2018-01-03  247200  227100  228900  246700  2411162     246700\n",
       "2018-01-04  261200  245300  249600  250000  3265527     250000\n",
       "2018-01-05  267000  254000  254900  266900  1920918     266900\n",
       "2018-01-06  279066  261733  262766  278766  2713535     278766\n",
       "2018-01-07  291133  269466  270633  290633  3506152     290633\n",
       "2018-01-08  303200  277200  278500  302500  4298770     302500"
      ]
     },
     "execution_count": 204,
     "metadata": {},
     "output_type": "execute_result"
    }
   ],
   "source": [
    "interpolated.head(7)"
   ]
  },
  {
   "cell_type": "code",
   "execution_count": 203,
   "metadata": {},
   "outputs": [
    {
     "data": {
      "text/html": [
       "<div>\n",
       "<style scoped>\n",
       "    .dataframe tbody tr th:only-of-type {\n",
       "        vertical-align: middle;\n",
       "    }\n",
       "\n",
       "    .dataframe tbody tr th {\n",
       "        vertical-align: top;\n",
       "    }\n",
       "\n",
       "    .dataframe thead th {\n",
       "        text-align: right;\n",
       "    }\n",
       "</style>\n",
       "<table border=\"1\" class=\"dataframe\">\n",
       "  <thead>\n",
       "    <tr style=\"text-align: right;\">\n",
       "      <th></th>\n",
       "      <th>High</th>\n",
       "      <th>Low</th>\n",
       "      <th>Open</th>\n",
       "      <th>Close</th>\n",
       "      <th>Volume</th>\n",
       "      <th>Adj Close</th>\n",
       "    </tr>\n",
       "    <tr>\n",
       "      <th>Date</th>\n",
       "      <th></th>\n",
       "      <th></th>\n",
       "      <th></th>\n",
       "      <th></th>\n",
       "      <th></th>\n",
       "      <th></th>\n",
       "    </tr>\n",
       "  </thead>\n",
       "  <tbody>\n",
       "    <tr>\n",
       "      <th>2018-01-02</th>\n",
       "      <td>227700</td>\n",
       "      <td>222200</td>\n",
       "      <td>223600</td>\n",
       "      <td>225900</td>\n",
       "      <td>1176443</td>\n",
       "      <td>225900</td>\n",
       "    </tr>\n",
       "    <tr>\n",
       "      <th>2018-01-03</th>\n",
       "      <td>247200</td>\n",
       "      <td>227100</td>\n",
       "      <td>228900</td>\n",
       "      <td>246700</td>\n",
       "      <td>2411162</td>\n",
       "      <td>246700</td>\n",
       "    </tr>\n",
       "    <tr>\n",
       "      <th>2018-01-04</th>\n",
       "      <td>261200</td>\n",
       "      <td>245300</td>\n",
       "      <td>249600</td>\n",
       "      <td>250000</td>\n",
       "      <td>3265527</td>\n",
       "      <td>250000</td>\n",
       "    </tr>\n",
       "    <tr>\n",
       "      <th>2018-01-05</th>\n",
       "      <td>267000</td>\n",
       "      <td>254000</td>\n",
       "      <td>254900</td>\n",
       "      <td>266900</td>\n",
       "      <td>1920918</td>\n",
       "      <td>266900</td>\n",
       "    </tr>\n",
       "    <tr>\n",
       "      <th>2018-01-08</th>\n",
       "      <td>303200</td>\n",
       "      <td>277200</td>\n",
       "      <td>278500</td>\n",
       "      <td>302500</td>\n",
       "      <td>4298770</td>\n",
       "      <td>302500</td>\n",
       "    </tr>\n",
       "  </tbody>\n",
       "</table>\n",
       "</div>"
      ],
      "text/plain": [
       "              High     Low    Open   Close   Volume  Adj Close\n",
       "Date                                                          \n",
       "2018-01-02  227700  222200  223600  225900  1176443     225900\n",
       "2018-01-03  247200  227100  228900  246700  2411162     246700\n",
       "2018-01-04  261200  245300  249600  250000  3265527     250000\n",
       "2018-01-05  267000  254000  254900  266900  1920918     266900\n",
       "2018-01-08  303200  277200  278500  302500  4298770     302500"
      ]
     },
     "execution_count": 203,
     "metadata": {},
     "output_type": "execute_result"
    }
   ],
   "source": [
    "cel.head()"
   ]
  },
  {
   "cell_type": "code",
   "execution_count": null,
   "metadata": {},
   "outputs": [],
   "source": []
  },
  {
   "cell_type": "code",
   "execution_count": 207,
   "metadata": {},
   "outputs": [],
   "source": [
    "in_spline = cel_d.interpolate(method='spline', order=2).astype('int64')"
   ]
  },
  {
   "cell_type": "code",
   "execution_count": 209,
   "metadata": {},
   "outputs": [
    {
     "data": {
      "text/html": [
       "<div>\n",
       "<style scoped>\n",
       "    .dataframe tbody tr th:only-of-type {\n",
       "        vertical-align: middle;\n",
       "    }\n",
       "\n",
       "    .dataframe tbody tr th {\n",
       "        vertical-align: top;\n",
       "    }\n",
       "\n",
       "    .dataframe thead th {\n",
       "        text-align: right;\n",
       "    }\n",
       "</style>\n",
       "<table border=\"1\" class=\"dataframe\">\n",
       "  <thead>\n",
       "    <tr style=\"text-align: right;\">\n",
       "      <th></th>\n",
       "      <th>High</th>\n",
       "      <th>Low</th>\n",
       "      <th>Open</th>\n",
       "      <th>Close</th>\n",
       "      <th>Volume</th>\n",
       "      <th>Adj Close</th>\n",
       "    </tr>\n",
       "    <tr>\n",
       "      <th>Date</th>\n",
       "      <th></th>\n",
       "      <th></th>\n",
       "      <th></th>\n",
       "      <th></th>\n",
       "      <th></th>\n",
       "      <th></th>\n",
       "    </tr>\n",
       "  </thead>\n",
       "  <tbody>\n",
       "    <tr>\n",
       "      <th>2018-01-02</th>\n",
       "      <td>227700</td>\n",
       "      <td>222200</td>\n",
       "      <td>223600</td>\n",
       "      <td>225900</td>\n",
       "      <td>1176443</td>\n",
       "      <td>225900</td>\n",
       "    </tr>\n",
       "    <tr>\n",
       "      <th>2018-01-03</th>\n",
       "      <td>247200</td>\n",
       "      <td>227100</td>\n",
       "      <td>228900</td>\n",
       "      <td>246700</td>\n",
       "      <td>2411162</td>\n",
       "      <td>246700</td>\n",
       "    </tr>\n",
       "    <tr>\n",
       "      <th>2018-01-04</th>\n",
       "      <td>261200</td>\n",
       "      <td>245300</td>\n",
       "      <td>249600</td>\n",
       "      <td>250000</td>\n",
       "      <td>3265527</td>\n",
       "      <td>250000</td>\n",
       "    </tr>\n",
       "    <tr>\n",
       "      <th>2018-01-05</th>\n",
       "      <td>267000</td>\n",
       "      <td>254000</td>\n",
       "      <td>254900</td>\n",
       "      <td>266900</td>\n",
       "      <td>1920918</td>\n",
       "      <td>266900</td>\n",
       "    </tr>\n",
       "    <tr>\n",
       "      <th>2018-01-06</th>\n",
       "      <td>274933</td>\n",
       "      <td>259785</td>\n",
       "      <td>257214</td>\n",
       "      <td>285516</td>\n",
       "      <td>1691992</td>\n",
       "      <td>285516</td>\n",
       "    </tr>\n",
       "    <tr>\n",
       "      <th>2018-01-07</th>\n",
       "      <td>286897</td>\n",
       "      <td>265462</td>\n",
       "      <td>261393</td>\n",
       "      <td>301078</td>\n",
       "      <td>2960826</td>\n",
       "      <td>301078</td>\n",
       "    </tr>\n",
       "    <tr>\n",
       "      <th>2018-01-08</th>\n",
       "      <td>303200</td>\n",
       "      <td>277200</td>\n",
       "      <td>278500</td>\n",
       "      <td>302500</td>\n",
       "      <td>4298770</td>\n",
       "      <td>302500</td>\n",
       "    </tr>\n",
       "  </tbody>\n",
       "</table>\n",
       "</div>"
      ],
      "text/plain": [
       "              High     Low    Open   Close   Volume  Adj Close\n",
       "Date                                                          \n",
       "2018-01-02  227700  222200  223600  225900  1176443     225900\n",
       "2018-01-03  247200  227100  228900  246700  2411162     246700\n",
       "2018-01-04  261200  245300  249600  250000  3265527     250000\n",
       "2018-01-05  267000  254000  254900  266900  1920918     266900\n",
       "2018-01-06  274933  259785  257214  285516  1691992     285516\n",
       "2018-01-07  286897  265462  261393  301078  2960826     301078\n",
       "2018-01-08  303200  277200  278500  302500  4298770     302500"
      ]
     },
     "execution_count": 209,
     "metadata": {},
     "output_type": "execute_result"
    }
   ],
   "source": [
    "in_spline.head(7)"
   ]
  },
  {
   "cell_type": "code",
   "execution_count": null,
   "metadata": {},
   "outputs": [],
   "source": []
  },
  {
   "cell_type": "code",
   "execution_count": 226,
   "metadata": {},
   "outputs": [],
   "source": [
    "index = pd.date_range('1/1/2018', periods=9, freq='T')"
   ]
  },
  {
   "cell_type": "code",
   "execution_count": 227,
   "metadata": {},
   "outputs": [],
   "source": [
    "series = pd.Series(range(9), index=index)"
   ]
  },
  {
   "cell_type": "code",
   "execution_count": 228,
   "metadata": {},
   "outputs": [
    {
     "data": {
      "text/plain": [
       "2018-01-01 00:00:00    0\n",
       "2018-01-01 00:01:00    1\n",
       "2018-01-01 00:02:00    2\n",
       "2018-01-01 00:03:00    3\n",
       "2018-01-01 00:04:00    4\n",
       "2018-01-01 00:05:00    5\n",
       "2018-01-01 00:06:00    6\n",
       "2018-01-01 00:07:00    7\n",
       "2018-01-01 00:08:00    8\n",
       "Freq: T, dtype: int64"
      ]
     },
     "execution_count": 228,
     "metadata": {},
     "output_type": "execute_result"
    }
   ],
   "source": [
    "series "
   ]
  },
  {
   "cell_type": "code",
   "execution_count": 229,
   "metadata": {},
   "outputs": [
    {
     "data": {
      "text/plain": [
       "2018-01-01 00:00:00     3\n",
       "2018-01-01 00:03:00    12\n",
       "2018-01-01 00:06:00    21\n",
       "Freq: 3T, dtype: int64"
      ]
     },
     "execution_count": 229,
     "metadata": {},
     "output_type": "execute_result"
    }
   ],
   "source": [
    "series.resample('3T').sum()"
   ]
  },
  {
   "cell_type": "code",
   "execution_count": 233,
   "metadata": {},
   "outputs": [
    {
     "data": {
      "text/plain": [
       "2018-01-01 00:03:00     3\n",
       "2018-01-01 00:06:00    12\n",
       "2018-01-01 00:09:00    21\n",
       "Freq: 3T, dtype: int64"
      ]
     },
     "execution_count": 233,
     "metadata": {},
     "output_type": "execute_result"
    }
   ],
   "source": [
    "series.resample('3T', label='right').sum()"
   ]
  },
  {
   "cell_type": "code",
   "execution_count": 232,
   "metadata": {},
   "outputs": [
    {
     "data": {
      "text/plain": [
       "2018-01-01 00:00:00     0\n",
       "2018-01-01 00:03:00     6\n",
       "2018-01-01 00:06:00    15\n",
       "2018-01-01 00:09:00    15\n",
       "Freq: 3T, dtype: int64"
      ]
     },
     "execution_count": 232,
     "metadata": {},
     "output_type": "execute_result"
    }
   ],
   "source": [
    "series.resample('3T', label='right', closed='right').sum()"
   ]
  },
  {
   "cell_type": "code",
   "execution_count": null,
   "metadata": {},
   "outputs": [],
   "source": []
  },
  {
   "cell_type": "code",
   "execution_count": 223,
   "metadata": {},
   "outputs": [],
   "source": [
    "index_h = pd.date_range('1/1/2018', periods=9, freq='H')"
   ]
  },
  {
   "cell_type": "code",
   "execution_count": 224,
   "metadata": {},
   "outputs": [],
   "source": [
    "series_h = pd.Series(range(9), index=index_h)"
   ]
  },
  {
   "cell_type": "code",
   "execution_count": 225,
   "metadata": {},
   "outputs": [
    {
     "data": {
      "text/plain": [
       "2018-01-01 00:00:00    0\n",
       "2018-01-01 01:00:00    1\n",
       "2018-01-01 02:00:00    2\n",
       "2018-01-01 03:00:00    3\n",
       "2018-01-01 04:00:00    4\n",
       "2018-01-01 05:00:00    5\n",
       "2018-01-01 06:00:00    6\n",
       "2018-01-01 07:00:00    7\n",
       "2018-01-01 08:00:00    8\n",
       "Freq: H, dtype: int64"
      ]
     },
     "execution_count": 225,
     "metadata": {},
     "output_type": "execute_result"
    }
   ],
   "source": [
    "series_h"
   ]
  },
  {
   "cell_type": "code",
   "execution_count": 237,
   "metadata": {},
   "outputs": [],
   "source": [
    "sh_re = series_h.resample('3H')"
   ]
  },
  {
   "cell_type": "code",
   "execution_count": 238,
   "metadata": {},
   "outputs": [
    {
     "data": {
      "text/plain": [
       "pandas.core.resample.DatetimeIndexResampler"
      ]
     },
     "execution_count": 238,
     "metadata": {},
     "output_type": "execute_result"
    }
   ],
   "source": [
    "type(sh_re)"
   ]
  },
  {
   "cell_type": "code",
   "execution_count": 222,
   "metadata": {},
   "outputs": [
    {
     "data": {
      "text/plain": [
       "2018-01-01 00:00:00     3\n",
       "2018-01-01 03:00:00    12\n",
       "2018-01-01 06:00:00    21\n",
       "Freq: 3H, dtype: int64"
      ]
     },
     "execution_count": 222,
     "metadata": {},
     "output_type": "execute_result"
    }
   ],
   "source": [
    "series_h.resample('3H').sum()"
   ]
  },
  {
   "cell_type": "code",
   "execution_count": null,
   "metadata": {},
   "outputs": [],
   "source": []
  },
  {
   "cell_type": "code",
   "execution_count": 235,
   "metadata": {},
   "outputs": [],
   "source": [
    "sh = series_h.asfreq(freq='3H')"
   ]
  },
  {
   "cell_type": "code",
   "execution_count": 236,
   "metadata": {},
   "outputs": [
    {
     "data": {
      "text/plain": [
       "pandas.core.series.Series"
      ]
     },
     "execution_count": 236,
     "metadata": {},
     "output_type": "execute_result"
    }
   ],
   "source": [
    "type(sh)"
   ]
  },
  {
   "cell_type": "code",
   "execution_count": 240,
   "metadata": {},
   "outputs": [
    {
     "data": {
      "text/plain": [
       "2018-01-01 00:00:00    0\n",
       "2018-01-01 03:00:00    3\n",
       "2018-01-01 06:00:00    6\n",
       "Freq: 3H, dtype: int64"
      ]
     },
     "execution_count": 240,
     "metadata": {},
     "output_type": "execute_result"
    }
   ],
   "source": [
    "sh"
   ]
  },
  {
   "cell_type": "code",
   "execution_count": null,
   "metadata": {},
   "outputs": [],
   "source": []
  },
  {
   "cell_type": "markdown",
   "metadata": {},
   "source": [
    "## 예제 7-6 추가 메소드 적용하기"
   ]
  },
  {
   "cell_type": "code",
   "execution_count": 156,
   "metadata": {},
   "outputs": [],
   "source": [
    "from pandas_datareader import data"
   ]
  },
  {
   "cell_type": "code",
   "execution_count": 173,
   "metadata": {},
   "outputs": [],
   "source": [
    "cel_s = data.DataReader(\"068270.KS\", \"yahoo\", '2018-01-02', '2018-08-31')"
   ]
  },
  {
   "cell_type": "code",
   "execution_count": 174,
   "metadata": {},
   "outputs": [
    {
     "data": {
      "text/html": [
       "<div>\n",
       "<style scoped>\n",
       "    .dataframe tbody tr th:only-of-type {\n",
       "        vertical-align: middle;\n",
       "    }\n",
       "\n",
       "    .dataframe tbody tr th {\n",
       "        vertical-align: top;\n",
       "    }\n",
       "\n",
       "    .dataframe thead th {\n",
       "        text-align: right;\n",
       "    }\n",
       "</style>\n",
       "<table border=\"1\" class=\"dataframe\">\n",
       "  <thead>\n",
       "    <tr style=\"text-align: right;\">\n",
       "      <th></th>\n",
       "      <th>High</th>\n",
       "      <th>Low</th>\n",
       "      <th>Open</th>\n",
       "      <th>Close</th>\n",
       "      <th>Volume</th>\n",
       "      <th>Adj Close</th>\n",
       "    </tr>\n",
       "  </thead>\n",
       "  <tbody>\n",
       "    <tr>\n",
       "      <th>High</th>\n",
       "      <td>1.000000</td>\n",
       "      <td>0.959914</td>\n",
       "      <td>0.963528</td>\n",
       "      <td>0.969840</td>\n",
       "      <td>0.411717</td>\n",
       "      <td>0.969840</td>\n",
       "    </tr>\n",
       "    <tr>\n",
       "      <th>Low</th>\n",
       "      <td>0.959914</td>\n",
       "      <td>1.000000</td>\n",
       "      <td>0.969088</td>\n",
       "      <td>0.965830</td>\n",
       "      <td>0.215503</td>\n",
       "      <td>0.965830</td>\n",
       "    </tr>\n",
       "    <tr>\n",
       "      <th>Open</th>\n",
       "      <td>0.963528</td>\n",
       "      <td>0.969088</td>\n",
       "      <td>1.000000</td>\n",
       "      <td>0.921463</td>\n",
       "      <td>0.292557</td>\n",
       "      <td>0.921463</td>\n",
       "    </tr>\n",
       "    <tr>\n",
       "      <th>Close</th>\n",
       "      <td>0.969840</td>\n",
       "      <td>0.965830</td>\n",
       "      <td>0.921463</td>\n",
       "      <td>1.000000</td>\n",
       "      <td>0.329955</td>\n",
       "      <td>1.000000</td>\n",
       "    </tr>\n",
       "    <tr>\n",
       "      <th>Volume</th>\n",
       "      <td>0.411717</td>\n",
       "      <td>0.215503</td>\n",
       "      <td>0.292557</td>\n",
       "      <td>0.329955</td>\n",
       "      <td>1.000000</td>\n",
       "      <td>0.329955</td>\n",
       "    </tr>\n",
       "    <tr>\n",
       "      <th>Adj Close</th>\n",
       "      <td>0.969840</td>\n",
       "      <td>0.965830</td>\n",
       "      <td>0.921463</td>\n",
       "      <td>1.000000</td>\n",
       "      <td>0.329955</td>\n",
       "      <td>1.000000</td>\n",
       "    </tr>\n",
       "  </tbody>\n",
       "</table>\n",
       "</div>"
      ],
      "text/plain": [
       "               High       Low      Open     Close    Volume  Adj Close\n",
       "High       1.000000  0.959914  0.963528  0.969840  0.411717   0.969840\n",
       "Low        0.959914  1.000000  0.969088  0.965830  0.215503   0.965830\n",
       "Open       0.963528  0.969088  1.000000  0.921463  0.292557   0.921463\n",
       "Close      0.969840  0.965830  0.921463  1.000000  0.329955   1.000000\n",
       "Volume     0.411717  0.215503  0.292557  0.329955  1.000000   0.329955\n",
       "Adj Close  0.969840  0.965830  0.921463  1.000000  0.329955   1.000000"
      ]
     },
     "execution_count": 174,
     "metadata": {},
     "output_type": "execute_result"
    }
   ],
   "source": [
    "cel_s.corr()"
   ]
  },
  {
   "cell_type": "code",
   "execution_count": 175,
   "metadata": {},
   "outputs": [
    {
     "data": {
      "text/html": [
       "<div>\n",
       "<style scoped>\n",
       "    .dataframe tbody tr th:only-of-type {\n",
       "        vertical-align: middle;\n",
       "    }\n",
       "\n",
       "    .dataframe tbody tr th {\n",
       "        vertical-align: top;\n",
       "    }\n",
       "\n",
       "    .dataframe thead th {\n",
       "        text-align: right;\n",
       "    }\n",
       "</style>\n",
       "<table border=\"1\" class=\"dataframe\">\n",
       "  <thead>\n",
       "    <tr style=\"text-align: right;\">\n",
       "      <th></th>\n",
       "      <th>High</th>\n",
       "      <th>Low</th>\n",
       "      <th>Open</th>\n",
       "      <th>Close</th>\n",
       "      <th>Volume</th>\n",
       "      <th>Adj Close</th>\n",
       "    </tr>\n",
       "    <tr>\n",
       "      <th>Date</th>\n",
       "      <th></th>\n",
       "      <th></th>\n",
       "      <th></th>\n",
       "      <th></th>\n",
       "      <th></th>\n",
       "      <th></th>\n",
       "    </tr>\n",
       "  </thead>\n",
       "  <tbody>\n",
       "    <tr>\n",
       "      <th>2018-01-02</th>\n",
       "      <td>227700</td>\n",
       "      <td>222200</td>\n",
       "      <td>223600</td>\n",
       "      <td>225900</td>\n",
       "      <td>1176443</td>\n",
       "      <td>225900</td>\n",
       "    </tr>\n",
       "    <tr>\n",
       "      <th>2018-01-03</th>\n",
       "      <td>474900</td>\n",
       "      <td>449300</td>\n",
       "      <td>452500</td>\n",
       "      <td>472600</td>\n",
       "      <td>3587605</td>\n",
       "      <td>472600</td>\n",
       "    </tr>\n",
       "    <tr>\n",
       "      <th>2018-01-04</th>\n",
       "      <td>736100</td>\n",
       "      <td>694600</td>\n",
       "      <td>702100</td>\n",
       "      <td>722600</td>\n",
       "      <td>6853132</td>\n",
       "      <td>722600</td>\n",
       "    </tr>\n",
       "    <tr>\n",
       "      <th>2018-01-05</th>\n",
       "      <td>1003100</td>\n",
       "      <td>948600</td>\n",
       "      <td>957000</td>\n",
       "      <td>989500</td>\n",
       "      <td>8774050</td>\n",
       "      <td>989500</td>\n",
       "    </tr>\n",
       "    <tr>\n",
       "      <th>2018-01-08</th>\n",
       "      <td>1306300</td>\n",
       "      <td>1225800</td>\n",
       "      <td>1235500</td>\n",
       "      <td>1292000</td>\n",
       "      <td>13072820</td>\n",
       "      <td>1292000</td>\n",
       "    </tr>\n",
       "  </tbody>\n",
       "</table>\n",
       "</div>"
      ],
      "text/plain": [
       "               High      Low     Open    Close    Volume  Adj Close\n",
       "Date                                                               \n",
       "2018-01-02   227700   222200   223600   225900   1176443     225900\n",
       "2018-01-03   474900   449300   452500   472600   3587605     472600\n",
       "2018-01-04   736100   694600   702100   722600   6853132     722600\n",
       "2018-01-05  1003100   948600   957000   989500   8774050     989500\n",
       "2018-01-08  1306300  1225800  1235500  1292000  13072820    1292000"
      ]
     },
     "execution_count": 175,
     "metadata": {},
     "output_type": "execute_result"
    }
   ],
   "source": [
    "cel_s.cumsum().head()"
   ]
  },
  {
   "cell_type": "code",
   "execution_count": 176,
   "metadata": {},
   "outputs": [
    {
     "data": {
      "text/html": [
       "<div>\n",
       "<style scoped>\n",
       "    .dataframe tbody tr th:only-of-type {\n",
       "        vertical-align: middle;\n",
       "    }\n",
       "\n",
       "    .dataframe tbody tr th {\n",
       "        vertical-align: top;\n",
       "    }\n",
       "\n",
       "    .dataframe thead th {\n",
       "        text-align: right;\n",
       "    }\n",
       "</style>\n",
       "<table border=\"1\" class=\"dataframe\">\n",
       "  <thead>\n",
       "    <tr style=\"text-align: right;\">\n",
       "      <th></th>\n",
       "      <th>High</th>\n",
       "      <th>Low</th>\n",
       "      <th>Open</th>\n",
       "      <th>Close</th>\n",
       "      <th>Volume</th>\n",
       "      <th>Adj Close</th>\n",
       "    </tr>\n",
       "    <tr>\n",
       "      <th>Date</th>\n",
       "      <th></th>\n",
       "      <th></th>\n",
       "      <th></th>\n",
       "      <th></th>\n",
       "      <th></th>\n",
       "      <th></th>\n",
       "    </tr>\n",
       "  </thead>\n",
       "  <tbody>\n",
       "    <tr>\n",
       "      <th>2018-08-20</th>\n",
       "      <td>46428600</td>\n",
       "      <td>44123800</td>\n",
       "      <td>45236600</td>\n",
       "      <td>45167200</td>\n",
       "      <td>232277146</td>\n",
       "      <td>45167200</td>\n",
       "    </tr>\n",
       "    <tr>\n",
       "      <th>2018-08-21</th>\n",
       "      <td>46699600</td>\n",
       "      <td>44386300</td>\n",
       "      <td>45501100</td>\n",
       "      <td>45435700</td>\n",
       "      <td>232907738</td>\n",
       "      <td>45435700</td>\n",
       "    </tr>\n",
       "    <tr>\n",
       "      <th>2018-08-22</th>\n",
       "      <td>46975100</td>\n",
       "      <td>44654300</td>\n",
       "      <td>45771600</td>\n",
       "      <td>45704200</td>\n",
       "      <td>233381740</td>\n",
       "      <td>45704200</td>\n",
       "    </tr>\n",
       "    <tr>\n",
       "      <th>2018-08-23</th>\n",
       "      <td>47249100</td>\n",
       "      <td>44922300</td>\n",
       "      <td>46041100</td>\n",
       "      <td>45978200</td>\n",
       "      <td>233777558</td>\n",
       "      <td>45978200</td>\n",
       "    </tr>\n",
       "    <tr>\n",
       "      <th>2018-08-24</th>\n",
       "      <td>47530100</td>\n",
       "      <td>45193800</td>\n",
       "      <td>46315600</td>\n",
       "      <td>46257200</td>\n",
       "      <td>234330680</td>\n",
       "      <td>46257200</td>\n",
       "    </tr>\n",
       "  </tbody>\n",
       "</table>\n",
       "</div>"
      ],
      "text/plain": [
       "                High       Low      Open     Close     Volume  Adj Close\n",
       "Date                                                                    \n",
       "2018-08-20  46428600  44123800  45236600  45167200  232277146   45167200\n",
       "2018-08-21  46699600  44386300  45501100  45435700  232907738   45435700\n",
       "2018-08-22  46975100  44654300  45771600  45704200  233381740   45704200\n",
       "2018-08-23  47249100  44922300  46041100  45978200  233777558   45978200\n",
       "2018-08-24  47530100  45193800  46315600  46257200  234330680   46257200"
      ]
     },
     "execution_count": 176,
     "metadata": {},
     "output_type": "execute_result"
    }
   ],
   "source": [
    "cel_s.cumsum().tail()"
   ]
  },
  {
   "cell_type": "code",
   "execution_count": 179,
   "metadata": {},
   "outputs": [
    {
     "data": {
      "text/plain": [
       "Date\n",
       "2018-01-02                 227700\n",
       "2018-01-03            56287440000\n",
       "2018-01-04      14702279328000000\n",
       "2018-01-05   -3647907124134494208\n",
       "2018-01-08    2887877972361478144\n",
       "Name: High, dtype: int64"
      ]
     },
     "execution_count": 179,
     "metadata": {},
     "output_type": "execute_result"
    }
   ],
   "source": [
    "cel_s.cumprod()['High'].head()"
   ]
  },
  {
   "cell_type": "code",
   "execution_count": null,
   "metadata": {},
   "outputs": [],
   "source": []
  },
  {
   "cell_type": "code",
   "execution_count": 180,
   "metadata": {},
   "outputs": [],
   "source": [
    "cel_as = cel_s.astype('float64')"
   ]
  },
  {
   "cell_type": "code",
   "execution_count": 185,
   "metadata": {},
   "outputs": [
    {
     "data": {
      "text/plain": [
       "inf"
      ]
     },
     "execution_count": 185,
     "metadata": {},
     "output_type": "execute_result"
    }
   ],
   "source": [
    "cel_as.cumprod()['High'].iloc[100]"
   ]
  },
  {
   "cell_type": "code",
   "execution_count": null,
   "metadata": {},
   "outputs": [],
   "source": []
  }
 ],
 "metadata": {
  "kernelspec": {
   "display_name": "Python 3 (ipykernel)",
   "language": "python",
   "name": "python3"
  },
  "language_info": {
   "codemirror_mode": {
    "name": "ipython",
    "version": 3
   },
   "file_extension": ".py",
   "mimetype": "text/x-python",
   "name": "python",
   "nbconvert_exporter": "python",
   "pygments_lexer": "ipython3",
   "version": "3.9.13"
  }
 },
 "nbformat": 4,
 "nbformat_minor": 2
}
