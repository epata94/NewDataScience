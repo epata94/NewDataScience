{
 "cells": [
  {
   "cell_type": "markdown",
   "id": "631071ed",
   "metadata": {},
   "source": [
    "## 문제1"
   ]
  },
  {
   "cell_type": "code",
   "execution_count": null,
   "id": "1d6d1654",
   "metadata": {},
   "outputs": [],
   "source": [
    "결측값을 보간처리하여 임의의 값으로 처리해라."
   ]
  },
  {
   "cell_type": "code",
   "execution_count": 70,
   "id": "cc45e5ca",
   "metadata": {},
   "outputs": [],
   "source": [
    "import numpy as np"
   ]
  },
  {
   "cell_type": "code",
   "execution_count": 71,
   "id": "501aa326",
   "metadata": {},
   "outputs": [],
   "source": [
    "s = pd.Series([0, 3, np.nan, 12, 15])"
   ]
  },
  {
   "cell_type": "code",
   "execution_count": 72,
   "id": "8e6339a6",
   "metadata": {},
   "outputs": [
    {
     "data": {
      "text/plain": [
       "0     0.0\n",
       "1     3.0\n",
       "2     7.5\n",
       "3    12.0\n",
       "4    15.0\n",
       "dtype: float64"
      ]
     },
     "execution_count": 72,
     "metadata": {},
     "output_type": "execute_result"
    }
   ],
   "source": [
    "s.interpolate()"
   ]
  },
  {
   "cell_type": "code",
   "execution_count": null,
   "id": "4cabe576",
   "metadata": {},
   "outputs": [],
   "source": []
  },
  {
   "cell_type": "markdown",
   "id": "cafc8180",
   "metadata": {},
   "source": [
    "## 문제2"
   ]
  },
  {
   "cell_type": "code",
   "execution_count": null,
   "id": "a2e7cbfc",
   "metadata": {},
   "outputs": [],
   "source": [
    "결측값을 채우시오(1.앞행, 2.뒤행, 3,평균값)"
   ]
  },
  {
   "cell_type": "code",
   "execution_count": 76,
   "id": "3e4ae8c9",
   "metadata": {},
   "outputs": [],
   "source": [
    "import pandas as pd"
   ]
  },
  {
   "cell_type": "code",
   "execution_count": 77,
   "id": "c7dbc890",
   "metadata": {},
   "outputs": [],
   "source": [
    "df = pd.DataFrame({\"v1\":[None,200,None,400], \"v2\":[None,200,100,250], \"v3\":[40,60,500,700]})"
   ]
  },
  {
   "cell_type": "code",
   "execution_count": 78,
   "id": "910a5d91",
   "metadata": {},
   "outputs": [
    {
     "data": {
      "text/html": [
       "<div>\n",
       "<style scoped>\n",
       "    .dataframe tbody tr th:only-of-type {\n",
       "        vertical-align: middle;\n",
       "    }\n",
       "\n",
       "    .dataframe tbody tr th {\n",
       "        vertical-align: top;\n",
       "    }\n",
       "\n",
       "    .dataframe thead th {\n",
       "        text-align: right;\n",
       "    }\n",
       "</style>\n",
       "<table border=\"1\" class=\"dataframe\">\n",
       "  <thead>\n",
       "    <tr style=\"text-align: right;\">\n",
       "      <th></th>\n",
       "      <th>v1</th>\n",
       "      <th>v2</th>\n",
       "      <th>v3</th>\n",
       "    </tr>\n",
       "  </thead>\n",
       "  <tbody>\n",
       "    <tr>\n",
       "      <th>0</th>\n",
       "      <td>NaN</td>\n",
       "      <td>NaN</td>\n",
       "      <td>40</td>\n",
       "    </tr>\n",
       "    <tr>\n",
       "      <th>1</th>\n",
       "      <td>200.0</td>\n",
       "      <td>200.0</td>\n",
       "      <td>60</td>\n",
       "    </tr>\n",
       "    <tr>\n",
       "      <th>2</th>\n",
       "      <td>NaN</td>\n",
       "      <td>100.0</td>\n",
       "      <td>500</td>\n",
       "    </tr>\n",
       "    <tr>\n",
       "      <th>3</th>\n",
       "      <td>400.0</td>\n",
       "      <td>250.0</td>\n",
       "      <td>700</td>\n",
       "    </tr>\n",
       "  </tbody>\n",
       "</table>\n",
       "</div>"
      ],
      "text/plain": [
       "      v1     v2   v3\n",
       "0    NaN    NaN   40\n",
       "1  200.0  200.0   60\n",
       "2    NaN  100.0  500\n",
       "3  400.0  250.0  700"
      ]
     },
     "execution_count": 78,
     "metadata": {},
     "output_type": "execute_result"
    }
   ],
   "source": [
    "df"
   ]
  },
  {
   "cell_type": "code",
   "execution_count": 79,
   "id": "d79c59bd",
   "metadata": {},
   "outputs": [
    {
     "data": {
      "text/html": [
       "<div>\n",
       "<style scoped>\n",
       "    .dataframe tbody tr th:only-of-type {\n",
       "        vertical-align: middle;\n",
       "    }\n",
       "\n",
       "    .dataframe tbody tr th {\n",
       "        vertical-align: top;\n",
       "    }\n",
       "\n",
       "    .dataframe thead th {\n",
       "        text-align: right;\n",
       "    }\n",
       "</style>\n",
       "<table border=\"1\" class=\"dataframe\">\n",
       "  <thead>\n",
       "    <tr style=\"text-align: right;\">\n",
       "      <th></th>\n",
       "      <th>v1</th>\n",
       "      <th>v2</th>\n",
       "      <th>v3</th>\n",
       "    </tr>\n",
       "  </thead>\n",
       "  <tbody>\n",
       "    <tr>\n",
       "      <th>0</th>\n",
       "      <td>0.0</td>\n",
       "      <td>0.0</td>\n",
       "      <td>40</td>\n",
       "    </tr>\n",
       "    <tr>\n",
       "      <th>1</th>\n",
       "      <td>200.0</td>\n",
       "      <td>200.0</td>\n",
       "      <td>60</td>\n",
       "    </tr>\n",
       "    <tr>\n",
       "      <th>2</th>\n",
       "      <td>0.0</td>\n",
       "      <td>100.0</td>\n",
       "      <td>500</td>\n",
       "    </tr>\n",
       "    <tr>\n",
       "      <th>3</th>\n",
       "      <td>400.0</td>\n",
       "      <td>250.0</td>\n",
       "      <td>700</td>\n",
       "    </tr>\n",
       "  </tbody>\n",
       "</table>\n",
       "</div>"
      ],
      "text/plain": [
       "      v1     v2   v3\n",
       "0    0.0    0.0   40\n",
       "1  200.0  200.0   60\n",
       "2    0.0  100.0  500\n",
       "3  400.0  250.0  700"
      ]
     },
     "execution_count": 79,
     "metadata": {},
     "output_type": "execute_result"
    }
   ],
   "source": [
    "df.fillna(0)"
   ]
  },
  {
   "cell_type": "code",
   "execution_count": 80,
   "id": "c4a032a8",
   "metadata": {},
   "outputs": [
    {
     "data": {
      "text/html": [
       "<div>\n",
       "<style scoped>\n",
       "    .dataframe tbody tr th:only-of-type {\n",
       "        vertical-align: middle;\n",
       "    }\n",
       "\n",
       "    .dataframe tbody tr th {\n",
       "        vertical-align: top;\n",
       "    }\n",
       "\n",
       "    .dataframe thead th {\n",
       "        text-align: right;\n",
       "    }\n",
       "</style>\n",
       "<table border=\"1\" class=\"dataframe\">\n",
       "  <thead>\n",
       "    <tr style=\"text-align: right;\">\n",
       "      <th></th>\n",
       "      <th>v1</th>\n",
       "      <th>v2</th>\n",
       "      <th>v3</th>\n",
       "    </tr>\n",
       "  </thead>\n",
       "  <tbody>\n",
       "    <tr>\n",
       "      <th>0</th>\n",
       "      <td>NaN</td>\n",
       "      <td>NaN</td>\n",
       "      <td>40</td>\n",
       "    </tr>\n",
       "    <tr>\n",
       "      <th>1</th>\n",
       "      <td>200.0</td>\n",
       "      <td>200.0</td>\n",
       "      <td>60</td>\n",
       "    </tr>\n",
       "    <tr>\n",
       "      <th>2</th>\n",
       "      <td>200.0</td>\n",
       "      <td>100.0</td>\n",
       "      <td>500</td>\n",
       "    </tr>\n",
       "    <tr>\n",
       "      <th>3</th>\n",
       "      <td>400.0</td>\n",
       "      <td>250.0</td>\n",
       "      <td>700</td>\n",
       "    </tr>\n",
       "  </tbody>\n",
       "</table>\n",
       "</div>"
      ],
      "text/plain": [
       "      v1     v2   v3\n",
       "0    NaN    NaN   40\n",
       "1  200.0  200.0   60\n",
       "2  200.0  100.0  500\n",
       "3  400.0  250.0  700"
      ]
     },
     "execution_count": 80,
     "metadata": {},
     "output_type": "execute_result"
    }
   ],
   "source": [
    "df.fillna(method='ffill')\t# 앞 행의 값으로 결측치 채우기"
   ]
  },
  {
   "cell_type": "code",
   "execution_count": 81,
   "id": "8e16f29c",
   "metadata": {},
   "outputs": [
    {
     "data": {
      "text/html": [
       "<div>\n",
       "<style scoped>\n",
       "    .dataframe tbody tr th:only-of-type {\n",
       "        vertical-align: middle;\n",
       "    }\n",
       "\n",
       "    .dataframe tbody tr th {\n",
       "        vertical-align: top;\n",
       "    }\n",
       "\n",
       "    .dataframe thead th {\n",
       "        text-align: right;\n",
       "    }\n",
       "</style>\n",
       "<table border=\"1\" class=\"dataframe\">\n",
       "  <thead>\n",
       "    <tr style=\"text-align: right;\">\n",
       "      <th></th>\n",
       "      <th>v1</th>\n",
       "      <th>v2</th>\n",
       "      <th>v3</th>\n",
       "    </tr>\n",
       "  </thead>\n",
       "  <tbody>\n",
       "    <tr>\n",
       "      <th>0</th>\n",
       "      <td>200.0</td>\n",
       "      <td>200.0</td>\n",
       "      <td>40</td>\n",
       "    </tr>\n",
       "    <tr>\n",
       "      <th>1</th>\n",
       "      <td>200.0</td>\n",
       "      <td>200.0</td>\n",
       "      <td>60</td>\n",
       "    </tr>\n",
       "    <tr>\n",
       "      <th>2</th>\n",
       "      <td>400.0</td>\n",
       "      <td>100.0</td>\n",
       "      <td>500</td>\n",
       "    </tr>\n",
       "    <tr>\n",
       "      <th>3</th>\n",
       "      <td>400.0</td>\n",
       "      <td>250.0</td>\n",
       "      <td>700</td>\n",
       "    </tr>\n",
       "  </tbody>\n",
       "</table>\n",
       "</div>"
      ],
      "text/plain": [
       "      v1     v2   v3\n",
       "0  200.0  200.0   40\n",
       "1  200.0  200.0   60\n",
       "2  400.0  100.0  500\n",
       "3  400.0  250.0  700"
      ]
     },
     "execution_count": 81,
     "metadata": {},
     "output_type": "execute_result"
    }
   ],
   "source": [
    "df.fillna(method='bfill')\t# 뒤 행의 값으로 결측치 채우기"
   ]
  },
  {
   "cell_type": "code",
   "execution_count": 82,
   "id": "3a5d0e16",
   "metadata": {},
   "outputs": [
    {
     "data": {
      "text/html": [
       "<div>\n",
       "<style scoped>\n",
       "    .dataframe tbody tr th:only-of-type {\n",
       "        vertical-align: middle;\n",
       "    }\n",
       "\n",
       "    .dataframe tbody tr th {\n",
       "        vertical-align: top;\n",
       "    }\n",
       "\n",
       "    .dataframe thead th {\n",
       "        text-align: right;\n",
       "    }\n",
       "</style>\n",
       "<table border=\"1\" class=\"dataframe\">\n",
       "  <thead>\n",
       "    <tr style=\"text-align: right;\">\n",
       "      <th></th>\n",
       "      <th>v1</th>\n",
       "      <th>v2</th>\n",
       "      <th>v3</th>\n",
       "    </tr>\n",
       "  </thead>\n",
       "  <tbody>\n",
       "    <tr>\n",
       "      <th>0</th>\n",
       "      <td>300.0</td>\n",
       "      <td>183.333333</td>\n",
       "      <td>40</td>\n",
       "    </tr>\n",
       "    <tr>\n",
       "      <th>1</th>\n",
       "      <td>200.0</td>\n",
       "      <td>200.000000</td>\n",
       "      <td>60</td>\n",
       "    </tr>\n",
       "    <tr>\n",
       "      <th>2</th>\n",
       "      <td>300.0</td>\n",
       "      <td>100.000000</td>\n",
       "      <td>500</td>\n",
       "    </tr>\n",
       "    <tr>\n",
       "      <th>3</th>\n",
       "      <td>400.0</td>\n",
       "      <td>250.000000</td>\n",
       "      <td>700</td>\n",
       "    </tr>\n",
       "  </tbody>\n",
       "</table>\n",
       "</div>"
      ],
      "text/plain": [
       "      v1          v2   v3\n",
       "0  300.0  183.333333   40\n",
       "1  200.0  200.000000   60\n",
       "2  300.0  100.000000  500\n",
       "3  400.0  250.000000  700"
      ]
     },
     "execution_count": 82,
     "metadata": {},
     "output_type": "execute_result"
    }
   ],
   "source": [
    "df.fillna(df.mean())\t# 각 열의 평균 값으로 결측치 채우기"
   ]
  },
  {
   "cell_type": "code",
   "execution_count": null,
   "id": "3e2bc424",
   "metadata": {},
   "outputs": [],
   "source": []
  },
  {
   "cell_type": "markdown",
   "id": "2649a55a",
   "metadata": {},
   "source": [
    "## 문제 3"
   ]
  },
  {
   "cell_type": "code",
   "execution_count": 89,
   "id": "8d280db9",
   "metadata": {},
   "outputs": [],
   "source": [
    "import pandas as pd"
   ]
  },
  {
   "cell_type": "code",
   "execution_count": 90,
   "id": "3ed143ae",
   "metadata": {},
   "outputs": [
    {
     "ename": "UnicodeDecodeError",
     "evalue": "'cp949' codec can't decode byte 0xb1 in position 5: illegal multibyte sequence",
     "output_type": "error",
     "traceback": [
      "\u001b[1;31m---------------------------------------------------------------------------\u001b[0m",
      "\u001b[1;31mUnicodeDecodeError\u001b[0m                        Traceback (most recent call last)",
      "\u001b[1;32m~\\AppData\\Local\\Temp\\ipykernel_10824\\3985815378.py\u001b[0m in \u001b[0;36m<module>\u001b[1;34m\u001b[0m\n\u001b[1;32m----> 1\u001b[1;33m \u001b[0mschool_info\u001b[0m \u001b[1;33m=\u001b[0m \u001b[0mpd\u001b[0m\u001b[1;33m.\u001b[0m\u001b[0mread_csv\u001b[0m\u001b[1;33m(\u001b[0m\u001b[1;34m'data/school_major.xls'\u001b[0m\u001b[1;33m,\u001b[0m\u001b[0mencoding\u001b[0m\u001b[1;33m=\u001b[0m\u001b[1;34m'cp949'\u001b[0m\u001b[1;33m)\u001b[0m\u001b[1;33m\u001b[0m\u001b[1;33m\u001b[0m\u001b[0m\n\u001b[0m",
      "\u001b[1;32m~\\anaconda3\\lib\\site-packages\\pandas\\util\\_decorators.py\u001b[0m in \u001b[0;36mwrapper\u001b[1;34m(*args, **kwargs)\u001b[0m\n\u001b[0;32m    309\u001b[0m                     \u001b[0mstacklevel\u001b[0m\u001b[1;33m=\u001b[0m\u001b[0mstacklevel\u001b[0m\u001b[1;33m,\u001b[0m\u001b[1;33m\u001b[0m\u001b[1;33m\u001b[0m\u001b[0m\n\u001b[0;32m    310\u001b[0m                 )\n\u001b[1;32m--> 311\u001b[1;33m             \u001b[1;32mreturn\u001b[0m \u001b[0mfunc\u001b[0m\u001b[1;33m(\u001b[0m\u001b[1;33m*\u001b[0m\u001b[0margs\u001b[0m\u001b[1;33m,\u001b[0m \u001b[1;33m**\u001b[0m\u001b[0mkwargs\u001b[0m\u001b[1;33m)\u001b[0m\u001b[1;33m\u001b[0m\u001b[1;33m\u001b[0m\u001b[0m\n\u001b[0m\u001b[0;32m    312\u001b[0m \u001b[1;33m\u001b[0m\u001b[0m\n\u001b[0;32m    313\u001b[0m         \u001b[1;32mreturn\u001b[0m \u001b[0mwrapper\u001b[0m\u001b[1;33m\u001b[0m\u001b[1;33m\u001b[0m\u001b[0m\n",
      "\u001b[1;32m~\\anaconda3\\lib\\site-packages\\pandas\\io\\parsers\\readers.py\u001b[0m in \u001b[0;36mread_csv\u001b[1;34m(filepath_or_buffer, sep, delimiter, header, names, index_col, usecols, squeeze, prefix, mangle_dupe_cols, dtype, engine, converters, true_values, false_values, skipinitialspace, skiprows, skipfooter, nrows, na_values, keep_default_na, na_filter, verbose, skip_blank_lines, parse_dates, infer_datetime_format, keep_date_col, date_parser, dayfirst, cache_dates, iterator, chunksize, compression, thousands, decimal, lineterminator, quotechar, quoting, doublequote, escapechar, comment, encoding, encoding_errors, dialect, error_bad_lines, warn_bad_lines, on_bad_lines, delim_whitespace, low_memory, memory_map, float_precision, storage_options)\u001b[0m\n\u001b[0;32m    676\u001b[0m     \u001b[0mkwds\u001b[0m\u001b[1;33m.\u001b[0m\u001b[0mupdate\u001b[0m\u001b[1;33m(\u001b[0m\u001b[0mkwds_defaults\u001b[0m\u001b[1;33m)\u001b[0m\u001b[1;33m\u001b[0m\u001b[1;33m\u001b[0m\u001b[0m\n\u001b[0;32m    677\u001b[0m \u001b[1;33m\u001b[0m\u001b[0m\n\u001b[1;32m--> 678\u001b[1;33m     \u001b[1;32mreturn\u001b[0m \u001b[0m_read\u001b[0m\u001b[1;33m(\u001b[0m\u001b[0mfilepath_or_buffer\u001b[0m\u001b[1;33m,\u001b[0m \u001b[0mkwds\u001b[0m\u001b[1;33m)\u001b[0m\u001b[1;33m\u001b[0m\u001b[1;33m\u001b[0m\u001b[0m\n\u001b[0m\u001b[0;32m    679\u001b[0m \u001b[1;33m\u001b[0m\u001b[0m\n\u001b[0;32m    680\u001b[0m \u001b[1;33m\u001b[0m\u001b[0m\n",
      "\u001b[1;32m~\\anaconda3\\lib\\site-packages\\pandas\\io\\parsers\\readers.py\u001b[0m in \u001b[0;36m_read\u001b[1;34m(filepath_or_buffer, kwds)\u001b[0m\n\u001b[0;32m    573\u001b[0m \u001b[1;33m\u001b[0m\u001b[0m\n\u001b[0;32m    574\u001b[0m     \u001b[1;31m# Create the parser.\u001b[0m\u001b[1;33m\u001b[0m\u001b[1;33m\u001b[0m\u001b[0m\n\u001b[1;32m--> 575\u001b[1;33m     \u001b[0mparser\u001b[0m \u001b[1;33m=\u001b[0m \u001b[0mTextFileReader\u001b[0m\u001b[1;33m(\u001b[0m\u001b[0mfilepath_or_buffer\u001b[0m\u001b[1;33m,\u001b[0m \u001b[1;33m**\u001b[0m\u001b[0mkwds\u001b[0m\u001b[1;33m)\u001b[0m\u001b[1;33m\u001b[0m\u001b[1;33m\u001b[0m\u001b[0m\n\u001b[0m\u001b[0;32m    576\u001b[0m \u001b[1;33m\u001b[0m\u001b[0m\n\u001b[0;32m    577\u001b[0m     \u001b[1;32mif\u001b[0m \u001b[0mchunksize\u001b[0m \u001b[1;32mor\u001b[0m \u001b[0miterator\u001b[0m\u001b[1;33m:\u001b[0m\u001b[1;33m\u001b[0m\u001b[1;33m\u001b[0m\u001b[0m\n",
      "\u001b[1;32m~\\anaconda3\\lib\\site-packages\\pandas\\io\\parsers\\readers.py\u001b[0m in \u001b[0;36m__init__\u001b[1;34m(self, f, engine, **kwds)\u001b[0m\n\u001b[0;32m    930\u001b[0m \u001b[1;33m\u001b[0m\u001b[0m\n\u001b[0;32m    931\u001b[0m         \u001b[0mself\u001b[0m\u001b[1;33m.\u001b[0m\u001b[0mhandles\u001b[0m\u001b[1;33m:\u001b[0m \u001b[0mIOHandles\u001b[0m \u001b[1;33m|\u001b[0m \u001b[1;32mNone\u001b[0m \u001b[1;33m=\u001b[0m \u001b[1;32mNone\u001b[0m\u001b[1;33m\u001b[0m\u001b[1;33m\u001b[0m\u001b[0m\n\u001b[1;32m--> 932\u001b[1;33m         \u001b[0mself\u001b[0m\u001b[1;33m.\u001b[0m\u001b[0m_engine\u001b[0m \u001b[1;33m=\u001b[0m \u001b[0mself\u001b[0m\u001b[1;33m.\u001b[0m\u001b[0m_make_engine\u001b[0m\u001b[1;33m(\u001b[0m\u001b[0mf\u001b[0m\u001b[1;33m,\u001b[0m \u001b[0mself\u001b[0m\u001b[1;33m.\u001b[0m\u001b[0mengine\u001b[0m\u001b[1;33m)\u001b[0m\u001b[1;33m\u001b[0m\u001b[1;33m\u001b[0m\u001b[0m\n\u001b[0m\u001b[0;32m    933\u001b[0m \u001b[1;33m\u001b[0m\u001b[0m\n\u001b[0;32m    934\u001b[0m     \u001b[1;32mdef\u001b[0m \u001b[0mclose\u001b[0m\u001b[1;33m(\u001b[0m\u001b[0mself\u001b[0m\u001b[1;33m)\u001b[0m\u001b[1;33m:\u001b[0m\u001b[1;33m\u001b[0m\u001b[1;33m\u001b[0m\u001b[0m\n",
      "\u001b[1;32m~\\anaconda3\\lib\\site-packages\\pandas\\io\\parsers\\readers.py\u001b[0m in \u001b[0;36m_make_engine\u001b[1;34m(self, f, engine)\u001b[0m\n\u001b[0;32m   1232\u001b[0m \u001b[1;33m\u001b[0m\u001b[0m\n\u001b[0;32m   1233\u001b[0m         \u001b[1;32mtry\u001b[0m\u001b[1;33m:\u001b[0m\u001b[1;33m\u001b[0m\u001b[1;33m\u001b[0m\u001b[0m\n\u001b[1;32m-> 1234\u001b[1;33m             \u001b[1;32mreturn\u001b[0m \u001b[0mmapping\u001b[0m\u001b[1;33m[\u001b[0m\u001b[0mengine\u001b[0m\u001b[1;33m]\u001b[0m\u001b[1;33m(\u001b[0m\u001b[0mf\u001b[0m\u001b[1;33m,\u001b[0m \u001b[1;33m**\u001b[0m\u001b[0mself\u001b[0m\u001b[1;33m.\u001b[0m\u001b[0moptions\u001b[0m\u001b[1;33m)\u001b[0m\u001b[1;33m\u001b[0m\u001b[1;33m\u001b[0m\u001b[0m\n\u001b[0m\u001b[0;32m   1235\u001b[0m         \u001b[1;32mexcept\u001b[0m \u001b[0mException\u001b[0m\u001b[1;33m:\u001b[0m\u001b[1;33m\u001b[0m\u001b[1;33m\u001b[0m\u001b[0m\n\u001b[0;32m   1236\u001b[0m             \u001b[1;32mif\u001b[0m \u001b[0mself\u001b[0m\u001b[1;33m.\u001b[0m\u001b[0mhandles\u001b[0m \u001b[1;32mis\u001b[0m \u001b[1;32mnot\u001b[0m \u001b[1;32mNone\u001b[0m\u001b[1;33m:\u001b[0m\u001b[1;33m\u001b[0m\u001b[1;33m\u001b[0m\u001b[0m\n",
      "\u001b[1;32m~\\anaconda3\\lib\\site-packages\\pandas\\io\\parsers\\c_parser_wrapper.py\u001b[0m in \u001b[0;36m__init__\u001b[1;34m(self, src, **kwds)\u001b[0m\n\u001b[0;32m     73\u001b[0m \u001b[1;33m\u001b[0m\u001b[0m\n\u001b[0;32m     74\u001b[0m         \u001b[0mkwds\u001b[0m\u001b[1;33m[\u001b[0m\u001b[1;34m\"dtype\"\u001b[0m\u001b[1;33m]\u001b[0m \u001b[1;33m=\u001b[0m \u001b[0mensure_dtype_objs\u001b[0m\u001b[1;33m(\u001b[0m\u001b[0mkwds\u001b[0m\u001b[1;33m.\u001b[0m\u001b[0mget\u001b[0m\u001b[1;33m(\u001b[0m\u001b[1;34m\"dtype\"\u001b[0m\u001b[1;33m,\u001b[0m \u001b[1;32mNone\u001b[0m\u001b[1;33m)\u001b[0m\u001b[1;33m)\u001b[0m\u001b[1;33m\u001b[0m\u001b[1;33m\u001b[0m\u001b[0m\n\u001b[1;32m---> 75\u001b[1;33m         \u001b[0mself\u001b[0m\u001b[1;33m.\u001b[0m\u001b[0m_reader\u001b[0m \u001b[1;33m=\u001b[0m \u001b[0mparsers\u001b[0m\u001b[1;33m.\u001b[0m\u001b[0mTextReader\u001b[0m\u001b[1;33m(\u001b[0m\u001b[0msrc\u001b[0m\u001b[1;33m,\u001b[0m \u001b[1;33m**\u001b[0m\u001b[0mkwds\u001b[0m\u001b[1;33m)\u001b[0m\u001b[1;33m\u001b[0m\u001b[1;33m\u001b[0m\u001b[0m\n\u001b[0m\u001b[0;32m     76\u001b[0m \u001b[1;33m\u001b[0m\u001b[0m\n\u001b[0;32m     77\u001b[0m         \u001b[0mself\u001b[0m\u001b[1;33m.\u001b[0m\u001b[0munnamed_cols\u001b[0m \u001b[1;33m=\u001b[0m \u001b[0mself\u001b[0m\u001b[1;33m.\u001b[0m\u001b[0m_reader\u001b[0m\u001b[1;33m.\u001b[0m\u001b[0munnamed_cols\u001b[0m\u001b[1;33m\u001b[0m\u001b[1;33m\u001b[0m\u001b[0m\n",
      "\u001b[1;32m~\\anaconda3\\lib\\site-packages\\pandas\\_libs\\parsers.pyx\u001b[0m in \u001b[0;36mpandas._libs.parsers.TextReader.__cinit__\u001b[1;34m()\u001b[0m\n",
      "\u001b[1;32m~\\anaconda3\\lib\\site-packages\\pandas\\_libs\\parsers.pyx\u001b[0m in \u001b[0;36mpandas._libs.parsers.TextReader._get_header\u001b[1;34m()\u001b[0m\n",
      "\u001b[1;32m~\\anaconda3\\lib\\site-packages\\pandas\\_libs\\parsers.pyx\u001b[0m in \u001b[0;36mpandas._libs.parsers.TextReader._tokenize_rows\u001b[1;34m()\u001b[0m\n",
      "\u001b[1;32m~\\anaconda3\\lib\\site-packages\\pandas\\_libs\\parsers.pyx\u001b[0m in \u001b[0;36mpandas._libs.parsers.raise_parser_error\u001b[1;34m()\u001b[0m\n",
      "\u001b[1;31mUnicodeDecodeError\u001b[0m: 'cp949' codec can't decode byte 0xb1 in position 5: illegal multibyte sequence"
     ]
    }
   ],
   "source": [
    "school_info = pd.read_csv('data/school_major.xls',encoding='cp949')"
   ]
  },
  {
   "cell_type": "code",
   "execution_count": 91,
   "id": "c1edc306",
   "metadata": {},
   "outputs": [
    {
     "ename": "NameError",
     "evalue": "name 'school_info' is not defined",
     "output_type": "error",
     "traceback": [
      "\u001b[1;31m---------------------------------------------------------------------------\u001b[0m",
      "\u001b[1;31mNameError\u001b[0m                                 Traceback (most recent call last)",
      "\u001b[1;32m~\\AppData\\Local\\Temp\\ipykernel_10824\\353501221.py\u001b[0m in \u001b[0;36m<module>\u001b[1;34m\u001b[0m\n\u001b[1;32m----> 1\u001b[1;33m \u001b[0mschool_info\u001b[0m\u001b[1;33m\u001b[0m\u001b[1;33m\u001b[0m\u001b[0m\n\u001b[0m",
      "\u001b[1;31mNameError\u001b[0m: name 'school_info' is not defined"
     ]
    }
   ],
   "source": [
    "school_info"
   ]
  },
  {
   "cell_type": "code",
   "execution_count": null,
   "id": "b84ecfe5",
   "metadata": {},
   "outputs": [],
   "source": []
  },
  {
   "cell_type": "code",
   "execution_count": null,
   "id": "68944806",
   "metadata": {},
   "outputs": [],
   "source": []
  },
  {
   "cell_type": "code",
   "execution_count": null,
   "id": "8672dbbb",
   "metadata": {},
   "outputs": [],
   "source": []
  },
  {
   "cell_type": "code",
   "execution_count": null,
   "id": "9725cb9d",
   "metadata": {},
   "outputs": [],
   "source": []
  },
  {
   "cell_type": "code",
   "execution_count": 1,
   "id": "8330ff2f",
   "metadata": {},
   "outputs": [],
   "source": [
    "import pandas as pd"
   ]
  },
  {
   "cell_type": "code",
   "execution_count": 3,
   "id": "5cc65f45",
   "metadata": {},
   "outputs": [],
   "source": [
    "flight_route_info = pd.read_csv('data/flight_route_info.csv',encoding='cp949')"
   ]
  },
  {
   "cell_type": "code",
   "execution_count": 4,
   "id": "8f32ca06",
   "metadata": {},
   "outputs": [
    {
     "data": {
      "text/plain": [
       "Index(['노선명', '항공사', '출발지', '출발국', '도착지', '도착국', '검수', '2016.6', '2018.5',\n",
       "       '상태', '비고', '운항 횟수', '운항_2016', '운항_2017', '운항_2018', '운항_2016.12',\n",
       "       '운항_2017.1', '운항_2017.2', '운항_2017.12', '운항_2018.1', '운항_2018.2',\n",
       "       '운항_2016겨울', '운항_2017겨울', '운항_겨울 총합', '운항_2017.3', '운항_2017.4',\n",
       "       '운항_2017.5', '운항_2018.3', '운항_2018.4', '운항_2018.5', '운항_2017봄',\n",
       "       '운항_2018봄', '운항_봄 총합', '운항_2016.6', '운항_2016.7', '운항_2016.8',\n",
       "       '운항_2017.6', '운항_2017.7', '운항_2017.8', '운항_2016여름', '운항_2017여름',\n",
       "       '운항_여름 총합', '운항_2016.9', '운항_2016.10', '운항_2016.11', '운항_2017.9',\n",
       "       '운항_2017.10', '운항_2017.11', '운항_2016가을', '운항_2017가을', '운항_가을 총합', '운송량',\n",
       "       '운송량_2016', '운송량_2017', '운송량_2018', '운송량_2016.12', '운송량_2017.1',\n",
       "       '운송량_2017.2', '운송량_2017.12', '운송량_2018.1', '운송량_2018.2', '운송량_2016겨울',\n",
       "       '운송량_2017겨울', '운송량_겨울 총합', '운송량_2017.3', '운송량_2017.4', '운송량_2017.5',\n",
       "       '운송량_2018.3', '운송량_2018.4', '운송량_2018.5', '운송량_2017봄', '운송량_2018봄',\n",
       "       '운송량_봄총합', '운송량_2016.6', '운송량_2016.7', '운송량_2016.8', '운송량_2017.6',\n",
       "       '운송량_2017.7', '운송량_2017.8', '운송량_2016여름', '운송량_2017여름', '운송량_여름 총합',\n",
       "       '운송량_2016.9', '운송량_2016.10', '운송량_2016.11', '운송량_2017.9', '운송량_2017.10',\n",
       "       '운송량_2017.11', '운송량_2016가을', '운송량_2017가을', '운송량_가을 총합'],\n",
       "      dtype='object')"
      ]
     },
     "execution_count": 4,
     "metadata": {},
     "output_type": "execute_result"
    }
   ],
   "source": [
    "flight_route_info.columns"
   ]
  },
  {
   "cell_type": "code",
   "execution_count": 6,
   "id": "b4758200",
   "metadata": {},
   "outputs": [
    {
     "data": {
      "text/html": [
       "<div>\n",
       "<style scoped>\n",
       "    .dataframe tbody tr th:only-of-type {\n",
       "        vertical-align: middle;\n",
       "    }\n",
       "\n",
       "    .dataframe tbody tr th {\n",
       "        vertical-align: top;\n",
       "    }\n",
       "\n",
       "    .dataframe thead th {\n",
       "        text-align: right;\n",
       "    }\n",
       "</style>\n",
       "<table border=\"1\" class=\"dataframe\">\n",
       "  <thead>\n",
       "    <tr style=\"text-align: right;\">\n",
       "      <th></th>\n",
       "      <th>운항_2016.7</th>\n",
       "      <th>운송량_2016.7</th>\n",
       "    </tr>\n",
       "  </thead>\n",
       "  <tbody>\n",
       "    <tr>\n",
       "      <th>0</th>\n",
       "      <td>5</td>\n",
       "      <td>985</td>\n",
       "    </tr>\n",
       "    <tr>\n",
       "      <th>1</th>\n",
       "      <td>5</td>\n",
       "      <td>937</td>\n",
       "    </tr>\n",
       "    <tr>\n",
       "      <th>2</th>\n",
       "      <td>5</td>\n",
       "      <td>745</td>\n",
       "    </tr>\n",
       "    <tr>\n",
       "      <th>3</th>\n",
       "      <td>0</td>\n",
       "      <td>0</td>\n",
       "    </tr>\n",
       "    <tr>\n",
       "      <th>4</th>\n",
       "      <td>4</td>\n",
       "      <td>788</td>\n",
       "    </tr>\n",
       "    <tr>\n",
       "      <th>...</th>\n",
       "      <td>...</td>\n",
       "      <td>...</td>\n",
       "    </tr>\n",
       "    <tr>\n",
       "      <th>672</th>\n",
       "      <td>13</td>\n",
       "      <td>2457</td>\n",
       "    </tr>\n",
       "    <tr>\n",
       "      <th>673</th>\n",
       "      <td>12</td>\n",
       "      <td>2268</td>\n",
       "    </tr>\n",
       "    <tr>\n",
       "      <th>674</th>\n",
       "      <td>0</td>\n",
       "      <td>0</td>\n",
       "    </tr>\n",
       "    <tr>\n",
       "      <th>675</th>\n",
       "      <td>0</td>\n",
       "      <td>0</td>\n",
       "    </tr>\n",
       "    <tr>\n",
       "      <th>676</th>\n",
       "      <td>0</td>\n",
       "      <td>0</td>\n",
       "    </tr>\n",
       "  </tbody>\n",
       "</table>\n",
       "<p>677 rows × 2 columns</p>\n",
       "</div>"
      ],
      "text/plain": [
       "     운항_2016.7  운송량_2016.7\n",
       "0            5         985\n",
       "1            5         937\n",
       "2            5         745\n",
       "3            0           0\n",
       "4            4         788\n",
       "..         ...         ...\n",
       "672         13        2457\n",
       "673         12        2268\n",
       "674          0           0\n",
       "675          0           0\n",
       "676          0           0\n",
       "\n",
       "[677 rows x 2 columns]"
      ]
     },
     "execution_count": 6,
     "metadata": {},
     "output_type": "execute_result"
    }
   ],
   "source": [
    "flight_route_info.filter(like='2016.7')"
   ]
  },
  {
   "cell_type": "code",
   "execution_count": 13,
   "id": "bd0f3ae9",
   "metadata": {},
   "outputs": [],
   "source": [
    "flight_regex = flight_route_info.filter(regex='\\d')"
   ]
  },
  {
   "cell_type": "code",
   "execution_count": 14,
   "id": "9bb8cc8c",
   "metadata": {},
   "outputs": [
    {
     "data": {
      "text/plain": [
       "Index(['2016.6', '2018.5', '운항_2016', '운항_2017', '운항_2018', '운항_2016.12',\n",
       "       '운항_2017.1', '운항_2017.2', '운항_2017.12', '운항_2018.1', '운항_2018.2',\n",
       "       '운항_2016겨울', '운항_2017겨울', '운항_2017.3', '운항_2017.4', '운항_2017.5',\n",
       "       '운항_2018.3', '운항_2018.4', '운항_2018.5', '운항_2017봄', '운항_2018봄',\n",
       "       '운항_2016.6', '운항_2016.7', '운항_2016.8', '운항_2017.6', '운항_2017.7',\n",
       "       '운항_2017.8', '운항_2016여름', '운항_2017여름', '운항_2016.9', '운항_2016.10',\n",
       "       '운항_2016.11', '운항_2017.9', '운항_2017.10', '운항_2017.11', '운항_2016가을',\n",
       "       '운항_2017가을', '운송량_2016', '운송량_2017', '운송량_2018', '운송량_2016.12',\n",
       "       '운송량_2017.1', '운송량_2017.2', '운송량_2017.12', '운송량_2018.1', '운송량_2018.2',\n",
       "       '운송량_2016겨울', '운송량_2017겨울', '운송량_2017.3', '운송량_2017.4', '운송량_2017.5',\n",
       "       '운송량_2018.3', '운송량_2018.4', '운송량_2018.5', '운송량_2017봄', '운송량_2018봄',\n",
       "       '운송량_2016.6', '운송량_2016.7', '운송량_2016.8', '운송량_2017.6', '운송량_2017.7',\n",
       "       '운송량_2017.8', '운송량_2016여름', '운송량_2017여름', '운송량_2016.9', '운송량_2016.10',\n",
       "       '운송량_2016.11', '운송량_2017.9', '운송량_2017.10', '운송량_2017.11', '운송량_2016가을',\n",
       "       '운송량_2017가을'],\n",
       "      dtype='object')"
      ]
     },
     "execution_count": 14,
     "metadata": {},
     "output_type": "execute_result"
    }
   ],
   "source": [
    "flight_regex.columns"
   ]
  },
  {
   "cell_type": "code",
   "execution_count": 15,
   "id": "1cae2aba",
   "metadata": {},
   "outputs": [
    {
     "data": {
      "text/html": [
       "<div>\n",
       "<style scoped>\n",
       "    .dataframe tbody tr th:only-of-type {\n",
       "        vertical-align: middle;\n",
       "    }\n",
       "\n",
       "    .dataframe tbody tr th {\n",
       "        vertical-align: top;\n",
       "    }\n",
       "\n",
       "    .dataframe thead th {\n",
       "        text-align: right;\n",
       "    }\n",
       "</style>\n",
       "<table border=\"1\" class=\"dataframe\">\n",
       "  <thead>\n",
       "    <tr style=\"text-align: right;\">\n",
       "      <th></th>\n",
       "      <th>2018.5</th>\n",
       "      <th>운항_2018</th>\n",
       "      <th>운항_2018.1</th>\n",
       "      <th>운항_2018.2</th>\n",
       "      <th>운항_2018.3</th>\n",
       "      <th>운항_2018.4</th>\n",
       "      <th>운항_2018.5</th>\n",
       "      <th>운항_2018봄</th>\n",
       "      <th>운송량_2018</th>\n",
       "      <th>운송량_2018.1</th>\n",
       "      <th>운송량_2018.2</th>\n",
       "      <th>운송량_2018.3</th>\n",
       "      <th>운송량_2018.4</th>\n",
       "      <th>운송량_2018.5</th>\n",
       "      <th>운송량_2018봄</th>\n",
       "    </tr>\n",
       "  </thead>\n",
       "  <tbody>\n",
       "    <tr>\n",
       "      <th>0</th>\n",
       "      <td>O</td>\n",
       "      <td>22</td>\n",
       "      <td>4</td>\n",
       "      <td>5</td>\n",
       "      <td>5</td>\n",
       "      <td>5</td>\n",
       "      <td>3</td>\n",
       "      <td>13</td>\n",
       "      <td>3578</td>\n",
       "      <td>596</td>\n",
       "      <td>820</td>\n",
       "      <td>970</td>\n",
       "      <td>745</td>\n",
       "      <td>447</td>\n",
       "      <td>2162</td>\n",
       "    </tr>\n",
       "    <tr>\n",
       "      <th>1</th>\n",
       "      <td>O</td>\n",
       "      <td>23</td>\n",
       "      <td>5</td>\n",
       "      <td>4</td>\n",
       "      <td>4</td>\n",
       "      <td>6</td>\n",
       "      <td>4</td>\n",
       "      <td>14</td>\n",
       "      <td>4102</td>\n",
       "      <td>895</td>\n",
       "      <td>896</td>\n",
       "      <td>746</td>\n",
       "      <td>969</td>\n",
       "      <td>596</td>\n",
       "      <td>2311</td>\n",
       "    </tr>\n",
       "    <tr>\n",
       "      <th>2</th>\n",
       "      <td>O</td>\n",
       "      <td>16</td>\n",
       "      <td>4</td>\n",
       "      <td>2</td>\n",
       "      <td>4</td>\n",
       "      <td>4</td>\n",
       "      <td>2</td>\n",
       "      <td>10</td>\n",
       "      <td>2459</td>\n",
       "      <td>596</td>\n",
       "      <td>298</td>\n",
       "      <td>596</td>\n",
       "      <td>596</td>\n",
       "      <td>373</td>\n",
       "      <td>1565</td>\n",
       "    </tr>\n",
       "    <tr>\n",
       "      <th>3</th>\n",
       "      <td>O</td>\n",
       "      <td>9</td>\n",
       "      <td>1</td>\n",
       "      <td>2</td>\n",
       "      <td>2</td>\n",
       "      <td>3</td>\n",
       "      <td>1</td>\n",
       "      <td>6</td>\n",
       "      <td>1341</td>\n",
       "      <td>149</td>\n",
       "      <td>298</td>\n",
       "      <td>298</td>\n",
       "      <td>447</td>\n",
       "      <td>149</td>\n",
       "      <td>894</td>\n",
       "    </tr>\n",
       "    <tr>\n",
       "      <th>4</th>\n",
       "      <td>O</td>\n",
       "      <td>9</td>\n",
       "      <td>1</td>\n",
       "      <td>2</td>\n",
       "      <td>2</td>\n",
       "      <td>2</td>\n",
       "      <td>2</td>\n",
       "      <td>6</td>\n",
       "      <td>1416</td>\n",
       "      <td>149</td>\n",
       "      <td>298</td>\n",
       "      <td>373</td>\n",
       "      <td>298</td>\n",
       "      <td>298</td>\n",
       "      <td>969</td>\n",
       "    </tr>\n",
       "  </tbody>\n",
       "</table>\n",
       "</div>"
      ],
      "text/plain": [
       "  2018.5  운항_2018  운항_2018.1  운항_2018.2  운항_2018.3  운항_2018.4  운항_2018.5  \\\n",
       "0      O       22          4          5          5          5          3   \n",
       "1      O       23          5          4          4          6          4   \n",
       "2      O       16          4          2          4          4          2   \n",
       "3      O        9          1          2          2          3          1   \n",
       "4      O        9          1          2          2          2          2   \n",
       "\n",
       "   운항_2018봄  운송량_2018  운송량_2018.1  운송량_2018.2  운송량_2018.3  운송량_2018.4  \\\n",
       "0        13      3578         596         820         970         745   \n",
       "1        14      4102         895         896         746         969   \n",
       "2        10      2459         596         298         596         596   \n",
       "3         6      1341         149         298         298         447   \n",
       "4         6      1416         149         298         373         298   \n",
       "\n",
       "   운송량_2018.5  운송량_2018봄  \n",
       "0         447       2162  \n",
       "1         596       2311  \n",
       "2         373       1565  \n",
       "3         149        894  \n",
       "4         298        969  "
      ]
     },
     "execution_count": 15,
     "metadata": {},
     "output_type": "execute_result"
    }
   ],
   "source": [
    "flight_route_info.filter(like='2018').head()"
   ]
  },
  {
   "cell_type": "code",
   "execution_count": null,
   "id": "6a4f5df3",
   "metadata": {},
   "outputs": [],
   "source": []
  },
  {
   "cell_type": "code",
   "execution_count": 17,
   "id": "2eb84019",
   "metadata": {},
   "outputs": [],
   "source": [
    "op = pd.read_csv('data/series_dataframe.csv')"
   ]
  },
  {
   "cell_type": "code",
   "execution_count": 18,
   "id": "95c4b7ed",
   "metadata": {},
   "outputs": [
    {
     "data": {
      "text/plain": [
       "<bound method NDFrame.head of          Member      Series   DataFrame\n",
       "0             T           T           T\n",
       "1           abs         abs         abs\n",
       "2           add         add         add\n",
       "3    add_prefix  add_prefix  add_prefix\n",
       "4    add_suffix  add_suffix  add_suffix\n",
       "..          ...         ...         ...\n",
       "259      values      values      values\n",
       "260         var         var         var\n",
       "261        view        view         NaN\n",
       "262       where       where       where\n",
       "263          xs          xs          xs\n",
       "\n",
       "[264 rows x 3 columns]>"
      ]
     },
     "execution_count": 18,
     "metadata": {},
     "output_type": "execute_result"
    }
   ],
   "source": [
    "op.head"
   ]
  },
  {
   "cell_type": "code",
   "execution_count": 19,
   "id": "48b8797c",
   "metadata": {},
   "outputs": [
    {
     "data": {
      "text/plain": [
       "(264, 3)"
      ]
     },
     "execution_count": 19,
     "metadata": {},
     "output_type": "execute_result"
    }
   ],
   "source": [
    "op.shape"
   ]
  },
  {
   "cell_type": "code",
   "execution_count": 21,
   "id": "4064de40",
   "metadata": {},
   "outputs": [
    {
     "data": {
      "text/plain": [
       "<bound method NDFrame.head of 0       True\n",
       "1       True\n",
       "2       True\n",
       "3       True\n",
       "4       True\n",
       "       ...  \n",
       "259     True\n",
       "260     True\n",
       "261    False\n",
       "262     True\n",
       "263     True\n",
       "Length: 264, dtype: bool>"
      ]
     },
     "execution_count": 21,
     "metadata": {},
     "output_type": "execute_result"
    }
   ],
   "source": [
    "(op['Series']==op['DataFrame']).head"
   ]
  },
  {
   "cell_type": "code",
   "execution_count": 23,
   "id": "8212684b",
   "metadata": {},
   "outputs": [],
   "source": [
    "op_eq=op.loc[(op['Series']==op['DataFrame'])]"
   ]
  },
  {
   "cell_type": "code",
   "execution_count": 24,
   "id": "efc35704",
   "metadata": {},
   "outputs": [
    {
     "data": {
      "text/plain": [
       "(190, 3)"
      ]
     },
     "execution_count": 24,
     "metadata": {},
     "output_type": "execute_result"
    }
   ],
   "source": [
    "op_eq.shape"
   ]
  },
  {
   "cell_type": "code",
   "execution_count": 26,
   "id": "bf07b6e4",
   "metadata": {},
   "outputs": [
    {
     "data": {
      "text/html": [
       "<div>\n",
       "<style scoped>\n",
       "    .dataframe tbody tr th:only-of-type {\n",
       "        vertical-align: middle;\n",
       "    }\n",
       "\n",
       "    .dataframe tbody tr th {\n",
       "        vertical-align: top;\n",
       "    }\n",
       "\n",
       "    .dataframe thead th {\n",
       "        text-align: right;\n",
       "    }\n",
       "</style>\n",
       "<table border=\"1\" class=\"dataframe\">\n",
       "  <thead>\n",
       "    <tr style=\"text-align: right;\">\n",
       "      <th></th>\n",
       "      <th>Member</th>\n",
       "      <th>Series</th>\n",
       "      <th>DataFrame</th>\n",
       "    </tr>\n",
       "  </thead>\n",
       "  <tbody>\n",
       "    <tr>\n",
       "      <th>0</th>\n",
       "      <td>T</td>\n",
       "      <td>T</td>\n",
       "      <td>T</td>\n",
       "    </tr>\n",
       "    <tr>\n",
       "      <th>1</th>\n",
       "      <td>abs</td>\n",
       "      <td>abs</td>\n",
       "      <td>abs</td>\n",
       "    </tr>\n",
       "    <tr>\n",
       "      <th>2</th>\n",
       "      <td>add</td>\n",
       "      <td>add</td>\n",
       "      <td>add</td>\n",
       "    </tr>\n",
       "    <tr>\n",
       "      <th>3</th>\n",
       "      <td>add_prefix</td>\n",
       "      <td>add_prefix</td>\n",
       "      <td>add_prefix</td>\n",
       "    </tr>\n",
       "    <tr>\n",
       "      <th>4</th>\n",
       "      <td>add_suffix</td>\n",
       "      <td>add_suffix</td>\n",
       "      <td>add_suffix</td>\n",
       "    </tr>\n",
       "  </tbody>\n",
       "</table>\n",
       "</div>"
      ],
      "text/plain": [
       "       Member      Series   DataFrame\n",
       "0           T           T           T\n",
       "1         abs         abs         abs\n",
       "2         add         add         add\n",
       "3  add_prefix  add_prefix  add_prefix\n",
       "4  add_suffix  add_suffix  add_suffix"
      ]
     },
     "execution_count": 26,
     "metadata": {},
     "output_type": "execute_result"
    }
   ],
   "source": [
    "op_eq.head()"
   ]
  },
  {
   "cell_type": "code",
   "execution_count": 27,
   "id": "84a280d8",
   "metadata": {},
   "outputs": [
    {
     "data": {
      "text/html": [
       "<div>\n",
       "<style scoped>\n",
       "    .dataframe tbody tr th:only-of-type {\n",
       "        vertical-align: middle;\n",
       "    }\n",
       "\n",
       "    .dataframe tbody tr th {\n",
       "        vertical-align: top;\n",
       "    }\n",
       "\n",
       "    .dataframe thead th {\n",
       "        text-align: right;\n",
       "    }\n",
       "</style>\n",
       "<table border=\"1\" class=\"dataframe\">\n",
       "  <thead>\n",
       "    <tr style=\"text-align: right;\">\n",
       "      <th></th>\n",
       "      <th>Member</th>\n",
       "      <th>Series</th>\n",
       "      <th>DataFrame</th>\n",
       "    </tr>\n",
       "  </thead>\n",
       "  <tbody>\n",
       "    <tr>\n",
       "      <th>256</th>\n",
       "      <td>update</td>\n",
       "      <td>update</td>\n",
       "      <td>update</td>\n",
       "    </tr>\n",
       "    <tr>\n",
       "      <th>259</th>\n",
       "      <td>values</td>\n",
       "      <td>values</td>\n",
       "      <td>values</td>\n",
       "    </tr>\n",
       "    <tr>\n",
       "      <th>260</th>\n",
       "      <td>var</td>\n",
       "      <td>var</td>\n",
       "      <td>var</td>\n",
       "    </tr>\n",
       "    <tr>\n",
       "      <th>262</th>\n",
       "      <td>where</td>\n",
       "      <td>where</td>\n",
       "      <td>where</td>\n",
       "    </tr>\n",
       "    <tr>\n",
       "      <th>263</th>\n",
       "      <td>xs</td>\n",
       "      <td>xs</td>\n",
       "      <td>xs</td>\n",
       "    </tr>\n",
       "  </tbody>\n",
       "</table>\n",
       "</div>"
      ],
      "text/plain": [
       "     Member  Series DataFrame\n",
       "256  update  update    update\n",
       "259  values  values    values\n",
       "260     var     var       var\n",
       "262   where   where     where\n",
       "263      xs      xs        xs"
      ]
     },
     "execution_count": 27,
     "metadata": {},
     "output_type": "execute_result"
    }
   ],
   "source": [
    "op_eq.tail()"
   ]
  },
  {
   "cell_type": "code",
   "execution_count": 28,
   "id": "bf0755d7",
   "metadata": {},
   "outputs": [],
   "source": [
    "op_eq_list=op_eq['Member'].tolist()"
   ]
  },
  {
   "cell_type": "code",
   "execution_count": 29,
   "id": "876d2351",
   "metadata": {},
   "outputs": [
    {
     "data": {
      "text/plain": [
       "['T',\n",
       " 'abs',\n",
       " 'add',\n",
       " 'add_prefix',\n",
       " 'add_suffix',\n",
       " 'agg',\n",
       " 'aggregate',\n",
       " 'align',\n",
       " 'all',\n",
       " 'any',\n",
       " 'append',\n",
       " 'apply',\n",
       " 'as_blocks',\n",
       " 'as_matrix',\n",
       " 'asfreq',\n",
       " 'asof',\n",
       " 'astype',\n",
       " 'at',\n",
       " 'at_time',\n",
       " 'axes',\n",
       " 'between_time',\n",
       " 'bfill',\n",
       " 'blocks',\n",
       " 'bool',\n",
       " 'clip',\n",
       " 'clip_lower',\n",
       " 'clip_upper',\n",
       " 'combine',\n",
       " 'combine_first',\n",
       " 'compound',\n",
       " 'consolidate',\n",
       " 'convert_objects',\n",
       " 'copy',\n",
       " 'corr',\n",
       " 'count',\n",
       " 'cov',\n",
       " 'cummax',\n",
       " 'cummin',\n",
       " 'cumprod',\n",
       " 'cumsum',\n",
       " 'describe',\n",
       " 'diff',\n",
       " 'div',\n",
       " 'divide',\n",
       " 'dot',\n",
       " 'drop',\n",
       " 'drop_duplicates',\n",
       " 'dropna',\n",
       " 'dtypes',\n",
       " 'duplicated',\n",
       " 'empty',\n",
       " 'eq',\n",
       " 'equals',\n",
       " 'ewm',\n",
       " 'expanding',\n",
       " 'ffill',\n",
       " 'fillna',\n",
       " 'filter',\n",
       " 'first',\n",
       " 'first_valid_index',\n",
       " 'floordiv',\n",
       " 'from_csv',\n",
       " 'ftypes',\n",
       " 'ge',\n",
       " 'get',\n",
       " 'get_dtype_counts',\n",
       " 'get_ftype_counts',\n",
       " 'get_value',\n",
       " 'get_values',\n",
       " 'groupby',\n",
       " 'gt',\n",
       " 'head',\n",
       " 'hist',\n",
       " 'iat',\n",
       " 'idxmax',\n",
       " 'idxmin',\n",
       " 'iloc',\n",
       " 'index',\n",
       " 'infer_objects',\n",
       " 'interpolate',\n",
       " 'is_copy',\n",
       " 'isin',\n",
       " 'isna',\n",
       " 'isnull',\n",
       " 'ix',\n",
       " 'keys',\n",
       " 'kurt',\n",
       " 'kurtosis',\n",
       " 'last',\n",
       " 'last_valid_index',\n",
       " 'le',\n",
       " 'loc',\n",
       " 'lt',\n",
       " 'mad',\n",
       " 'mask',\n",
       " 'max',\n",
       " 'mean',\n",
       " 'median',\n",
       " 'memory_usage',\n",
       " 'min',\n",
       " 'mod',\n",
       " 'mode',\n",
       " 'mul',\n",
       " 'multiply',\n",
       " 'ndim',\n",
       " 'ne',\n",
       " 'nlargest',\n",
       " 'notna',\n",
       " 'notnull',\n",
       " 'nsmallest',\n",
       " 'nunique',\n",
       " 'pct_change',\n",
       " 'pipe',\n",
       " 'plot',\n",
       " 'pop',\n",
       " 'pow',\n",
       " 'prod',\n",
       " 'product',\n",
       " 'quantile',\n",
       " 'radd',\n",
       " 'rank',\n",
       " 'rdiv',\n",
       " 'reindex',\n",
       " 'reindex_axis',\n",
       " 'reindex_like',\n",
       " 'rename',\n",
       " 'rename_axis',\n",
       " 'reorder_levels',\n",
       " 'replace',\n",
       " 'resample',\n",
       " 'reset_index',\n",
       " 'rfloordiv',\n",
       " 'rmod',\n",
       " 'rmul',\n",
       " 'rolling',\n",
       " 'round',\n",
       " 'rpow',\n",
       " 'rsub',\n",
       " 'rtruediv',\n",
       " 'sample',\n",
       " 'select',\n",
       " 'sem',\n",
       " 'set_axis',\n",
       " 'set_value',\n",
       " 'shape',\n",
       " 'shift',\n",
       " 'size',\n",
       " 'skew',\n",
       " 'slice_shift',\n",
       " 'sort_index',\n",
       " 'sort_values',\n",
       " 'sortlevel',\n",
       " 'squeeze',\n",
       " 'std',\n",
       " 'sub',\n",
       " 'subtract',\n",
       " 'sum',\n",
       " 'swapaxes',\n",
       " 'swaplevel',\n",
       " 'tail',\n",
       " 'take',\n",
       " 'to_clipboard',\n",
       " 'to_csv',\n",
       " 'to_dense',\n",
       " 'to_dict',\n",
       " 'to_excel',\n",
       " 'to_hdf',\n",
       " 'to_json',\n",
       " 'to_latex',\n",
       " 'to_msgpack',\n",
       " 'to_period',\n",
       " 'to_pickle',\n",
       " 'to_sparse',\n",
       " 'to_sql',\n",
       " 'to_string',\n",
       " 'to_timestamp',\n",
       " 'to_xarray',\n",
       " 'transform',\n",
       " 'transpose',\n",
       " 'truediv',\n",
       " 'truncate',\n",
       " 'tshift',\n",
       " 'tz_convert',\n",
       " 'tz_localize',\n",
       " 'unstack',\n",
       " 'update',\n",
       " 'values',\n",
       " 'var',\n",
       " 'where',\n",
       " 'xs']"
      ]
     },
     "execution_count": 29,
     "metadata": {},
     "output_type": "execute_result"
    }
   ],
   "source": [
    "op_eq_list"
   ]
  },
  {
   "cell_type": "code",
   "execution_count": 31,
   "id": "23e7b684",
   "metadata": {},
   "outputs": [],
   "source": [
    "college = pd.read_csv('data/2017_college_tuition.csv',encoding='euc-kr')"
   ]
  },
  {
   "cell_type": "code",
   "execution_count": 32,
   "id": "80ff147d",
   "metadata": {},
   "outputs": [
    {
     "data": {
      "text/plain": [
       "(196, 3)"
      ]
     },
     "execution_count": 32,
     "metadata": {},
     "output_type": "execute_result"
    }
   ],
   "source": [
    "college.shape"
   ]
  },
  {
   "cell_type": "code",
   "execution_count": null,
   "id": "6ccc71bd",
   "metadata": {},
   "outputs": [],
   "source": []
  },
  {
   "cell_type": "code",
   "execution_count": 33,
   "id": "0961f92c",
   "metadata": {},
   "outputs": [],
   "source": [
    "flight_route_info = pd.read_csv('data/flight_route_info.csv',encoding='cp949')"
   ]
  },
  {
   "cell_type": "code",
   "execution_count": 34,
   "id": "80c9a880",
   "metadata": {},
   "outputs": [
    {
     "data": {
      "text/plain": [
       "Index(['노선명', '항공사', '출발지', '출발국', '도착지', '도착국', '검수', '2016.6', '2018.5',\n",
       "       '상태', '비고', '운항 횟수', '운항_2016', '운항_2017', '운항_2018', '운항_2016.12',\n",
       "       '운항_2017.1', '운항_2017.2', '운항_2017.12', '운항_2018.1', '운항_2018.2',\n",
       "       '운항_2016겨울', '운항_2017겨울', '운항_겨울 총합', '운항_2017.3', '운항_2017.4',\n",
       "       '운항_2017.5', '운항_2018.3', '운항_2018.4', '운항_2018.5', '운항_2017봄',\n",
       "       '운항_2018봄', '운항_봄 총합', '운항_2016.6', '운항_2016.7', '운항_2016.8',\n",
       "       '운항_2017.6', '운항_2017.7', '운항_2017.8', '운항_2016여름', '운항_2017여름',\n",
       "       '운항_여름 총합', '운항_2016.9', '운항_2016.10', '운항_2016.11', '운항_2017.9',\n",
       "       '운항_2017.10', '운항_2017.11', '운항_2016가을', '운항_2017가을', '운항_가을 총합', '운송량',\n",
       "       '운송량_2016', '운송량_2017', '운송량_2018', '운송량_2016.12', '운송량_2017.1',\n",
       "       '운송량_2017.2', '운송량_2017.12', '운송량_2018.1', '운송량_2018.2', '운송량_2016겨울',\n",
       "       '운송량_2017겨울', '운송량_겨울 총합', '운송량_2017.3', '운송량_2017.4', '운송량_2017.5',\n",
       "       '운송량_2018.3', '운송량_2018.4', '운송량_2018.5', '운송량_2017봄', '운송량_2018봄',\n",
       "       '운송량_봄총합', '운송량_2016.6', '운송량_2016.7', '운송량_2016.8', '운송량_2017.6',\n",
       "       '운송량_2017.7', '운송량_2017.8', '운송량_2016여름', '운송량_2017여름', '운송량_여름 총합',\n",
       "       '운송량_2016.9', '운송량_2016.10', '운송량_2016.11', '운송량_2017.9', '운송량_2017.10',\n",
       "       '운송량_2017.11', '운송량_2016가을', '운송량_2017가을', '운송량_가을 총합'],\n",
       "      dtype='object')"
      ]
     },
     "execution_count": 34,
     "metadata": {},
     "output_type": "execute_result"
    }
   ],
   "source": [
    "flight_route_info.columns"
   ]
  },
  {
   "cell_type": "code",
   "execution_count": 35,
   "id": "2cf60886",
   "metadata": {},
   "outputs": [
    {
     "data": {
      "text/plain": [
       "RangeIndex(start=0, stop=677, step=1)"
      ]
     },
     "execution_count": 35,
     "metadata": {},
     "output_type": "execute_result"
    }
   ],
   "source": [
    "flight_route_info.index"
   ]
  },
  {
   "cell_type": "code",
   "execution_count": 36,
   "id": "2cf198a5",
   "metadata": {},
   "outputs": [
    {
     "data": {
      "text/html": [
       "<div>\n",
       "<style scoped>\n",
       "    .dataframe tbody tr th:only-of-type {\n",
       "        vertical-align: middle;\n",
       "    }\n",
       "\n",
       "    .dataframe tbody tr th {\n",
       "        vertical-align: top;\n",
       "    }\n",
       "\n",
       "    .dataframe thead th {\n",
       "        text-align: right;\n",
       "    }\n",
       "</style>\n",
       "<table border=\"1\" class=\"dataframe\">\n",
       "  <thead>\n",
       "    <tr style=\"text-align: right;\">\n",
       "      <th></th>\n",
       "      <th>2016.6</th>\n",
       "      <th>운항_2016.6</th>\n",
       "      <th>운송량_2016.6</th>\n",
       "    </tr>\n",
       "  </thead>\n",
       "  <tbody>\n",
       "    <tr>\n",
       "      <th>0</th>\n",
       "      <td>O</td>\n",
       "      <td>4</td>\n",
       "      <td>692</td>\n",
       "    </tr>\n",
       "    <tr>\n",
       "      <th>1</th>\n",
       "      <td>O</td>\n",
       "      <td>4</td>\n",
       "      <td>692</td>\n",
       "    </tr>\n",
       "    <tr>\n",
       "      <th>2</th>\n",
       "      <td>O</td>\n",
       "      <td>4</td>\n",
       "      <td>596</td>\n",
       "    </tr>\n",
       "    <tr>\n",
       "      <th>3</th>\n",
       "      <td>O</td>\n",
       "      <td>0</td>\n",
       "      <td>0</td>\n",
       "    </tr>\n",
       "    <tr>\n",
       "      <th>4</th>\n",
       "      <td>O</td>\n",
       "      <td>5</td>\n",
       "      <td>985</td>\n",
       "    </tr>\n",
       "  </tbody>\n",
       "</table>\n",
       "</div>"
      ],
      "text/plain": [
       "  2016.6  운항_2016.6  운송량_2016.6\n",
       "0      O          4         692\n",
       "1      O          4         692\n",
       "2      O          4         596\n",
       "3      O          0           0\n",
       "4      O          5         985"
      ]
     },
     "execution_count": 36,
     "metadata": {},
     "output_type": "execute_result"
    }
   ],
   "source": [
    "# 열중에 특정값이 있는 열을 filter함수의 like 인자를 통해 필터링\n",
    "flight_route_info.filter(like='2016.6').head()"
   ]
  },
  {
   "cell_type": "code",
   "execution_count": 37,
   "id": "e88e03f3",
   "metadata": {},
   "outputs": [],
   "source": [
    "flight_regex = flight_route_info.filter(regex='\\d')"
   ]
  },
  {
   "cell_type": "code",
   "execution_count": 38,
   "id": "6898614d",
   "metadata": {},
   "outputs": [
    {
     "data": {
      "text/plain": [
       "Index(['2016.6', '2018.5', '운항_2016', '운항_2017', '운항_2018', '운항_2016.12',\n",
       "       '운항_2017.1', '운항_2017.2', '운항_2017.12', '운항_2018.1', '운항_2018.2',\n",
       "       '운항_2016겨울', '운항_2017겨울', '운항_2017.3', '운항_2017.4', '운항_2017.5',\n",
       "       '운항_2018.3', '운항_2018.4', '운항_2018.5', '운항_2017봄', '운항_2018봄',\n",
       "       '운항_2016.6', '운항_2016.7', '운항_2016.8', '운항_2017.6', '운항_2017.7',\n",
       "       '운항_2017.8', '운항_2016여름', '운항_2017여름', '운항_2016.9', '운항_2016.10',\n",
       "       '운항_2016.11', '운항_2017.9', '운항_2017.10', '운항_2017.11', '운항_2016가을',\n",
       "       '운항_2017가을', '운송량_2016', '운송량_2017', '운송량_2018', '운송량_2016.12',\n",
       "       '운송량_2017.1', '운송량_2017.2', '운송량_2017.12', '운송량_2018.1', '운송량_2018.2',\n",
       "       '운송량_2016겨울', '운송량_2017겨울', '운송량_2017.3', '운송량_2017.4', '운송량_2017.5',\n",
       "       '운송량_2018.3', '운송량_2018.4', '운송량_2018.5', '운송량_2017봄', '운송량_2018봄',\n",
       "       '운송량_2016.6', '운송량_2016.7', '운송량_2016.8', '운송량_2017.6', '운송량_2017.7',\n",
       "       '운송량_2017.8', '운송량_2016여름', '운송량_2017여름', '운송량_2016.9', '운송량_2016.10',\n",
       "       '운송량_2016.11', '운송량_2017.9', '운송량_2017.10', '운송량_2017.11', '운송량_2016가을',\n",
       "       '운송량_2017가을'],\n",
       "      dtype='object')"
      ]
     },
     "execution_count": 38,
     "metadata": {},
     "output_type": "execute_result"
    }
   ],
   "source": [
    "flight_regex.columns"
   ]
  },
  {
   "cell_type": "code",
   "execution_count": 39,
   "id": "c8919357",
   "metadata": {},
   "outputs": [
    {
     "data": {
      "text/html": [
       "<div>\n",
       "<style scoped>\n",
       "    .dataframe tbody tr th:only-of-type {\n",
       "        vertical-align: middle;\n",
       "    }\n",
       "\n",
       "    .dataframe tbody tr th {\n",
       "        vertical-align: top;\n",
       "    }\n",
       "\n",
       "    .dataframe thead th {\n",
       "        text-align: right;\n",
       "    }\n",
       "</style>\n",
       "<table border=\"1\" class=\"dataframe\">\n",
       "  <thead>\n",
       "    <tr style=\"text-align: right;\">\n",
       "      <th></th>\n",
       "      <th>2018.5</th>\n",
       "      <th>운항_2018</th>\n",
       "      <th>운항_2018.1</th>\n",
       "      <th>운항_2018.2</th>\n",
       "      <th>운항_2018.3</th>\n",
       "      <th>운항_2018.4</th>\n",
       "      <th>운항_2018.5</th>\n",
       "      <th>운항_2018봄</th>\n",
       "      <th>운송량_2018</th>\n",
       "      <th>운송량_2018.1</th>\n",
       "      <th>운송량_2018.2</th>\n",
       "      <th>운송량_2018.3</th>\n",
       "      <th>운송량_2018.4</th>\n",
       "      <th>운송량_2018.5</th>\n",
       "      <th>운송량_2018봄</th>\n",
       "    </tr>\n",
       "  </thead>\n",
       "  <tbody>\n",
       "    <tr>\n",
       "      <th>0</th>\n",
       "      <td>O</td>\n",
       "      <td>22</td>\n",
       "      <td>4</td>\n",
       "      <td>5</td>\n",
       "      <td>5</td>\n",
       "      <td>5</td>\n",
       "      <td>3</td>\n",
       "      <td>13</td>\n",
       "      <td>3578</td>\n",
       "      <td>596</td>\n",
       "      <td>820</td>\n",
       "      <td>970</td>\n",
       "      <td>745</td>\n",
       "      <td>447</td>\n",
       "      <td>2162</td>\n",
       "    </tr>\n",
       "    <tr>\n",
       "      <th>1</th>\n",
       "      <td>O</td>\n",
       "      <td>23</td>\n",
       "      <td>5</td>\n",
       "      <td>4</td>\n",
       "      <td>4</td>\n",
       "      <td>6</td>\n",
       "      <td>4</td>\n",
       "      <td>14</td>\n",
       "      <td>4102</td>\n",
       "      <td>895</td>\n",
       "      <td>896</td>\n",
       "      <td>746</td>\n",
       "      <td>969</td>\n",
       "      <td>596</td>\n",
       "      <td>2311</td>\n",
       "    </tr>\n",
       "    <tr>\n",
       "      <th>2</th>\n",
       "      <td>O</td>\n",
       "      <td>16</td>\n",
       "      <td>4</td>\n",
       "      <td>2</td>\n",
       "      <td>4</td>\n",
       "      <td>4</td>\n",
       "      <td>2</td>\n",
       "      <td>10</td>\n",
       "      <td>2459</td>\n",
       "      <td>596</td>\n",
       "      <td>298</td>\n",
       "      <td>596</td>\n",
       "      <td>596</td>\n",
       "      <td>373</td>\n",
       "      <td>1565</td>\n",
       "    </tr>\n",
       "    <tr>\n",
       "      <th>3</th>\n",
       "      <td>O</td>\n",
       "      <td>9</td>\n",
       "      <td>1</td>\n",
       "      <td>2</td>\n",
       "      <td>2</td>\n",
       "      <td>3</td>\n",
       "      <td>1</td>\n",
       "      <td>6</td>\n",
       "      <td>1341</td>\n",
       "      <td>149</td>\n",
       "      <td>298</td>\n",
       "      <td>298</td>\n",
       "      <td>447</td>\n",
       "      <td>149</td>\n",
       "      <td>894</td>\n",
       "    </tr>\n",
       "    <tr>\n",
       "      <th>4</th>\n",
       "      <td>O</td>\n",
       "      <td>9</td>\n",
       "      <td>1</td>\n",
       "      <td>2</td>\n",
       "      <td>2</td>\n",
       "      <td>2</td>\n",
       "      <td>2</td>\n",
       "      <td>6</td>\n",
       "      <td>1416</td>\n",
       "      <td>149</td>\n",
       "      <td>298</td>\n",
       "      <td>373</td>\n",
       "      <td>298</td>\n",
       "      <td>298</td>\n",
       "      <td>969</td>\n",
       "    </tr>\n",
       "  </tbody>\n",
       "</table>\n",
       "</div>"
      ],
      "text/plain": [
       "  2018.5  운항_2018  운항_2018.1  운항_2018.2  운항_2018.3  운항_2018.4  운항_2018.5  \\\n",
       "0      O       22          4          5          5          5          3   \n",
       "1      O       23          5          4          4          6          4   \n",
       "2      O       16          4          2          4          4          2   \n",
       "3      O        9          1          2          2          3          1   \n",
       "4      O        9          1          2          2          2          2   \n",
       "\n",
       "   운항_2018봄  운송량_2018  운송량_2018.1  운송량_2018.2  운송량_2018.3  운송량_2018.4  \\\n",
       "0        13      3578         596         820         970         745   \n",
       "1        14      4102         895         896         746         969   \n",
       "2        10      2459         596         298         596         596   \n",
       "3         6      1341         149         298         298         447   \n",
       "4         6      1416         149         298         373         298   \n",
       "\n",
       "   운송량_2018.5  운송량_2018봄  \n",
       "0         447       2162  \n",
       "1         596       2311  \n",
       "2         373       1565  \n",
       "3         149        894  \n",
       "4         298        969  "
      ]
     },
     "execution_count": 39,
     "metadata": {},
     "output_type": "execute_result"
    }
   ],
   "source": [
    "flight_route_info.filter(like='2018').head()"
   ]
  },
  {
   "cell_type": "code",
   "execution_count": null,
   "id": "7e6c8132",
   "metadata": {},
   "outputs": [],
   "source": []
  },
  {
   "cell_type": "code",
   "execution_count": 41,
   "id": "509ff32b",
   "metadata": {},
   "outputs": [],
   "source": [
    "import numpy as np"
   ]
  },
  {
   "cell_type": "code",
   "execution_count": 42,
   "id": "5f4f34f3",
   "metadata": {},
   "outputs": [],
   "source": [
    "#nan => 결측값으로 처리한다는 것을 의미, None\n",
    "s = pd.Series([0, 1, np.nan, 3])"
   ]
  },
  {
   "cell_type": "code",
   "execution_count": 43,
   "id": "78f90806",
   "metadata": {},
   "outputs": [
    {
     "data": {
      "text/plain": [
       "0    0.0\n",
       "1    1.0\n",
       "2    1.0\n",
       "3    3.0\n",
       "dtype: float64"
      ]
     },
     "execution_count": 43,
     "metadata": {},
     "output_type": "execute_result"
    }
   ],
   "source": [
    "s.fillna(method='ffill')"
   ]
  },
  {
   "cell_type": "code",
   "execution_count": 44,
   "id": "85ffefdc",
   "metadata": {},
   "outputs": [
    {
     "data": {
      "text/plain": [
       "0    0.0\n",
       "1    1.0\n",
       "2    1.0\n",
       "3    3.0\n",
       "dtype: float64"
      ]
     },
     "execution_count": 44,
     "metadata": {},
     "output_type": "execute_result"
    }
   ],
   "source": [
    "s.fillna(method='pad')"
   ]
  },
  {
   "cell_type": "code",
   "execution_count": 45,
   "id": "a22f832a",
   "metadata": {},
   "outputs": [
    {
     "data": {
      "text/plain": [
       "0    0.0\n",
       "1    1.0\n",
       "2    3.0\n",
       "3    3.0\n",
       "dtype: float64"
      ]
     },
     "execution_count": 45,
     "metadata": {},
     "output_type": "execute_result"
    }
   ],
   "source": [
    "s.fillna(method='bfill')"
   ]
  },
  {
   "cell_type": "code",
   "execution_count": 46,
   "id": "adbbfec7",
   "metadata": {},
   "outputs": [
    {
     "data": {
      "text/plain": [
       "0    0.0\n",
       "1    1.0\n",
       "2    3.0\n",
       "3    3.0\n",
       "dtype: float64"
      ]
     },
     "execution_count": 46,
     "metadata": {},
     "output_type": "execute_result"
    }
   ],
   "source": [
    "s.fillna(method='backfill')"
   ]
  },
  {
   "cell_type": "code",
   "execution_count": 47,
   "id": "9e2c3078",
   "metadata": {},
   "outputs": [
    {
     "data": {
      "text/plain": [
       "노선명          0\n",
       "항공사          0\n",
       "출발지          0\n",
       "출발국          0\n",
       "도착지          0\n",
       "도착국          0\n",
       "검수           0\n",
       "2016.6       0\n",
       "2018.5       0\n",
       "상태           0\n",
       "비고         412\n",
       "운항 횟수        0\n",
       "운항_2016      0\n",
       "dtype: int64"
      ]
     },
     "execution_count": 47,
     "metadata": {},
     "output_type": "execute_result"
    }
   ],
   "source": [
    "flight_route_info.isnull().sum().head(13)"
   ]
  },
  {
   "cell_type": "code",
   "execution_count": 48,
   "id": "533dc966",
   "metadata": {},
   "outputs": [
    {
     "data": {
      "text/plain": [
       "pandas.core.series.Series"
      ]
     },
     "execution_count": 48,
     "metadata": {},
     "output_type": "execute_result"
    }
   ],
   "source": [
    "type(flight_route_info.isnull().sum())"
   ]
  },
  {
   "cell_type": "code",
   "execution_count": 49,
   "id": "51090323",
   "metadata": {},
   "outputs": [
    {
     "data": {
      "text/plain": [
       "412"
      ]
     },
     "execution_count": 49,
     "metadata": {},
     "output_type": "execute_result"
    }
   ],
   "source": [
    "# 개별 열의 누락된 값의 총합을 구함\n",
    "flight_route_info.isnull().sum().sum()"
   ]
  },
  {
   "cell_type": "code",
   "execution_count": 51,
   "id": "5ada3298",
   "metadata": {},
   "outputs": [
    {
     "data": {
      "text/plain": [
       "2016.11.05. 이후 폐선             4\n",
       "2018.04.24. 이후 기록 없음          3\n",
       "2017.07 한 달                   2\n",
       "2017.10.27. 이후 폐선             2\n",
       "2018.04.26. 이후 기록 없음          2\n",
       "                             ..\n",
       "2017.11.24. 이후 폐선             1\n",
       "2017.06.19. 이후 폐선             1\n",
       "2017.10.26. 이후 폐선             1\n",
       "2017.09.28. 이후 폐선             1\n",
       "2016.09.19~2017.02.27 한시운영    1\n",
       "Name: 비고, Length: 246, dtype: int64"
      ]
     },
     "execution_count": 51,
     "metadata": {},
     "output_type": "execute_result"
    }
   ],
   "source": [
    "# 특정열의 유일 값별 개수\n",
    "flight_route_info['비고'].value_counts()"
   ]
  },
  {
   "cell_type": "code",
   "execution_count": 52,
   "id": "c1c6cd2e",
   "metadata": {},
   "outputs": [
    {
     "data": {
      "text/plain": [
       "NaN                     412\n",
       "2016.11.05. 이후 폐선         4\n",
       "2018.04.24. 이후 기록 없음      3\n",
       "2016.10 한 달 운항            2\n",
       "2017.03.24. 이후 폐선         2\n",
       "Name: 비고, dtype: int64"
      ]
     },
     "execution_count": 52,
     "metadata": {},
     "output_type": "execute_result"
    }
   ],
   "source": [
    "# dropna=False 인자를 설정하게 되면 결측치에 대한 집계도 가능 \n",
    "flight_route_info['비고'].value_counts(dropna=False).head()"
   ]
  },
  {
   "cell_type": "code",
   "execution_count": 53,
   "id": "900203e2",
   "metadata": {},
   "outputs": [
    {
     "data": {
      "text/plain": [
       "NaN                     412\n",
       "2016.11.05. 이후 폐선         4\n",
       "2018.04.24. 이후 기록 없음      3\n",
       "2016.10 한 달 운항            2\n",
       "2017.03.24. 이후 폐선         2\n",
       "Name: 비고, dtype: int64"
      ]
     },
     "execution_count": 53,
     "metadata": {},
     "output_type": "execute_result"
    }
   ],
   "source": [
    "flight_route_info['비고'].value_counts(dropna=False).head()"
   ]
  },
  {
   "cell_type": "code",
   "execution_count": 54,
   "id": "92e3f467",
   "metadata": {},
   "outputs": [
    {
     "data": {
      "text/plain": [
       "dtype('O')"
      ]
     },
     "execution_count": 54,
     "metadata": {},
     "output_type": "execute_result"
    }
   ],
   "source": [
    "flight_route_info['비고'].dtype"
   ]
  },
  {
   "cell_type": "code",
   "execution_count": 55,
   "id": "e3f5dc9c",
   "metadata": {},
   "outputs": [
    {
     "data": {
      "text/html": [
       "<div>\n",
       "<style scoped>\n",
       "    .dataframe tbody tr th:only-of-type {\n",
       "        vertical-align: middle;\n",
       "    }\n",
       "\n",
       "    .dataframe tbody tr th {\n",
       "        vertical-align: top;\n",
       "    }\n",
       "\n",
       "    .dataframe thead th {\n",
       "        text-align: right;\n",
       "    }\n",
       "</style>\n",
       "<table border=\"1\" class=\"dataframe\">\n",
       "  <thead>\n",
       "    <tr style=\"text-align: right;\">\n",
       "      <th></th>\n",
       "      <th>노선명</th>\n",
       "      <th>항공사</th>\n",
       "      <th>출발지</th>\n",
       "      <th>출발국</th>\n",
       "      <th>도착지</th>\n",
       "      <th>도착국</th>\n",
       "      <th>검수</th>\n",
       "      <th>2016.6</th>\n",
       "      <th>2018.5</th>\n",
       "      <th>상태</th>\n",
       "      <th>...</th>\n",
       "      <th>운송량_여름 총합</th>\n",
       "      <th>운송량_2016.9</th>\n",
       "      <th>운송량_2016.10</th>\n",
       "      <th>운송량_2016.11</th>\n",
       "      <th>운송량_2017.9</th>\n",
       "      <th>운송량_2017.10</th>\n",
       "      <th>운송량_2017.11</th>\n",
       "      <th>운송량_2016가을</th>\n",
       "      <th>운송량_2017가을</th>\n",
       "      <th>운송량_가을 총합</th>\n",
       "    </tr>\n",
       "  </thead>\n",
       "  <tbody>\n",
       "    <tr>\n",
       "      <th>0</th>\n",
       "      <td>7J105</td>\n",
       "      <td>Tajik Air</td>\n",
       "      <td>DYU</td>\n",
       "      <td>TJK</td>\n",
       "      <td>IKA</td>\n",
       "      <td>IRI</td>\n",
       "      <td>O</td>\n",
       "      <td>O</td>\n",
       "      <td>O</td>\n",
       "      <td>완료</td>\n",
       "      <td>...</td>\n",
       "      <td>4258</td>\n",
       "      <td>842</td>\n",
       "      <td>985</td>\n",
       "      <td>596</td>\n",
       "      <td>746</td>\n",
       "      <td>597</td>\n",
       "      <td>448</td>\n",
       "      <td>2423</td>\n",
       "      <td>1791</td>\n",
       "      <td>4214</td>\n",
       "    </tr>\n",
       "    <tr>\n",
       "      <th>1</th>\n",
       "      <td>7J117</td>\n",
       "      <td>Tajik Air</td>\n",
       "      <td>DYU</td>\n",
       "      <td>TJK</td>\n",
       "      <td>DEL</td>\n",
       "      <td>IND</td>\n",
       "      <td>O</td>\n",
       "      <td>O</td>\n",
       "      <td>O</td>\n",
       "      <td>완료</td>\n",
       "      <td>...</td>\n",
       "      <td>3440</td>\n",
       "      <td>794</td>\n",
       "      <td>815</td>\n",
       "      <td>990</td>\n",
       "      <td>224</td>\n",
       "      <td>0</td>\n",
       "      <td>0</td>\n",
       "      <td>2599</td>\n",
       "      <td>224</td>\n",
       "      <td>2823</td>\n",
       "    </tr>\n",
       "    <tr>\n",
       "      <th>2</th>\n",
       "      <td>7J4801</td>\n",
       "      <td>Tajik Air</td>\n",
       "      <td>DYU</td>\n",
       "      <td>TJK</td>\n",
       "      <td>SVX</td>\n",
       "      <td>RUS</td>\n",
       "      <td>O</td>\n",
       "      <td>O</td>\n",
       "      <td>O</td>\n",
       "      <td>완료</td>\n",
       "      <td>...</td>\n",
       "      <td>3949</td>\n",
       "      <td>970</td>\n",
       "      <td>896</td>\n",
       "      <td>596</td>\n",
       "      <td>745</td>\n",
       "      <td>448</td>\n",
       "      <td>448</td>\n",
       "      <td>2462</td>\n",
       "      <td>1641</td>\n",
       "      <td>4103</td>\n",
       "    </tr>\n",
       "    <tr>\n",
       "      <th>3</th>\n",
       "      <td>7J4805</td>\n",
       "      <td>Tajik Air</td>\n",
       "      <td>DYU</td>\n",
       "      <td>TJK</td>\n",
       "      <td>SGC</td>\n",
       "      <td>RUS</td>\n",
       "      <td>O</td>\n",
       "      <td>O</td>\n",
       "      <td>O</td>\n",
       "      <td>완료</td>\n",
       "      <td>...</td>\n",
       "      <td>0</td>\n",
       "      <td>0</td>\n",
       "      <td>0</td>\n",
       "      <td>298</td>\n",
       "      <td>0</td>\n",
       "      <td>0</td>\n",
       "      <td>0</td>\n",
       "      <td>298</td>\n",
       "      <td>0</td>\n",
       "      <td>298</td>\n",
       "    </tr>\n",
       "    <tr>\n",
       "      <th>4</th>\n",
       "      <td>7J4849</td>\n",
       "      <td>Tajik Air</td>\n",
       "      <td>DYU</td>\n",
       "      <td>TJK</td>\n",
       "      <td>FRU</td>\n",
       "      <td>KGZ</td>\n",
       "      <td>O</td>\n",
       "      <td>O</td>\n",
       "      <td>O</td>\n",
       "      <td>완료</td>\n",
       "      <td>...</td>\n",
       "      <td>3604</td>\n",
       "      <td>767</td>\n",
       "      <td>788</td>\n",
       "      <td>596</td>\n",
       "      <td>298</td>\n",
       "      <td>0</td>\n",
       "      <td>0</td>\n",
       "      <td>2151</td>\n",
       "      <td>298</td>\n",
       "      <td>2449</td>\n",
       "    </tr>\n",
       "  </tbody>\n",
       "</table>\n",
       "<p>5 rows × 91 columns</p>\n",
       "</div>"
      ],
      "text/plain": [
       "      노선명        항공사  출발지  출발국  도착지  도착국 검수 2016.6 2018.5  상태  ... 운송량_여름 총합  \\\n",
       "0   7J105  Tajik Air  DYU  TJK  IKA  IRI  O      O      O  완료  ...      4258   \n",
       "1   7J117  Tajik Air  DYU  TJK  DEL  IND  O      O      O  완료  ...      3440   \n",
       "2  7J4801  Tajik Air  DYU  TJK  SVX  RUS  O      O      O  완료  ...      3949   \n",
       "3  7J4805  Tajik Air  DYU  TJK  SGC  RUS  O      O      O  완료  ...         0   \n",
       "4  7J4849  Tajik Air  DYU  TJK  FRU  KGZ  O      O      O  완료  ...      3604   \n",
       "\n",
       "   운송량_2016.9  운송량_2016.10  운송량_2016.11  운송량_2017.9  운송량_2017.10  운송량_2017.11  \\\n",
       "0         842          985          596         746          597          448   \n",
       "1         794          815          990         224            0            0   \n",
       "2         970          896          596         745          448          448   \n",
       "3           0            0          298           0            0            0   \n",
       "4         767          788          596         298            0            0   \n",
       "\n",
       "   운송량_2016가을  운송량_2017가을  운송량_가을 총합  \n",
       "0        2423        1791       4214  \n",
       "1        2599         224       2823  \n",
       "2        2462        1641       4103  \n",
       "3         298           0        298  \n",
       "4        2151         298       2449  \n",
       "\n",
       "[5 rows x 91 columns]"
      ]
     },
     "execution_count": 55,
     "metadata": {},
     "output_type": "execute_result"
    }
   ],
   "source": [
    "flight_route_info.head()"
   ]
  },
  {
   "cell_type": "code",
   "execution_count": 56,
   "id": "2d0b9925",
   "metadata": {},
   "outputs": [],
   "source": [
    "#결측치 데이터를 무시해도 될 경우, 임의의 다른 값으로 채운다.\n",
    "flight_route_info.fillna(\" \",inplace=True)"
   ]
  },
  {
   "cell_type": "code",
   "execution_count": 57,
   "id": "b69c57fe",
   "metadata": {},
   "outputs": [
    {
     "data": {
      "text/plain": [
       "0"
      ]
     },
     "execution_count": 57,
     "metadata": {},
     "output_type": "execute_result"
    }
   ],
   "source": [
    "flight_route_info.isnull().sum().sum()"
   ]
  },
  {
   "cell_type": "code",
   "execution_count": 58,
   "id": "25012f24",
   "metadata": {},
   "outputs": [
    {
     "data": {
      "text/html": [
       "<div>\n",
       "<style scoped>\n",
       "    .dataframe tbody tr th:only-of-type {\n",
       "        vertical-align: middle;\n",
       "    }\n",
       "\n",
       "    .dataframe tbody tr th {\n",
       "        vertical-align: top;\n",
       "    }\n",
       "\n",
       "    .dataframe thead th {\n",
       "        text-align: right;\n",
       "    }\n",
       "</style>\n",
       "<table border=\"1\" class=\"dataframe\">\n",
       "  <thead>\n",
       "    <tr style=\"text-align: right;\">\n",
       "      <th></th>\n",
       "      <th>비고</th>\n",
       "    </tr>\n",
       "  </thead>\n",
       "  <tbody>\n",
       "    <tr>\n",
       "      <th>0</th>\n",
       "      <td></td>\n",
       "    </tr>\n",
       "    <tr>\n",
       "      <th>1</th>\n",
       "      <td></td>\n",
       "    </tr>\n",
       "    <tr>\n",
       "      <th>2</th>\n",
       "      <td></td>\n",
       "    </tr>\n",
       "    <tr>\n",
       "      <th>3</th>\n",
       "      <td></td>\n",
       "    </tr>\n",
       "    <tr>\n",
       "      <th>4</th>\n",
       "      <td></td>\n",
       "    </tr>\n",
       "    <tr>\n",
       "      <th>...</th>\n",
       "      <td>...</td>\n",
       "    </tr>\n",
       "    <tr>\n",
       "      <th>672</th>\n",
       "      <td>2017.10.27 이후 페선</td>\n",
       "    </tr>\n",
       "    <tr>\n",
       "      <th>673</th>\n",
       "      <td></td>\n",
       "    </tr>\n",
       "    <tr>\n",
       "      <th>674</th>\n",
       "      <td>2017.12.16 하루 운항</td>\n",
       "    </tr>\n",
       "    <tr>\n",
       "      <th>675</th>\n",
       "      <td>2017.03.25 이후 폐선</td>\n",
       "    </tr>\n",
       "    <tr>\n",
       "      <th>676</th>\n",
       "      <td>2016.09.19~2017.02.27 한시운영</td>\n",
       "    </tr>\n",
       "  </tbody>\n",
       "</table>\n",
       "<p>677 rows × 1 columns</p>\n",
       "</div>"
      ],
      "text/plain": [
       "                             비고\n",
       "0                              \n",
       "1                              \n",
       "2                              \n",
       "3                              \n",
       "4                              \n",
       "..                          ...\n",
       "672            2017.10.27 이후 페선\n",
       "673                            \n",
       "674            2017.12.16 하루 운항\n",
       "675            2017.03.25 이후 폐선\n",
       "676  2016.09.19~2017.02.27 한시운영\n",
       "\n",
       "[677 rows x 1 columns]"
      ]
     },
     "execution_count": 58,
     "metadata": {},
     "output_type": "execute_result"
    }
   ],
   "source": [
    "flight_route_info[['비고']]"
   ]
  },
  {
   "cell_type": "code",
   "execution_count": 59,
   "id": "6477fe25",
   "metadata": {},
   "outputs": [
    {
     "data": {
      "text/plain": [
       "                        412\n",
       "2016.11.05. 이후 폐선         4\n",
       "2018.04.24. 이후 기록 없음      3\n",
       "2016.10 한 달 운항            2\n",
       "2017.03.24. 이후 폐선         2\n",
       "Name: 비고, dtype: int64"
      ]
     },
     "execution_count": 59,
     "metadata": {},
     "output_type": "execute_result"
    }
   ],
   "source": [
    "# nan412 -> 공백이 412건 변경\n",
    "flight_route_info['비고'].value_counts(dropna=False).head()"
   ]
  },
  {
   "cell_type": "code",
   "execution_count": null,
   "id": "4494d283",
   "metadata": {},
   "outputs": [],
   "source": []
  },
  {
   "cell_type": "code",
   "execution_count": 60,
   "id": "26e81433",
   "metadata": {},
   "outputs": [],
   "source": [
    "flight_route_info_2 = pd.read_csv('data/flight_route_info.csv',encoding='cp949')"
   ]
  },
  {
   "cell_type": "code",
   "execution_count": 61,
   "id": "b0cd2167",
   "metadata": {},
   "outputs": [
    {
     "data": {
      "text/plain": [
       "NaN                     412\n",
       "2016.11.05. 이후 폐선         4\n",
       "2018.04.24. 이후 기록 없음      3\n",
       "2016.10 한 달 운항            2\n",
       "2017.03.24. 이후 폐선         2\n",
       "Name: 비고, dtype: int64"
      ]
     },
     "execution_count": 61,
     "metadata": {},
     "output_type": "execute_result"
    }
   ],
   "source": [
    "# 결측치가 412건\n",
    "flight_route_info_2['비고'].value_counts(dropna=False).head()"
   ]
  },
  {
   "cell_type": "code",
   "execution_count": 62,
   "id": "852aaf84",
   "metadata": {},
   "outputs": [],
   "source": [
    "# 결측치를 ''로 처리\n",
    "# NaN, ' ', ''의 차이는? (아래 아래 예 참고)\n",
    "flight_route_info_3 = flight_route_info_2.select_dtypes(['object']).fillna('')"
   ]
  },
  {
   "cell_type": "code",
   "execution_count": 63,
   "id": "2c3eacb9",
   "metadata": {},
   "outputs": [
    {
     "data": {
      "text/plain": [
       "                        412\n",
       "2016.11.05. 이후 폐선         4\n",
       "2018.04.24. 이후 기록 없음      3\n",
       "2016.10 한 달 운항            2\n",
       "2017.03.24. 이후 폐선         2\n",
       "Name: 비고, dtype: int64"
      ]
     },
     "execution_count": 63,
     "metadata": {},
     "output_type": "execute_result"
    }
   ],
   "source": [
    "flight_route_info_3['비고'].value_counts(dropna=False).head()"
   ]
  },
  {
   "cell_type": "code",
   "execution_count": 64,
   "id": "4ee5dfbb",
   "metadata": {},
   "outputs": [
    {
     "data": {
      "text/plain": [
       "('magic key 1', None, nan, ' ', '')"
      ]
     },
     "execution_count": 64,
     "metadata": {},
     "output_type": "execute_result"
    }
   ],
   "source": [
    "import numpy as np\n",
    "data1 = 'magic key 1'\n",
    "data2 = None   #미정의(앞으로할당 하겠다는 의미)\n",
    "data3 = np.nan  #미정의(앞으로할당 하겠다는 의미)\n",
    "data4 = ' '     # ' ' 주소를 가지고 있음\n",
    "data5 = ''      #''주소를 가지고 있음\n",
    "data1, data2, data3, data4, data5"
   ]
  },
  {
   "cell_type": "code",
   "execution_count": null,
   "id": "ad788c0d",
   "metadata": {},
   "outputs": [],
   "source": []
  }
 ],
 "metadata": {
  "kernelspec": {
   "display_name": "Python 3 (ipykernel)",
   "language": "python",
   "name": "python3"
  },
  "language_info": {
   "codemirror_mode": {
    "name": "ipython",
    "version": 3
   },
   "file_extension": ".py",
   "mimetype": "text/x-python",
   "name": "python",
   "nbconvert_exporter": "python",
   "pygments_lexer": "ipython3",
   "version": "3.9.13"
  }
 },
 "nbformat": 4,
 "nbformat_minor": 5
}
