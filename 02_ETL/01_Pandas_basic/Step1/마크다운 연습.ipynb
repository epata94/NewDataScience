{
 "cells": [
  {
   "cell_type": "markdown",
   "id": "65b71a86",
   "metadata": {},
   "source": [
    "# 제목 크기 별 표시"
   ]
  },
  {
   "cell_type": "markdown",
   "id": "b493df1d",
   "metadata": {},
   "source": [
    "## (최대 6단계 까지 표시)"
   ]
  },
  {
   "cell_type": "code",
   "execution_count": 1,
   "id": "f6eac4e0",
   "metadata": {},
   "outputs": [],
   "source": [
    "# 첫 번째 큰 제목\n",
    "## 두 번째 큰 제목\n",
    "### 세 번째 큰 제목\n",
    "#### 네 번째 큰 제목\n",
    "##### 다섯 번째 큰 제목\n",
    "###### 여섯 번째 큰 제목"
   ]
  },
  {
   "cell_type": "markdown",
   "id": "7370d400",
   "metadata": {},
   "source": [
    "# 첫 번째 큰 제목\n",
    "## 두 번째 큰 제목\n",
    "### 세 번째 큰 제목\n",
    "#### 네 번째 큰 제목\n",
    "##### 다섯 번째 큰 제목\n",
    "###### 여섯 번째 큰 제목"
   ]
  },
  {
   "cell_type": "markdown",
   "id": "0a062d7f",
   "metadata": {},
   "source": [
    "# 단축키 1~6으로 크기 조정"
   ]
  },
  {
   "cell_type": "markdown",
   "id": "893fbec4",
   "metadata": {},
   "source": [
    "# 이 문장의 크기를 단축키로 바꿔보세요"
   ]
  },
  {
   "cell_type": "markdown",
   "id": "34c3a84f",
   "metadata": {},
   "source": [
    "# 파이썬 Code 입력"
   ]
  },
  {
   "cell_type": "raw",
   "id": "c0ca2f98",
   "metadata": {},
   "source": [
    "~~~python\n",
    "파이썬코드입력\n",
    "~~~"
   ]
  },
  {
   "cell_type": "markdown",
   "id": "46a04188",
   "metadata": {},
   "source": [
    "~~~python\n",
    "num1 = 10\n",
    "num2 = 20\n",
    "result = num1+num2\n",
    "result\n",
    "~~~"
   ]
  },
  {
   "cell_type": "markdown",
   "id": "dd7e3e77",
   "metadata": {},
   "source": [
    "# 수평선"
   ]
  },
  {
   "cell_type": "markdown",
   "id": "7320249f",
   "metadata": {},
   "source": [
    "***"
   ]
  },
  {
   "cell_type": "markdown",
   "id": "5a49518d",
   "metadata": {},
   "source": [
    "---"
   ]
  },
  {
   "cell_type": "markdown",
   "id": "03ee7f25",
   "metadata": {},
   "source": [
    "# 목록"
   ]
  },
  {
   "cell_type": "raw",
   "id": "37d6fc21",
   "metadata": {},
   "source": [
    "+ 첫번째\n",
    "+ 두번째\n",
    "+ 세번째"
   ]
  },
  {
   "cell_type": "markdown",
   "id": "13e4816f",
   "metadata": {},
   "source": [
    "+ 첫번째\n",
    "+ 두번째\n",
    "+ 세번째"
   ]
  },
  {
   "cell_type": "raw",
   "id": "5af196b1",
   "metadata": {},
   "source": [
    "- 첫번째\n",
    "- 두번째\n",
    "- 세번째"
   ]
  },
  {
   "cell_type": "markdown",
   "id": "a045dee0",
   "metadata": {},
   "source": [
    "- 첫번째\n",
    "- 두번째\n",
    "- 세번째"
   ]
  },
  {
   "cell_type": "raw",
   "id": "827eb7bb",
   "metadata": {},
   "source": [
    "* 첫번째\n",
    "* 두번째\n",
    "* 세번째"
   ]
  },
  {
   "cell_type": "markdown",
   "id": "ccc07688",
   "metadata": {},
   "source": [
    "* 첫번째\n",
    "* 두번째\n",
    "* 세번째"
   ]
  },
  {
   "cell_type": "markdown",
   "id": "e7bb6f06",
   "metadata": {},
   "source": [
    "# 블릿 계층화"
   ]
  },
  {
   "cell_type": "raw",
   "id": "fd4c089b",
   "metadata": {},
   "source": [
    "+ 첫번째 계층 목록\n",
    "    + 두번째 계층 목록\n",
    "        + 세번째 계층 목록"
   ]
  },
  {
   "cell_type": "markdown",
   "id": "065f0702",
   "metadata": {},
   "source": [
    "+ 첫번째 계층 목록\n",
    "    + 두번째 계층 목록\n",
    "        + 세번째 계층 목록"
   ]
  },
  {
   "cell_type": "raw",
   "id": "6f2e9447",
   "metadata": {},
   "source": [
    "- 첫번째 계층 목록\n",
    "    - 두번째 계층 목록\n",
    "        - 세번째 계층 목록"
   ]
  },
  {
   "cell_type": "markdown",
   "id": "da00c928",
   "metadata": {},
   "source": [
    "- 첫번째 계층 목록\n",
    "    - 두번째 계층 목록\n",
    "        - 세번째 계층 목록"
   ]
  },
  {
   "cell_type": "raw",
   "id": "53cec357",
   "metadata": {},
   "source": [
    "* 첫번째 계층 목록\n",
    "    * 두번째 계층 목록\n",
    "        * 세번째 계층 목록"
   ]
  },
  {
   "cell_type": "markdown",
   "id": "96f5dcc1",
   "metadata": {},
   "source": [
    "* 첫번째 계층 목록\n",
    "    * 두번째 계층 목록\n",
    "        * 세번째 계층 목록"
   ]
  },
  {
   "cell_type": "markdown",
   "id": "f1fb1392",
   "metadata": {},
   "source": [
    "# 글씨 효과"
   ]
  },
  {
   "cell_type": "raw",
   "id": "6926834c",
   "metadata": {},
   "source": [
    "*기울어진 글씨*"
   ]
  },
  {
   "cell_type": "raw",
   "id": "1381413b",
   "metadata": {},
   "source": [
    "기울어진 글씨"
   ]
  },
  {
   "cell_type": "markdown",
   "id": "27abc8d6",
   "metadata": {},
   "source": [
    "*기울어진 글씨*"
   ]
  },
  {
   "cell_type": "raw",
   "id": "0bc0c4f6",
   "metadata": {},
   "source": [
    "_기울어진 글씨_"
   ]
  },
  {
   "cell_type": "markdown",
   "id": "6181b784",
   "metadata": {},
   "source": [
    "_기울어진 글씨_"
   ]
  },
  {
   "cell_type": "raw",
   "id": "d9bcef9d",
   "metadata": {},
   "source": [
    "**굵은 글씨**"
   ]
  },
  {
   "cell_type": "markdown",
   "id": "4cf243e6",
   "metadata": {},
   "source": [
    "**굵은 글씨**"
   ]
  },
  {
   "cell_type": "raw",
   "id": "6efb265c",
   "metadata": {},
   "source": [
    "__굵은 글씨__"
   ]
  },
  {
   "cell_type": "markdown",
   "id": "ad383afc",
   "metadata": {},
   "source": [
    "__굵은 글씨__"
   ]
  },
  {
   "cell_type": "raw",
   "id": "551061ef",
   "metadata": {},
   "source": [
    "~~줄그어진 글씨~~"
   ]
  },
  {
   "cell_type": "markdown",
   "id": "e2b36eb1",
   "metadata": {},
   "source": [
    "~~줄그어진 글씨~~"
   ]
  },
  {
   "cell_type": "markdown",
   "id": "1421335f",
   "metadata": {},
   "source": [
    "# 하이퍼링크"
   ]
  },
  {
   "cell_type": "raw",
   "id": "351609b0",
   "metadata": {},
   "source": [
    "[홈페이지이름](URL)\n",
    "예)\n",
    "[네이버](http://www.naver.com)"
   ]
  },
  {
   "cell_type": "markdown",
   "id": "12719327",
   "metadata": {},
   "source": [
    "[네이버](http://www.naver.com)"
   ]
  },
  {
   "cell_type": "markdown",
   "id": "8c35e564",
   "metadata": {},
   "source": [
    "# 줄바꿈"
   ]
  },
  {
   "cell_type": "markdown",
   "id": "c9476500",
   "metadata": {},
   "source": [
    "나는 자랑스러운 태극기 앞에\n",
    "조국과 민족의 무궁한 영광을 위해"
   ]
  },
  {
   "cell_type": "raw",
   "id": "8ce76a3d",
   "metadata": {},
   "source": [
    "나는 자랑스러운 태극기 앞에[공백(Space)문자 2개 입력]\n",
    "조국과 민족의 무궁한 영광을 위해"
   ]
  },
  {
   "cell_type": "markdown",
   "id": "86fcbd43",
   "metadata": {},
   "source": [
    "나는 자랑스러운 태극기 앞에  \n",
    "조국과 민족의 무궁한 영광을 위해"
   ]
  },
  {
   "cell_type": "markdown",
   "id": "9ac4f98f",
   "metadata": {},
   "source": [
    "# 테이블"
   ]
  },
  {
   "cell_type": "raw",
   "id": "37bfb70d",
   "metadata": {},
   "source": [
    "|  이름  | 국어성적 | 영어성적 | 수학성적 |\n",
    "|--------|----------|----------|----------|\n",
    "| 홍길동 |    90    |    79    |    80    |\n",
    "| 이순신 |    90    |    79    |    90    |\n",
    "| 임꺽정 |    80    |    79    |    80    |"
   ]
  },
  {
   "cell_type": "markdown",
   "id": "1a57151e",
   "metadata": {},
   "source": [
    "|  이름  | 국어성적 | 영어성적 | 수학성적 |\n",
    "|--------|----------|----------|----------|\n",
    "| 홍길동 |    90    |    79    |    80    |\n",
    "| 이순신 |    90    |    79    |    90    |\n",
    "| 임꺽정 |    80    |    79    |    80    |"
   ]
  },
  {
   "cell_type": "markdown",
   "id": "ce70c3c6",
   "metadata": {},
   "source": [
    "# 수식(수학공식) 입력"
   ]
  },
  {
   "cell_type": "markdown",
   "id": "5e774b9a",
   "metadata": {},
   "source": [
    "[LaTex 문법](https://ko.wikipedia.org/wiki/%EC%9C%84%ED%82%A4%EB%B0%B1%EA%B3%BC:TeX_%EB%AC%B8%EB%B2%95) 을 따름"
   ]
  },
  {
   "cell_type": "raw",
   "id": "28822aa8",
   "metadata": {},
   "source": [
    "사용예)\n",
    "$$\\sqrt{x^3+y^3 \\over 2}$$"
   ]
  },
  {
   "cell_type": "markdown",
   "id": "92f7eb22",
   "metadata": {},
   "source": [
    "$$\\sqrt{x^3+y^3 \\over 2}$$"
   ]
  },
  {
   "cell_type": "markdown",
   "id": "49f57618",
   "metadata": {},
   "source": [
    "# HTML 코드"
   ]
  },
  {
   "cell_type": "markdown",
   "id": "9522e674",
   "metadata": {},
   "source": [
    "## 글자색상"
   ]
  },
  {
   "cell_type": "raw",
   "id": "48db67a2",
   "metadata": {},
   "source": [
    "<span style=\"color:red\"> 빨간색 글씨 </span>\n",
    "<span style=\"color:blue\"> 파란색 글씨 </span>\n",
    "<span style=\"color:#F8766D\"> 색상코드색의 글씨 </span>"
   ]
  },
  {
   "cell_type": "markdown",
   "id": "97ea08d9",
   "metadata": {},
   "source": [
    "<span style=\"color:red\"> 빨간색 글씨 </span>  \n",
    "<span style=\"color:blue\"> 파란색 글씨 </span>  \n",
    "<span style=\"color:#F8766D\"> 색상코드색의 글씨 </span>"
   ]
  },
  {
   "cell_type": "markdown",
   "id": "7e2ed00a",
   "metadata": {},
   "source": [
    "## Table"
   ]
  },
  {
   "cell_type": "raw",
   "id": "daa00c41",
   "metadata": {},
   "source": [
    "<table border=\"\">\n",
    "    <th> 이름</th> <th>나이</th>\n",
    "        <tr>\n",
    "            <td>홍길동</td>\n",
    "            <td>28</td>\n",
    "        </tr>\n",
    "        <tr>\n",
    "            <td>이순신</td>\n",
    "            <td>57</td>\n",
    "        </tr>\n",
    "</table>"
   ]
  },
  {
   "cell_type": "markdown",
   "id": "d10085cb",
   "metadata": {},
   "source": [
    "<table border=\"\">\n",
    "    <th> 이름</th> <th>나이</th>\n",
    "        <tr>\n",
    "            <td>홍길동</td>\n",
    "            <td>28</td>\n",
    "        </tr>\n",
    "        <tr>\n",
    "            <td>이순신</td>\n",
    "            <td>57</td>\n",
    "        </tr>\n",
    "</table>"
   ]
  },
  {
   "cell_type": "code",
   "execution_count": null,
   "id": "586d6f34",
   "metadata": {},
   "outputs": [],
   "source": []
  }
 ],
 "metadata": {
  "kernelspec": {
   "display_name": "Python 3 (ipykernel)",
   "language": "python",
   "name": "python3"
  },
  "language_info": {
   "codemirror_mode": {
    "name": "ipython",
    "version": 3
   },
   "file_extension": ".py",
   "mimetype": "text/x-python",
   "name": "python",
   "nbconvert_exporter": "python",
   "pygments_lexer": "ipython3",
   "version": "3.9.13"
  }
 },
 "nbformat": 4,
 "nbformat_minor": 5
}
