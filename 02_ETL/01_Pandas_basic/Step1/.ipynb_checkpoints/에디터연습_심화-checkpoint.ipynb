{
 "cells": [
  {
   "cell_type": "markdown",
   "id": "9e783f41",
   "metadata": {},
   "source": [
    "# 키보드 단축키\n",
    "\n",
    "단축키는 아래 모드에서 각각 다르게 동작한다.\n",
    "* 편집모드\n",
    "* 명령모드"
   ]
  },
  {
   "cell_type": "markdown",
   "id": "2101eac6",
   "metadata": {},
   "source": [
    "# 두 모드 모두에서 모두 사용할 수 있는 단축키\n",
    "* Ctrl + Enter: 셀 실행  \n",
    "* Shift + Enter: 아래의 셀을 선택하고 셀 실행  \n",
    "* Alt + Enter: 셀 실행하고 아래에 새 셀 추가  \n",
    "* Ctrl + S: 저장"
   ]
  },
  {
   "cell_type": "code",
   "execution_count": 17,
   "id": "ddea8144",
   "metadata": {},
   "outputs": [],
   "source": [
    "number1 = 10\n",
    "number2 = 20\n",
    "result = number1 + number2"
   ]
  },
  {
   "cell_type": "code",
   "execution_count": 18,
   "id": "ed0f6fe6",
   "metadata": {},
   "outputs": [
    {
     "data": {
      "text/plain": [
       "30"
      ]
     },
     "execution_count": 18,
     "metadata": {},
     "output_type": "execute_result"
    }
   ],
   "source": [
    "result"
   ]
  },
  {
   "cell_type": "markdown",
   "id": "6bb8d6d5",
   "metadata": {},
   "source": [
    "# 편집 모드에서만 사용할 수 있는 키보드 단축키"
   ]
  },
  {
   "cell_type": "markdown",
   "id": "1badb06d",
   "metadata": {},
   "source": [
    "* Esc: 명령모드로 전환  \n",
    "* Ctrl + Shift + - : 셀 분할  \n",
    "* Ctrl + z: Undo \n",
    "* Ctrl + / : 주석(Comment) 추가\n",
    "  (멀티라인 주석처리는 블럭을 지정하여 Ctrl + / 입력을 한다.)"
   ]
  },
  {
   "cell_type": "code",
   "execution_count": 19,
   "id": "3c4c7077",
   "metadata": {},
   "outputs": [
    {
     "data": {
      "text/plain": [
       "30"
      ]
     },
     "execution_count": 19,
     "metadata": {},
     "output_type": "execute_result"
    }
   ],
   "source": [
    "result"
   ]
  },
  {
   "cell_type": "markdown",
   "id": "c4f126b6",
   "metadata": {},
   "source": [
    "# 명령 모드에서만 사용할 수 있는 키보드 단축키\n",
    "* Enter: 편집 모드로 전환\n",
    "* k: 이전 셀 선택\n",
    "* j: 다음 셀 선택\n",
    "* y/m/r:  코드 셀/ 마크다운 셀/ Raw 셀로 타입 전환\n",
    "* a/b: 현재 셀의 위/아래에 새 셀 추가\n",
    "* dd: 현재 셀 삭제\n",
    "* x/c/v: 현재 셀에 대한 cut/copy/paste\n",
    "* Shift + m : 아래셀과 병합\n",
    "* z: 삭제한 셀에 대한 복원\n",
    "* f: find and replace\n",
    "* l: 셀의 라인을 Toggle\n",
    "* Shift + l: 전체 셀 라인을 Toggle\n",
    "* o: 셀의 아웃풋을 Toggle\n",
    "* Space; 화면 단위 스크롤 다운\n",
    "* Shift + Space\" 화면 단위 스크롤 업\n",
    "* h: 키보드 단축키 전체 목록 조회"
   ]
  },
  {
   "cell_type": "code",
   "execution_count": 22,
   "id": "2d96c6c6",
   "metadata": {},
   "outputs": [],
   "source": [
    "number1 = 10\n",
    "number2 = 20\n",
    "result = number1 + number2"
   ]
  },
  {
   "cell_type": "code",
   "execution_count": 23,
   "id": "e00f66fe",
   "metadata": {},
   "outputs": [
    {
     "data": {
      "text/plain": [
       "30"
      ]
     },
     "execution_count": 23,
     "metadata": {},
     "output_type": "execute_result"
    }
   ],
   "source": [
    "result"
   ]
  }
 ],
 "metadata": {
  "kernelspec": {
   "display_name": "Python 3 (ipykernel)",
   "language": "python",
   "name": "python3"
  },
  "language_info": {
   "codemirror_mode": {
    "name": "ipython",
    "version": 3
   },
   "file_extension": ".py",
   "mimetype": "text/x-python",
   "name": "python",
   "nbconvert_exporter": "python",
   "pygments_lexer": "ipython3",
   "version": "3.9.13"
  }
 },
 "nbformat": 4,
 "nbformat_minor": 5
}
