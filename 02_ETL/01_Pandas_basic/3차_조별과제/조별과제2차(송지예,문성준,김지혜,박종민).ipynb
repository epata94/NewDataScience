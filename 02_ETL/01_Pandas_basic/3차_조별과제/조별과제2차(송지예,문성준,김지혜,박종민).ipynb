{
 "cells": [
  {
   "cell_type": "markdown",
   "id": "f6698b89",
   "metadata": {},
   "source": [
    "# 제 3차 조별 데이터 분석 실습\n",
    "\n",
    "* Mission\n",
    "    * 지금까지 배운 기술을 활용하여 데이터 분석을 해본다.\n",
    "    * 데이터 원본 분석을 한다.\n",
    "    * 결측치, 이상치를 점검해 본다.\n",
    "    * 전처리\n",
    "    * 탐색적 연구 (Step1, Step2를 반복하여 데이터 분석의 깊이를 더한다.)\n",
    "         * Step1] 데이터 분석을 위한 목적, 대상 또는 가설을 세워본다. \n",
    "         * Step2] 데이터 재 구조화, 시각화를 통해 새로운 insight 및 정보를 습득 및 가설을 검증한다.\n",
    "    * 최종 결론을 내린다."
   ]
  },
  {
   "cell_type": "markdown",
   "id": "f5edd40d",
   "metadata": {},
   "source": [
    "## 아래에 데이터를 import 하세요."
   ]
  },
  {
   "cell_type": "code",
   "execution_count": 3,
   "id": "a8d16f56",
   "metadata": {},
   "outputs": [],
   "source": [
    "# 데이터 import 코드 구현\n",
    "import pandas as pd\n",
    "import numpy as np\n",
    "import matplotlib.pyplot as plt\n",
    "file_path = 'data/chipotle.tsv'\n",
    "chipo = pd.read_csv(file_path, sep = '\\t')"
   ]
  },
  {
   "cell_type": "markdown",
   "id": "1b501fde",
   "metadata": {},
   "source": [
    "## 데이터 원본 분석\n",
    "\n",
    "### 아래 내용을 확인하세요\n",
    "* 데이터 사이즈\n",
    "* 데이터 타입\n",
    "* 각 열의 의미 (열의 이름 및 데이터를 보고 팀원과 상의하여 분석)\n",
    "* 기타 확인하고 싶은 사항"
   ]
  },
  {
   "cell_type": "code",
   "execution_count": 4,
   "id": "f6cf6b03",
   "metadata": {},
   "outputs": [
    {
     "data": {
      "text/plain": [
       "(23110,\n",
       " order_id               int64\n",
       " quantity               int64\n",
       " item_name             object\n",
       " choice_description    object\n",
       " item_price            object\n",
       " dtype: object)"
      ]
     },
     "execution_count": 4,
     "metadata": {},
     "output_type": "execute_result"
    }
   ],
   "source": [
    "# 코드 구현\n",
    "chipo.size, chipo.dtypes"
   ]
  },
  {
   "cell_type": "markdown",
   "id": "d426d58d",
   "metadata": {},
   "source": [
    "**각 열의 의미**\n",
    "* order_id : 주문자\n",
    "* quantity : 갯수\n",
    "* item_name  : 메뉴\n",
    "* choice_description : 주문사항\n",
    "* item_price : 가격"
   ]
  },
  {
   "cell_type": "markdown",
   "id": "a4650ada",
   "metadata": {},
   "source": [
    "### 원본 데이터 분석 후 학습한 사항"
   ]
  },
  {
   "cell_type": "markdown",
   "id": "0d69dddf",
   "metadata": {},
   "source": [
    "* 가격이 문자형 데이터이므로 전처리 필요"
   ]
  },
  {
   "cell_type": "markdown",
   "id": "1646788a",
   "metadata": {},
   "source": [
    "## 결측치, 이상치 점검\n",
    "* 누락된 값이 있는지 확인\n",
    "* 누락된 값을 다른 방식으로 표현하고 있는지도 확인. 예) -, NA, N/A 등\n",
    "* 이상치 점검. \n",
    "예) 수치형 데이터중 특이한 min, max값, 수치형 데이터에서 정규분포를 이루는 데이터중 Outlier, 선형데이터상에 중간에 빈 데이터"
   ]
  },
  {
   "cell_type": "code",
   "execution_count": 5,
   "id": "cc1ea317",
   "metadata": {},
   "outputs": [
    {
     "data": {
      "text/plain": [
       "order_id                 0\n",
       "quantity                 0\n",
       "item_name                0\n",
       "choice_description    1246\n",
       "item_price               0\n",
       "dtype: int64"
      ]
     },
     "execution_count": 5,
     "metadata": {},
     "output_type": "execute_result"
    }
   ],
   "source": [
    "# 코드 구현\n",
    "chipo.isnull().sum()"
   ]
  },
  {
   "cell_type": "markdown",
   "id": "93e23d59",
   "metadata": {},
   "source": [
    "## 결측치, 이상치 처리 방안 결정\n",
    " * 처리방안\n",
    " * 처리방안 이유"
   ]
  },
  {
   "cell_type": "raw",
   "id": "8a498e62",
   "metadata": {},
   "source": [
    "결측치 처리 관련  \n",
    "    * 방안 : 결측치를 문자데이터로 유지  \n",
    "    * 이유 : choice_description의 결측치는 추가 주문사항이 없을 때에 일어나는 데이터이기 때문에\n",
    "            주문사항이 없다고 표기할것  \n",
    "이상치 처리 관련\n",
    "    * 방안 : 이상치 처리하지 않는다\n",
    "    * 이유 : 이상치 존재하지 않음"
   ]
  },
  {
   "cell_type": "markdown",
   "id": "be5003ee",
   "metadata": {},
   "source": [
    "## 전처리 작업"
   ]
  },
  {
   "cell_type": "code",
   "execution_count": 6,
   "id": "544c3328",
   "metadata": {},
   "outputs": [
    {
     "data": {
      "text/plain": [
       "array(['Chips and Fresh Tomato Salsa', 'Izze', 'Nantucket Nectar',\n",
       "       'Chips and Tomatillo-Green Chili Salsa', 'Chicken Bowl',\n",
       "       'Side of Chips', 'Steak Burrito', 'Steak Soft Tacos',\n",
       "       'Chips and Guacamole', 'Chicken Crispy Tacos',\n",
       "       'Chicken Soft Tacos', 'Chicken Burrito', 'Canned Soda',\n",
       "       'Barbacoa Burrito', 'Carnitas Burrito', 'Carnitas Bowl',\n",
       "       'Bottled Water', 'Chips and Tomatillo Green Chili Salsa',\n",
       "       'Barbacoa Bowl', 'Chips', 'Chicken Salad Bowl', 'Steak Bowl',\n",
       "       'Barbacoa Soft Tacos', 'Veggie Burrito', 'Veggie Bowl',\n",
       "       'Steak Crispy Tacos', 'Chips and Tomatillo Red Chili Salsa',\n",
       "       'Barbacoa Crispy Tacos', 'Veggie Salad Bowl',\n",
       "       'Chips and Roasted Chili-Corn Salsa',\n",
       "       'Chips and Roasted Chili Corn Salsa', 'Carnitas Soft Tacos',\n",
       "       'Chicken Salad', 'Canned Soft Drink', 'Steak Salad Bowl',\n",
       "       '6 Pack Soft Drink', 'Chips and Tomatillo-Red Chili Salsa', 'Bowl',\n",
       "       'Burrito', 'Crispy Tacos', 'Carnitas Crispy Tacos', 'Steak Salad',\n",
       "       'Chips and Mild Fresh Tomato Salsa', 'Veggie Soft Tacos',\n",
       "       'Carnitas Salad Bowl', 'Barbacoa Salad Bowl', 'Salad',\n",
       "       'Veggie Crispy Tacos', 'Veggie Salad', 'Carnitas Salad'],\n",
       "      dtype=object)"
      ]
     },
     "execution_count": 6,
     "metadata": {},
     "output_type": "execute_result"
    }
   ],
   "source": [
    "chipo['item_name']= chipo['item_name'].replace('-',' ')\n",
    "chipo['item_name'].unique()"
   ]
  },
  {
   "cell_type": "code",
   "execution_count": 7,
   "id": "b9c78d44",
   "metadata": {},
   "outputs": [],
   "source": [
    "chipo['order_id'] = chipo['order_id'].astype(str)\n",
    "chipo['item_price'] = chipo['item_price'].str.strip('$').astype(float)"
   ]
  },
  {
   "cell_type": "code",
   "execution_count": 8,
   "id": "d34c90be",
   "metadata": {},
   "outputs": [
    {
     "data": {
      "text/html": [
       "<div>\n",
       "<style scoped>\n",
       "    .dataframe tbody tr th:only-of-type {\n",
       "        vertical-align: middle;\n",
       "    }\n",
       "\n",
       "    .dataframe tbody tr th {\n",
       "        vertical-align: top;\n",
       "    }\n",
       "\n",
       "    .dataframe thead th {\n",
       "        text-align: right;\n",
       "    }\n",
       "</style>\n",
       "<table border=\"1\" class=\"dataframe\">\n",
       "  <thead>\n",
       "    <tr style=\"text-align: right;\">\n",
       "      <th></th>\n",
       "      <th>order_id</th>\n",
       "      <th>quantity</th>\n",
       "      <th>item_name</th>\n",
       "      <th>choice_description</th>\n",
       "      <th>item_price</th>\n",
       "    </tr>\n",
       "  </thead>\n",
       "  <tbody>\n",
       "    <tr>\n",
       "      <th>1140</th>\n",
       "      <td>471</td>\n",
       "      <td>1</td>\n",
       "      <td>Bottled Water</td>\n",
       "      <td>NaN</td>\n",
       "      <td>1.09</td>\n",
       "    </tr>\n",
       "    <tr>\n",
       "      <th>821</th>\n",
       "      <td>338</td>\n",
       "      <td>1</td>\n",
       "      <td>Canned Soda</td>\n",
       "      <td>[Coca Cola]</td>\n",
       "      <td>1.09</td>\n",
       "    </tr>\n",
       "    <tr>\n",
       "      <th>3926</th>\n",
       "      <td>1575</td>\n",
       "      <td>1</td>\n",
       "      <td>Canned Soda</td>\n",
       "      <td>[Dr. Pepper]</td>\n",
       "      <td>1.09</td>\n",
       "    </tr>\n",
       "    <tr>\n",
       "      <th>107</th>\n",
       "      <td>47</td>\n",
       "      <td>1</td>\n",
       "      <td>Canned Soda</td>\n",
       "      <td>[Dr. Pepper]</td>\n",
       "      <td>1.09</td>\n",
       "    </tr>\n",
       "    <tr>\n",
       "      <th>2562</th>\n",
       "      <td>1014</td>\n",
       "      <td>1</td>\n",
       "      <td>Canned Soda</td>\n",
       "      <td>[Coca Cola]</td>\n",
       "      <td>1.09</td>\n",
       "    </tr>\n",
       "    <tr>\n",
       "      <th>...</th>\n",
       "      <td>...</td>\n",
       "      <td>...</td>\n",
       "      <td>...</td>\n",
       "      <td>...</td>\n",
       "      <td>...</td>\n",
       "    </tr>\n",
       "    <tr>\n",
       "      <th>3601</th>\n",
       "      <td>1443</td>\n",
       "      <td>3</td>\n",
       "      <td>Veggie Burrito</td>\n",
       "      <td>[Fresh Tomato Salsa, [Fajita Vegetables, Rice,...</td>\n",
       "      <td>33.75</td>\n",
       "    </tr>\n",
       "    <tr>\n",
       "      <th>3602</th>\n",
       "      <td>1443</td>\n",
       "      <td>4</td>\n",
       "      <td>Chicken Burrito</td>\n",
       "      <td>[Fresh Tomato Salsa, [Rice, Black Beans, Chees...</td>\n",
       "      <td>35.00</td>\n",
       "    </tr>\n",
       "    <tr>\n",
       "      <th>1254</th>\n",
       "      <td>511</td>\n",
       "      <td>4</td>\n",
       "      <td>Chicken Burrito</td>\n",
       "      <td>[Fresh Tomato Salsa, [Fajita Vegetables, Rice,...</td>\n",
       "      <td>35.00</td>\n",
       "    </tr>\n",
       "    <tr>\n",
       "      <th>3480</th>\n",
       "      <td>1398</td>\n",
       "      <td>3</td>\n",
       "      <td>Carnitas Bowl</td>\n",
       "      <td>[Roasted Chili Corn Salsa, [Fajita Vegetables,...</td>\n",
       "      <td>35.25</td>\n",
       "    </tr>\n",
       "    <tr>\n",
       "      <th>3598</th>\n",
       "      <td>1443</td>\n",
       "      <td>15</td>\n",
       "      <td>Chips and Fresh Tomato Salsa</td>\n",
       "      <td>NaN</td>\n",
       "      <td>44.25</td>\n",
       "    </tr>\n",
       "  </tbody>\n",
       "</table>\n",
       "<p>4622 rows × 5 columns</p>\n",
       "</div>"
      ],
      "text/plain": [
       "     order_id  quantity                     item_name  \\\n",
       "1140      471         1                 Bottled Water   \n",
       "821       338         1                   Canned Soda   \n",
       "3926     1575         1                   Canned Soda   \n",
       "107        47         1                   Canned Soda   \n",
       "2562     1014         1                   Canned Soda   \n",
       "...       ...       ...                           ...   \n",
       "3601     1443         3                Veggie Burrito   \n",
       "3602     1443         4               Chicken Burrito   \n",
       "1254      511         4               Chicken Burrito   \n",
       "3480     1398         3                 Carnitas Bowl   \n",
       "3598     1443        15  Chips and Fresh Tomato Salsa   \n",
       "\n",
       "                                     choice_description  item_price  \n",
       "1140                                                NaN        1.09  \n",
       "821                                         [Coca Cola]        1.09  \n",
       "3926                                       [Dr. Pepper]        1.09  \n",
       "107                                        [Dr. Pepper]        1.09  \n",
       "2562                                        [Coca Cola]        1.09  \n",
       "...                                                 ...         ...  \n",
       "3601  [Fresh Tomato Salsa, [Fajita Vegetables, Rice,...       33.75  \n",
       "3602  [Fresh Tomato Salsa, [Rice, Black Beans, Chees...       35.00  \n",
       "1254  [Fresh Tomato Salsa, [Fajita Vegetables, Rice,...       35.00  \n",
       "3480  [Roasted Chili Corn Salsa, [Fajita Vegetables,...       35.25  \n",
       "3598                                                NaN       44.25  \n",
       "\n",
       "[4622 rows x 5 columns]"
      ]
     },
     "execution_count": 8,
     "metadata": {},
     "output_type": "execute_result"
    }
   ],
   "source": [
    "chipo.sort_values('item_price')"
   ]
  },
  {
   "cell_type": "code",
   "execution_count": 9,
   "id": "82d4db85",
   "metadata": {},
   "outputs": [
    {
     "data": {
      "image/png": "[encoded data removed]",
      "text/plain": [
       "<Figure size 640x480 with 1 Axes>"
      ]
     },
     "metadata": {},
     "output_type": "display_data"
    }
   ],
   "source": [
    "# 가격에 대한 이상치 확인\n",
    "plt.boxplot(chipo['item_price']/chipo['quantity'], vert = False)\n",
    "plt.show()\n",
    "# 이상치 존재하지 않음"
   ]
  },
  {
   "cell_type": "code",
   "execution_count": 10,
   "id": "471d4dbe",
   "metadata": {},
   "outputs": [
    {
     "data": {
      "image/png": "[encoded data removed]",
      "text/plain": [
       "<Figure size 640x480 with 1 Axes>"
      ]
     },
     "metadata": {},
     "output_type": "display_data"
    }
   ],
   "source": [
    "# 갯수에 대한 이상치 확인\n",
    "plt.boxplot(x=(chipo.groupby('order_id').sum())['quantity'], vert = False)\n",
    "plt.show()\n",
    "# 주문량 35로 많이 관측되었을 뿐 이상치로 처리하기 어려움"
   ]
  },
  {
   "cell_type": "code",
   "execution_count": 11,
   "id": "c5a45a81",
   "metadata": {},
   "outputs": [],
   "source": [
    "# choice_description 결측치 전처리 코드\n",
    "chipo['choice_description'].fillna(\"[None]\",inplace=True)"
   ]
  },
  {
   "cell_type": "code",
   "execution_count": 12,
   "id": "b1512b80",
   "metadata": {},
   "outputs": [
    {
     "data": {
      "text/html": [
       "<div>\n",
       "<style scoped>\n",
       "    .dataframe tbody tr th:only-of-type {\n",
       "        vertical-align: middle;\n",
       "    }\n",
       "\n",
       "    .dataframe tbody tr th {\n",
       "        vertical-align: top;\n",
       "    }\n",
       "\n",
       "    .dataframe thead th {\n",
       "        text-align: right;\n",
       "    }\n",
       "</style>\n",
       "<table border=\"1\" class=\"dataframe\">\n",
       "  <thead>\n",
       "    <tr style=\"text-align: right;\">\n",
       "      <th></th>\n",
       "      <th>order_id</th>\n",
       "      <th>quantity</th>\n",
       "      <th>item_name</th>\n",
       "      <th>choice_description</th>\n",
       "      <th>item_price</th>\n",
       "    </tr>\n",
       "  </thead>\n",
       "  <tbody>\n",
       "    <tr>\n",
       "      <th>0</th>\n",
       "      <td>1</td>\n",
       "      <td>1</td>\n",
       "      <td>Chips and Fresh Tomato Salsa</td>\n",
       "      <td>[None]</td>\n",
       "      <td>2.39</td>\n",
       "    </tr>\n",
       "    <tr>\n",
       "      <th>1</th>\n",
       "      <td>1</td>\n",
       "      <td>1</td>\n",
       "      <td>Izze</td>\n",
       "      <td>[Clementine]</td>\n",
       "      <td>3.39</td>\n",
       "    </tr>\n",
       "    <tr>\n",
       "      <th>2</th>\n",
       "      <td>1</td>\n",
       "      <td>1</td>\n",
       "      <td>Nantucket Nectar</td>\n",
       "      <td>[Apple]</td>\n",
       "      <td>3.39</td>\n",
       "    </tr>\n",
       "    <tr>\n",
       "      <th>3</th>\n",
       "      <td>1</td>\n",
       "      <td>1</td>\n",
       "      <td>Chips and Tomatillo-Green Chili Salsa</td>\n",
       "      <td>[None]</td>\n",
       "      <td>2.39</td>\n",
       "    </tr>\n",
       "    <tr>\n",
       "      <th>4</th>\n",
       "      <td>2</td>\n",
       "      <td>2</td>\n",
       "      <td>Chicken Bowl</td>\n",
       "      <td>[Tomatillo-Red Chili Salsa (Hot), [Black Beans...</td>\n",
       "      <td>16.98</td>\n",
       "    </tr>\n",
       "    <tr>\n",
       "      <th>...</th>\n",
       "      <td>...</td>\n",
       "      <td>...</td>\n",
       "      <td>...</td>\n",
       "      <td>...</td>\n",
       "      <td>...</td>\n",
       "    </tr>\n",
       "    <tr>\n",
       "      <th>4617</th>\n",
       "      <td>1833</td>\n",
       "      <td>1</td>\n",
       "      <td>Steak Burrito</td>\n",
       "      <td>[Fresh Tomato Salsa, [Rice, Black Beans, Sour ...</td>\n",
       "      <td>11.75</td>\n",
       "    </tr>\n",
       "    <tr>\n",
       "      <th>4618</th>\n",
       "      <td>1833</td>\n",
       "      <td>1</td>\n",
       "      <td>Steak Burrito</td>\n",
       "      <td>[Fresh Tomato Salsa, [Rice, Sour Cream, Cheese...</td>\n",
       "      <td>11.75</td>\n",
       "    </tr>\n",
       "    <tr>\n",
       "      <th>4619</th>\n",
       "      <td>1834</td>\n",
       "      <td>1</td>\n",
       "      <td>Chicken Salad Bowl</td>\n",
       "      <td>[Fresh Tomato Salsa, [Fajita Vegetables, Pinto...</td>\n",
       "      <td>11.25</td>\n",
       "    </tr>\n",
       "    <tr>\n",
       "      <th>4620</th>\n",
       "      <td>1834</td>\n",
       "      <td>1</td>\n",
       "      <td>Chicken Salad Bowl</td>\n",
       "      <td>[Fresh Tomato Salsa, [Fajita Vegetables, Lettu...</td>\n",
       "      <td>8.75</td>\n",
       "    </tr>\n",
       "    <tr>\n",
       "      <th>4621</th>\n",
       "      <td>1834</td>\n",
       "      <td>1</td>\n",
       "      <td>Chicken Salad Bowl</td>\n",
       "      <td>[Fresh Tomato Salsa, [Fajita Vegetables, Pinto...</td>\n",
       "      <td>8.75</td>\n",
       "    </tr>\n",
       "  </tbody>\n",
       "</table>\n",
       "<p>4622 rows × 5 columns</p>\n",
       "</div>"
      ],
      "text/plain": [
       "     order_id  quantity                              item_name  \\\n",
       "0           1         1           Chips and Fresh Tomato Salsa   \n",
       "1           1         1                                   Izze   \n",
       "2           1         1                       Nantucket Nectar   \n",
       "3           1         1  Chips and Tomatillo-Green Chili Salsa   \n",
       "4           2         2                           Chicken Bowl   \n",
       "...       ...       ...                                    ...   \n",
       "4617     1833         1                          Steak Burrito   \n",
       "4618     1833         1                          Steak Burrito   \n",
       "4619     1834         1                     Chicken Salad Bowl   \n",
       "4620     1834         1                     Chicken Salad Bowl   \n",
       "4621     1834         1                     Chicken Salad Bowl   \n",
       "\n",
       "                                     choice_description  item_price  \n",
       "0                                                [None]        2.39  \n",
       "1                                          [Clementine]        3.39  \n",
       "2                                               [Apple]        3.39  \n",
       "3                                                [None]        2.39  \n",
       "4     [Tomatillo-Red Chili Salsa (Hot), [Black Beans...       16.98  \n",
       "...                                                 ...         ...  \n",
       "4617  [Fresh Tomato Salsa, [Rice, Black Beans, Sour ...       11.75  \n",
       "4618  [Fresh Tomato Salsa, [Rice, Sour Cream, Cheese...       11.75  \n",
       "4619  [Fresh Tomato Salsa, [Fajita Vegetables, Pinto...       11.25  \n",
       "4620  [Fresh Tomato Salsa, [Fajita Vegetables, Lettu...        8.75  \n",
       "4621  [Fresh Tomato Salsa, [Fajita Vegetables, Pinto...        8.75  \n",
       "\n",
       "[4622 rows x 5 columns]"
      ]
     },
     "execution_count": 12,
     "metadata": {},
     "output_type": "execute_result"
    }
   ],
   "source": [
    "chipo"
   ]
  },
  {
   "cell_type": "code",
   "execution_count": 13,
   "id": "b99fb5a9",
   "metadata": {},
   "outputs": [
    {
     "data": {
      "text/plain": [
       "array(['Chips and Fresh Tomato Salsa', 'Izze', 'Nantucket Nectar',\n",
       "       'Chips and Tomatillo-Green Chili Salsa', 'Chicken Bowl',\n",
       "       'Side of Chips', 'Steak Burrito', 'Steak Soft Tacos',\n",
       "       'Chips and Guacamole', 'Chicken Crispy Tacos',\n",
       "       'Chicken Soft Tacos', 'Chicken Burrito', 'Canned Soda',\n",
       "       'Barbacoa Burrito', 'Carnitas Burrito', 'Carnitas Bowl',\n",
       "       'Bottled Water', 'Chips and Tomatillo Green Chili Salsa',\n",
       "       'Barbacoa Bowl', 'Chips', 'Chicken Salad Bowl', 'Steak Bowl',\n",
       "       'Barbacoa Soft Tacos', 'Veggie Burrito', 'Veggie Bowl',\n",
       "       'Steak Crispy Tacos', 'Chips and Tomatillo Red Chili Salsa',\n",
       "       'Barbacoa Crispy Tacos', 'Veggie Salad Bowl',\n",
       "       'Chips and Roasted Chili-Corn Salsa',\n",
       "       'Chips and Roasted Chili Corn Salsa', 'Carnitas Soft Tacos',\n",
       "       'Chicken Salad', 'Canned Soft Drink', 'Steak Salad Bowl',\n",
       "       '6 Pack Soft Drink', 'Chips and Tomatillo-Red Chili Salsa', 'Bowl',\n",
       "       'Burrito', 'Crispy Tacos', 'Carnitas Crispy Tacos', 'Steak Salad',\n",
       "       'Chips and Mild Fresh Tomato Salsa', 'Veggie Soft Tacos',\n",
       "       'Carnitas Salad Bowl', 'Barbacoa Salad Bowl', 'Salad',\n",
       "       'Veggie Crispy Tacos', 'Veggie Salad', 'Carnitas Salad'],\n",
       "      dtype=object)"
      ]
     },
     "execution_count": 13,
     "metadata": {},
     "output_type": "execute_result"
    }
   ],
   "source": [
    "chipo['item_name'].unique()"
   ]
  },
  {
   "cell_type": "markdown",
   "id": "3b2ce996",
   "metadata": {},
   "source": [
    "## 탐색적 데이터 분석"
   ]
  },
  {
   "cell_type": "markdown",
   "id": "48f50477",
   "metadata": {},
   "source": [
    "## 1차 탐색적 분석"
   ]
  },
  {
   "cell_type": "markdown",
   "id": "252ff8f5",
   "metadata": {},
   "source": [
    "### Step1\n",
    "데이터 분석의 목적, 대상 또는 가설을 세운다.\n",
    "* 판매량을 시각화하여 아이템 별 매출 순위를 얻는다.\n",
    "메뉴별 매출현황 분석 목적으로 메뉴,가격,갯수 열을 대상으로 함"
   ]
  },
  {
   "cell_type": "code",
   "execution_count": 14,
   "id": "a81a48ef",
   "metadata": {},
   "outputs": [
    {
     "data": {
      "text/plain": [
       "Chicken Bowl                    726\n",
       "Chicken Burrito                 553\n",
       "Chips and Guacamole             479\n",
       "Steak Burrito                   368\n",
       "Canned Soft Drink               301\n",
       "Steak Bowl                      211\n",
       "Chips                           211\n",
       "Bottled Water                   162\n",
       "Chicken Soft Tacos              115\n",
       "Chips and Fresh Tomato Salsa    110\n",
       "Name: item_name, dtype: int64"
      ]
     },
     "execution_count": 14,
     "metadata": {},
     "output_type": "execute_result"
    }
   ],
   "source": [
    "chipo_item = chipo['item_name'].value_counts()[:10]\n",
    "chipo_item"
   ]
  },
  {
   "cell_type": "code",
   "execution_count": 15,
   "id": "46298692",
   "metadata": {},
   "outputs": [],
   "source": [
    "chipo_item_index = chipo_item.index"
   ]
  },
  {
   "cell_type": "code",
   "execution_count": 16,
   "id": "14c91706",
   "metadata": {},
   "outputs": [
    {
     "data": {
      "image/png": "[encoded data removed]",
      "text/plain": [
       "<Figure size 640x480 with 1 Axes>"
      ]
     },
     "metadata": {},
     "output_type": "display_data"
    }
   ],
   "source": [
    "# 메뉴 판매 비율 시각화\n",
    "plt.pie(chipo['item_name'].value_counts()[:10],labels=chipo_item_index, autopct='%.1f%%')\n",
    "plt.show()"
   ]
  },
  {
   "cell_type": "code",
   "execution_count": 17,
   "id": "a5573ec9",
   "metadata": {
    "scrolled": true
   },
   "outputs": [
    {
     "data": {
      "text/html": [
       "<div>\n",
       "<style scoped>\n",
       "    .dataframe tbody tr th:only-of-type {\n",
       "        vertical-align: middle;\n",
       "    }\n",
       "\n",
       "    .dataframe tbody tr th {\n",
       "        vertical-align: top;\n",
       "    }\n",
       "\n",
       "    .dataframe thead th {\n",
       "        text-align: right;\n",
       "    }\n",
       "</style>\n",
       "<table border=\"1\" class=\"dataframe\">\n",
       "  <thead>\n",
       "    <tr style=\"text-align: right;\">\n",
       "      <th></th>\n",
       "      <th>item_price</th>\n",
       "    </tr>\n",
       "    <tr>\n",
       "      <th>item_name</th>\n",
       "      <th></th>\n",
       "    </tr>\n",
       "  </thead>\n",
       "  <tbody>\n",
       "    <tr>\n",
       "      <th>Chicken Bowl</th>\n",
       "      <td>7342.73</td>\n",
       "    </tr>\n",
       "    <tr>\n",
       "      <th>Chicken Burrito</th>\n",
       "      <td>5575.82</td>\n",
       "    </tr>\n",
       "    <tr>\n",
       "      <th>Steak Burrito</th>\n",
       "      <td>3851.43</td>\n",
       "    </tr>\n",
       "    <tr>\n",
       "      <th>Steak Bowl</th>\n",
       "      <td>2260.19</td>\n",
       "    </tr>\n",
       "    <tr>\n",
       "      <th>Chips and Guacamole</th>\n",
       "      <td>2201.04</td>\n",
       "    </tr>\n",
       "    <tr>\n",
       "      <th>Chicken Salad Bowl</th>\n",
       "      <td>1228.75</td>\n",
       "    </tr>\n",
       "    <tr>\n",
       "      <th>Chicken Soft Tacos</th>\n",
       "      <td>1108.09</td>\n",
       "    </tr>\n",
       "    <tr>\n",
       "      <th>Veggie Burrito</th>\n",
       "      <td>934.77</td>\n",
       "    </tr>\n",
       "    <tr>\n",
       "      <th>Barbacoa Burrito</th>\n",
       "      <td>894.75</td>\n",
       "    </tr>\n",
       "    <tr>\n",
       "      <th>Veggie Bowl</th>\n",
       "      <td>867.99</td>\n",
       "    </tr>\n",
       "  </tbody>\n",
       "</table>\n",
       "</div>"
      ],
      "text/plain": [
       "                     item_price\n",
       "item_name                      \n",
       "Chicken Bowl            7342.73\n",
       "Chicken Burrito         5575.82\n",
       "Steak Burrito           3851.43\n",
       "Steak Bowl              2260.19\n",
       "Chips and Guacamole     2201.04\n",
       "Chicken Salad Bowl      1228.75\n",
       "Chicken Soft Tacos      1108.09\n",
       "Veggie Burrito           934.77\n",
       "Barbacoa Burrito         894.75\n",
       "Veggie Bowl              867.99"
      ]
     },
     "execution_count": 17,
     "metadata": {},
     "output_type": "execute_result"
    }
   ],
   "source": [
    "#메뉴별 매출액 높은순위 10\n",
    "chipo_item_sales = chipo.groupby(chipo['item_name'])['item_price'].sum().to_frame()\n",
    "top = chipo_item_sales.sort_values('item_price', ascending=False)[:10]\n",
    "top"
   ]
  },
  {
   "cell_type": "code",
   "execution_count": 18,
   "id": "be735597",
   "metadata": {},
   "outputs": [
    {
     "data": {
      "text/html": [
       "<div>\n",
       "<style scoped>\n",
       "    .dataframe tbody tr th:only-of-type {\n",
       "        vertical-align: middle;\n",
       "    }\n",
       "\n",
       "    .dataframe tbody tr th {\n",
       "        vertical-align: top;\n",
       "    }\n",
       "\n",
       "    .dataframe thead th {\n",
       "        text-align: right;\n",
       "    }\n",
       "</style>\n",
       "<table border=\"1\" class=\"dataframe\">\n",
       "  <thead>\n",
       "    <tr style=\"text-align: right;\">\n",
       "      <th></th>\n",
       "      <th>item_price</th>\n",
       "    </tr>\n",
       "    <tr>\n",
       "      <th>item_name</th>\n",
       "      <th></th>\n",
       "    </tr>\n",
       "  </thead>\n",
       "  <tbody>\n",
       "    <tr>\n",
       "      <th>Chips and Mild Fresh Tomato Salsa</th>\n",
       "      <td>3.00</td>\n",
       "    </tr>\n",
       "    <tr>\n",
       "      <th>Veggie Crispy Tacos</th>\n",
       "      <td>8.49</td>\n",
       "    </tr>\n",
       "    <tr>\n",
       "      <th>Carnitas Salad</th>\n",
       "      <td>8.99</td>\n",
       "    </tr>\n",
       "    <tr>\n",
       "      <th>Crispy Tacos</th>\n",
       "      <td>14.80</td>\n",
       "    </tr>\n",
       "    <tr>\n",
       "      <th>Salad</th>\n",
       "      <td>14.80</td>\n",
       "    </tr>\n",
       "    <tr>\n",
       "      <th>Bowl</th>\n",
       "      <td>29.60</td>\n",
       "    </tr>\n",
       "    <tr>\n",
       "      <th>Steak Salad</th>\n",
       "      <td>35.66</td>\n",
       "    </tr>\n",
       "    <tr>\n",
       "      <th>Chips and Roasted Chili-Corn Salsa</th>\n",
       "      <td>43.02</td>\n",
       "    </tr>\n",
       "    <tr>\n",
       "      <th>Burrito</th>\n",
       "      <td>44.40</td>\n",
       "    </tr>\n",
       "    <tr>\n",
       "      <th>Veggie Salad</th>\n",
       "      <td>50.94</td>\n",
       "    </tr>\n",
       "  </tbody>\n",
       "</table>\n",
       "</div>"
      ],
      "text/plain": [
       "                                    item_price\n",
       "item_name                                     \n",
       "Chips and Mild Fresh Tomato Salsa         3.00\n",
       "Veggie Crispy Tacos                       8.49\n",
       "Carnitas Salad                            8.99\n",
       "Crispy Tacos                             14.80\n",
       "Salad                                    14.80\n",
       "Bowl                                     29.60\n",
       "Steak Salad                              35.66\n",
       "Chips and Roasted Chili-Corn Salsa       43.02\n",
       "Burrito                                  44.40\n",
       "Veggie Salad                             50.94"
      ]
     },
     "execution_count": 18,
     "metadata": {},
     "output_type": "execute_result"
    }
   ],
   "source": [
    "# 메뉴별 매출액 낮은순위 10\n",
    "worst = chipo_item_sales.sort_values('item_price')[:10]\n",
    "worst"
   ]
  },
  {
   "cell_type": "code",
   "execution_count": 28,
   "id": "68313eb6",
   "metadata": {},
   "outputs": [
    {
     "data": {
      "text/plain": [
       "<AxesSubplot:xlabel='item_name'>"
      ]
     },
     "execution_count": 28,
     "metadata": {},
     "output_type": "execute_result"
    },
    {
     "data": {
      "image/png": "[encoded data removed]",
      "text/plain": [
       "<Figure size 640x480 with 1 Axes>"
      ]
     },
     "metadata": {},
     "output_type": "display_data"
    }
   ],
   "source": [
    "# 메뉴별 매출액 시각화\n",
    "import seaborn as sns\n",
    "idx = top.index\n",
    "colors = sns.color_palette('Set3',len(idx))\n",
    "top.plot.bar(y='item_price', color=colors)"
   ]
  },
  {
   "cell_type": "markdown",
   "id": "6103804a",
   "metadata": {},
   "source": [
    "### Step2\n",
    "데이터 재구조화\n",
    "매출이 낮은 메뉴를 제공하는 메뉴에서 제외한다."
   ]
  },
  {
   "cell_type": "code",
   "execution_count": 20,
   "id": "4d9a8b46",
   "metadata": {},
   "outputs": [
    {
     "data": {
      "text/html": [
       "<div>\n",
       "<style scoped>\n",
       "    .dataframe tbody tr th:only-of-type {\n",
       "        vertical-align: middle;\n",
       "    }\n",
       "\n",
       "    .dataframe tbody tr th {\n",
       "        vertical-align: top;\n",
       "    }\n",
       "\n",
       "    .dataframe thead th {\n",
       "        text-align: right;\n",
       "    }\n",
       "</style>\n",
       "<table border=\"1\" class=\"dataframe\">\n",
       "  <thead>\n",
       "    <tr style=\"text-align: right;\">\n",
       "      <th></th>\n",
       "      <th>item_price</th>\n",
       "    </tr>\n",
       "    <tr>\n",
       "      <th>item_name</th>\n",
       "      <th></th>\n",
       "    </tr>\n",
       "  </thead>\n",
       "  <tbody>\n",
       "    <tr>\n",
       "      <th>Chips and Mild Fresh Tomato Salsa</th>\n",
       "      <td>3.00</td>\n",
       "    </tr>\n",
       "    <tr>\n",
       "      <th>Veggie Crispy Tacos</th>\n",
       "      <td>8.49</td>\n",
       "    </tr>\n",
       "    <tr>\n",
       "      <th>Carnitas Salad</th>\n",
       "      <td>8.99</td>\n",
       "    </tr>\n",
       "    <tr>\n",
       "      <th>Crispy Tacos</th>\n",
       "      <td>14.80</td>\n",
       "    </tr>\n",
       "    <tr>\n",
       "      <th>Salad</th>\n",
       "      <td>14.80</td>\n",
       "    </tr>\n",
       "    <tr>\n",
       "      <th>Bowl</th>\n",
       "      <td>29.60</td>\n",
       "    </tr>\n",
       "    <tr>\n",
       "      <th>Steak Salad</th>\n",
       "      <td>35.66</td>\n",
       "    </tr>\n",
       "    <tr>\n",
       "      <th>Chips and Roasted Chili-Corn Salsa</th>\n",
       "      <td>43.02</td>\n",
       "    </tr>\n",
       "    <tr>\n",
       "      <th>Burrito</th>\n",
       "      <td>44.40</td>\n",
       "    </tr>\n",
       "    <tr>\n",
       "      <th>Veggie Salad</th>\n",
       "      <td>50.94</td>\n",
       "    </tr>\n",
       "  </tbody>\n",
       "</table>\n",
       "</div>"
      ],
      "text/plain": [
       "                                    item_price\n",
       "item_name                                     \n",
       "Chips and Mild Fresh Tomato Salsa         3.00\n",
       "Veggie Crispy Tacos                       8.49\n",
       "Carnitas Salad                            8.99\n",
       "Crispy Tacos                             14.80\n",
       "Salad                                    14.80\n",
       "Bowl                                     29.60\n",
       "Steak Salad                              35.66\n",
       "Chips and Roasted Chili-Corn Salsa       43.02\n",
       "Burrito                                  44.40\n",
       "Veggie Salad                             50.94"
      ]
     },
     "execution_count": 20,
     "metadata": {},
     "output_type": "execute_result"
    }
   ],
   "source": [
    "# 메뉴별 매출액 낮은순위 10\n",
    "worst = chipo_item_sales.sort_values('item_price')[:10]\n",
    "worst"
   ]
  },
  {
   "cell_type": "code",
   "execution_count": 21,
   "id": "bcb04b6e",
   "metadata": {},
   "outputs": [],
   "source": [
    "# 메뉴에서 하위매출 아이템을 제외하는 목적의 가상 코드\n",
    "chipo_drop = chipo.copy()"
   ]
  },
  {
   "cell_type": "code",
   "execution_count": 22,
   "id": "c997c60f",
   "metadata": {
    "scrolled": true
   },
   "outputs": [
    {
     "data": {
      "text/plain": [
       "item_name\n",
       "6 Pack Soft Drink                         356.95\n",
       "Barbacoa Bowl                             672.36\n",
       "Barbacoa Burrito                          894.75\n",
       "Barbacoa Crispy Tacos                     120.21\n",
       "Barbacoa Salad Bowl                       106.40\n",
       "Barbacoa Soft Tacos                       250.46\n",
       "Bottled Water                             302.56\n",
       "Bowl                                       29.60\n",
       "Burrito                                    44.40\n",
       "Canned Soda                               137.34\n",
       "Canned Soft Drink                         438.75\n",
       "Carnitas Bowl                             736.71\n",
       "Carnitas Burrito                          597.83\n",
       "Carnitas Crispy Tacos                      77.96\n",
       "Carnitas Salad                              8.99\n",
       "Carnitas Salad Bowl                        66.34\n",
       "Carnitas Soft Tacos                       375.94\n",
       "Chicken Bowl                             7342.73\n",
       "Chicken Burrito                          5575.82\n",
       "Chicken Crispy Tacos                      472.13\n",
       "Chicken Salad                              81.09\n",
       "Chicken Salad Bowl                       1228.75\n",
       "Chicken Soft Tacos                       1108.09\n",
       "Chips                                     494.34\n",
       "Chips and Fresh Tomato Salsa              361.36\n",
       "Chips and Guacamole                      2201.04\n",
       "Chips and Mild Fresh Tomato Salsa           3.00\n",
       "Chips and Roasted Chili Corn Salsa         67.85\n",
       "Chips and Roasted Chili-Corn Salsa         43.02\n",
       "Chips and Tomatillo Green Chili Salsa     132.75\n",
       "Chips and Tomatillo Red Chili Salsa       147.50\n",
       "Chips and Tomatillo-Green Chili Salsa      78.87\n",
       "Chips and Tomatillo-Red Chili Salsa        59.75\n",
       "Crispy Tacos                               14.80\n",
       "Izze                                       67.80\n",
       "Nantucket Nectar                           98.31\n",
       "Salad                                      14.80\n",
       "Side of Chips                             185.90\n",
       "Steak Bowl                               2260.19\n",
       "Steak Burrito                            3851.43\n",
       "Steak Crispy Tacos                        357.34\n",
       "Steak Salad                                35.66\n",
       "Steak Salad Bowl                          343.59\n",
       "Steak Soft Tacos                          536.05\n",
       "Veggie Bowl                               867.99\n",
       "Veggie Burrito                            934.77\n",
       "Veggie Crispy Tacos                         8.49\n",
       "Veggie Salad                               50.94\n",
       "Veggie Salad Bowl                         182.50\n",
       "Veggie Soft Tacos                          73.96\n",
       "Name: item_price, dtype: float64"
      ]
     },
     "execution_count": 22,
     "metadata": {},
     "output_type": "execute_result"
    }
   ],
   "source": [
    "chipo_drop = chipo.copy()\n",
    "chipo_drop = chipo_drop.groupby('item_name')['item_price'].sum()\n",
    "chipo_drop"
   ]
  },
  {
   "cell_type": "code",
   "execution_count": 23,
   "id": "a77e80ac",
   "metadata": {
    "scrolled": true
   },
   "outputs": [
    {
     "data": {
      "text/plain": [
       "item_name\n",
       "6 Pack Soft Drink                         356.95\n",
       "Barbacoa Bowl                             672.36\n",
       "Barbacoa Burrito                          894.75\n",
       "Barbacoa Crispy Tacos                     120.21\n",
       "Barbacoa Salad Bowl                       106.40\n",
       "Barbacoa Soft Tacos                       250.46\n",
       "Bottled Water                             302.56\n",
       "Canned Soda                               137.34\n",
       "Canned Soft Drink                         438.75\n",
       "Carnitas Bowl                             736.71\n",
       "Carnitas Burrito                          597.83\n",
       "Carnitas Crispy Tacos                      77.96\n",
       "Carnitas Salad Bowl                        66.34\n",
       "Carnitas Soft Tacos                       375.94\n",
       "Chicken Bowl                             7342.73\n",
       "Chicken Burrito                          5575.82\n",
       "Chicken Crispy Tacos                      472.13\n",
       "Chicken Salad                              81.09\n",
       "Chicken Salad Bowl                       1228.75\n",
       "Chicken Soft Tacos                       1108.09\n",
       "Chips                                     494.34\n",
       "Chips and Fresh Tomato Salsa              361.36\n",
       "Chips and Guacamole                      2201.04\n",
       "Chips and Roasted Chili Corn Salsa         67.85\n",
       "Chips and Tomatillo Green Chili Salsa     132.75\n",
       "Chips and Tomatillo Red Chili Salsa       147.50\n",
       "Chips and Tomatillo-Green Chili Salsa      78.87\n",
       "Chips and Tomatillo-Red Chili Salsa        59.75\n",
       "Izze                                       67.80\n",
       "Nantucket Nectar                           98.31\n",
       "Side of Chips                             185.90\n",
       "Steak Bowl                               2260.19\n",
       "Steak Burrito                            3851.43\n",
       "Steak Crispy Tacos                        357.34\n",
       "Steak Salad Bowl                          343.59\n",
       "Steak Soft Tacos                          536.05\n",
       "Veggie Bowl                               867.99\n",
       "Veggie Burrito                            934.77\n",
       "Veggie Salad Bowl                         182.50\n",
       "Veggie Soft Tacos                          73.96\n",
       "Name: item_price, dtype: float64"
      ]
     },
     "execution_count": 23,
     "metadata": {},
     "output_type": "execute_result"
    }
   ],
   "source": [
    "chipo_drop.drop(worst.index, axis=0)"
   ]
  },
  {
   "cell_type": "code",
   "execution_count": 30,
   "id": "6f7ebee8",
   "metadata": {},
   "outputs": [
    {
     "ename": "NameError",
     "evalue": "name 'y_quadratic' is not defined",
     "output_type": "error",
     "traceback": [
      "\u001b[1;31m---------------------------------------------------------------------------\u001b[0m",
      "\u001b[1;31mNameError\u001b[0m                                 Traceback (most recent call last)",
      "Cell \u001b[1;32mIn [30], line 13\u001b[0m\n\u001b[0;32m     10\u001b[0m y \u001b[38;5;241m=\u001b[39m \u001b[38;5;241m-\u001b[39mx\u001b[38;5;241m*\u001b[39m\u001b[38;5;241m*\u001b[39m\u001b[38;5;241m2\u001b[39m \u001b[38;5;241m+\u001b[39m \u001b[38;5;241m30\u001b[39m\u001b[38;5;241m*\u001b[39mx\n\u001b[0;32m     12\u001b[0m \u001b[38;5;66;03m#fn_linear = np.poly1d(np.polyfit(x, y_linear, deg=1))\u001b[39;00m\n\u001b[1;32m---> 13\u001b[0m fn_quadratic \u001b[38;5;241m=\u001b[39m np\u001b[38;5;241m.\u001b[39mpoly1d(np\u001b[38;5;241m.\u001b[39mpolyfit(x, \u001b[43my_quadratic\u001b[49m, deg\u001b[38;5;241m=\u001b[39m\u001b[38;5;241m2\u001b[39m))\n\u001b[0;32m     15\u001b[0m plt\u001b[38;5;241m.\u001b[39mplot(x,y, \u001b[38;5;124m'\u001b[39m\u001b[38;5;124mmaroon\u001b[39m\u001b[38;5;124m'\u001b[39m, linewidth\u001b[38;5;241m=\u001b[39m\u001b[38;5;241m3.\u001b[39m)\n\u001b[0;32m     17\u001b[0m plt\u001b[38;5;241m.\u001b[39mxlabel(\u001b[38;5;124m'\u001b[39m\u001b[38;5;124m메뉴개수감소량\u001b[39m\u001b[38;5;124m'\u001b[39m)\n",
      "\u001b[1;31mNameError\u001b[0m: name 'y_quadratic' is not defined"
     ]
    }
   ],
   "source": [
    "# 가상그래프\n",
    "from matplotlib import font_manager,rc\n",
    "font_location = \"C:\\Windows\\Fonts\\malgun.ttf\"\n",
    "font_name = font_manager.FontProperties(fname=font_location).get_name()\n",
    "rc('font',family=font_name)\n",
    "plt.rcParams['axes.unicode_minus'] = False\n",
    "\n",
    "x = np.arange(start=0, stop=31, step=1)\n",
    "#y_linear = x \n",
    "y = -x**2 + 30*x\n",
    "\n",
    "#fn_linear = np.poly1d(np.polyfit(x, y_linear, deg=1))\n",
    "fn_quadratic = np.poly1d(np.polyfit(x, y_quadratic, deg=2))\n",
    "\n",
    "plt.plot(x,y, 'maroon', linewidth=3.)\n",
    "\n",
    "plt.xlabel('메뉴개수감소량')\n",
    "plt.ylabel('매출(%)')\n",
    "\n",
    "# x축, y축 표시 영역 범위 설정\n",
    "#plt.xlim((min(x)-1, max(x)+1))\n",
    "plt.xlim([0, 30])\n",
    "plt.ylim([0, 300])\n",
    "#plt.ylim((min(y_quadratic)-10, max(y_quadratic)+10))\n",
    "\n",
    "plt.show()"
   ]
  },
  {
   "cell_type": "raw",
   "id": "6b0f33cf",
   "metadata": {},
   "source": [
    "x = np.arange(-5,6)\n",
    "y = 0.2*x**2\n",
    "plt.plot(x,-y)\n",
    "\n",
    "plt.xlim([-5, 5])\n",
    "plt.ylim([-20, 10])\n",
    "plt.show()"
   ]
  },
  {
   "cell_type": "markdown",
   "id": "1ac78263",
   "metadata": {},
   "source": [
    "---"
   ]
  },
  {
   "cell_type": "markdown",
   "id": "43b3e2df",
   "metadata": {},
   "source": [
    "### Step1과 Step2를 반복하며 내용을 정리하세요."
   ]
  },
  {
   "cell_type": "markdown",
   "id": "4af08a5f",
   "metadata": {},
   "source": [
    "## 2차 탐색적 데이터 분석"
   ]
  },
  {
   "cell_type": "markdown",
   "id": "a5363177",
   "metadata": {},
   "source": [
    "## 3차 탐색적 데이터 분석"
   ]
  },
  {
   "cell_type": "markdown",
   "id": "8672f76b",
   "metadata": {},
   "source": [
    "## 최종결론\n",
    "지금까지 학습한 정보를 토대로 최종 결론을 내려보세요."
   ]
  }
 ],
 "metadata": {
  "kernelspec": {
   "display_name": "Python 3 (ipykernel)",
   "language": "python",
   "name": "python3"
  },
  "language_info": {
   "codemirror_mode": {
    "name": "ipython",
    "version": 3
   },
   "file_extension": ".py",
   "mimetype": "text/x-python",
   "name": "python",
   "nbconvert_exporter": "python",
   "pygments_lexer": "ipython3",
   "version": "3.9.13"
  }
 },
 "nbformat": 4,
 "nbformat_minor": 5
}
