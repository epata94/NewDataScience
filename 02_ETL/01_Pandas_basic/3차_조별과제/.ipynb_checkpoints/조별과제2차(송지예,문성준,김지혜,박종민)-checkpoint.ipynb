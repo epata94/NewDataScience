{
 "cells": [
  {
   "cell_type": "markdown",
   "id": "f6698b89",
   "metadata": {},
   "source": [
    "# 제 3차 조별 데이터 분석 실습\n",
    "\n",
    "* Mission\n",
    "    * 지금까지 배운 기술을 활용하여 데이터 분석을 해본다.\n",
    "    * 데이터 원본 분석을 한다.\n",
    "    * 결측치, 이상치를 점검해 본다.\n",
    "    * 전처리\n",
    "    * 탐색적 연구 (Step1, Step2를 반복하여 데이터 분석의 깊이를 더한다.)\n",
    "         * Step1] 데이터 분석을 위한 목적, 대상 또는 가설을 세워본다. \n",
    "         * Step2] 데이터 재 구조화, 시각화를 통해 새로운 insight 및 정보를 습득 및 가설을 검증한다.\n",
    "    * 최종 결론을 내린다."
   ]
  },
  {
   "cell_type": "markdown",
   "id": "f5edd40d",
   "metadata": {},
   "source": [
    "## 아래에 데이터를 import 하세요."
   ]
  },
  {
   "cell_type": "code",
   "execution_count": 1,
   "id": "a8d16f56",
   "metadata": {},
   "outputs": [
    {
     "ename": "FileNotFoundError",
     "evalue": "[Errno 2] No such file or directory: '../data/chipotle.tsv'",
     "output_type": "error",
     "traceback": [
      "\u001b[1;31m---------------------------------------------------------------------------\u001b[0m",
      "\u001b[1;31mFileNotFoundError\u001b[0m                         Traceback (most recent call last)",
      "Cell \u001b[1;32mIn [1], line 6\u001b[0m\n\u001b[0;32m      4\u001b[0m \u001b[38;5;28;01mimport\u001b[39;00m \u001b[38;5;21;01mmatplotlib\u001b[39;00m\u001b[38;5;21;01m.\u001b[39;00m\u001b[38;5;21;01mpyplot\u001b[39;00m \u001b[38;5;28;01mas\u001b[39;00m \u001b[38;5;21;01mplt\u001b[39;00m\n\u001b[0;32m      5\u001b[0m file_path \u001b[38;5;241m=\u001b[39m \u001b[38;5;124m'\u001b[39m\u001b[38;5;124m../data/chipotle.tsv\u001b[39m\u001b[38;5;124m'\u001b[39m\n\u001b[1;32m----> 6\u001b[0m chipo \u001b[38;5;241m=\u001b[39m \u001b[43mpd\u001b[49m\u001b[38;5;241;43m.\u001b[39;49m\u001b[43mread_csv\u001b[49m\u001b[43m(\u001b[49m\u001b[43mfile_path\u001b[49m\u001b[43m,\u001b[49m\u001b[43m \u001b[49m\u001b[43msep\u001b[49m\u001b[43m \u001b[49m\u001b[38;5;241;43m=\u001b[39;49m\u001b[43m \u001b[49m\u001b[38;5;124;43m'\u001b[39;49m\u001b[38;5;130;43;01m\\t\u001b[39;49;00m\u001b[38;5;124;43m'\u001b[39;49m\u001b[43m)\u001b[49m\n",
      "File \u001b[1;32m~\\anaconda3\\lib\\site-packages\\pandas\\util\\_decorators.py:311\u001b[0m, in \u001b[0;36mdeprecate_nonkeyword_arguments.<locals>.decorate.<locals>.wrapper\u001b[1;34m(*args, **kwargs)\u001b[0m\n\u001b[0;32m    305\u001b[0m \u001b[38;5;28;01mif\u001b[39;00m \u001b[38;5;28mlen\u001b[39m(args) \u001b[38;5;241m>\u001b[39m num_allow_args:\n\u001b[0;32m    306\u001b[0m     warnings\u001b[38;5;241m.\u001b[39mwarn(\n\u001b[0;32m    307\u001b[0m         msg\u001b[38;5;241m.\u001b[39mformat(arguments\u001b[38;5;241m=\u001b[39marguments),\n\u001b[0;32m    308\u001b[0m         \u001b[38;5;167;01mFutureWarning\u001b[39;00m,\n\u001b[0;32m    309\u001b[0m         stacklevel\u001b[38;5;241m=\u001b[39mstacklevel,\n\u001b[0;32m    310\u001b[0m     )\n\u001b[1;32m--> 311\u001b[0m \u001b[38;5;28;01mreturn\u001b[39;00m func(\u001b[38;5;241m*\u001b[39margs, \u001b[38;5;241m*\u001b[39m\u001b[38;5;241m*\u001b[39mkwargs)\n",
      "File \u001b[1;32m~\\anaconda3\\lib\\site-packages\\pandas\\io\\parsers\\readers.py:678\u001b[0m, in \u001b[0;36mread_csv\u001b[1;34m(filepath_or_buffer, sep, delimiter, header, names, index_col, usecols, squeeze, prefix, mangle_dupe_cols, dtype, engine, converters, true_values, false_values, skipinitialspace, skiprows, skipfooter, nrows, na_values, keep_default_na, na_filter, verbose, skip_blank_lines, parse_dates, infer_datetime_format, keep_date_col, date_parser, dayfirst, cache_dates, iterator, chunksize, compression, thousands, decimal, lineterminator, quotechar, quoting, doublequote, escapechar, comment, encoding, encoding_errors, dialect, error_bad_lines, warn_bad_lines, on_bad_lines, delim_whitespace, low_memory, memory_map, float_precision, storage_options)\u001b[0m\n\u001b[0;32m    663\u001b[0m kwds_defaults \u001b[38;5;241m=\u001b[39m _refine_defaults_read(\n\u001b[0;32m    664\u001b[0m     dialect,\n\u001b[0;32m    665\u001b[0m     delimiter,\n\u001b[1;32m   (...)\u001b[0m\n\u001b[0;32m    674\u001b[0m     defaults\u001b[38;5;241m=\u001b[39m{\u001b[38;5;124m\"\u001b[39m\u001b[38;5;124mdelimiter\u001b[39m\u001b[38;5;124m\"\u001b[39m: \u001b[38;5;124m\"\u001b[39m\u001b[38;5;124m,\u001b[39m\u001b[38;5;124m\"\u001b[39m},\n\u001b[0;32m    675\u001b[0m )\n\u001b[0;32m    676\u001b[0m kwds\u001b[38;5;241m.\u001b[39mupdate(kwds_defaults)\n\u001b[1;32m--> 678\u001b[0m \u001b[38;5;28;01mreturn\u001b[39;00m \u001b[43m_read\u001b[49m\u001b[43m(\u001b[49m\u001b[43mfilepath_or_buffer\u001b[49m\u001b[43m,\u001b[49m\u001b[43m \u001b[49m\u001b[43mkwds\u001b[49m\u001b[43m)\u001b[49m\n",
      "File \u001b[1;32m~\\anaconda3\\lib\\site-packages\\pandas\\io\\parsers\\readers.py:575\u001b[0m, in \u001b[0;36m_read\u001b[1;34m(filepath_or_buffer, kwds)\u001b[0m\n\u001b[0;32m    572\u001b[0m _validate_names(kwds\u001b[38;5;241m.\u001b[39mget(\u001b[38;5;124m\"\u001b[39m\u001b[38;5;124mnames\u001b[39m\u001b[38;5;124m\"\u001b[39m, \u001b[38;5;28;01mNone\u001b[39;00m))\n\u001b[0;32m    574\u001b[0m \u001b[38;5;66;03m# Create the parser.\u001b[39;00m\n\u001b[1;32m--> 575\u001b[0m parser \u001b[38;5;241m=\u001b[39m TextFileReader(filepath_or_buffer, \u001b[38;5;241m*\u001b[39m\u001b[38;5;241m*\u001b[39mkwds)\n\u001b[0;32m    577\u001b[0m \u001b[38;5;28;01mif\u001b[39;00m chunksize \u001b[38;5;129;01mor\u001b[39;00m iterator:\n\u001b[0;32m    578\u001b[0m     \u001b[38;5;28;01mreturn\u001b[39;00m parser\n",
      "File \u001b[1;32m~\\anaconda3\\lib\\site-packages\\pandas\\io\\parsers\\readers.py:932\u001b[0m, in \u001b[0;36mTextFileReader.__init__\u001b[1;34m(self, f, engine, **kwds)\u001b[0m\n\u001b[0;32m    929\u001b[0m     \u001b[38;5;28mself\u001b[39m\u001b[38;5;241m.\u001b[39moptions[\u001b[38;5;124m\"\u001b[39m\u001b[38;5;124mhas_index_names\u001b[39m\u001b[38;5;124m\"\u001b[39m] \u001b[38;5;241m=\u001b[39m kwds[\u001b[38;5;124m\"\u001b[39m\u001b[38;5;124mhas_index_names\u001b[39m\u001b[38;5;124m\"\u001b[39m]\n\u001b[0;32m    931\u001b[0m \u001b[38;5;28mself\u001b[39m\u001b[38;5;241m.\u001b[39mhandles: IOHandles \u001b[38;5;241m|\u001b[39m \u001b[38;5;28;01mNone\u001b[39;00m \u001b[38;5;241m=\u001b[39m \u001b[38;5;28;01mNone\u001b[39;00m\n\u001b[1;32m--> 932\u001b[0m \u001b[38;5;28mself\u001b[39m\u001b[38;5;241m.\u001b[39m_engine \u001b[38;5;241m=\u001b[39m \u001b[38;5;28;43mself\u001b[39;49m\u001b[38;5;241;43m.\u001b[39;49m\u001b[43m_make_engine\u001b[49m\u001b[43m(\u001b[49m\u001b[43mf\u001b[49m\u001b[43m,\u001b[49m\u001b[43m \u001b[49m\u001b[38;5;28;43mself\u001b[39;49m\u001b[38;5;241;43m.\u001b[39;49m\u001b[43mengine\u001b[49m\u001b[43m)\u001b[49m\n",
      "File \u001b[1;32m~\\anaconda3\\lib\\site-packages\\pandas\\io\\parsers\\readers.py:1216\u001b[0m, in \u001b[0;36mTextFileReader._make_engine\u001b[1;34m(self, f, engine)\u001b[0m\n\u001b[0;32m   1212\u001b[0m     mode \u001b[38;5;241m=\u001b[39m \u001b[38;5;124m\"\u001b[39m\u001b[38;5;124mrb\u001b[39m\u001b[38;5;124m\"\u001b[39m\n\u001b[0;32m   1213\u001b[0m \u001b[38;5;66;03m# error: No overload variant of \"get_handle\" matches argument types\u001b[39;00m\n\u001b[0;32m   1214\u001b[0m \u001b[38;5;66;03m# \"Union[str, PathLike[str], ReadCsvBuffer[bytes], ReadCsvBuffer[str]]\"\u001b[39;00m\n\u001b[0;32m   1215\u001b[0m \u001b[38;5;66;03m# , \"str\", \"bool\", \"Any\", \"Any\", \"Any\", \"Any\", \"Any\"\u001b[39;00m\n\u001b[1;32m-> 1216\u001b[0m \u001b[38;5;28mself\u001b[39m\u001b[38;5;241m.\u001b[39mhandles \u001b[38;5;241m=\u001b[39m \u001b[43mget_handle\u001b[49m\u001b[43m(\u001b[49m\u001b[43m  \u001b[49m\u001b[38;5;66;43;03m# type: ignore[call-overload]\u001b[39;49;00m\n\u001b[0;32m   1217\u001b[0m \u001b[43m    \u001b[49m\u001b[43mf\u001b[49m\u001b[43m,\u001b[49m\n\u001b[0;32m   1218\u001b[0m \u001b[43m    \u001b[49m\u001b[43mmode\u001b[49m\u001b[43m,\u001b[49m\n\u001b[0;32m   1219\u001b[0m \u001b[43m    \u001b[49m\u001b[43mencoding\u001b[49m\u001b[38;5;241;43m=\u001b[39;49m\u001b[38;5;28;43mself\u001b[39;49m\u001b[38;5;241;43m.\u001b[39;49m\u001b[43moptions\u001b[49m\u001b[38;5;241;43m.\u001b[39;49m\u001b[43mget\u001b[49m\u001b[43m(\u001b[49m\u001b[38;5;124;43m\"\u001b[39;49m\u001b[38;5;124;43mencoding\u001b[39;49m\u001b[38;5;124;43m\"\u001b[39;49m\u001b[43m,\u001b[49m\u001b[43m \u001b[49m\u001b[38;5;28;43;01mNone\u001b[39;49;00m\u001b[43m)\u001b[49m\u001b[43m,\u001b[49m\n\u001b[0;32m   1220\u001b[0m \u001b[43m    \u001b[49m\u001b[43mcompression\u001b[49m\u001b[38;5;241;43m=\u001b[39;49m\u001b[38;5;28;43mself\u001b[39;49m\u001b[38;5;241;43m.\u001b[39;49m\u001b[43moptions\u001b[49m\u001b[38;5;241;43m.\u001b[39;49m\u001b[43mget\u001b[49m\u001b[43m(\u001b[49m\u001b[38;5;124;43m\"\u001b[39;49m\u001b[38;5;124;43mcompression\u001b[39;49m\u001b[38;5;124;43m\"\u001b[39;49m\u001b[43m,\u001b[49m\u001b[43m \u001b[49m\u001b[38;5;28;43;01mNone\u001b[39;49;00m\u001b[43m)\u001b[49m\u001b[43m,\u001b[49m\n\u001b[0;32m   1221\u001b[0m \u001b[43m    \u001b[49m\u001b[43mmemory_map\u001b[49m\u001b[38;5;241;43m=\u001b[39;49m\u001b[38;5;28;43mself\u001b[39;49m\u001b[38;5;241;43m.\u001b[39;49m\u001b[43moptions\u001b[49m\u001b[38;5;241;43m.\u001b[39;49m\u001b[43mget\u001b[49m\u001b[43m(\u001b[49m\u001b[38;5;124;43m\"\u001b[39;49m\u001b[38;5;124;43mmemory_map\u001b[39;49m\u001b[38;5;124;43m\"\u001b[39;49m\u001b[43m,\u001b[49m\u001b[43m \u001b[49m\u001b[38;5;28;43;01mFalse\u001b[39;49;00m\u001b[43m)\u001b[49m\u001b[43m,\u001b[49m\n\u001b[0;32m   1222\u001b[0m \u001b[43m    \u001b[49m\u001b[43mis_text\u001b[49m\u001b[38;5;241;43m=\u001b[39;49m\u001b[43mis_text\u001b[49m\u001b[43m,\u001b[49m\n\u001b[0;32m   1223\u001b[0m \u001b[43m    \u001b[49m\u001b[43merrors\u001b[49m\u001b[38;5;241;43m=\u001b[39;49m\u001b[38;5;28;43mself\u001b[39;49m\u001b[38;5;241;43m.\u001b[39;49m\u001b[43moptions\u001b[49m\u001b[38;5;241;43m.\u001b[39;49m\u001b[43mget\u001b[49m\u001b[43m(\u001b[49m\u001b[38;5;124;43m\"\u001b[39;49m\u001b[38;5;124;43mencoding_errors\u001b[39;49m\u001b[38;5;124;43m\"\u001b[39;49m\u001b[43m,\u001b[49m\u001b[43m \u001b[49m\u001b[38;5;124;43m\"\u001b[39;49m\u001b[38;5;124;43mstrict\u001b[39;49m\u001b[38;5;124;43m\"\u001b[39;49m\u001b[43m)\u001b[49m\u001b[43m,\u001b[49m\n\u001b[0;32m   1224\u001b[0m \u001b[43m    \u001b[49m\u001b[43mstorage_options\u001b[49m\u001b[38;5;241;43m=\u001b[39;49m\u001b[38;5;28;43mself\u001b[39;49m\u001b[38;5;241;43m.\u001b[39;49m\u001b[43moptions\u001b[49m\u001b[38;5;241;43m.\u001b[39;49m\u001b[43mget\u001b[49m\u001b[43m(\u001b[49m\u001b[38;5;124;43m\"\u001b[39;49m\u001b[38;5;124;43mstorage_options\u001b[39;49m\u001b[38;5;124;43m\"\u001b[39;49m\u001b[43m,\u001b[49m\u001b[43m \u001b[49m\u001b[38;5;28;43;01mNone\u001b[39;49;00m\u001b[43m)\u001b[49m\u001b[43m,\u001b[49m\n\u001b[0;32m   1225\u001b[0m \u001b[43m\u001b[49m\u001b[43m)\u001b[49m\n\u001b[0;32m   1226\u001b[0m \u001b[38;5;28;01massert\u001b[39;00m \u001b[38;5;28mself\u001b[39m\u001b[38;5;241m.\u001b[39mhandles \u001b[38;5;129;01mis\u001b[39;00m \u001b[38;5;129;01mnot\u001b[39;00m \u001b[38;5;28;01mNone\u001b[39;00m\n\u001b[0;32m   1227\u001b[0m f \u001b[38;5;241m=\u001b[39m \u001b[38;5;28mself\u001b[39m\u001b[38;5;241m.\u001b[39mhandles\u001b[38;5;241m.\u001b[39mhandle\n",
      "File \u001b[1;32m~\\anaconda3\\lib\\site-packages\\pandas\\io\\common.py:786\u001b[0m, in \u001b[0;36mget_handle\u001b[1;34m(path_or_buf, mode, encoding, compression, memory_map, is_text, errors, storage_options)\u001b[0m\n\u001b[0;32m    781\u001b[0m \u001b[38;5;28;01melif\u001b[39;00m \u001b[38;5;28misinstance\u001b[39m(handle, \u001b[38;5;28mstr\u001b[39m):\n\u001b[0;32m    782\u001b[0m     \u001b[38;5;66;03m# Check whether the filename is to be opened in binary mode.\u001b[39;00m\n\u001b[0;32m    783\u001b[0m     \u001b[38;5;66;03m# Binary mode does not support 'encoding' and 'newline'.\u001b[39;00m\n\u001b[0;32m    784\u001b[0m     \u001b[38;5;28;01mif\u001b[39;00m ioargs\u001b[38;5;241m.\u001b[39mencoding \u001b[38;5;129;01mand\u001b[39;00m \u001b[38;5;124m\"\u001b[39m\u001b[38;5;124mb\u001b[39m\u001b[38;5;124m\"\u001b[39m \u001b[38;5;129;01mnot\u001b[39;00m \u001b[38;5;129;01min\u001b[39;00m ioargs\u001b[38;5;241m.\u001b[39mmode:\n\u001b[0;32m    785\u001b[0m         \u001b[38;5;66;03m# Encoding\u001b[39;00m\n\u001b[1;32m--> 786\u001b[0m         handle \u001b[38;5;241m=\u001b[39m \u001b[38;5;28;43mopen\u001b[39;49m\u001b[43m(\u001b[49m\n\u001b[0;32m    787\u001b[0m \u001b[43m            \u001b[49m\u001b[43mhandle\u001b[49m\u001b[43m,\u001b[49m\n\u001b[0;32m    788\u001b[0m \u001b[43m            \u001b[49m\u001b[43mioargs\u001b[49m\u001b[38;5;241;43m.\u001b[39;49m\u001b[43mmode\u001b[49m\u001b[43m,\u001b[49m\n\u001b[0;32m    789\u001b[0m \u001b[43m            \u001b[49m\u001b[43mencoding\u001b[49m\u001b[38;5;241;43m=\u001b[39;49m\u001b[43mioargs\u001b[49m\u001b[38;5;241;43m.\u001b[39;49m\u001b[43mencoding\u001b[49m\u001b[43m,\u001b[49m\n\u001b[0;32m    790\u001b[0m \u001b[43m            \u001b[49m\u001b[43merrors\u001b[49m\u001b[38;5;241;43m=\u001b[39;49m\u001b[43merrors\u001b[49m\u001b[43m,\u001b[49m\n\u001b[0;32m    791\u001b[0m \u001b[43m            \u001b[49m\u001b[43mnewline\u001b[49m\u001b[38;5;241;43m=\u001b[39;49m\u001b[38;5;124;43m\"\u001b[39;49m\u001b[38;5;124;43m\"\u001b[39;49m\u001b[43m,\u001b[49m\n\u001b[0;32m    792\u001b[0m \u001b[43m        \u001b[49m\u001b[43m)\u001b[49m\n\u001b[0;32m    793\u001b[0m     \u001b[38;5;28;01melse\u001b[39;00m:\n\u001b[0;32m    794\u001b[0m         \u001b[38;5;66;03m# Binary mode\u001b[39;00m\n\u001b[0;32m    795\u001b[0m         handle \u001b[38;5;241m=\u001b[39m \u001b[38;5;28mopen\u001b[39m(handle, ioargs\u001b[38;5;241m.\u001b[39mmode)\n",
      "\u001b[1;31mFileNotFoundError\u001b[0m: [Errno 2] No such file or directory: '../data/chipotle.tsv'"
     ]
    }
   ],
   "source": [
    "# 데이터 import 코드 구현\n",
    "import pandas as pd\n",
    "import numpy as np\n",
    "import matplotlib.pyplot as plt\n",
    "file_path = '../data/chipotle.tsv'\n",
    "chipo = pd.read_csv(file_path, sep = '\\t')"
   ]
  },
  {
   "cell_type": "markdown",
   "id": "1b501fde",
   "metadata": {},
   "source": [
    "## 데이터 원본 분석\n",
    "\n",
    "### 아래 내용을 확인하세요\n",
    "* 데이터 사이즈\n",
    "* 데이터 타입\n",
    "* 각 열의 의미 (열의 이름 및 데이터를 보고 팀원과 상의하여 분석)\n",
    "* 기타 확인하고 싶은 사항"
   ]
  },
  {
   "cell_type": "code",
   "execution_count": null,
   "id": "f6cf6b03",
   "metadata": {},
   "outputs": [],
   "source": [
    "# 코드 구현\n",
    "chipo.size, chipo.dtypes"
   ]
  },
  {
   "cell_type": "markdown",
   "id": "d426d58d",
   "metadata": {},
   "source": [
    "**각 열의 의미**\n",
    "* order_id : 주문자\n",
    "* quantity : 갯수\n",
    "* item_name  : 메뉴\n",
    "* choice_description : 주문사항\n",
    "* item_price : 가격"
   ]
  },
  {
   "cell_type": "markdown",
   "id": "a4650ada",
   "metadata": {},
   "source": [
    "### 원본 데이터 분석 후 학습한 사항"
   ]
  },
  {
   "cell_type": "markdown",
   "id": "0d69dddf",
   "metadata": {},
   "source": [
    "* 가격이 문자형 데이터이므로 전처리 필요"
   ]
  },
  {
   "cell_type": "markdown",
   "id": "1646788a",
   "metadata": {},
   "source": [
    "## 결측치, 이상치 점검\n",
    "* 누락된 값이 있는지 확인\n",
    "* 누락된 값을 다른 방식으로 표현하고 있는지도 확인. 예) -, NA, N/A 등\n",
    "* 이상치 점검. \n",
    "예) 수치형 데이터중 특이한 min, max값, 수치형 데이터에서 정규분포를 이루는 데이터중 Outlier, 선형데이터상에 중간에 빈 데이터"
   ]
  },
  {
   "cell_type": "code",
   "execution_count": null,
   "id": "cc1ea317",
   "metadata": {},
   "outputs": [],
   "source": [
    "# 코드 구현\n",
    "chipo.isnull().sum()"
   ]
  },
  {
   "cell_type": "markdown",
   "id": "93e23d59",
   "metadata": {},
   "source": [
    "## 결측치, 이상치 처리 방안 결정\n",
    " * 처리방안\n",
    " * 처리방안 이유"
   ]
  },
  {
   "cell_type": "raw",
   "id": "8a498e62",
   "metadata": {},
   "source": [
    "결측치 처리 관련  \n",
    "    * 방안 : 결측치를 문자데이터로 유지  \n",
    "    * 이유 : choice_description의 결측치는 추가 주문사항이 없을 때에 일어나는 데이터이기 때문에\n",
    "            주문사항이 없다고 표기할것  \n",
    "이상치 처리 관련\n",
    "    * 방안 : 이상치 처리하지 않는다\n",
    "    * 이유 : 이상치 존재하지 않음"
   ]
  },
  {
   "cell_type": "markdown",
   "id": "be5003ee",
   "metadata": {},
   "source": [
    "## 전처리 작업"
   ]
  },
  {
   "cell_type": "code",
   "execution_count": null,
   "id": "544c3328",
   "metadata": {},
   "outputs": [],
   "source": [
    "chipo['item_name']= chipo['item_name'].replace('-',' ')\n",
    "chipo['item_name'].unique()"
   ]
  },
  {
   "cell_type": "code",
   "execution_count": null,
   "id": "b9c78d44",
   "metadata": {},
   "outputs": [],
   "source": [
    "chipo['order_id'] = chipo['order_id'].astype(str)\n",
    "chipo['item_price'] = chipo['item_price'].str.strip('$').astype(float)"
   ]
  },
  {
   "cell_type": "code",
   "execution_count": null,
   "id": "d34c90be",
   "metadata": {},
   "outputs": [],
   "source": [
    "chipo.sort_values('item_price')"
   ]
  },
  {
   "cell_type": "code",
   "execution_count": null,
   "id": "82d4db85",
   "metadata": {},
   "outputs": [],
   "source": [
    "# 가격에 대한 이상치 확인\n",
    "plt.boxplot(chipo['item_price']/chipo['quantity'], vert = False)\n",
    "plt.show()\n",
    "# 이상치 존재하지 않음"
   ]
  },
  {
   "cell_type": "code",
   "execution_count": null,
   "id": "471d4dbe",
   "metadata": {},
   "outputs": [],
   "source": [
    "# 갯수에 대한 이상치 확인\n",
    "plt.boxplot(x=(chipo.groupby('order_id').sum())['quantity'], vert = False)\n",
    "plt.show()\n",
    "# 주문량 35로 많이 관측되었을 뿐 이상치로 처리하기 어려움"
   ]
  },
  {
   "cell_type": "code",
   "execution_count": null,
   "id": "c5a45a81",
   "metadata": {},
   "outputs": [],
   "source": [
    "# choice_description 결측치 전처리 코드\n",
    "chipo['choice_description'].fillna(\"[None]\",inplace=True)"
   ]
  },
  {
   "cell_type": "code",
   "execution_count": null,
   "id": "b1512b80",
   "metadata": {},
   "outputs": [],
   "source": [
    "chipo"
   ]
  },
  {
   "cell_type": "code",
   "execution_count": null,
   "id": "b99fb5a9",
   "metadata": {},
   "outputs": [],
   "source": [
    "chipo['item_name'].unique()"
   ]
  },
  {
   "cell_type": "markdown",
   "id": "3b2ce996",
   "metadata": {},
   "source": [
    "## 탐색적 데이터 분석"
   ]
  },
  {
   "cell_type": "markdown",
   "id": "48f50477",
   "metadata": {},
   "source": [
    "## 1차 탐색적 분석"
   ]
  },
  {
   "cell_type": "markdown",
   "id": "252ff8f5",
   "metadata": {},
   "source": [
    "### Step1\n",
    "데이터 분석의 목적, 대상 또는 가설을 세운다.\n",
    "* 판매량을 시각화하여 아이템 별 매출 순위를 얻는다.\n",
    "메뉴별 매출현황 분석 목적으로 메뉴,가격,갯수 열을 대상으로 함"
   ]
  },
  {
   "cell_type": "code",
   "execution_count": null,
   "id": "a81a48ef",
   "metadata": {},
   "outputs": [],
   "source": [
    "chipo_item = chipo['item_name'].value_counts()[:10]\n",
    "chipo_item"
   ]
  },
  {
   "cell_type": "code",
   "execution_count": null,
   "id": "46298692",
   "metadata": {},
   "outputs": [],
   "source": [
    "chipo_item_index = chipo_item.index"
   ]
  },
  {
   "cell_type": "code",
   "execution_count": null,
   "id": "14c91706",
   "metadata": {},
   "outputs": [],
   "source": [
    "# 메뉴 판매 비율 시각화\n",
    "plt.pie(chipo['item_name'].value_counts()[:10],labels=chipo_item_index, autopct='%.1f%%')\n",
    "plt.show()"
   ]
  },
  {
   "cell_type": "code",
   "execution_count": null,
   "id": "a5573ec9",
   "metadata": {
    "scrolled": true
   },
   "outputs": [],
   "source": [
    "#메뉴별 매출액 높은순위 10\n",
    "chipo_item_sales = chipo.groupby(chipo['item_name'])['item_price'].sum().to_frame()\n",
    "top = chipo_item_sales.sort_values('item_price', ascending=False)[:10]\n",
    "top"
   ]
  },
  {
   "cell_type": "code",
   "execution_count": null,
   "id": "be735597",
   "metadata": {},
   "outputs": [],
   "source": [
    "# 메뉴별 매출액 낮은순위 10\n",
    "worst = chipo_item_sales.sort_values('item_price')[:10]\n",
    "worst"
   ]
  },
  {
   "cell_type": "code",
   "execution_count": null,
   "id": "68313eb6",
   "metadata": {
    "scrolled": true
   },
   "outputs": [],
   "source": [
    "# 메뉴별 매출액 시각화\n",
    "import seaborn as sns\n",
    "idx = top.index\n",
    "colors = sns.color_palette('Set3',len(idx))\n",
    "top.plot.bar(y='item_price', color=colors)"
   ]
  },
  {
   "cell_type": "markdown",
   "id": "6103804a",
   "metadata": {},
   "source": [
    "### Step2\n",
    "데이터 재구조화\n",
    "매출이 낮은 메뉴를 제공하는 메뉴에서 제외한다."
   ]
  },
  {
   "cell_type": "code",
   "execution_count": null,
   "id": "4d9a8b46",
   "metadata": {},
   "outputs": [],
   "source": [
    "# 메뉴별 매출액 낮은순위 10\n",
    "worst = chipo_item_sales.sort_values('item_price')[:10]\n",
    "worst"
   ]
  },
  {
   "cell_type": "code",
   "execution_count": null,
   "id": "bcb04b6e",
   "metadata": {},
   "outputs": [],
   "source": [
    "# 메뉴에서 하위매출 아이템을 제외하는 목적의 가상 코드\n",
    "chipo_drop = chipo.copy()"
   ]
  },
  {
   "cell_type": "code",
   "execution_count": null,
   "id": "c997c60f",
   "metadata": {
    "scrolled": true
   },
   "outputs": [],
   "source": [
    "chipo_drop = chipo.copy()\n",
    "chipo_drop = chipo_drop.groupby('item_name')['item_price'].sum()\n",
    "chipo_drop"
   ]
  },
  {
   "cell_type": "code",
   "execution_count": null,
   "id": "a77e80ac",
   "metadata": {
    "scrolled": true
   },
   "outputs": [],
   "source": [
    "chipo_drop.drop(worst.index, axis=0)"
   ]
  },
  {
   "cell_type": "code",
   "execution_count": null,
   "id": "6f7ebee8",
   "metadata": {},
   "outputs": [],
   "source": [
    "# 가상그래프\n",
    "from matplotlib import font_manager,rc\n",
    "font_location = \"C:\\Windows\\Fonts\\malgun.ttf\"\n",
    "font_name = font_manager.FontProperties(fname=font_location).get_name()\n",
    "rc('font',family=font_name)\n",
    "plt.rcParams['axes.unicode_minus'] = False\n",
    "\n",
    "x = np.arange(start=0, stop=31, step=1)\n",
    "#y_linear = x \n",
    "y = -x**2 + 30*x\n",
    "\n",
    "#fn_linear = np.poly1d(np.polyfit(x, y_linear, deg=1))\n",
    "fn_quadratic = np.poly1d(np.polyfit(x, y_quadratic, deg=2))\n",
    "\n",
    "plt.plot(x,y, 'maroon', linewidth=3.)\n",
    "\n",
    "plt.xlabel('메뉴개수감소량')\n",
    "plt.ylabel('매출(%)')\n",
    "\n",
    "# x축, y축 표시 영역 범위 설정\n",
    "#plt.xlim((min(x)-1, max(x)+1))\n",
    "plt.xlim([0, 30])\n",
    "plt.ylim([0, 300])\n",
    "#plt.ylim((min(y_quadratic)-10, max(y_quadratic)+10))\n",
    "\n",
    "plt.show()"
   ]
  },
  {
   "cell_type": "raw",
   "id": "6b0f33cf",
   "metadata": {},
   "source": [
    "x = np.arange(-5,6)\n",
    "y = 0.2*x**2\n",
    "plt.plot(x,-y)\n",
    "\n",
    "plt.xlim([-5, 5])\n",
    "plt.ylim([-20, 10])\n",
    "plt.show()"
   ]
  },
  {
   "cell_type": "markdown",
   "id": "1ac78263",
   "metadata": {},
   "source": [
    "---"
   ]
  },
  {
   "cell_type": "markdown",
   "id": "43b3e2df",
   "metadata": {},
   "source": [
    "### Step1과 Step2를 반복하며 내용을 정리하세요."
   ]
  },
  {
   "cell_type": "markdown",
   "id": "4af08a5f",
   "metadata": {},
   "source": [
    "## 2차 탐색적 데이터 분석"
   ]
  },
  {
   "cell_type": "markdown",
   "id": "a5363177",
   "metadata": {},
   "source": [
    "## 3차 탐색적 데이터 분석"
   ]
  },
  {
   "cell_type": "markdown",
   "id": "8672f76b",
   "metadata": {},
   "source": [
    "## 최종결론\n",
    "지금까지 학습한 정보를 토대로 최종 결론을 내려보세요."
   ]
  }
 ],
 "metadata": {
  "kernelspec": {
   "display_name": "Python 3 (ipykernel)",
   "language": "python",
   "name": "python3"
  },
  "language_info": {
   "codemirror_mode": {
    "name": "ipython",
    "version": 3
   },
   "file_extension": ".py",
   "mimetype": "text/x-python",
   "name": "python",
   "nbconvert_exporter": "python",
   "pygments_lexer": "ipython3",
   "version": "3.9.13"
  }
 },
 "nbformat": 4,
 "nbformat_minor": 5
}
