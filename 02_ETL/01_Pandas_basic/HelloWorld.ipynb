{
 "cells": [
  {
   "cell_type": "code",
   "execution_count": 20,
   "id": "90596f6c",
   "metadata": {},
   "outputs": [
    {
     "name": "stdout",
     "output_type": "stream",
     "text": [
      "Jupyter 테스트1\n"
     ]
    }
   ],
   "source": [
    "print(\"Jupyter 테스트1\")"
   ]
  },
  {
   "cell_type": "code",
   "execution_count": 21,
   "id": "2db52236",
   "metadata": {},
   "outputs": [
    {
     "name": "stdout",
     "output_type": "stream",
     "text": [
      "프로그램 실행 준비\n",
      "첫 번째 수를 입력하세요100\n"
     ]
    }
   ],
   "source": [
    "# A키는 현재 셀의 위에서 새로운 셀을 만든다.\n",
    "print(\"프로그램 실행 준비\")\n",
    "\n",
    "num1 = int(input(\"첫 번째 수를 입력하세요\"))\n",
    "# B키는 현재 셀의 아래에서 새로운 셀을 만든다."
   ]
  },
  {
   "cell_type": "code",
   "execution_count": 22,
   "id": "37d02914",
   "metadata": {},
   "outputs": [
    {
     "data": {
      "text/plain": [
       "100"
      ]
     },
     "execution_count": 22,
     "metadata": {},
     "output_type": "execute_result"
    }
   ],
   "source": [
    "num1"
   ]
  },
  {
   "cell_type": "code",
   "execution_count": 23,
   "id": "3e8bbb46",
   "metadata": {},
   "outputs": [
    {
     "data": {
      "text/plain": [
       "int"
      ]
     },
     "execution_count": 23,
     "metadata": {},
     "output_type": "execute_result"
    }
   ],
   "source": [
    "type(num1)"
   ]
  },
  {
   "cell_type": "code",
   "execution_count": 24,
   "id": "c349320e",
   "metadata": {},
   "outputs": [
    {
     "name": "stdout",
     "output_type": "stream",
     "text": [
      "두 번째 수를 입력하세요200\n"
     ]
    }
   ],
   "source": [
    "num2 = int(input(\"두 번째 수를 입력하세요\"))"
   ]
  },
  {
   "cell_type": "code",
   "execution_count": 25,
   "id": "6aa214bd",
   "metadata": {},
   "outputs": [
    {
     "data": {
      "text/plain": [
       "200"
      ]
     },
     "execution_count": 25,
     "metadata": {},
     "output_type": "execute_result"
    }
   ],
   "source": [
    "num2"
   ]
  },
  {
   "cell_type": "code",
   "execution_count": 26,
   "id": "2957d4f6",
   "metadata": {},
   "outputs": [
    {
     "data": {
      "text/plain": [
       "300"
      ]
     },
     "execution_count": 26,
     "metadata": {},
     "output_type": "execute_result"
    }
   ],
   "source": [
    "num1+num2"
   ]
  },
  {
   "cell_type": "code",
   "execution_count": 19,
   "id": "48f70bcb",
   "metadata": {},
   "outputs": [
    {
     "name": "stdout",
     "output_type": "stream",
     "text": [
      "Jupyter 테스트1\n",
      "프로그램 실행 준비\n",
      "첫 번째 수를 입력하세요100\n",
      "두 번째 수를 입력하세요200\n"
     ]
    },
    {
     "data": {
      "text/plain": [
       "300"
      ]
     },
     "execution_count": 19,
     "metadata": {},
     "output_type": "execute_result"
    }
   ],
   "source": [
    "print(\"Jupyter 테스트1\")\n",
    "# A키는 현재 셀의 위에서 새로운 셀을 만든다.\n",
    "print(\"프로그램 실행 준비\")\n",
    "\n",
    "num1 = int(input(\"첫 번째 수를 입력하세요\"))\n",
    "# B키는 현재 셀의 아래에서 새로운 셀을 만든다.\n",
    "num2 = int(input(\"두 번째 수를 입력하세요\"))\n",
    "num1+num2"
   ]
  }
 ],
 "metadata": {
  "kernelspec": {
   "display_name": "Python 3 (ipykernel)",
   "language": "python",
   "name": "python3"
  },
  "language_info": {
   "codemirror_mode": {
    "name": "ipython",
    "version": 3
   },
   "file_extension": ".py",
   "mimetype": "text/x-python",
   "name": "python",
   "nbconvert_exporter": "python",
   "pygments_lexer": "ipython3",
   "version": "3.9.13"
  }
 },
 "nbformat": 4,
 "nbformat_minor": 5
}
