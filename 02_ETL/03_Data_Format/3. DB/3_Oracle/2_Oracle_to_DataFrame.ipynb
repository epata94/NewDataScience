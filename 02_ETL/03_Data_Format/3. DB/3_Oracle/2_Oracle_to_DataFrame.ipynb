{
 "cells": [
  {
   "cell_type": "code",
   "execution_count": 2,
   "id": "70c00776",
   "metadata": {},
   "outputs": [],
   "source": [
    "import cx_Oracle\n",
    "import pandas as pd"
   ]
  },
  {
   "cell_type": "code",
   "execution_count": 7,
   "id": "651745c8",
   "metadata": {},
   "outputs": [],
   "source": [
    "# conn = cx_Oracle.connect('open_source/1111@192.168.0.78:1521/xe')\n",
    "conn = cx_Oracle.connect('hr/hr@192.168.0.78:1521/xe')"
   ]
  },
  {
   "cell_type": "code",
   "execution_count": 8,
   "id": "74e41fd7",
   "metadata": {},
   "outputs": [
    {
     "data": {
      "text/plain": [
       "<cx_Oracle.Cursor on <cx_Oracle.Connection to hr@192.168.0.78:1521/xe>>"
      ]
     },
     "execution_count": 8,
     "metadata": {},
     "output_type": "execute_result"
    }
   ],
   "source": [
    "cur = conn.cursor()\n",
    "cur.execute(\"\"\"\n",
    "select * from employees\n",
    "\"\"\")"
   ]
  },
  {
   "cell_type": "code",
   "execution_count": 9,
   "id": "5feab82d",
   "metadata": {},
   "outputs": [
    {
     "data": {
      "text/html": [
       "<div>\n",
       "<style scoped>\n",
       "    .dataframe tbody tr th:only-of-type {\n",
       "        vertical-align: middle;\n",
       "    }\n",
       "\n",
       "    .dataframe tbody tr th {\n",
       "        vertical-align: top;\n",
       "    }\n",
       "\n",
       "    .dataframe thead th {\n",
       "        text-align: right;\n",
       "    }\n",
       "</style>\n",
       "<table border=\"1\" class=\"dataframe\">\n",
       "  <thead>\n",
       "    <tr style=\"text-align: right;\">\n",
       "      <th></th>\n",
       "      <th>0</th>\n",
       "      <th>1</th>\n",
       "      <th>2</th>\n",
       "      <th>3</th>\n",
       "      <th>4</th>\n",
       "      <th>5</th>\n",
       "      <th>6</th>\n",
       "      <th>7</th>\n",
       "      <th>8</th>\n",
       "      <th>9</th>\n",
       "      <th>10</th>\n",
       "    </tr>\n",
       "  </thead>\n",
       "  <tbody>\n",
       "    <tr>\n",
       "      <th>0</th>\n",
       "      <td>100</td>\n",
       "      <td>Steven</td>\n",
       "      <td>King</td>\n",
       "      <td>SKING</td>\n",
       "      <td>515.123.4567</td>\n",
       "      <td>2003-06-17</td>\n",
       "      <td>AD_PRES</td>\n",
       "      <td>24000.0</td>\n",
       "      <td>NaN</td>\n",
       "      <td>NaN</td>\n",
       "      <td>90.0</td>\n",
       "    </tr>\n",
       "    <tr>\n",
       "      <th>1</th>\n",
       "      <td>101</td>\n",
       "      <td>Neena</td>\n",
       "      <td>Kochhar</td>\n",
       "      <td>NKOCHHAR</td>\n",
       "      <td>515.123.4568</td>\n",
       "      <td>2005-09-21</td>\n",
       "      <td>AD_VP</td>\n",
       "      <td>17000.0</td>\n",
       "      <td>NaN</td>\n",
       "      <td>100.0</td>\n",
       "      <td>90.0</td>\n",
       "    </tr>\n",
       "    <tr>\n",
       "      <th>2</th>\n",
       "      <td>102</td>\n",
       "      <td>Lex</td>\n",
       "      <td>De Haan</td>\n",
       "      <td>LDEHAAN</td>\n",
       "      <td>515.123.4569</td>\n",
       "      <td>2001-01-13</td>\n",
       "      <td>AD_VP</td>\n",
       "      <td>17000.0</td>\n",
       "      <td>NaN</td>\n",
       "      <td>100.0</td>\n",
       "      <td>90.0</td>\n",
       "    </tr>\n",
       "    <tr>\n",
       "      <th>3</th>\n",
       "      <td>103</td>\n",
       "      <td>Alexander</td>\n",
       "      <td>Hunold</td>\n",
       "      <td>AHUNOLD</td>\n",
       "      <td>590.423.4567</td>\n",
       "      <td>2006-01-03</td>\n",
       "      <td>IT_PROG</td>\n",
       "      <td>9000.0</td>\n",
       "      <td>NaN</td>\n",
       "      <td>102.0</td>\n",
       "      <td>60.0</td>\n",
       "    </tr>\n",
       "    <tr>\n",
       "      <th>4</th>\n",
       "      <td>104</td>\n",
       "      <td>Bruce</td>\n",
       "      <td>Ernst</td>\n",
       "      <td>BERNST</td>\n",
       "      <td>590.423.4568</td>\n",
       "      <td>2007-05-21</td>\n",
       "      <td>IT_PROG</td>\n",
       "      <td>6000.0</td>\n",
       "      <td>NaN</td>\n",
       "      <td>103.0</td>\n",
       "      <td>60.0</td>\n",
       "    </tr>\n",
       "    <tr>\n",
       "      <th>...</th>\n",
       "      <td>...</td>\n",
       "      <td>...</td>\n",
       "      <td>...</td>\n",
       "      <td>...</td>\n",
       "      <td>...</td>\n",
       "      <td>...</td>\n",
       "      <td>...</td>\n",
       "      <td>...</td>\n",
       "      <td>...</td>\n",
       "      <td>...</td>\n",
       "      <td>...</td>\n",
       "    </tr>\n",
       "    <tr>\n",
       "      <th>102</th>\n",
       "      <td>202</td>\n",
       "      <td>Pat</td>\n",
       "      <td>Fay</td>\n",
       "      <td>PFAY</td>\n",
       "      <td>603.123.6666</td>\n",
       "      <td>2005-08-17</td>\n",
       "      <td>MK_REP</td>\n",
       "      <td>6000.0</td>\n",
       "      <td>NaN</td>\n",
       "      <td>201.0</td>\n",
       "      <td>20.0</td>\n",
       "    </tr>\n",
       "    <tr>\n",
       "      <th>103</th>\n",
       "      <td>203</td>\n",
       "      <td>Susan</td>\n",
       "      <td>Mavris</td>\n",
       "      <td>SMAVRIS</td>\n",
       "      <td>515.123.7777</td>\n",
       "      <td>2002-06-07</td>\n",
       "      <td>HR_REP</td>\n",
       "      <td>6500.0</td>\n",
       "      <td>NaN</td>\n",
       "      <td>101.0</td>\n",
       "      <td>40.0</td>\n",
       "    </tr>\n",
       "    <tr>\n",
       "      <th>104</th>\n",
       "      <td>204</td>\n",
       "      <td>Hermann</td>\n",
       "      <td>Baer</td>\n",
       "      <td>HBAER</td>\n",
       "      <td>515.123.8888</td>\n",
       "      <td>2002-06-07</td>\n",
       "      <td>PR_REP</td>\n",
       "      <td>10000.0</td>\n",
       "      <td>NaN</td>\n",
       "      <td>101.0</td>\n",
       "      <td>70.0</td>\n",
       "    </tr>\n",
       "    <tr>\n",
       "      <th>105</th>\n",
       "      <td>205</td>\n",
       "      <td>Shelley</td>\n",
       "      <td>Higgins</td>\n",
       "      <td>SHIGGINS</td>\n",
       "      <td>515.123.8080</td>\n",
       "      <td>2002-06-07</td>\n",
       "      <td>AC_MGR</td>\n",
       "      <td>12008.0</td>\n",
       "      <td>NaN</td>\n",
       "      <td>101.0</td>\n",
       "      <td>110.0</td>\n",
       "    </tr>\n",
       "    <tr>\n",
       "      <th>106</th>\n",
       "      <td>206</td>\n",
       "      <td>William</td>\n",
       "      <td>Gietz</td>\n",
       "      <td>WGIETZ</td>\n",
       "      <td>515.123.8181</td>\n",
       "      <td>2002-06-07</td>\n",
       "      <td>AC_ACCOUNT</td>\n",
       "      <td>8300.0</td>\n",
       "      <td>NaN</td>\n",
       "      <td>205.0</td>\n",
       "      <td>110.0</td>\n",
       "    </tr>\n",
       "  </tbody>\n",
       "</table>\n",
       "<p>107 rows × 11 columns</p>\n",
       "</div>"
      ],
      "text/plain": [
       "      0          1        2         3             4          5           6   \\\n",
       "0    100     Steven     King     SKING  515.123.4567 2003-06-17     AD_PRES   \n",
       "1    101      Neena  Kochhar  NKOCHHAR  515.123.4568 2005-09-21       AD_VP   \n",
       "2    102        Lex  De Haan   LDEHAAN  515.123.4569 2001-01-13       AD_VP   \n",
       "3    103  Alexander   Hunold   AHUNOLD  590.423.4567 2006-01-03     IT_PROG   \n",
       "4    104      Bruce    Ernst    BERNST  590.423.4568 2007-05-21     IT_PROG   \n",
       "..   ...        ...      ...       ...           ...        ...         ...   \n",
       "102  202        Pat      Fay      PFAY  603.123.6666 2005-08-17      MK_REP   \n",
       "103  203      Susan   Mavris   SMAVRIS  515.123.7777 2002-06-07      HR_REP   \n",
       "104  204    Hermann     Baer     HBAER  515.123.8888 2002-06-07      PR_REP   \n",
       "105  205    Shelley  Higgins  SHIGGINS  515.123.8080 2002-06-07      AC_MGR   \n",
       "106  206    William    Gietz    WGIETZ  515.123.8181 2002-06-07  AC_ACCOUNT   \n",
       "\n",
       "          7   8      9      10  \n",
       "0    24000.0 NaN    NaN   90.0  \n",
       "1    17000.0 NaN  100.0   90.0  \n",
       "2    17000.0 NaN  100.0   90.0  \n",
       "3     9000.0 NaN  102.0   60.0  \n",
       "4     6000.0 NaN  103.0   60.0  \n",
       "..       ...  ..    ...    ...  \n",
       "102   6000.0 NaN  201.0   20.0  \n",
       "103   6500.0 NaN  101.0   40.0  \n",
       "104  10000.0 NaN  101.0   70.0  \n",
       "105  12008.0 NaN  101.0  110.0  \n",
       "106   8300.0 NaN  205.0  110.0  \n",
       "\n",
       "[107 rows x 11 columns]"
      ]
     },
     "execution_count": 9,
     "metadata": {},
     "output_type": "execute_result"
    }
   ],
   "source": [
    "df = pd.DataFrame(cur)\n",
    "df"
   ]
  },
  {
   "cell_type": "code",
   "execution_count": 2,
   "id": "88c0fddf",
   "metadata": {},
   "outputs": [
    {
     "data": {
      "text/plain": [
       "<cx_Oracle.Cursor on <cx_Oracle.Connection to open_source@localhost:1521/xe>>"
      ]
     },
     "execution_count": 2,
     "metadata": {},
     "output_type": "execute_result"
    }
   ],
   "source": [
    "conn = cx_Oracle.connect('open_source/1111@localhost:1521/xe')\n",
    "cur = conn.cursor()\n",
    "cur.execute(\"\"\"\n",
    "SELECT column_name from cols\n",
    "where table_name = 'MUSEUM'\n",
    "\"\"\")"
   ]
  },
  {
   "cell_type": "code",
   "execution_count": 3,
   "id": "7f8a9589",
   "metadata": {},
   "outputs": [
    {
     "data": {
      "text/plain": [
       "['시설명',\n",
       " '박물관미술관구분',\n",
       " '소재지도로명주소',\n",
       " '위도',\n",
       " '경도',\n",
       " '운영기관명',\n",
       " '편의시설정보',\n",
       " '어른관람료',\n",
       " '청소년관람료',\n",
       " '어린이관람료',\n",
       " '제공기관코드']"
      ]
     },
     "execution_count": 3,
     "metadata": {},
     "output_type": "execute_result"
    }
   ],
   "source": [
    "column_list = [record[0] for record in cur]\n",
    "column_list"
   ]
  },
  {
   "cell_type": "code",
   "execution_count": 6,
   "id": "dc2d8a0d",
   "metadata": {},
   "outputs": [
    {
     "data": {
      "text/html": [
       "<div>\n",
       "<style scoped>\n",
       "    .dataframe tbody tr th:only-of-type {\n",
       "        vertical-align: middle;\n",
       "    }\n",
       "\n",
       "    .dataframe tbody tr th {\n",
       "        vertical-align: top;\n",
       "    }\n",
       "\n",
       "    .dataframe thead th {\n",
       "        text-align: right;\n",
       "    }\n",
       "</style>\n",
       "<table border=\"1\" class=\"dataframe\">\n",
       "  <thead>\n",
       "    <tr style=\"text-align: right;\">\n",
       "      <th></th>\n",
       "      <th>시설명</th>\n",
       "      <th>박물관미술관구분</th>\n",
       "      <th>소재지도로명주소</th>\n",
       "      <th>위도</th>\n",
       "      <th>경도</th>\n",
       "      <th>운영기관명</th>\n",
       "      <th>편의시설정보</th>\n",
       "      <th>어른관람료</th>\n",
       "      <th>청소년관람료</th>\n",
       "      <th>어린이관람료</th>\n",
       "      <th>제공기관코드</th>\n",
       "    </tr>\n",
       "  </thead>\n",
       "  <tbody>\n",
       "    <tr>\n",
       "      <th>0</th>\n",
       "      <td>김영갑갤러리 (두모악)</td>\n",
       "      <td>사립</td>\n",
       "      <td>제주특별자치도 서귀포시 성산읍 삼달로 137</td>\n",
       "      <td>33.372368</td>\n",
       "      <td>126.854246</td>\n",
       "      <td>두모악</td>\n",
       "      <td>None</td>\n",
       "      <td>4500</td>\n",
       "      <td>3000</td>\n",
       "      <td>1500</td>\n",
       "      <td>6500000</td>\n",
       "    </tr>\n",
       "    <tr>\n",
       "      <th>1</th>\n",
       "      <td>자연사랑 미술관</td>\n",
       "      <td>사립</td>\n",
       "      <td>제주특별자치도 서귀포시 표선면 가시로613번길 46</td>\n",
       "      <td>33.355650</td>\n",
       "      <td>126.771933</td>\n",
       "      <td>자연사랑</td>\n",
       "      <td>None</td>\n",
       "      <td>3000</td>\n",
       "      <td>1000</td>\n",
       "      <td>0</td>\n",
       "      <td>6500000</td>\n",
       "    </tr>\n",
       "    <tr>\n",
       "      <th>2</th>\n",
       "      <td>제주 현대미술관</td>\n",
       "      <td>공립</td>\n",
       "      <td>제주특별자치도 제주시 한경면 저지14길 35</td>\n",
       "      <td>33.339693</td>\n",
       "      <td>126.265692</td>\n",
       "      <td>제주 현대미술관</td>\n",
       "      <td>None</td>\n",
       "      <td>2000</td>\n",
       "      <td>1000</td>\n",
       "      <td>500</td>\n",
       "      <td>6500000</td>\n",
       "    </tr>\n",
       "    <tr>\n",
       "      <th>3</th>\n",
       "      <td>돌하르방미술관</td>\n",
       "      <td>사립</td>\n",
       "      <td>제주특별자치도 제주시 조천읍 북촌서1길 70</td>\n",
       "      <td>33.538848</td>\n",
       "      <td>126.688812</td>\n",
       "      <td>북촌돌하르방공원</td>\n",
       "      <td>None</td>\n",
       "      <td>7000</td>\n",
       "      <td>5000</td>\n",
       "      <td>0</td>\n",
       "      <td>6500000</td>\n",
       "    </tr>\n",
       "    <tr>\n",
       "      <th>4</th>\n",
       "      <td>제주조각공원</td>\n",
       "      <td>사립</td>\n",
       "      <td>제주특별자치도 서귀포시 안덕면 일주서로 1836</td>\n",
       "      <td>33.254130</td>\n",
       "      <td>126.322287</td>\n",
       "      <td>제주조각공원</td>\n",
       "      <td>None</td>\n",
       "      <td>8000</td>\n",
       "      <td>6000</td>\n",
       "      <td>5000</td>\n",
       "      <td>6500000</td>\n",
       "    </tr>\n",
       "  </tbody>\n",
       "</table>\n",
       "</div>"
      ],
      "text/plain": [
       "            시설명 박물관미술관구분                      소재지도로명주소         위도          경도  \\\n",
       "0  김영갑갤러리 (두모악)       사립      제주특별자치도 서귀포시 성산읍 삼달로 137  33.372368  126.854246   \n",
       "1      자연사랑 미술관       사립  제주특별자치도 서귀포시 표선면 가시로613번길 46  33.355650  126.771933   \n",
       "2      제주 현대미술관       공립      제주특별자치도 제주시 한경면 저지14길 35  33.339693  126.265692   \n",
       "3       돌하르방미술관       사립      제주특별자치도 제주시 조천읍 북촌서1길 70  33.538848  126.688812   \n",
       "4        제주조각공원       사립    제주특별자치도 서귀포시 안덕면 일주서로 1836  33.254130  126.322287   \n",
       "\n",
       "      운영기관명 편의시설정보  어른관람료  청소년관람료  어린이관람료   제공기관코드  \n",
       "0       두모악   None   4500    3000    1500  6500000  \n",
       "1      자연사랑   None   3000    1000       0  6500000  \n",
       "2  제주 현대미술관   None   2000    1000     500  6500000  \n",
       "3  북촌돌하르방공원   None   7000    5000       0  6500000  \n",
       "4    제주조각공원   None   8000    6000    5000  6500000  "
      ]
     },
     "execution_count": 6,
     "metadata": {},
     "output_type": "execute_result"
    }
   ],
   "source": [
    "cur.execute('select * from museum')\n",
    "df = pd.DataFrame(cur, columns=column_list)\n",
    "df.head()"
   ]
  },
  {
   "cell_type": "code",
   "execution_count": 8,
   "id": "04c94cf6",
   "metadata": {},
   "outputs": [
    {
     "name": "stdout",
     "output_type": "stream",
     "text": [
      "<class 'pandas.core.frame.DataFrame'>\n",
      "RangeIndex: 2079 entries, 0 to 2078\n",
      "Data columns (total 11 columns):\n",
      " #   Column    Non-Null Count  Dtype  \n",
      "---  ------    --------------  -----  \n",
      " 0   시설명       2079 non-null   object \n",
      " 1   박물관미술관구분  2079 non-null   object \n",
      " 2   소재지도로명주소  2078 non-null   object \n",
      " 3   위도        2079 non-null   float64\n",
      " 4   경도        2078 non-null   float64\n",
      " 5   운영기관명     2079 non-null   object \n",
      " 6   편의시설정보    404 non-null    object \n",
      " 7   어른관람료     2079 non-null   int64  \n",
      " 8   청소년관람료    2079 non-null   int64  \n",
      " 9   어린이관람료    2079 non-null   int64  \n",
      " 10  제공기관코드    2079 non-null   object \n",
      "dtypes: float64(2), int64(3), object(6)\n",
      "memory usage: 1.1 MB\n"
     ]
    }
   ],
   "source": [
    "df.info(memory_usage=\"deep\")"
   ]
  },
  {
   "cell_type": "code",
   "execution_count": 7,
   "id": "338aff64",
   "metadata": {},
   "outputs": [
    {
     "data": {
      "text/plain": [
       "Index          128\n",
       "시설명         203614\n",
       "박물관미술관구분    178794\n",
       "소재지도로명주소    256286\n",
       "위도           16632\n",
       "경도           16632\n",
       "운영기관명       202371\n",
       "편의시설정보       83392\n",
       "어른관람료        16632\n",
       "청소년관람료       16632\n",
       "어린이관람료       16632\n",
       "제공기관코드      133056\n",
       "dtype: int64"
      ]
     },
     "execution_count": 7,
     "metadata": {},
     "output_type": "execute_result"
    }
   ],
   "source": [
    "df.memory_usage(deep=True)"
   ]
  },
  {
   "cell_type": "code",
   "execution_count": 9,
   "id": "352eb4c7",
   "metadata": {},
   "outputs": [],
   "source": [
    "del df"
   ]
  },
  {
   "cell_type": "code",
   "execution_count": null,
   "id": "2a2db26e",
   "metadata": {},
   "outputs": [],
   "source": []
  },
  {
   "cell_type": "markdown",
   "id": "8e4de080",
   "metadata": {},
   "source": [
    "---"
   ]
  },
  {
   "cell_type": "markdown",
   "id": "549eb27e",
   "metadata": {},
   "source": [
    "## Selection and Projection Query"
   ]
  },
  {
   "cell_type": "code",
   "execution_count": 11,
   "id": "079c5df5",
   "metadata": {},
   "outputs": [
    {
     "data": {
      "text/plain": [
       "<cx_Oracle.Cursor on <cx_Oracle.Connection to open_source@localhost:1521/xe>>"
      ]
     },
     "execution_count": 11,
     "metadata": {},
     "output_type": "execute_result"
    }
   ],
   "source": [
    "cur.execute(\"\"\"\n",
    "SELECT 시설명, 박물관미술관구분,청소년관람료\n",
    "from museum\n",
    "where 청소년관람료 > 1500\n",
    "\"\"\")"
   ]
  },
  {
   "cell_type": "code",
   "execution_count": 12,
   "id": "74aaa9bf",
   "metadata": {},
   "outputs": [
    {
     "name": "stdout",
     "output_type": "stream",
     "text": [
      "Selection and Projection Query\n"
     ]
    },
    {
     "data": {
      "text/html": [
       "<div>\n",
       "<style scoped>\n",
       "    .dataframe tbody tr th:only-of-type {\n",
       "        vertical-align: middle;\n",
       "    }\n",
       "\n",
       "    .dataframe tbody tr th {\n",
       "        vertical-align: top;\n",
       "    }\n",
       "\n",
       "    .dataframe thead th {\n",
       "        text-align: right;\n",
       "    }\n",
       "</style>\n",
       "<table border=\"1\" class=\"dataframe\">\n",
       "  <thead>\n",
       "    <tr style=\"text-align: right;\">\n",
       "      <th></th>\n",
       "      <th>시설명</th>\n",
       "      <th>박물관미술관구분</th>\n",
       "      <th>청소년관람료</th>\n",
       "    </tr>\n",
       "  </thead>\n",
       "  <tbody>\n",
       "    <tr>\n",
       "      <th>0</th>\n",
       "      <td>김영갑갤러리 (두모악)</td>\n",
       "      <td>사립</td>\n",
       "      <td>3000</td>\n",
       "    </tr>\n",
       "    <tr>\n",
       "      <th>1</th>\n",
       "      <td>돌하르방미술관</td>\n",
       "      <td>사립</td>\n",
       "      <td>5000</td>\n",
       "    </tr>\n",
       "    <tr>\n",
       "      <th>2</th>\n",
       "      <td>제주조각공원</td>\n",
       "      <td>사립</td>\n",
       "      <td>6000</td>\n",
       "    </tr>\n",
       "    <tr>\n",
       "      <th>3</th>\n",
       "      <td>제주 유리의 성</td>\n",
       "      <td>사립</td>\n",
       "      <td>9000</td>\n",
       "    </tr>\n",
       "    <tr>\n",
       "      <th>4</th>\n",
       "      <td>박물관은살아있다</td>\n",
       "      <td>사립</td>\n",
       "      <td>13000</td>\n",
       "    </tr>\n",
       "  </tbody>\n",
       "</table>\n",
       "</div>"
      ],
      "text/plain": [
       "            시설명 박물관미술관구분  청소년관람료\n",
       "0  김영갑갤러리 (두모악)       사립    3000\n",
       "1       돌하르방미술관       사립    5000\n",
       "2        제주조각공원       사립    6000\n",
       "3      제주 유리의 성       사립    9000\n",
       "4      박물관은살아있다       사립   13000"
      ]
     },
     "execution_count": 12,
     "metadata": {},
     "output_type": "execute_result"
    }
   ],
   "source": [
    "print(\"Selection and Projection Query\")\n",
    "df = pd.DataFrame(cur, columns=['시설명', '박물관미술관구분','청소년관람료'])\n",
    "df.head()"
   ]
  },
  {
   "cell_type": "code",
   "execution_count": 13,
   "id": "5c29b14b",
   "metadata": {},
   "outputs": [
    {
     "name": "stdout",
     "output_type": "stream",
     "text": [
      "<class 'pandas.core.frame.DataFrame'>\n",
      "RangeIndex: 562 entries, 0 to 561\n",
      "Data columns (total 3 columns):\n",
      " #   Column    Non-Null Count  Dtype \n",
      "---  ------    --------------  ----- \n",
      " 0   시설명       562 non-null    object\n",
      " 1   박물관미술관구분  562 non-null    object\n",
      " 2   청소년관람료    562 non-null    int64 \n",
      "dtypes: int64(1), object(2)\n",
      "memory usage: 105.3 KB\n"
     ]
    }
   ],
   "source": [
    "df.info(memory_usage=\"deep\")"
   ]
  },
  {
   "cell_type": "code",
   "execution_count": null,
   "id": "a965b09a",
   "metadata": {},
   "outputs": [],
   "source": []
  }
 ],
 "metadata": {
  "kernelspec": {
   "display_name": "Python 3 (ipykernel)",
   "language": "python",
   "name": "python3"
  },
  "language_info": {
   "codemirror_mode": {
    "name": "ipython",
    "version": 3
   },
   "file_extension": ".py",
   "mimetype": "text/x-python",
   "name": "python",
   "nbconvert_exporter": "python",
   "pygments_lexer": "ipython3",
   "version": "3.9.13"
  }
 },
 "nbformat": 4,
 "nbformat_minor": 5
}
