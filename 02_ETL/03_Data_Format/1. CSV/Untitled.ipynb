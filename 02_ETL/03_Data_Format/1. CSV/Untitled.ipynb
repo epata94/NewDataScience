{
 "cells": [
  {
   "cell_type": "code",
   "execution_count": 3,
   "id": "99c3f52e",
   "metadata": {},
   "outputs": [
    {
     "data": {
      "text/plain": [
       "0    10139.0\n",
       "dtype: float64"
      ]
     },
     "execution_count": 3,
     "metadata": {},
     "output_type": "execute_result"
    }
   ],
   "source": [
    "import pandas as pd\n",
    "import glob\n",
    "import os\n",
    "import sys\n",
    "\n",
    "input_path = 'sales_march_2014.csv'\n",
    "\n",
    "data_frame = pd.read_csv(input_file, index_col=None)\n",
    "\n",
    "total_sales = pd.DataFrame([float(str(value).strip('$').replace(',','')) for value in data_frame.loc[:, 'Sale Amount']]).sum()\n",
    "total_sales"
   ]
  },
  {
   "cell_type": "code",
   "execution_count": 1,
   "id": "385403a7",
   "metadata": {},
   "outputs": [],
   "source": [
    "\n",
    "average_sales = pd.DataFrame([float(str(value).strip('$').replace(',','')) \\\n",
    "\tfor value in data_frame.loc[:, 'Sale Amount']]).mean()\n",
    "\n",
    "\t"
   ]
  }
 ],
 "metadata": {
  "kernelspec": {
   "display_name": "Python 3 (ipykernel)",
   "language": "python",
   "name": "python3"
  },
  "language_info": {
   "codemirror_mode": {
    "name": "ipython",
    "version": 3
   },
   "file_extension": ".py",
   "mimetype": "text/x-python",
   "name": "python",
   "nbconvert_exporter": "python",
   "pygments_lexer": "ipython3",
   "version": "3.9.13"
  }
 },
 "nbformat": 4,
 "nbformat_minor": 5
}
