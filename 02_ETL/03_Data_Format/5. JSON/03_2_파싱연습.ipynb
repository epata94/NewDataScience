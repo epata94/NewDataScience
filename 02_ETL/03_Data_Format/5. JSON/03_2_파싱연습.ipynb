{
 "cells": [
  {
   "cell_type": "markdown",
   "id": "462da9c1",
   "metadata": {},
   "source": [
    "## 연습문제] student_zero2.json을 읽어서 DataFrame으로 변형하세요."
   ]
  },
  {
   "cell_type": "code",
   "execution_count": 4,
   "id": "bb3aa80f",
   "metadata": {},
   "outputs": [],
   "source": [
    "data = { \"response\": {\"body\":  { \"student_list\": [ {\"age\": 45, \"major\": \"경영학\", \"name\": \"영호\",\"sex\": \"남\" }, { \"age\": 30, \"major\": \"정치외교\", \"name\": \"세중\", \"sex\": \"남\" }, {    \"age\": 30, \"major\": \"신문방송학\", \"name\": \"치우\",  \"sex\": \"남\"  }  ]        }    }}"
   ]
  },
  {
   "cell_type": "code",
   "execution_count": 7,
   "id": "1e6f1185",
   "metadata": {},
   "outputs": [
    {
     "data": {
      "text/plain": [
       "dict"
      ]
     },
     "execution_count": 7,
     "metadata": {},
     "output_type": "execute_result"
    }
   ],
   "source": [
    "type(data)"
   ]
  },
  {
   "cell_type": "code",
   "execution_count": 11,
   "id": "7a194e14",
   "metadata": {},
   "outputs": [],
   "source": [
    "column_list=[]\n",
    "all_data=[]\n",
    "student_list = data['response'] ['body']['student_list']"
   ]
  },
  {
   "cell_type": "code",
   "execution_count": 12,
   "id": "6193052b",
   "metadata": {},
   "outputs": [
    {
     "data": {
      "text/plain": [
       "[{'age': 45, 'major': '경영학', 'name': '영호', 'sex': '남'},\n",
       " {'age': 30, 'major': '정치외교', 'name': '세중', 'sex': '남'},\n",
       " {'age': 30, 'major': '신문방송학', 'name': '치우', 'sex': '남'}]"
      ]
     },
     "execution_count": 12,
     "metadata": {},
     "output_type": "execute_result"
    }
   ],
   "source": [
    "student_list"
   ]
  },
  {
   "cell_type": "code",
   "execution_count": 13,
   "id": "c0397b14",
   "metadata": {},
   "outputs": [],
   "source": [
    "is_first=True\n",
    "for student in student_list:\n",
    "    row_data_list=[]\n",
    "    for key, value in student.items():\n",
    "        if is_first:\n",
    "            column_list.append(key)\n",
    "        row_data_list.append(value)\n",
    "    all_data.append(row_data_list)\n",
    "    is_first=False"
   ]
  },
  {
   "cell_type": "code",
   "execution_count": 14,
   "id": "aa2a6ffa",
   "metadata": {},
   "outputs": [
    {
     "data": {
      "text/plain": [
       "[30, '신문방송학', '치우', '남']"
      ]
     },
     "execution_count": 14,
     "metadata": {},
     "output_type": "execute_result"
    }
   ],
   "source": [
    "row_data_list"
   ]
  },
  {
   "cell_type": "code",
   "execution_count": 15,
   "id": "94260dfe",
   "metadata": {},
   "outputs": [
    {
     "data": {
      "text/plain": [
       "[[45, '경영학', '영호', '남'], [30, '정치외교', '세중', '남'], [30, '신문방송학', '치우', '남']]"
      ]
     },
     "execution_count": 15,
     "metadata": {},
     "output_type": "execute_result"
    }
   ],
   "source": [
    "all_data"
   ]
  },
  {
   "cell_type": "code",
   "execution_count": 16,
   "id": "74c00713",
   "metadata": {},
   "outputs": [
    {
     "data": {
      "text/html": [
       "<div>\n",
       "<style scoped>\n",
       "    .dataframe tbody tr th:only-of-type {\n",
       "        vertical-align: middle;\n",
       "    }\n",
       "\n",
       "    .dataframe tbody tr th {\n",
       "        vertical-align: top;\n",
       "    }\n",
       "\n",
       "    .dataframe thead th {\n",
       "        text-align: right;\n",
       "    }\n",
       "</style>\n",
       "<table border=\"1\" class=\"dataframe\">\n",
       "  <thead>\n",
       "    <tr style=\"text-align: right;\">\n",
       "      <th></th>\n",
       "      <th>age</th>\n",
       "      <th>major</th>\n",
       "      <th>name</th>\n",
       "      <th>sex</th>\n",
       "    </tr>\n",
       "  </thead>\n",
       "  <tbody>\n",
       "    <tr>\n",
       "      <th>0</th>\n",
       "      <td>45</td>\n",
       "      <td>경영학</td>\n",
       "      <td>영호</td>\n",
       "      <td>남</td>\n",
       "    </tr>\n",
       "    <tr>\n",
       "      <th>1</th>\n",
       "      <td>30</td>\n",
       "      <td>정치외교</td>\n",
       "      <td>세중</td>\n",
       "      <td>남</td>\n",
       "    </tr>\n",
       "    <tr>\n",
       "      <th>2</th>\n",
       "      <td>30</td>\n",
       "      <td>신문방송학</td>\n",
       "      <td>치우</td>\n",
       "      <td>남</td>\n",
       "    </tr>\n",
       "  </tbody>\n",
       "</table>\n",
       "</div>"
      ],
      "text/plain": [
       "   age  major name sex\n",
       "0   45    경영학   영호   남\n",
       "1   30   정치외교   세중   남\n",
       "2   30  신문방송학   치우   남"
      ]
     },
     "execution_count": 16,
     "metadata": {},
     "output_type": "execute_result"
    }
   ],
   "source": [
    "import pandas as pd\n",
    "df = pd.DataFrame(all_data, columns=column_list)\n",
    "df"
   ]
  }
 ],
 "metadata": {
  "kernelspec": {
   "display_name": "Python 3 (ipykernel)",
   "language": "python",
   "name": "python3"
  },
  "language_info": {
   "codemirror_mode": {
    "name": "ipython",
    "version": 3
   },
   "file_extension": ".py",
   "mimetype": "text/x-python",
   "name": "python",
   "nbconvert_exporter": "python",
   "pygments_lexer": "ipython3",
   "version": "3.9.13"
  }
 },
 "nbformat": 4,
 "nbformat_minor": 5
}
