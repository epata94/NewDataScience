{
 "cells": [
  {
   "cell_type": "markdown",
   "id": "89cc0826",
   "metadata": {},
   "source": [
    "# JSON 구조"
   ]
  },
  {
   "cell_type": "markdown",
   "id": "7e9e868c",
   "metadata": {},
   "source": [
    "## 파이썬의 dictionary 타입과 일치하다."
   ]
  },
  {
   "cell_type": "markdown",
   "id": "19a78138",
   "metadata": {},
   "source": [
    "## 아래 xml 데이터를 dictionary로 변경해 보자"
   ]
  },
  {
   "cell_type": "raw",
   "id": "a89292d2",
   "metadata": {},
   "source": [
    "<note date=\"20190722\" method=\"gmail\">             <= 노드 중 최상의 노드\n",
    " \t<to>Tove</to>                                 <= 자식 노드\n",
    " \t<from>Jani</from>                             <= <from name=\"Jani/> 다음과 같이 속성으로 표현 할 수 있음\n",
    " \t<heading>Reminder</heading>\n",
    " \t<Body>Don't forget me this weekend!</body>\n",
    "</note>\n"
   ]
  },
  {
   "cell_type": "code",
   "execution_count": 1,
   "id": "c0b8b4ef",
   "metadata": {},
   "outputs": [
    {
     "data": {
      "text/plain": [
       "{'note': {'date': '20190722',\n",
       "  'method': 'gmail',\n",
       "  'to': 'Tove',\n",
       "  'from': 'Jani',\n",
       "  'heading': 'Reminder',\n",
       "  'Body': \"Don't forget me this weekend!\"}}"
      ]
     },
     "execution_count": 1,
     "metadata": {},
     "output_type": "execute_result"
    }
   ],
   "source": [
    "{\n",
    "    'note':{\n",
    "        'date':'20190722',\n",
    "        'method':'gmail',\n",
    "        'to':'Tove',\n",
    "        'from':'Jani',\n",
    "        'heading':'Reminder',\n",
    "        'Body':'Don\\'t forget me this weekend!'\n",
    "    }\n",
    "}"
   ]
  },
  {
   "cell_type": "code",
   "execution_count": 2,
   "id": "14007fc3",
   "metadata": {},
   "outputs": [
    {
     "data": {
      "text/plain": [
       "dict"
      ]
     },
     "execution_count": 2,
     "metadata": {},
     "output_type": "execute_result"
    }
   ],
   "source": [
    "my_note = {\n",
    "    'note':{\n",
    "        'date':'20190722',\n",
    "        'method':'gmail',\n",
    "        'to':'Tove',\n",
    "        'from':'Jani',\n",
    "        'heading':'Reminder',\n",
    "        'Body':'Don\\'t forget me this weekend!'\n",
    "    }\n",
    "}\n",
    "type(my_note)"
   ]
  },
  {
   "cell_type": "markdown",
   "id": "09db2fb2",
   "metadata": {},
   "source": [
    "# 노드 추가"
   ]
  },
  {
   "cell_type": "code",
   "execution_count": 3,
   "id": "08c3803c",
   "metadata": {},
   "outputs": [
    {
     "data": {
      "text/plain": [
       "{'note': {}}"
      ]
     },
     "execution_count": 3,
     "metadata": {},
     "output_type": "execute_result"
    }
   ],
   "source": [
    "new_note ={}\n",
    "new_note['note']={}\n",
    "new_note"
   ]
  },
  {
   "cell_type": "code",
   "execution_count": 4,
   "id": "590099f3",
   "metadata": {},
   "outputs": [
    {
     "data": {
      "text/plain": [
       "{'note': {'date': '20230101'}}"
      ]
     },
     "execution_count": 4,
     "metadata": {},
     "output_type": "execute_result"
    }
   ],
   "source": [
    "new_note['note']['date']='20230101'\n",
    "new_note"
   ]
  },
  {
   "cell_type": "code",
   "execution_count": 5,
   "id": "340c8a9b",
   "metadata": {},
   "outputs": [
    {
     "data": {
      "text/plain": [
       "{'note': {'date': '20230101', 'method': 'gmail'}}"
      ]
     },
     "execution_count": 5,
     "metadata": {},
     "output_type": "execute_result"
    }
   ],
   "source": [
    "new_note['note']['method']='gmail'\n",
    "new_note"
   ]
  },
  {
   "cell_type": "code",
   "execution_count": 7,
   "id": "889fccad",
   "metadata": {},
   "outputs": [
    {
     "data": {
      "text/plain": [
       "{'note': {'date': '20230101',\n",
       "  'method': 'gmail',\n",
       "  'to': 'Tove',\n",
       "  'from': 'Jani',\n",
       "  'heading': 'Reminder',\n",
       "  'Body': \"Don't forget me this weekend!\"}}"
      ]
     },
     "execution_count": 7,
     "metadata": {},
     "output_type": "execute_result"
    }
   ],
   "source": [
    "new_note['note']['to'] = 'Tove'\n",
    "new_note['note']['from'] = 'Jani'\n",
    "new_note['note']['heading'] = 'Reminder'\n",
    "new_note['note']['Body'] = 'Don\\'t forget me this weekend!'\n",
    "new_note"
   ]
  },
  {
   "cell_type": "markdown",
   "id": "2339cfa7",
   "metadata": {},
   "source": [
    "## JSON 파일 생성"
   ]
  },
  {
   "cell_type": "code",
   "execution_count": 10,
   "id": "4c7ac61c",
   "metadata": {},
   "outputs": [
    {
     "name": "stdout",
     "output_type": "stream",
     "text": [
      "json file saved\n"
     ]
    }
   ],
   "source": [
    "import json\n",
    "with open('new_note.json','w') as outfile:\n",
    "    readable_result = json.dumps(new_note,indent=4,sort_keys=True,ensure_ascii=False)\n",
    "    outfile.write(readable_result)\n",
    "    print('json file saved')"
   ]
  },
  {
   "cell_type": "markdown",
   "id": "55a016e4",
   "metadata": {},
   "source": [
    "## 한글 데이터"
   ]
  },
  {
   "cell_type": "code",
   "execution_count": 9,
   "id": "fd148861",
   "metadata": {},
   "outputs": [
    {
     "data": {
      "text/plain": [
       "{'note': {'date': '20190722',\n",
       "  'method': 'gmail',\n",
       "  'to': '홍길동',\n",
       "  'from': '제니',\n",
       "  'heading': '신년회 모임 일정',\n",
       "  'Body': '1월 2일 저녁 8시, 장소: 마포갈매기'}}"
      ]
     },
     "execution_count": 9,
     "metadata": {},
     "output_type": "execute_result"
    }
   ],
   "source": [
    "k_note= {\n",
    "    'note':{\n",
    "        'date':'20190722',\n",
    "        'method':'gmail',\n",
    "        'to':'홍길동',\n",
    "        'from':'제니',\n",
    "        'heading':'신년회 모임 일정',\n",
    "        'Body':'1월 2일 저녁 8시, 장소: 마포갈매기'\n",
    "    }\n",
    "}\n",
    "k_note"
   ]
  },
  {
   "cell_type": "code",
   "execution_count": 11,
   "id": "856a6bf9",
   "metadata": {},
   "outputs": [
    {
     "name": "stdout",
     "output_type": "stream",
     "text": [
      "json file saved\n"
     ]
    }
   ],
   "source": [
    "import json\n",
    "with open('k_note.json','w',encoding='utf8') as outfile:\n",
    "    readable_result = json.dumps(k_note,indent=4,sort_keys=True,ensure_ascii=False)\n",
    "    outfile.write(readable_result)\n",
    "    print('json file saved')"
   ]
  },
  {
   "cell_type": "markdown",
   "id": "a1732803",
   "metadata": {},
   "source": [
    "## Parsing\n",
    "## Json 구조를 보며 계층 구조 별 Key 값으로 Value 값을 구한다."
   ]
  },
  {
   "cell_type": "markdown",
   "id": "2fd4b455",
   "metadata": {},
   "source": [
    "### Level1 값 parsing"
   ]
  },
  {
   "cell_type": "code",
   "execution_count": 14,
   "id": "d329ca32",
   "metadata": {},
   "outputs": [
    {
     "data": {
      "text/plain": [
       "{'date': '20190722',\n",
       " 'method': 'gmail',\n",
       " 'to': '홍길동',\n",
       " 'from': '제니',\n",
       " 'heading': '신년회 모임 일정',\n",
       " 'Body': '1월 2일 저녁 8시, 장소: 마포갈매기'}"
      ]
     },
     "execution_count": 14,
     "metadata": {},
     "output_type": "execute_result"
    }
   ],
   "source": [
    "k_note['note']"
   ]
  },
  {
   "cell_type": "markdown",
   "id": "9a775b60",
   "metadata": {},
   "source": [
    "### Level2 값 수동으로 Parsing"
   ]
  },
  {
   "cell_type": "code",
   "execution_count": 15,
   "id": "6fd34b1a",
   "metadata": {},
   "outputs": [
    {
     "data": {
      "text/plain": [
       "'20190722'"
      ]
     },
     "execution_count": 15,
     "metadata": {},
     "output_type": "execute_result"
    }
   ],
   "source": [
    "k_note['note']['date']"
   ]
  },
  {
   "cell_type": "code",
   "execution_count": 16,
   "id": "b12b4c7a",
   "metadata": {},
   "outputs": [
    {
     "data": {
      "text/plain": [
       "'gmail'"
      ]
     },
     "execution_count": 16,
     "metadata": {},
     "output_type": "execute_result"
    }
   ],
   "source": [
    "k_note['note']['method']"
   ]
  },
  {
   "cell_type": "code",
   "execution_count": 17,
   "id": "48686b50",
   "metadata": {},
   "outputs": [
    {
     "name": "stdout",
     "output_type": "stream",
     "text": [
      "홍길동\n",
      "제니\n",
      "신년회 모임 일정\n",
      "1월 2일 저녁 8시, 장소: 마포갈매기\n"
     ]
    }
   ],
   "source": [
    "print(k_note['note']['to'])\n",
    "print(k_note['note']['from'])\n",
    "print(k_note['note']['heading'])\n",
    "print(k_note['note']['Body'])"
   ]
  },
  {
   "cell_type": "markdown",
   "id": "08b21b76",
   "metadata": {},
   "source": [
    "### Level2 값 자동으로 Parsing"
   ]
  },
  {
   "cell_type": "code",
   "execution_count": 18,
   "id": "11c9f7c7",
   "metadata": {},
   "outputs": [
    {
     "name": "stdout",
     "output_type": "stream",
     "text": [
      "date\n",
      "method\n",
      "to\n",
      "from\n",
      "heading\n",
      "Body\n"
     ]
    }
   ],
   "source": [
    "for child in k_note['note']:\n",
    "    print(child)"
   ]
  }
 ],
 "metadata": {
  "kernelspec": {
   "display_name": "Python 3 (ipykernel)",
   "language": "python",
   "name": "python3"
  },
  "language_info": {
   "codemirror_mode": {
    "name": "ipython",
    "version": 3
   },
   "file_extension": ".py",
   "mimetype": "text/x-python",
   "name": "python",
   "nbconvert_exporter": "python",
   "pygments_lexer": "ipython3",
   "version": "3.9.13"
  }
 },
 "nbformat": 4,
 "nbformat_minor": 5
}
