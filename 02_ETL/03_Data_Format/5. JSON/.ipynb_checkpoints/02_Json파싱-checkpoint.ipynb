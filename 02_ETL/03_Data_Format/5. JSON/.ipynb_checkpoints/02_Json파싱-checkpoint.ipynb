{
 "cells": [
  {
   "cell_type": "markdown",
   "id": "a1732803",
   "metadata": {},
   "source": [
    "## Parsing\n",
    "## Json 구조를 보며 계층 구조 별 Key 값으로 Value 값을 구한다."
   ]
  },
  {
   "cell_type": "markdown",
   "id": "2fd4b455",
   "metadata": {},
   "source": [
    "### Level1 값 parsing"
   ]
  },
  {
   "cell_type": "code",
   "execution_count": 14,
   "id": "d329ca32",
   "metadata": {},
   "outputs": [
    {
     "data": {
      "text/plain": [
       "{'date': '20190722',\n",
       " 'method': 'gmail',\n",
       " 'to': '홍길동',\n",
       " 'from': '제니',\n",
       " 'heading': '신년회 모임 일정',\n",
       " 'Body': '1월 2일 저녁 8시, 장소: 마포갈매기'}"
      ]
     },
     "execution_count": 14,
     "metadata": {},
     "output_type": "execute_result"
    }
   ],
   "source": [
    "k_note['note']"
   ]
  },
  {
   "cell_type": "markdown",
   "id": "9a775b60",
   "metadata": {},
   "source": [
    "### Level2 값 수동으로 Parsing"
   ]
  },
  {
   "cell_type": "code",
   "execution_count": 15,
   "id": "6fd34b1a",
   "metadata": {},
   "outputs": [
    {
     "data": {
      "text/plain": [
       "'20190722'"
      ]
     },
     "execution_count": 15,
     "metadata": {},
     "output_type": "execute_result"
    }
   ],
   "source": [
    "k_note['note']['date']"
   ]
  },
  {
   "cell_type": "code",
   "execution_count": 16,
   "id": "b12b4c7a",
   "metadata": {},
   "outputs": [
    {
     "data": {
      "text/plain": [
       "'gmail'"
      ]
     },
     "execution_count": 16,
     "metadata": {},
     "output_type": "execute_result"
    }
   ],
   "source": [
    "k_note['note']['method']"
   ]
  },
  {
   "cell_type": "code",
   "execution_count": 17,
   "id": "48686b50",
   "metadata": {},
   "outputs": [
    {
     "name": "stdout",
     "output_type": "stream",
     "text": [
      "홍길동\n",
      "제니\n",
      "신년회 모임 일정\n",
      "1월 2일 저녁 8시, 장소: 마포갈매기\n"
     ]
    }
   ],
   "source": [
    "print(k_note['note']['to'])\n",
    "print(k_note['note']['from'])\n",
    "print(k_note['note']['heading'])\n",
    "print(k_note['note']['Body'])"
   ]
  },
  {
   "cell_type": "markdown",
   "id": "08b21b76",
   "metadata": {},
   "source": [
    "### Level2 값 자동으로 Parsing"
   ]
  },
  {
   "cell_type": "code",
   "execution_count": 18,
   "id": "11c9f7c7",
   "metadata": {},
   "outputs": [
    {
     "name": "stdout",
     "output_type": "stream",
     "text": [
      "date\n",
      "method\n",
      "to\n",
      "from\n",
      "heading\n",
      "Body\n"
     ]
    }
   ],
   "source": [
    "for child in k_note['note']:\n",
    "    print(child)"
   ]
  },
  {
   "cell_type": "code",
   "execution_count": null,
   "id": "63705354",
   "metadata": {},
   "outputs": [],
   "source": []
  }
 ],
 "metadata": {
  "kernelspec": {
   "display_name": "Python 3 (ipykernel)",
   "language": "python",
   "name": "python3"
  },
  "language_info": {
   "codemirror_mode": {
    "name": "ipython",
    "version": 3
   },
   "file_extension": ".py",
   "mimetype": "text/x-python",
   "name": "python",
   "nbconvert_exporter": "python",
   "pygments_lexer": "ipython3",
   "version": "3.9.13"
  }
 },
 "nbformat": 4,
 "nbformat_minor": 5
}
