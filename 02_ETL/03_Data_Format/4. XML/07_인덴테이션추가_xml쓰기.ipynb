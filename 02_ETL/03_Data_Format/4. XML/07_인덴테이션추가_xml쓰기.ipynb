{
 "cells": [
  {
   "cell_type": "code",
   "execution_count": 1,
   "id": "35177606",
   "metadata": {},
   "outputs": [],
   "source": [
    "from xml.etree.ElementTree import Element,dump,SubElement,ElementTree"
   ]
  },
  {
   "cell_type": "code",
   "execution_count": null,
   "id": "72774fcd",
   "metadata": {},
   "outputs": [],
   "source": []
  },
  {
   "cell_type": "code",
   "execution_count": 2,
   "id": "0245a8a9",
   "metadata": {},
   "outputs": [],
   "source": [
    "def indent(elem, level=0):\n",
    "    i = \"\\n\"+level*\" \"\n",
    "    if len(elem):\n",
    "        if not elem.text or not elem.text.strip():\n",
    "            elem.text = i+\" \"\n",
    "        if not elem.tail or not elem.tail.strip():\n",
    "            elem.tail = i\n",
    "        for elem in elem:\n",
    "            indent(elem, level+1)\n",
    "        if not elem.tail or not elem.tail.strip():\n",
    "            elem.tail = i\n",
    "    else:\n",
    "        if level and (not elem.tail or not elem.tail.strip()):\n",
    "            elem.tail = i"
   ]
  },
  {
   "cell_type": "code",
   "execution_count": 3,
   "id": "792a8942",
   "metadata": {},
   "outputs": [
    {
     "name": "stdout",
     "output_type": "stream",
     "text": [
      "<note date=\"20120104\"><to>Tove</to><from>Jani</from><heading>Reminder</heading><body>Don't forget me this weekend!</body></note>\n"
     ]
    }
   ],
   "source": [
    "note = Element(\"note\")\n",
    "to = Element(\"to\")\n",
    "to.text = \"Tove\"\n",
    "\n",
    "note.append(to)\n",
    "\n",
    "SubElement(note,\"from\").text = \"Jani\"\n",
    "\n",
    "dummy = Element(\"dummy\")\n",
    "note.insert(1,dummy)\n",
    "note.remove(dummy)\n",
    "\n",
    "note.attrib[\"date\"]=\"20120104\"\n",
    "\n",
    "SubElement(note,\"heading\").text = \"Reminder\"\n",
    "SubElement(note,\"body\").text = \"Don't forget me this weekend!\"\n",
    "dump(note)"
   ]
  },
  {
   "cell_type": "code",
   "execution_count": 6,
   "id": "47bdfbaa",
   "metadata": {},
   "outputs": [],
   "source": [
    "# xml_raw=\"\"\"<?xml version=\"1.0\" encoding=\"UTF-8\"?>\n",
    "# <response><header><resultCode>00</resultCode><resultMsg>NORMAL_SERVICE</resultMsg></header><body><dataType>XML</dataType><items><item><baseDate>20221225</baseDate><baseTime>0530</baseTime><category>LGT</category><fcstDate>20221225</fcstDate><fcstTime>0600</fcstTime><fcstValue>0</fcstValue><nx>58</nx><ny>125</ny></item><item><baseDate>20221225</baseDate><baseTime>0530</baseTime><category>LGT</category><fcstDate>20221225</fcstDate><fcstTime>0700</fcstTime><fcstValue>0</fcstValue><nx>58</nx><ny>125</ny></item><item><baseDate>20221225</baseDate><baseTime>0530</baseTime><category>LGT</category><fcstDate>20221225</fcstDate><fcstTime>0800</fcstTime><fcstValue>0</fcstValue><nx>58</nx><ny>125</ny></item><item><baseDate>20221225</baseDate><baseTime>0530</baseTime><category>LGT</category><fcstDate>20221225</fcstDate><fcstTime>0900</fcstTime><fcstValue>0</fcstValue><nx>58</nx><ny>125</ny></item><item><baseDate>20221225</baseDate><baseTime>0530</baseTime><category>LGT</category><fcstDate>20221225</fcstDate><fcstTime>1000</fcstTime><fcstValue>0</fcstValue><nx>58</nx><ny>125</ny></item><item><baseDate>20221225</baseDate><baseTime>0530</baseTime><category>LGT</category><fcstDate>20221225</fcstDate><fcstTime>1100</fcstTime><fcstValue>0</fcstValue><nx>58</nx><ny>125</ny></item><item><baseDate>20221225</baseDate><baseTime>0530</baseTime><category>PTY</category><fcstDate>20221225</fcstDate><fcstTime>0600</fcstTime><fcstValue>0</fcstValue><nx>58</nx><ny>125</ny></item><item><baseDate>20221225</baseDate><baseTime>0530</baseTime><category>PTY</category><fcstDate>20221225</fcstDate><fcstTime>0700</fcstTime><fcstValue>0</fcstValue><nx>58</nx><ny>125</ny></item><item><baseDate>20221225</baseDate><baseTime>0530</baseTime><category>PTY</category><fcstDate>20221225</fcstDate><fcstTime>0800</fcstTime><fcstValue>0</fcstValue><nx>58</nx><ny>125</ny></item><item><baseDate>20221225</baseDate><baseTime>0530</baseTime><category>PTY</category><fcstDate>20221225</fcstDate><fcstTime>0900</fcstTime><fcstValue>0</fcstValue><nx>58</nx><ny>125</ny></item><item><baseDate>20221225</baseDate><baseTime>0530</baseTime><category>PTY</category><fcstDate>20221225</fcstDate><fcstTime>1000</fcstTime><fcstValue>0</fcstValue><nx>58</nx><ny>125</ny></item><item><baseDate>20221225</baseDate><baseTime>0530</baseTime><category>PTY</category><fcstDate>20221225</fcstDate><fcstTime>1100</fcstTime><fcstValue>0</fcstValue><nx>58</nx><ny>125</ny></item><item><baseDate>20221225</baseDate><baseTime>0530</baseTime><category>RN1</category><fcstDate>20221225</fcstDate><fcstTime>0600</fcstTime><fcstValue>강수없음</fcstValue><nx>58</nx><ny>125</ny></item><item><baseDate>20221225</baseDate><baseTime>0530</baseTime><category>RN1</category><fcstDate>20221225</fcstDate><fcstTime>0700</fcstTime><fcstValue>강수없음</fcstValue><nx>58</nx><ny>125</ny></item><item><baseDate>20221225</baseDate><baseTime>0530</baseTime><category>RN1</category><fcstDate>20221225</fcstDate><fcstTime>0800</fcstTime><fcstValue>강수없음</fcstValue><nx>58</nx><ny>125</ny></item><item><baseDate>20221225</baseDate><baseTime>0530</baseTime><category>RN1</category><fcstDate>20221225</fcstDate><fcstTime>0900</fcstTime><fcstValue>강수없음</fcstValue><nx>58</nx><ny>125</ny></item><item><baseDate>20221225</baseDate><baseTime>0530</baseTime><category>RN1</category><fcstDate>20221225</fcstDate><fcstTime>1000</fcstTime><fcstValue>강수없음</fcstValue><nx>58</nx><ny>125</ny></item><item><baseDate>20221225</baseDate><baseTime>0530</baseTime><category>RN1</category><fcstDate>20221225</fcstDate><fcstTime>1100</fcstTime><fcstValue>강수없음</fcstValue><nx>58</nx><ny>125</ny></item><item><baseDate>20221225</baseDate><baseTime>0530</baseTime><category>SKY</category><fcstDate>20221225</fcstDate><fcstTime>0600</fcstTime><fcstValue>1</fcstValue><nx>58</nx><ny>125</ny></item><item><baseDate>20221225</baseDate><baseTime>0530</baseTime><category>SKY</category><fcstDate>20221225</fcstDate><fcstTime>0700</fcstTime><fcstValue>1</fcstValue><nx>58</nx><ny>125</ny></item><item><baseDate>20221225</baseDate><baseTime>0530</baseTime><category>SKY</category><fcstDate>20221225</fcstDate><fcstTime>0800</fcstTime><fcstValue>1</fcstValue><nx>58</nx><ny>125</ny></item><item><baseDate>20221225</baseDate><baseTime>0530</baseTime><category>SKY</category><fcstDate>20221225</fcstDate><fcstTime>0900</fcstTime><fcstValue>1</fcstValue><nx>58</nx><ny>125</ny></item><item><baseDate>20221225</baseDate><baseTime>0530</baseTime><category>SKY</category><fcstDate>20221225</fcstDate><fcstTime>1000</fcstTime><fcstValue>1</fcstValue><nx>58</nx><ny>125</ny></item><item><baseDate>20221225</baseDate><baseTime>0530</baseTime><category>SKY</category><fcstDate>20221225</fcstDate><fcstTime>1100</fcstTime><fcstValue>1</fcstValue><nx>58</nx><ny>125</ny></item><item><baseDate>20221225</baseDate><baseTime>0530</baseTime><category>T1H</category><fcstDate>20221225</fcstDate><fcstTime>0600</fcstTime><fcstValue>-8</fcstValue><nx>58</nx><ny>125</ny></item><item><baseDate>20221225</baseDate><baseTime>0530</baseTime><category>T1H</category><fcstDate>20221225</fcstDate><fcstTime>0700</fcstTime><fcstValue>-9</fcstValue><nx>58</nx><ny>125</ny></item><item><baseDate>20221225</baseDate><baseTime>0530</baseTime><category>T1H</category><fcstDate>20221225</fcstDate><fcstTime>0800</fcstTime><fcstValue>-8</fcstValue><nx>58</nx><ny>125</ny></item><item><baseDate>20221225</baseDate><baseTime>0530</baseTime><category>T1H</category><fcstDate>20221225</fcstDate><fcstTime>0900</fcstTime><fcstValue>-7</fcstValue><nx>58</nx><ny>125</ny></item><item><baseDate>20221225</baseDate><baseTime>0530</baseTime><category>T1H</category><fcstDate>20221225</fcstDate><fcstTime>1000</fcstTime><fcstValue>-5</fcstValue><nx>58</nx><ny>125</ny></item><item><baseDate>20221225</baseDate><baseTime>0530</baseTime><category>T1H</category><fcstDate>20221225</fcstDate><fcstTime>1100</fcstTime><fcstValue>-4</fcstValue><nx>58</nx><ny>125</ny></item><item><baseDate>20221225</baseDate><baseTime>0530</baseTime><category>REH</category><fcstDate>20221225</fcstDate><fcstTime>0600</fcstTime><fcstValue>70</fcstValue><nx>58</nx><ny>125</ny></item><item><baseDate>20221225</baseDate><baseTime>0530</baseTime><category>REH</category><fcstDate>20221225</fcstDate><fcstTime>0700</fcstTime><fcstValue>70</fcstValue><nx>58</nx><ny>125</ny></item><item><baseDate>20221225</baseDate><baseTime>0530</baseTime><category>REH</category><fcstDate>20221225</fcstDate><fcstTime>0800</fcstTime><fcstValue>70</fcstValue><nx>58</nx><ny>125</ny></item><item><baseDate>20221225</baseDate><baseTime>0530</baseTime><category>REH</category><fcstDate>20221225</fcstDate><fcstTime>0900</fcstTime><fcstValue>70</fcstValue><nx>58</nx><ny>125</ny></item><item><baseDate>20221225</baseDate><baseTime>0530</baseTime><category>REH</category><fcstDate>20221225</fcstDate><fcstTime>1000</fcstTime><fcstValue>65</fcstValue><nx>58</nx><ny>125</ny></item><item><baseDate>20221225</baseDate><baseTime>0530</baseTime><category>REH</category><fcstDate>20221225</fcstDate><fcstTime>1100</fcstTime><fcstValue>60</fcstValue><nx>58</nx><ny>125</ny></item><item><baseDate>20221225</baseDate><baseTime>0530</baseTime><category>UUU</category><fcstDate>20221225</fcstDate><fcstTime>0600</fcstTime><fcstValue>0.4</fcstValue><nx>58</nx><ny>125</ny></item><item><baseDate>20221225</baseDate><baseTime>0530</baseTime><category>UUU</category><fcstDate>20221225</fcstDate><fcstTime>0700</fcstTime><fcstValue>0.7</fcstValue><nx>58</nx><ny>125</ny></item><item><baseDate>20221225</baseDate><baseTime>0530</baseTime><category>UUU</category><fcstDate>20221225</fcstDate><fcstTime>0800</fcstTime><fcstValue>1.1</fcstValue><nx>58</nx><ny>125</ny></item><item><baseDate>20221225</baseDate><baseTime>0530</baseTime><category>UUU</category><fcstDate>20221225</fcstDate><fcstTime>0900</fcstTime><fcstValue>1.3</fcstValue><nx>58</nx><ny>125</ny></item><item><baseDate>20221225</baseDate><baseTime>0530</baseTime><category>UUU</category><fcstDate>20221225</fcstDate><fcstTime>1000</fcstTime><fcstValue>1.3</fcstValue><nx>58</nx><ny>125</ny></item><item><baseDate>20221225</baseDate><baseTime>0530</baseTime><category>UUU</category><fcstDate>20221225</fcstDate><fcstTime>1100</fcstTime><fcstValue>1.6</fcstValue><nx>58</nx><ny>125</ny></item><item><baseDate>20221225</baseDate><baseTime>0530</baseTime><category>VVV</category><fcstDate>20221225</fcstDate><fcstTime>0600</fcstTime><fcstValue>0</fcstValue><nx>58</nx><ny>125</ny></item><item><baseDate>20221225</baseDate><baseTime>0530</baseTime><category>VVV</category><fcstDate>20221225</fcstDate><fcstTime>0700</fcstTime><fcstValue>0</fcstValue><nx>58</nx><ny>125</ny></item><item><baseDate>20221225</baseDate><baseTime>0530</baseTime><category>VVV</category><fcstDate>20221225</fcstDate><fcstTime>0800</fcstTime><fcstValue>-0.3</fcstValue><nx>58</nx><ny>125</ny></item><item><baseDate>20221225</baseDate><baseTime>0530</baseTime><category>VVV</category><fcstDate>20221225</fcstDate><fcstTime>0900</fcstTime><fcstValue>-1.2</fcstValue><nx>58</nx><ny>125</ny></item><item><baseDate>20221225</baseDate><baseTime>0530</baseTime><category>VVV</category><fcstDate>20221225</fcstDate><fcstTime>1000</fcstTime><fcstValue>-1.4</fcstValue><nx>58</nx><ny>125</ny></item><item><baseDate>20221225</baseDate><baseTime>0530</baseTime><category>VVV</category><fcstDate>20221225</fcstDate><fcstTime>1100</fcstTime><fcstValue>-1.5</fcstValue><nx>58</nx><ny>125</ny></item><item><baseDate>20221225</baseDate><baseTime>0530</baseTime><category>VEC</category><fcstDate>20221225</fcstDate><fcstTime>0600</fcstTime><fcstValue>281</fcstValue><nx>58</nx><ny>125</ny></item><item><baseDate>20221225</baseDate><baseTime>0530</baseTime><category>VEC</category><fcstDate>20221225</fcstDate><fcstTime>0700</fcstTime><fcstValue>267</fcstValue><nx>58</nx><ny>125</ny></item><item><baseDate>20221225</baseDate><baseTime>0530</baseTime><category>VEC</category><fcstDate>20221225</fcstDate><fcstTime>0800</fcstTime><fcstValue>292</fcstValue><nx>58</nx><ny>125</ny></item><item><baseDate>20221225</baseDate><baseTime>0530</baseTime><category>VEC</category><fcstDate>20221225</fcstDate><fcstTime>0900</fcstTime><fcstValue>316</fcstValue><nx>58</nx><ny>125</ny></item><item><baseDate>20221225</baseDate><baseTime>0530</baseTime><category>VEC</category><fcstDate>20221225</fcstDate><fcstTime>1000</fcstTime><fcstValue>319</fcstValue><nx>58</nx><ny>125</ny></item><item><baseDate>20221225</baseDate><baseTime>0530</baseTime><category>VEC</category><fcstDate>20221225</fcstDate><fcstTime>1100</fcstTime><fcstValue>315</fcstValue><nx>58</nx><ny>125</ny></item><item><baseDate>20221225</baseDate><baseTime>0530</baseTime><category>WSD</category><fcstDate>20221225</fcstDate><fcstTime>0600</fcstTime><fcstValue>0</fcstValue><nx>58</nx><ny>125</ny></item><item><baseDate>20221225</baseDate><baseTime>0530</baseTime><category>WSD</category><fcstDate>20221225</fcstDate><fcstTime>0700</fcstTime><fcstValue>1</fcstValue><nx>58</nx><ny>125</ny></item><item><baseDate>20221225</baseDate><baseTime>0530</baseTime><category>WSD</category><fcstDate>20221225</fcstDate><fcstTime>0800</fcstTime><fcstValue>1</fcstValue><nx>58</nx><ny>125</ny></item><item><baseDate>20221225</baseDate><baseTime>0530</baseTime><category>WSD</category><fcstDate>20221225</fcstDate><fcstTime>0900</fcstTime><fcstValue>2</fcstValue><nx>58</nx><ny>125</ny></item><item><baseDate>20221225</baseDate><baseTime>0530</baseTime><category>WSD</category><fcstDate>20221225</fcstDate><fcstTime>1000</fcstTime><fcstValue>2</fcstValue><nx>58</nx><ny>125</ny></item><item><baseDate>20221225</baseDate><baseTime>0530</baseTime><category>WSD</category><fcstDate>20221225</fcstDate><fcstTime>1100</fcstTime><fcstValue>2</fcstValue><nx>58</nx><ny>125</ny></item></items><numOfRows>100</numOfRows><pageNo>1</pageNo><totalCount>60</totalCount></body></response>\n",
    "# \"\"\""
   ]
  },
  {
   "cell_type": "code",
   "execution_count": 7,
   "id": "a0bc16d7",
   "metadata": {},
   "outputs": [
    {
     "ename": "AttributeError",
     "evalue": "'str' object has no attribute 'text'",
     "output_type": "error",
     "traceback": [
      "\u001b[1;31m---------------------------------------------------------------------------\u001b[0m",
      "\u001b[1;31mAttributeError\u001b[0m                            Traceback (most recent call last)",
      "Cell \u001b[1;32mIn [7], line 1\u001b[0m\n\u001b[1;32m----> 1\u001b[0m \u001b[43mindent\u001b[49m\u001b[43m(\u001b[49m\u001b[43mxml_raw\u001b[49m\u001b[43m)\u001b[49m\n\u001b[0;32m      2\u001b[0m dump(xml_raw)\n",
      "Cell \u001b[1;32mIn [2], line 4\u001b[0m, in \u001b[0;36mindent\u001b[1;34m(elem, level)\u001b[0m\n\u001b[0;32m      2\u001b[0m i \u001b[38;5;241m=\u001b[39m \u001b[38;5;124m\"\u001b[39m\u001b[38;5;130;01m\\n\u001b[39;00m\u001b[38;5;124m\"\u001b[39m\u001b[38;5;241m+\u001b[39mlevel\u001b[38;5;241m*\u001b[39m\u001b[38;5;124m\"\u001b[39m\u001b[38;5;124m \u001b[39m\u001b[38;5;124m\"\u001b[39m\n\u001b[0;32m      3\u001b[0m \u001b[38;5;28;01mif\u001b[39;00m \u001b[38;5;28mlen\u001b[39m(elem):\n\u001b[1;32m----> 4\u001b[0m     \u001b[38;5;28;01mif\u001b[39;00m \u001b[38;5;129;01mnot\u001b[39;00m \u001b[43melem\u001b[49m\u001b[38;5;241;43m.\u001b[39;49m\u001b[43mtext\u001b[49m \u001b[38;5;129;01mor\u001b[39;00m \u001b[38;5;129;01mnot\u001b[39;00m elem\u001b[38;5;241m.\u001b[39mtext\u001b[38;5;241m.\u001b[39mstrip():\n\u001b[0;32m      5\u001b[0m         elem\u001b[38;5;241m.\u001b[39mtext \u001b[38;5;241m=\u001b[39m i\u001b[38;5;241m+\u001b[39m\u001b[38;5;124m\"\u001b[39m\u001b[38;5;124m \u001b[39m\u001b[38;5;124m\"\u001b[39m\n\u001b[0;32m      6\u001b[0m     \u001b[38;5;28;01mif\u001b[39;00m \u001b[38;5;129;01mnot\u001b[39;00m elem\u001b[38;5;241m.\u001b[39mtail \u001b[38;5;129;01mor\u001b[39;00m \u001b[38;5;129;01mnot\u001b[39;00m elem\u001b[38;5;241m.\u001b[39mtail\u001b[38;5;241m.\u001b[39mstrip():\n",
      "\u001b[1;31mAttributeError\u001b[0m: 'str' object has no attribute 'text'"
     ]
    }
   ],
   "source": [
    "# indent(xml_raw)\n",
    "# dump(xml_raw)"
   ]
  },
  {
   "cell_type": "code",
   "execution_count": 4,
   "id": "83a0af24",
   "metadata": {
    "scrolled": true
   },
   "outputs": [
    {
     "name": "stdout",
     "output_type": "stream",
     "text": [
      "<note date=\"20120104\">\n",
      " <to>Tove</to>\n",
      " <from>Jani</from>\n",
      " <heading>Reminder</heading>\n",
      " <body>Don't forget me this weekend!</body>\n",
      "</note>\n"
     ]
    }
   ],
   "source": [
    "indent(note)\n",
    "dump(note)"
   ]
  },
  {
   "cell_type": "code",
   "execution_count": 5,
   "id": "c2a064ef",
   "metadata": {},
   "outputs": [],
   "source": [
    "ElementTree(note).write(\"note.xml\")"
   ]
  }
 ],
 "metadata": {
  "kernelspec": {
   "display_name": "Python 3 (ipykernel)",
   "language": "python",
   "name": "python3"
  },
  "language_info": {
   "codemirror_mode": {
    "name": "ipython",
    "version": 3
   },
   "file_extension": ".py",
   "mimetype": "text/x-python",
   "name": "python",
   "nbconvert_exporter": "python",
   "pygments_lexer": "ipython3",
   "version": "3.9.13"
  }
 },
 "nbformat": 4,
 "nbformat_minor": 5
}
