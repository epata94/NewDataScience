{
 "cells": [
  {
   "cell_type": "code",
   "execution_count": 4,
   "id": "04273c37",
   "metadata": {},
   "outputs": [],
   "source": [
    "import urllib.request\n",
    "import datetime\n",
    "import json\n",
    "import time\n",
    "import pandas as pd"
   ]
  },
  {
   "cell_type": "code",
   "execution_count": 1,
   "id": "812bdd4a",
   "metadata": {},
   "outputs": [
    {
     "name": "stdout",
     "output_type": "stream",
     "text": [
      "[2022-12-24 05:07:45.456253] Url Request Success\n"
     ]
    }
   ],
   "source": [
    "url =\"http://data.ex.co.kr/openapi/odtraffic/trafficAmountByCongest?key=test&type=json\"\n",
    "def get_df_info(json_data, records_root_name):\n",
    "    column_list = []\n",
    "    all_data = []\n",
    "    is_first = True\n",
    "    for record in json_data[records_root_name]:\n",
    "        row_data_list = []\n",
    "        for key, value in record.items():\n",
    "            if is_first:\n",
    "                column_list.append(key)\n",
    "            row_data_list.append(value)\n",
    "        all_data.append(row_data_list)\n",
    "        is_first = False\n",
    "\n",
    "    return column_list, all_data\n",
    "def get_request_url(url):\n",
    "    req = urllib.request.Request(url)\n",
    "\n",
    "    try:\n",
    "        response = urllib.request.urlopen(req)\n",
    "        if response.getcode() == 200:\n",
    "            print(\"[%s] Url Request Success\" % datetime.datetime.now())\n",
    "            return response.read().decode('utf-8')\n",
    "    except Exception as e:\n",
    "        print(e)\n",
    "        print(\"[%s] Error for URL : %s\" % (datetime.datetime.now(), url))\n",
    "        return None\n",
    "response_data = get_request_url(url)\n",
    "if (response_data == None):\n",
    "    print('No response')\n",
    "else:\n",
    "    raw_data = json.loads(response_data)\n",
    "\n",
    "column_list, all_data = get_df_info(raw_data,'list')"
   ]
  },
  {
   "cell_type": "code",
   "execution_count": 2,
   "id": "b5347479",
   "metadata": {},
   "outputs": [
    {
     "data": {
      "text/plain": [
       "['routeName',\n",
       " 'routeNo',\n",
       " 'trafficAmout',\n",
       " 'conzoneId',\n",
       " 'conzoneName',\n",
       " 'stdDate',\n",
       " 'stdHour',\n",
       " 'vdsId',\n",
       " 'speed',\n",
       " 'shareRatio',\n",
       " 'timeAvg',\n",
       " 'grade',\n",
       " 'updownTypeCode']"
      ]
     },
     "execution_count": 2,
     "metadata": {},
     "output_type": "execute_result"
    }
   ],
   "source": [
    "column_list"
   ]
  },
  {
   "cell_type": "code",
   "execution_count": 3,
   "id": "6a54abd4",
   "metadata": {},
   "outputs": [
    {
     "data": {
      "text/plain": [
       "[['영동선',\n",
       "  '0500',\n",
       "  '64',\n",
       "  '0500CZE070',\n",
       "  '군포IC-동군포IC',\n",
       "  '20221224',\n",
       "  '0506',\n",
       "  '0500VDE02100',\n",
       "  '30',\n",
       "  '11',\n",
       "  '125',\n",
       "  '3',\n",
       "  'E'],\n",
       " ['영동선',\n",
       "  '0500',\n",
       "  '74',\n",
       "  '0500CZS070',\n",
       "  '동군포IC-군포IC',\n",
       "  '20221224',\n",
       "  '0506',\n",
       "  '0500VDS02100',\n",
       "  '34',\n",
       "  '14',\n",
       "  '112',\n",
       "  '3',\n",
       "  'S'],\n",
       " ['수도권제1순환선',\n",
       "  '1000',\n",
       "  '108',\n",
       "  '1000CZS370',\n",
       "  '학의JC-평촌IC',\n",
       "  '20221224',\n",
       "  '0506',\n",
       "  '1000VDS06800',\n",
       "  '36',\n",
       "  '25',\n",
       "  '167',\n",
       "  '3',\n",
       "  'S']]"
      ]
     },
     "execution_count": 3,
     "metadata": {},
     "output_type": "execute_result"
    }
   ],
   "source": [
    "all_data"
   ]
  },
  {
   "cell_type": "code",
   "execution_count": 6,
   "id": "019cc1e4",
   "metadata": {},
   "outputs": [],
   "source": [
    "df = pd.DataFrame(all_data, columns = column_list)"
   ]
  },
  {
   "cell_type": "code",
   "execution_count": null,
   "id": "3003b22f",
   "metadata": {},
   "outputs": [],
   "source": []
  },
  {
   "cell_type": "code",
   "execution_count": 7,
   "id": "d548f458",
   "metadata": {},
   "outputs": [
    {
     "data": {
      "text/html": [
       "<div>\n",
       "<style scoped>\n",
       "    .dataframe tbody tr th:only-of-type {\n",
       "        vertical-align: middle;\n",
       "    }\n",
       "\n",
       "    .dataframe tbody tr th {\n",
       "        vertical-align: top;\n",
       "    }\n",
       "\n",
       "    .dataframe thead th {\n",
       "        text-align: right;\n",
       "    }\n",
       "</style>\n",
       "<table border=\"1\" class=\"dataframe\">\n",
       "  <thead>\n",
       "    <tr style=\"text-align: right;\">\n",
       "      <th></th>\n",
       "      <th>routeName</th>\n",
       "      <th>routeNo</th>\n",
       "      <th>trafficAmout</th>\n",
       "      <th>conzoneId</th>\n",
       "      <th>conzoneName</th>\n",
       "      <th>stdDate</th>\n",
       "      <th>stdHour</th>\n",
       "      <th>vdsId</th>\n",
       "      <th>speed</th>\n",
       "      <th>shareRatio</th>\n",
       "      <th>timeAvg</th>\n",
       "      <th>grade</th>\n",
       "      <th>updownTypeCode</th>\n",
       "    </tr>\n",
       "  </thead>\n",
       "  <tbody>\n",
       "    <tr>\n",
       "      <th>0</th>\n",
       "      <td>영동선</td>\n",
       "      <td>0500</td>\n",
       "      <td>64</td>\n",
       "      <td>0500CZE070</td>\n",
       "      <td>군포IC-동군포IC</td>\n",
       "      <td>20221224</td>\n",
       "      <td>0506</td>\n",
       "      <td>0500VDE02100</td>\n",
       "      <td>30</td>\n",
       "      <td>11</td>\n",
       "      <td>125</td>\n",
       "      <td>3</td>\n",
       "      <td>E</td>\n",
       "    </tr>\n",
       "    <tr>\n",
       "      <th>1</th>\n",
       "      <td>영동선</td>\n",
       "      <td>0500</td>\n",
       "      <td>74</td>\n",
       "      <td>0500CZS070</td>\n",
       "      <td>동군포IC-군포IC</td>\n",
       "      <td>20221224</td>\n",
       "      <td>0506</td>\n",
       "      <td>0500VDS02100</td>\n",
       "      <td>34</td>\n",
       "      <td>14</td>\n",
       "      <td>112</td>\n",
       "      <td>3</td>\n",
       "      <td>S</td>\n",
       "    </tr>\n",
       "    <tr>\n",
       "      <th>2</th>\n",
       "      <td>수도권제1순환선</td>\n",
       "      <td>1000</td>\n",
       "      <td>108</td>\n",
       "      <td>1000CZS370</td>\n",
       "      <td>학의JC-평촌IC</td>\n",
       "      <td>20221224</td>\n",
       "      <td>0506</td>\n",
       "      <td>1000VDS06800</td>\n",
       "      <td>36</td>\n",
       "      <td>25</td>\n",
       "      <td>167</td>\n",
       "      <td>3</td>\n",
       "      <td>S</td>\n",
       "    </tr>\n",
       "  </tbody>\n",
       "</table>\n",
       "</div>"
      ],
      "text/plain": [
       "  routeName routeNo trafficAmout   conzoneId conzoneName   stdDate stdHour  \\\n",
       "0       영동선    0500           64  0500CZE070  군포IC-동군포IC  20221224    0506   \n",
       "1       영동선    0500           74  0500CZS070  동군포IC-군포IC  20221224    0506   \n",
       "2  수도권제1순환선    1000          108  1000CZS370   학의JC-평촌IC  20221224    0506   \n",
       "\n",
       "          vdsId speed shareRatio timeAvg grade updownTypeCode  \n",
       "0  0500VDE02100    30         11     125     3              E  \n",
       "1  0500VDS02100    34         14     112     3              S  \n",
       "2  1000VDS06800    36         25     167     3              S  "
      ]
     },
     "execution_count": 7,
     "metadata": {},
     "output_type": "execute_result"
    }
   ],
   "source": [
    "df"
   ]
  },
  {
   "cell_type": "code",
   "execution_count": null,
   "id": "069f3232",
   "metadata": {},
   "outputs": [],
   "source": [
    "s_column_list = ['stdDate','stdHour','routeName','conzoneName','routeNo','vdsId',]"
   ]
  },
  {
   "cell_type": "code",
   "execution_count": null,
   "id": "9e3a9908",
   "metadata": {},
   "outputs": [],
   "source": []
  }
 ],
 "metadata": {
  "kernelspec": {
   "display_name": "Python 3 (ipykernel)",
   "language": "python",
   "name": "python3"
  },
  "language_info": {
   "codemirror_mode": {
    "name": "ipython",
    "version": 3
   },
   "file_extension": ".py",
   "mimetype": "text/x-python",
   "name": "python",
   "nbconvert_exporter": "python",
   "pygments_lexer": "ipython3",
   "version": "3.9.13"
  }
 },
 "nbformat": 4,
 "nbformat_minor": 5
}
