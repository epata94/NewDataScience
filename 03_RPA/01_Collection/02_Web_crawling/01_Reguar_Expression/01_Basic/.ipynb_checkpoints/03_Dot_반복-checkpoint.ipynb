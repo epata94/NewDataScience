{
 "cells": [
  {
   "cell_type": "markdown",
   "id": "ee952786",
   "metadata": {},
   "source": [
    "# Dot ."
   ]
  },
  {
   "cell_type": "markdown",
   "id": "b44c6f3d",
   "metadata": {},
   "source": [
    "* 정규 표현식의 Dot(.) 메타 문자는 줄바꿈 문자 '\\n'을 제외한 모든 문자와 매치\n",
    "* 이 문법은 문자열 클래스에 적용되지는 않는다."
   ]
  },
  {
   "cell_type": "code",
   "execution_count": 1,
   "id": "8c49fdd1",
   "metadata": {},
   "outputs": [],
   "source": [
    "import re"
   ]
  },
  {
   "cell_type": "code",
   "execution_count": 2,
   "id": "21121e0c",
   "metadata": {},
   "outputs": [
    {
     "name": "stdout",
     "output_type": "stream",
     "text": [
      "<re.Match object; span=(0, 3), match='aab'>\n",
      "<re.Match object; span=(0, 3), match='a0b'>\n",
      "None\n"
     ]
    }
   ],
   "source": [
    "# 첫번째 글자가 a 두번째 글자가 아무문자(\\n 제외) 세번째 글자가 b인 표현식\n",
    "p = re.compile('a.b') \n",
    "m = p.match('aab')\n",
    "print(m)\n",
    "m = p.match('a0b')\n",
    "print(m)\n",
    "m = p.match('abc') # ab 사이에 문자가 있어야 하는데 없으므로 매치되지 않음\n",
    "print(m)"
   ]
  },
  {
   "cell_type": "code",
   "execution_count": 3,
   "id": "0c768f09",
   "metadata": {},
   "outputs": [
    {
     "name": "stdout",
     "output_type": "stream",
     "text": [
      "None\n",
      "None\n",
      "None\n"
     ]
    }
   ],
   "source": [
    "p = re.compile('a[.]b') # 문자 클래스에서 '.'' 은 문자 '.' 이다.\n",
    "m = p.match('aab')\n",
    "print(m)\n",
    "m = p.match('a0b')\n",
    "print(m)\n",
    "m = p.match('abc') \n",
    "print(m)"
   ]
  },
  {
   "cell_type": "code",
   "execution_count": 4,
   "id": "63134752",
   "metadata": {},
   "outputs": [
    {
     "name": "stdout",
     "output_type": "stream",
     "text": [
      "<re.Match object; span=(0, 7), match='aab.txt'>\n",
      "None\n"
     ]
    }
   ],
   "source": [
    "# 첫번째 글자가 a, 두번째 세번째 글자는 아무글자, 네번째 글자가 . \n",
    "# 나머지 글자가 txt\n",
    "p = re.compile('a..[.]txt')\n",
    "m = p.match('aab.txt')\n",
    "print(m)\n",
    "m = p.match('a1.txt')\n",
    "print(m)"
   ]
  },
  {
   "cell_type": "code",
   "execution_count": 5,
   "id": "18cf0dd1",
   "metadata": {},
   "outputs": [
    {
     "name": "stdout",
     "output_type": "stream",
     "text": [
      "<re.Match object; span=(0, 4), match='pen.'>\n",
      "<re.Match object; span=(0, 4), match='pen!'>\n"
     ]
    }
   ],
   "source": [
    "p=re.compile('....')\n",
    "\n",
    "m = p.match('pen.')\n",
    "print(m)\n",
    "m = p.match('pen!') \n",
    "print(m)"
   ]
  },
  {
   "cell_type": "code",
   "execution_count": 6,
   "id": "197c6dbb",
   "metadata": {},
   "outputs": [
    {
     "name": "stdout",
     "output_type": "stream",
     "text": [
      "<re.Match object; span=(0, 4), match='pen.'>\n",
      "None\n"
     ]
    }
   ],
   "source": [
    "p=re.compile('pen[.]')\n",
    "\n",
    "m = p.match('pen.')\n",
    "print(m)\n",
    "m = p.match('pen!') \n",
    "print(m)"
   ]
  },
  {
   "cell_type": "markdown",
   "id": "288b2408",
   "metadata": {},
   "source": [
    "---"
   ]
  },
  {
   "cell_type": "markdown",
   "id": "811f4ec7",
   "metadata": {},
   "source": [
    "# 반복 (*)"
   ]
  },
  {
   "cell_type": "markdown",
   "id": "1be7a3da",
   "metadata": {},
   "source": [
    "* '*'은 바로 앞에 있는 문자가 0(없거나)부터 무한대로 반복되는 패턴  \n",
    " (하지만 알려진 바로는 반복회수는 메모리 제약사항으로 약 2억개 정도만 가능)"
   ]
  },
  {
   "cell_type": "code",
   "execution_count": 8,
   "id": "d844e1b6",
   "metadata": {},
   "outputs": [],
   "source": [
    "p = re.compile('ca*t')"
   ]
  },
  {
   "cell_type": "code",
   "execution_count": 10,
   "id": "7c590ced",
   "metadata": {},
   "outputs": [
    {
     "data": {
      "text/plain": [
       "<re.Match object; span=(0, 2), match='ct'>"
      ]
     },
     "execution_count": 10,
     "metadata": {},
     "output_type": "execute_result"
    }
   ],
   "source": [
    "p.match('ct')"
   ]
  },
  {
   "cell_type": "code",
   "execution_count": 11,
   "id": "27276e4e",
   "metadata": {},
   "outputs": [
    {
     "data": {
      "text/plain": [
       "<re.Match object; span=(0, 3), match='cat'>"
      ]
     },
     "execution_count": 11,
     "metadata": {},
     "output_type": "execute_result"
    }
   ],
   "source": [
    "p.match('cat')"
   ]
  },
  {
   "cell_type": "code",
   "execution_count": 12,
   "id": "898aacea",
   "metadata": {},
   "outputs": [
    {
     "data": {
      "text/plain": [
       "<re.Match object; span=(0, 4), match='caat'>"
      ]
     },
     "execution_count": 12,
     "metadata": {},
     "output_type": "execute_result"
    }
   ],
   "source": [
    "p.match('caat')"
   ]
  },
  {
   "cell_type": "code",
   "execution_count": 13,
   "id": "487d1eeb",
   "metadata": {},
   "outputs": [
    {
     "data": {
      "text/plain": [
       "<re.Match object; span=(0, 14), match='caaaaaaaaaaaat'>"
      ]
     },
     "execution_count": 13,
     "metadata": {},
     "output_type": "execute_result"
    }
   ],
   "source": [
    "p.match('caaaaaaaaaaaat')"
   ]
  },
  {
   "cell_type": "code",
   "execution_count": 14,
   "id": "c2145674",
   "metadata": {},
   "outputs": [],
   "source": [
    "p.match('caaaaaaaaaaaaaaaa')"
   ]
  },
  {
   "cell_type": "markdown",
   "id": "13c4391c",
   "metadata": {},
   "source": [
    "# 반복 (+)"
   ]
  },
  {
   "cell_type": "markdown",
   "id": "3a9e770f",
   "metadata": {},
   "source": [
    "* '+'은 바로 앞에 있는 문자가 1개 부터 무한대로 반복되는 패턴  "
   ]
  },
  {
   "cell_type": "code",
   "execution_count": 15,
   "id": "e6a3b3ec",
   "metadata": {},
   "outputs": [
    {
     "name": "stdout",
     "output_type": "stream",
     "text": [
      "None\n",
      "<re.Match object; span=(0, 3), match='cat'>\n",
      "<re.Match object; span=(0, 4), match='caat'>\n",
      "<re.Match object; span=(0, 10), match='caaaaaaaat'>\n",
      "None\n"
     ]
    }
   ],
   "source": [
    "p=re.compile('ca+t')\n",
    "m = p.match('ct')\n",
    "print(m)\n",
    "m = p.match('cat')\n",
    "print(m)\n",
    "m = p.match('caat')\n",
    "print(m)\n",
    "m = p.match('caaaaaaaat')\n",
    "print(m)\n",
    "m = p.match('caaaaaaaaa')\n",
    "print(m)"
   ]
  },
  {
   "cell_type": "code",
   "execution_count": 16,
   "id": "cb8b24ad",
   "metadata": {},
   "outputs": [
    {
     "name": "stdout",
     "output_type": "stream",
     "text": [
      "None\n",
      "<re.Match object; span=(0, 6), match='google'>\n",
      "<re.Match object; span=(0, 24), match='goooooooooooooooooooogle'>\n"
     ]
    }
   ],
   "source": [
    "p=re.compile('goo+gle')\n",
    "m = p.match('gogle')\n",
    "print(m)\n",
    "m = p.match('google')\n",
    "print(m)\n",
    "m = p.match('goooooooooooooooooooogle')\n",
    "print(m)"
   ]
  },
  {
   "cell_type": "markdown",
   "id": "09139104",
   "metadata": {},
   "source": [
    "# 반복 {m,n}"
   ]
  },
  {
   "cell_type": "markdown",
   "id": "ee3484ad",
   "metadata": {},
   "source": [
    "* {m, n} 정규식을 사용하면 반복 횟수가 m부터 n까지 매치\n",
    "* m 또는 n을 생략할 수도 있다.\n",
    "* {3,}처럼 사용하면 반복 횟수가 3 이상인 경우이고 {,3}처럼 사용하면 반복 횟수가 3 이하를 의미\n",
    "* {1,}은 +와 동일하고, {0,}은 *와 동일\n",
    "* 숫자가 하나만 올 경우 반복 횟수를 의미한다."
   ]
  },
  {
   "cell_type": "code",
   "execution_count": 17,
   "id": "002b7c88",
   "metadata": {},
   "outputs": [
    {
     "name": "stdout",
     "output_type": "stream",
     "text": [
      "None\n",
      "None\n",
      "<re.Match object; span=(0, 4), match='caat'>\n",
      "None\n"
     ]
    }
   ],
   "source": [
    "p = re.compile('ca{2}t') # a가 2번 반복인 경우에 매치\n",
    "m = p.match('ct')\n",
    "print(m)\n",
    "m = p.match('cat')\n",
    "print(m)\n",
    "m = p.match('caat')\n",
    "print(m)\n",
    "m = p.match('caaaat')\n",
    "print(m)"
   ]
  },
  {
   "cell_type": "code",
   "execution_count": 18,
   "id": "ee850e09",
   "metadata": {},
   "outputs": [
    {
     "name": "stdout",
     "output_type": "stream",
     "text": [
      "None\n",
      "<re.Match object; span=(0, 4), match='caat'>\n",
      "<re.Match object; span=(0, 6), match='caaaat'>\n",
      "<re.Match object; span=(0, 7), match='caaaaat'>\n"
     ]
    }
   ],
   "source": [
    "p = re.compile('ca{2,5}t') # a가 2~5 사이의 반복인 경우에 매치\n",
    "m = p.match('ct')\n",
    "print(m)\n",
    "m = p.match('caat')\n",
    "print(m)\n",
    "m = p.match('caaaat')\n",
    "print(m)\n",
    "m = p.match('caaaaat')\n",
    "print(m)"
   ]
  },
  {
   "cell_type": "code",
   "execution_count": 19,
   "id": "feabf6e5",
   "metadata": {},
   "outputs": [
    {
     "name": "stdout",
     "output_type": "stream",
     "text": [
      "None\n",
      "<re.Match object; span=(0, 4), match='caat'>\n",
      "<re.Match object; span=(0, 6), match='caaaat'>\n",
      "<re.Match object; span=(0, 7), match='caaaaat'>\n",
      "<re.Match object; span=(0, 12), match='caaaaaaaaaat'>\n"
     ]
    }
   ],
   "source": [
    "p=re.compile('ca{2,}t') # a가 2이상 반복인 경우에 매칭이 된다.\n",
    "m = p.match('cat')\n",
    "print(m)\n",
    "m = p.match('caat')\n",
    "print(m)\n",
    "m = p.match('caaaat')\n",
    "print(m)\n",
    "m = p.match('caaaaat')\n",
    "print(m)\n",
    "m = p.match('caaaaaaaaaat')\n",
    "print(m)"
   ]
  },
  {
   "cell_type": "code",
   "execution_count": 20,
   "id": "533669b4",
   "metadata": {},
   "outputs": [
    {
     "name": "stdout",
     "output_type": "stream",
     "text": [
      "<re.Match object; span=(0, 2), match='ct'>\n",
      "<re.Match object; span=(0, 3), match='cat'>\n",
      "<re.Match object; span=(0, 4), match='caat'>\n",
      "<re.Match object; span=(0, 6), match='caaaat'>\n",
      "<re.Match object; span=(0, 7), match='caaaaat'>\n",
      "None\n"
     ]
    }
   ],
   "source": [
    "p=re.compile('ca{,5}t') # a가 5이하 반복인 경우에 매칭이 된다.\n",
    "m = p.match('ct')  # 이하의 조건이므로 a가 없는 경우도 만족\n",
    "print(m)\n",
    "m = p.match('cat')\n",
    "print(m)\n",
    "m = p.match('caat')\n",
    "print(m)\n",
    "m = p.match('caaaat')\n",
    "print(m)\n",
    "m = p.match('caaaaat')\n",
    "print(m)\n",
    "m = p.match('caaaaaaaaaat')\n",
    "print(m)"
   ]
  },
  {
   "cell_type": "markdown",
   "id": "02084dc3",
   "metadata": {},
   "source": [
    "# 선택사항 ?"
   ]
  },
  {
   "cell_type": "markdown",
   "id": "297cd155",
   "metadata": {},
   "source": [
    "* ? 메타문자가 의미하는 것은 {0,1}"
   ]
  },
  {
   "cell_type": "code",
   "execution_count": 21,
   "id": "81896915",
   "metadata": {},
   "outputs": [
    {
     "name": "stdout",
     "output_type": "stream",
     "text": [
      "<re.Match object; span=(0, 2), match='ac'>\n",
      "<re.Match object; span=(0, 3), match='abc'>\n",
      "None\n",
      "None\n",
      "<re.Match object; span=(0, 3), match='abc'>\n"
     ]
    }
   ],
   "source": [
    "# 첫번째 글자가 a 두번째글자는 b일 수도 있거나 아닌경우 그 다음 글자가 c (반드시 3번째는 아님)\n",
    "p=re.compile('ab?c')\n",
    "m = p.match('ac')\n",
    "print(m)\n",
    "m = p.match('abc')\n",
    "print(m)\n",
    "m = p.match('abbc') # b가 매치가 되었다면 다음 순서는 c가 와야 하므로 매치 않됨\n",
    "print(m)\n",
    "m = p.match('abbbc') # b가 매치가 되었다면 다음 순서는 c가 와야 하므로 매치 않됨\n",
    "print(m)\n",
    "m = p.match('abcd') # 문자열중 정규식에 일치하는 abc만 매치\n",
    "print(m)"
   ]
  },
  {
   "cell_type": "code",
   "execution_count": null,
   "id": "36a4b1ac",
   "metadata": {},
   "outputs": [],
   "source": []
  }
 ],
 "metadata": {
  "kernelspec": {
   "display_name": "Python 3 (ipykernel)",
   "language": "python",
   "name": "python3"
  },
  "language_info": {
   "codemirror_mode": {
    "name": "ipython",
    "version": 3
   },
   "file_extension": ".py",
   "mimetype": "text/x-python",
   "name": "python",
   "nbconvert_exporter": "python",
   "pygments_lexer": "ipython3",
   "version": "3.9.13"
  }
 },
 "nbformat": 4,
 "nbformat_minor": 5
}
