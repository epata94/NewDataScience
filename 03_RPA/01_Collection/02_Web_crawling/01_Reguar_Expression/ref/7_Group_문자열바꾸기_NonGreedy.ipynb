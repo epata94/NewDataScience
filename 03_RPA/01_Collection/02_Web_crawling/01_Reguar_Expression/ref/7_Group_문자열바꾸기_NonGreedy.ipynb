{
 "cells": [
  {
   "cell_type": "markdown",
   "id": "2703281f",
   "metadata": {},
   "source": [
    "## ()\n",
    "* 문자열 패턴의 반복을 지정\n",
    "* 그룹을 지정하면 문자열 전체에서 매칭되는 패턴을 그룹단위로 찾아준다."
   ]
  },
  {
   "cell_type": "code",
   "execution_count": 1,
   "id": "a3b1e466",
   "metadata": {},
   "outputs": [],
   "source": [
    "import re"
   ]
  },
  {
   "cell_type": "code",
   "execution_count": 9,
   "id": "cd88ed3e",
   "metadata": {},
   "outputs": [
    {
     "name": "stdout",
     "output_type": "stream",
     "text": [
      "<re.Match object; span=(0, 9), match='ABCABCABC'>\n",
      "ABCABCABC\n",
      "ABC\n"
     ]
    }
   ],
   "source": [
    "p = re.compile('(ABC)+')\n",
    "m = p.search('ABCABCABC OK? ABC')\n",
    "print(m)\n",
    "print(m.group(0))\n",
    "print(m.group(1))"
   ]
  },
  {
   "cell_type": "code",
   "execution_count": 10,
   "id": "745e051f",
   "metadata": {},
   "outputs": [
    {
     "name": "stdout",
     "output_type": "stream",
     "text": [
      "<re.Match object; span=(0, 6), match='ABCABC'>\n"
     ]
    }
   ],
   "source": [
    "m = p.search('ABCABCAB OK?')\n",
    "print(m)"
   ]
  },
  {
   "cell_type": "code",
   "execution_count": 11,
   "id": "071f7c04",
   "metadata": {},
   "outputs": [
    {
     "name": "stdout",
     "output_type": "stream",
     "text": [
      "<re.Match object; span=(0, 9), match='ABCABCABC'>\n",
      "ABCABCABC\n",
      "ABC\n"
     ]
    }
   ],
   "source": [
    "m = p.search('ABCABCABC OK? ABC')\n",
    "print(m)\n",
    "print(m.group(0))\n",
    "print(m.group(1))"
   ]
  },
  {
   "cell_type": "code",
   "execution_count": 16,
   "id": "256cdc8c",
   "metadata": {},
   "outputs": [
    {
     "name": "stdout",
     "output_type": "stream",
     "text": [
      "<re.Match object; span=(0, 18), match='park 010-1234-1234'>\n",
      "park 010-1234-1234\n",
      "park 010-1234-1234\n"
     ]
    }
   ],
   "source": [
    "p=re.compile(\"\\w+\\s+\\d+[-]\\d+[-]\\d+\")\n",
    "m=p.search(\"park 010-1234-1234\")\n",
    "print(m)\n",
    "print(m.group())\n",
    "print(m.group(0))"
   ]
  },
  {
   "cell_type": "code",
   "execution_count": 18,
   "id": "2e1c78c4",
   "metadata": {},
   "outputs": [
    {
     "ename": "IndexError",
     "evalue": "no such group",
     "output_type": "error",
     "traceback": [
      "\u001b[1;31m---------------------------------------------------------------------------\u001b[0m",
      "\u001b[1;31mIndexError\u001b[0m                                Traceback (most recent call last)",
      "Cell \u001b[1;32mIn [18], line 1\u001b[0m\n\u001b[1;32m----> 1\u001b[0m \u001b[38;5;28mprint\u001b[39m(\u001b[43mm\u001b[49m\u001b[38;5;241;43m.\u001b[39;49m\u001b[43mgroup\u001b[49m\u001b[43m(\u001b[49m\u001b[38;5;241;43m1\u001b[39;49m\u001b[43m)\u001b[49m)\n",
      "\u001b[1;31mIndexError\u001b[0m: no such group"
     ]
    }
   ],
   "source": [
    "print(m.group(1)) # 없는 그룹을 참조하여 에러"
   ]
  },
  {
   "cell_type": "code",
   "execution_count": 21,
   "id": "4e45b2da",
   "metadata": {},
   "outputs": [
    {
     "name": "stdout",
     "output_type": "stream",
     "text": [
      "<re.Match object; span=(0, 18), match='park 010-1234-5678'>\n",
      "park 010-1234-5678\n",
      "park\n",
      "010\n",
      "1234\n",
      "5678\n"
     ]
    }
   ],
   "source": [
    "p=re.compile('(\\w+)\\s+(\\d+)[-](\\d+)[-](\\d+)')\n",
    "m = p.match(\"park 010-1234-5678\")\n",
    "print(m)\n",
    "print(m.group(0))\n",
    "print(m.group(1))\n",
    "print(m.group(2))\n",
    "print(m.group(3))\n",
    "print(m.group(4))"
   ]
  },
  {
   "cell_type": "markdown",
   "id": "d65c9b32",
   "metadata": {},
   "source": [
    "## 그루핑된 문자열에 이름 붙이기\n",
    "* (?P<그룹명>...)\n",
    "* 정규식안에 그룹이 많아 질 경우 구분하기 위한 식별자로 활용"
   ]
  },
  {
   "cell_type": "code",
   "execution_count": 33,
   "id": "cf0bfa1a",
   "metadata": {},
   "outputs": [
    {
     "name": "stdout",
     "output_type": "stream",
     "text": [
      "park\n"
     ]
    }
   ],
   "source": [
    "p = re.compile(\"(?P<name>\\w+)\\s+((\\d+)[-]\\d+[-]\\d+)\")\n",
    "m = p.search(\"park 010-1234-5678\")\n",
    "print(m.group(\"name\"))"
   ]
  },
  {
   "cell_type": "code",
   "execution_count": 34,
   "id": "27420a04",
   "metadata": {},
   "outputs": [
    {
     "name": "stdout",
     "output_type": "stream",
     "text": [
      "park 010-1234-5678\n",
      "park\n",
      "010-1234-5678\n"
     ]
    }
   ],
   "source": [
    "print(m.group(0))\n",
    "print(m.group(1))\n",
    "print(m.group(2))"
   ]
  },
  {
   "cell_type": "code",
   "execution_count": 35,
   "id": "314f1afe",
   "metadata": {},
   "outputs": [
    {
     "name": "stdout",
     "output_type": "stream",
     "text": [
      "park\n",
      "010\n",
      "1234\n",
      "5678\n"
     ]
    }
   ],
   "source": [
    "p = re.compile(\"(?P<name>\\w+)\\s+(?P<first_num>\\d+)[-](?P<middle_num>\\d+)[-](?P<last_num>\\d+)\")\n",
    "m = p.search(\"park 010-1234-5678\")\n",
    "print(m.group(\"name\"))\n",
    "print(m.group(\"first_num\"))\n",
    "print(m.group(\"middle_num\"))\n",
    "print(m.group(\"last_num\"))"
   ]
  },
  {
   "cell_type": "code",
   "execution_count": 36,
   "id": "63e5d083",
   "metadata": {},
   "outputs": [
    {
     "name": "stdout",
     "output_type": "stream",
     "text": [
      "park\n",
      "010\n",
      "1234\n",
      "5678\n"
     ]
    }
   ],
   "source": [
    "p = re.compile(r\"\"\"\n",
    "(?P<name>\\w+)       # park를 매칭하기 위한 정규식\n",
    "\\s+                 # park 다음 공백 문자를 매칭하기 위한 정규식\n",
    "(?P<first_num>\\d+)  # 010 첫번째 숫자 그룹을 매칭하기 위한 정규식\n",
    "[-]                 # 첫 번쨰와 두번째 숫자 그룹 사이의 - 문자를 매칭하기 위한 정규식\n",
    "(?P<middle_num>\\d+) # 1234 두번째 숫자 그룹을 매칭하기 위한 정규식\n",
    "[-]                 # 두 번쨰와 세번째 숫자 그룹 사이의 - 문자를 매칭하기 위한 정규식\n",
    "(?P<last_num>\\d+)   # 5678 세번째 숫자 그룹을 매칭하기 위한 정규식\n",
    "\"\"\",re.VERBOSE)\n",
    "m = p.search(\"park 010-1234-5678\")\n",
    "print(m.group(\"name\"))\n",
    "print(m.group(\"first_num\"))\n",
    "print(m.group(\"middle_num\"))\n",
    "print(m.group(\"last_num\"))"
   ]
  },
  {
   "cell_type": "markdown",
   "id": "41e795ee",
   "metadata": {},
   "source": [
    "## 전방 탐색 (Lookahead Assertions)"
   ]
  },
  {
   "cell_type": "markdown",
   "id": "99368d48",
   "metadata": {},
   "source": [
    "#### 'http://google.com' 문자열에서 http만 매치하고자 한다면?"
   ]
  },
  {
   "cell_type": "code",
   "execution_count": 37,
   "id": "ca3fbf60",
   "metadata": {},
   "outputs": [
    {
     "name": "stdout",
     "output_type": "stream",
     "text": [
      "http:\n"
     ]
    }
   ],
   "source": [
    "p = re.compile(\".+:\")\n",
    "m = p.search(\"http://google.com\")\n",
    "print(m.group())"
   ]
  },
  {
   "cell_type": "markdown",
   "id": "7ff25dbe",
   "metadata": {},
   "source": [
    "* 긍정형 전방 탐색((?=...)) : 해당 정규식과 매치되어야 하며 조건이 통과되어도 문자열이 소비되지 않는다.\n",
    "* 부정형 전방 탐색((?!...))  : 해당 정규식과 매치되지 않아야 하며 조건이 통과되어도 문자열이 소비되지 않는다."
   ]
  },
  {
   "cell_type": "markdown",
   "id": "87cdfa2b",
   "metadata": {},
   "source": [
    "### 긍정형 전방 탐색 (Positive Lookahead Assertions)"
   ]
  },
  {
   "cell_type": "code",
   "execution_count": 38,
   "id": "7ef10b4b",
   "metadata": {},
   "outputs": [
    {
     "name": "stdout",
     "output_type": "stream",
     "text": [
      "http\n"
     ]
    }
   ],
   "source": [
    "p = re.compile(\".+(?=:)\")\n",
    "m = p.search(\"http://google.com\")\n",
    "print(m.group())"
   ]
  },
  {
   "cell_type": "markdown",
   "id": "8f9bc094",
   "metadata": {},
   "source": [
    "### 부정형 전방 탐색 (Negative Lookahead Assertions)"
   ]
  },
  {
   "cell_type": "markdown",
   "id": "2731c3b4",
   "metadata": {},
   "source": [
    "#### Ver 1. 파일을 검색하는 정규식"
   ]
  },
  {
   "cell_type": "code",
   "execution_count": 39,
   "id": "2fe1e09c",
   "metadata": {},
   "outputs": [
    {
     "name": "stdout",
     "output_type": "stream",
     "text": [
      "<re.Match object; span=(0, 7), match='foo.bar'>\n",
      "<re.Match object; span=(0, 12), match='autoexec.bat'>\n",
      "<re.Match object; span=(0, 11), match='sendmail.cf'>\n"
     ]
    }
   ],
   "source": [
    "file_name_list=[\"foo.bar\",\"autoexec.bat\",\"sendmail.cf\"]\n",
    "\n",
    "p = re.compile('.*[.].*$')\n",
    "for file_name in file_name_list:\n",
    "    print(p.search(file_name))"
   ]
  },
  {
   "cell_type": "markdown",
   "id": "dc3fb5a1",
   "metadata": {},
   "source": [
    "#### Ver 2.  확장자가 bat인 파일을 제외하는 조건 추가 시도 1"
   ]
  },
  {
   "cell_type": "code",
   "execution_count": 40,
   "id": "ad773a09",
   "metadata": {},
   "outputs": [
    {
     "name": "stdout",
     "output_type": "stream",
     "text": [
      "None\n",
      "None\n",
      "<re.Match object; span=(0, 11), match='sendmail.cf'>\n"
     ]
    }
   ],
   "source": [
    "p = re.compile('.*[.][^b].*$')\n",
    "for file_name in file_name_list:\n",
    "    print(p.search(file_name))"
   ]
  },
  {
   "cell_type": "markdown",
   "id": "e2042c67",
   "metadata": {},
   "source": [
    "#### foo.bat 도 제외 됬으므로 실패!"
   ]
  },
  {
   "cell_type": "markdown",
   "id": "3bd8faae",
   "metadata": {},
   "source": [
    "#### Ver 3.  확장자가 bat인 파일을 제외하는 조건 추가 시도 2"
   ]
  },
  {
   "cell_type": "code",
   "execution_count": 41,
   "id": "1eb25a7d",
   "metadata": {},
   "outputs": [
    {
     "name": "stdout",
     "output_type": "stream",
     "text": [
      "<re.Match object; span=(0, 7), match='foo.bar'>\n",
      "None\n",
      "None\n"
     ]
    }
   ],
   "source": [
    "p = re.compile('.*[.]([^b]..|.[^a].|..[^t])$')\n",
    "for file_name in file_name_list:\n",
    "    print(p.search(file_name))"
   ]
  },
  {
   "cell_type": "markdown",
   "id": "d18b4661",
   "metadata": {},
   "source": [
    "#### sendmail.cf 도 제외됬으므로 실패!"
   ]
  },
  {
   "cell_type": "markdown",
   "id": "ac718abf",
   "metadata": {},
   "source": [
    "#### Ver 4.  확장자가 bat인 파일을 제외하는 조건 추가 시도 3"
   ]
  },
  {
   "cell_type": "code",
   "execution_count": 42,
   "id": "ec809862",
   "metadata": {},
   "outputs": [
    {
     "name": "stdout",
     "output_type": "stream",
     "text": [
      "<re.Match object; span=(0, 7), match='foo.bar'>\n",
      "None\n",
      "<re.Match object; span=(0, 11), match='sendmail.cf'>\n"
     ]
    }
   ],
   "source": [
    "p = re.compile('.*[.]([^b].?.?|.[^a]?.?|..?[^t]?)$')\n",
    "for file_name in file_name_list:\n",
    "    print(p.search(file_name))"
   ]
  },
  {
   "cell_type": "markdown",
   "id": "951bd454",
   "metadata": {},
   "source": [
    "#### 성공.. 그런데 정규식.. 어렵다.."
   ]
  },
  {
   "cell_type": "markdown",
   "id": "14c0987b",
   "metadata": {},
   "source": [
    "#### Ver 5. 부정형 전방 탐색 적용"
   ]
  },
  {
   "cell_type": "code",
   "execution_count": 43,
   "id": "c480b9d2",
   "metadata": {},
   "outputs": [
    {
     "name": "stdout",
     "output_type": "stream",
     "text": [
      "<re.Match object; span=(0, 7), match='foo.bar'>\n",
      "None\n",
      "<re.Match object; span=(0, 11), match='sendmail.cf'>\n"
     ]
    }
   ],
   "source": [
    "p = re.compile('.*[.](?!bat$).*$')\n",
    "for file_name in file_name_list:\n",
    "    print(p.search(file_name))"
   ]
  },
  {
   "cell_type": "markdown",
   "id": "d82e9f9d",
   "metadata": {},
   "source": [
    "#### 제외하는 조건이 많아 질 수록 더 유용하다."
   ]
  },
  {
   "cell_type": "code",
   "execution_count": 44,
   "id": "8c3afd94",
   "metadata": {},
   "outputs": [
    {
     "name": "stdout",
     "output_type": "stream",
     "text": [
      "None\n",
      "None\n",
      "<re.Match object; span=(0, 11), match='sendmail.cf'>\n"
     ]
    }
   ],
   "source": [
    "p = re.compile('.*[.](?!bat$|bar$).*$')\n",
    "for file_name in file_name_list:\n",
    "    print(p.search(file_name))"
   ]
  },
  {
   "cell_type": "markdown",
   "id": "ae774814",
   "metadata": {},
   "source": [
    "---"
   ]
  },
  {
   "cell_type": "markdown",
   "id": "9287164b",
   "metadata": {},
   "source": [
    "## 문자열 바꾸기"
   ]
  },
  {
   "cell_type": "markdown",
   "id": "6528fd0e",
   "metadata": {},
   "source": [
    "### sub 메서드"
   ]
  },
  {
   "cell_type": "code",
   "execution_count": 45,
   "id": "5836ddbf",
   "metadata": {},
   "outputs": [
    {
     "name": "stdout",
     "output_type": "stream",
     "text": [
      "colour socks and colour shoes\n",
      "colour socks and red shoes\n",
      "colour socks and colour shoes\n",
      "('colour socks and colour shoes', 2)\n"
     ]
    }
   ],
   "source": [
    "p = re.compile('(blue|white|red)')\n",
    "print(p.sub('colour','blue socks and red shoes'))\n",
    "print(p.sub('colour','blue socks and red shoes',count=1)) # 1번만 바꾸는 조건\n",
    "print(p.sub('colour','blue socks and red shoes',count=2)) # 2번 바꾸는 조건"
   ]
  },
  {
   "cell_type": "markdown",
   "id": "e2b71354",
   "metadata": {},
   "source": [
    "### subn 메서드"
   ]
  },
  {
   "cell_type": "code",
   "execution_count": 47,
   "id": "ce6e30b9",
   "metadata": {},
   "outputs": [
    {
     "data": {
      "text/plain": [
       "('colour socks and colour shoes', 2)"
      ]
     },
     "execution_count": 47,
     "metadata": {},
     "output_type": "execute_result"
    }
   ],
   "source": [
    "p.subn('colour','blue socks and red shoes') # 바꾼 문자열과 바꾼 횟수를 반환"
   ]
  },
  {
   "cell_type": "markdown",
   "id": "9cf2d85a",
   "metadata": {},
   "source": [
    "### sub 메서드 사용시 참조 구문 사용하기"
   ]
  },
  {
   "cell_type": "code",
   "execution_count": 48,
   "id": "8d0c36b8",
   "metadata": {},
   "outputs": [],
   "source": [
    "p = re.compile(r\"(?P<name>\\w+)\\s+(?P<phone>(\\d+)[-]\\d+[-]\\d+)\")"
   ]
  },
  {
   "cell_type": "code",
   "execution_count": 49,
   "id": "e0986770",
   "metadata": {},
   "outputs": [
    {
     "name": "stdout",
     "output_type": "stream",
     "text": [
      "010-1234-1234 park\n"
     ]
    }
   ],
   "source": [
    "print(p.sub(\"\\g<phone> \\g<name>\", \"park 010-1234-1234\"))"
   ]
  },
  {
   "cell_type": "code",
   "execution_count": 50,
   "id": "23acefa0",
   "metadata": {},
   "outputs": [
    {
     "name": "stdout",
     "output_type": "stream",
     "text": [
      "010-1234-1234 park\n"
     ]
    }
   ],
   "source": [
    "print(p.sub(\"\\g<2> \\g<1>\", \"park 010-1234-1234\"))"
   ]
  },
  {
   "cell_type": "markdown",
   "id": "15e717f3",
   "metadata": {},
   "source": [
    "### sub 메서드의 매개변수로 함수 넣기"
   ]
  },
  {
   "cell_type": "code",
   "execution_count": 51,
   "id": "e2d8cf8d",
   "metadata": {},
   "outputs": [],
   "source": [
    "def hexrepl(match):\n",
    "    \"Return the hex string for a decimal number\"\n",
    "    value = int(match.group())\n",
    "    return hex(value)"
   ]
  },
  {
   "cell_type": "code",
   "execution_count": 52,
   "id": "90b9035f",
   "metadata": {},
   "outputs": [
    {
     "name": "stdout",
     "output_type": "stream",
     "text": [
      "Call 0xffd2 for printing, 0xc000 for user code.\n"
     ]
    }
   ],
   "source": [
    "p = re.compile('\\d+')\n",
    "print(p.sub(hexrepl,'Call 65490 for printing, 49152 for user code.'))"
   ]
  },
  {
   "cell_type": "markdown",
   "id": "cb91f0b7",
   "metadata": {},
   "source": [
    "---"
   ]
  },
  {
   "cell_type": "markdown",
   "id": "39e10c4c",
   "metadata": {},
   "source": [
    "## Greedy vs Non-Greedy"
   ]
  },
  {
   "cell_type": "markdown",
   "id": "bd0e2ad0",
   "metadata": {},
   "source": [
    "### Greedy의 의미"
   ]
  },
  {
   "cell_type": "code",
   "execution_count": 53,
   "id": "341baab8",
   "metadata": {},
   "outputs": [],
   "source": [
    "s='<html><head><title>Title</title>'"
   ]
  },
  {
   "cell_type": "markdown",
   "id": "471e9c7f",
   "metadata": {},
   "source": [
    "### \\<html\\> 만 검색하려고 한다."
   ]
  },
  {
   "cell_type": "code",
   "execution_count": 54,
   "id": "3923ada6",
   "metadata": {},
   "outputs": [
    {
     "name": "stdout",
     "output_type": "stream",
     "text": [
      "<re.Match object; span=(0, 32), match='<html><head><title>Title</title>'>\n"
     ]
    }
   ],
   "source": [
    "print(re.match('<.*>',s))"
   ]
  },
  {
   "cell_type": "markdown",
   "id": "19dfadcf",
   "metadata": {},
   "source": [
    "### 안된다."
   ]
  },
  {
   "cell_type": "markdown",
   "id": "efa3bfcd",
   "metadata": {},
   "source": [
    "### non-greedy 문자인 ?를 사용하면 *의 탐욕을 제한할 수 있다."
   ]
  },
  {
   "cell_type": "code",
   "execution_count": 55,
   "id": "6f6ba043",
   "metadata": {},
   "outputs": [
    {
     "name": "stdout",
     "output_type": "stream",
     "text": [
      "<re.Match object; span=(0, 6), match='<html>'>\n"
     ]
    }
   ],
   "source": [
    "print(re.match('<.*?>',s))"
   ]
  },
  {
   "cell_type": "markdown",
   "id": "35a16381",
   "metadata": {},
   "source": [
    "---"
   ]
  },
  {
   "cell_type": "markdown",
   "id": "8b80e0ec",
   "metadata": {},
   "source": [
    "---"
   ]
  },
  {
   "cell_type": "markdown",
   "id": "9fce5031",
   "metadata": {},
   "source": [
    "# 수고했습니다! 이제 정규식을 연습합시다!"
   ]
  },
  {
   "cell_type": "markdown",
   "id": "fb12a24e",
   "metadata": {},
   "source": [
    "https://regexone.com/"
   ]
  },
  {
   "cell_type": "code",
   "execution_count": null,
   "id": "e390ea3c",
   "metadata": {},
   "outputs": [],
   "source": []
  }
 ],
 "metadata": {
  "kernelspec": {
   "display_name": "Python 3 (ipykernel)",
   "language": "python",
   "name": "python3"
  },
  "language_info": {
   "codemirror_mode": {
    "name": "ipython",
    "version": 3
   },
   "file_extension": ".py",
   "mimetype": "text/x-python",
   "name": "python",
   "nbconvert_exporter": "python",
   "pygments_lexer": "ipython3",
   "version": "3.9.13"
  }
 },
 "nbformat": 4,
 "nbformat_minor": 5
}
