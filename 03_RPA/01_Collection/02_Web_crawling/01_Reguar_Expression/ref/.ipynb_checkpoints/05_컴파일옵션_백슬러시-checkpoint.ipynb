{
 "cells": [
  {
   "cell_type": "markdown",
   "id": "d319a334",
   "metadata": {},
   "source": [
    "## 정규식을 컴파일 할 때 다음 옵션을 사용할 수 있다.\n",
    "* DOTALL(S) - . 이 줄바꿈 문자를 포함하여 모든 문자와 매치할 수 있도록 한다.\n",
    "* IGNORECASE(I) - 대소문자에 관계없이 매치할 수 있도록 한다.\n",
    "* MULTILINE(M) - 여러줄과 매치할 수 있도록 한다. (^, $ 메타문자의 사용과 관계가 있는 옵션이다)\n",
    "* VERBOSE(X) - verbose 모드를 사용할 수 있도록 한다. (정규식을 보기 편하게 만들수 있고 주석등을 사용할 수 있게된다.)"
   ]
  },
  {
   "cell_type": "markdown",
   "id": "62b84470",
   "metadata": {},
   "source": [
    "### DOTALL, S"
   ]
  },
  {
   "cell_type": "code",
   "execution_count": 2,
   "id": "c93bbc26",
   "metadata": {},
   "outputs": [],
   "source": [
    "import re"
   ]
  },
  {
   "cell_type": "code",
   "execution_count": 4,
   "id": "472d7433",
   "metadata": {},
   "outputs": [
    {
     "name": "stdout",
     "output_type": "stream",
     "text": [
      "None\n"
     ]
    }
   ],
   "source": [
    "original_text=\"\"\"a\n",
    "b\"\"\"\n",
    "# original_text=\"a\\nb\"\n",
    "p=re.compile(\"a.b\") # 정규식 '.'는 원문에 \\n에 대해서 기본 옵션으로 사용하면 패턴 매칭이\n",
    "                     # 일어나지 않는다.\n",
    "m = p.match(original_text)\n",
    "print(m)"
   ]
  },
  {
   "cell_type": "code",
   "execution_count": 5,
   "id": "cdbb6858",
   "metadata": {},
   "outputs": [
    {
     "name": "stdout",
     "output_type": "stream",
     "text": [
      "<re.Match object; span=(0, 3), match='a\\nb'>\n"
     ]
    }
   ],
   "source": [
    "p=re.compile(\"a\\nb\")# 참고) 정규식에 '\\n'을 사용한 경우는 기본 옵션을 사용해도 패턴 매칭\n",
    "                     # 을 할 수 있다.\n",
    "m = p.match(original_text)\n",
    "print(m)"
   ]
  },
  {
   "cell_type": "code",
   "execution_count": 6,
   "id": "f2b08d21",
   "metadata": {},
   "outputs": [
    {
     "name": "stdout",
     "output_type": "stream",
     "text": [
      "<re.Match object; span=(0, 3), match='a\\nb'>\n"
     ]
    }
   ],
   "source": [
    "# p=re.compile(\"a.b\", re.DOTALL)\n",
    "p=re.compile(\"a.b\", re.S)\n",
    "# 원문의 줄바꿈 '\\n'을 매칭 시킬 '.' 이 re.DOTALL 옵션사용시 필요하다.\n",
    "m = p.match(original_text)\n",
    "print(m)"
   ]
  },
  {
   "cell_type": "markdown",
   "id": "b16c56f1",
   "metadata": {},
   "source": [
    "### IGNORECASE, I\n",
    "* re.IGNORECASE 또는 re.I 옵션은 대소문자 구별 없이 매치를 수행할 때 사용하는 옵션"
   ]
  },
  {
   "cell_type": "code",
   "execution_count": 7,
   "id": "3ad4b5fc",
   "metadata": {},
   "outputs": [
    {
     "name": "stdout",
     "output_type": "stream",
     "text": [
      "<re.Match object; span=(0, 6), match='python'>\n",
      "<re.Match object; span=(0, 6), match='Python'>\n",
      "<re.Match object; span=(0, 6), match='PYTHON'>\n"
     ]
    }
   ],
   "source": [
    "p = re.compile('[a-z]+', re.I)\n",
    "print(p.match('python'))\n",
    "print(p.match('Python'))\n",
    "print(p.match('PYTHON'))"
   ]
  },
  {
   "cell_type": "markdown",
   "id": "9aa07df1",
   "metadata": {},
   "source": [
    "### MULTILINE, M"
   ]
  },
  {
   "cell_type": "raw",
   "id": "415d33a8",
   "metadata": {},
   "source": [
    "후에 설명할 메타 문자인 ^, $와 연관된 옵션이다.   \n",
    "^는 문자열의 처음을 의미하고, $는 문자열의 마지막을 의미한다.   \n",
    "예를 들어 정규식이 ^python인 경우 문자열의 처음은 항상 python으로 시작해야 매치되고,\n",
    "만약 정규식이 python$이라면 문자열의 마지막은 항상 python으로 끝나야 매치된다는 의미이다."
   ]
  },
  {
   "cell_type": "code",
   "execution_count": 8,
   "id": "9b639f53",
   "metadata": {},
   "outputs": [],
   "source": [
    "data = \"\"\"python one\n",
    "life is too short\n",
    "python two\n",
    "you need python\n",
    "python three\"\"\""
   ]
  },
  {
   "cell_type": "code",
   "execution_count": 9,
   "id": "35ca5177",
   "metadata": {},
   "outputs": [
    {
     "name": "stdout",
     "output_type": "stream",
     "text": [
      "['python one']\n"
     ]
    }
   ],
   "source": [
    "p = re.compile(\"^python\\s\\w+\")\n",
    "print(p.findall(data))   # 첫 번째 라인 매치 결과만 반환"
   ]
  },
  {
   "cell_type": "code",
   "execution_count": 10,
   "id": "782af195",
   "metadata": {},
   "outputs": [
    {
     "name": "stdout",
     "output_type": "stream",
     "text": [
      "['python one', 'python two', 'python three']\n"
     ]
    }
   ],
   "source": [
    "p = re.compile(\"^python\\s\\w+\", re.MULTILINE)\n",
    "print(p.findall(data))   # 모든 라인의 매치 결과만 반환"
   ]
  },
  {
   "cell_type": "markdown",
   "id": "3f9e67e6",
   "metadata": {},
   "source": [
    "## VERBOSE, X\n",
    "* 한 줄로 표현하는 정규식을 여러줄로 표현 할 수 있다."
   ]
  },
  {
   "cell_type": "code",
   "execution_count": 11,
   "id": "385fa97b",
   "metadata": {},
   "outputs": [],
   "source": [
    "charref = re.compile(r'&[#](0[0-7]+|[0-9]+|x[0-9a-fA-F]+);')"
   ]
  },
  {
   "cell_type": "code",
   "execution_count": 12,
   "id": "f8beefe6",
   "metadata": {},
   "outputs": [],
   "source": [
    "charref = re.compile(r\"\"\"\n",
    " &[#]                # Start of a numeric entity reference\n",
    " (\n",
    "     0[0-7]+         # Octal form\n",
    "   | [0-9]+          # Decimal form\n",
    "   | x[0-9a-fA-F]+   # Hexadecimal form\n",
    " )\n",
    " ;                   # Trailing semicolon\n",
    "\"\"\", re.VERBOSE) # 줄바꿈 이후의 공백문자는 컴파일시 제거된다."
   ]
  },
  {
   "cell_type": "markdown",
   "id": "7b53b2a1",
   "metadata": {},
   "source": [
    "## 백슬러시 (\\\\) 문제"
   ]
  },
  {
   "cell_type": "markdown",
   "id": "bf720859",
   "metadata": {},
   "source": [
    "\\\\section 이라는 문자열에서 \\\\를 매칭하고자 하는 경우  \n",
    "정규식에서 \\\\s 는 공백문자 처리를 위한 표현식이기 때문에 사용할 수 없다."
   ]
  },
  {
   "attachments": {
    "image.png": {
     "image/png": "[encoded data removed]"
    }
   },
   "cell_type": "markdown",
   "id": "cffe755d",
   "metadata": {},
   "source": [
    "![image.png](attachment:image.png)"
   ]
  },
  {
   "cell_type": "code",
   "execution_count": 17,
   "id": "ca05bb85",
   "metadata": {},
   "outputs": [
    {
     "name": "stdout",
     "output_type": "stream",
     "text": [
      "<re.Match object; span=(0, 8), match='\\\\section'>\n"
     ]
    }
   ],
   "source": [
    "p = re.compile('\\\\\\\\section')\n",
    "m=p.match('\\\\section')\n",
    "print(m)"
   ]
  },
  {
   "cell_type": "code",
   "execution_count": 19,
   "id": "0df8eac6",
   "metadata": {},
   "outputs": [
    {
     "name": "stdout",
     "output_type": "stream",
     "text": [
      "<re.Match object; span=(0, 8), match='\\\\section'>\n"
     ]
    }
   ],
   "source": [
    "p = re.compile(r'\\\\section') # r 옵션을 통하여 백슬러시를 2개를 써도 동일한 효과\n",
    "m=p.match('\\\\section')\n",
    "print(m)"
   ]
  }
 ],
 "metadata": {
  "kernelspec": {
   "display_name": "Python 3 (ipykernel)",
   "language": "python",
   "name": "python3"
  },
  "language_info": {
   "codemirror_mode": {
    "name": "ipython",
    "version": 3
   },
   "file_extension": ".py",
   "mimetype": "text/x-python",
   "name": "python",
   "nbconvert_exporter": "python",
   "pygments_lexer": "ipython3",
   "version": "3.9.13"
  }
 },
 "nbformat": 4,
 "nbformat_minor": 5
}
