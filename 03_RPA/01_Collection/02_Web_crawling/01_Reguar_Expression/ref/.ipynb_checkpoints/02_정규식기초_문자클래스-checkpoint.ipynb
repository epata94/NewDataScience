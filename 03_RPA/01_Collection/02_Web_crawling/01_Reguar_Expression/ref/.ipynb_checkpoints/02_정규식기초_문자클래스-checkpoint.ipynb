{
 "cells": [
  {
   "cell_type": "markdown",
   "id": "aca09c2e",
   "metadata": {},
   "source": [
    "# 왜 정규식을 해야 하는가?"
   ]
  },
  {
   "cell_type": "markdown",
   "id": "ee8e4c51",
   "metadata": {},
   "source": [
    "## 비 정규식 풀이"
   ]
  },
  {
   "cell_type": "raw",
   "id": "ebcfed22",
   "metadata": {},
   "source": [
    "문제] 아래 문자열에서 주민등록번호 뒤 7자리를 ******* 로 변경 할 것\n",
    "park 800905-1049118\n",
    "kim 700905-1059119\n",
    "\n",
    "예) \n",
    "park 800905-*******\n",
    "kim 700905-*******\n",
    "\n",
    "제한시간 5분"
   ]
  },
  {
   "cell_type": "code",
   "execution_count": 4,
   "id": "f41274d6",
   "metadata": {},
   "outputs": [],
   "source": [
    "data=\"\"\"\n",
    "park 800905-1049118\n",
    "kim 700905-1059119\n",
    "\"\"\""
   ]
  },
  {
   "cell_type": "code",
   "execution_count": 5,
   "id": "5fafbaec",
   "metadata": {},
   "outputs": [
    {
     "name": "stdout",
     "output_type": "stream",
     "text": [
      "\n",
      "park 800905-*******\n",
      "kim 700905-*******\n",
      "\n"
     ]
    }
   ],
   "source": [
    "result = []\n",
    "for line in data.split(\"\\n\"):\n",
    "    word_result = []\n",
    "\n",
    "    for word in line.split(\" \"):\n",
    "        if len(word) == 14 and word[:6].isdigit() and word[7:].isdigit():\n",
    "            word = word[:6]+\"-\"+\"*******\"\n",
    "        word_result.append(word)\n",
    "\n",
    "    result.append(\" \".join(word_result))\n",
    "\n",
    "print(\"\\n\".join(result))"
   ]
  },
  {
   "cell_type": "markdown",
   "id": "2a00604d",
   "metadata": {},
   "source": [
    "## 정규식 풀이"
   ]
  },
  {
   "cell_type": "code",
   "execution_count": 2,
   "id": "67763ba3",
   "metadata": {},
   "outputs": [],
   "source": [
    "import re"
   ]
  },
  {
   "cell_type": "markdown",
   "id": "ac8df2a6",
   "metadata": {},
   "source": [
    "### 간결한 풀이 방식을 확인만 하고 넘어가자!"
   ]
  },
  {
   "cell_type": "code",
   "execution_count": 9,
   "id": "1707e35a",
   "metadata": {},
   "outputs": [
    {
     "name": "stdout",
     "output_type": "stream",
     "text": [
      "\n",
      "park 800905-*******\n",
      "kim 700905-*******\n",
      "\n"
     ]
    }
   ],
   "source": [
    "pat = re.compile(\"(\\d{6})[-]\\d{7}\")\n",
    "print(pat.sub(\"\\g<1>-*******\",data))"
   ]
  },
  {
   "cell_type": "markdown",
   "id": "b75bbd19",
   "metadata": {},
   "source": [
    "---"
   ]
  },
  {
   "cell_type": "markdown",
   "id": "aa59d9d6",
   "metadata": {},
   "source": [
    "## 파이썬에서 정규식 적용하는 방식"
   ]
  },
  {
   "cell_type": "code",
   "execution_count": 55,
   "id": "cfe3df7e",
   "metadata": {},
   "outputs": [
    {
     "data": {
      "text/plain": [
       "<re.Match object; span=(0, 3), match='abc'>"
      ]
     },
     "execution_count": 55,
     "metadata": {},
     "output_type": "execute_result"
    }
   ],
   "source": [
    "pattern = re.compile('abc') # compile에는 정규식\n",
    "result = pattern.match('abc')        # match안에는 원본 문자열\n",
    "result"
   ]
  },
  {
   "cell_type": "code",
   "execution_count": 12,
   "id": "0bc09bde",
   "metadata": {},
   "outputs": [],
   "source": [
    "# <re.Match object; span=(0, 3), match='abc'> <= Match object 반환\n",
    "# span안의 숫자는 매칭되는 구간\n",
    "# match는 매칭이 되는 문자열"
   ]
  },
  {
   "cell_type": "code",
   "execution_count": 56,
   "id": "0584851c",
   "metadata": {},
   "outputs": [],
   "source": [
    "pattern = re.compile('abc') \n",
    "pattern.match('ab')      # abc 문자열과 ab 문자열은 다르기 때문에 매치가 되지 않는다."
   ]
  },
  {
   "cell_type": "code",
   "execution_count": 70,
   "id": "e620df8a",
   "metadata": {},
   "outputs": [],
   "source": [
    "result = pattern.match('ab')\n",
    "result"
   ]
  },
  {
   "cell_type": "code",
   "execution_count": 72,
   "id": "ca21340d",
   "metadata": {},
   "outputs": [
    {
     "name": "stdout",
     "output_type": "stream",
     "text": [
      "None\n"
     ]
    }
   ],
   "source": [
    "print(result)  # 매치가 되지 않은 결과는 None 이며 주피터에서는 None은 print하지 않으면 출력하지 않는다."
   ]
  },
  {
   "cell_type": "code",
   "execution_count": null,
   "id": "5df68a5b",
   "metadata": {},
   "outputs": [],
   "source": []
  },
  {
   "cell_type": "code",
   "execution_count": null,
   "id": "93483db6",
   "metadata": {},
   "outputs": [],
   "source": []
  },
  {
   "cell_type": "markdown",
   "id": "c5d98c8b",
   "metadata": {},
   "source": [
    "## 문자 클래스"
   ]
  },
  {
   "cell_type": "markdown",
   "id": "81e630f7",
   "metadata": {},
   "source": [
    "* 문자 클래스로 만들어진 정규식은 \"[ ] 사이의 문자들과 매치\"라는 의미\n",
    "* 정규 표현식이 [abc]라면 이 표현식의 의미는 \"a, b, c 중 한 개의 문자와 매치\""
   ]
  },
  {
   "cell_type": "code",
   "execution_count": 25,
   "id": "eb38a8d7",
   "metadata": {},
   "outputs": [
    {
     "data": {
      "text/plain": [
       "<re.Match object; span=(0, 1), match='a'>"
      ]
     },
     "execution_count": 25,
     "metadata": {},
     "output_type": "execute_result"
    }
   ],
   "source": [
    "pattern = re.compile('[abc]') \n",
    "match_result = pattern.match('a')\n",
    "match_result"
   ]
  },
  {
   "cell_type": "code",
   "execution_count": 26,
   "id": "5683c393",
   "metadata": {},
   "outputs": [
    {
     "data": {
      "text/plain": [
       "<re.Match object; span=(0, 1), match='b'>"
      ]
     },
     "execution_count": 26,
     "metadata": {},
     "output_type": "execute_result"
    }
   ],
   "source": [
    "pattern.match('before')"
   ]
  },
  {
   "cell_type": "code",
   "execution_count": 27,
   "id": "8bd7635c",
   "metadata": {},
   "outputs": [],
   "source": [
    "pattern.match('dude')"
   ]
  },
  {
   "cell_type": "markdown",
   "id": "4c089373",
   "metadata": {},
   "source": [
    "* \"a\"는 정규식과 일치하는 문자인 \"a\"가 있으므로 매치\n",
    "* \"before\"는 정규식과 일치하는 문자인 \"b\"가 있으므로 매치\n",
    "* \"dude\"는 정규식과 일치하는 문자인 a, b, c 중 어느 하나도 포함하고 있지 않으므로 매치되지 않음"
   ]
  },
  {
   "cell_type": "markdown",
   "id": "6c59932e",
   "metadata": {},
   "source": [
    "### 문자클래스와 일반 문자 조합"
   ]
  },
  {
   "cell_type": "code",
   "execution_count": 28,
   "id": "e244c838",
   "metadata": {},
   "outputs": [],
   "source": [
    "pattern = re.compile('S[abc]')"
   ]
  },
  {
   "cell_type": "code",
   "execution_count": 30,
   "id": "7045535e",
   "metadata": {},
   "outputs": [
    {
     "data": {
      "text/plain": [
       "<re.Match object; span=(0, 2), match='Sa'>"
      ]
     },
     "execution_count": 30,
     "metadata": {},
     "output_type": "execute_result"
    }
   ],
   "source": [
    "pattern.match('Sang')"
   ]
  },
  {
   "cell_type": "code",
   "execution_count": 32,
   "id": "08b2431d",
   "metadata": {},
   "outputs": [],
   "source": [
    "pattern = re.compile('s[abc]')  "
   ]
  },
  {
   "cell_type": "code",
   "execution_count": 33,
   "id": "c82e4161",
   "metadata": {},
   "outputs": [],
   "source": [
    "pattern.match('Sang') # 정규식은 대소문자를 구분한다."
   ]
  },
  {
   "cell_type": "markdown",
   "id": "8b124d6f",
   "metadata": {},
   "source": [
    "### 하이픈"
   ]
  },
  {
   "cell_type": "raw",
   "id": "d804cb03",
   "metadata": {},
   "source": [
    "[ ] 안의 두 문자 사이에 하이픈(-)을 사용하면 두 문자 사이의 범위(From - To)를 의미\n",
    "예를 들어 [a-c]라는 정규 표현식은 [abc]와 동일하고 [0-5]는 [012345]와 동일"
   ]
  },
  {
   "cell_type": "code",
   "execution_count": 35,
   "id": "76790597",
   "metadata": {},
   "outputs": [],
   "source": [
    "p = re.compile('[a-c]')"
   ]
  },
  {
   "cell_type": "code",
   "execution_count": 36,
   "id": "4155500b",
   "metadata": {
    "collapsed": true
   },
   "outputs": [
    {
     "data": {
      "text/plain": [
       "<re.Match object; span=(0, 1), match='a'>"
      ]
     },
     "execution_count": 36,
     "metadata": {},
     "output_type": "execute_result"
    }
   ],
   "source": [
    "p.match('apple')"
   ]
  },
  {
   "cell_type": "code",
   "execution_count": 37,
   "id": "867a00fb",
   "metadata": {},
   "outputs": [],
   "source": [
    "p.match('travel')"
   ]
  },
  {
   "cell_type": "code",
   "execution_count": 38,
   "id": "d04ad56d",
   "metadata": {},
   "outputs": [],
   "source": [
    "p = re.compile('[a-z]')"
   ]
  },
  {
   "cell_type": "code",
   "execution_count": 39,
   "id": "96ec2804",
   "metadata": {
    "collapsed": true
   },
   "outputs": [
    {
     "data": {
      "text/plain": [
       "<re.Match object; span=(0, 1), match='t'>"
      ]
     },
     "execution_count": 39,
     "metadata": {},
     "output_type": "execute_result"
    }
   ],
   "source": [
    "p.match('travel')"
   ]
  },
  {
   "cell_type": "code",
   "execution_count": 40,
   "id": "5e9e3e64",
   "metadata": {},
   "outputs": [],
   "source": [
    "p.match('Travel')"
   ]
  },
  {
   "cell_type": "code",
   "execution_count": 41,
   "id": "e8f5e58a",
   "metadata": {},
   "outputs": [],
   "source": [
    "p = re.compile('[a-zA-Z]')"
   ]
  },
  {
   "cell_type": "code",
   "execution_count": 42,
   "id": "f945b3ae",
   "metadata": {
    "collapsed": true
   },
   "outputs": [
    {
     "data": {
      "text/plain": [
       "<re.Match object; span=(0, 1), match='T'>"
      ]
     },
     "execution_count": 42,
     "metadata": {},
     "output_type": "execute_result"
    }
   ],
   "source": [
    "p.match('Travel')"
   ]
  },
  {
   "cell_type": "code",
   "execution_count": 43,
   "id": "ffab163f",
   "metadata": {},
   "outputs": [],
   "source": [
    "p = re.compile('[0-9]')"
   ]
  },
  {
   "cell_type": "code",
   "execution_count": 44,
   "id": "0e08750e",
   "metadata": {
    "collapsed": true
   },
   "outputs": [
    {
     "data": {
      "text/plain": [
       "<re.Match object; span=(0, 1), match='1'>"
      ]
     },
     "execution_count": 44,
     "metadata": {},
     "output_type": "execute_result"
    }
   ],
   "source": [
    "p.match('1st')"
   ]
  },
  {
   "cell_type": "code",
   "execution_count": 45,
   "id": "a51d1f0c",
   "metadata": {
    "collapsed": true
   },
   "outputs": [
    {
     "data": {
      "text/plain": [
       "<re.Match object; span=(0, 1), match='2'>"
      ]
     },
     "execution_count": 45,
     "metadata": {},
     "output_type": "execute_result"
    }
   ],
   "source": [
    "p.match('2nd')"
   ]
  },
  {
   "cell_type": "code",
   "execution_count": 61,
   "id": "73a8bfce",
   "metadata": {},
   "outputs": [
    {
     "data": {
      "text/plain": [
       "<re.Match object; span=(0, 2), match='a1'>"
      ]
     },
     "execution_count": 61,
     "metadata": {},
     "output_type": "execute_result"
    }
   ],
   "source": [
    "original_text=\"a1b2c3\"\n",
    "p=re.compile('[a-zA-Z0-9][0-9]')\n",
    "p.match(original_text)"
   ]
  },
  {
   "cell_type": "markdown",
   "id": "a57acb7e",
   "metadata": {},
   "source": [
    "### ^ 연산"
   ]
  },
  {
   "cell_type": "markdown",
   "id": "d17dfc27",
   "metadata": {},
   "source": [
    "* 문자 클래스 안에 ^ 메타 문자를 사용할 경우에는 반대(not)라는 의미"
   ]
  },
  {
   "cell_type": "code",
   "execution_count": 46,
   "id": "c1637572",
   "metadata": {},
   "outputs": [],
   "source": [
    "p = re.compile('[^0-9]')"
   ]
  },
  {
   "cell_type": "code",
   "execution_count": 48,
   "id": "51364f4e",
   "metadata": {},
   "outputs": [
    {
     "data": {
      "text/plain": [
       "<re.Match object; span=(0, 1), match='G'>"
      ]
     },
     "execution_count": 48,
     "metadata": {},
     "output_type": "execute_result"
    }
   ],
   "source": [
    "p.match('Good Bye 2022')"
   ]
  },
  {
   "cell_type": "code",
   "execution_count": 49,
   "id": "802eec7b",
   "metadata": {},
   "outputs": [],
   "source": [
    "p.match('2022 Good Bye')"
   ]
  },
  {
   "cell_type": "markdown",
   "id": "bb6f8a3b",
   "metadata": {},
   "source": [
    "### 자주 사용하는 문자 클래스 표현식"
   ]
  },
  {
   "cell_type": "markdown",
   "id": "0f746e2c",
   "metadata": {},
   "source": [
    "* \\d - 숫자와 매치, [0-9]와 동일한 표현식이다.\n",
    "* \\D - 숫자가 아닌 것과 매치, [^0-9]와 동일한 표현식이다.\n",
    "* \\s - whitespace 문자와 매치, [ \\t\\n\\r\\f\\v]와 동일한 표현식이다. 맨 앞의 빈 칸은 공백문자(space)를 의미한다.\n",
    "* \\S - whitespace 문자가 아닌 것과 매치, [^ \\t\\n\\r\\f\\v]와 동일한 표현식이다.\n",
    "* \\w - 문자+숫자(alphanumeric)와 매치, [a-zA-Z0-9_]와 동일한 표현식이다.\n",
    "* \\W - 문자+숫자(alphanumeric)가 아닌 문자와 매치, [^a-zA-Z0-9_]와 동일한 표현식이다."
   ]
  },
  {
   "cell_type": "code",
   "execution_count": 62,
   "id": "e1003809",
   "metadata": {},
   "outputs": [
    {
     "name": "stdout",
     "output_type": "stream",
     "text": [
      "<re.Match object; span=(0, 1), match='1'>\n",
      "<re.Match object; span=(0, 1), match='5'>\n",
      "None\n"
     ]
    }
   ],
   "source": [
    "p=re.compile('[\\d]') #[0-9]\n",
    "m = p.match('1')\n",
    "print(m)\n",
    "m = p.match('5')\n",
    "print(m)\n",
    "m = p.match('a')\n",
    "print(m)"
   ]
  },
  {
   "cell_type": "code",
   "execution_count": 63,
   "id": "0afdbf01",
   "metadata": {},
   "outputs": [
    {
     "name": "stdout",
     "output_type": "stream",
     "text": [
      "None\n",
      "None\n",
      "<re.Match object; span=(0, 1), match='a'>\n"
     ]
    }
   ],
   "source": [
    "p=re.compile('[\\D]') #[^0-9]\n",
    "m = p.match('1')\n",
    "print(m)\n",
    "m = p.match('5')\n",
    "print(m)\n",
    "m = p.match('a')\n",
    "print(m)"
   ]
  },
  {
   "cell_type": "code",
   "execution_count": 64,
   "id": "d97f3e42",
   "metadata": {},
   "outputs": [
    {
     "name": "stdout",
     "output_type": "stream",
     "text": [
      "None\n",
      "<re.Match object; span=(0, 1), match=' '>\n",
      "<re.Match object; span=(0, 1), match=' '>\n",
      "<re.Match object; span=(0, 1), match='\\n'>\n"
     ]
    }
   ],
   "source": [
    "p=re.compile('[\\s]') # [ ] or re.compile(' ')\n",
    "m = p.match('1')\n",
    "print(m)\n",
    "m = p.match(' 1') # 공백\n",
    "print(m)\n",
    "m = p.match('   1') # \\t\n",
    "print(m)\n",
    "m = p.match('''\n",
    "1''') # \\n\n",
    "print(m)"
   ]
  },
  {
   "cell_type": "code",
   "execution_count": 65,
   "id": "f2fd56c0",
   "metadata": {},
   "outputs": [
    {
     "name": "stdout",
     "output_type": "stream",
     "text": [
      "<re.Match object; span=(0, 1), match='1'>\n",
      "None\n",
      "None\n",
      "None\n"
     ]
    }
   ],
   "source": [
    "p=re.compile('[\\S]') # [ ] or re.compile(' ')\n",
    "m = p.match('1')\n",
    "print(m)\n",
    "m = p.match(' 1') # 공백\n",
    "print(m)\n",
    "m = p.match('   1') # \\t\n",
    "print(m)\n",
    "m = p.match('''\n",
    "1''') # \\n\n",
    "print(m)"
   ]
  },
  {
   "cell_type": "code",
   "execution_count": 66,
   "id": "9191baad",
   "metadata": {},
   "outputs": [
    {
     "name": "stdout",
     "output_type": "stream",
     "text": [
      "<re.Match object; span=(0, 1), match='1'>\n",
      "<re.Match object; span=(0, 1), match='a'>\n",
      "<re.Match object; span=(0, 1), match='K'>\n",
      "None\n",
      "None\n",
      "None\n"
     ]
    }
   ],
   "source": [
    "p=re.compile('[\\w]') # [ ] or re.compile(' ')\n",
    "m = p.match('1')\n",
    "print(m)\n",
    "m = p.match('a')\n",
    "print(m)\n",
    "m = p.match('K')\n",
    "print(m)\n",
    "m = p.match('-')\n",
    "print(m)\n",
    "m = p.match('$')\n",
    "print(m)\n",
    "m = p.match(' ')\n",
    "print(m)"
   ]
  },
  {
   "cell_type": "code",
   "execution_count": 67,
   "id": "6412b7d2",
   "metadata": {},
   "outputs": [
    {
     "name": "stdout",
     "output_type": "stream",
     "text": [
      "None\n",
      "None\n",
      "None\n",
      "<re.Match object; span=(0, 1), match='-'>\n",
      "<re.Match object; span=(0, 1), match='$'>\n",
      "<re.Match object; span=(0, 1), match=' '>\n"
     ]
    }
   ],
   "source": [
    "p=re.compile('[\\W]') # [ ] or re.compile(' ')\n",
    "m = p.match('1')\n",
    "print(m)\n",
    "m = p.match('a')\n",
    "print(m)\n",
    "m = p.match('K')\n",
    "print(m)\n",
    "m = p.match('-')\n",
    "print(m)\n",
    "m = p.match('$')\n",
    "print(m)\n",
    "m = p.match(' ')\n",
    "print(m)"
   ]
  },
  {
   "cell_type": "code",
   "execution_count": null,
   "id": "2f4d6d8a",
   "metadata": {},
   "outputs": [],
   "source": []
  }
 ],
 "metadata": {
  "kernelspec": {
   "display_name": "Python 3 (ipykernel)",
   "language": "python",
   "name": "python3"
  },
  "language_info": {
   "codemirror_mode": {
    "name": "ipython",
    "version": 3
   },
   "file_extension": ".py",
   "mimetype": "text/x-python",
   "name": "python",
   "nbconvert_exporter": "python",
   "pygments_lexer": "ipython3",
   "version": "3.9.13"
  }
 },
 "nbformat": 4,
 "nbformat_minor": 5
}
