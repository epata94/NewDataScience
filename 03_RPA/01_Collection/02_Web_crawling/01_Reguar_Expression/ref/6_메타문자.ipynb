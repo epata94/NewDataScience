{
 "cells": [
  {
   "cell_type": "markdown",
   "id": "c1c77b7b",
   "metadata": {},
   "source": [
    "## |\n",
    "* or의 의미로 사용"
   ]
  },
  {
   "cell_type": "code",
   "execution_count": 2,
   "id": "de079cb6",
   "metadata": {},
   "outputs": [],
   "source": [
    "import re"
   ]
  },
  {
   "cell_type": "code",
   "execution_count": 3,
   "id": "5e58fc9c",
   "metadata": {},
   "outputs": [
    {
     "name": "stdout",
     "output_type": "stream",
     "text": [
      "None\n",
      "<re.Match object; span=(0, 4), match='Crow'>\n",
      "<re.Match object; span=(0, 5), match='Servo'>\n",
      "<re.Match object; span=(0, 4), match='Crow'>\n"
     ]
    }
   ],
   "source": [
    "p=re.compile('Crow|Servo')\n",
    "m = p.match('Nothing') #Not match\n",
    "print(m)\n",
    "m = p.match('Crow') #match\n",
    "print(m)\n",
    "m = p.match('Servo') #match\n",
    "print(m)\n",
    "m = p.match('CrowServo') #match\n",
    "print(m)"
   ]
  },
  {
   "cell_type": "code",
   "execution_count": 5,
   "id": "25f61d84",
   "metadata": {},
   "outputs": [
    {
     "name": "stdout",
     "output_type": "stream",
     "text": [
      "None\n",
      "None\n"
     ]
    }
   ],
   "source": [
    "m = p.match('Cro') #Not match\n",
    "print(m)\n",
    "m = p.match('Serv') #Not match\n",
    "print(m)"
   ]
  },
  {
   "cell_type": "code",
   "execution_count": 7,
   "id": "d2e4a715",
   "metadata": {},
   "outputs": [],
   "source": [
    "p=re.compile('Cro|Serv')"
   ]
  },
  {
   "cell_type": "code",
   "execution_count": 8,
   "id": "48b48d6a",
   "metadata": {},
   "outputs": [
    {
     "name": "stdout",
     "output_type": "stream",
     "text": [
      "<re.Match object; span=(0, 3), match='Cro'>\n",
      "<re.Match object; span=(0, 4), match='Serv'>\n"
     ]
    }
   ],
   "source": [
    "m = p.match('Cro') #Not match\n",
    "print(m)\n",
    "m = p.match('Serv') #Not match\n",
    "print(m)"
   ]
  },
  {
   "cell_type": "markdown",
   "id": "33cc1c28",
   "metadata": {},
   "source": [
    "## ^\n",
    "* 문자열의 맨 처음과 일치\n",
    "* 컴파일 옵션 re.MULTILINE을 사용할 경우에는 여러 줄의 문자열일 때 각 줄의 처음과 일치"
   ]
  },
  {
   "cell_type": "code",
   "execution_count": 10,
   "id": "fa3b85ec",
   "metadata": {},
   "outputs": [
    {
     "name": "stdout",
     "output_type": "stream",
     "text": [
      "<re.Match object; span=(0, 4), match='Life'>\n"
     ]
    }
   ],
   "source": [
    " print(re.search('^Life', 'Life is too short'))"
   ]
  },
  {
   "cell_type": "code",
   "execution_count": 11,
   "id": "85d48427",
   "metadata": {},
   "outputs": [
    {
     "name": "stdout",
     "output_type": "stream",
     "text": [
      "None\n"
     ]
    }
   ],
   "source": [
    "print(re.search('^Life', 'My Life'))"
   ]
  },
  {
   "cell_type": "code",
   "execution_count": 12,
   "id": "63423d13",
   "metadata": {},
   "outputs": [],
   "source": [
    "multiline_str=\"\"\"Life is good.\n",
    "Brovo my 'Life'.\n",
    "Life is too short\n",
    "\"\"\""
   ]
  },
  {
   "cell_type": "code",
   "execution_count": 17,
   "id": "e61e4100",
   "metadata": {},
   "outputs": [
    {
     "name": "stdout",
     "output_type": "stream",
     "text": [
      "['Life']\n"
     ]
    }
   ],
   "source": [
    "p = re.compile('^Life')\n",
    "print(p.findall( multiline_str))"
   ]
  },
  {
   "cell_type": "code",
   "execution_count": 21,
   "id": "22737eeb",
   "metadata": {},
   "outputs": [
    {
     "name": "stdout",
     "output_type": "stream",
     "text": [
      "['Life', 'Life']\n"
     ]
    }
   ],
   "source": [
    "p = re.compile('^Life', re.MULTILINE)\n",
    "print(p.findall( multiline_str))"
   ]
  },
  {
   "cell_type": "code",
   "execution_count": 22,
   "id": "52e65be0",
   "metadata": {},
   "outputs": [
    {
     "name": "stdout",
     "output_type": "stream",
     "text": [
      "<re.Match object; span=(0, 4), match='Life'>\n",
      "<re.Match object; span=(31, 35), match='Life'>\n"
     ]
    }
   ],
   "source": [
    "for find_info in p.finditer( multiline_str):\n",
    "    print(find_info)"
   ]
  },
  {
   "cell_type": "markdown",
   "id": "881cf8fe",
   "metadata": {},
   "source": [
    "## \\\\A\n",
    "* 문자열의 처음과 매치됨을 의미한다. \n",
    "* ^ 메타 문자와 동일한 의미이지만 re.MULTILINE 옵션을 사용할 경우에는 다르게 해석된다.\n",
    "* re.MULTILINE 옵션을 사용할 경우 ^은 각 줄의 문자열의 처음과 매치되지만 \\A는 줄과 상관없이 전체 문자열의 처음하고만 매치"
   ]
  },
  {
   "cell_type": "code",
   "execution_count": 27,
   "id": "5cdb9952",
   "metadata": {},
   "outputs": [
    {
     "name": "stdout",
     "output_type": "stream",
     "text": [
      "['Life']\n"
     ]
    }
   ],
   "source": [
    "p = re.compile('\\ALife', re.MULTILINE)\n",
    "print(p.findall( multiline_str))"
   ]
  },
  {
   "cell_type": "markdown",
   "id": "58f92a31",
   "metadata": {},
   "source": [
    "## $\n",
    "* 문자열의 끝과 매칭"
   ]
  },
  {
   "cell_type": "code",
   "execution_count": 25,
   "id": "626f0031",
   "metadata": {},
   "outputs": [
    {
     "name": "stdout",
     "output_type": "stream",
     "text": [
      "None\n",
      "None\n",
      "None\n",
      "<re.Match object; span=(12, 17), match='short'>\n",
      "None\n"
     ]
    }
   ],
   "source": [
    "print(re.search('Life$','Life is too short'))\n",
    "print(re.search('is$','Life is too short'))\n",
    "print(re.search('too$','Life is too short'))\n",
    "print(re.search('short$','Life is too short'))\n",
    "print(re.search('short$','Life is too short, you need python'))"
   ]
  },
  {
   "cell_type": "code",
   "execution_count": 26,
   "id": "2a1e2a78",
   "metadata": {},
   "outputs": [
    {
     "name": "stdout",
     "output_type": "stream",
     "text": [
      "<re.Match object; span=(28, 34), match='python'>\n"
     ]
    }
   ],
   "source": [
    "print(re.search('python$','Life is too short, you need python'))"
   ]
  },
  {
   "cell_type": "markdown",
   "id": "1bdbf1fe",
   "metadata": {},
   "source": [
    "## \\Z\n",
    "* 문자열의 끝과 매치됨을 의미한다. \n",
    "* 이것 역시 \\A와 동일하게 re.MULTILINE 옵션을 사용할 경우 $ 메타 문자와는 달리 전체 문자열의 끝과 매치"
   ]
  },
  {
   "cell_type": "code",
   "execution_count": 43,
   "id": "550e0588",
   "metadata": {},
   "outputs": [],
   "source": [
    "multiline_str=\"\"\"Life is good\n",
    "Life is too short\n",
    "Your life is good\"\"\""
   ]
  },
  {
   "cell_type": "code",
   "execution_count": 44,
   "id": "5be83582",
   "metadata": {},
   "outputs": [
    {
     "name": "stdout",
     "output_type": "stream",
     "text": [
      "<re.Match object; span=(8, 12), match='good'>\n",
      "<re.Match object; span=(44, 48), match='good'>\n"
     ]
    }
   ],
   "source": [
    "p = re.compile('good$', re.MULTILINE)\n",
    "for find_info in p.finditer( multiline_str):\n",
    "    print(find_info)"
   ]
  },
  {
   "cell_type": "code",
   "execution_count": 46,
   "id": "55055e8d",
   "metadata": {},
   "outputs": [
    {
     "name": "stdout",
     "output_type": "stream",
     "text": [
      "<re.Match object; span=(44, 48), match='good'>\n"
     ]
    }
   ],
   "source": [
    "p = re.compile('good\\Z', re.MULTILINE)\n",
    "for find_info in p.finditer( multiline_str):\n",
    "    print(find_info)"
   ]
  },
  {
   "cell_type": "code",
   "execution_count": 51,
   "id": "cbb11055",
   "metadata": {},
   "outputs": [],
   "source": [
    "multiline_str=\"\"\"\n",
    "Life is good\n",
    "Life is too short\n",
    "Your life is good\n",
    "\"\"\""
   ]
  },
  {
   "cell_type": "code",
   "execution_count": 52,
   "id": "3b7ea3cd",
   "metadata": {},
   "outputs": [
    {
     "name": "stdout",
     "output_type": "stream",
     "text": [
      "<re.Match object; span=(9, 13), match='good'>\n",
      "<re.Match object; span=(45, 49), match='good'>\n"
     ]
    }
   ],
   "source": [
    "p = re.compile('good$', re.MULTILINE)\n",
    "for find_info in p.finditer( multiline_str):\n",
    "    print(find_info)"
   ]
  },
  {
   "cell_type": "code",
   "execution_count": 53,
   "id": "ff158251",
   "metadata": {},
   "outputs": [],
   "source": [
    "p = re.compile('good\\Z', re.MULTILINE) # 줄바꿈으로 미인식\n",
    "for find_info in p.finditer( multiline_str):\n",
    "    print(find_info)"
   ]
  },
  {
   "cell_type": "code",
   "execution_count": 54,
   "id": "8ca47b9d",
   "metadata": {},
   "outputs": [],
   "source": [
    "p = re.compile('good.\\Z', re.MULTILINE) # . 은 \\n과 미일치\n",
    "for find_info in p.finditer( multiline_str):\n",
    "    print(find_info)"
   ]
  },
  {
   "cell_type": "code",
   "execution_count": 60,
   "id": "b10276b0",
   "metadata": {},
   "outputs": [
    {
     "name": "stdout",
     "output_type": "stream",
     "text": [
      "<re.Match object; span=(45, 50), match='good\\n'>\n"
     ]
    }
   ],
   "source": [
    "p = re.compile('good\\n\\Z', re.MULTILINE) # . 은 \\n과 미일치 (\\n을 제외한 모든 문자와 일치)\n",
    "for find_info in p.finditer( multiline_str):\n",
    "    print(find_info)"
   ]
  },
  {
   "cell_type": "code",
   "execution_count": null,
   "id": "50a72208",
   "metadata": {},
   "outputs": [],
   "source": []
  }
 ],
 "metadata": {
  "kernelspec": {
   "display_name": "Python 3 (ipykernel)",
   "language": "python",
   "name": "python3"
  },
  "language_info": {
   "codemirror_mode": {
    "name": "ipython",
    "version": 3
   },
   "file_extension": ".py",
   "mimetype": "text/x-python",
   "name": "python",
   "nbconvert_exporter": "python",
   "pygments_lexer": "ipython3",
   "version": "3.9.13"
  }
 },
 "nbformat": 4,
 "nbformat_minor": 5
}
