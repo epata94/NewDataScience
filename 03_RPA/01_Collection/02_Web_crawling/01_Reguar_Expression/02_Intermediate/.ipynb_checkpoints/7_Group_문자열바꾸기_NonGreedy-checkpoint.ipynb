{
 "cells": [
  {
   "cell_type": "markdown",
   "id": "688149cb",
   "metadata": {},
   "source": [
    "# 그룹 => ()\n",
    "* 문자열 패턴의 반복을 지정\n",
    "* 그룹을 지정하면 문자열 전체에서 매칭되는 패턴을 그룹단위로 찾아준다."
   ]
  },
  {
   "cell_type": "code",
   "execution_count": 1,
   "id": "5663d57f",
   "metadata": {},
   "outputs": [],
   "source": [
    "import re"
   ]
  },
  {
   "cell_type": "code",
   "execution_count": 2,
   "id": "41037665",
   "metadata": {},
   "outputs": [
    {
     "name": "stdout",
     "output_type": "stream",
     "text": [
      "<re.Match object; span=(0, 9), match='ABCABCABC'>\n",
      "ABCABCABC\n",
      "ABC\n"
     ]
    }
   ],
   "source": [
    "p = re.compile('(ABC)+')\n",
    "m = p.search('ABCABCABC OK? ABC')\n",
    "print(m)          # 매치 오브젝트를 출력하면 첫번째 매치되는 정보만 표시\n",
    "print(m.group(0)) # => 첫번째로 매치가 되는 그룹 => ABCABCABC\n",
    "print(m.group(1)) # => 두번째로 매치가 되는 그룹 => ABC"
   ]
  },
  {
   "cell_type": "code",
   "execution_count": 3,
   "id": "e31c0180",
   "metadata": {},
   "outputs": [
    {
     "name": "stdout",
     "output_type": "stream",
     "text": [
      "<re.Match object; span=(0, 6), match='ABCABC'>\n"
     ]
    }
   ],
   "source": [
    "m = p.search('ABCABCAB OK?')\n",
    "print(m)"
   ]
  },
  {
   "cell_type": "code",
   "execution_count": 4,
   "id": "a4c57cc1",
   "metadata": {},
   "outputs": [],
   "source": [
    "p=re.compile(\"\\w+\\s+\\d+[-]\\d+[-]\\d+\")\n",
    "m=p.search(\"park 010-1234-1234\")"
   ]
  },
  {
   "cell_type": "code",
   "execution_count": 5,
   "id": "4c6564dd",
   "metadata": {},
   "outputs": [
    {
     "name": "stdout",
     "output_type": "stream",
     "text": [
      "<re.Match object; span=(0, 18), match='park 010-1234-1234'>\n"
     ]
    }
   ],
   "source": [
    "print(m)"
   ]
  },
  {
   "cell_type": "code",
   "execution_count": 6,
   "id": "c2bb89e2",
   "metadata": {},
   "outputs": [
    {
     "name": "stdout",
     "output_type": "stream",
     "text": [
      "park 010-1234-1234\n"
     ]
    }
   ],
   "source": [
    "print(m.group(0)) # 매치가 되는 결과가 첫번째 그룹의 결과임"
   ]
  },
  {
   "cell_type": "code",
   "execution_count": 7,
   "id": "f76829f7",
   "metadata": {},
   "outputs": [
    {
     "ename": "IndexError",
     "evalue": "no such group",
     "output_type": "error",
     "traceback": [
      "\u001b[1;31m---------------------------------------------------------------------------\u001b[0m",
      "\u001b[1;31mIndexError\u001b[0m                                Traceback (most recent call last)",
      "\u001b[1;32m~\\AppData\\Local\\Temp\\ipykernel_10868\\1813531225.py\u001b[0m in \u001b[0;36m<module>\u001b[1;34m\u001b[0m\n\u001b[1;32m----> 1\u001b[1;33m \u001b[0mprint\u001b[0m\u001b[1;33m(\u001b[0m\u001b[0mm\u001b[0m\u001b[1;33m.\u001b[0m\u001b[0mgroup\u001b[0m\u001b[1;33m(\u001b[0m\u001b[1;36m1\u001b[0m\u001b[1;33m)\u001b[0m\u001b[1;33m)\u001b[0m\u001b[1;33m\u001b[0m\u001b[1;33m\u001b[0m\u001b[0m\n\u001b[0m",
      "\u001b[1;31mIndexError\u001b[0m: no such group"
     ]
    }
   ],
   "source": [
    "print(m.group(1)) # 없는 그룹을 참조하려고 하면 에러가 발생한다."
   ]
  },
  {
   "cell_type": "code",
   "execution_count": 8,
   "id": "4a5ccc63",
   "metadata": {},
   "outputs": [
    {
     "name": "stdout",
     "output_type": "stream",
     "text": [
      "<re.Match object; span=(0, 18), match='park 010-1234-5678'>\n",
      "park 010-1234-5678\n",
      "park\n",
      "010\n",
      "1234\n",
      "5678\n"
     ]
    }
   ],
   "source": [
    "p=re.compile('(\\w+)\\s+(\\d+)[-](\\d+)[-](\\d+)')\n",
    "m = p.match(\"park 010-1234-5678\")\n",
    "print(m)\n",
    "print(m.group(0))\n",
    "print(m.group(1))\n",
    "print(m.group(2))\n",
    "print(m.group(3))\n",
    "print(m.group(4))"
   ]
  },
  {
   "cell_type": "markdown",
   "id": "c54a92c1",
   "metadata": {},
   "source": [
    "# 그루핑된 문자열에 이름 붙이기\n",
    "* (?P<그룹명>...)\n",
    "* 정규식안에 그룹이 많아 질 경우 구분하기 위한 식별자로 활용"
   ]
  },
  {
   "cell_type": "code",
   "execution_count": 9,
   "id": "d80d6453",
   "metadata": {},
   "outputs": [
    {
     "name": "stdout",
     "output_type": "stream",
     "text": [
      "park\n"
     ]
    }
   ],
   "source": [
    "p = re.compile(\"(?P<name>\\w+)\\s+((\\d+)[-]\\d+[-]\\d+)\")\n",
    "m = p.search(\"park 010-1234-5678\")\n",
    "print(m.group(\"name\"))"
   ]
  },
  {
   "cell_type": "markdown",
   "id": "734e12cc",
   "metadata": {},
   "source": [
    "#### 문제] 위 예제를 참고해서 이름, 첫번째 번호, 두번째번호, 세번째 번호그룹 이름을 지어보세요"
   ]
  },
  {
   "cell_type": "code",
   "execution_count": 10,
   "id": "e89c849c",
   "metadata": {},
   "outputs": [
    {
     "name": "stdout",
     "output_type": "stream",
     "text": [
      "park\n",
      "010\n",
      "1234\n",
      "5678\n"
     ]
    }
   ],
   "source": [
    "p = re.compile(\"(?P<name>\\w+)\\s+(?P<first_num>\\d+)[-](?P<middle_num>\\d+)[-](?P<last_num>\\d+)\")\n",
    "m = p.search(\"park 010-1234-5678\")\n",
    "print(m.group(\"name\"))\n",
    "print(m.group(\"first_num\"))\n",
    "print(m.group(\"middle_num\"))\n",
    "print(m.group(\"last_num\"))"
   ]
  },
  {
   "cell_type": "code",
   "execution_count": 13,
   "id": "29aaba41",
   "metadata": {},
   "outputs": [
    {
     "name": "stdout",
     "output_type": "stream",
     "text": [
      "park\n",
      "010\n",
      "1234\n",
      "5678\n"
     ]
    }
   ],
   "source": [
    "p = re.compile(r\"\"\"\n",
    "(?P<name>\\w+)       # park를 매칭하기 위한 정규식\n",
    "\\s+                 # park 다음 공백 문자를 매칭하기 위한 정규식\n",
    "(?P<first_num>\\d+)  # 010 첫번째 숫자 그룹을 매칭하기 위한 정규식\n",
    "[-]                 # 첫 번쨰와 두번째 숫자 그룹 사이의 - 문자를 매칭하기 위한 정규식\n",
    "(?P<middle_num>\\d+) # 1234 두번째 숫자 그룹을 매칭하기 위한 정규식\n",
    "[-]                 # 두 번쨰와 세번째 숫자 그룹 사이의 - 문자를 매칭하기 위한 정규식\n",
    "(?P<last_num>\\d+)   # 5678 세번째 숫자 그룹을 매칭하기 위한 정규식\n",
    "\"\"\",re.VERBOSE)\n",
    "m = p.search(\"park 010-1234-5678\")\n",
    "print(m.group(\"name\"))\n",
    "print(m.group(\"first_num\"))\n",
    "print(m.group(\"middle_num\"))\n",
    "print(m.group(\"last_num\"))"
   ]
  },
  {
   "cell_type": "markdown",
   "id": "092f99a6",
   "metadata": {},
   "source": [
    "# 전방 탐색 (Lookahead Assertions)"
   ]
  },
  {
   "cell_type": "markdown",
   "id": "b5755e72",
   "metadata": {},
   "source": [
    "'http://google.com' 문자열에서 .을 활용하여 http만 매치하고자 한다면?"
   ]
  },
  {
   "cell_type": "code",
   "execution_count": 15,
   "id": "31bc9bec",
   "metadata": {},
   "outputs": [
    {
     "name": "stdout",
     "output_type": "stream",
     "text": [
      "http:\n"
     ]
    }
   ],
   "source": [
    "p = re.compile(\".+:\")\n",
    "m = p.search(\"http://google.com\")\n",
    "print(m.group())"
   ]
  },
  {
   "cell_type": "markdown",
   "id": "985d8ffa",
   "metadata": {},
   "source": [
    "* 긍정형 전방 탐색((?=...)) : 해당 정규식과 매치되어야 하며 조건이 통과되어도 문자열이 소비되지 않는다.\n",
    "* 부정형 전방 탐색((?!...))  : 해당 정규식과 매치되지 않아야 하며 조건이 통과되어도 문자열이 소비되지 않는다."
   ]
  },
  {
   "cell_type": "markdown",
   "id": "071647dc",
   "metadata": {},
   "source": [
    "## 긍정형 전방 탐색(Positive Looahead Assertions)"
   ]
  },
  {
   "cell_type": "code",
   "execution_count": 16,
   "id": "8cb5a0b3",
   "metadata": {},
   "outputs": [
    {
     "name": "stdout",
     "output_type": "stream",
     "text": [
      "http\n"
     ]
    }
   ],
   "source": [
    "p = re.compile(\".+(?=:)\")\n",
    "m = p.search(\"http://google.com\")\n",
    "print(m.group())"
   ]
  },
  {
   "cell_type": "markdown",
   "id": "7365a059",
   "metadata": {},
   "source": [
    "## 부정형 전방 탐색(Negative Looahead Assertions)"
   ]
  },
  {
   "cell_type": "markdown",
   "id": "68c99788",
   "metadata": {},
   "source": [
    "### Ver 1. 아래 파일 이름을 검색하는 정규식"
   ]
  },
  {
   "cell_type": "code",
   "execution_count": 17,
   "id": "ccb7cab4",
   "metadata": {},
   "outputs": [],
   "source": [
    "file_name_list=[\"foo.bar\",\"autoexec.bat\",\"sendmail.cf\"]"
   ]
  },
  {
   "cell_type": "code",
   "execution_count": 18,
   "id": "75969e4f",
   "metadata": {},
   "outputs": [
    {
     "name": "stdout",
     "output_type": "stream",
     "text": [
      "<re.Match object; span=(0, 7), match='foo.bar'>\n",
      "<re.Match object; span=(0, 12), match='autoexec.bat'>\n",
      "<re.Match object; span=(0, 11), match='sendmail.cf'>\n"
     ]
    }
   ],
   "source": [
    "p = re.compile('.*[.].*$')\n",
    "for file_name in file_name_list:\n",
    "    print(p.search(file_name))"
   ]
  },
  {
   "cell_type": "markdown",
   "id": "149e7900",
   "metadata": {},
   "source": [
    "### Ver 2. 확장자가 bat인 파일을 제외하는 정규식 작성 시도1"
   ]
  },
  {
   "cell_type": "code",
   "execution_count": null,
   "id": "364350ca",
   "metadata": {},
   "outputs": [],
   "source": [
    "file_name_list=[\"foo.bar\",\"autoexec.bat\",\"sendmail.cf\"]"
   ]
  },
  {
   "cell_type": "code",
   "execution_count": 19,
   "id": "1f4894a3",
   "metadata": {},
   "outputs": [
    {
     "name": "stdout",
     "output_type": "stream",
     "text": [
      "None\n",
      "None\n",
      "<re.Match object; span=(0, 11), match='sendmail.cf'>\n"
     ]
    }
   ],
   "source": [
    "p = re.compile('.*[.][^b].*$')\n",
    "for file_name in file_name_list:\n",
    "    print(p.search(file_name))"
   ]
  },
  {
   "cell_type": "markdown",
   "id": "8a6bd8df",
   "metadata": {},
   "source": [
    "#### foo.bar도 제외 됬으므로 실패!"
   ]
  },
  {
   "cell_type": "markdown",
   "id": "4a06bc70",
   "metadata": {},
   "source": [
    "### Ver 3. 확장자가 bat인 파일을 제외하는 정규식 작성 시도2"
   ]
  },
  {
   "cell_type": "code",
   "execution_count": 20,
   "id": "b65d6c1c",
   "metadata": {},
   "outputs": [
    {
     "name": "stdout",
     "output_type": "stream",
     "text": [
      "<re.Match object; span=(0, 7), match='foo.bar'>\n",
      "None\n",
      "None\n"
     ]
    }
   ],
   "source": [
    "p = re.compile('.*[.]([^b]..|.[^a].|..[^t])$')\n",
    "for file_name in file_name_list:\n",
    "    print(p.search(file_name))"
   ]
  },
  {
   "cell_type": "markdown",
   "id": "e78e0dce",
   "metadata": {},
   "source": [
    "#### sendmail.cf 도 제외됬으므로 실패!"
   ]
  },
  {
   "cell_type": "markdown",
   "id": "03abe538",
   "metadata": {},
   "source": [
    "### Ver 4. 확장자가 bat인 파일을 제외하는 정규식 작성 마지막 시도"
   ]
  },
  {
   "cell_type": "code",
   "execution_count": 21,
   "id": "c657a9cc",
   "metadata": {},
   "outputs": [
    {
     "name": "stdout",
     "output_type": "stream",
     "text": [
      "<re.Match object; span=(0, 7), match='foo.bar'>\n",
      "None\n",
      "<re.Match object; span=(0, 11), match='sendmail.cf'>\n"
     ]
    }
   ],
   "source": [
    "p = re.compile('.*[.]([^b].?.?|.[^a]?.?|..?[^t]?)$')\n",
    "for file_name in file_name_list:\n",
    "    print(p.search(file_name))"
   ]
  },
  {
   "cell_type": "markdown",
   "id": "4615f116",
   "metadata": {},
   "source": [
    "#### 성공.. 그런데.. 정규식.. 어렵네요.."
   ]
  },
  {
   "cell_type": "markdown",
   "id": "9ea5eede",
   "metadata": {},
   "source": [
    "### Ver 5. 부정형 전방 탐색 적용"
   ]
  },
  {
   "cell_type": "code",
   "execution_count": 22,
   "id": "40d7a1e5",
   "metadata": {},
   "outputs": [
    {
     "name": "stdout",
     "output_type": "stream",
     "text": [
      "<re.Match object; span=(0, 7), match='foo.bar'>\n",
      "None\n",
      "<re.Match object; span=(0, 11), match='sendmail.cf'>\n"
     ]
    }
   ],
   "source": [
    "p = re.compile('.*[.](?!bat$).*$')\n",
    "for file_name in file_name_list:\n",
    "    print(p.search(file_name))"
   ]
  },
  {
   "cell_type": "markdown",
   "id": "de446435",
   "metadata": {},
   "source": [
    "#### 부정형 전방탐색은 제외하는 조건이 많아 질 수록 더 유용하다."
   ]
  },
  {
   "cell_type": "code",
   "execution_count": 23,
   "id": "0e76c7db",
   "metadata": {},
   "outputs": [
    {
     "name": "stdout",
     "output_type": "stream",
     "text": [
      "None\n",
      "None\n",
      "<re.Match object; span=(0, 11), match='sendmail.cf'>\n"
     ]
    }
   ],
   "source": [
    "p = re.compile('.*[.](?!bat$|bar$).*$')\n",
    "for file_name in file_name_list:\n",
    "    print(p.search(file_name))"
   ]
  },
  {
   "cell_type": "markdown",
   "id": "67096e43",
   "metadata": {},
   "source": [
    "---"
   ]
  },
  {
   "cell_type": "markdown",
   "id": "349d87f0",
   "metadata": {},
   "source": [
    "# 문자열 바꾸기"
   ]
  },
  {
   "cell_type": "markdown",
   "id": "f3cc0cc6",
   "metadata": {},
   "source": [
    "## sub 메서드"
   ]
  },
  {
   "cell_type": "code",
   "execution_count": 24,
   "id": "63d9f4ee",
   "metadata": {},
   "outputs": [
    {
     "name": "stdout",
     "output_type": "stream",
     "text": [
      "colour socks and colour shoes\n",
      "colour socks and red shoes\n",
      "colour socks and colour shoes\n"
     ]
    }
   ],
   "source": [
    "p = re.compile('(blue|white|red)')\n",
    "# 매칭된 결과를 sub함수의 첫번째 인자로 바꾼다.\n",
    "print(p.sub('colour','blue socks and red shoes')) \n",
    "print(p.sub('colour','blue socks and red shoes',count=1)) # 1번만 바꾸는 조건\n",
    "print(p.sub('colour','blue socks and red shoes',count=2)) # 2번 바꾸는 조건"
   ]
  },
  {
   "cell_type": "markdown",
   "id": "e33cc3c3",
   "metadata": {},
   "source": [
    "## subn 메서드"
   ]
  },
  {
   "cell_type": "code",
   "execution_count": 25,
   "id": "397c276c",
   "metadata": {},
   "outputs": [
    {
     "data": {
      "text/plain": [
       "('colour socks and colour shoes', 2)"
      ]
     },
     "execution_count": 25,
     "metadata": {},
     "output_type": "execute_result"
    }
   ],
   "source": [
    "p.subn('colour','blue socks and red shoes') # 바꾼 문자열과 바꾼 횟수를 반환"
   ]
  },
  {
   "cell_type": "markdown",
   "id": "58714de5",
   "metadata": {},
   "source": [
    "## sub 메서드 사용시 참조 구문 활용하기"
   ]
  },
  {
   "cell_type": "code",
   "execution_count": 26,
   "id": "85a08320",
   "metadata": {},
   "outputs": [
    {
     "name": "stdout",
     "output_type": "stream",
     "text": [
      "010-1234-1234 park\n"
     ]
    }
   ],
   "source": [
    "p = re.compile(r\"(?P<name>\\w+)\\s+(?P<phone>(\\d+)[-]\\d+[-]\\d+)\")\n",
    "print(p.sub(\"\\g<phone> \\g<name>\", \"park 010-1234-1234\"))"
   ]
  },
  {
   "cell_type": "code",
   "execution_count": 27,
   "id": "5dfcf381",
   "metadata": {},
   "outputs": [
    {
     "name": "stdout",
     "output_type": "stream",
     "text": [
      "010-1234-1234 park\n"
     ]
    }
   ],
   "source": [
    "print(p.sub(\"\\g<2> \\g<1>\", \"park 010-1234-1234\"))"
   ]
  },
  {
   "cell_type": "markdown",
   "id": "cad9540f",
   "metadata": {},
   "source": [
    "## sub 메서드의 매개변수로 함수 넣기"
   ]
  },
  {
   "cell_type": "code",
   "execution_count": 28,
   "id": "9979d3db",
   "metadata": {},
   "outputs": [],
   "source": [
    "def hexrepl(match):\n",
    "    \"Return the hex string for a decimal number\"\n",
    "    value = int(match.group())\n",
    "    return hex(value)"
   ]
  },
  {
   "cell_type": "code",
   "execution_count": 29,
   "id": "f8979797",
   "metadata": {},
   "outputs": [
    {
     "name": "stdout",
     "output_type": "stream",
     "text": [
      "Call 0xffd2 for printing, 0xc000 for user code.\n"
     ]
    }
   ],
   "source": [
    "p = re.compile('\\d+')\n",
    "print(p.sub(hexrepl,'Call 65490 for printing, 49152 for user code.'))"
   ]
  },
  {
   "cell_type": "markdown",
   "id": "d1db8890",
   "metadata": {},
   "source": [
    "# Greedy vs Non-Greedy"
   ]
  },
  {
   "cell_type": "markdown",
   "id": "d5ed7e93",
   "metadata": {},
   "source": [
    "## Greedy의 의미"
   ]
  },
  {
   "cell_type": "code",
   "execution_count": 31,
   "id": "621a1c96",
   "metadata": {},
   "outputs": [],
   "source": [
    "s='<html><head><title>Title</title>'"
   ]
  },
  {
   "cell_type": "raw",
   "id": "dcc64fef",
   "metadata": {},
   "source": [
    "문제] . 을 활용하여 <html> 을 검색하려고 하는 정규식을 작성하세요."
   ]
  },
  {
   "cell_type": "code",
   "execution_count": 32,
   "id": "43301e06",
   "metadata": {},
   "outputs": [
    {
     "data": {
      "text/plain": [
       "<re.Match object; span=(0, 32), match='<html><head><title>Title</title>'>"
      ]
     },
     "execution_count": 32,
     "metadata": {},
     "output_type": "execute_result"
    }
   ],
   "source": [
    "# 매치가 되는 조건을 계속 찾는다. <= 이것이 Greedy의 의미\n",
    "re.match('<.*>' ,s)"
   ]
  },
  {
   "cell_type": "markdown",
   "id": "90310703",
   "metadata": {},
   "source": [
    "# Non-Greedy\n",
    "* non-greedy 문자인 ?를 사용하면 *의 탐욕을 제한 할 수 있다."
   ]
  },
  {
   "cell_type": "code",
   "execution_count": 33,
   "id": "f3d74067",
   "metadata": {},
   "outputs": [
    {
     "data": {
      "text/plain": [
       "<re.Match object; span=(0, 6), match='<html>'>"
      ]
     },
     "execution_count": 33,
     "metadata": {},
     "output_type": "execute_result"
    }
   ],
   "source": [
    "re.match('<.*?>' ,s)"
   ]
  },
  {
   "cell_type": "code",
   "execution_count": 35,
   "id": "dbf75887",
   "metadata": {},
   "outputs": [
    {
     "data": {
      "text/plain": [
       "<re.Match object; span=(0, 5), match='<html'>"
      ]
     },
     "execution_count": 35,
     "metadata": {},
     "output_type": "execute_result"
    }
   ],
   "source": [
    "re.match('<.*?(?=>)' ,s)"
   ]
  },
  {
   "cell_type": "code",
   "execution_count": 42,
   "id": "58fdbe18",
   "metadata": {},
   "outputs": [
    {
     "data": {
      "text/plain": [
       "<re.Match object; span=(1, 5), match='html'>"
      ]
     },
     "execution_count": 42,
     "metadata": {},
     "output_type": "execute_result"
    }
   ],
   "source": [
    "re.search('[^<].*?(?=>)' ,s)"
   ]
  },
  {
   "cell_type": "markdown",
   "id": "5d233a5e",
   "metadata": {},
   "source": [
    "# 수고했습니다! 이제 정규식을 연습합시다."
   ]
  },
  {
   "cell_type": "markdown",
   "id": "b1700168",
   "metadata": {},
   "source": [
    "https://regexone.com/"
   ]
  },
  {
   "cell_type": "code",
   "execution_count": null,
   "id": "ffbc32cd",
   "metadata": {},
   "outputs": [],
   "source": []
  },
  {
   "cell_type": "code",
   "execution_count": null,
   "id": "3fd1788d",
   "metadata": {},
   "outputs": [],
   "source": []
  }
 ],
 "metadata": {
  "kernelspec": {
   "display_name": "Python 3 (ipykernel)",
   "language": "python",
   "name": "python3"
  },
  "language_info": {
   "codemirror_mode": {
    "name": "ipython",
    "version": 3
   },
   "file_extension": ".py",
   "mimetype": "text/x-python",
   "name": "python",
   "nbconvert_exporter": "python",
   "pygments_lexer": "ipython3",
   "version": "3.9.13"
  }
 },
 "nbformat": 4,
 "nbformat_minor": 5
}
