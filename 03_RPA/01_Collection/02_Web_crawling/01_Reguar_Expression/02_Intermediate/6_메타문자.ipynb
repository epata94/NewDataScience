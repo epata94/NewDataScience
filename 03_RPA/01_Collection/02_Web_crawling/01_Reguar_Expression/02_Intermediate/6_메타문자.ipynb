{
 "cells": [
  {
   "cell_type": "markdown",
   "id": "39dd0b02",
   "metadata": {},
   "source": [
    "# |\n",
    "* or의 의미로 사용"
   ]
  },
  {
   "cell_type": "code",
   "execution_count": 1,
   "id": "00764581",
   "metadata": {},
   "outputs": [],
   "source": [
    "import re"
   ]
  },
  {
   "cell_type": "code",
   "execution_count": 2,
   "id": "55beff65",
   "metadata": {},
   "outputs": [
    {
     "name": "stdout",
     "output_type": "stream",
     "text": [
      "None\n",
      "<re.Match object; span=(0, 4), match='Crow'>\n",
      "<re.Match object; span=(0, 5), match='Servo'>\n",
      "<re.Match object; span=(0, 4), match='Crow'>\n"
     ]
    }
   ],
   "source": [
    "# Crow문자열 또는 Servo 문자열이 일치여부 확인\n",
    "p=re.compile('Crow|Servo')\n",
    "m = p.match('Nothing') \n",
    "print(m)\n",
    "m = p.match('Crow') \n",
    "print(m)\n",
    "m = p.match('Servo') \n",
    "print(m)\n",
    "m = p.match('CrowServo') \n",
    "print(m)"
   ]
  },
  {
   "cell_type": "code",
   "execution_count": 3,
   "id": "56f27824",
   "metadata": {},
   "outputs": [
    {
     "name": "stdout",
     "output_type": "stream",
     "text": [
      "None\n",
      "None\n"
     ]
    }
   ],
   "source": [
    "m = p.match('Cro') \n",
    "print(m)\n",
    "m = p.match('Serv') \n",
    "print(m)"
   ]
  },
  {
   "cell_type": "code",
   "execution_count": 4,
   "id": "577527c7",
   "metadata": {},
   "outputs": [
    {
     "name": "stdout",
     "output_type": "stream",
     "text": [
      "<re.Match object; span=(0, 3), match='Cro'>\n",
      "<re.Match object; span=(0, 4), match='Serv'>\n"
     ]
    }
   ],
   "source": [
    "p=re.compile('Cro|Serv')\n",
    "m = p.match('Cro') \n",
    "print(m)\n",
    "m = p.match('Serv') \n",
    "print(m)"
   ]
  },
  {
   "cell_type": "markdown",
   "id": "ed76f0a1",
   "metadata": {},
   "source": [
    "# ^\n",
    "* 문자열의 맨 처음과 일치여부 확인\n",
    "* 컴파일 옵션. re.MULTILINE 을 사용할 경우 여러 줄의 문자열의 처음과 일치여부 확인"
   ]
  },
  {
   "cell_type": "code",
   "execution_count": 5,
   "id": "4274474d",
   "metadata": {},
   "outputs": [
    {
     "data": {
      "text/plain": [
       "<re.Match object; span=(0, 4), match='Life'>"
      ]
     },
     "execution_count": 5,
     "metadata": {},
     "output_type": "execute_result"
    }
   ],
   "source": [
    "# search([정규식],[문자열 원본])\n",
    "re.search('^Life', 'Life is too short')"
   ]
  },
  {
   "cell_type": "code",
   "execution_count": 7,
   "id": "b4b1ee84",
   "metadata": {},
   "outputs": [
    {
     "name": "stdout",
     "output_type": "stream",
     "text": [
      "None\n"
     ]
    }
   ],
   "source": [
    "print(re.search('^Life', 'Brovo! Your Life!'))"
   ]
  },
  {
   "cell_type": "code",
   "execution_count": 8,
   "id": "a0d2e29e",
   "metadata": {},
   "outputs": [],
   "source": [
    "multilne_str=\"\"\"Life is good.\n",
    "Brovo! My Life\n",
    "Life is too short\n",
    "\"\"\""
   ]
  },
  {
   "cell_type": "code",
   "execution_count": 9,
   "id": "83476de4",
   "metadata": {},
   "outputs": [
    {
     "name": "stdout",
     "output_type": "stream",
     "text": [
      "['Life']\n"
     ]
    }
   ],
   "source": [
    "p = re.compile('^Life')\n",
    "print(p.findall(multilne_str))"
   ]
  },
  {
   "cell_type": "code",
   "execution_count": 10,
   "id": "e6f2535a",
   "metadata": {},
   "outputs": [
    {
     "name": "stdout",
     "output_type": "stream",
     "text": [
      "['Life', 'Life']\n"
     ]
    }
   ],
   "source": [
    "p = re.compile('^Life', re.MULTILINE)\n",
    "print(p.findall(multilne_str))"
   ]
  },
  {
   "cell_type": "code",
   "execution_count": 11,
   "id": "2184408a",
   "metadata": {},
   "outputs": [
    {
     "name": "stdout",
     "output_type": "stream",
     "text": [
      "<re.Match object; span=(0, 4), match='Life'>\n",
      "<re.Match object; span=(29, 33), match='Life'>\n"
     ]
    }
   ],
   "source": [
    "for find_info in p.finditer(multilne_str):\n",
    "    print(find_info)"
   ]
  },
  {
   "cell_type": "markdown",
   "id": "a11f8795",
   "metadata": {},
   "source": [
    "# \\\\A\n",
    "* 문자열의 처음과 매치됨을 의미한다. \n",
    "* ^ 메타 문자와 동일한 의미이지만 re.MULTILINE 옵션을 사용할 경우에는 다르게 해석된다.\n",
    "* re.MULTILINE 옵션을 사용할 경우 ^은 각 줄의 문자열의 처음과 매치되지만 \\A는 줄과 상관없이 전체 문자열의 처음하고만 매치"
   ]
  },
  {
   "cell_type": "code",
   "execution_count": 15,
   "id": "c7160518",
   "metadata": {},
   "outputs": [],
   "source": [
    "multiline_str=\"\"\"Life is good.\n",
    "Brovo! My Life\n",
    "Life is too short\n",
    "\"\"\""
   ]
  },
  {
   "cell_type": "code",
   "execution_count": 16,
   "id": "64bd2473",
   "metadata": {},
   "outputs": [
    {
     "name": "stdout",
     "output_type": "stream",
     "text": [
      "['Life']\n"
     ]
    }
   ],
   "source": [
    "p = re.compile('\\ALife', re.MULTILINE)\n",
    "print(p.findall( multiline_str))"
   ]
  },
  {
   "cell_type": "code",
   "execution_count": 17,
   "id": "0d8b7ac6",
   "metadata": {},
   "outputs": [
    {
     "name": "stdout",
     "output_type": "stream",
     "text": [
      "<re.Match object; span=(0, 4), match='Life'>\n"
     ]
    }
   ],
   "source": [
    "for find_info in p.finditer(multilne_str):\n",
    "    print(find_info)"
   ]
  },
  {
   "cell_type": "code",
   "execution_count": 45,
   "id": "478422e0",
   "metadata": {},
   "outputs": [],
   "source": [
    "multiline_str=\"\"\"\n",
    "Life is good.\n",
    "Brovo! My Life\n",
    "Life is too short\n",
    "\"\"\""
   ]
  },
  {
   "cell_type": "code",
   "execution_count": 46,
   "id": "16a895e4",
   "metadata": {},
   "outputs": [
    {
     "name": "stdout",
     "output_type": "stream",
     "text": [
      "[]\n"
     ]
    }
   ],
   "source": [
    "p = re.compile('\\ALife', re.MULTILINE)\n",
    "print(p.findall( multiline_str))"
   ]
  },
  {
   "cell_type": "code",
   "execution_count": 47,
   "id": "42c83a7d",
   "metadata": {},
   "outputs": [
    {
     "name": "stdout",
     "output_type": "stream",
     "text": [
      "['\\nLife']\n"
     ]
    }
   ],
   "source": [
    "p = re.compile('\\A\\nLife', re.MULTILINE)\n",
    "print(p.findall( multiline_str))"
   ]
  },
  {
   "cell_type": "markdown",
   "id": "313bf49a",
   "metadata": {},
   "source": [
    "# $\n",
    "* 문자열의 끝과 매칭 여부 확인"
   ]
  },
  {
   "cell_type": "code",
   "execution_count": 18,
   "id": "1881107f",
   "metadata": {},
   "outputs": [
    {
     "name": "stdout",
     "output_type": "stream",
     "text": [
      "None\n",
      "None\n",
      "None\n",
      "<re.Match object; span=(12, 17), match='short'>\n",
      "None\n"
     ]
    }
   ],
   "source": [
    "print(re.search('Life$','Life is too short'))\n",
    "print(re.search('is$','Life is too short'))\n",
    "print(re.search('too$','Life is too short'))\n",
    "print(re.search('short$','Life is too short'))\n",
    "print(re.search('short$','Life is too short, you need python'))"
   ]
  },
  {
   "cell_type": "code",
   "execution_count": 19,
   "id": "42f392fd",
   "metadata": {},
   "outputs": [
    {
     "name": "stdout",
     "output_type": "stream",
     "text": [
      "<re.Match object; span=(28, 34), match='python'>\n"
     ]
    }
   ],
   "source": [
    "print(re.search('python$','Life is too short, you need python'))"
   ]
  },
  {
   "cell_type": "code",
   "execution_count": 20,
   "id": "f2509a68",
   "metadata": {},
   "outputs": [
    {
     "name": "stdout",
     "output_type": "stream",
     "text": [
      "None\n"
     ]
    }
   ],
   "source": [
    "print(re.search('python$','Life is too short, you need python.'))"
   ]
  },
  {
   "cell_type": "code",
   "execution_count": 21,
   "id": "757f2fb2",
   "metadata": {},
   "outputs": [
    {
     "name": "stdout",
     "output_type": "stream",
     "text": [
      "<re.Match object; span=(28, 35), match='python.'>\n"
     ]
    }
   ],
   "source": [
    "print(re.search('python.$','Life is too short, you need python.'))"
   ]
  },
  {
   "cell_type": "code",
   "execution_count": 22,
   "id": "22b86e48",
   "metadata": {},
   "outputs": [
    {
     "name": "stdout",
     "output_type": "stream",
     "text": [
      "<re.Match object; span=(28, 35), match='python.'>\n"
     ]
    }
   ],
   "source": [
    "print(re.search('python[.]$','Life is too short, you need python.'))"
   ]
  },
  {
   "cell_type": "markdown",
   "id": "c8d6b236",
   "metadata": {},
   "source": [
    "# \\\\Z"
   ]
  },
  {
   "cell_type": "raw",
   "id": "0adf0a29",
   "metadata": {},
   "source": [
    "* 문자열의 마지막과 매치됨을 의미한다. \n",
    "* $ 메타 문자와 동일한 의미이지만 re.MULTILINE 옵션을 사용할 경우에는 다르게 해석된다.\n",
    "* re.MULTILINE 옵션을 사용할 경우 $은 각 줄의 문자열의 처음과 매치되지만 \\Z는 줄과 상관없이 전체 문자열의 처음하고만 매치"
   ]
  },
  {
   "cell_type": "code",
   "execution_count": 37,
   "id": "e185fcbd",
   "metadata": {},
   "outputs": [],
   "source": [
    "multiline_str=\"\"\"Good. Your Life\n",
    "Life is too short\n",
    "Brovo! My Life\"\"\""
   ]
  },
  {
   "cell_type": "code",
   "execution_count": 38,
   "id": "32538f7c",
   "metadata": {},
   "outputs": [
    {
     "name": "stdout",
     "output_type": "stream",
     "text": [
      "['Life']\n"
     ]
    }
   ],
   "source": [
    "p = re.compile('Life\\Z', re.MULTILINE)\n",
    "print(p.findall( multiline_str))"
   ]
  },
  {
   "cell_type": "code",
   "execution_count": 41,
   "id": "c976aaa7",
   "metadata": {},
   "outputs": [
    {
     "name": "stdout",
     "output_type": "stream",
     "text": [
      "<re.Match object; span=(44, 48), match='Life'>\n"
     ]
    }
   ],
   "source": [
    "for find_info in p.finditer(multiline_str):\n",
    "    print(find_info)"
   ]
  },
  {
   "cell_type": "code",
   "execution_count": 42,
   "id": "07294fea",
   "metadata": {},
   "outputs": [],
   "source": [
    "multiline_str=\"\"\"\n",
    "Good. Your Life\n",
    "Life is too short\n",
    "Brovo! My Life\n",
    "\"\"\""
   ]
  },
  {
   "cell_type": "code",
   "execution_count": 43,
   "id": "6cf50f96",
   "metadata": {},
   "outputs": [
    {
     "name": "stdout",
     "output_type": "stream",
     "text": [
      "[]\n"
     ]
    }
   ],
   "source": [
    "p = re.compile('Life\\Z', re.MULTILINE)\n",
    "print(p.findall( multiline_str))"
   ]
  },
  {
   "cell_type": "code",
   "execution_count": 44,
   "id": "7b6e7e22",
   "metadata": {},
   "outputs": [
    {
     "name": "stdout",
     "output_type": "stream",
     "text": [
      "['Life\\n']\n"
     ]
    }
   ],
   "source": [
    "p = re.compile('Life\\n\\Z', re.MULTILINE)\n",
    "print(p.findall( multiline_str))"
   ]
  },
  {
   "cell_type": "markdown",
   "id": "c59cecad",
   "metadata": {},
   "source": [
    "# \\\\b"
   ]
  },
  {
   "cell_type": "markdown",
   "id": "c11925ee",
   "metadata": {},
   "source": [
    "* 단어 구분자(witespace)로 활용"
   ]
  },
  {
   "cell_type": "code",
   "execution_count": 49,
   "id": "572ceb68",
   "metadata": {},
   "outputs": [],
   "source": [
    "p = re.compile('\\bclass\\b')"
   ]
  },
  {
   "cell_type": "code",
   "execution_count": 50,
   "id": "e827907d",
   "metadata": {},
   "outputs": [],
   "source": [
    "p.search('no class at all')"
   ]
  },
  {
   "cell_type": "code",
   "execution_count": 51,
   "id": "b8014cfe",
   "metadata": {},
   "outputs": [
    {
     "data": {
      "text/plain": [
       "<re.Match object; span=(3, 8), match='class'>"
      ]
     },
     "execution_count": 51,
     "metadata": {},
     "output_type": "execute_result"
    }
   ],
   "source": [
    "p = re.compile(r'\\bclass\\b') # \\b 표현식을 사용하기 위해서는 r옵션을 사용한다.\n",
    "p.search('no class at all')"
   ]
  },
  {
   "cell_type": "code",
   "execution_count": null,
   "id": "3ab0fe07",
   "metadata": {},
   "outputs": [],
   "source": []
  }
 ],
 "metadata": {
  "kernelspec": {
   "display_name": "Python 3 (ipykernel)",
   "language": "python",
   "name": "python3"
  },
  "language_info": {
   "codemirror_mode": {
    "name": "ipython",
    "version": 3
   },
   "file_extension": ".py",
   "mimetype": "text/x-python",
   "name": "python",
   "nbconvert_exporter": "python",
   "pygments_lexer": "ipython3",
   "version": "3.9.13"
  }
 },
 "nbformat": 4,
 "nbformat_minor": 5
}
