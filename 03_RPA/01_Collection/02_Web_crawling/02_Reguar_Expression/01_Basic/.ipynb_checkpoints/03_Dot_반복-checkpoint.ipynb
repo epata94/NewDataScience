{
 "cells": [
  {
   "cell_type": "markdown",
   "id": "d6ef3750",
   "metadata": {},
   "source": [
    "## Dot."
   ]
  },
  {
   "cell_type": "markdown",
   "id": "1cfceead",
   "metadata": {},
   "source": [
    "* 정규 표현식의 Dot(.) 메타 문자는 줄바꿈 문자인 \\n을 제외한 모든 문자와 매치"
   ]
  },
  {
   "cell_type": "code",
   "execution_count": 2,
   "id": "2175ec76",
   "metadata": {},
   "outputs": [],
   "source": [
    "import re"
   ]
  },
  {
   "cell_type": "code",
   "execution_count": 4,
   "id": "0b874a96",
   "metadata": {},
   "outputs": [
    {
     "name": "stdout",
     "output_type": "stream",
     "text": [
      "<re.Match object; span=(0, 3), match='aab'>\n",
      "<re.Match object; span=(0, 3), match='a0b'>\n",
      "None\n"
     ]
    }
   ],
   "source": [
    "p=re.compile('a.b')\n",
    "m = p.match('aab')\n",
    "print(m)\n",
    "m = p.match('a0b')\n",
    "print(m)\n",
    "m = p.match('abc') # ab 사이에 문자가 있어야 하는데 없으므로 매치되지 않음\n",
    "print(m)"
   ]
  },
  {
   "cell_type": "code",
   "execution_count": 6,
   "id": "39f726a4",
   "metadata": {},
   "outputs": [],
   "source": [
    "p=re.compile('a[.]b')"
   ]
  },
  {
   "cell_type": "raw",
   "id": "2ecf6941",
   "metadata": {},
   "source": [
    "아래 정규식 예상 결과는?"
   ]
  },
  {
   "cell_type": "code",
   "execution_count": 7,
   "id": "64a39428",
   "metadata": {
    "collapsed": true
   },
   "outputs": [
    {
     "name": "stdout",
     "output_type": "stream",
     "text": [
      "None\n",
      "None\n",
      "None\n"
     ]
    }
   ],
   "source": [
    "m = p.match('aab')\n",
    "print(m)\n",
    "m = p.match('a0b')\n",
    "print(m)\n",
    "m = p.match('abc')\n",
    "print(m)"
   ]
  },
  {
   "cell_type": "raw",
   "id": "d70619c6",
   "metadata": {},
   "source": [
    "문자 클래스에서의 .은 . 문자이다."
   ]
  },
  {
   "cell_type": "code",
   "execution_count": 8,
   "id": "190f8f5b",
   "metadata": {},
   "outputs": [
    {
     "name": "stdout",
     "output_type": "stream",
     "text": [
      "<re.Match object; span=(0, 7), match='aab.txt'>\n",
      "None\n"
     ]
    }
   ],
   "source": [
    "p=re.compile('a..[.]txt')\n",
    "m = p.match('aab.txt')\n",
    "print(m)\n",
    "m = p.match('a1.txt')\n",
    "print(m)"
   ]
  },
  {
   "cell_type": "code",
   "execution_count": 10,
   "id": "34caa1b2",
   "metadata": {},
   "outputs": [
    {
     "name": "stdout",
     "output_type": "stream",
     "text": [
      "<re.Match object; span=(0, 4), match='pen.'>\n",
      "<re.Match object; span=(0, 4), match='pen.'>\n",
      "<re.Match object; span=(0, 4), match='pen!'>\n"
     ]
    }
   ],
   "source": [
    "p=re.compile('....')\n",
    "m = p.match('pen.')\n",
    "print(m)\n",
    "p=re.compile('pen.')\n",
    "m = p.match('pen.')\n",
    "print(m)\n",
    "m = p.match('pen!') # 매칭이 된다. '.'는 모든 문자열 클래스이기 때문이다.\n",
    "                     # 하지만 '.'문자 자체를 필터링하는 조건으로는 사용할 수 없다.\n",
    "print(m)"
   ]
  },
  {
   "cell_type": "code",
   "execution_count": 12,
   "id": "0a3672eb",
   "metadata": {},
   "outputs": [
    {
     "name": "stdout",
     "output_type": "stream",
     "text": [
      "None\n",
      "<re.Match object; span=(0, 4), match='pen.'>\n"
     ]
    }
   ],
   "source": [
    "p=re.compile('pen[.]') #'.'를 메타 문자가 아닌 고유의 문자의미로 정규식을 사용하고 싶다면\n",
    "                        # '.'를 문자열 클래스 안에서 사용해야 한다.\n",
    "m = p.match('pen!') # 따라서 pen!는 '.'로 끝나지 않았기 때문에 매칭이 안된다.\n",
    "print(m)\n",
    "m = p.match('pen.') \n",
    "print(m)"
   ]
  },
  {
   "cell_type": "markdown",
   "id": "04dc7c91",
   "metadata": {},
   "source": [
    "---"
   ]
  },
  {
   "cell_type": "markdown",
   "id": "7a9b7a94",
   "metadata": {},
   "source": [
    "## 반복 (*)"
   ]
  },
  {
   "cell_type": "markdown",
   "id": "aea8c239",
   "metadata": {},
   "source": [
    "* '*'는 바로 앞에 있는 문자가 0부터 무한대로 반복\n",
    "  (무한대 이지만 메모리 제한으로 2억개 정도 가능)"
   ]
  },
  {
   "cell_type": "code",
   "execution_count": 15,
   "id": "f6cb7233",
   "metadata": {},
   "outputs": [
    {
     "name": "stdout",
     "output_type": "stream",
     "text": [
      "<re.Match object; span=(0, 2), match='ct'>\n",
      "<re.Match object; span=(0, 3), match='cat'>\n",
      "<re.Match object; span=(0, 4), match='caat'>\n",
      "<re.Match object; span=(0, 10), match='caaaaaaaat'>\n",
      "None\n"
     ]
    }
   ],
   "source": [
    "p=re.compile('ca*t')\n",
    "m = p.match('ct')\n",
    "print(m)\n",
    "m = p.match('cat')\n",
    "print(m)\n",
    "m = p.match('caat')\n",
    "print(m)\n",
    "m = p.match('caaaaaaaat')\n",
    "print(m)\n",
    "m = p.match('caaaaaaaaa')\n",
    "print(m)"
   ]
  },
  {
   "cell_type": "markdown",
   "id": "6a9b9a96",
   "metadata": {},
   "source": [
    "## 반복 (+)"
   ]
  },
  {
   "cell_type": "markdown",
   "id": "bade2c46",
   "metadata": {},
   "source": [
    "* '+'는 바로 앞에 있는 문자가 1부터 무한대로 반복"
   ]
  },
  {
   "cell_type": "code",
   "execution_count": 17,
   "id": "9486795e",
   "metadata": {},
   "outputs": [
    {
     "name": "stdout",
     "output_type": "stream",
     "text": [
      "None\n",
      "<re.Match object; span=(0, 3), match='cat'>\n",
      "<re.Match object; span=(0, 4), match='caat'>\n",
      "<re.Match object; span=(0, 10), match='caaaaaaaat'>\n",
      "None\n"
     ]
    }
   ],
   "source": [
    "p=re.compile('ca+t')\n",
    "m = p.match('ct')\n",
    "print(m)\n",
    "m = p.match('cat')\n",
    "print(m)\n",
    "m = p.match('caat')\n",
    "print(m)\n",
    "m = p.match('caaaaaaaat')\n",
    "print(m)\n",
    "m = p.match('caaaaaaaaa')\n",
    "print(m)"
   ]
  },
  {
   "cell_type": "code",
   "execution_count": 18,
   "id": "637c882b",
   "metadata": {},
   "outputs": [
    {
     "name": "stdout",
     "output_type": "stream",
     "text": [
      "None\n",
      "<re.Match object; span=(0, 6), match='google'>\n",
      "<re.Match object; span=(0, 24), match='goooooooooooooooooooogle'>\n"
     ]
    }
   ],
   "source": [
    "p=re.compile('goo+gle')\n",
    "m = p.match('gogle')\n",
    "print(m)\n",
    "m = p.match('google')\n",
    "print(m)\n",
    "m = p.match('goooooooooooooooooooogle')\n",
    "print(m)"
   ]
  },
  {
   "cell_type": "markdown",
   "id": "55f400c7",
   "metadata": {},
   "source": [
    "## 반복 {m,n}"
   ]
  },
  {
   "cell_type": "markdown",
   "id": "68c51a67",
   "metadata": {},
   "source": [
    "* {m, n} 정규식을 사용하면 반복 횟수가 m부터 n까지 매치\n",
    "* m 또는 n을 생략할 수도 있다.\n",
    "* {3,}처럼 사용하면 반복 횟수가 3 이상인 경우이고 {,3}처럼 사용하면 반복 횟수가 3 이하를 의미\n",
    "* {1,}은 +와 동일하고, {0,}은 *와 동일"
   ]
  },
  {
   "cell_type": "code",
   "execution_count": 20,
   "id": "8a1cf555",
   "metadata": {},
   "outputs": [
    {
     "name": "stdout",
     "output_type": "stream",
     "text": [
      "None\n",
      "None\n",
      "<re.Match object; span=(0, 4), match='caat'>\n",
      "None\n"
     ]
    }
   ],
   "source": [
    "p=re.compile('ca{2}t') #{} 숫자가 한 개만 올떄는 해당 반복수를 정확히 지킨 문자열만\n",
    "                       # 매칭이 된다.\n",
    "m = p.match('ct')\n",
    "print(m)\n",
    "m = p.match('cat')\n",
    "print(m)\n",
    "m = p.match('caat')\n",
    "print(m)\n",
    "m = p.match('caaaat')\n",
    "print(m)"
   ]
  },
  {
   "cell_type": "code",
   "execution_count": 21,
   "id": "5155e828",
   "metadata": {},
   "outputs": [
    {
     "name": "stdout",
     "output_type": "stream",
     "text": [
      "None\n",
      "<re.Match object; span=(0, 4), match='caat'>\n",
      "<re.Match object; span=(0, 6), match='caaaat'>\n",
      "<re.Match object; span=(0, 7), match='caaaaat'>\n"
     ]
    }
   ],
   "source": [
    "p=re.compile('ca{2,5}t') # a가 2~5 사이의 반복인 경우에 매칭이 된다.\n",
    "m = p.match('cat')\n",
    "print(m)\n",
    "m = p.match('caat')\n",
    "print(m)\n",
    "m = p.match('caaaat')\n",
    "print(m)\n",
    "m = p.match('caaaaat')\n",
    "print(m)"
   ]
  },
  {
   "cell_type": "code",
   "execution_count": 22,
   "id": "7053bf66",
   "metadata": {},
   "outputs": [
    {
     "name": "stdout",
     "output_type": "stream",
     "text": [
      "None\n",
      "<re.Match object; span=(0, 4), match='caat'>\n",
      "<re.Match object; span=(0, 6), match='caaaat'>\n",
      "<re.Match object; span=(0, 7), match='caaaaat'>\n",
      "<re.Match object; span=(0, 12), match='caaaaaaaaaat'>\n"
     ]
    }
   ],
   "source": [
    "p=re.compile('ca{2,}t') # a가 2이상 반복인 경우에 매칭이 된다.\n",
    "m = p.match('cat')\n",
    "print(m)\n",
    "m = p.match('caat')\n",
    "print(m)\n",
    "m = p.match('caaaat')\n",
    "print(m)\n",
    "m = p.match('caaaaat')\n",
    "print(m)\n",
    "m = p.match('caaaaaaaaaat')\n",
    "print(m)"
   ]
  },
  {
   "cell_type": "code",
   "execution_count": 23,
   "id": "c476903b",
   "metadata": {},
   "outputs": [
    {
     "name": "stdout",
     "output_type": "stream",
     "text": [
      "<re.Match object; span=(0, 2), match='ct'>\n",
      "<re.Match object; span=(0, 3), match='cat'>\n",
      "<re.Match object; span=(0, 4), match='caat'>\n",
      "<re.Match object; span=(0, 6), match='caaaat'>\n",
      "<re.Match object; span=(0, 7), match='caaaaat'>\n",
      "None\n"
     ]
    }
   ],
   "source": [
    "p=re.compile('ca{,5}t') # a가 5이하 반복인 경우에 매칭이 된다.\n",
    "m = p.match('ct')\n",
    "print(m)\n",
    "m = p.match('cat')\n",
    "print(m)\n",
    "m = p.match('caat')\n",
    "print(m)\n",
    "m = p.match('caaaat')\n",
    "print(m)\n",
    "m = p.match('caaaaat')\n",
    "print(m)\n",
    "m = p.match('caaaaaaaaaat')\n",
    "print(m)"
   ]
  },
  {
   "cell_type": "markdown",
   "id": "a25169d5",
   "metadata": {},
   "source": [
    "## 선택사항 ?"
   ]
  },
  {
   "cell_type": "markdown",
   "id": "70916bcd",
   "metadata": {},
   "source": [
    "* ? 메타문자가 의미하는 것은 {0, 1}"
   ]
  },
  {
   "cell_type": "code",
   "execution_count": 25,
   "id": "2005ab32",
   "metadata": {},
   "outputs": [
    {
     "name": "stdout",
     "output_type": "stream",
     "text": [
      "<re.Match object; span=(0, 2), match='ac'>\n",
      "<re.Match object; span=(0, 3), match='abc'>\n",
      "None\n",
      "None\n",
      "<re.Match object; span=(0, 3), match='abc'>\n"
     ]
    }
   ],
   "source": [
    "p=re.compile('ab?c')\n",
    "m = p.match('ac')\n",
    "print(m)\n",
    "m = p.match('abc')\n",
    "print(m)\n",
    "m = p.match('abbc') # b가 매치가 되었다면 다음 순서는 c가 와야 하므로 매치 않됨\n",
    "print(m)\n",
    "m = p.match('abbbc') # b가 매치가 되었다면 다음 순서는 c가 와야 하므로 매치 않됨\n",
    "print(m)\n",
    "m = p.match('abcd') # 문자열중 정규식에 일치하는 abc만 매치\n",
    "print(m)"
   ]
  },
  {
   "cell_type": "code",
   "execution_count": null,
   "id": "44b7e4d3",
   "metadata": {},
   "outputs": [],
   "source": []
  },
  {
   "cell_type": "code",
   "execution_count": null,
   "id": "1e846436",
   "metadata": {},
   "outputs": [],
   "source": []
  },
  {
   "cell_type": "code",
   "execution_count": null,
   "id": "24d4f5b4",
   "metadata": {},
   "outputs": [],
   "source": []
  },
  {
   "cell_type": "code",
   "execution_count": null,
   "id": "bafb4bf7",
   "metadata": {},
   "outputs": [],
   "source": []
  },
  {
   "cell_type": "code",
   "execution_count": null,
   "id": "20a37967",
   "metadata": {},
   "outputs": [],
   "source": []
  },
  {
   "cell_type": "code",
   "execution_count": null,
   "id": "9474db7a",
   "metadata": {},
   "outputs": [],
   "source": []
  },
  {
   "cell_type": "code",
   "execution_count": null,
   "id": "2398896b",
   "metadata": {},
   "outputs": [],
   "source": []
  },
  {
   "cell_type": "code",
   "execution_count": null,
   "id": "10d46813",
   "metadata": {},
   "outputs": [],
   "source": []
  },
  {
   "cell_type": "code",
   "execution_count": null,
   "id": "63e96f92",
   "metadata": {},
   "outputs": [],
   "source": []
  }
 ],
 "metadata": {
  "kernelspec": {
   "display_name": "Python 3 (ipykernel)",
   "language": "python",
   "name": "python3"
  },
  "language_info": {
   "codemirror_mode": {
    "name": "ipython",
    "version": 3
   },
   "file_extension": ".py",
   "mimetype": "text/x-python",
   "name": "python",
   "nbconvert_exporter": "python",
   "pygments_lexer": "ipython3",
   "version": "3.9.13"
  }
 },
 "nbformat": 4,
 "nbformat_minor": 5
}
