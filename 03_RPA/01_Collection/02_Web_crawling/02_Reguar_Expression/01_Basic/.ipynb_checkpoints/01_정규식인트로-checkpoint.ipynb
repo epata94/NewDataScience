{
 "cells": [
  {
   "cell_type": "markdown",
   "id": "8f8549a7",
   "metadata": {},
   "source": [
    "# 왜 정규식을 해야 하는가?"
   ]
  },
  {
   "cell_type": "markdown",
   "id": "f4d70dcc",
   "metadata": {},
   "source": [
    "## 비 정규식 풀이"
   ]
  },
  {
   "cell_type": "raw",
   "id": "e2cb4ba3",
   "metadata": {},
   "source": [
    "문제] 아래 문자열에서 주민등록번호 뒤 7자리를 ******* 로 변경 할 것\n",
    "park 800905-1049118\n",
    "kim 700905-1059119\n",
    "\n",
    "예) \n",
    "park 800905-*******\n",
    "kim 700905-*******\n",
    "\n",
    "제한시간 5분"
   ]
  },
  {
   "cell_type": "code",
   "execution_count": null,
   "id": "f04b8b28",
   "metadata": {},
   "outputs": [],
   "source": []
  }
 ],
 "metadata": {
  "kernelspec": {
   "display_name": "Python 3 (ipykernel)",
   "language": "python",
   "name": "python3"
  },
  "language_info": {
   "codemirror_mode": {
    "name": "ipython",
    "version": 3
   },
   "file_extension": ".py",
   "mimetype": "text/x-python",
   "name": "python",
   "nbconvert_exporter": "python",
   "pygments_lexer": "ipython3",
   "version": "3.9.13"
  }
 },
 "nbformat": 4,
 "nbformat_minor": 5
}
