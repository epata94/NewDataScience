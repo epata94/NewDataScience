{
 "cells": [
  {
   "cell_type": "code",
   "execution_count": null,
   "id": "b17d206f",
   "metadata": {},
   "outputs": [],
   "source": [
    "# pip install selenium\n",
    "# pip install webdriver_manager"
   ]
  },
  {
   "cell_type": "markdown",
   "id": "8f8e23b5",
   "metadata": {},
   "source": [
    "https://sites.google.com/a/chromium.org/chromedriver/downloads"
   ]
  },
  {
   "cell_type": "raw",
   "id": "2bc0426b",
   "metadata": {},
   "source": [
    "Starting ChromeDriver 94.0.4606.41 (333e85df3c9b656b518b5f1add5ff246365b6c24-refs/branch-heads/4606@{#845}) on port 9515\n",
    "Only local connections are allowed.\n",
    "Please see https://chromedriver.chromium.org/security-considerations for suggestions on keeping ChromeDriver safe.\n",
    "ChromeDriver was started successfully."
   ]
  },
  {
   "cell_type": "code",
   "execution_count": 3,
   "id": "29c464a4",
   "metadata": {},
   "outputs": [
    {
     "name": "stderr",
     "output_type": "stream",
     "text": [
      "[WDM] - Downloading: 100%|████████████████████████████████████████████████████████| 6.58M/6.58M [00:00<00:00, 12.0MB/s]\n",
      "C:\\Users\\Public\\Documents\\ESTsoft\\CreatorTemp\\ipykernel_27888\\541619761.py:6: DeprecationWarning: executable_path has been deprecated, please pass in a Service object\n",
      "  driver = webdriver.Chrome(ChromeDriverManager().install())\n"
     ]
    }
   ],
   "source": [
    "from webdriver_manager.chrome import ChromeDriverManager\n",
    "from selenium.webdriver.chrome.service import Service\n",
    "from selenium import webdriver\n",
    "import os\n",
    "\n",
    "URL='https://www.naver.com'\n",
    "driver = webdriver.Chrome(service=Service(ChromeDriverManager().install()))"
   ]
  },
  {
   "cell_type": "code",
   "execution_count": 12,
   "id": "18b29392",
   "metadata": {},
   "outputs": [],
   "source": [
    "from webdriver_manager.chrome import ChromeDriverManager\n",
    "from selenium.webdriver.chrome.service import Service\n",
    "from selenium import webdriver\n",
    "from selenium.webdriver.common.by import By\n",
    "URL='https://www.gopax.co.kr/exchange/btc-krw'\n",
    "\n",
    "def crawl():\n",
    "\n",
    "    # webdriver 객체 생성\n",
    "    driver = webdriver.Chrome(service=Service(ChromeDriverManager().install()))\n",
    "    driver.maximize_window()\n",
    "    driver.implicitly_wait(10) \t\n",
    "\n",
    "    # URL 접근\n",
    "    driver.get(URL)\n",
    "\n",
    "    # 비트코인 현재가 Element에 접근 (div class name을 사용)\n",
    "#     bitcoin_price=driver.find_element_by_class_name(\"PriceIndicator__price\")\n",
    "    bitcoin_price=driver.find_element(By.ID,\"PriceIndicator__price\")\n",
    "    print(bitcoin_price.text)\n",
    "    driver.close()"
   ]
  },
  {
   "cell_type": "code",
   "execution_count": 13,
   "id": "bbc2dad4",
   "metadata": {},
   "outputs": [
    {
     "ename": "NoSuchElementException",
     "evalue": "Message: no such element: Unable to locate element: {\"method\":\"css selector\",\"selector\":\"[id=\"PriceIndicator__price\"]\"}\n  (Session info: chrome=108.0.5359.125)\nStacktrace:\nBacktrace:\n\t(No symbol) [0x00ABF243]\n\t(No symbol) [0x00A47FD1]\n\t(No symbol) [0x0093D04D]\n\t(No symbol) [0x0096C0B0]\n\t(No symbol) [0x0096C22B]\n\t(No symbol) [0x0099E612]\n\t(No symbol) [0x009885D4]\n\t(No symbol) [0x0099C9EB]\n\t(No symbol) [0x00988386]\n\t(No symbol) [0x0096163C]\n\t(No symbol) [0x0096269D]\n\tGetHandleVerifier [0x00D59A22+2655074]\n\tGetHandleVerifier [0x00D4CA24+2601828]\n\tGetHandleVerifier [0x00B68C0A+619850]\n\tGetHandleVerifier [0x00B67830+614768]\n\t(No symbol) [0x00A505FC]\n\t(No symbol) [0x00A55968]\n\t(No symbol) [0x00A55A55]\n\t(No symbol) [0x00A6051B]\n\tBaseThreadInitThunk [0x75E06359+25]\n\tRtlGetAppContainerNamedObjectPath [0x77AF87A4+228]\n\tRtlGetAppContainerNamedObjectPath [0x77AF8774+180]\n",
     "output_type": "error",
     "traceback": [
      "\u001b[1;31m---------------------------------------------------------------------------\u001b[0m",
      "\u001b[1;31mNoSuchElementException\u001b[0m                    Traceback (most recent call last)",
      "Cell \u001b[1;32mIn [13], line 1\u001b[0m\n\u001b[1;32m----> 1\u001b[0m \u001b[43mcrawl\u001b[49m\u001b[43m(\u001b[49m\u001b[43m)\u001b[49m\n",
      "Cell \u001b[1;32mIn [12], line 19\u001b[0m, in \u001b[0;36mcrawl\u001b[1;34m()\u001b[0m\n\u001b[0;32m     15\u001b[0m     driver\u001b[38;5;241m.\u001b[39mget(URL)\n\u001b[0;32m     17\u001b[0m     \u001b[38;5;66;03m# 비트코인 현재가 Element에 접근 (div class name을 사용)\u001b[39;00m\n\u001b[0;32m     18\u001b[0m \u001b[38;5;66;03m#     bitcoin_price=driver.find_element_by_class_name(\"PriceIndicator__price\")\u001b[39;00m\n\u001b[1;32m---> 19\u001b[0m     bitcoin_price\u001b[38;5;241m=\u001b[39m\u001b[43mdriver\u001b[49m\u001b[38;5;241;43m.\u001b[39;49m\u001b[43mfind_element\u001b[49m\u001b[43m(\u001b[49m\u001b[43mBy\u001b[49m\u001b[38;5;241;43m.\u001b[39;49m\u001b[43mID\u001b[49m\u001b[43m,\u001b[49m\u001b[38;5;124;43m\"\u001b[39;49m\u001b[38;5;124;43mPriceIndicator__price\u001b[39;49m\u001b[38;5;124;43m\"\u001b[39;49m\u001b[43m)\u001b[49m\n\u001b[0;32m     20\u001b[0m     \u001b[38;5;28mprint\u001b[39m(bitcoin_price\u001b[38;5;241m.\u001b[39mtext)\n\u001b[0;32m     21\u001b[0m     driver\u001b[38;5;241m.\u001b[39mclose()\n",
      "File \u001b[1;32m~\\anaconda3\\lib\\site-packages\\selenium\\webdriver\\remote\\webdriver.py:861\u001b[0m, in \u001b[0;36mWebDriver.find_element\u001b[1;34m(self, by, value)\u001b[0m\n\u001b[0;32m    858\u001b[0m     by \u001b[38;5;241m=\u001b[39m By\u001b[38;5;241m.\u001b[39mCSS_SELECTOR\n\u001b[0;32m    859\u001b[0m     value \u001b[38;5;241m=\u001b[39m \u001b[38;5;124m'\u001b[39m\u001b[38;5;124m[name=\u001b[39m\u001b[38;5;124m\"\u001b[39m\u001b[38;5;132;01m%s\u001b[39;00m\u001b[38;5;124m\"\u001b[39m\u001b[38;5;124m]\u001b[39m\u001b[38;5;124m'\u001b[39m \u001b[38;5;241m%\u001b[39m value\n\u001b[1;32m--> 861\u001b[0m \u001b[38;5;28;01mreturn\u001b[39;00m \u001b[38;5;28;43mself\u001b[39;49m\u001b[38;5;241;43m.\u001b[39;49m\u001b[43mexecute\u001b[49m\u001b[43m(\u001b[49m\u001b[43mCommand\u001b[49m\u001b[38;5;241;43m.\u001b[39;49m\u001b[43mFIND_ELEMENT\u001b[49m\u001b[43m,\u001b[49m\u001b[43m \u001b[49m\u001b[43m{\u001b[49m\u001b[38;5;124;43m\"\u001b[39;49m\u001b[38;5;124;43musing\u001b[39;49m\u001b[38;5;124;43m\"\u001b[39;49m\u001b[43m:\u001b[49m\u001b[43m \u001b[49m\u001b[43mby\u001b[49m\u001b[43m,\u001b[49m\u001b[43m \u001b[49m\u001b[38;5;124;43m\"\u001b[39;49m\u001b[38;5;124;43mvalue\u001b[39;49m\u001b[38;5;124;43m\"\u001b[39;49m\u001b[43m:\u001b[49m\u001b[43m \u001b[49m\u001b[43mvalue\u001b[49m\u001b[43m}\u001b[49m\u001b[43m)\u001b[49m[\u001b[38;5;124m\"\u001b[39m\u001b[38;5;124mvalue\u001b[39m\u001b[38;5;124m\"\u001b[39m]\n",
      "File \u001b[1;32m~\\anaconda3\\lib\\site-packages\\selenium\\webdriver\\remote\\webdriver.py:444\u001b[0m, in \u001b[0;36mWebDriver.execute\u001b[1;34m(self, driver_command, params)\u001b[0m\n\u001b[0;32m    442\u001b[0m response \u001b[38;5;241m=\u001b[39m \u001b[38;5;28mself\u001b[39m\u001b[38;5;241m.\u001b[39mcommand_executor\u001b[38;5;241m.\u001b[39mexecute(driver_command, params)\n\u001b[0;32m    443\u001b[0m \u001b[38;5;28;01mif\u001b[39;00m response:\n\u001b[1;32m--> 444\u001b[0m     \u001b[38;5;28;43mself\u001b[39;49m\u001b[38;5;241;43m.\u001b[39;49m\u001b[43merror_handler\u001b[49m\u001b[38;5;241;43m.\u001b[39;49m\u001b[43mcheck_response\u001b[49m\u001b[43m(\u001b[49m\u001b[43mresponse\u001b[49m\u001b[43m)\u001b[49m\n\u001b[0;32m    445\u001b[0m     response[\u001b[38;5;124m\"\u001b[39m\u001b[38;5;124mvalue\u001b[39m\u001b[38;5;124m\"\u001b[39m] \u001b[38;5;241m=\u001b[39m \u001b[38;5;28mself\u001b[39m\u001b[38;5;241m.\u001b[39m_unwrap_value(response\u001b[38;5;241m.\u001b[39mget(\u001b[38;5;124m\"\u001b[39m\u001b[38;5;124mvalue\u001b[39m\u001b[38;5;124m\"\u001b[39m, \u001b[38;5;28;01mNone\u001b[39;00m))\n\u001b[0;32m    446\u001b[0m     \u001b[38;5;28;01mreturn\u001b[39;00m response\n",
      "File \u001b[1;32m~\\anaconda3\\lib\\site-packages\\selenium\\webdriver\\remote\\errorhandler.py:249\u001b[0m, in \u001b[0;36mErrorHandler.check_response\u001b[1;34m(self, response)\u001b[0m\n\u001b[0;32m    247\u001b[0m         alert_text \u001b[38;5;241m=\u001b[39m value[\u001b[38;5;124m\"\u001b[39m\u001b[38;5;124malert\u001b[39m\u001b[38;5;124m\"\u001b[39m]\u001b[38;5;241m.\u001b[39mget(\u001b[38;5;124m\"\u001b[39m\u001b[38;5;124mtext\u001b[39m\u001b[38;5;124m\"\u001b[39m)\n\u001b[0;32m    248\u001b[0m     \u001b[38;5;28;01mraise\u001b[39;00m exception_class(message, screen, stacktrace, alert_text)  \u001b[38;5;66;03m# type: ignore[call-arg]  # mypy is not smart enough here\u001b[39;00m\n\u001b[1;32m--> 249\u001b[0m \u001b[38;5;28;01mraise\u001b[39;00m exception_class(message, screen, stacktrace)\n",
      "\u001b[1;31mNoSuchElementException\u001b[0m: Message: no such element: Unable to locate element: {\"method\":\"css selector\",\"selector\":\"[id=\"PriceIndicator__price\"]\"}\n  (Session info: chrome=108.0.5359.125)\nStacktrace:\nBacktrace:\n\t(No symbol) [0x00ABF243]\n\t(No symbol) [0x00A47FD1]\n\t(No symbol) [0x0093D04D]\n\t(No symbol) [0x0096C0B0]\n\t(No symbol) [0x0096C22B]\n\t(No symbol) [0x0099E612]\n\t(No symbol) [0x009885D4]\n\t(No symbol) [0x0099C9EB]\n\t(No symbol) [0x00988386]\n\t(No symbol) [0x0096163C]\n\t(No symbol) [0x0096269D]\n\tGetHandleVerifier [0x00D59A22+2655074]\n\tGetHandleVerifier [0x00D4CA24+2601828]\n\tGetHandleVerifier [0x00B68C0A+619850]\n\tGetHandleVerifier [0x00B67830+614768]\n\t(No symbol) [0x00A505FC]\n\t(No symbol) [0x00A55968]\n\t(No symbol) [0x00A55A55]\n\t(No symbol) [0x00A6051B]\n\tBaseThreadInitThunk [0x75E06359+25]\n\tRtlGetAppContainerNamedObjectPath [0x77AF87A4+228]\n\tRtlGetAppContainerNamedObjectPath [0x77AF8774+180]\n"
     ]
    }
   ],
   "source": [
    "crawl()"
   ]
  },
  {
   "cell_type": "code",
   "execution_count": null,
   "id": "60c86f6e",
   "metadata": {},
   "outputs": [],
   "source": []
  }
 ],
 "metadata": {
  "kernelspec": {
   "display_name": "Python 3 (ipykernel)",
   "language": "python",
   "name": "python3"
  },
  "language_info": {
   "codemirror_mode": {
    "name": "ipython",
    "version": 3
   },
   "file_extension": ".py",
   "mimetype": "text/x-python",
   "name": "python",
   "nbconvert_exporter": "python",
   "pygments_lexer": "ipython3",
   "version": "3.9.13"
  }
 },
 "nbformat": 4,
 "nbformat_minor": 5
}
