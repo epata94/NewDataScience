{
 "cells": [
  {
   "cell_type": "code",
   "execution_count": 1,
   "id": "556a3e68",
   "metadata": {},
   "outputs": [],
   "source": [
    "from bs4 import BeautifulSoup"
   ]
  },
  {
   "cell_type": "code",
   "execution_count": 29,
   "id": "313ed42f",
   "metadata": {},
   "outputs": [],
   "source": [
    "html='''\n",
    "<td class=\"title\">\n",
    "    <div class=\"tit3\">\n",
    "        <a href=\"/movie/bi/mi/basic.naver?code=74977\" title=\"아바타: 물의 길\">아바타: 물의 길</a>\n",
    "    </div>\n",
    "</td>\n",
    "'''"
   ]
  },
  {
   "cell_type": "code",
   "execution_count": 30,
   "id": "8d24e75f",
   "metadata": {},
   "outputs": [],
   "source": [
    "soup=BeautifulSoup(html,'html.parser')"
   ]
  },
  {
   "cell_type": "code",
   "execution_count": 31,
   "id": "1b29209f",
   "metadata": {},
   "outputs": [
    {
     "data": {
      "text/plain": [
       "\n",
       "<td class=\"title\">\n",
       "<div class=\"tit3\">\n",
       "<a href=\"/movie/bi/mi/basic.naver?code=74977\" title=\"아바타: 물의 길\">아바타: 물의 길</a>\n",
       "</div>\n",
       "</td>"
      ]
     },
     "execution_count": 31,
     "metadata": {},
     "output_type": "execute_result"
    }
   ],
   "source": [
    "soup"
   ]
  },
  {
   "cell_type": "code",
   "execution_count": 59,
   "id": "282518ce",
   "metadata": {},
   "outputs": [
    {
     "data": {
      "text/plain": [
       "'<td class=\"title\">\\n <div class=\"tit3\">\\n  <a href=\"/movie/bi/mi/basic.naver?code=74977\" title=\"아바타: 물의 길\">\\n   아바타: 물의 길\\n  </a>\\n </div>\\n</td>\\n<td class=\"title\">\\n <div class=\"tit3\">\\n  <a href=\"/movie/bi/mi/basic.naver?code=184509\" title=\"영웅\">\\n   영웅\\n  </a>\\n </div>\\n</td>\\n'"
      ]
     },
     "execution_count": 59,
     "metadata": {},
     "output_type": "execute_result"
    }
   ],
   "source": [
    "soup.prettify()"
   ]
  },
  {
   "cell_type": "code",
   "execution_count": 60,
   "id": "a9ec9bc5",
   "metadata": {},
   "outputs": [
    {
     "name": "stdout",
     "output_type": "stream",
     "text": [
      "<td class=\"title\">\n",
      " <div class=\"tit3\">\n",
      "  <a href=\"/movie/bi/mi/basic.naver?code=74977\" title=\"아바타: 물의 길\">\n",
      "   아바타: 물의 길\n",
      "  </a>\n",
      " </div>\n",
      "</td>\n",
      "<td class=\"title\">\n",
      " <div class=\"tit3\">\n",
      "  <a href=\"/movie/bi/mi/basic.naver?code=184509\" title=\"영웅\">\n",
      "   영웅\n",
      "  </a>\n",
      " </div>\n",
      "</td>\n",
      "\n"
     ]
    }
   ],
   "source": [
    "print(soup.prettify())"
   ]
  },
  {
   "cell_type": "code",
   "execution_count": 32,
   "id": "63959e34",
   "metadata": {},
   "outputs": [
    {
     "data": {
      "text/plain": [
       "<td class=\"title\">\n",
       "<div class=\"tit3\">\n",
       "<a href=\"/movie/bi/mi/basic.naver?code=74977\" title=\"아바타: 물의 길\">아바타: 물의 길</a>\n",
       "</div>\n",
       "</td>"
      ]
     },
     "execution_count": 32,
     "metadata": {},
     "output_type": "execute_result"
    }
   ],
   "source": [
    "soup.td"
   ]
  },
  {
   "cell_type": "code",
   "execution_count": 33,
   "id": "6cb76fa4",
   "metadata": {},
   "outputs": [
    {
     "data": {
      "text/plain": [
       "'td'"
      ]
     },
     "execution_count": 33,
     "metadata": {},
     "output_type": "execute_result"
    }
   ],
   "source": [
    "soup.td.name"
   ]
  },
  {
   "cell_type": "code",
   "execution_count": 34,
   "id": "7a07e57d",
   "metadata": {},
   "outputs": [
    {
     "data": {
      "text/plain": [
       "{'class': ['title']}"
      ]
     },
     "execution_count": 34,
     "metadata": {},
     "output_type": "execute_result"
    }
   ],
   "source": [
    "soup.td.attrs"
   ]
  },
  {
   "cell_type": "code",
   "execution_count": 35,
   "id": "bbff9fb5",
   "metadata": {},
   "outputs": [
    {
     "data": {
      "text/plain": [
       "['title']"
      ]
     },
     "execution_count": 35,
     "metadata": {},
     "output_type": "execute_result"
    }
   ],
   "source": [
    "soup.td.attrs['class']"
   ]
  },
  {
   "cell_type": "code",
   "execution_count": 36,
   "id": "8bd04fd9",
   "metadata": {},
   "outputs": [
    {
     "data": {
      "text/plain": [
       "'title'"
      ]
     },
     "execution_count": 36,
     "metadata": {},
     "output_type": "execute_result"
    }
   ],
   "source": [
    "soup.td.attrs['class'][0]"
   ]
  },
  {
   "cell_type": "code",
   "execution_count": 37,
   "id": "f54590ad",
   "metadata": {},
   "outputs": [
    {
     "data": {
      "text/plain": [
       "<td class=\"title\">\n",
       "<div class=\"tit3\">\n",
       "<a href=\"/movie/bi/mi/basic.naver?code=74977\" title=\"아바타: 물의 길\">아바타: 물의 길</a>\n",
       "</div>\n",
       "</td>"
      ]
     },
     "execution_count": 37,
     "metadata": {},
     "output_type": "execute_result"
    }
   ],
   "source": [
    "tag = soup.td\n",
    "tag"
   ]
  },
  {
   "cell_type": "code",
   "execution_count": 38,
   "id": "12c33fd0",
   "metadata": {},
   "outputs": [
    {
     "data": {
      "text/plain": [
       "'td'"
      ]
     },
     "execution_count": 38,
     "metadata": {},
     "output_type": "execute_result"
    }
   ],
   "source": [
    "tag.name"
   ]
  },
  {
   "cell_type": "code",
   "execution_count": 39,
   "id": "4f28e441",
   "metadata": {},
   "outputs": [
    {
     "data": {
      "text/plain": [
       "'title'"
      ]
     },
     "execution_count": 39,
     "metadata": {},
     "output_type": "execute_result"
    }
   ],
   "source": [
    "tag.attrs['class'][0]"
   ]
  },
  {
   "cell_type": "code",
   "execution_count": 40,
   "id": "0e145ac8",
   "metadata": {},
   "outputs": [
    {
     "data": {
      "text/plain": [
       "<div class=\"tit3\">\n",
       "<a href=\"/movie/bi/mi/basic.naver?code=74977\" title=\"아바타: 물의 길\">아바타: 물의 길</a>\n",
       "</div>"
      ]
     },
     "execution_count": 40,
     "metadata": {},
     "output_type": "execute_result"
    }
   ],
   "source": [
    "soup.td.div"
   ]
  },
  {
   "cell_type": "code",
   "execution_count": 41,
   "id": "c474f373",
   "metadata": {},
   "outputs": [
    {
     "data": {
      "text/plain": [
       "<a href=\"/movie/bi/mi/basic.naver?code=74977\" title=\"아바타: 물의 길\">아바타: 물의 길</a>"
      ]
     },
     "execution_count": 41,
     "metadata": {},
     "output_type": "execute_result"
    }
   ],
   "source": [
    "soup.td.div.a"
   ]
  },
  {
   "cell_type": "code",
   "execution_count": 42,
   "id": "147f1d98",
   "metadata": {},
   "outputs": [
    {
     "data": {
      "text/plain": [
       "{'href': '/movie/bi/mi/basic.naver?code=74977', 'title': '아바타: 물의 길'}"
      ]
     },
     "execution_count": 42,
     "metadata": {},
     "output_type": "execute_result"
    }
   ],
   "source": [
    "soup.td.div.a.attrs"
   ]
  },
  {
   "cell_type": "code",
   "execution_count": 43,
   "id": "7a032459",
   "metadata": {},
   "outputs": [
    {
     "data": {
      "text/plain": [
       "'/movie/bi/mi/basic.naver?code=74977'"
      ]
     },
     "execution_count": 43,
     "metadata": {},
     "output_type": "execute_result"
    }
   ],
   "source": [
    "soup.td.div.a.attrs['href']"
   ]
  },
  {
   "cell_type": "code",
   "execution_count": 44,
   "id": "60d16bcd",
   "metadata": {},
   "outputs": [
    {
     "data": {
      "text/plain": [
       "'아바타: 물의 길'"
      ]
     },
     "execution_count": 44,
     "metadata": {},
     "output_type": "execute_result"
    }
   ],
   "source": [
    "soup.td.div.a.attrs['title']"
   ]
  },
  {
   "cell_type": "code",
   "execution_count": 45,
   "id": "3eba7e3d",
   "metadata": {},
   "outputs": [
    {
     "data": {
      "text/plain": [
       "'아바타: 물의 길'"
      ]
     },
     "execution_count": 45,
     "metadata": {},
     "output_type": "execute_result"
    }
   ],
   "source": [
    "soup.td.div.a.string"
   ]
  },
  {
   "cell_type": "code",
   "execution_count": 46,
   "id": "ccf9fd89",
   "metadata": {},
   "outputs": [
    {
     "data": {
      "text/plain": [
       "'아바타: 물의 길'"
      ]
     },
     "execution_count": 46,
     "metadata": {},
     "output_type": "execute_result"
    }
   ],
   "source": [
    "soup.td.div.a.text"
   ]
  },
  {
   "cell_type": "code",
   "execution_count": 50,
   "id": "5e9cdc53",
   "metadata": {},
   "outputs": [],
   "source": [
    "html='''\n",
    "<td class=\"title\">\n",
    "    <div class=\"tit3\">\n",
    "        <a href=\"/movie/bi/mi/basic.naver?code=74977\" title=\"아바타: 물의 길\">아바타: 물의 길</a>\n",
    "    </div>\n",
    "</td>\n",
    "<td class=\"title\">\n",
    "<div class=\"tit3\">\n",
    "\t\t\t\t\t\t\t<a href=\"/movie/bi/mi/basic.naver?code=184509\" title=\"영웅\">영웅</a>\n",
    "\t\t\t\t\t\t</div>\n",
    "</td>\n",
    "                \n",
    "'''"
   ]
  },
  {
   "cell_type": "code",
   "execution_count": 51,
   "id": "fc3666ce",
   "metadata": {},
   "outputs": [],
   "source": [
    "soup=BeautifulSoup(html,'html.parser')"
   ]
  },
  {
   "cell_type": "code",
   "execution_count": 52,
   "id": "40e73165",
   "metadata": {},
   "outputs": [
    {
     "data": {
      "text/plain": [
       "\n",
       "<td class=\"title\">\n",
       "<div class=\"tit3\">\n",
       "<a href=\"/movie/bi/mi/basic.naver?code=74977\" title=\"아바타: 물의 길\">아바타: 물의 길</a>\n",
       "</div>\n",
       "</td>\n",
       "<td class=\"title\">\n",
       "<div class=\"tit3\">\n",
       "<a href=\"/movie/bi/mi/basic.naver?code=184509\" title=\"영웅\">영웅</a>\n",
       "</div>\n",
       "</td>"
      ]
     },
     "execution_count": 52,
     "metadata": {},
     "output_type": "execute_result"
    }
   ],
   "source": [
    "soup"
   ]
  },
  {
   "cell_type": "code",
   "execution_count": 53,
   "id": "913fee94",
   "metadata": {},
   "outputs": [
    {
     "data": {
      "text/plain": [
       "<td class=\"title\">\n",
       "<div class=\"tit3\">\n",
       "<a href=\"/movie/bi/mi/basic.naver?code=74977\" title=\"아바타: 물의 길\">아바타: 물의 길</a>\n",
       "</div>\n",
       "</td>"
      ]
     },
     "execution_count": 53,
     "metadata": {},
     "output_type": "execute_result"
    }
   ],
   "source": [
    "soup.td"
   ]
  },
  {
   "cell_type": "code",
   "execution_count": 55,
   "id": "62933541",
   "metadata": {},
   "outputs": [
    {
     "data": {
      "text/plain": [
       "<td class=\"title\">\n",
       "<div class=\"tit3\">\n",
       "<a href=\"/movie/bi/mi/basic.naver?code=74977\" title=\"아바타: 물의 길\">아바타: 물의 길</a>\n",
       "</div>\n",
       "</td>"
      ]
     },
     "execution_count": 55,
     "metadata": {},
     "output_type": "execute_result"
    }
   ],
   "source": [
    "soup.find('td')"
   ]
  },
  {
   "cell_type": "code",
   "execution_count": 57,
   "id": "58d325eb",
   "metadata": {},
   "outputs": [
    {
     "data": {
      "text/plain": [
       "[<td class=\"title\">\n",
       " <div class=\"tit3\">\n",
       " <a href=\"/movie/bi/mi/basic.naver?code=74977\" title=\"아바타: 물의 길\">아바타: 물의 길</a>\n",
       " </div>\n",
       " </td>,\n",
       " <td class=\"title\">\n",
       " <div class=\"tit3\">\n",
       " <a href=\"/movie/bi/mi/basic.naver?code=184509\" title=\"영웅\">영웅</a>\n",
       " </div>\n",
       " </td>]"
      ]
     },
     "execution_count": 57,
     "metadata": {},
     "output_type": "execute_result"
    }
   ],
   "source": [
    "soup.findAll('td')"
   ]
  },
  {
   "cell_type": "code",
   "execution_count": 58,
   "id": "1c2156f8",
   "metadata": {},
   "outputs": [
    {
     "data": {
      "text/plain": [
       "[<td class=\"title\">\n",
       " <div class=\"tit3\">\n",
       " <a href=\"/movie/bi/mi/basic.naver?code=74977\" title=\"아바타: 물의 길\">아바타: 물의 길</a>\n",
       " </div>\n",
       " </td>,\n",
       " <td class=\"title\">\n",
       " <div class=\"tit3\">\n",
       " <a href=\"/movie/bi/mi/basic.naver?code=184509\" title=\"영웅\">영웅</a>\n",
       " </div>\n",
       " </td>]"
      ]
     },
     "execution_count": 58,
     "metadata": {},
     "output_type": "execute_result"
    }
   ],
   "source": [
    "soup.findAll('td',{'class':'title'})"
   ]
  },
  {
   "cell_type": "code",
   "execution_count": null,
   "id": "e0099d0b",
   "metadata": {},
   "outputs": [],
   "source": []
  }
 ],
 "metadata": {
  "kernelspec": {
   "display_name": "Python 3 (ipykernel)",
   "language": "python",
   "name": "python3"
  },
  "language_info": {
   "codemirror_mode": {
    "name": "ipython",
    "version": 3
   },
   "file_extension": ".py",
   "mimetype": "text/x-python",
   "name": "python",
   "nbconvert_exporter": "python",
   "pygments_lexer": "ipython3",
   "version": "3.9.13"
  }
 },
 "nbformat": 4,
 "nbformat_minor": 5
}
