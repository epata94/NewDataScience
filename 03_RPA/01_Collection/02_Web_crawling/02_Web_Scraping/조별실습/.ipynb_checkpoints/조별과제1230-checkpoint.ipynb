{
 "cells": [
  {
   "cell_type": "code",
   "execution_count": 1,
   "id": "fd1e5051",
   "metadata": {},
   "outputs": [],
   "source": [
    "from webdriver_manager.chrome import ChromeDriverManager\n",
    "from selenium.webdriver.chrome.service import Service\n",
    "from selenium import webdriver\n",
    "from bs4 import BeautifulSoup\n",
    "import os\n",
    "\n",
    "import numpy as np\n",
    "import matplotlib.pyplot as plt\n",
    "from matplotlib import font_manager,rc\n",
    "from datetime import datetime\n",
    "import time\n",
    "import pandas as pd\n",
    "import cx_Oracle\n",
    "\n",
    "font_location = \"C:\\Windows\\Fonts\\malgun.ttf\"\n",
    "font_name = font_manager.FontProperties(fname=font_location).get_name()\n",
    "rc('font',family=font_name)\n",
    "plt.rcParams['axes.unicode_minus'] = False\n",
    "\n",
    "from IPython import display\n",
    "\n",
    "import json\n",
    "import re"
   ]
  },
  {
   "cell_type": "code",
   "execution_count": 77,
   "id": "ecadb21d",
   "metadata": {},
   "outputs": [],
   "source": [
    "custom_header ={\n",
    "    'referer' : 'https://upbit.com/exchange?code=CRIX.UPBIT.KRW-BTC',  \n",
    "    'user-agent' : 'Mozilla/5.0 (Windows NT 10.0; Win64; x64) AppleWebKit/537.36 (KHTML, like Gecko) Chrome/108.0.0.0 Safari/537.36'\n",
    "}\n",
    "\n",
    "url = 'https://crix-api-cdn.upbit.com/v1/crix/candles/lines?code=CRIX.UPBIT.KRW-BTC'\n",
    "\n",
    "requests.get\n",
    "req = requests.get(url, headers = custom_header)\n",
    "# req = requests.get(url)"
   ]
  },
  {
   "cell_type": "code",
   "execution_count": 78,
   "id": "a476ad3e",
   "metadata": {},
   "outputs": [],
   "source": [
    "# https://crix-api-cdn.upbit.com/v1/crix/candles/minutes/30?code=CRIX.UPBIT.KRW-BTC"
   ]
  },
  {
   "cell_type": "code",
   "execution_count": 79,
   "id": "f628af98",
   "metadata": {
    "scrolled": true
   },
   "outputs": [
    {
     "name": "stdout",
     "output_type": "stream",
     "text": [
      "200\n",
      "접속 성공\n",
      "{'unit': 15, 'businessTime': {'opening': '00:00:00', 'closing': '23:59:59'}, 'prevClosingPrice': 21201000.0, 'candles': [{'candleDateTime': '2022-12-30T07:45:00+00:00', 'candleDateTimeKst': '2022-12-30T16:45:00+09:00', 'openingPrice': 20855000.0, 'highPrice': 20861000.0, 'lowPrice': 20838000.0, 'tradePrice': 20859000.0, 'candleAccTradeVolume': 17.72122254, 'candleAccTradePrice': 369444438.25002, 'timestamp': 1672386735884, 'code': 'CRIX.UPBIT.KRW-BTC', 'unit': 15}, {'candleDateTime': '2022-12-30T07:30:00+00:00', 'candleDateTimeKst': '2022-12-30T16:30:00+09:00', 'openingPrice': 20845000.0, 'highPrice': 20873000.0, 'lowPrice': 20828000.0, 'tradePrice': 20842000.0, 'candleAccTradeVolume': 112.34324519, 'candleAccTradePrice': 2341918874.45072, 'timestamp': 1672386297422, 'code': 'CRIX.UPBIT.KRW-BTC', 'unit': 15}, {'candleDateTime': '2022-12-30T07:15:00+00:00', 'candleDateTimeKst': '2022-12-30T16:15:00+09:00', 'openingPrice': 20945000.0, 'highPrice': 20947000.0, 'lowPrice': 20837000.0, 'tradePrice': 20847000.0, 'candleAccTradeVolume': 134.35401896, 'candleAccTradePrice': 2806477871.70755, 'timestamp': 1672385399315, 'code': 'CRIX.UPBIT.KRW-BTC', 'unit': 15}, {'candleDateTime': '2022-12-30T07:00:00+00:00', 'candleDateTimeKst': '2022-12-30T16:00:00+09:00', 'openingPrice': 20966000.0, 'highPrice': 20966000.0, 'lowPrice': 20916000.0, 'tradePrice': 20946000.0, 'candleAccTradeVolume': 100.55795506, 'candleAccTradePrice': 2105405144.40649, 'timestamp': 1672384499185, 'code': 'CRIX.UPBIT.KRW-BTC', 'unit': 15}, {'candleDateTime': '2022-12-30T06:45:00+00:00', 'candleDateTimeKst': '2022-12-30T15:45:00+09:00', 'openingPrice': 20995000.0, 'highPrice': 21001000.0, 'lowPrice': 20964000.0, 'tradePrice': 20966000.0, 'candleAccTradeVolume': 37.37086842, 'candleAccTradePrice': 783977824.85841, 'timestamp': 1672383599686, 'code': 'CRIX.UPBIT.KRW-BTC', 'unit': 15}, {'candleDateTime': '2022-12-30T06:30:00+00:00', 'candleDateTimeKst': '2022-12-30T15:30:00+09:00', 'openingPrice': 21003000.0, 'highPrice': 21010000.0, 'lowPrice': 20982000.0, 'tradePrice': 21000000.0, 'candleAccTradeVolume': 37.86774407, 'candleAccTradePrice': 795078782.3397, 'timestamp': 1672382699635, 'code': 'CRIX.UPBIT.KRW-BTC', 'unit': 15}, {'candleDateTime': '2022-12-30T06:15:00+00:00', 'candleDateTimeKst': '2022-12-30T15:15:00+09:00', 'openingPrice': 21002000.0, 'highPrice': 21021000.0, 'lowPrice': 20977000.0, 'tradePrice': 21003000.0, 'candleAccTradeVolume': 51.07034413, 'candleAccTradePrice': 1072090285.83615, 'timestamp': 1672381799664, 'code': 'CRIX.UPBIT.KRW-BTC', 'unit': 15}, {'candleDateTime': '2022-12-30T06:00:00+00:00', 'candleDateTimeKst': '2022-12-30T15:00:00+09:00', 'openingPrice': 21010000.0, 'highPrice': 21021000.0, 'lowPrice': 20979000.0, 'tradePrice': 21003000.0, 'candleAccTradeVolume': 125.40904035, 'candleAccTradePrice': 2633708919.69331, 'timestamp': 1672380899576, 'code': 'CRIX.UPBIT.KRW-BTC', 'unit': 15}, {'candleDateTime': '2022-12-30T05:45:00+00:00', 'candleDateTimeKst': '2022-12-30T14:45:00+09:00', 'openingPrice': 21071000.0, 'highPrice': 21080000.0, 'lowPrice': 21005000.0, 'tradePrice': 21011000.0, 'candleAccTradeVolume': 80.01898814, 'candleAccTradePrice': 1683208488.53579, 'timestamp': 1672379999202, 'code': 'CRIX.UPBIT.KRW-BTC', 'unit': 15}, {'candleDateTime': '2022-12-30T05:30:00+00:00', 'candleDateTimeKst': '2022-12-30T14:30:00+09:00', 'openingPrice': 21105000.0, 'highPrice': 21120000.0, 'lowPrice': 21070000.0, 'tradePrice': 21071000.0, 'candleAccTradeVolume': 31.22263103, 'candleAccTradePrice': 658605309.67044, 'timestamp': 1672379099748, 'code': 'CRIX.UPBIT.KRW-BTC', 'unit': 15}, {'candleDateTime': '2022-12-30T05:15:00+00:00', 'candleDateTimeKst': '2022-12-30T14:15:00+09:00', 'openingPrice': 21120000.0, 'highPrice': 21129000.0, 'lowPrice': 21101000.0, 'tradePrice': 21101000.0, 'candleAccTradeVolume': 22.86953983, 'candleAccTradePrice': 482938860.19593, 'timestamp': 1672378199152, 'code': 'CRIX.UPBIT.KRW-BTC', 'unit': 15}, {'candleDateTime': '2022-12-30T05:00:00+00:00', 'candleDateTimeKst': '2022-12-30T14:00:00+09:00', 'openingPrice': 21103000.0, 'highPrice': 21127000.0, 'lowPrice': 21095000.0, 'tradePrice': 21125000.0, 'candleAccTradeVolume': 27.99975142, 'candleAccTradePrice': 591203036.43578, 'timestamp': 1672377286671, 'code': 'CRIX.UPBIT.KRW-BTC', 'unit': 15}, {'candleDateTime': '2022-12-30T04:45:00+00:00', 'candleDateTimeKst': '2022-12-30T13:45:00+09:00', 'openingPrice': 21114000.0, 'highPrice': 21120000.0, 'lowPrice': 21100000.0, 'tradePrice': 21103000.0, 'candleAccTradeVolume': 15.27085169, 'candleAccTradePrice': 322354996.2366, 'timestamp': 1672376398979, 'code': 'CRIX.UPBIT.KRW-BTC', 'unit': 15}, {'candleDateTime': '2022-12-30T04:30:00+00:00', 'candleDateTimeKst': '2022-12-30T13:30:00+09:00', 'openingPrice': 21091000.0, 'highPrice': 21125000.0, 'lowPrice': 21091000.0, 'tradePrice': 21115000.0, 'candleAccTradeVolume': 18.43172722, 'candleAccTradePrice': 389001136.79815, 'timestamp': 1672375494376, 'code': 'CRIX.UPBIT.KRW-BTC', 'unit': 15}, {'candleDateTime': '2022-12-30T04:15:00+00:00', 'candleDateTimeKst': '2022-12-30T13:15:00+09:00', 'openingPrice': 21121000.0, 'highPrice': 21132000.0, 'lowPrice': 21091000.0, 'tradePrice': 21092000.0, 'candleAccTradeVolume': 27.4795714, 'candleAccTradePrice': 580146408.643, 'timestamp': 1672374597363, 'code': 'CRIX.UPBIT.KRW-BTC', 'unit': 15}, {'candleDateTime': '2022-12-30T04:00:00+00:00', 'candleDateTimeKst': '2022-12-30T13:00:00+09:00', 'openingPrice': 21144000.0, 'highPrice': 21145000.0, 'lowPrice': 21119000.0, 'tradePrice': 21119000.0, 'candleAccTradeVolume': 19.20906703, 'candleAccTradePrice': 405846522.44819, 'timestamp': 1672373698421, 'code': 'CRIX.UPBIT.KRW-BTC', 'unit': 15}, {'candleDateTime': '2022-12-30T03:45:00+00:00', 'candleDateTimeKst': '2022-12-30T12:45:00+09:00', 'openingPrice': 21141000.0, 'highPrice': 21156000.0, 'lowPrice': 21140000.0, 'tradePrice': 21145000.0, 'candleAccTradeVolume': 22.34004704, 'candleAccTradePrice': 472531090.10086, 'timestamp': 1672372785217, 'code': 'CRIX.UPBIT.KRW-BTC', 'unit': 15}, {'candleDateTime': '2022-12-30T03:30:00+00:00', 'candleDateTimeKst': '2022-12-30T12:30:00+09:00', 'openingPrice': 21125000.0, 'highPrice': 21154000.0, 'lowPrice': 21120000.0, 'tradePrice': 21140000.0, 'candleAccTradeVolume': 17.59498365, 'candleAccTradePrice': 372007461.41166, 'timestamp': 1672371899755, 'code': 'CRIX.UPBIT.KRW-BTC', 'unit': 15}, {'candleDateTime': '2022-12-30T03:15:00+00:00', 'candleDateTimeKst': '2022-12-30T12:15:00+09:00', 'openingPrice': 21145000.0, 'highPrice': 21155000.0, 'lowPrice': 21116000.0, 'tradePrice': 21125000.0, 'candleAccTradeVolume': 14.01330411, 'candleAccTradePrice': 296160962.37332, 'timestamp': 1672370991320, 'code': 'CRIX.UPBIT.KRW-BTC', 'unit': 15}, {'candleDateTime': '2022-12-30T03:00:00+00:00', 'candleDateTimeKst': '2022-12-30T12:00:00+09:00', 'openingPrice': 21141000.0, 'highPrice': 21148000.0, 'lowPrice': 21130000.0, 'tradePrice': 21145000.0, 'candleAccTradeVolume': 13.15369888, 'candleAccTradePrice': 278064978.63655, 'timestamp': 1672370100016, 'code': 'CRIX.UPBIT.KRW-BTC', 'unit': 15}, {'candleDateTime': '2022-12-30T02:45:00+00:00', 'candleDateTimeKst': '2022-12-30T11:45:00+09:00', 'openingPrice': 21115000.0, 'highPrice': 21147000.0, 'lowPrice': 21115000.0, 'tradePrice': 21130000.0, 'candleAccTradeVolume': 19.74301465, 'candleAccTradePrice': 417168836.72086, 'timestamp': 1672369196961, 'code': 'CRIX.UPBIT.KRW-BTC', 'unit': 15}, {'candleDateTime': '2022-12-30T02:30:00+00:00', 'candleDateTimeKst': '2022-12-30T11:30:00+09:00', 'openingPrice': 21092000.0, 'highPrice': 21126000.0, 'lowPrice': 21061000.0, 'tradePrice': 21115000.0, 'candleAccTradeVolume': 65.39549082, 'candleAccTradePrice': 1379317596.39113, 'timestamp': 1672368299149, 'code': 'CRIX.UPBIT.KRW-BTC', 'unit': 15}, {'candleDateTime': '2022-12-30T02:15:00+00:00', 'candleDateTimeKst': '2022-12-30T11:15:00+09:00', 'openingPrice': 21113000.0, 'highPrice': 21118000.0, 'lowPrice': 21090000.0, 'tradePrice': 21092000.0, 'candleAccTradeVolume': 40.12662549, 'candleAccTradePrice': 846974457.13769, 'timestamp': 1672367399895, 'code': 'CRIX.UPBIT.KRW-BTC', 'unit': 15}, {'candleDateTime': '2022-12-30T02:00:00+00:00', 'candleDateTimeKst': '2022-12-30T11:00:00+09:00', 'openingPrice': 21122000.0, 'highPrice': 21128000.0, 'lowPrice': 21107000.0, 'tradePrice': 21109000.0, 'candleAccTradeVolume': 22.23524043, 'candleAccTradePrice': 469507413.32376, 'timestamp': 1672366493467, 'code': 'CRIX.UPBIT.KRW-BTC', 'unit': 15}, {'candleDateTime': '2022-12-30T01:45:00+00:00', 'candleDateTimeKst': '2022-12-30T10:45:00+09:00', 'openingPrice': 21125000.0, 'highPrice': 21129000.0, 'lowPrice': 21106000.0, 'tradePrice': 21122000.0, 'candleAccTradeVolume': 27.78628206, 'candleAccTradePrice': 586663625.53053, 'timestamp': 1672365599451, 'code': 'CRIX.UPBIT.KRW-BTC', 'unit': 15}, {'candleDateTime': '2022-12-30T01:30:00+00:00', 'candleDateTimeKst': '2022-12-30T10:30:00+09:00', 'openingPrice': 21148000.0, 'highPrice': 21148000.0, 'lowPrice': 21097000.0, 'tradePrice': 21125000.0, 'candleAccTradeVolume': 53.59310037, 'candleAccTradePrice': 1131946900.35982, 'timestamp': 1672364699686, 'code': 'CRIX.UPBIT.KRW-BTC', 'unit': 15}, {'candleDateTime': '2022-12-30T01:15:00+00:00', 'candleDateTimeKst': '2022-12-30T10:15:00+09:00', 'openingPrice': 21175000.0, 'highPrice': 21186000.0, 'lowPrice': 21142000.0, 'tradePrice': 21144000.0, 'candleAccTradeVolume': 22.80578964, 'candleAccTradePrice': 482675994.1457, 'timestamp': 1672363789805, 'code': 'CRIX.UPBIT.KRW-BTC', 'unit': 15}, {'candleDateTime': '2022-12-30T01:00:00+00:00', 'candleDateTimeKst': '2022-12-30T10:00:00+09:00', 'openingPrice': 21197000.0, 'highPrice': 21199000.0, 'lowPrice': 21166000.0, 'tradePrice': 21175000.0, 'candleAccTradeVolume': 23.13891315, 'candleAccTradePrice': 490317017.67091, 'timestamp': 1672362899753, 'code': 'CRIX.UPBIT.KRW-BTC', 'unit': 15}, {'candleDateTime': '2022-12-30T00:45:00+00:00', 'candleDateTimeKst': '2022-12-30T09:45:00+09:00', 'openingPrice': 21199000.0, 'highPrice': 21199000.0, 'lowPrice': 21164000.0, 'tradePrice': 21197000.0, 'candleAccTradeVolume': 27.02112103, 'candleAccTradePrice': 572464917.34265, 'timestamp': 1672361998485, 'code': 'CRIX.UPBIT.KRW-BTC', 'unit': 15}, {'candleDateTime': '2022-12-30T00:30:00+00:00', 'candleDateTimeKst': '2022-12-30T09:30:00+09:00', 'openingPrice': 21185000.0, 'highPrice': 21205000.0, 'lowPrice': 21176000.0, 'tradePrice': 21186000.0, 'candleAccTradeVolume': 30.61542747, 'candleAccTradePrice': 648646279.96886, 'timestamp': 1672361090413, 'code': 'CRIX.UPBIT.KRW-BTC', 'unit': 15}, {'candleDateTime': '2022-12-30T00:15:00+00:00', 'candleDateTimeKst': '2022-12-30T09:15:00+09:00', 'openingPrice': 21172000.0, 'highPrice': 21188000.0, 'lowPrice': 21155000.0, 'tradePrice': 21187000.0, 'candleAccTradeVolume': 17.65709219, 'candleAccTradePrice': 373804148.96554, 'timestamp': 1672360199563, 'code': 'CRIX.UPBIT.KRW-BTC', 'unit': 15}, {'candleDateTime': '2022-12-30T00:00:00+00:00', 'candleDateTimeKst': '2022-12-30T09:00:00+09:00', 'openingPrice': 21201000.0, 'highPrice': 21232000.0, 'lowPrice': 21171000.0, 'tradePrice': 21180000.0, 'candleAccTradeVolume': 27.46655444, 'candleAccTradePrice': 582465691.65192, 'timestamp': 1672359291624, 'code': 'CRIX.UPBIT.KRW-BTC', 'unit': 15}]}\n"
     ]
    }
   ],
   "source": [
    "print(req.status_code)\n",
    "if req.status_code == requests.codes.ok:\n",
    "    print(\"접속 성공\")\n",
    "    realtime_data = json.loads(req.text)\n",
    "    print(realtime_data)"
   ]
  },
  {
   "cell_type": "code",
   "execution_count": 80,
   "id": "82785c58",
   "metadata": {},
   "outputs": [
    {
     "data": {
      "text/plain": [
       "dict"
      ]
     },
     "execution_count": 80,
     "metadata": {},
     "output_type": "execute_result"
    }
   ],
   "source": [
    "type(realtime_data)"
   ]
  },
  {
   "cell_type": "code",
   "execution_count": 81,
   "id": "254025a8",
   "metadata": {},
   "outputs": [],
   "source": [
    "candles=realtime_data['candles']"
   ]
  },
  {
   "cell_type": "code",
   "execution_count": 82,
   "id": "eed2d542",
   "metadata": {},
   "outputs": [],
   "source": [
    "trade_price=[]\n",
    "for item in candles:\n",
    "    each_data=[]\n",
    "    each_data.append(item['tradePrice'])\n",
    "    each_data.append(item['candleDateTimeKst'])\n",
    "    each_data.append(item['timestamp'])\n",
    "    each_data.append(item['candleAccTradeVolume'])\n",
    "    trade_price.append(each_data)\n",
    "    "
   ]
  },
  {
   "cell_type": "code",
   "execution_count": 83,
   "id": "e44b6dfa",
   "metadata": {},
   "outputs": [
    {
     "data": {
      "text/plain": [
       "[[20859000.0, '2022-12-30T16:45:00+09:00', 1672386735884, 17.72122254],\n",
       " [20842000.0, '2022-12-30T16:30:00+09:00', 1672386297422, 112.34324519],\n",
       " [20847000.0, '2022-12-30T16:15:00+09:00', 1672385399315, 134.35401896],\n",
       " [20946000.0, '2022-12-30T16:00:00+09:00', 1672384499185, 100.55795506],\n",
       " [20966000.0, '2022-12-30T15:45:00+09:00', 1672383599686, 37.37086842],\n",
       " [21000000.0, '2022-12-30T15:30:00+09:00', 1672382699635, 37.86774407],\n",
       " [21003000.0, '2022-12-30T15:15:00+09:00', 1672381799664, 51.07034413],\n",
       " [21003000.0, '2022-12-30T15:00:00+09:00', 1672380899576, 125.40904035],\n",
       " [21011000.0, '2022-12-30T14:45:00+09:00', 1672379999202, 80.01898814],\n",
       " [21071000.0, '2022-12-30T14:30:00+09:00', 1672379099748, 31.22263103],\n",
       " [21101000.0, '2022-12-30T14:15:00+09:00', 1672378199152, 22.86953983],\n",
       " [21125000.0, '2022-12-30T14:00:00+09:00', 1672377286671, 27.99975142],\n",
       " [21103000.0, '2022-12-30T13:45:00+09:00', 1672376398979, 15.27085169],\n",
       " [21115000.0, '2022-12-30T13:30:00+09:00', 1672375494376, 18.43172722],\n",
       " [21092000.0, '2022-12-30T13:15:00+09:00', 1672374597363, 27.4795714],\n",
       " [21119000.0, '2022-12-30T13:00:00+09:00', 1672373698421, 19.20906703],\n",
       " [21145000.0, '2022-12-30T12:45:00+09:00', 1672372785217, 22.34004704],\n",
       " [21140000.0, '2022-12-30T12:30:00+09:00', 1672371899755, 17.59498365],\n",
       " [21125000.0, '2022-12-30T12:15:00+09:00', 1672370991320, 14.01330411],\n",
       " [21145000.0, '2022-12-30T12:00:00+09:00', 1672370100016, 13.15369888],\n",
       " [21130000.0, '2022-12-30T11:45:00+09:00', 1672369196961, 19.74301465],\n",
       " [21115000.0, '2022-12-30T11:30:00+09:00', 1672368299149, 65.39549082],\n",
       " [21092000.0, '2022-12-30T11:15:00+09:00', 1672367399895, 40.12662549],\n",
       " [21109000.0, '2022-12-30T11:00:00+09:00', 1672366493467, 22.23524043],\n",
       " [21122000.0, '2022-12-30T10:45:00+09:00', 1672365599451, 27.78628206],\n",
       " [21125000.0, '2022-12-30T10:30:00+09:00', 1672364699686, 53.59310037],\n",
       " [21144000.0, '2022-12-30T10:15:00+09:00', 1672363789805, 22.80578964],\n",
       " [21175000.0, '2022-12-30T10:00:00+09:00', 1672362899753, 23.13891315],\n",
       " [21197000.0, '2022-12-30T09:45:00+09:00', 1672361998485, 27.02112103],\n",
       " [21186000.0, '2022-12-30T09:30:00+09:00', 1672361090413, 30.61542747],\n",
       " [21187000.0, '2022-12-30T09:15:00+09:00', 1672360199563, 17.65709219],\n",
       " [21180000.0, '2022-12-30T09:00:00+09:00', 1672359291624, 27.46655444]]"
      ]
     },
     "execution_count": 83,
     "metadata": {},
     "output_type": "execute_result"
    }
   ],
   "source": [
    "trade_price"
   ]
  },
  {
   "cell_type": "markdown",
   "id": "54de8d97",
   "metadata": {},
   "source": [
    "=> 원하는 데이터를 받아오기 어려워 방식 변경 필요"
   ]
  },
  {
   "cell_type": "markdown",
   "id": "1bf6f2ac",
   "metadata": {},
   "source": [
    "---"
   ]
  },
  {
   "cell_type": "markdown",
   "id": "a11f4331",
   "metadata": {},
   "source": [
    "HTML 파싱 방법으로 접근"
   ]
  },
  {
   "cell_type": "code",
   "execution_count": 2,
   "id": "8e36a649",
   "metadata": {},
   "outputs": [],
   "source": [
    "url='https://upbit.com/exchange?code=CRIX.UPBIT.KRW-BTC'"
   ]
  },
  {
   "cell_type": "code",
   "execution_count": null,
   "id": "519a36cb",
   "metadata": {},
   "outputs": [
    {
     "data": {
      "image/png": "[encoded data removed]",
      "text/plain": [
       "<Figure size 640x480 with 1 Axes>"
      ]
     },
     "metadata": {},
     "output_type": "display_data"
    }
   ],
   "source": [
    "driver = webdriver.Chrome(service=Service(ChromeDriverManager().install()))\n",
    "driver.maximize_window()\n",
    "driver.implicitly_wait(3) \n",
    "\n",
    "# URL 접근\n",
    "driver.get(url)\n",
    "\n",
    "df = pd.DataFrame(columns={'시간','거래가'})\n",
    "\n",
    "#\n",
    "fig,ax = plt.subplots(1,1)\n",
    "hdisplay = display.display(\"\", display_id=True)\n",
    "\n",
    "ax.set_xlabel('시간')\n",
    "ax.set_ylabel('거래가')\n",
    "\n",
    "t=0\n",
    "tick = []\n",
    "\n",
    "while True :\n",
    "    html = driver.page_source\n",
    "    \n",
    "    soup=BeautifulSoup(html,'html.parser')\n",
    "    a = soup.select_one(\"span.first strong\").string\n",
    "    a = a.replace(',','')\n",
    "\n",
    "    a = int(a)\n",
    "    now = datetime.now()\n",
    "    \n",
    "    df2 = pd.DataFrame({'시간' : [now.strftime('%H:%M:%S')] , '거래가' : [a]})\n",
    "\n",
    "    #df = df.append(df2, ignore_index = True)\n",
    "    \n",
    "    if t % 10 == 0 :\n",
    "        tick.append(t)\n",
    "    \n",
    "    df = pd.concat([df, df2], ignore_index = True )\n",
    "    ax.plot(df['시간'],df['거래가'], color='r')\n",
    "    plt.xticks(tick)\n",
    "    plt.rcParams[\"figure.figsize\"] = (14,4)\n",
    "    \n",
    "    hdisplay.update(fig)\n",
    "    \n",
    "    \n",
    "    #print(df)\n",
    "    t += 1\n",
    "    time.sleep(1)\n",
    "    "
   ]
  },
  {
   "cell_type": "markdown",
   "id": "c320467b",
   "metadata": {},
   "source": [
    "## Happy new year ♥"
   ]
  }
 ],
 "metadata": {
  "kernelspec": {
   "display_name": "Python 3 (ipykernel)",
   "language": "python",
   "name": "python3"
  },
  "language_info": {
   "codemirror_mode": {
    "name": "ipython",
    "version": 3
   },
   "file_extension": ".py",
   "mimetype": "text/x-python",
   "name": "python",
   "nbconvert_exporter": "python",
   "pygments_lexer": "ipython3",
   "version": "3.9.13"
  }
 },
 "nbformat": 4,
 "nbformat_minor": 5
}
