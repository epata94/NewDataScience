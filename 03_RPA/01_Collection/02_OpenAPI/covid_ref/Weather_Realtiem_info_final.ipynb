{
 "cells": [
  {
   "cell_type": "code",
   "execution_count": 1,
   "id": "052d9e74",
   "metadata": {},
   "outputs": [],
   "source": [
    "import urllib.request\n",
    "import datetime\n",
    "import json\n",
    "import time\n",
    "import pandas as pd"
   ]
  },
  {
   "cell_type": "code",
   "execution_count": null,
   "id": "a781005d",
   "metadata": {},
   "outputs": [],
   "source": [
    "access_key=\"bgOnt78reFNsTUJuAwlI30JDObTxX6hbJCxyApJCtuf3xjJZJ%2FmOs8Vhg3GZAsLc1fXTkQ9sjq0mTEupWDdyyA%3D%3D\""
   ]
  },
  {
   "cell_type": "code",
   "execution_count": 2,
   "id": "fc64f4b6",
   "metadata": {},
   "outputs": [],
   "source": [
    "def get_Request_URL(url):                 ## (1) 기상 정보(동네예보정보 조회 서비스) / (2) 통합대기환경 정보(대기오염정보 조회 서비스)\n",
    "    req = urllib.request.Request(url)     ## request 날리는 함수\n",
    "\n",
    "    try:\n",
    "        response = urllib.request.urlopen(req)\n",
    "        if response.getcode() == 200:\n",
    "            print(\"[%s] Url Request Success\" % datetime.datetime.now())\n",
    "            return response.read().decode('utf-8')\n",
    "    except Exception as e:\n",
    "        print(e)\n",
    "        print(\"[%s] Error for URL : %s\" % (datetime.datetime.now(), url))\n",
    "        return None"
   ]
  },
  {
   "cell_type": "code",
   "execution_count": 3,
   "id": "e217f6be",
   "metadata": {},
   "outputs": [],
   "source": [
    "def get_Weather_URL(day_time):       ## (1) 기상 정보(동네예보정보 조회 서비스) request 보내기 전, url 만드는 함수\n",
    "    # end_point = \"http://newsky2.kma.go.kr/service/SecndSrtpdFrcstInfoService2/ForecastTimeData\"\n",
    "    end_point = \"http://apis.data.go.kr/1360000/VilageFcstInfoService_2.0/getUltraSrtNcst\"\n",
    "\n",
    "    parameters = \"?_type=json&serviceKey=\" + access_key\n",
    "    parameters += \"&base_date=\" + yyyymmdd\n",
    "    parameters += \"&base_time=\" + day_time\n",
    "    parameters += \"&nx=\" + x_coodinate\n",
    "    parameters += \"&ny=\" + y_coodinate\n",
    "    parameters += \"&numOfRows=100\"\n",
    "    parameters += \"&dataType=JSON\"\n",
    "\n",
    "    url = end_point + parameters\n",
    "    retData = get_Request_URL(url)\n",
    "    if (retData == None):\n",
    "        return None\n",
    "    else:\n",
    "        return json.loads(retData)"
   ]
  },
  {
   "cell_type": "code",
   "execution_count": 4,
   "id": "6737b5a3",
   "metadata": {},
   "outputs": [],
   "source": [
    "def Make_Weather_Json(day_time):     ## (1) 기상 정보(동네예보정보 조회 서비스) json 파일 생성하는 함수\n",
    "    jsonData = get_Weather_URL(day_time)\n",
    "\n",
    "    all_data = []\n",
    "    column_list = ['baseDate', 'baseTime', 'category', 'nx', 'ny', 'ny']\n",
    "    if (jsonData['response']['header']['resultMsg'] == 'NORMAL_SERVICE'):\n",
    "        for record in jsonData['response']['body']['items']['item']:\n",
    "            row_data=[]\n",
    "            for column in column_list:\n",
    "                row_data.append(record.get(column))\n",
    "            all_data.append(row_data)\n",
    "\n",
    "    df = pd.DataFrame(all_data,columns=column_list)\n",
    "\n",
    "    file_name = '초단기실황조회_%s%s.csv' % (yyyymmdd,day_time)\n",
    "\n",
    "    df.to_csv(file_name, index=False)\n",
    "\n",
    "    print(f'{file_name} SAVED\\n')"
   ]
  },
  {
   "cell_type": "code",
   "execution_count": 6,
   "id": "d7a48e20",
   "metadata": {},
   "outputs": [],
   "source": [
    "def get_Realtime_Weather_Info():        ## (1) 기상 정보(동네예보정보 조회 서비스) json 파일 만들기 전, 실시간 업데이트 확인 함수\n",
    "    day_time = time.strftime(\"%H%M\", time.localtime(time.time()))\n",
    "\n",
    "    day_hour = time.strftime(\"%H\")\n",
    "    day_min = time.strftime(\"%M\")\n",
    "\n",
    "    day_time = time.strftime(\"%H%M\", time.localtime(time.time()))\n",
    "    # Make_Weather_Json(day_time)\n",
    "    day_min_int = int(day_min)\n",
    "    if 30 < day_min_int <= 59:      ## 실시간 업데이트가 있는지 없는지 확인,, 30분부터 59분까지는 실시간 정보 업데이트 됨\n",
    "        day_time = time.strftime(\"%H%M\", time.localtime(time.time()))\n",
    "        print(\"\\n<<실시간 기상정보 업데이트를 실시합니다!!>>\\n\".center(30))\n",
    "        Make_Weather_Json(day_time)\n",
    "\n",
    "    elif 0 <= day_min_int <= 30:        ## 실시간 업데이트가 되지 않을 경우, 가장 최신인 한 시간 전껄로\n",
    "        day_hour_int = int(day_hour)\n",
    "        day_hour_int = day_hour_int - 1\n",
    "        revised_min = 60 + (day_min_int-30) # 정확히 30분을 뺀다.\n",
    "        day_time = \"{0:0>2}\".format(day_hour_int) + str(revised_min)      ## 시간이 한 자리 수일 때 930 되는 것을 0930으로 바꿔 줌\n",
    "\n",
    "        print(\"\\n<<가장 최신 기상정보 업데이트를 실시합니다!!>>\\n\".center(30))\n",
    "        Make_Weather_Json(day_time)"
   ]
  },
  {
   "cell_type": "code",
   "execution_count": 5,
   "id": "7dc13888",
   "metadata": {},
   "outputs": [
    {
     "ename": "NameError",
     "evalue": "name 'get_Realtime_Weather_Info' is not defined",
     "output_type": "error",
     "traceback": [
      "\u001b[1;31m---------------------------------------------------------------------------\u001b[0m",
      "\u001b[1;31mNameError\u001b[0m                                 Traceback (most recent call last)",
      "Cell \u001b[1;32mIn [5], line 9\u001b[0m\n\u001b[0;32m      6\u001b[0m x_coodinate \u001b[38;5;241m=\u001b[39m \u001b[38;5;124m\"\u001b[39m\u001b[38;5;124m58\u001b[39m\u001b[38;5;124m\"\u001b[39m\n\u001b[0;32m      7\u001b[0m y_coodinate \u001b[38;5;241m=\u001b[39m \u001b[38;5;124m\"\u001b[39m\u001b[38;5;124m125\u001b[39m\u001b[38;5;124m\"\u001b[39m\n\u001b[1;32m----> 9\u001b[0m \u001b[43mget_Realtime_Weather_Info\u001b[49m()\n",
      "\u001b[1;31mNameError\u001b[0m: name 'get_Realtime_Weather_Info' is not defined"
     ]
    }
   ],
   "source": [
    "json_weather_result = []\n",
    "yyyymmdd = time.strftime(\"%Y%m%d\")\n",
    "day_time = time.strftime(\"%H%M\")\n",
    "\n",
    "# 구로동 좌표\n",
    "x_coodinate = \"58\"\n",
    "y_coodinate = \"125\"\n",
    "\n",
    "get_Realtime_Weather_Info()"
   ]
  },
  {
   "cell_type": "code",
   "execution_count": null,
   "id": "7c479eea",
   "metadata": {},
   "outputs": [],
   "source": []
  }
 ],
 "metadata": {
  "kernelspec": {
   "display_name": "Python 3 (ipykernel)",
   "language": "python",
   "name": "python3"
  },
  "language_info": {
   "codemirror_mode": {
    "name": "ipython",
    "version": 3
   },
   "file_extension": ".py",
   "mimetype": "text/x-python",
   "name": "python",
   "nbconvert_exporter": "python",
   "pygments_lexer": "ipython3",
   "version": "3.9.13"
  }
 },
 "nbformat": 4,
 "nbformat_minor": 5
}
