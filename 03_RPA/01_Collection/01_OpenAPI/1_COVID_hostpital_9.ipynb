{
 "cells": [
  {
   "cell_type": "code",
   "execution_count": 2,
   "id": "eca514a7",
   "metadata": {},
   "outputs": [],
   "source": [
    "import cx_Oracle\n",
    "import pandas as pd\n",
    "import requests\n",
    "from xml.etree.ElementTree import fromstring"
   ]
  },
  {
   "cell_type": "code",
   "execution_count": 3,
   "id": "40bc6a0e",
   "metadata": {},
   "outputs": [],
   "source": [
    "access_key = 'bgOnt78reFNsTUJuAwlI30JDObTxX6hbJCxyApJCtuf3xjJZJ/mOs8Vhg3GZAsLc1fXTkQ9sjq0mTEupWDdyyA=='\n",
    "TOTAL_NUM = 102\n",
    "MAX_TRANSACTION = 30"
   ]
  },
  {
   "cell_type": "code",
   "execution_count": 6,
   "id": "de686990",
   "metadata": {},
   "outputs": [],
   "source": [
    "con = cx_Oracle.connect('open_source/1111@localhost:1521/xe')"
   ]
  },
  {
   "cell_type": "code",
   "execution_count": 7,
   "id": "e84dc0f8",
   "metadata": {},
   "outputs": [],
   "source": [
    "cur = con.cursor()"
   ]
  },
  {
   "cell_type": "code",
   "execution_count": 19,
   "id": "376b3139",
   "metadata": {},
   "outputs": [],
   "source": [
    "def xml_to_oracle(data_root, data_root_name):\n",
    "    for row in data_root.iter(data_root_name):\n",
    "        sql_insert='''\n",
    "            insert into covid_hospital(기관명,구분코드,시도명,시군구명,전화번호,운영가능일자)\n",
    "            values(:기관명,:구분코드,:시도명,:시군구명,:전화번호,:운영가능일자)\n",
    "        '''\n",
    "# {'adtFrDd': '운영가능일자', 'sgguNm': '시군구명', 'sidoNm': '시도명', 'spclAdmTyCd': '구분코드', \n",
    "#'telno': '전화번호','yadmNm': '기관명'}\n",
    "        기관명 = row.find('yadmNm').text\n",
    "        구분코드  = row.find('spclAdmTyCd').text\n",
    "        시도명  = row.find('sidoNm').text\n",
    "        시군구명  = row.find('sgguNm').text\n",
    "        전화번호  = row.find('telno').text\n",
    "        운영가능일자  = row.find('adtFrDd').text\n",
    "        \n",
    "        cur.execute(sql_insert,(기관명,구분코드,시도명,시군구명,전화번호,운영가능일자))\n",
    "        con.commit()"
   ]
  },
  {
   "cell_type": "code",
   "execution_count": 14,
   "id": "17001120",
   "metadata": {},
   "outputs": [],
   "source": [
    "def get_request_url():\n",
    "    url = 'http://apis.data.go.kr/B551182/pubReliefHospService/getpubReliefHospList'\n",
    "#     params = {'serviceKey': access_key , 'numOfRows' : MAX_TRANSACTION, 'pageNo' : page_no}\n",
    "    params = {'serviceKey': access_key }\n",
    "    response = requests.get(url, params=params)\n",
    "    return response.text"
   ]
  },
  {
   "cell_type": "code",
   "execution_count": 15,
   "id": "8f27766f",
   "metadata": {},
   "outputs": [],
   "source": [
    "raw_xml = get_request_url()"
   ]
  },
  {
   "cell_type": "code",
   "execution_count": 16,
   "id": "a7793721",
   "metadata": {},
   "outputs": [],
   "source": [
    "root = fromstring(raw_xml)"
   ]
  },
  {
   "cell_type": "code",
   "execution_count": 17,
   "id": "1fd29f2e",
   "metadata": {},
   "outputs": [],
   "source": [
    "data_root = root.find('body').find('items')"
   ]
  },
  {
   "cell_type": "code",
   "execution_count": 21,
   "id": "3b78f87f",
   "metadata": {},
   "outputs": [],
   "source": [
    "xml_to_oracle(data_root,'item')"
   ]
  },
  {
   "cell_type": "code",
   "execution_count": null,
   "id": "97ccffaf",
   "metadata": {},
   "outputs": [],
   "source": []
  },
  {
   "cell_type": "code",
   "execution_count": null,
   "id": "406fb720",
   "metadata": {},
   "outputs": [],
   "source": []
  },
  {
   "cell_type": "code",
   "execution_count": null,
   "id": "d3f33873",
   "metadata": {},
   "outputs": [],
   "source": []
  },
  {
   "cell_type": "code",
   "execution_count": null,
   "id": "9883f91c",
   "metadata": {},
   "outputs": [],
   "source": []
  },
  {
   "cell_type": "code",
   "execution_count": null,
   "id": "5d9a4cf3",
   "metadata": {},
   "outputs": [],
   "source": []
  },
  {
   "cell_type": "code",
   "execution_count": null,
   "id": "0271d62c",
   "metadata": {},
   "outputs": [],
   "source": []
  }
 ],
 "metadata": {
  "kernelspec": {
   "display_name": "Python 3 (ipykernel)",
   "language": "python",
   "name": "python3"
  },
  "language_info": {
   "codemirror_mode": {
    "name": "ipython",
    "version": 3
   },
   "file_extension": ".py",
   "mimetype": "text/x-python",
   "name": "python",
   "nbconvert_exporter": "python",
   "pygments_lexer": "ipython3",
   "version": "3.9.13"
  }
 },
 "nbformat": 4,
 "nbformat_minor": 5
}
