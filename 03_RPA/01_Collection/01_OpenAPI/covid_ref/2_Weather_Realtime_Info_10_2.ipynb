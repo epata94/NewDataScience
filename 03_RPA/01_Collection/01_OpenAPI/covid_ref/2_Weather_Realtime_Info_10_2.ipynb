{
 "cells": [
  {
   "cell_type": "code",
   "execution_count": 34,
   "id": "d1966330",
   "metadata": {},
   "outputs": [],
   "source": [
    "import urllib.request\n",
    "import datetime\n",
    "import json\n",
    "import time\n",
    "from datetime import datetime\n",
    "\n",
    "import pandas as pd\n",
    "import cx_Oracle"
   ]
  },
  {
   "cell_type": "code",
   "execution_count": 35,
   "id": "785ef58c",
   "metadata": {},
   "outputs": [],
   "source": [
    "def insert_test ():\n",
    "    sql_insert = '''\n",
    "            insert into weather(DATE_TIME, NX, NY, 시간1_강수량, 강수형태, 기온, 습도, 풍향,풍속,동서바람성분,남북바람성분) \n",
    "            values(:DATE_TIME, :NX, :NY, :시간1_강수량, :강수형태, :기온, :습도, :풍향,:풍속,:동서바람성분,:남북바람성분)\n",
    "            '''\n",
    "#     20221227 1600 58 125 0.0 0.0 1.9 54.0 307.0 1.5 1.2 -0.8\n",
    "    DATE_TIME = '20221227 1600'\n",
    "    NX = 58\n",
    "    NY = 25\n",
    "    시간1_강수량 = 0.0\n",
    "    강수형태 = 0.0\n",
    "    기온 = 3.4\n",
    "    습도 = 46.0\n",
    "    풍향 = 225.0\n",
    "    풍속 = 1.4\n",
    "    동서바람성분 = 1.0\n",
    "    남북바람성분 = 1.0\n",
    "    \n",
    "    cur.execute(sql_insert,\n",
    "                (\n",
    "                    DATE_TIME,\n",
    "                    NX,\n",
    "                    NY,\n",
    "                    시간1_강수량,\n",
    "                    강수형태,\n",
    "                    기온,\n",
    "                    습도,\n",
    "                    풍향,\n",
    "                    풍속,\n",
    "                    동서바람성분,\n",
    "                    남북바람성분\n",
    "                )\n",
    "               )\n",
    "\n",
    "    con.commit()"
   ]
  },
  {
   "cell_type": "code",
   "execution_count": 36,
   "id": "d1089d51",
   "metadata": {},
   "outputs": [],
   "source": [
    "con = cx_Oracle.connect('open_source/1111@localhost:1521/xe')\n",
    "cur = con.cursor()"
   ]
  },
  {
   "cell_type": "code",
   "execution_count": 37,
   "id": "e2fa977e",
   "metadata": {},
   "outputs": [],
   "source": [
    "insert_test()"
   ]
  },
  {
   "cell_type": "code",
   "execution_count": null,
   "id": "d68a86de",
   "metadata": {},
   "outputs": [],
   "source": []
  }
 ],
 "metadata": {
  "kernelspec": {
   "display_name": "Python 3 (ipykernel)",
   "language": "python",
   "name": "python3"
  },
  "language_info": {
   "codemirror_mode": {
    "name": "ipython",
    "version": 3
   },
   "file_extension": ".py",
   "mimetype": "text/x-python",
   "name": "python",
   "nbconvert_exporter": "python",
   "pygments_lexer": "ipython3",
   "version": "3.9.13"
  }
 },
 "nbformat": 4,
 "nbformat_minor": 5
}
