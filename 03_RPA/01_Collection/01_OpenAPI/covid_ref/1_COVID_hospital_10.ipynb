{
 "cells": [
  {
   "cell_type": "code",
   "execution_count": 1,
   "id": "074ac4f5",
   "metadata": {},
   "outputs": [],
   "source": [
    "import cx_Oracle\n",
    "import pandas as pd\n",
    "import requests\n",
    "from xml.etree.ElementTree import fromstring"
   ]
  },
  {
   "cell_type": "code",
   "execution_count": 2,
   "id": "ed61bb09",
   "metadata": {},
   "outputs": [],
   "source": [
    "access_key=\"bgOnt78reFNsTUJuAwlI30JDObTxX6hbJCxyApJCtuf3xjJZJ/mOs8Vhg3GZAsLc1fXTkQ9sjq0mTEupWDdyyA==\""
   ]
  },
  {
   "cell_type": "code",
   "execution_count": 3,
   "id": "00c5bde0",
   "metadata": {},
   "outputs": [],
   "source": [
    "con = cx_Oracle.connect('open_source/1111@localhost:1521/xe')\n",
    "cur = con.cursor()"
   ]
  },
  {
   "cell_type": "code",
   "execution_count": 8,
   "id": "662d4299",
   "metadata": {},
   "outputs": [],
   "source": [
    "TOTAL_NUM = 102\n",
    "MAX_TRANSACTION = 30\n",
    "column_list = ['adtFrDd','sgguNm', 'sidoNm', 'spclAdmTyCd', 'telno','yadmNm']\n",
    "column_list = {'adtFrDd':'운영가능일자','sgguNm':'시군구명', 'sidoNm':'시도명', 'spclAdmTyCd':'구분코드', 'telno': '전화번호','yadmNm':'기관명'}\n"
   ]
  },
  {
   "cell_type": "code",
   "execution_count": 5,
   "id": "7ef20e90",
   "metadata": {},
   "outputs": [],
   "source": [
    "def xml_to_oracle(data_root, data_root_name):\n",
    "    for row in data_root.iter(data_root_name):\n",
    "            sql_insert = '''\n",
    "            insert into covid_hospital(기관명,구분코드,시도명,시군구명,운영가능일자) \n",
    "            values(:기관명,:구분코드,:시도명,:시군구명,:운영가능일자)\n",
    "            '''\n",
    "            기관명 = row.find('yadmNm').text\n",
    "            구분코드 = row.find('spclAdmTyCd').text\n",
    "            시도명 = row.find('sidoNm').text\n",
    "            시군구명 = row.find('sgguNm').text\n",
    "            운영가능일자 = row.find('adtFrDd').text\n",
    "            \n",
    "            cur.execute(sql_insert, (기관명, 구분코드, 시도명, 시군구명,운영가능일자))\n",
    "            con.commit()\n",
    "      "
   ]
  },
  {
   "cell_type": "code",
   "execution_count": 10,
   "id": "d1eaf98e",
   "metadata": {},
   "outputs": [],
   "source": [
    "def get_request_url(page_no):\n",
    "    url = \"http://apis.data.go.kr/B551182/pubReliefHospService/getpubReliefHospList\"\n",
    "    params = {'serviceKey': access_key , 'numOfRows' : MAX_TRANSACTION, 'pageNo' : page_no}\n",
    "\n",
    "    response = requests.get(url, params=params)\n",
    "    if response.status_code == 200:\n",
    "        return response.text\n",
    "        # return response.content\n",
    "    else:\n",
    "        print(f\"비정상 response: status_code => {response.status_code} \")\n",
    "        return None"
   ]
  },
  {
   "cell_type": "code",
   "execution_count": 12,
   "id": "0c5d667b",
   "metadata": {},
   "outputs": [],
   "source": [
    "request_total_num = ( TOTAL_NUM // MAX_TRANSACTION) + 1\n",
    "rename_dict = {'adtFrDd': '운영가능일자', 'sgguNm': '시군구명', 'sidoNm': '시도명', 'spclAdmTyCd': '구분코드', 'telno': '전화번호',\n",
    "                   'yadmNm': '기관명'}\n",
    "REDEFINE_COLUMNS = ['기관명','구분코드','시도명','시군구명','전화번호','운영가능일자']\n",
    "all_data = pd.DataFrame(columns=REDEFINE_COLUMNS)\n",
    "for page_no in range (1, request_total_num +1):\n",
    "    raw_xml = get_request_url(page_no)\n",
    "    root = fromstring(raw_xml)\n",
    "\n",
    "    data_root = root.find('body').find('items')\n",
    "    xml_to_oracle(data_root, 'item')"
   ]
  },
  {
   "cell_type": "code",
   "execution_count": null,
   "id": "9e45ae28",
   "metadata": {},
   "outputs": [],
   "source": []
  },
  {
   "cell_type": "code",
   "execution_count": null,
   "id": "ec75a8f7",
   "metadata": {},
   "outputs": [],
   "source": []
  },
  {
   "cell_type": "code",
   "execution_count": null,
   "id": "286a61e7",
   "metadata": {},
   "outputs": [],
   "source": []
  }
 ],
 "metadata": {
  "kernelspec": {
   "display_name": "Python 3 (ipykernel)",
   "language": "python",
   "name": "python3"
  },
  "language_info": {
   "codemirror_mode": {
    "name": "ipython",
    "version": 3
   },
   "file_extension": ".py",
   "mimetype": "text/x-python",
   "name": "python",
   "nbconvert_exporter": "python",
   "pygments_lexer": "ipython3",
   "version": "3.9.13"
  }
 },
 "nbformat": 4,
 "nbformat_minor": 5
}
