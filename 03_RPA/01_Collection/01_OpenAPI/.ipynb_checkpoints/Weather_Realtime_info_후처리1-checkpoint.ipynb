{
 "cells": [
  {
   "cell_type": "code",
   "execution_count": 2,
   "id": "c972f16b",
   "metadata": {},
   "outputs": [],
   "source": [
    "import pandas as pd"
   ]
  },
  {
   "cell_type": "code",
   "execution_count": 8,
   "id": "5e8f1935",
   "metadata": {},
   "outputs": [],
   "source": [
    "input_file = '초단기실황조회_202212250734.csv'\n",
    "\n",
    "df = pd.read_csv(input_file)"
   ]
  },
  {
   "cell_type": "code",
   "execution_count": 9,
   "id": "a9d5df3d",
   "metadata": {},
   "outputs": [
    {
     "data": {
      "text/html": [
       "<div>\n",
       "<style scoped>\n",
       "    .dataframe tbody tr th:only-of-type {\n",
       "        vertical-align: middle;\n",
       "    }\n",
       "\n",
       "    .dataframe tbody tr th {\n",
       "        vertical-align: top;\n",
       "    }\n",
       "\n",
       "    .dataframe thead th {\n",
       "        text-align: right;\n",
       "    }\n",
       "</style>\n",
       "<table border=\"1\" class=\"dataframe\">\n",
       "  <thead>\n",
       "    <tr style=\"text-align: right;\">\n",
       "      <th></th>\n",
       "      <th>baseDate</th>\n",
       "      <th>baseTime</th>\n",
       "      <th>category</th>\n",
       "      <th>nx</th>\n",
       "      <th>ny</th>\n",
       "      <th>obsrValue</th>\n",
       "    </tr>\n",
       "  </thead>\n",
       "  <tbody>\n",
       "    <tr>\n",
       "      <th>0</th>\n",
       "      <td>20221225</td>\n",
       "      <td>700</td>\n",
       "      <td>PTY</td>\n",
       "      <td>58</td>\n",
       "      <td>125</td>\n",
       "      <td>0.0</td>\n",
       "    </tr>\n",
       "    <tr>\n",
       "      <th>1</th>\n",
       "      <td>20221225</td>\n",
       "      <td>700</td>\n",
       "      <td>REH</td>\n",
       "      <td>58</td>\n",
       "      <td>125</td>\n",
       "      <td>71.0</td>\n",
       "    </tr>\n",
       "    <tr>\n",
       "      <th>2</th>\n",
       "      <td>20221225</td>\n",
       "      <td>700</td>\n",
       "      <td>RN1</td>\n",
       "      <td>58</td>\n",
       "      <td>125</td>\n",
       "      <td>0.0</td>\n",
       "    </tr>\n",
       "    <tr>\n",
       "      <th>3</th>\n",
       "      <td>20221225</td>\n",
       "      <td>700</td>\n",
       "      <td>T1H</td>\n",
       "      <td>58</td>\n",
       "      <td>125</td>\n",
       "      <td>-8.3</td>\n",
       "    </tr>\n",
       "    <tr>\n",
       "      <th>4</th>\n",
       "      <td>20221225</td>\n",
       "      <td>700</td>\n",
       "      <td>UUU</td>\n",
       "      <td>58</td>\n",
       "      <td>125</td>\n",
       "      <td>0.1</td>\n",
       "    </tr>\n",
       "    <tr>\n",
       "      <th>5</th>\n",
       "      <td>20221225</td>\n",
       "      <td>700</td>\n",
       "      <td>VEC</td>\n",
       "      <td>58</td>\n",
       "      <td>125</td>\n",
       "      <td>186.0</td>\n",
       "    </tr>\n",
       "    <tr>\n",
       "      <th>6</th>\n",
       "      <td>20221225</td>\n",
       "      <td>700</td>\n",
       "      <td>VVV</td>\n",
       "      <td>58</td>\n",
       "      <td>125</td>\n",
       "      <td>1.0</td>\n",
       "    </tr>\n",
       "    <tr>\n",
       "      <th>7</th>\n",
       "      <td>20221225</td>\n",
       "      <td>700</td>\n",
       "      <td>WSD</td>\n",
       "      <td>58</td>\n",
       "      <td>125</td>\n",
       "      <td>1.0</td>\n",
       "    </tr>\n",
       "  </tbody>\n",
       "</table>\n",
       "</div>"
      ],
      "text/plain": [
       "   baseDate  baseTime category  nx   ny  obsrValue\n",
       "0  20221225       700      PTY  58  125        0.0\n",
       "1  20221225       700      REH  58  125       71.0\n",
       "2  20221225       700      RN1  58  125        0.0\n",
       "3  20221225       700      T1H  58  125       -8.3\n",
       "4  20221225       700      UUU  58  125        0.1\n",
       "5  20221225       700      VEC  58  125      186.0\n",
       "6  20221225       700      VVV  58  125        1.0\n",
       "7  20221225       700      WSD  58  125        1.0"
      ]
     },
     "execution_count": 9,
     "metadata": {},
     "output_type": "execute_result"
    }
   ],
   "source": [
    "df"
   ]
  },
  {
   "cell_type": "raw",
   "id": "55508325",
   "metadata": {},
   "source": [
    "timestamp nx ny pty reh rn1 t1h uuu vec vvv wsd"
   ]
  },
  {
   "cell_type": "code",
   "execution_count": 18,
   "id": "675ba438",
   "metadata": {},
   "outputs": [
    {
     "data": {
      "text/html": [
       "<div>\n",
       "<style scoped>\n",
       "    .dataframe tbody tr th:only-of-type {\n",
       "        vertical-align: middle;\n",
       "    }\n",
       "\n",
       "    .dataframe tbody tr th {\n",
       "        vertical-align: top;\n",
       "    }\n",
       "\n",
       "    .dataframe thead th {\n",
       "        text-align: right;\n",
       "    }\n",
       "</style>\n",
       "<table border=\"1\" class=\"dataframe\">\n",
       "  <thead>\n",
       "    <tr style=\"text-align: right;\">\n",
       "      <th>category</th>\n",
       "      <th>PTY</th>\n",
       "      <th>REH</th>\n",
       "      <th>RN1</th>\n",
       "      <th>T1H</th>\n",
       "      <th>UUU</th>\n",
       "      <th>VEC</th>\n",
       "      <th>VVV</th>\n",
       "      <th>WSD</th>\n",
       "    </tr>\n",
       "    <tr>\n",
       "      <th>baseDate</th>\n",
       "      <th></th>\n",
       "      <th></th>\n",
       "      <th></th>\n",
       "      <th></th>\n",
       "      <th></th>\n",
       "      <th></th>\n",
       "      <th></th>\n",
       "      <th></th>\n",
       "    </tr>\n",
       "  </thead>\n",
       "  <tbody>\n",
       "    <tr>\n",
       "      <th>20221225</th>\n",
       "      <td>0.0</td>\n",
       "      <td>71.0</td>\n",
       "      <td>0.0</td>\n",
       "      <td>-8.3</td>\n",
       "      <td>0.1</td>\n",
       "      <td>186.0</td>\n",
       "      <td>1.0</td>\n",
       "      <td>1.0</td>\n",
       "    </tr>\n",
       "  </tbody>\n",
       "</table>\n",
       "</div>"
      ],
      "text/plain": [
       "category  PTY   REH  RN1  T1H  UUU    VEC  VVV  WSD\n",
       "baseDate                                           \n",
       "20221225  0.0  71.0  0.0 -8.3  0.1  186.0  1.0  1.0"
      ]
     },
     "execution_count": 18,
     "metadata": {},
     "output_type": "execute_result"
    }
   ],
   "source": [
    "df2 = pd.pivot_table(df,index='baseDate',columns=['category'], values='obsrValue')\n",
    "df2"
   ]
  },
  {
   "cell_type": "code",
   "execution_count": 19,
   "id": "06e53df2",
   "metadata": {},
   "outputs": [],
   "source": [
    "# baseDate와 baseTime 열을 병합\n",
    "# nx, ny 열 추가"
   ]
  },
  {
   "cell_type": "code",
   "execution_count": null,
   "id": "84c706ff",
   "metadata": {},
   "outputs": [],
   "source": []
  },
  {
   "cell_type": "code",
   "execution_count": null,
   "id": "a85c7d03",
   "metadata": {},
   "outputs": [],
   "source": []
  }
 ],
 "metadata": {
  "kernelspec": {
   "display_name": "Python 3 (ipykernel)",
   "language": "python",
   "name": "python3"
  },
  "language_info": {
   "codemirror_mode": {
    "name": "ipython",
    "version": 3
   },
   "file_extension": ".py",
   "mimetype": "text/x-python",
   "name": "python",
   "nbconvert_exporter": "python",
   "pygments_lexer": "ipython3",
   "version": "3.9.13"
  }
 },
 "nbformat": 4,
 "nbformat_minor": 5
}
