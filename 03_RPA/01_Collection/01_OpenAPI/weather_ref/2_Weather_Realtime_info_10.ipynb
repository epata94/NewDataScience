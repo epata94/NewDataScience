{
 "cells": [
  {
   "cell_type": "code",
   "execution_count": 1,
   "id": "0c21a5c3",
   "metadata": {},
   "outputs": [],
   "source": [
    "import urllib.request\n",
    "import datetime\n",
    "import json\n",
    "import time\n",
    "from datetime import datetime\n",
    "\n",
    "import pandas as pd\n",
    "import cx_Oracle"
   ]
  },
  {
   "cell_type": "code",
   "execution_count": null,
   "id": "12f21ec7",
   "metadata": {},
   "outputs": [],
   "source": [
    "access_key=\"bgOnt78reFNsTUJuAwlI30JDObTxX6hbJCxyApJCtuf3xjJZJ%2FmOs8Vhg3GZAsLc1fXTkQ9sjq0mTEupWDdyyA%3D%3D\""
   ]
  },
  {
   "cell_type": "code",
   "execution_count": null,
   "id": "afe6f297",
   "metadata": {},
   "outputs": [],
   "source": [
    "def get_request_url(url):                 ## (1) 기상 정보(동네예보정보 조회 서비스)\n",
    "\n",
    "    parameters = \"?_type=json&serviceKey=\" + access_key\n",
    "    parameters += \"&base_date=\" + yyyymmdd\n",
    "    parameters += \"&base_time=\" + day_time\n",
    "    parameters += \"&nx=\" + x_coodinate\n",
    "    parameters += \"&ny=\" + y_coodinate\n",
    "    parameters += \"&numOfRows=30\"\n",
    "    parameters += \"&dataType=JSON\"\n",
    "    url = url + parameters\n",
    "\n",
    "    req = urllib.request.Request(url)\n",
    "\n",
    "    try:\n",
    "        response = urllib.request.urlopen(req)\n",
    "        if response.getcode() == 200:\n",
    "            print(\"[%s] Url Request Success\" % datetime.now())\n",
    "            return response.read().decode('utf-8')\n",
    "    except Exception as e:\n",
    "        print(e)\n",
    "        print(\"[%s] Error for URL : %s\" % (datetime.now(), url))\n",
    "        return None"
   ]
  },
  {
   "cell_type": "code",
   "execution_count": null,
   "id": "9e611ec5",
   "metadata": {},
   "outputs": [],
   "source": [
    "def json_to_df_info(raw_json):     ## (1) 기상 정보(동네예보정보 조회 서비스) json 파일 생성하는 함수\n",
    "\n",
    "    all_data=[]\n",
    "    column_list = ['baseDate', 'baseTime', 'category', 'nx', 'ny', 'obsrValue']\n",
    "    for record in raw_json['response']['body']['items']['item']:\n",
    "        # 이하 프로그램을 학생을이 작성하게 해볼것2\n",
    "        row_data = []\n",
    "        for column_data in column_list:\n",
    "            row_data.append(record.get(column_data))\n",
    "        all_data.append(row_data)\n",
    "\n",
    "    return column_list, all_data"
   ]
  },
  {
   "cell_type": "code",
   "execution_count": null,
   "id": "415ca72d",
   "metadata": {},
   "outputs": [],
   "source": [
    "def get_update_time_info():        ## (1) 기상 정보(동네예보정보 조회 서비스) json 파일 만들기 전, 실시간 업데이트 확인 함수\n",
    "    day_time = time.strftime(\"%H%M\", time.localtime(time.time()))\n",
    "\n",
    "    day_hour = time.strftime(\"%H\")\n",
    "    day_min = time.strftime(\"%M\")\n",
    "\n",
    "    day_min_int = int(day_min)\n",
    "    if 30 <= day_min_int <= 59:      ## 실시간 업데이트가 있는지 없는지 확인,, 30분부터 59분까지는 실시간 정보 업데이트 됨\n",
    "        day_time = time.strftime(\"%H%M\")\n",
    "        print(\"\\n<<실시간 정보 업데이트를 실시합니다!!>>\\n\".center(30))\n",
    "\n",
    "    elif 0 <= day_min_int < 30:        ## 실시간 업데이트가 되지 않을 경우, 가장 최신인 한 시간 전껄로\n",
    "        day_hour_int = int(day_hour)\n",
    "        day_hour_int = day_hour_int - 1\n",
    "        revised_min = 60 + (day_min_int-30) # 시간은 60분 단위 이므로 30분 미만은 30분을 빼고 60을 더한다.\n",
    "        day_time = \"{0:0>2}\".format(day_hour_int) + str(revised_min)      ## 시간이 한 자리 수일 때 930 되는 것을 0930으로 바꿔 줌\n",
    "\n",
    "        print(\"\\n<<가장 최신정보 업데이트를 실시합니다!!>>\\n\".center(30))\n",
    "    return day_time"
   ]
  },
  {
   "cell_type": "code",
   "execution_count": null,
   "id": "c56afdfd",
   "metadata": {},
   "outputs": [],
   "source": [
    "def preprocess_df_to_oracle (df):\n",
    "    sql_insert = '''\n",
    "            insert into weather(기관명,구분코드,시도명,시군구명,운영가능일자) \n",
    "            value\n",
    "            '''\n",
    "    "
   ]
  },
  {
   "cell_type": "code",
   "execution_count": null,
   "id": "af9bc456",
   "metadata": {},
   "outputs": [],
   "source": [
    "url = 'http://apis.data.go.kr/1360000/VilageFcstInfoService_2.0/getUltraSrtNcst'\n",
    "# 업데이트는 30~60 사이에 이루어짐\n",
    "yyyymmdd = time.strftime(\"%Y%m%d\")\n",
    "day_time = get_update_time_info()\n",
    "\n",
    "# 구로동 좌표\n",
    "x_coodinate = \"58\"\n",
    "y_coodinate = \"125\"\n",
    "\n",
    "raw_str_json = get_request_url(url)\n",
    "if raw_str_json:\n",
    "    raw_json = json.loads(raw_str_json)\n",
    "\n",
    "column_list, all_data = json_to_df_info(raw_json)\n",
    "\n",
    "df = pd.DataFrame(all_data, columns=column_list)\n",
    "\n",
    "df_preprocessed = preprocess_df (df)\n",
    "\n",
    "\n",
    "\n",
    "df_preprocessed_to_oracle(df_preprocessed)\n",
    "\n"
   ]
  },
  {
   "cell_type": "code",
   "execution_count": null,
   "id": "6b941a9e",
   "metadata": {},
   "outputs": [],
   "source": []
  }
 ],
 "metadata": {
  "kernelspec": {
   "display_name": "Python 3 (ipykernel)",
   "language": "python",
   "name": "python3"
  },
  "language_info": {
   "codemirror_mode": {
    "name": "ipython",
    "version": 3
   },
   "file_extension": ".py",
   "mimetype": "text/x-python",
   "name": "python",
   "nbconvert_exporter": "python",
   "pygments_lexer": "ipython3",
   "version": "3.9.13"
  }
 },
 "nbformat": 4,
 "nbformat_minor": 5
}
