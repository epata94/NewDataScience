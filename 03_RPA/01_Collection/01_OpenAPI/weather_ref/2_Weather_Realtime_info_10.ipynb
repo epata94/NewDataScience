{
 "cells": [
  {
   "cell_type": "code",
   "execution_count": 125,
   "id": "0c21a5c3",
   "metadata": {},
   "outputs": [],
   "source": [
    "import urllib.request\n",
    "import datetime\n",
    "import json\n",
    "import time\n",
    "from datetime import datetime\n",
    "\n",
    "import pandas as pd\n",
    "import cx_Oracle"
   ]
  },
  {
   "cell_type": "code",
   "execution_count": 126,
   "id": "12f21ec7",
   "metadata": {},
   "outputs": [],
   "source": [
    "access_key=\"bgOnt78reFNsTUJuAwlI30JDObTxX6hbJCxyApJCtuf3xjJZJ%2FmOs8Vhg3GZAsLc1fXTkQ9sjq0mTEupWDdyyA%3D%3D\""
   ]
  },
  {
   "cell_type": "code",
   "execution_count": 127,
   "id": "afe6f297",
   "metadata": {},
   "outputs": [],
   "source": [
    "def get_request_url(url):                 ## (1) 기상 정보(동네예보정보 조회 서비스)\n",
    "\n",
    "    parameters = \"?_type=json&serviceKey=\" + access_key\n",
    "    parameters += \"&base_date=\" + yyyymmdd\n",
    "    parameters += \"&base_time=\" + day_time\n",
    "    parameters += \"&nx=\" + x_coodinate\n",
    "    parameters += \"&ny=\" + y_coodinate\n",
    "    parameters += \"&numOfRows=30\"\n",
    "    parameters += \"&dataType=JSON\"\n",
    "    url = url + parameters\n",
    "\n",
    "    req = urllib.request.Request(url)\n",
    "\n",
    "    try:\n",
    "        response = urllib.request.urlopen(req)\n",
    "        if response.getcode() == 200:\n",
    "            print(\"[%s] Url Request Success\" % datetime.now())\n",
    "            return response.read().decode('utf-8')\n",
    "    except Exception as e:\n",
    "        print(e)\n",
    "        print(\"[%s] Error for URL : %s\" % (datetime.now(), url))\n",
    "        return None"
   ]
  },
  {
   "cell_type": "code",
   "execution_count": 128,
   "id": "9e611ec5",
   "metadata": {},
   "outputs": [],
   "source": [
    "def json_to_df_info(raw_json):     ## (1) 기상 정보(동네예보정보 조회 서비스) json 파일 생성하는 함수\n",
    "\n",
    "    all_data=[]\n",
    "    column_list = ['baseDate', 'baseTime', 'category', 'nx', 'ny', 'obsrValue']\n",
    "    for record in raw_json['response']['body']['items']['item']:\n",
    "        # 이하 프로그램을 학생을이 작성하게 해볼것2\n",
    "        row_data = []\n",
    "        for column_data in column_list:\n",
    "            row_data.append(record.get(column_data))\n",
    "        all_data.append(row_data)\n",
    "\n",
    "    return column_list, all_data"
   ]
  },
  {
   "cell_type": "code",
   "execution_count": 129,
   "id": "415ca72d",
   "metadata": {},
   "outputs": [],
   "source": [
    "def get_update_time_info():        ## (1) 기상 정보(동네예보정보 조회 서비스) json 파일 만들기 전, 실시간 업데이트 확인 함수\n",
    "    day_time = time.strftime(\"%H%M\", time.localtime(time.time()))\n",
    "\n",
    "    day_hour = time.strftime(\"%H\")\n",
    "    day_min = time.strftime(\"%M\")\n",
    "\n",
    "    day_min_int = int(day_min)\n",
    "    if 30 <= day_min_int <= 59:      ## 실시간 업데이트가 있는지 없는지 확인,, 30분부터 59분까지는 실시간 정보 업데이트 됨\n",
    "        day_time = time.strftime(\"%H%M\")\n",
    "        print(\"\\n<<실시간 정보 업데이트를 실시합니다!!>>\\n\".center(30))\n",
    "\n",
    "    elif 0 <= day_min_int < 30:        ## 실시간 업데이트가 되지 않을 경우, 가장 최신인 한 시간 전껄로\n",
    "        day_hour_int = int(day_hour)\n",
    "        day_hour_int = day_hour_int - 1\n",
    "        revised_min = 60 + (day_min_int-30) # 시간은 60분 단위 이므로 30분 미만은 30분을 빼고 60을 더한다.\n",
    "        day_time = \"{0:0>2}\".format(day_hour_int) + str(revised_min)      ## 시간이 한 자리 수일 때 930 되는 것을 0930으로 바꿔 줌\n",
    "\n",
    "        print(\"\\n<<가장 최신정보 업데이트를 실시합니다!!>>\\n\".center(30))\n",
    "    return day_time"
   ]
  },
  {
   "cell_type": "code",
   "execution_count": 130,
   "id": "c56afdfd",
   "metadata": {},
   "outputs": [],
   "source": [
    "def preprocessed_df_to_oracle (df):\n",
    "    sql_insert = '''\n",
    "            insert into weather(DATE_TIME, NX, NY, 시간1_강수량, 강수형태, 기온, 습도, 풍향,풍속,동서바람성분,남북바람성분) \n",
    "            values(:DATE_TIME, :NX, :NY, :시간1_강수량, :강수형태, :기온, :습도, :풍향,:풍속,:동서바람성분,:남북바람성분)\n",
    "            '''\n",
    "    DATE_TIME = df.iloc[0]['DATE_TIME']\n",
    "    NX = int(df.iloc[0]['NX']) # int 값에 대해서는 int 형으로 변환해줘야 한다.\n",
    "    NY = int(df.iloc[0]['NY'])\n",
    "    시간1_강수량 = df.iloc[0]['시간1_강수량']\n",
    "    강수형태 = df.iloc[0]['강수형태']\n",
    "    기온 = df.iloc[0]['기온']\n",
    "    습도 = df.iloc[0]['습도']\n",
    "    풍향 = df.iloc[0]['풍향']\n",
    "    풍속 = df.iloc[0]['풍속']\n",
    "    동서바람성분 = df.iloc[0]['동서바람성분']\n",
    "    남북바람성분 = df.iloc[0]['남북바람성분']\n",
    "    \n",
    "    print('입력값')\n",
    "    print(DATE_TIME, NX, NY, 시간1_강수량, 강수형태, 기온, 습도, 풍향, 풍속,동서바람성분, 남북바람성분)\n",
    "    # 20221227 1600 58 125 0.0 0.0 1.9 54.0 307.0 1.5 1.2 -0.8\n",
    "    print(type(DATE_TIME), type(NX), type(NY), type(시간1_강수량) ) #, 강수형태, 기온, 습도, 풍향, 풍속,동서바람성분, 남북바람성분)\n",
    "    \n",
    "    cur.execute(sql_insert,\n",
    "                (\n",
    "                    DATE_TIME,\n",
    "                    NX,\n",
    "                    NY,\n",
    "                    시간1_강수량,\n",
    "                    강수형태,\n",
    "                    기온,\n",
    "                    습도,\n",
    "                    풍향,\n",
    "                    풍속,\n",
    "                    동서바람성분,\n",
    "                    남북바람성분\n",
    "                )\n",
    "               )\n",
    "\n",
    "    con.commit()"
   ]
  },
  {
   "cell_type": "code",
   "execution_count": 131,
   "id": "8ae1faf4",
   "metadata": {},
   "outputs": [],
   "source": [
    "def preprocess_df (df):\n",
    "    df.insert(0,'DateTime',df['baseDate']+df['baseTime'])\n",
    "    nx = df.loc[0,'nx']\n",
    "    ny = df.loc[0,'ny']\n",
    "    date_time = df.loc[0, 'baseDate'] + ' ' + df.loc[0, 'baseTime']\n",
    "    p_df = pd.pivot_table(df,index='DateTime',columns=['category'], values='obsrValue')\n",
    "    p_df.insert(0,'date_time',[date_time])\n",
    "    p_df.insert(1,'nx',[nx])\n",
    "    p_df.insert(2,'ny',[ny])\n",
    "\n",
    "    p_df.rename(columns={'date_time': 'DATE_TIME', 'nx': 'NX', 'ny': 'NY', 'PTY': '강수형태', 'REH': '습도',\n",
    "                       'RN1': '시간1_강수량','T1H':'기온','UUU':'동서바람성분','VEC':'풍향','VVV':'남북바람성분','WSD':'풍속'}, inplace=True)\n",
    "    redefined_columns = ['DATE_TIME','NX','NY','시간1_강수량','강수형태','기온','습도', '풍향','풍속','동서바람성분','남북바람성분']\n",
    "    p_df = p_df[redefined_columns]\n",
    "    return p_df"
   ]
  },
  {
   "cell_type": "code",
   "execution_count": 132,
   "id": "2c300913",
   "metadata": {},
   "outputs": [],
   "source": [
    "con = cx_Oracle.connect('open_source/1111@localhost:1521/xe')\n",
    "cur = con.cursor()"
   ]
  },
  {
   "cell_type": "code",
   "execution_count": 133,
   "id": "41340c50",
   "metadata": {},
   "outputs": [
    {
     "name": "stdout",
     "output_type": "stream",
     "text": [
      " \n",
      "<<가장 최신정보 업데이트를 실시합니다!!>>\n",
      "  \n",
      "[2022-12-27 17:18:15.264785] Url Request Success\n"
     ]
    }
   ],
   "source": [
    "url = 'http://apis.data.go.kr/1360000/VilageFcstInfoService_2.0/getUltraSrtNcst'\n",
    "# 업데이트는 30~60 사이에 이루어짐\n",
    "yyyymmdd = time.strftime(\"%Y%m%d\")\n",
    "day_time = get_update_time_info()\n",
    "\n",
    "# 구로동 좌표\n",
    "x_coodinate = \"58\"\n",
    "y_coodinate = \"125\"\n",
    "\n",
    "raw_str_json = get_request_url(url)"
   ]
  },
  {
   "cell_type": "code",
   "execution_count": 134,
   "id": "93fa896a",
   "metadata": {},
   "outputs": [],
   "source": [
    "if raw_str_json:\n",
    "    raw_json = json.loads(raw_str_json)"
   ]
  },
  {
   "cell_type": "code",
   "execution_count": 135,
   "id": "8530d849",
   "metadata": {},
   "outputs": [],
   "source": [
    "column_list, all_data = json_to_df_info(raw_json)\n",
    "\n",
    "df = pd.DataFrame(all_data, columns=column_list)\n",
    "\n",
    "df_preprocessed = preprocess_df (df)"
   ]
  },
  {
   "cell_type": "code",
   "execution_count": 136,
   "id": "af9bc456",
   "metadata": {},
   "outputs": [
    {
     "name": "stdout",
     "output_type": "stream",
     "text": [
      "입력값\n",
      "20221227 1600 58 125 0.0 0.0 1.7 55.0 315.0 1.0 0.7 -0.6\n",
      "<class 'str'> <class 'int'> <class 'int'> <class 'numpy.float64'>\n"
     ]
    }
   ],
   "source": [
    "preprocessed_df_to_oracle(df_preprocessed)"
   ]
  },
  {
   "cell_type": "code",
   "execution_count": null,
   "id": "6b941a9e",
   "metadata": {},
   "outputs": [],
   "source": []
  }
 ],
 "metadata": {
  "kernelspec": {
   "display_name": "Python 3 (ipykernel)",
   "language": "python",
   "name": "python3"
  },
  "language_info": {
   "codemirror_mode": {
    "name": "ipython",
    "version": 3
   },
   "file_extension": ".py",
   "mimetype": "text/x-python",
   "name": "python",
   "nbconvert_exporter": "python",
   "pygments_lexer": "ipython3",
   "version": "3.9.13"
  }
 },
 "nbformat": 4,
 "nbformat_minor": 5
}
