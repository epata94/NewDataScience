{
 "cells": [
  {
   "cell_type": "code",
   "execution_count": 1,
   "id": "6fadec48",
   "metadata": {
    "scrolled": true
   },
   "outputs": [],
   "source": [
    "import pandas as pd\n",
    "import numpy as np\n",
    "\n",
    "from sklearn.feature_extraction.text import CountVectorizer  # 피체 벡터화\n",
    "from sklearn.metrics.pairwise import cosine_similarity  # 코사인 유사도\n",
    "\n",
    "from selenium import webdriver\n",
    "from selenium.webdriver.common.keys import Keys\n",
    "from selenium.webdriver.support.ui import WebDriverWait\n",
    "from selenium.webdriver.support import expected_conditions as EC\n",
    "from selenium.common.exceptions import TimeoutException\n",
    "from selenium.common.exceptions import NoSuchElementException\n",
    "from selenium.webdriver.common.by import By\n",
    "from selenium.webdriver.support.ui import Select\n",
    "import time\n",
    "import glob\n",
    "from selenium.webdriver.common.by import By\n",
    "from bs4 import BeautifulSoup\n",
    "import re"
   ]
  },
  {
   "cell_type": "code",
   "execution_count": 2,
   "id": "007ca777",
   "metadata": {},
   "outputs": [],
   "source": [
    "store=pd.read_csv('kakao_stores_0to500.csv',encoding='cp949')"
   ]
  },
  {
   "cell_type": "code",
   "execution_count": 3,
   "id": "e8b54032",
   "metadata": {},
   "outputs": [],
   "source": [
    "review=pd.read_csv('kakao_review_0to500.csv',encoding='cp949')"
   ]
  },
  {
   "cell_type": "markdown",
   "id": "f7bdf79f",
   "metadata": {},
   "source": [
    "---"
   ]
  },
  {
   "cell_type": "code",
   "execution_count": 4,
   "id": "9760bf96",
   "metadata": {},
   "outputs": [],
   "source": [
    "recommand=store[['store_id','store_name', 'kakao_star_avg','addr','lon','lat']]"
   ]
  },
  {
   "cell_type": "code",
   "execution_count": 5,
   "id": "70a3f7b4",
   "metadata": {},
   "outputs": [],
   "source": [
    "recommand=recommand[~(recommand['kakao_star_avg']=='후기미제공')]\n",
    "recommand['kakao_star_avg']=recommand['kakao_star_avg'].astype('float64')\n",
    "recommand=recommand[recommand['kakao_star_avg']>3]"
   ]
  },
  {
   "cell_type": "code",
   "execution_count": 6,
   "id": "edb372a6",
   "metadata": {},
   "outputs": [],
   "source": [
    "recommand['category']=(store['cate_b']+' '+store['cate_c']).str.replace(\"/\",\" \")\n",
    "\n",
    "review['kakao_content']+=' '\n",
    "# recommand['location']=(store['lon'].astype(str)+' '+store['lat'].astype(str))\n",
    "\n",
    "review_sum_list=[]\n",
    "for store_id in recommand['store_id']:\n",
    "    review_sum=review[(review['store_id']==store_id) & (~review['kakao_content'].isnull())]['kakao_content'].sum()\n",
    "    if review_sum==0:\n",
    "        review_sum=' '\n",
    "    review_sum_list.append(review_sum)\n",
    "recommand['review_sum']=review_sum_list\n",
    "\n",
    "recommand['lon']=recommand['lon'].astype('str')\n",
    "recommand['lat']=recommand['lat'].astype('str')"
   ]
  },
  {
   "cell_type": "code",
   "execution_count": 7,
   "id": "543eebaf",
   "metadata": {},
   "outputs": [],
   "source": [
    "recommand.reset_index(drop=True,inplace=True)"
   ]
  },
  {
   "cell_type": "code",
   "execution_count": 8,
   "id": "b19dcf37",
   "metadata": {},
   "outputs": [
    {
     "data": {
      "text/plain": [
       "122"
      ]
     },
     "execution_count": 8,
     "metadata": {},
     "output_type": "execute_result"
    }
   ],
   "source": [
    "len(recommand)"
   ]
  },
  {
   "cell_type": "markdown",
   "id": "1dec4eff",
   "metadata": {},
   "source": [
    "# 카테고리 벡터화/코사인 유사도 계산"
   ]
  },
  {
   "cell_type": "code",
   "execution_count": 9,
   "id": "0348ece9",
   "metadata": {},
   "outputs": [],
   "source": [
    "from sklearn.feature_extraction.text import CountVectorizer  # 피체 벡터화\n",
    "from sklearn.metrics.pairwise import cosine_similarity  # 코사인 유사도\n",
    "\n",
    "\n",
    "count_vect_category = CountVectorizer(min_df=0, ngram_range=(1,2))\n",
    "place_category = count_vect_category.fit_transform(recommand['category']) \n",
    "place_simi_cate = cosine_similarity(place_category, place_category) \n",
    "place_simi_cate_sorted_ind = place_simi_cate.argsort()[:, ::-1]"
   ]
  },
  {
   "cell_type": "code",
   "execution_count": 10,
   "id": "d9be91d7",
   "metadata": {},
   "outputs": [],
   "source": [
    "#서로 카테고리 텍스트가 얼마나 유사한지를 따져줌"
   ]
  },
  {
   "cell_type": "markdown",
   "id": "fdbfd3c5",
   "metadata": {},
   "source": [
    "# 지역"
   ]
  },
  {
   "cell_type": "code",
   "execution_count": 11,
   "id": "409cd267",
   "metadata": {},
   "outputs": [],
   "source": [
    "count_vect_location = CountVectorizer(min_df=0, ngram_range=(1,2))\n",
    "\n",
    "place_location = count_vect_location.fit_transform(recommand['addr']) \n",
    "place_simi_location = cosine_similarity(place_location, place_location) \n",
    "place_simi_location_sorted_ind = place_simi_location.argsort()[:, ::-1]"
   ]
  },
  {
   "cell_type": "code",
   "execution_count": 12,
   "id": "620691e4",
   "metadata": {},
   "outputs": [],
   "source": [
    "count_vect_lon = CountVectorizer(min_df=0, ngram_range=(1,2))\n",
    "\n",
    "place_lon = count_vect_lon.fit_transform(recommand['lon']) \n",
    "place_simi_lon = cosine_similarity(place_lon, place_lon) \n",
    "place_simi_lon_sorted_ind = place_simi_lon.argsort()[:, ::-1]"
   ]
  },
  {
   "cell_type": "code",
   "execution_count": 13,
   "id": "6031eca9",
   "metadata": {},
   "outputs": [],
   "source": [
    "count_vect_lat = CountVectorizer(min_df=0, ngram_range=(1,2))\n",
    "place_lat = count_vect_lat.fit_transform(recommand['lat']) \n",
    "place_simi_lat = cosine_similarity(place_lat, place_lat) \n",
    "place_simi_lat_sorted_ind = place_simi_lat.argsort()[:, ::-1]"
   ]
  },
  {
   "cell_type": "markdown",
   "id": "1f7d529f",
   "metadata": {},
   "source": [
    "# 리뷰 텍스트 벡터화/ 코사인 유사도 계산"
   ]
  },
  {
   "cell_type": "code",
   "execution_count": 14,
   "id": "46107862",
   "metadata": {},
   "outputs": [],
   "source": [
    "# 리뷰 텍스트 데이터 간의 텍스트 피쳐 벡터라이징\n",
    "count_vect_review = CountVectorizer(min_df=2, ngram_range=(1,2))\n",
    "place_review = count_vect_review.fit_transform(recommand['review_sum']) \n",
    "\n",
    "# 리뷰 텍스트 간의 코사인 유사도 따지기\n",
    "place_simi_review = cosine_similarity(place_review, place_review)\n",
    "place_simi_review_sorted_ind = place_simi_review.argsort()[:, ::-1]"
   ]
  },
  {
   "cell_type": "code",
   "execution_count": 15,
   "id": "37eb10b3",
   "metadata": {},
   "outputs": [],
   "source": [
    "place_simi_co = (\n",
    "                 + place_simi_cate * 0.2 # 공식 1. 카테고리 유사도\n",
    "                 + place_simi_lon * 0.35\n",
    "                 + place_simi_lat * 0.35\n",
    "                 +place_simi_location *0.5\n",
    "                 + place_simi_review * 0.3 # 공식 2. 리뷰 텍스트 유사도\n",
    "                 )"
   ]
  },
  {
   "cell_type": "code",
   "execution_count": 16,
   "id": "2bd12035",
   "metadata": {},
   "outputs": [],
   "source": [
    "place_simi_co_sorted_ind = place_simi_co.argsort()[:, ::-1] "
   ]
  },
  {
   "cell_type": "code",
   "execution_count": 17,
   "id": "7d7db911",
   "metadata": {},
   "outputs": [],
   "source": [
    "def find_simi_place(df, sorted_ind, store_id, top_n=10):\n",
    "    \n",
    "    place_id = df[df['store_id'] == store_id]\n",
    "    place_index = place_id.index.values\n",
    "    similar_indexes = sorted_ind[place_index, :(top_n)]\n",
    "    similar_indexes = similar_indexes.reshape(-1)\n",
    "    return df.iloc[similar_indexes]"
   ]
  },
  {
   "cell_type": "code",
   "execution_count": 18,
   "id": "6bf970ac",
   "metadata": {
    "scrolled": false
   },
   "outputs": [
    {
     "name": "stdout",
     "output_type": "stream",
     "text": [
      "64      국수집\n",
      "66    시골손만두\n",
      "96    율동칼국수\n",
      "54     조원냉면\n",
      "Name: store_name, dtype: object\n"
     ]
    }
   ],
   "source": [
    "print(find_simi_place(recommand, place_simi_co_sorted_ind, 25882056, 5)[1:]['store_name'])"
   ]
  },
  {
   "cell_type": "code",
   "execution_count": 19,
   "id": "b325f078",
   "metadata": {},
   "outputs": [],
   "source": [
    "# 1. 로케이션에서 위도 경도 피쳐 따로 분리\n",
    "# 2. 리뷰넘버빼기\n",
    "# 3. 스타리뷰 빼기\n",
    "# 4. 리뷰 널값 드랍"
   ]
  },
  {
   "cell_type": "markdown",
   "id": "aeb1eeb8",
   "metadata": {},
   "source": [
    "---"
   ]
  },
  {
   "cell_type": "markdown",
   "id": "1443914a",
   "metadata": {},
   "source": [
    "# 강사님이 주신 거"
   ]
  },
  {
   "cell_type": "code",
   "execution_count": 20,
   "id": "56bda143",
   "metadata": {},
   "outputs": [],
   "source": [
    "from sklearn.feature_extraction.text import TfidfVectorizer\n",
    "from sklearn.metrics.pairwise import cosine_similarity\n",
    "import codecs\n",
    "import pickle\n",
    "import pandas as pd"
   ]
  },
  {
   "cell_type": "code",
   "execution_count": 21,
   "id": "f2d363d7",
   "metadata": {},
   "outputs": [],
   "source": [
    "store_name_list=recommand['store_name'].to_list()"
   ]
  },
  {
   "cell_type": "code",
   "execution_count": 22,
   "id": "e7014306",
   "metadata": {},
   "outputs": [],
   "source": [
    "store_comment_list=recommand['review_sum'].to_list()"
   ]
  },
  {
   "cell_type": "code",
   "execution_count": 23,
   "id": "1b7fc873",
   "metadata": {},
   "outputs": [],
   "source": [
    "vectorizer = TfidfVectorizer(min_df=3,stop_words=['그냥','너무','거의'])"
   ]
  },
  {
   "cell_type": "code",
   "execution_count": 24,
   "id": "758e93f9",
   "metadata": {
    "scrolled": true
   },
   "outputs": [
    {
     "data": {
      "text/plain": [
       "array(['0점', '10년', '12000원', '2인분', '8천원', 'ㅋㅋ', 'ㅎㅎ', 'ㅠㅠ', '가게', '가게가',\n",
       "       '가격', '가격대비', '가격도', '가격에', '가격은', '가격이', '가고', '가는', '가서', '가성비',\n",
       "       '가요', '가장', '가족끼리', '간장', '감사합니다', '갑니다', '갔는데', '같아요', '같은데',\n",
       "       '같이', '개인적으론', '겁나', '것도', '계속', '고기', '고기가', '고기는', '고기도', '고기를',\n",
       "       '괜찮고', '괜찮았어요', '괜찮은', '괜찮음', '굉장히', '국물', '국물에', '국물이', '굳이',\n",
       "       '굿굿', '그래서', '그런', '그런지', '그리고', '근데', '근처', '근처에', '기대', '기대하고',\n",
       "       '기분', '김밥', '김치', '김치도', '깊은', '깍두기', '깔끔하고', '깔끔한', '나름', '나오고',\n",
       "       '나오는', '나온', '나와서', '나중에', '냄새', '냄새가', '너무나', '너무너무', '느낌', '느낌이',\n",
       "       '다들', '다른', '다시', '다시는', '다신', '다음에', '다음엔', '담백한', '더욱', '동네',\n",
       "       '되는', '두번째', '들어가서', '듬뿍', '따로', '때문에', '라면', '리뷰', '마세요', '마음에',\n",
       "       '막국수', '만두', '많고', '많아서', '많아요', '많은데', '많음', '많이', '맛과', '맛나고',\n",
       "       '맛나요', '맛남', '맛도', '맛에', '맛은', '맛을', '맛이', '맛입니다', '맛있게', '맛있고',\n",
       "       '맛있네요', '맛있는', '맛있는데', '맛있다', '맛있다고', '맛있습니다', '맛있어서', '맛있어요',\n",
       "       '맛있어요ㅎㅎ', '맛있어용', '맛있었습니다', '맛있었어요', '맛있음', '맛집', '맛집은', '맛집이네요',\n",
       "       '매우', '먹고', '먹고갑니다', '먹기', '먹는', '먹는데', '먹어도', '먹어본', '먹어봤는데',\n",
       "       '먹어서', '먹었는데', '먹었던', '먹었습니다', '먹었어요', '먹으라고', '먹으러', '먹으면', '먹은',\n",
       "       '먹을', '먹을수', '먹음', '메뉴', '메뉴도', '면은', '면이', '모두', '모든', '무슨', '미리',\n",
       "       '바로', '반찬', '반찬도', '반찬이', '받고', '방문', '방문할', '방문했어요', '배달', '버림',\n",
       "       '별로', '별점', '보고', '보다', '보이는', '보통', '봤는데', '부담없이', '부드러워요',\n",
       "       '부드럽고', '분들은', '분위기', '비해', '사람', '사람이', '사장님', '사장님도', '사장님이',\n",
       "       '생각보다', '서비스', '서비스가', '서비스도', '서빙하시는', '손님', '솔직히', '슴슴하고', '시간',\n",
       "       '시원하고', '시원한', '시켰는데', '식당', '식사', '신선한', '싶어요', '싶은', '싸고', '쓰고',\n",
       "       '아니고', '아니라', '아니지만', '아닌', '아님', '아주', '안주고', '않고', '않는', '않다',\n",
       "       '않아서', '않아요', '않은', '약간', '양념', '양념이', '양도', '양이', '어제', '엄마',\n",
       "       '엄청', '없고', '없는', '없습니다', '없어서', '없어요', '없음', '없이', '여기', '여기가',\n",
       "       '여기는', '여긴', '역시', '예전에', '오늘', '오히려', '와서', '완전', '왔네요', '왔는데',\n",
       "       '우리', '우연히', '육즙이', '음식', '음식도', '음식이', '음식점', '이게', '이러고', '이런',\n",
       "       '이렇게', '이름', '이번에', '이상', '인테리어', '일단', '일반', '입니다', '있고', '있는',\n",
       "       '있는데', '있다', '있습니다', '있어서', '있으나', '있지만', '자주', '작은', '잘먹었습니다',\n",
       "       '잘하는', '잡내', '재방문', '저는', '저희', '적당히', '전체적으로', '전혀', '절대', '정도',\n",
       "       '정말', '제가', '제대로', '제일', '조금', '존맛', '존맛탱', '종종', '좋고', '좋네요',\n",
       "       '좋다고', '좋습니다', '좋아서', '좋아요', '좋아하는', '좋아해서', '좋았습니다', '좋았어요', '좋은',\n",
       "       '좋은데', '좋은지', '좋음', '죄다', '주고', '주는', '주문을', '주문했는데', '주셔서', '주시고',\n",
       "       '주시는', '중에', '지금', '직원들이', '직원분들', '직원분들이', '직원분이', '직접', '진짜',\n",
       "       '진한', '집에서', '짬뽕', '쫄깃한', '차라리', '처음', '최고', '최고의', '최악', '최애',\n",
       "       '추천합니다', '치킨', '친절', '친절도', '친절하고', '친절하셔서', '친절하셨어요', '친절하시고',\n",
       "       '친절해서', '칼국수', '칼국수는', '타서', '테이블도', '특히', '편하게', '평가', '평가가',\n",
       "       '평범한', '평이', '평점이', '포장해서', '하고', '하나', '하나도', '하는', '하는데', '하니',\n",
       "       '하면', '하지만', '한그릇', '한데', '한번', '할머니', '함께', '합니다', '항상', '해서',\n",
       "       '했는데', '확실히', '후식으로'], dtype=object)"
      ]
     },
     "execution_count": 24,
     "metadata": {},
     "output_type": "execute_result"
    }
   ],
   "source": [
    "X = vectorizer.fit_transform(store_comment_list)\n",
    "feature_names = vectorizer.get_feature_names_out()\n",
    "feature_names"
   ]
  },
  {
   "cell_type": "code",
   "execution_count": 25,
   "id": "6d4a4148",
   "metadata": {},
   "outputs": [
    {
     "data": {
      "text/plain": [
       "array([[1.        , 0.        , 0.19204051, 0.        , 0.        ,\n",
       "        0.04140339, 0.13743471, 0.0445245 , 0.        , 0.02772527,\n",
       "        0.19342135, 0.11282554, 0.0337696 , 0.03047925, 0.        ,\n",
       "        0.        , 0.        , 0.20657992, 0.04739235, 0.07119141,\n",
       "        0.07912795, 0.        , 0.22891335, 0.07140625, 0.08309768,\n",
       "        0.18621595, 0.07516544, 0.        , 0.        , 0.17332916,\n",
       "        0.        , 0.        , 0.07663107, 0.        , 0.        ,\n",
       "        0.        , 0.        , 0.1252817 , 0.        , 0.        ,\n",
       "        0.08111036, 0.07588067, 0.        , 0.0877112 , 0.12204123,\n",
       "        0.        , 0.        , 0.15444807, 0.        , 0.12276391,\n",
       "        0.06022665, 0.1089131 , 0.14313437, 0.04138957, 0.        ,\n",
       "        0.11173297, 0.0930939 , 0.03923899, 0.        , 0.06216323,\n",
       "        0.06667295, 0.16888593, 0.        , 0.09246032, 0.08205207,\n",
       "        0.11420868, 0.02582928, 0.10688252, 0.13097115, 0.        ,\n",
       "        0.        , 0.        , 0.05856248, 0.        , 0.04992255,\n",
       "        0.13110471, 0.05307008, 0.0773104 , 0.08465037, 0.        ,\n",
       "        0.10617667, 0.11401081, 0.09535566, 0.05215717, 0.        ,\n",
       "        0.        , 0.08528576, 0.09230163, 0.02855096, 0.13522704,\n",
       "        0.05822943, 0.        , 0.10396669, 0.        , 0.        ,\n",
       "        0.        , 0.09807161, 0.        , 0.15612592, 0.19448407,\n",
       "        0.05623542, 0.        , 0.10125683, 0.15738876, 0.        ,\n",
       "        0.        , 0.09329004, 0.        , 0.11531881, 0.08149905,\n",
       "        0.02782665, 0.08118283, 0.        , 0.07456307, 0.        ,\n",
       "        0.        , 0.07015403, 0.16811726, 0.        , 0.18473837,\n",
       "        0.08675182, 0.04314405],\n",
       "       [0.        , 1.        , 0.        , 0.        , 0.        ,\n",
       "        0.        , 0.        , 0.        , 0.        , 0.        ,\n",
       "        0.        , 0.        , 0.        , 0.        , 0.        ,\n",
       "        0.        , 0.        , 0.        , 0.        , 0.        ,\n",
       "        0.        , 0.        , 0.        , 0.        , 0.07302342,\n",
       "        0.        , 0.        , 0.        , 0.        , 0.        ,\n",
       "        0.        , 0.        , 0.        , 0.        , 0.        ,\n",
       "        0.        , 0.        , 0.        , 0.        , 0.        ,\n",
       "        0.        , 0.        , 0.        , 0.07091842, 0.        ,\n",
       "        0.        , 0.        , 0.03514524, 0.        , 0.        ,\n",
       "        0.        , 0.        , 0.        , 0.13423204, 0.        ,\n",
       "        0.        , 0.        , 0.        , 0.        , 0.        ,\n",
       "        0.        , 0.        , 0.        , 0.        , 0.        ,\n",
       "        0.        , 0.        , 0.        , 0.        , 0.        ,\n",
       "        0.        , 0.        , 0.        , 0.        , 0.        ,\n",
       "        0.        , 0.        , 0.        , 0.        , 0.        ,\n",
       "        0.        , 0.        , 0.        , 0.        , 0.        ,\n",
       "        0.        , 0.        , 0.17502857, 0.        , 0.        ,\n",
       "        0.        , 0.        , 0.        , 0.        , 0.        ,\n",
       "        0.        , 0.        , 0.        , 0.        , 0.        ,\n",
       "        0.        , 0.        , 0.        , 0.14000551, 0.        ,\n",
       "        0.        , 0.        , 0.        , 0.        , 0.        ,\n",
       "        0.        , 0.        , 0.        , 0.        , 0.        ,\n",
       "        0.        , 0.        , 0.        , 0.        , 0.        ,\n",
       "        0.        , 0.        ],\n",
       "       [0.19204051, 0.        , 1.        , 0.0267032 , 0.04354222,\n",
       "        0.11093959, 0.14191927, 0.18626642, 0.04115939, 0.04105539,\n",
       "        0.        , 0.08224809, 0.09601693, 0.10106956, 0.        ,\n",
       "        0.        , 0.        , 0.09473797, 0.12692752, 0.07453178,\n",
       "        0.09974065, 0.16229931, 0.22256795, 0.08622301, 0.16687541,\n",
       "        0.09003309, 0.06359744, 0.        , 0.        , 0.02907385,\n",
       "        0.        , 0.        , 0.14588287, 0.09345704, 0.06369792,\n",
       "        0.        , 0.        , 0.12546988, 0.        , 0.        ,\n",
       "        0.18554855, 0.1017163 , 0.        , 0.16770148, 0.11543963,\n",
       "        0.        , 0.02907385, 0.16494687, 0.01687518, 0.110759  ,\n",
       "        0.13550647, 0.05515256, 0.04837161, 0.12245855, 0.        ,\n",
       "        0.05124097, 0.11331353, 0.        , 0.08030235, 0.0341869 ,\n",
       "        0.        , 0.03691737, 0.        , 0.02394956, 0.1105738 ,\n",
       "        0.01989893, 0.14051887, 0.04901654, 0.15608321, 0.04354222,\n",
       "        0.        , 0.        , 0.18936634, 0.        , 0.0545765 ,\n",
       "        0.06928145, 0.04867609, 0.13332087, 0.11557098, 0.06437926,\n",
       "        0.04085085, 0.10980707, 0.10408403, 0.08718249, 0.0962112 ,\n",
       "        0.        , 0.05583896, 0.15569523, 0.04863558, 0.25099234,\n",
       "        0.13559123, 0.        , 0.0771282 , 0.        , 0.        ,\n",
       "        0.05270858, 0.11579483, 0.14934939, 0.15347977, 0.09879604,\n",
       "        0.        , 0.03615745, 0.16018705, 0.31710965, 0.08254016,\n",
       "        0.07791347, 0.01922668, 0.10819637, 0.08963485, 0.05952851,\n",
       "        0.04379345, 0.02469696, 0.        , 0.        , 0.06830845,\n",
       "        0.        , 0.16660727, 0.06607372, 0.13374079, 0.15906492,\n",
       "        0.03181845, 0.04371039]])"
      ]
     },
     "execution_count": 25,
     "metadata": {},
     "output_type": "execute_result"
    }
   ],
   "source": [
    "store_sim = cosine_similarity(X)\n",
    "store_sim[:3]"
   ]
  },
  {
   "cell_type": "code",
   "execution_count": 26,
   "id": "f7559471",
   "metadata": {},
   "outputs": [],
   "source": [
    "def similar_recommend_by_movie_id(store_id, n_recommand):\n",
    "      store_index = store_id-1\n",
    "      # enumerate 함수로 [(리스트 인덱스 0, 유사도 0), (리스트 인덱스 1, 유사도 1)...]의\n",
    "      # 리스트를 만듭니다. 그 후 각 튜플의 두 번째 항목, 즉 유사도를 이용하여 내림차순 정렬합니다.\n",
    "      # 이렇게 만든 리스트의 가장 앞 튜플의 첫 번째 항목이 영화 ID가 됩니다.\n",
    "      similar_store = sorted(list(enumerate(store_sim[store_index])),key=lambda x:x[1], reverse=True)\n",
    "      recommended=1\n",
    "      print(f\"--- '{store_name_list[store_id]}' 추천식당 Top {n_recommand} ---\\n\")\n",
    "      for store_info in similar_store[1:n_recommand]:\n",
    "            # 주어진 영화와 가장 비슷한 영화는 그 영화 자신이므로 출력 시 제외합니다.\n",
    "            store_name= store_name_list[store_info[0]]\n",
    "            print(f'\\t추천영화 {recommended}순위: {store_name}')\n",
    "            recommended+=1"
   ]
  },
  {
   "cell_type": "code",
   "execution_count": 27,
   "id": "c5d61115",
   "metadata": {},
   "outputs": [
    {
     "name": "stdout",
     "output_type": "stream",
     "text": [
      "--- '독도해물알찜' 추천식당 Top 5 ---\n",
      "\n",
      "\t추천영화 1순위: 만석골칼국수\n",
      "\t추천영화 2순위: 사강정육점식당\n",
      "\t추천영화 3순위: 가마솥장수두부\n",
      "\t추천영화 4순위: 행복마을팥칼국수\n"
     ]
    }
   ],
   "source": [
    "similar_recommend_by_movie_id(0,5)"
   ]
  },
  {
   "cell_type": "code",
   "execution_count": null,
   "id": "ec9deac6",
   "metadata": {},
   "outputs": [],
   "source": []
  }
 ],
 "metadata": {
  "kernelspec": {
   "display_name": "Python 3 (ipykernel)",
   "language": "python",
   "name": "python3"
  },
  "language_info": {
   "codemirror_mode": {
    "name": "ipython",
    "version": 3
   },
   "file_extension": ".py",
   "mimetype": "text/x-python",
   "name": "python",
   "nbconvert_exporter": "python",
   "pygments_lexer": "ipython3",
   "version": "3.9.13"
  }
 },
 "nbformat": 4,
 "nbformat_minor": 5
}
