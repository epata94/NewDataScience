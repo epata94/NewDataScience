{
 "cells": [
  {
   "cell_type": "markdown",
   "metadata": {
    "id": "JmzQnrj_qAK2"
   },
   "source": [
    "# 머신 러닝 교과서 3판"
   ]
  },
  {
   "cell_type": "markdown",
   "metadata": {
    "id": "OrbmAIqKqAK6"
   },
   "source": [
    "# 2장 - 분류를 위한 머신러닝 알고리즘 훈련"
   ]
  },
  {
   "cell_type": "markdown",
   "metadata": {
    "id": "6mi4HcBkqAK7"
   },
   "source": [
    "**아래 링크를 통해 이 노트북을 주피터 노트북 뷰어(nbviewer.jupyter.org)로 보거나 구글 코랩(colab.research.google.com)에서 실행할 수 있습니다.**\n",
    "\n",
    "<table class=\"tfo-notebook-buttons\" align=\"left\">\n",
    "  <td>\n",
    "    <a target=\"_blank\" href=\"https://nbviewer.jupyter.org/github/rickiepark/python-machine-learning-book-3rd-edition/blob/master/ch02/ch02.ipynb\"><img src=\"https://jupyter.org/assets/main-logo.svg\" width=\"28\" />주피터 노트북 뷰어로 보기</a>\n",
    "  </td>\n",
    "  <td>\n",
    "    <a target=\"_blank\" href=\"https://colab.research.google.com/github/rickiepark/python-machine-learning-book-3rd-edition/blob/master/ch02/ch02.ipynb\"><img src=\"https://www.tensorflow.org/images/colab_logo_32px.png\" />구글 코랩(Colab)에서 실행하기</a>\n",
    "  </td>\n",
    "</table>"
   ]
  },
  {
   "cell_type": "markdown",
   "metadata": {
    "id": "H6ohB3qhqAK7"
   },
   "source": [
    "### 목차\n",
    "\n",
    "- 인공 뉴런: 초기 머신 러닝의 간단한 역사\n",
    "    - 인공 뉴런의 수학적 정의\n",
    "    - 퍼셉트론 학습 규칙\n",
    "- 파이썬으로 퍼셉트론 학습 알고리즘 구현\n",
    "    - 객체 지향 퍼셉트론 API\n",
    "    - 붓꽃 데이터셋에서 퍼셉트론 훈련\n",
    "- 적응형 선형 뉴런과 학습의 수렴\n",
    "    - 경사 하강법으로 비용 함수 최소화\n",
    "    - 파이썬으로 아달린 구현\n",
    "    - 특성 스케일을 조정하여 경사 하강법 결과 향상\n",
    "    - 대규모 머신 러닝과 확률적 경사 하강법\n",
    "- 요약"
   ]
  },
  {
   "cell_type": "markdown",
   "metadata": {
    "id": "hjRNovxBqAK8"
   },
   "source": [
    "<br>\n",
    "<br>"
   ]
  },
  {
   "cell_type": "code",
   "execution_count": 108,
   "metadata": {
    "execution": {
     "iopub.execute_input": "2020-10-13T15:10:52.878955Z",
     "iopub.status.busy": "2020-10-13T15:10:52.877244Z",
     "iopub.status.idle": "2020-10-13T15:10:52.880800Z",
     "shell.execute_reply": "2020-10-13T15:10:52.881676Z"
    },
    "id": "H7hW_HzPqAK8"
   },
   "outputs": [],
   "source": [
    "from IPython.display import Image"
   ]
  },
  {
   "cell_type": "markdown",
   "metadata": {
    "id": "Fr9HSqsoqAK9"
   },
   "source": [
    "# 인공 뉴런: 초기 머신 러닝의 간단한 역사"
   ]
  },
  {
   "cell_type": "code",
   "execution_count": 109,
   "metadata": {
    "colab": {
     "base_uri": "https://localhost:8080/",
     "height": 235
    },
    "execution": {
     "iopub.execute_input": "2020-10-13T15:10:52.887495Z",
     "iopub.status.busy": "2020-10-13T15:10:52.886536Z",
     "iopub.status.idle": "2020-10-13T15:10:53.030753Z",
     "shell.execute_reply": "2020-10-13T15:10:53.031953Z"
    },
    "id": "-q5FhqX_qAK9",
    "outputId": "14b3199e-c905-4dde-e34d-0e1ed65bcbe0"
   },
   "outputs": [
    {
     "data": {
      "text/html": [
       "<img src=\"https://git.io/JtIbf\" width=\"500\"/>"
      ],
      "text/plain": [
       "<IPython.core.display.Image object>"
      ]
     },
     "execution_count": 109,
     "metadata": {},
     "output_type": "execute_result"
    }
   ],
   "source": [
    "Image(url='https://git.io/JtIbf', width=500) "
   ]
  },
  {
   "cell_type": "markdown",
   "metadata": {},
   "source": [
    "## 퍼셉트론이란?\n",
    "퍼셉트론(인공뉴런): 다수의 신호를 입력으로 받아 하나의 신호를 출력\n",
    "\n",
    "신호: 흐른다(1), 흐르지 않는다(0) 두 가지 값을 가짐.\n",
    "\n",
    "입력신호: x1, x2\n",
    "\n",
    "출력신호: y\n",
    "\n",
    "가중치: w1, w2(w는 weight의 머리글자)\n",
    "\n",
    "퍼셉트론에서는 가중치가 클수록 강한 신호를 흘림.\n",
    "\n",
    "전류에서 말하는 저항. 저항이 낮을 수록 큰 전류가 흐름.\n",
    "\n",
    "뉴런, 노드: x1, x2, y\n",
    "\n",
    "입력신호가 뉴런에 보내질 때 가각 고유한 가중치가 곱해짐. (w1x1, w2x2)\n",
    "\n",
    "뉴런이 활성화: 뉴런에서 보내온 신호의 총합이 정해진 한계를 넘어설 때만 1을 출력\n",
    "\n",
    "임계값: 정해진 한계. 세타 기호로 표현  \n",
    "\n",
    "y=0(w1x1+w2x2<=theta)  \n",
    "y=1(w1x1+w2x2>theta)"
   ]
  },
  {
   "cell_type": "markdown",
   "metadata": {},
   "source": [
    "## 간단한 구현"
   ]
  },
  {
   "cell_type": "markdown",
   "metadata": {},
   "source": [
    "### And 게이트"
   ]
  },
  {
   "attachments": {
    "image.png": {
     "image/png": "[encoded data removed]"
    }
   },
   "cell_type": "markdown",
   "metadata": {},
   "source": [
    "![image.png](attachment:image.png)"
   ]
  },
  {
   "cell_type": "code",
   "execution_count": 110,
   "metadata": {},
   "outputs": [],
   "source": [
    "def AND(x1, x2):\n",
    "    w1, w2, theta = 0.5, 0.5, 0.7\n",
    "    tmp = x1*w1 + x2*w2\n",
    "    if tmp <= theta:\n",
    "        return 0\n",
    "    elif tmp > theta:\n",
    "        return 1"
   ]
  },
  {
   "cell_type": "code",
   "execution_count": 111,
   "metadata": {},
   "outputs": [
    {
     "name": "stdout",
     "output_type": "stream",
     "text": [
      "0\n",
      "0\n",
      "0\n",
      "1\n"
     ]
    }
   ],
   "source": [
    "print(AND(0, 0)) # 0을 출력\n",
    "print(AND(1, 0)) # 0을 출력\n",
    "print(AND(0, 1)) # 0을 출력\n",
    "print(AND(1, 1)) # 1을 출력"
   ]
  },
  {
   "cell_type": "code",
   "execution_count": 112,
   "metadata": {},
   "outputs": [
    {
     "name": "stdout",
     "output_type": "stream",
     "text": [
      "0\n",
      "0\n",
      "0\n",
      "1\n"
     ]
    }
   ],
   "source": [
    "def AND(x1, x2):\n",
    "    w1, w2, theta = 0.3, 0.7, 0.7 # 목적을 달성하기 위한 다양한 조합이 가능하다\n",
    "    tmp = x1*w1 + x2*w2\n",
    "    if tmp <= theta:\n",
    "        return 0\n",
    "    elif tmp > theta:\n",
    "        return 1\n",
    "print(AND(0, 0)) # 0을 출력\n",
    "print(AND(1, 0)) # 0을 출력\n",
    "print(AND(0, 1)) # 0을 출력\n",
    "print(AND(1, 1)) # 1을 출력"
   ]
  },
  {
   "cell_type": "code",
   "execution_count": 113,
   "metadata": {},
   "outputs": [
    {
     "name": "stdout",
     "output_type": "stream",
     "text": [
      "0\n",
      "0\n",
      "1\n",
      "1\n"
     ]
    }
   ],
   "source": [
    "def AND(x1, x2):\n",
    "    w1, w2, theta = 0.2, 0.8, 0.7 # 특정 가중치가 큰 경우 원하는 결과를 얻을 수 없다.\n",
    "    tmp = x1*w1 + x2*w2\n",
    "    if tmp <= theta:\n",
    "        return 0\n",
    "    elif tmp > theta:\n",
    "        return 1\n",
    "print(AND(0, 0)) # 0을 출력\n",
    "print(AND(1, 0)) # 0을 출력\n",
    "print(AND(0, 1)) # 1을 출력\n",
    "print(AND(1, 1)) # 1을 출력"
   ]
  },
  {
   "cell_type": "markdown",
   "metadata": {},
   "source": [
    "### 편향 적용"
   ]
  },
  {
   "cell_type": "markdown",
   "metadata": {},
   "source": [
    "세타를 -b로 치환하면 다음처럼 퍼셉트론 동작이 변경됨\n",
    "\n",
    "b를 편향(bias)라고 함\n",
    "\n",
    "y=0(b+w1x1+w2x2<=0)  \n",
    "y=1(b+w1x1+w2x2>0)"
   ]
  },
  {
   "cell_type": "code",
   "execution_count": 114,
   "metadata": {},
   "outputs": [
    {
     "data": {
      "text/plain": [
       "array([0. , 0.5])"
      ]
     },
     "execution_count": 114,
     "metadata": {},
     "output_type": "execute_result"
    }
   ],
   "source": [
    "import numpy as np\n",
    "x = np.array([0, 1])     # 입력\n",
    "w = np.array([0.5, 0.5]) # 가중치\n",
    "b = -0.7                 # 편향\n",
    "w*x"
   ]
  },
  {
   "cell_type": "code",
   "execution_count": 115,
   "metadata": {},
   "outputs": [
    {
     "data": {
      "text/plain": [
       "0.5"
      ]
     },
     "execution_count": 115,
     "metadata": {},
     "output_type": "execute_result"
    }
   ],
   "source": [
    "np.sum(w*x)"
   ]
  },
  {
   "cell_type": "code",
   "execution_count": 116,
   "metadata": {},
   "outputs": [
    {
     "data": {
      "text/plain": [
       "-0.19999999999999996"
      ]
     },
     "execution_count": 116,
     "metadata": {},
     "output_type": "execute_result"
    }
   ],
   "source": [
    "np.sum(w*x) + b"
   ]
  },
  {
   "cell_type": "code",
   "execution_count": 117,
   "metadata": {},
   "outputs": [],
   "source": [
    "def AND(x1, x2):\n",
    "    x = np.array([x1, x2])\n",
    "    w = np.array([0.5, 0.5])\n",
    "    b = -0.7\n",
    "    tmp = np.sum(w*x) + b\n",
    "    if tmp <= 0:\n",
    "        return 0\n",
    "    else:\n",
    "        return 1"
   ]
  },
  {
   "cell_type": "code",
   "execution_count": 118,
   "metadata": {},
   "outputs": [
    {
     "name": "stdout",
     "output_type": "stream",
     "text": [
      "0\n",
      "0\n",
      "0\n",
      "1\n"
     ]
    }
   ],
   "source": [
    "for xs in [(0, 0), (1, 0), (0, 1), (1, 1)]:\n",
    "    print(AND(xs[0], xs[1]))"
   ]
  },
  {
   "cell_type": "markdown",
   "metadata": {},
   "source": [
    "### 편향의 의미"
   ]
  },
  {
   "attachments": {
    "image.png": {
     "image/png": "[encoded data removed]"
    }
   },
   "cell_type": "markdown",
   "metadata": {},
   "source": [
    "![image.png](attachment:image.png)"
   ]
  },
  {
   "cell_type": "raw",
   "metadata": {},
   "source": [
    "모든 조건이 좋아도 파티를 가지 않으려는 사람, 모든 조건이 않조아도 파티에 가려는 성향의 사람을 편향으로 보정할 수 있다."
   ]
  },
  {
   "cell_type": "markdown",
   "metadata": {
    "id": "qcS1fpThqAK-"
   },
   "source": [
    "## 인공 뉴런의 수학적 정의"
   ]
  },
  {
   "attachments": {
    "image-2.png": {
     "image/png": "[encoded data removed]"
    }
   },
   "cell_type": "markdown",
   "metadata": {},
   "source": [
    "![image-2.png](attachment:image-2.png)"
   ]
  },
  {
   "cell_type": "markdown",
   "metadata": {},
   "source": [
    "θ(쎄타): 임계값"
   ]
  },
  {
   "cell_type": "code",
   "execution_count": 119,
   "metadata": {
    "colab": {
     "base_uri": "https://localhost:8080/",
     "height": 301
    },
    "execution": {
     "iopub.execute_input": "2020-10-13T15:10:53.039926Z",
     "iopub.status.busy": "2020-10-13T15:10:53.038740Z",
     "iopub.status.idle": "2020-10-13T15:10:53.078763Z",
     "shell.execute_reply": "2020-10-13T15:10:53.079671Z"
    },
    "id": "m2egC3TBqAK-",
    "outputId": "2c686553-4845-4a9e-f165-08de430b7cd5"
   },
   "outputs": [
    {
     "data": {
      "text/html": [
       "<img src=\"https://git.io/JtIbL\" width=\"500\"/>"
      ],
      "text/plain": [
       "<IPython.core.display.Image object>"
      ]
     },
     "execution_count": 119,
     "metadata": {},
     "output_type": "execute_result"
    }
   ],
   "source": [
    "Image(url='https://git.io/JtIbL', width=500) "
   ]
  },
  {
   "cell_type": "markdown",
   "metadata": {
    "id": "q4CbGXjyqAK-"
   },
   "source": [
    "## 퍼셉트론 학습 규칙"
   ]
  },
  {
   "cell_type": "markdown",
   "metadata": {},
   "source": [
    "$\\Delta w_j$ : j번째 가중치, $y^{(i)}$ : y의 i번째 값, $x_j^{(i)}$ : x의 j 특성의 i번째 값"
   ]
  },
  {
   "cell_type": "markdown",
   "metadata": {},
   "source": [
    "$\\hat{y}^{(i)}$ : i번째 예측값(1 또는 -1), $\\eta$ : 학습률"
   ]
  },
  {
   "cell_type": "markdown",
   "metadata": {},
   "source": [
    "훈련데이터 i행의 실제 값에서 예측값을 뺀 값에 j번째 특성의 i행 값을 곲한 결과에 학습률을 곱한다."
   ]
  },
  {
   "cell_type": "markdown",
   "metadata": {
    "id": "y1smPkjyqAK_"
   },
   "source": [
    "$\\Delta w_j = \\eta(y^{(i)}-\\hat{y}^{(i)})x_j^{(i)}$"
   ]
  },
  {
   "cell_type": "markdown",
   "metadata": {},
   "source": [
    "기존의 j번째 가중치에 업데이트 된 가중치를 더함"
   ]
  },
  {
   "cell_type": "markdown",
   "metadata": {},
   "source": [
    "$w_j := w_j + \\Delta w_j$"
   ]
  },
  {
   "cell_type": "markdown",
   "metadata": {
    "id": "XApIteAcqAK_"
   },
   "source": [
    "클래스 레이블을 정확히 예측한 경우: 가중치를 업데이트 할 필요가 없다.\n",
    "$y^{(i)}=-1, \\quad \\hat{y}^{(i)}=-1, \\qquad \\Delta w_j=\\eta(-1-(-1))x_j^{(i)}=0$\n",
    "\n",
    "$y^{(i)}=1, \\quad \\hat{y}^{(i)}=1, \\qquad \\Delta w_j=\\eta(1-1))x_j^{(i)}=0$"
   ]
  },
  {
   "cell_type": "markdown",
   "metadata": {},
   "source": [
    "클래스 레이블을 잘못 예측한 경우"
   ]
  },
  {
   "cell_type": "markdown",
   "metadata": {},
   "source": [
    "음성 클래스로 예측을 했지만 실제값은 양성, 양성 클래스로 예측하기 위하여 가중치를 양성클래스 쪽으로 이동한다."
   ]
  },
  {
   "cell_type": "markdown",
   "metadata": {
    "id": "u55ceXR9qAK_"
   },
   "source": [
    "$y^{(i)}=1, \\quad \\hat{y}^{(i)}=-1, \\qquad \\Delta w_j=\\eta(1-(-1))x_j^{(i)}=\\eta(2)x_j^{(i)}$"
   ]
  },
  {
   "cell_type": "raw",
   "metadata": {},
   "source": [
    "양성 클래스로 예측을 했지만 실제값은 음성, 음성 클래스로 예측하기 위하여 가중치를 음성클래스 쪽으로 이동한다."
   ]
  },
  {
   "cell_type": "markdown",
   "metadata": {
    "id": "u55ceXR9qAK_"
   },
   "source": [
    "$y^{(i)}=-1, \\quad \\hat{y}^{(i)}=1, \\qquad \\Delta w_j=\\eta(-1-1))x_j^{(i)}=\\eta(-2)x_j^{(i)}$"
   ]
  },
  {
   "cell_type": "markdown",
   "metadata": {
    "id": "j6jDxcEoqAK_"
   },
   "source": [
    "$\\hat{y}^{(i)}=-1, \\quad y^{(i)}=+1, \\quad \\eta=1$\n",
    "\n",
    "$\\Delta w_j=(1-(-1))0.5=(2)0.5=1$\n",
    "\n",
    "$\\Delta w_j=(1-(-1))2=(2)2=4$"
   ]
  },
  {
   "cell_type": "code",
   "execution_count": 120,
   "metadata": {
    "colab": {
     "base_uri": "https://localhost:8080/",
     "height": 191
    },
    "execution": {
     "iopub.execute_input": "2020-10-13T15:10:53.088620Z",
     "iopub.status.busy": "2020-10-13T15:10:53.087535Z",
     "iopub.status.idle": "2020-10-13T15:10:53.126194Z",
     "shell.execute_reply": "2020-10-13T15:10:53.127170Z"
    },
    "id": "QeJHXlU4qAK_",
    "outputId": "c7626065-f093-4a77-b1be-a3e4397701d8"
   },
   "outputs": [
    {
     "data": {
      "text/html": [
       "<img src=\"https://git.io/JtIbq\" width=\"600\"/>"
      ],
      "text/plain": [
       "<IPython.core.display.Image object>"
      ]
     },
     "execution_count": 120,
     "metadata": {},
     "output_type": "execute_result"
    }
   ],
   "source": [
    "Image(url='https://git.io/JtIbq', width=600) "
   ]
  },
  {
   "cell_type": "code",
   "execution_count": 121,
   "metadata": {
    "colab": {
     "base_uri": "https://localhost:8080/",
     "height": 259
    },
    "execution": {
     "iopub.execute_input": "2020-10-13T15:10:53.134460Z",
     "iopub.status.busy": "2020-10-13T15:10:53.133301Z",
     "iopub.status.idle": "2020-10-13T15:10:53.150276Z",
     "shell.execute_reply": "2020-10-13T15:10:53.151377Z"
    },
    "id": "kRRcFM_BqALA",
    "outputId": "4db20a88-ff03-4c84-db79-93899a247d38"
   },
   "outputs": [
    {
     "data": {
      "text/html": [
       "<img src=\"https://git.io/JtIbO\" width=\"600\"/>"
      ],
      "text/plain": [
       "<IPython.core.display.Image object>"
      ]
     },
     "execution_count": 121,
     "metadata": {},
     "output_type": "execute_result"
    }
   ],
   "source": [
    "Image(url='https://git.io/JtIbO', width=600) "
   ]
  },
  {
   "cell_type": "markdown",
   "metadata": {
    "id": "7g3fMsmaqALA"
   },
   "source": [
    "<br>\n",
    "<br>"
   ]
  },
  {
   "cell_type": "markdown",
   "metadata": {
    "id": "E813AMpDqALA"
   },
   "source": [
    "# 파이썬으로 퍼셉트론 학습 알고리즘 구현"
   ]
  },
  {
   "cell_type": "markdown",
   "metadata": {
    "id": "X53-_PH3qALA"
   },
   "source": [
    "## 객체 지향 퍼셉트론 API"
   ]
  },
  {
   "cell_type": "code",
   "execution_count": 122,
   "metadata": {
    "execution": {
     "iopub.execute_input": "2020-10-13T15:10:53.176262Z",
     "iopub.status.busy": "2020-10-13T15:10:53.174446Z",
     "iopub.status.idle": "2020-10-13T15:10:53.178132Z",
     "shell.execute_reply": "2020-10-13T15:10:53.179538Z"
    },
    "id": "UYXKL2ixqALA"
   },
   "outputs": [
    {
     "ename": "SyntaxError",
     "evalue": "can't use starred expression here (3719025728.py, line 53)",
     "output_type": "error",
     "traceback": [
      "\u001b[1;36m  File \u001b[1;32m\"C:\\Users\\TJ\\AppData\\Local\\Temp\\ipykernel_12664\\3719025728.py\"\u001b[1;36m, line \u001b[1;32m53\u001b[0m\n\u001b[1;33m    self.w_[1:] +=   * xi\u001b[0m\n\u001b[1;37m                     ^\u001b[0m\n\u001b[1;31mSyntaxError\u001b[0m\u001b[1;31m:\u001b[0m can't use starred expression here\n"
     ]
    }
   ],
   "source": [
    "import numpy as np\n",
    "\n",
    "\n",
    "class Perceptron(object):\n",
    "    \"\"\"퍼셉트론 분류기\n",
    "\n",
    "    매개변수\n",
    "    ------------\n",
    "    eta : float\n",
    "      학습률 (0.0과 1.0 사이)\n",
    "    n_iter : int\n",
    "      훈련 데이터셋 반복 횟수\n",
    "    random_state : int\n",
    "      가중치 무작위 초기화를 위한 난수 생성기 시드\n",
    "\n",
    "    속성\n",
    "    -----------\n",
    "    w_ : 1d-array\n",
    "      학습된 가중치\n",
    "    errors_ : list\n",
    "      에포크마다 누적된 분류 오류\n",
    "\n",
    "    \"\"\"\n",
    "    def __init__(self, eta=0.01, n_iter=50, random_state=1):\n",
    "        self.eta = eta\n",
    "        self.n_iter = n_iter\n",
    "        self.random_state = random_state\n",
    "\n",
    "    def fit(self, X, y):\n",
    "        \"\"\"훈련 데이터 학습\n",
    "\n",
    "        매개변수\n",
    "        ----------\n",
    "        X : {array-like}, shape = [n_samples, n_features]\n",
    "          n_samples개의 샘플과 n_features개의 특성으로 이루어진 훈련 데이터\n",
    "        y : array-like, shape = [n_samples]\n",
    "          타깃값\n",
    "\n",
    "        반환값\n",
    "        -------\n",
    "        self : object\n",
    "\n",
    "        \"\"\"\n",
    "        rgen = np.random.RandomState(self.random_state)\n",
    "        # loc: 평균, scale: 표준 편차 0.01, size: 특성 개수 보다 1개 크게 만든다. (절편 고려)\n",
    "        self.w_ = rgen.normal(loc=0.0, scale=0.01, size=1 + X.shape[1])\n",
    "        self.errors_ = []\n",
    "\n",
    "        for _ in range(self.n_iter):\n",
    "            errors = 0\n",
    "            for xi, target in zip(X, y):\n",
    "                update = self.eta * (target - self.predict(xi))\n",
    "                self.w_[1:] +=   * xi\n",
    "                # w_[0]는 절편 정보\n",
    "                self.w_[0] += update\n",
    "                errors += int(update != 0.0)\n",
    "            self.errors_.append(errors)\n",
    "        return self\n",
    "\n",
    "    def net_input(self, X):\n",
    "        \"\"\"입력 계산\"\"\"\n",
    "        # 각각의 행렬을 곱한다.\n",
    "        return np.dot(X, self.w_[1:]) + self.w_[0]\n",
    "\n",
    "    def predict(self, X):\n",
    "        \"\"\"단위 계단 함수를 사용하여 클래스 레이블을 반환합니다\"\"\"\n",
    "        return np.where(self.net_input(X) >= 0.0, 1, -1)"
   ]
  },
  {
   "cell_type": "code",
   "execution_count": 123,
   "metadata": {},
   "outputs": [
    {
     "name": "stdout",
     "output_type": "stream",
     "text": [
      "URL: https://archive.ics.uci.edu/ml/machine-learning-databases/iris/iris.data\n"
     ]
    }
   ],
   "source": [
    "import os\n",
    "import pandas as pd\n",
    "\n",
    "s = 'https://archive.ics.uci.edu/ml/machine-learning-databases/iris/iris.data'\n",
    "print('URL:', s)\n",
    "\n",
    "df = pd.read_csv(s,\n",
    "                 header=None,\n",
    "                 encoding='utf-8')\n",
    "\n",
    "y = df.iloc[0:100, 4].values\n",
    "# setosa면 -1 아니면 1\n",
    "y = np.where(y == 'Iris-setosa', -1, 1)\n",
    "\n",
    "# 각열: Sepal Length, Sepal Width, Petal Length,Petal Width\n",
    "# 꽃받침 길이와 꽃잎 길이를 추출합니다\n",
    "X = df.iloc[0:100, [0, 2]].values\n"
   ]
  },
  {
   "cell_type": "code",
   "execution_count": 124,
   "metadata": {},
   "outputs": [
    {
     "data": {
      "text/plain": [
       "(100, 2)"
      ]
     },
     "execution_count": 124,
     "metadata": {},
     "output_type": "execute_result"
    }
   ],
   "source": [
    "X.shape"
   ]
  },
  {
   "cell_type": "code",
   "execution_count": 125,
   "metadata": {},
   "outputs": [],
   "source": [
    "p = Perceptron()"
   ]
  },
  {
   "cell_type": "raw",
   "metadata": {},
   "source": [
    "w_ 에 가중치와 절편을 저장한다."
   ]
  },
  {
   "cell_type": "code",
   "execution_count": 126,
   "metadata": {},
   "outputs": [],
   "source": [
    "# FIT되지 않아 값이 없다\n",
    "# p.w_"
   ]
  },
  {
   "cell_type": "code",
   "execution_count": 127,
   "metadata": {},
   "outputs": [
    {
     "data": {
      "text/plain": [
       "<__main__.Perceptron at 0x20308521220>"
      ]
     },
     "execution_count": 127,
     "metadata": {},
     "output_type": "execute_result"
    }
   ],
   "source": [
    "p.fit(X,y)"
   ]
  },
  {
   "cell_type": "code",
   "execution_count": 128,
   "metadata": {},
   "outputs": [
    {
     "data": {
      "text/plain": [
       "array([-0.02375655, -0.07011756,  0.17671828])"
      ]
     },
     "execution_count": 128,
     "metadata": {},
     "output_type": "execute_result"
    }
   ],
   "source": [
    "p.w_"
   ]
  },
  {
   "cell_type": "code",
   "execution_count": 129,
   "metadata": {},
   "outputs": [
    {
     "data": {
      "text/plain": [
       "array([-1, -1, -1, -1, -1, -1, -1, -1, -1, -1, -1, -1, -1, -1, -1, -1, -1,\n",
       "       -1, -1, -1, -1, -1, -1, -1, -1, -1, -1, -1, -1, -1, -1, -1, -1, -1,\n",
       "       -1, -1, -1, -1, -1, -1, -1, -1, -1, -1, -1, -1, -1, -1, -1, -1,  1,\n",
       "        1,  1,  1,  1,  1,  1,  1,  1,  1,  1,  1,  1,  1,  1,  1,  1,  1,\n",
       "        1,  1,  1,  1,  1,  1,  1,  1,  1,  1,  1,  1,  1,  1,  1,  1,  1,\n",
       "        1,  1,  1,  1,  1,  1,  1,  1,  1,  1,  1,  1,  1,  1,  1])"
      ]
     },
     "execution_count": 129,
     "metadata": {},
     "output_type": "execute_result"
    }
   ],
   "source": [
    "p.predict(X)"
   ]
  },
  {
   "cell_type": "code",
   "execution_count": 130,
   "metadata": {},
   "outputs": [
    {
     "data": {
      "text/plain": [
       "array([-0.13395053, -0.11992702, -0.12357533, -0.08121992, -0.12693877,\n",
       "       -0.10197031, -0.09889175, -0.10926694, -0.08486823, -0.10225519,\n",
       "       -0.13731397, -0.0775716 , -0.11291526, -0.13087196, -0.21837648,\n",
       "       -0.15834924, -0.17265763, -0.13395053, -0.12300558, -0.1162787 ,\n",
       "       -0.10197031, -0.1162787 , -0.16957906, -0.08093504, -0.02455612,\n",
       "       -0.09159512, -0.09159512, -0.12329046, -0.14096228, -0.07055985,\n",
       "       -0.0775716 , -0.13731397, -0.12329046, -0.16199755, -0.10225519,\n",
       "       -0.16228243, -0.17966938, -0.10225519, -0.10254006, -0.1162787 ,\n",
       "       -0.1446106 , -0.10955182, -0.10254006, -0.09159512, -0.04559139,\n",
       "       -0.11291526, -0.09860687, -0.09889175, -0.13030221, -0.12693877,\n",
       "        0.31599643,  0.32272331,  0.35835185,  0.29746998,  0.33338339,\n",
       "        0.37180561,  0.36507873,  0.21583772,  0.32637163,  0.30083342,\n",
       "        0.24416962,  0.30476661,  0.2624112 ,  0.37910224,  0.21977091,\n",
       "        0.28401622,  0.37881737,  0.29410654,  0.33674683,  0.2727864 ,\n",
       "        0.41079758,  0.25539944,  0.40042238,  0.37910224,  0.28737966,\n",
       "        0.29102797,  0.34769177,  0.39004719,  0.35077034,  0.19508733,\n",
       "        0.26212632,  0.2444545 ,  0.25876288,  0.45680131,  0.39284088,\n",
       "        0.35077034,  0.3370317 ,  0.31206324,  0.30813005,  0.29746998,\n",
       "        0.36815729,  0.36143041,  0.27643471,  0.20882597,  0.32580188,\n",
       "        0.31879012,  0.31879012,  0.30140317,  0.14879872,  0.3011183 ])"
      ]
     },
     "execution_count": 130,
     "metadata": {},
     "output_type": "execute_result"
    }
   ],
   "source": [
    "p.net_input(X)"
   ]
  },
  {
   "cell_type": "code",
   "execution_count": null,
   "metadata": {},
   "outputs": [],
   "source": []
  },
  {
   "cell_type": "code",
   "execution_count": 131,
   "metadata": {
    "colab": {
     "base_uri": "https://localhost:8080/"
    },
    "execution": {
     "iopub.execute_input": "2020-10-13T15:10:53.188993Z",
     "iopub.status.busy": "2020-10-13T15:10:53.187948Z",
     "iopub.status.idle": "2020-10-13T15:10:53.192416Z",
     "shell.execute_reply": "2020-10-13T15:10:53.193272Z"
    },
    "id": "Wi9_qzykqALB",
    "outputId": "84709a58-7368-4cb0-d039-c577614e4a42"
   },
   "outputs": [
    {
     "data": {
      "text/plain": [
       "0.0"
      ]
     },
     "execution_count": 131,
     "metadata": {},
     "output_type": "execute_result"
    }
   ],
   "source": [
    "v1 = np.array([1, 2, 3])\n",
    "v2 = 0.5 * v1\n",
    "np.arccos(v1.dot(v2) / (np.linalg.norm(v1) * np.linalg.norm(v2)))"
   ]
  },
  {
   "cell_type": "markdown",
   "metadata": {
    "id": "9QyeWutEqALB"
   },
   "source": [
    "<br>\n",
    "<br>"
   ]
  },
  {
   "cell_type": "markdown",
   "metadata": {
    "id": "TXzkl6OdqALB"
   },
   "source": [
    "## 붓꽃 데이터셋에서 퍼셉트론 훈련"
   ]
  },
  {
   "cell_type": "markdown",
   "metadata": {
    "id": "mD2Tj5BHqALB"
   },
   "source": [
    "..."
   ]
  },
  {
   "cell_type": "markdown",
   "metadata": {
    "id": "raRwqKBRqALC"
   },
   "source": [
    "### 붓꽃 데이터셋 읽기"
   ]
  },
  {
   "cell_type": "code",
   "execution_count": 132,
   "metadata": {
    "colab": {
     "base_uri": "https://localhost:8080/",
     "height": 215
    },
    "execution": {
     "iopub.execute_input": "2020-10-13T15:10:53.202418Z",
     "iopub.status.busy": "2020-10-13T15:10:53.201325Z",
     "iopub.status.idle": "2020-10-13T15:10:54.802200Z",
     "shell.execute_reply": "2020-10-13T15:10:54.803629Z"
    },
    "id": "7fZajroDqALC",
    "outputId": "4fd99a86-425b-4e39-f844-860ed73944a2"
   },
   "outputs": [
    {
     "name": "stdout",
     "output_type": "stream",
     "text": [
      "URL: https://archive.ics.uci.edu/ml/machine-learning-databases/iris/iris.data\n"
     ]
    },
    {
     "data": {
      "text/html": [
       "<div>\n",
       "<style scoped>\n",
       "    .dataframe tbody tr th:only-of-type {\n",
       "        vertical-align: middle;\n",
       "    }\n",
       "\n",
       "    .dataframe tbody tr th {\n",
       "        vertical-align: top;\n",
       "    }\n",
       "\n",
       "    .dataframe thead th {\n",
       "        text-align: right;\n",
       "    }\n",
       "</style>\n",
       "<table border=\"1\" class=\"dataframe\">\n",
       "  <thead>\n",
       "    <tr style=\"text-align: right;\">\n",
       "      <th></th>\n",
       "      <th>0</th>\n",
       "      <th>1</th>\n",
       "      <th>2</th>\n",
       "      <th>3</th>\n",
       "      <th>4</th>\n",
       "    </tr>\n",
       "  </thead>\n",
       "  <tbody>\n",
       "    <tr>\n",
       "      <th>145</th>\n",
       "      <td>6.7</td>\n",
       "      <td>3.0</td>\n",
       "      <td>5.2</td>\n",
       "      <td>2.3</td>\n",
       "      <td>Iris-virginica</td>\n",
       "    </tr>\n",
       "    <tr>\n",
       "      <th>146</th>\n",
       "      <td>6.3</td>\n",
       "      <td>2.5</td>\n",
       "      <td>5.0</td>\n",
       "      <td>1.9</td>\n",
       "      <td>Iris-virginica</td>\n",
       "    </tr>\n",
       "    <tr>\n",
       "      <th>147</th>\n",
       "      <td>6.5</td>\n",
       "      <td>3.0</td>\n",
       "      <td>5.2</td>\n",
       "      <td>2.0</td>\n",
       "      <td>Iris-virginica</td>\n",
       "    </tr>\n",
       "    <tr>\n",
       "      <th>148</th>\n",
       "      <td>6.2</td>\n",
       "      <td>3.4</td>\n",
       "      <td>5.4</td>\n",
       "      <td>2.3</td>\n",
       "      <td>Iris-virginica</td>\n",
       "    </tr>\n",
       "    <tr>\n",
       "      <th>149</th>\n",
       "      <td>5.9</td>\n",
       "      <td>3.0</td>\n",
       "      <td>5.1</td>\n",
       "      <td>1.8</td>\n",
       "      <td>Iris-virginica</td>\n",
       "    </tr>\n",
       "  </tbody>\n",
       "</table>\n",
       "</div>"
      ],
      "text/plain": [
       "       0    1    2    3               4\n",
       "145  6.7  3.0  5.2  2.3  Iris-virginica\n",
       "146  6.3  2.5  5.0  1.9  Iris-virginica\n",
       "147  6.5  3.0  5.2  2.0  Iris-virginica\n",
       "148  6.2  3.4  5.4  2.3  Iris-virginica\n",
       "149  5.9  3.0  5.1  1.8  Iris-virginica"
      ]
     },
     "execution_count": 132,
     "metadata": {},
     "output_type": "execute_result"
    }
   ],
   "source": [
    "import os\n",
    "import pandas as pd\n",
    "\n",
    "\n",
    "s = 'https://archive.ics.uci.edu/ml/machine-learning-databases/iris/iris.data'\n",
    "print('URL:', s)\n",
    "\n",
    "df = pd.read_csv(s,\n",
    "                 header=None,\n",
    "                 encoding='utf-8')\n",
    "\n",
    "df.tail()"
   ]
  },
  {
   "cell_type": "markdown",
   "metadata": {
    "id": "YFUKi7gUqALC"
   },
   "source": [
    "<hr>\n",
    "\n",
    "### 노트:\n",
    "\n",
    "이 깃허브에는 붓꽃 데이터셋이 포함되어 있습니다(이 책에서 사용하는 다른 데이터셋도 모두 포함되어 있습니다). 인터넷에 연결되어 있지 않거나 이따금 UCI 서버(https://archive.ics.uci.edu/ml/machine-learning-databases/iris/iris.data)에 접근할 수 없을 때 사용할 수 있습니다. 이런 경우 로컬 디렉터리에서 붓꽃 데이터를 로드하려면 다음 코드를\n",
    "```python\n",
    "    df = pd.read_csv('https://archive.ics.uci.edu/ml/'\n",
    "        'machine-learning-databases/iris/iris.data', header=None)\n",
    "```\n",
    "다음과 같이 바꿉니다.\n",
    "```python \n",
    "    df = pd.read_csv('your/local/path/to/iris.data', header=None)\n",
    "```"
   ]
  },
  {
   "cell_type": "markdown",
   "metadata": {
    "id": "v_YynBiqqALC"
   },
   "source": [
    "그다음 다음 코드를 실행합니다.\n",
    "```python\n",
    "    df = pd.read_csv('iris.data', header=None, encoding='utf-8')\n",
    "    df.tail()\n",
    "```"
   ]
  },
  {
   "cell_type": "markdown",
   "metadata": {
    "id": "EI4UZuxgqALC"
   },
   "source": [
    "<hr>"
   ]
  },
  {
   "cell_type": "markdown",
   "metadata": {
    "id": "-ZP9wCdhqALD"
   },
   "source": [
    "<br>\n",
    "<br>"
   ]
  },
  {
   "cell_type": "markdown",
   "metadata": {
    "id": "Lc6Bt3ogqALD"
   },
   "source": [
    "### 붓꽃 데이터 그래프 그리기"
   ]
  },
  {
   "cell_type": "code",
   "execution_count": 133,
   "metadata": {
    "colab": {
     "base_uri": "https://localhost:8080/",
     "height": 279
    },
    "execution": {
     "iopub.execute_input": "2020-10-13T15:10:54.953484Z",
     "iopub.status.busy": "2020-10-13T15:10:54.952117Z",
     "iopub.status.idle": "2020-10-13T15:10:55.624499Z",
     "shell.execute_reply": "2020-10-13T15:10:55.623986Z"
    },
    "id": "XcshxMesqALD",
    "outputId": "6f8d8f17-cc6b-4888-cbd3-253ab77b876e"
   },
   "outputs": [],
   "source": [
    "%matplotlib inline\n",
    "import matplotlib.pyplot as plt\n",
    "import numpy as np"
   ]
  },
  {
   "cell_type": "code",
   "execution_count": 134,
   "metadata": {
    "colab": {
     "base_uri": "https://localhost:8080/",
     "height": 279
    },
    "execution": {
     "iopub.execute_input": "2020-10-13T15:10:54.953484Z",
     "iopub.status.busy": "2020-10-13T15:10:54.952117Z",
     "iopub.status.idle": "2020-10-13T15:10:55.624499Z",
     "shell.execute_reply": "2020-10-13T15:10:55.623986Z"
    },
    "id": "XcshxMesqALD",
    "outputId": "6f8d8f17-cc6b-4888-cbd3-253ab77b876e"
   },
   "outputs": [],
   "source": [
    "# setosa와 versicolor를 선택합니다\n",
    "y = df.iloc[0:100, 4].values"
   ]
  },
  {
   "cell_type": "code",
   "execution_count": 135,
   "metadata": {},
   "outputs": [
    {
     "data": {
      "text/plain": [
       "array(['Iris-setosa', 'Iris-setosa', 'Iris-setosa', 'Iris-setosa',\n",
       "       'Iris-setosa'], dtype=object)"
      ]
     },
     "execution_count": 135,
     "metadata": {},
     "output_type": "execute_result"
    }
   ],
   "source": [
    "y[:5]"
   ]
  },
  {
   "cell_type": "code",
   "execution_count": 136,
   "metadata": {},
   "outputs": [
    {
     "data": {
      "text/plain": [
       "array(['Iris-versicolor', 'Iris-versicolor', 'Iris-versicolor',\n",
       "       'Iris-versicolor', 'Iris-versicolor'], dtype=object)"
      ]
     },
     "execution_count": 136,
     "metadata": {},
     "output_type": "execute_result"
    }
   ],
   "source": [
    "y[95:100]"
   ]
  },
  {
   "cell_type": "code",
   "execution_count": 137,
   "metadata": {
    "colab": {
     "base_uri": "https://localhost:8080/",
     "height": 279
    },
    "execution": {
     "iopub.execute_input": "2020-10-13T15:10:54.953484Z",
     "iopub.status.busy": "2020-10-13T15:10:54.952117Z",
     "iopub.status.idle": "2020-10-13T15:10:55.624499Z",
     "shell.execute_reply": "2020-10-13T15:10:55.623986Z"
    },
    "id": "XcshxMesqALD",
    "outputId": "6f8d8f17-cc6b-4888-cbd3-253ab77b876e"
   },
   "outputs": [],
   "source": [
    "y = np.where(y == 'Iris-setosa', -1, 1)"
   ]
  },
  {
   "cell_type": "code",
   "execution_count": 138,
   "metadata": {},
   "outputs": [
    {
     "data": {
      "text/plain": [
       "array([-1, -1, -1, -1, -1])"
      ]
     },
     "execution_count": 138,
     "metadata": {},
     "output_type": "execute_result"
    }
   ],
   "source": [
    "y[:5]"
   ]
  },
  {
   "cell_type": "code",
   "execution_count": 139,
   "metadata": {},
   "outputs": [
    {
     "data": {
      "text/plain": [
       "array([1, 1, 1, 1, 1])"
      ]
     },
     "execution_count": 139,
     "metadata": {},
     "output_type": "execute_result"
    }
   ],
   "source": [
    "y[95:100]"
   ]
  },
  {
   "cell_type": "code",
   "execution_count": 140,
   "metadata": {
    "colab": {
     "base_uri": "https://localhost:8080/",
     "height": 279
    },
    "execution": {
     "iopub.execute_input": "2020-10-13T15:10:54.953484Z",
     "iopub.status.busy": "2020-10-13T15:10:54.952117Z",
     "iopub.status.idle": "2020-10-13T15:10:55.624499Z",
     "shell.execute_reply": "2020-10-13T15:10:55.623986Z"
    },
    "id": "XcshxMesqALD",
    "outputId": "6f8d8f17-cc6b-4888-cbd3-253ab77b876e"
   },
   "outputs": [],
   "source": [
    "# 꽃받침 길이와 꽃잎 길이를 추출합니다\n",
    "X = df.iloc[0:100, [0, 2]].values"
   ]
  },
  {
   "cell_type": "code",
   "execution_count": 141,
   "metadata": {},
   "outputs": [
    {
     "data": {
      "text/plain": [
       "array([[5.1, 1.4],\n",
       "       [4.9, 1.4],\n",
       "       [4.7, 1.3],\n",
       "       [4.6, 1.5],\n",
       "       [5. , 1.4]])"
      ]
     },
     "execution_count": 141,
     "metadata": {},
     "output_type": "execute_result"
    }
   ],
   "source": [
    "X[:5]"
   ]
  },
  {
   "cell_type": "code",
   "execution_count": 142,
   "metadata": {
    "colab": {
     "base_uri": "https://localhost:8080/",
     "height": 279
    },
    "execution": {
     "iopub.execute_input": "2020-10-13T15:10:54.953484Z",
     "iopub.status.busy": "2020-10-13T15:10:54.952117Z",
     "iopub.status.idle": "2020-10-13T15:10:55.624499Z",
     "shell.execute_reply": "2020-10-13T15:10:55.623986Z"
    },
    "id": "XcshxMesqALD",
    "outputId": "6f8d8f17-cc6b-4888-cbd3-253ab77b876e"
   },
   "outputs": [
    {
     "data": {
      "image/png": "[encoded data removed]",
      "text/plain": [
       "<Figure size 640x480 with 1 Axes>"
      ]
     },
     "metadata": {},
     "output_type": "display_data"
    }
   ],
   "source": [
    "# 산점도를 그립니다\n",
    "plt.scatter(X[:50, 0], X[:50, 1],\n",
    "            color='red', marker='o', label='setosa')\n",
    "plt.scatter(X[50:100, 0], X[50:100, 1],\n",
    "            color='blue', marker='x', label='versicolor')\n",
    "\n",
    "plt.xlabel('sepal length [cm]')\n",
    "plt.ylabel('petal length [cm]')\n",
    "plt.legend(loc='upper left')\n",
    "\n",
    "# plt.savefig('images/02_06.png', dpi=300)\n",
    "plt.show()"
   ]
  },
  {
   "cell_type": "markdown",
   "metadata": {
    "id": "q_dXznKqqALD"
   },
   "source": [
    "<br>\n",
    "<br>"
   ]
  },
  {
   "cell_type": "markdown",
   "metadata": {
    "id": "i1Iv80F_qALD"
   },
   "source": [
    "### 퍼셉트론 모델 훈련하기"
   ]
  },
  {
   "cell_type": "code",
   "execution_count": 143,
   "metadata": {
    "colab": {
     "base_uri": "https://localhost:8080/",
     "height": 279
    },
    "execution": {
     "iopub.execute_input": "2020-10-13T15:10:55.689301Z",
     "iopub.status.busy": "2020-10-13T15:10:55.636285Z",
     "iopub.status.idle": "2020-10-13T15:10:55.996833Z",
     "shell.execute_reply": "2020-10-13T15:10:55.995450Z"
    },
    "id": "i7rZoVY9qALE",
    "outputId": "0a368139-14e7-4260-9337-4f643406d0f4"
   },
   "outputs": [
    {
     "data": {
      "image/png": "[encoded data removed]",
      "text/plain": [
       "<Figure size 640x480 with 1 Axes>"
      ]
     },
     "metadata": {},
     "output_type": "display_data"
    }
   ],
   "source": [
    "ppn = Perceptron(eta=0.1, n_iter=10)\n",
    "\n",
    "ppn.fit(X, y)\n",
    "\n",
    "plt.plot(range(1, len(ppn.errors_) + 1), ppn.errors_, marker='o')\n",
    "# 에포크(Epoch): 전체 데이터를 학습한 횟수, 이터레이션(Iteration): 전체 데이터에 대한 총 Batch수, 배치(Batch): 학습 단위\n",
    "plt.xlabel('Epochs')\n",
    "plt.ylabel('Number of updates')\n",
    "\n",
    "# plt.savefig('images/02_07.png', dpi=300)\n",
    "plt.show()"
   ]
  },
  {
   "cell_type": "markdown",
   "metadata": {
    "id": "0j7_1-RTqALE"
   },
   "source": [
    "<br>\n",
    "<br>"
   ]
  },
  {
   "cell_type": "markdown",
   "metadata": {
    "id": "uPBaThajqALE"
   },
   "source": [
    "### 결정 경계 그래프 함수"
   ]
  },
  {
   "cell_type": "code",
   "execution_count": 144,
   "metadata": {},
   "outputs": [
    {
     "data": {
      "text/plain": [
       "array([[5.1, 1.4],\n",
       "       [4.9, 1.4],\n",
       "       [4.7, 1.3],\n",
       "       [4.6, 1.5],\n",
       "       [5. , 1.4]])"
      ]
     },
     "execution_count": 144,
     "metadata": {},
     "output_type": "execute_result"
    }
   ],
   "source": [
    "X[:5]"
   ]
  },
  {
   "cell_type": "markdown",
   "metadata": {},
   "source": [
    "---"
   ]
  },
  {
   "cell_type": "markdown",
   "metadata": {},
   "source": [
    "### meshgrid"
   ]
  },
  {
   "cell_type": "code",
   "execution_count": 145,
   "metadata": {},
   "outputs": [],
   "source": [
    "x = np.linspace(1,5,5)\n",
    "y = np.linspace(1,5,5)"
   ]
  },
  {
   "cell_type": "code",
   "execution_count": 146,
   "metadata": {},
   "outputs": [],
   "source": [
    "X,Y = np.meshgrid(x,y)"
   ]
  },
  {
   "cell_type": "code",
   "execution_count": 147,
   "metadata": {},
   "outputs": [
    {
     "data": {
      "text/plain": [
       "array([[1., 2., 3., 4., 5.],\n",
       "       [1., 2., 3., 4., 5.],\n",
       "       [1., 2., 3., 4., 5.],\n",
       "       [1., 2., 3., 4., 5.],\n",
       "       [1., 2., 3., 4., 5.]])"
      ]
     },
     "execution_count": 147,
     "metadata": {},
     "output_type": "execute_result"
    }
   ],
   "source": [
    "X"
   ]
  },
  {
   "cell_type": "code",
   "execution_count": 148,
   "metadata": {},
   "outputs": [
    {
     "data": {
      "text/plain": [
       "(5, 5)"
      ]
     },
     "execution_count": 148,
     "metadata": {},
     "output_type": "execute_result"
    }
   ],
   "source": [
    "X.shape"
   ]
  },
  {
   "cell_type": "code",
   "execution_count": 149,
   "metadata": {},
   "outputs": [
    {
     "data": {
      "text/plain": [
       "array([[1., 1., 1., 1., 1.],\n",
       "       [2., 2., 2., 2., 2.],\n",
       "       [3., 3., 3., 3., 3.],\n",
       "       [4., 4., 4., 4., 4.],\n",
       "       [5., 5., 5., 5., 5.]])"
      ]
     },
     "execution_count": 149,
     "metadata": {},
     "output_type": "execute_result"
    }
   ],
   "source": [
    "Y"
   ]
  },
  {
   "cell_type": "code",
   "execution_count": 150,
   "metadata": {},
   "outputs": [
    {
     "data": {
      "image/png": "[encoded data removed]",
      "text/plain": [
       "<Figure size 640x480 with 1 Axes>"
      ]
     },
     "metadata": {},
     "output_type": "display_data"
    }
   ],
   "source": [
    "plt.scatter(X,Y)\n",
    "plt.grid()"
   ]
  },
  {
   "cell_type": "code",
   "execution_count": 151,
   "metadata": {},
   "outputs": [
    {
     "data": {
      "text/plain": [
       "array([1., 2., 3., 4., 5., 1., 2., 3., 4., 5., 1., 2., 3., 4., 5., 1., 2.,\n",
       "       3., 4., 5., 1., 2., 3., 4., 5.])"
      ]
     },
     "execution_count": 151,
     "metadata": {},
     "output_type": "execute_result"
    }
   ],
   "source": [
    "X.ravel()"
   ]
  },
  {
   "cell_type": "code",
   "execution_count": 152,
   "metadata": {},
   "outputs": [
    {
     "data": {
      "text/plain": [
       "array([1., 1., 1., 1., 1., 2., 2., 2., 2., 2., 3., 3., 3., 3., 3., 4., 4.,\n",
       "       4., 4., 4., 5., 5., 5., 5., 5.])"
      ]
     },
     "execution_count": 152,
     "metadata": {},
     "output_type": "execute_result"
    }
   ],
   "source": [
    "Y.ravel()"
   ]
  },
  {
   "cell_type": "code",
   "execution_count": 153,
   "metadata": {},
   "outputs": [
    {
     "data": {
      "text/plain": [
       "array([[1., 2., 3., 4., 5., 1., 2., 3., 4., 5., 1., 2., 3., 4., 5., 1.,\n",
       "        2., 3., 4., 5., 1., 2., 3., 4., 5.],\n",
       "       [1., 1., 1., 1., 1., 2., 2., 2., 2., 2., 3., 3., 3., 3., 3., 4.,\n",
       "        4., 4., 4., 4., 5., 5., 5., 5., 5.]])"
      ]
     },
     "execution_count": 153,
     "metadata": {},
     "output_type": "execute_result"
    }
   ],
   "source": [
    "# 그리드에 대한 모든 조합을 생성\n",
    "np.array([X.ravel(), Y.ravel()])"
   ]
  },
  {
   "cell_type": "code",
   "execution_count": 154,
   "metadata": {},
   "outputs": [],
   "source": [
    "# 모든 그리드에 조합을 Long 포멧으로 조회"
   ]
  },
  {
   "cell_type": "code",
   "execution_count": 155,
   "metadata": {},
   "outputs": [
    {
     "data": {
      "text/plain": [
       "array([[1., 1.],\n",
       "       [2., 1.],\n",
       "       [3., 1.],\n",
       "       [4., 1.],\n",
       "       [5., 1.],\n",
       "       [1., 2.],\n",
       "       [2., 2.],\n",
       "       [3., 2.],\n",
       "       [4., 2.],\n",
       "       [5., 2.],\n",
       "       [1., 3.],\n",
       "       [2., 3.],\n",
       "       [3., 3.],\n",
       "       [4., 3.],\n",
       "       [5., 3.],\n",
       "       [1., 4.],\n",
       "       [2., 4.],\n",
       "       [3., 4.],\n",
       "       [4., 4.],\n",
       "       [5., 4.],\n",
       "       [1., 5.],\n",
       "       [2., 5.],\n",
       "       [3., 5.],\n",
       "       [4., 5.],\n",
       "       [5., 5.]])"
      ]
     },
     "execution_count": 155,
     "metadata": {},
     "output_type": "execute_result"
    }
   ],
   "source": [
    "test_target = np.array([X.ravel(), Y.ravel()]).T\n",
    "test_target"
   ]
  },
  {
   "cell_type": "code",
   "execution_count": 156,
   "metadata": {},
   "outputs": [
    {
     "data": {
      "text/plain": [
       "array([[1., 2., 3., 4., 5.],\n",
       "       [1., 2., 3., 4., 5.],\n",
       "       [1., 2., 3., 4., 5.],\n",
       "       [1., 2., 3., 4., 5.],\n",
       "       [1., 2., 3., 4., 5.]])"
      ]
     },
     "execution_count": 156,
     "metadata": {},
     "output_type": "execute_result"
    }
   ],
   "source": [
    "X"
   ]
  },
  {
   "cell_type": "code",
   "execution_count": 157,
   "metadata": {},
   "outputs": [
    {
     "data": {
      "text/plain": [
       "(5, 5)"
      ]
     },
     "execution_count": 157,
     "metadata": {},
     "output_type": "execute_result"
    }
   ],
   "source": [
    "X.shape"
   ]
  },
  {
   "cell_type": "code",
   "execution_count": 158,
   "metadata": {},
   "outputs": [
    {
     "data": {
      "text/plain": [
       "(25, 2)"
      ]
     },
     "execution_count": 158,
     "metadata": {},
     "output_type": "execute_result"
    }
   ],
   "source": [
    "test_target.shape"
   ]
  },
  {
   "cell_type": "code",
   "execution_count": null,
   "metadata": {},
   "outputs": [],
   "source": []
  },
  {
   "cell_type": "code",
   "execution_count": null,
   "metadata": {},
   "outputs": [],
   "source": []
  },
  {
   "cell_type": "code",
   "execution_count": null,
   "metadata": {},
   "outputs": [],
   "source": []
  },
  {
   "cell_type": "markdown",
   "metadata": {},
   "source": [
    "---"
   ]
  },
  {
   "cell_type": "code",
   "execution_count": 159,
   "metadata": {},
   "outputs": [
    {
     "name": "stdout",
     "output_type": "stream",
     "text": [
      "URL: https://archive.ics.uci.edu/ml/machine-learning-databases/iris/iris.data\n"
     ]
    }
   ],
   "source": [
    "s = 'https://archive.ics.uci.edu/ml/machine-learning-databases/iris/iris.data'\n",
    "print('URL:', s)\n",
    "\n",
    "df = pd.read_csv(s,\n",
    "                 header=None,\n",
    "                 encoding='utf-8')\n",
    "\n",
    "y = df.iloc[0:100, 4].values\n",
    "# setosa면 -1 아니면 1\n",
    "y = np.where(y == 'Iris-setosa', -1, 1)\n",
    "\n",
    "# 각열: Sepal Length, Sepal Width, Petal Length,Petal Width\n",
    "# 꽃받침 길이와 꽃잎 길이를 추출합니다\n",
    "X = df.iloc[0:100, [0, 2]].values"
   ]
  },
  {
   "cell_type": "code",
   "execution_count": 160,
   "metadata": {
    "execution": {
     "iopub.execute_input": "2020-10-13T15:10:56.017335Z",
     "iopub.status.busy": "2020-10-13T15:10:56.015706Z",
     "iopub.status.idle": "2020-10-13T15:10:56.020305Z",
     "shell.execute_reply": "2020-10-13T15:10:56.018987Z"
    },
    "id": "RKhIj0ynqALE"
   },
   "outputs": [],
   "source": [
    "from matplotlib.colors import ListedColormap\n",
    "\n",
    "\n",
    "def plot_decision_regions(X, y, classifier, resolution=0.02):\n",
    "\n",
    "    # 마커와 컬러맵을 설정합니다\n",
    "    markers = ('s', 'x', 'o', '^', 'v')\n",
    "    colors = ('red', 'blue', 'lightgreen', 'gray', 'cyan')\n",
    "    cmap = ListedColormap(colors[:len(np.unique(y))])\n",
    "\n",
    "    # 결정 경계를 그립니다\n",
    "    # Sepal Lenth(X축), Petal Lenth(Y축)의 최소, 최대값 보다 1 크게 마진을 잡는다.\n",
    "    x1_min, x1_max = X[:, 0].min() - 1, X[:, 0].max() + 1\n",
    "    x2_min, x2_max = X[:, 1].min() - 1, X[:, 1].max() + 1\n",
    "    # meshgrid ([x축 범위],[y축 범위]) => 2차원 grid를 생성\n",
    "    xx1, xx2 = np.meshgrid(np.arange(x1_min, x1_max, resolution),\n",
    "                           np.arange(x2_min, x2_max, resolution))\n",
    "    Z = classifier.predict(np.array([xx1.ravel(), xx2.ravel()]).T)\n",
    "    Z = Z.reshape(xx1.shape)\n",
    "    plt.contourf(xx1, xx2, Z, alpha=0.3, cmap=cmap)\n",
    "    plt.xlim(xx1.min(), xx1.max())\n",
    "    plt.ylim(xx2.min(), xx2.max())\n",
    "\n",
    "    # 샘플의 산점도를 그립니다\n",
    "    for idx, cl in enumerate(np.unique(y)):\n",
    "        plt.scatter(x=X[y == cl, 0], \n",
    "                    y=X[y == cl, 1],\n",
    "                    alpha=0.8, \n",
    "                    c=colors[idx],\n",
    "                    marker=markers[idx], \n",
    "                    label=cl, \n",
    "                    edgecolor='black')"
   ]
  },
  {
   "cell_type": "code",
   "execution_count": 161,
   "metadata": {
    "colab": {
     "base_uri": "https://localhost:8080/",
     "height": 280
    },
    "execution": {
     "iopub.execute_input": "2020-10-13T15:10:56.027421Z",
     "iopub.status.busy": "2020-10-13T15:10:56.026099Z",
     "iopub.status.idle": "2020-10-13T15:10:56.456714Z",
     "shell.execute_reply": "2020-10-13T15:10:56.456194Z"
    },
    "id": "ux8HGXQSqALE",
    "outputId": "7b6bb31b-07a0-4cb9-c681-055e601bbf6f"
   },
   "outputs": [
    {
     "name": "stderr",
     "output_type": "stream",
     "text": [
      "C:\\Users\\TJ\\AppData\\Local\\Temp\\ipykernel_12664\\2514399905.py:26: UserWarning: You passed a edgecolor/edgecolors ('black') for an unfilled marker ('x').  Matplotlib is ignoring the edgecolor in favor of the facecolor.  This behavior may change in the future.\n",
      "  plt.scatter(x=X[y == cl, 0],\n"
     ]
    },
    {
     "data": {
      "image/png": "[encoded data removed]",
      "text/plain": [
       "<Figure size 640x480 with 1 Axes>"
      ]
     },
     "metadata": {},
     "output_type": "display_data"
    }
   ],
   "source": [
    "plot_decision_regions(X, y, classifier=ppn)\n",
    "plt.xlabel('sepal length [cm]')\n",
    "plt.ylabel('petal length [cm]')\n",
    "plt.legend(loc='upper left')\n",
    "\n",
    "# plt.savefig('images/02_08.png', dpi=300)\n",
    "plt.show()"
   ]
  },
  {
   "cell_type": "code",
   "execution_count": 162,
   "metadata": {},
   "outputs": [
    {
     "data": {
      "text/plain": [
       "(3.3, 8.0, 0.0, 6.1)"
      ]
     },
     "execution_count": 162,
     "metadata": {},
     "output_type": "execute_result"
    }
   ],
   "source": [
    "markers = ('s', 'x', 'o', '^', 'v')\n",
    "colors = ('red', 'blue', 'lightgreen', 'gray', 'cyan')\n",
    "cmap = ListedColormap(colors[:len(np.unique(y))])\n",
    "\n",
    "# 결정 경계를 그립니다\n",
    "# Sepal Lenth(X축), Petal Lenth(Y축)의 최소, 최대값 보다 1 크게 마진을 잡는다.\n",
    "x1_min, x1_max = X[:, 0].min() - 1, X[:, 0].max() + 1\n",
    "x2_min, x2_max = X[:, 1].min() - 1, X[:, 1].max() + 1\n",
    "(x1_min,x1_max,x2_min,x2_max)"
   ]
  },
  {
   "cell_type": "code",
   "execution_count": 163,
   "metadata": {},
   "outputs": [],
   "source": [
    "# meshgrid ([x축 범위],[y축 범위]) => 2차원 grid를 생성\n",
    "resolution=0.02\n",
    "xx1, xx2 = np.meshgrid(np.arange(x1_min, x1_max, resolution),\n",
    "                       np.arange(x2_min, x2_max, resolution))"
   ]
  },
  {
   "cell_type": "code",
   "execution_count": 164,
   "metadata": {},
   "outputs": [
    {
     "data": {
      "text/plain": [
       "array([[3.3 , 3.32, 3.34, ..., 7.94, 7.96, 7.98],\n",
       "       [3.3 , 3.32, 3.34, ..., 7.94, 7.96, 7.98],\n",
       "       [3.3 , 3.32, 3.34, ..., 7.94, 7.96, 7.98],\n",
       "       ...,\n",
       "       [3.3 , 3.32, 3.34, ..., 7.94, 7.96, 7.98],\n",
       "       [3.3 , 3.32, 3.34, ..., 7.94, 7.96, 7.98],\n",
       "       [3.3 , 3.32, 3.34, ..., 7.94, 7.96, 7.98]])"
      ]
     },
     "execution_count": 164,
     "metadata": {},
     "output_type": "execute_result"
    }
   ],
   "source": [
    "xx1"
   ]
  },
  {
   "cell_type": "code",
   "execution_count": 165,
   "metadata": {},
   "outputs": [
    {
     "data": {
      "text/plain": [
       "array([[0.  , 0.  , 0.  , ..., 0.  , 0.  , 0.  ],\n",
       "       [0.02, 0.02, 0.02, ..., 0.02, 0.02, 0.02],\n",
       "       [0.04, 0.04, 0.04, ..., 0.04, 0.04, 0.04],\n",
       "       ...,\n",
       "       [6.04, 6.04, 6.04, ..., 6.04, 6.04, 6.04],\n",
       "       [6.06, 6.06, 6.06, ..., 6.06, 6.06, 6.06],\n",
       "       [6.08, 6.08, 6.08, ..., 6.08, 6.08, 6.08]])"
      ]
     },
     "execution_count": 165,
     "metadata": {},
     "output_type": "execute_result"
    }
   ],
   "source": [
    "xx2"
   ]
  },
  {
   "cell_type": "code",
   "execution_count": 166,
   "metadata": {},
   "outputs": [
    {
     "data": {
      "text/plain": [
       "array([-1, -1, -1, ...,  1,  1,  1])"
      ]
     },
     "execution_count": 166,
     "metadata": {},
     "output_type": "execute_result"
    }
   ],
   "source": [
    "classifier=ppn\n",
    "Z = classifier.predict(np.array([xx1.ravel(), xx2.ravel()]).T)\n",
    "Z"
   ]
  },
  {
   "cell_type": "code",
   "execution_count": 167,
   "metadata": {},
   "outputs": [
    {
     "data": {
      "text/plain": [
       "(305, 235)"
      ]
     },
     "execution_count": 167,
     "metadata": {},
     "output_type": "execute_result"
    }
   ],
   "source": [
    "xx1.shape"
   ]
  },
  {
   "cell_type": "code",
   "execution_count": 168,
   "metadata": {},
   "outputs": [
    {
     "data": {
      "text/plain": [
       "array([[-1, -1, -1, ..., -1, -1, -1],\n",
       "       [-1, -1, -1, ..., -1, -1, -1],\n",
       "       [-1, -1, -1, ..., -1, -1, -1],\n",
       "       ...,\n",
       "       [ 1,  1,  1, ...,  1,  1,  1],\n",
       "       [ 1,  1,  1, ...,  1,  1,  1],\n",
       "       [ 1,  1,  1, ...,  1,  1,  1]])"
      ]
     },
     "execution_count": 168,
     "metadata": {},
     "output_type": "execute_result"
    }
   ],
   "source": [
    "Z = Z.reshape(xx1.shape)\n",
    "Z"
   ]
  },
  {
   "cell_type": "code",
   "execution_count": 169,
   "metadata": {},
   "outputs": [
    {
     "data": {
      "text/plain": [
       "<matplotlib.contour.QuadContourSet at 0x20308566a60>"
      ]
     },
     "execution_count": 169,
     "metadata": {},
     "output_type": "execute_result"
    },
    {
     "data": {
      "image/png": "[encoded data removed]",
      "text/plain": [
       "<Figure size 640x480 with 1 Axes>"
      ]
     },
     "metadata": {},
     "output_type": "display_data"
    }
   ],
   "source": [
    "# contourf([X 그리드],[Y 그리드], [구분경계])\n",
    "plt.contourf(xx1, xx2, Z, alpha=0.3, cmap=cmap)"
   ]
  },
  {
   "cell_type": "code",
   "execution_count": 170,
   "metadata": {},
   "outputs": [
    {
     "name": "stderr",
     "output_type": "stream",
     "text": [
      "C:\\Users\\TJ\\AppData\\Local\\Temp\\ipykernel_12664\\1599564416.py:7: UserWarning: You passed a edgecolor/edgecolors ('black') for an unfilled marker ('x').  Matplotlib is ignoring the edgecolor in favor of the facecolor.  This behavior may change in the future.\n",
      "  plt.scatter(x=X[y == cl, 0],\n"
     ]
    },
    {
     "data": {
      "image/png": "[encoded data removed]",
      "text/plain": [
       "<Figure size 640x480 with 1 Axes>"
      ]
     },
     "metadata": {},
     "output_type": "display_data"
    }
   ],
   "source": [
    "plt.contourf(xx1, xx2, Z, alpha=0.3, cmap=cmap)\n",
    "plt.xlim(xx1.min(), xx1.max())\n",
    "plt.ylim(xx2.min(), xx2.max())\n",
    "\n",
    "# 샘플의 산점도를 그립니다\n",
    "for idx, cl in enumerate(np.unique(y)):\n",
    "    plt.scatter(x=X[y == cl, 0], \n",
    "                y=X[y == cl, 1],\n",
    "                alpha=0.8, \n",
    "                c=colors[idx],\n",
    "                \n",
    "                marker=markers[idx], \n",
    "                label=cl, \n",
    "                edgecolor='black')\n",
    "plt.xlabel('sepal length [cm]')\n",
    "plt.ylabel('petal length [cm]')\n",
    "plt.legend(loc='upper left')\n",
    "\n",
    "# plt.savefig('images/02_08.png', dpi=300)\n",
    "plt.show()"
   ]
  },
  {
   "cell_type": "code",
   "execution_count": null,
   "metadata": {},
   "outputs": [],
   "source": []
  },
  {
   "cell_type": "code",
   "execution_count": null,
   "metadata": {},
   "outputs": [],
   "source": []
  },
  {
   "cell_type": "code",
   "execution_count": null,
   "metadata": {},
   "outputs": [],
   "source": []
  },
  {
   "cell_type": "markdown",
   "metadata": {
    "id": "WEdYJwaXqALF"
   },
   "source": [
    "<br>\n",
    "<br>"
   ]
  },
  {
   "cell_type": "markdown",
   "metadata": {
    "id": "VwzhuiRWqALF"
   },
   "source": [
    "# 적응형 선형 뉴런과 학습의 수렴"
   ]
  },
  {
   "cell_type": "markdown",
   "metadata": {
    "id": "jtCbwYz7qALF"
   },
   "source": [
    "..."
   ]
  },
  {
   "cell_type": "markdown",
   "metadata": {
    "id": "GhERmxUDqALF"
   },
   "source": [
    "## 경사 하강법으로 비용 함수 최소화"
   ]
  },
  {
   "cell_type": "code",
   "execution_count": 171,
   "metadata": {
    "colab": {
     "base_uri": "https://localhost:8080/",
     "height": 451
    },
    "execution": {
     "iopub.execute_input": "2020-10-13T15:10:56.464540Z",
     "iopub.status.busy": "2020-10-13T15:10:56.463527Z",
     "iopub.status.idle": "2020-10-13T15:10:56.520172Z",
     "shell.execute_reply": "2020-10-13T15:10:56.520593Z"
    },
    "id": "H3SPVRtIqALF",
    "outputId": "dd114d1e-2612-41a5-8b28-57c810c039c7"
   },
   "outputs": [
    {
     "data": {
      "text/html": [
       "<img src=\"https://git.io/JtIbn\" width=\"600\"/>"
      ],
      "text/plain": [
       "<IPython.core.display.Image object>"
      ]
     },
     "execution_count": 171,
     "metadata": {},
     "output_type": "execute_result"
    }
   ],
   "source": [
    "# Perceptron: 결정(임계: Threshold)함수를 통하여 이진분류\n",
    "# Adaptive Linear Neuron (Adaline: 적응형 선형 뉴런): 활성화(Activation Function)함수\n",
    "# Adaline 모델에서 활성화 함수는 입력 값을 그대로 출력으로 보내는 함수(항등함수)임\n",
    "# 따라서 없는 것과 같음. 하지만 활성화함수를 통하여 가중치를 업데이트하는 딥러닝 신경망 모델과 일치한다.\n",
    "# 비용함수(Cost Function) = 손실함수(Loss Function)\n",
    "Image(url='https://git.io/JtIbn', width=600) "
   ]
  },
  {
   "cell_type": "code",
   "execution_count": 172,
   "metadata": {
    "colab": {
     "base_uri": "https://localhost:8080/",
     "height": 275
    },
    "execution": {
     "iopub.execute_input": "2020-10-13T15:10:56.527815Z",
     "iopub.status.busy": "2020-10-13T15:10:56.526455Z",
     "iopub.status.idle": "2020-10-13T15:10:56.560118Z",
     "shell.execute_reply": "2020-10-13T15:10:56.560903Z"
    },
    "id": "tJS1Uk5ZqALF",
    "outputId": "9c1aaa61-5ecb-4384-c528-d84c51737159"
   },
   "outputs": [
    {
     "data": {
      "text/html": [
       "<img src=\"https://git.io/JtIbc\" width=\"500\"/>"
      ],
      "text/plain": [
       "<IPython.core.display.Image object>"
      ]
     },
     "execution_count": 172,
     "metadata": {},
     "output_type": "execute_result"
    }
   ],
   "source": [
    "Image(url='https://git.io/JtIbc', width=500)"
   ]
  },
  {
   "cell_type": "markdown",
   "metadata": {
    "id": "hmv7txAcqALG"
   },
   "source": [
    "<br>\n",
    "<br>"
   ]
  },
  {
   "cell_type": "markdown",
   "metadata": {
    "id": "tJ0OEDXpqALG"
   },
   "source": [
    "## 파이썬으로 아달린 구현하기"
   ]
  },
  {
   "attachments": {
    "image.png": {
     "image/png": "[encoded data removed]"
    }
   },
   "cell_type": "markdown",
   "metadata": {},
   "source": [
    "![image.png](attachment:image.png)"
   ]
  },
  {
   "cell_type": "raw",
   "metadata": {},
   "source": [
    "아래 아달린 모델에서 사용한 비용함수: SSE (Sum of Squared Error: 오차 제곱합/제곱 오차합)  \n",
    "앞에 1/2을 곱한 이유는 최소값을 구하는 과정을 기울기를 통하여 구하는데 기울기를 구하기 위해서는 미분을 해야한다.  \n",
    "위 2차방정식을 미분할때 제곱이 미분하는 과정에서 상수 2로 치환되기 때문에 계산을 위하여 편의상 곱하는 값임"
   ]
  },
  {
   "cell_type": "code",
   "execution_count": null,
   "metadata": {
    "execution": {
     "iopub.execute_input": "2020-10-13T15:10:56.582502Z",
     "iopub.status.busy": "2020-10-13T15:10:56.580804Z",
     "iopub.status.idle": "2020-10-13T15:10:56.585803Z",
     "shell.execute_reply": "2020-10-13T15:10:56.584255Z"
    },
    "id": "r_X9q8k_qALG"
   },
   "outputs": [],
   "source": [
    "class AdalineGD(object):\n",
    "    \"\"\"적응형 선형 뉴런 분류기\n",
    "\n",
    "    매개변수\n",
    "    ------------\n",
    "    eta : float\n",
    "      학습률 (0.0과 1.0 사이)\n",
    "    n_iter : int\n",
    "      훈련 데이터셋 반복 횟수\n",
    "    random_state : int\n",
    "      가중치 무작위 초기화를 위한 난수 생성기 시드\n",
    "\n",
    "    속성\n",
    "    -----------\n",
    "    w_ : 1d-array\n",
    "      학습된 가중치\n",
    "    cost_ : list\n",
    "      에포크마다 누적된 비용 함수의 제곱합\n",
    "\n",
    "    \"\"\"\n",
    "    def __init__(self, eta=0.01, n_iter=50, random_state=1):\n",
    "        self.eta = eta\n",
    "        self.n_iter = n_iter\n",
    "        self.random_state = random_state\n",
    "\n",
    "    def fit(self, X, y):\n",
    "        \"\"\"훈련 데이터 학습\n",
    "\n",
    "        매개변수\n",
    "        ----------\n",
    "        X : {array-like}, shape = [n_samples, n_features]\n",
    "          n_samples 개의 샘플과 n_features 개의 특성으로 이루어진 훈련 데이터\n",
    "        y : array-like, shape = [n_samples]\n",
    "          타깃값\n",
    "\n",
    "        반환값\n",
    "        -------\n",
    "        self : object\n",
    "\n",
    "        \"\"\"\n",
    "        rgen = np.random.RandomState(self.random_state)\n",
    "        self.w_ = rgen.normal(loc=0.0, scale=0.01, size=1 + X.shape[1])\n",
    "        self.cost_ = []\n",
    "\n",
    "        for i in range(self.n_iter):\n",
    "            net_input = self.net_input(X)\n",
    "            # 이 코드의 활성화 함수는 항등 함수(identity function)이기 때문에\n",
    "            # 아무런 효과가 없습니다.\n",
    "            # 이 대신 `output = self.net_input(X)`로 바로 쓸 수 있습니다.\n",
    "            # 이 활성화 함수는 개념적인 목적을 위해 만들었습니다.\n",
    "            # (잠시 후에 보게 될) 로지스틱 회귀의 경우 이 함수를 시그모이드 함수로 \n",
    "            # 바꾸어 로지스틱 회귀 분류기를 구현합니다.\n",
    "            output = self.activation(net_input)\n",
    "            errors = (y - output)\n",
    "            self.w_[1:] += self.eta * X.T.dot(errors)\n",
    "            self.w_[0] += self.eta * errors.sum()\n",
    "            cost = (errors**2).sum() / 2.0\n",
    "            self.cost_.append(cost)\n",
    "        return self\n",
    "\n",
    "    def net_input(self, X):\n",
    "        \"\"\"최종 입력 계산\"\"\"\n",
    "        return np.dot(X, self.w_[1:]) + self.w_[0]\n",
    "\n",
    "    def activation(self, X):\n",
    "        \"\"\"선형 활성화 계산\"\"\"\n",
    "        return X\n",
    "\n",
    "    def predict(self, X):\n",
    "        \"\"\"단위 계단 함수를 사용하여 클래스 레이블을 반환합니다\"\"\"\n",
    "        return np.where(self.activation(self.net_input(X)) >= 0.0, 1, -1)"
   ]
  },
  {
   "cell_type": "code",
   "execution_count": 173,
   "metadata": {
    "colab": {
     "base_uri": "https://localhost:8080/",
     "height": 295
    },
    "execution": {
     "iopub.execute_input": "2020-10-13T15:10:56.640703Z",
     "iopub.status.busy": "2020-10-13T15:10:56.615186Z",
     "iopub.status.idle": "2020-10-13T15:10:57.212231Z",
     "shell.execute_reply": "2020-10-13T15:10:57.213681Z"
    },
    "id": "duwyjN71qALG",
    "outputId": "0e540950-017a-4322-98c1-da2ccd6fe3ae"
   },
   "outputs": [
    {
     "data": {
      "image/png": "[encoded data removed]",
      "text/plain": [
       "<Figure size 1000x400 with 2 Axes>"
      ]
     },
     "metadata": {},
     "output_type": "display_data"
    }
   ],
   "source": [
    "fig, ax = plt.subplots(nrows=1, ncols=2, figsize=(10, 4))\n",
    "\n",
    "ada1 = AdalineGD(n_iter=10, eta=0.01).fit(X, y)\n",
    "ax[0].plot(range(1, len(ada1.cost_) + 1), np.log10(ada1.cost_), marker='o')\n",
    "ax[0].set_xlabel('Epochs')\n",
    "ax[0].set_ylabel('log(Sum-squared-error)')\n",
    "ax[0].set_title('Adaline - Learning rate 0.01')\n",
    "\n",
    "ada2 = AdalineGD(n_iter=10, eta=0.0001).fit(X, y)\n",
    "ax[1].plot(range(1, len(ada2.cost_) + 1), ada2.cost_, marker='o')\n",
    "ax[1].set_xlabel('Epochs')\n",
    "ax[1].set_ylabel('Sum-squared-error')\n",
    "ax[1].set_title('Adaline - Learning rate 0.0001')\n",
    "\n",
    "# plt.savefig('images/02_11.png', dpi=300)\n",
    "plt.show()"
   ]
  },
  {
   "cell_type": "markdown",
   "metadata": {
    "id": "j09HnTnrqALH"
   },
   "source": [
    "<br>\n",
    "<br>"
   ]
  },
  {
   "cell_type": "code",
   "execution_count": 174,
   "metadata": {
    "colab": {
     "base_uri": "https://localhost:8080/",
     "height": 261
    },
    "execution": {
     "iopub.execute_input": "2020-10-13T15:10:57.222554Z",
     "iopub.status.busy": "2020-10-13T15:10:57.221110Z",
     "iopub.status.idle": "2020-10-13T15:10:57.263875Z",
     "shell.execute_reply": "2020-10-13T15:10:57.265089Z"
    },
    "id": "4w5q2QKqqALH",
    "outputId": "16c3e77a-9901-451c-8c83-043ed4d559f0"
   },
   "outputs": [
    {
     "data": {
      "text/html": [
       "<img src=\"https://git.io/JtIb4\" width=\"700\"/>"
      ],
      "text/plain": [
       "<IPython.core.display.Image object>"
      ]
     },
     "execution_count": 174,
     "metadata": {},
     "output_type": "execute_result"
    }
   ],
   "source": [
    "Image(url='https://git.io/JtIb4', width=700) "
   ]
  },
  {
   "cell_type": "markdown",
   "metadata": {
    "id": "3i_pATdkqALH"
   },
   "source": [
    "<br>\n",
    "<br>"
   ]
  },
  {
   "cell_type": "markdown",
   "metadata": {
    "id": "6u0jOIB3qALH"
   },
   "source": [
    "## 특성 스케일을 조정하여 경사 하강법 결과 향상시키기"
   ]
  },
  {
   "cell_type": "code",
   "execution_count": 175,
   "metadata": {
    "colab": {
     "base_uri": "https://localhost:8080/",
     "height": 346
    },
    "execution": {
     "iopub.execute_input": "2020-10-13T15:10:57.273097Z",
     "iopub.status.busy": "2020-10-13T15:10:57.271618Z",
     "iopub.status.idle": "2020-10-13T15:10:57.319363Z",
     "shell.execute_reply": "2020-10-13T15:10:57.320210Z"
    },
    "id": "PZ5nowNeqALI",
    "outputId": "06719022-db08-4ae0-8d3b-68bdfe55d6f5"
   },
   "outputs": [
    {
     "data": {
      "text/html": [
       "<img src=\"https://git.io/JtIbB\" width=\"700\"/>"
      ],
      "text/plain": [
       "<IPython.core.display.Image object>"
      ]
     },
     "execution_count": 175,
     "metadata": {},
     "output_type": "execute_result"
    }
   ],
   "source": [
    "Image(url='https://git.io/JtIbB', width=700) "
   ]
  },
  {
   "cell_type": "code",
   "execution_count": null,
   "metadata": {
    "execution": {
     "iopub.execute_input": "2020-10-13T15:10:57.332752Z",
     "iopub.status.busy": "2020-10-13T15:10:57.331310Z",
     "iopub.status.idle": "2020-10-13T15:10:57.336002Z",
     "shell.execute_reply": "2020-10-13T15:10:57.334757Z"
    },
    "id": "nEBXmUTkqALI"
   },
   "outputs": [],
   "source": [
    "# 특성을 표준화합니다.\n",
    "X_std = np.copy(X)\n",
    "X_std[:, 0] = (X[:, 0] - X[:, 0].mean()) / X[:, 0].std()\n",
    "X_std[:, 1] = (X[:, 1] - X[:, 1].mean()) / X[:, 1].std()"
   ]
  },
  {
   "cell_type": "code",
   "execution_count": null,
   "metadata": {
    "colab": {
     "base_uri": "https://localhost:8080/",
     "height": 577
    },
    "execution": {
     "iopub.execute_input": "2020-10-13T15:10:57.352419Z",
     "iopub.status.busy": "2020-10-13T15:10:57.350540Z",
     "iopub.status.idle": "2020-10-13T15:10:58.151876Z",
     "shell.execute_reply": "2020-10-13T15:10:58.151183Z"
    },
    "id": "OGiKd5kvqALI",
    "outputId": "9d00703b-9e71-44ab-b1e9-c5a663efd5ac"
   },
   "outputs": [],
   "source": [
    "ada_gd = AdalineGD(n_iter=15, eta=0.01)\n",
    "ada_gd.fit(X_std, y)\n",
    "\n",
    "plot_decision_regions(X_std, y, classifier=ada_gd)\n",
    "plt.title('Adaline - Gradient Descent')\n",
    "plt.xlabel('sepal length [standardized]')\n",
    "plt.ylabel('petal length [standardized]')\n",
    "plt.legend(loc='upper left')\n",
    "plt.tight_layout()\n",
    "# plt.savefig('images/02_14_1.png', dpi=300)\n",
    "plt.show()\n",
    "\n",
    "plt.plot(range(1, len(ada_gd.cost_) + 1), ada_gd.cost_, marker='o')\n",
    "plt.xlabel('Epochs')\n",
    "plt.ylabel('Sum-squared-error')\n",
    "\n",
    "plt.tight_layout()\n",
    "# plt.savefig('images/02_14_2.png', dpi=300)\n",
    "plt.show()"
   ]
  },
  {
   "cell_type": "markdown",
   "metadata": {
    "id": "l9aKnN4fqALJ"
   },
   "source": [
    "<br>\n",
    "<br>"
   ]
  },
  {
   "cell_type": "markdown",
   "metadata": {
    "id": "hj-m4ewrqALJ"
   },
   "source": [
    "## 대규모 머신 러닝과 확률적 경사 하강법"
   ]
  },
  {
   "cell_type": "code",
   "execution_count": null,
   "metadata": {
    "execution": {
     "iopub.execute_input": "2020-10-13T15:10:58.171932Z",
     "iopub.status.busy": "2020-10-13T15:10:58.171351Z",
     "iopub.status.idle": "2020-10-13T15:10:58.174440Z",
     "shell.execute_reply": "2020-10-13T15:10:58.173990Z"
    },
    "id": "Fmyd49AbqALJ"
   },
   "outputs": [],
   "source": [
    "class AdalineSGD(object):\n",
    "    \"\"\"ADAptive LInear NEuron 분류기\n",
    "\n",
    "    Parameters\n",
    "    ------------\n",
    "    eta : float\n",
    "      학습률 (0.0과 1.0 사이)\n",
    "    n_iter : int\n",
    "      훈련 데이터셋 반복 횟수\n",
    "    shuffle : bool (default: True)\n",
    "      True로 설정하면 같은 반복이 되지 않도록 에포크마다 훈련 데이터를 섞습니다\n",
    "    random_state : int\n",
    "      가중치 무작위 초기화를 위한 난수 생성기 시드\n",
    "\n",
    "    Attributes\n",
    "    -----------\n",
    "    w_ : 1d-array\n",
    "      학습된 가중치\n",
    "    cost_ : list\n",
    "      모든 훈련 샘플에 대해 에포크마다 누적된 평균 비용 함수의 제곱합\n",
    "\n",
    "    \"\"\"\n",
    "    def __init__(self, eta=0.01, n_iter=10, shuffle=True, random_state=None):\n",
    "        self.eta = eta\n",
    "        self.n_iter = n_iter\n",
    "        self.w_initialized = False\n",
    "        self.shuffle = shuffle\n",
    "        self.random_state = random_state\n",
    "        \n",
    "    def fit(self, X, y):\n",
    "        \"\"\"훈련 데이터 학습\n",
    "\n",
    "        Parameters\n",
    "        ----------\n",
    "        X : {array-like}, shape = [n_samples, n_features]\n",
    "          n_samples 개의 샘플과 n_features 개의 특성으로 이루어진 훈련 데이터\n",
    "        y : array-like, shape = [n_samples]\n",
    "          타깃 벡터\n",
    "\n",
    "        반환값\n",
    "        -------\n",
    "        self : object\n",
    "\n",
    "        \"\"\"\n",
    "        self._initialize_weights(X.shape[1])\n",
    "        self.cost_ = []\n",
    "        for i in range(self.n_iter):\n",
    "            if self.shuffle:\n",
    "                X, y = self._shuffle(X, y)\n",
    "            cost = []\n",
    "            for xi, target in zip(X, y):\n",
    "                cost.append(self._update_weights(xi, target))\n",
    "            avg_cost = sum(cost) / len(y)\n",
    "            self.cost_.append(avg_cost)\n",
    "        return self\n",
    "\n",
    "    def partial_fit(self, X, y):\n",
    "        \"\"\"가중치를 다시 초기화하지 않고 훈련 데이터를 학습합니다\"\"\"\n",
    "        if not self.w_initialized:\n",
    "            self._initialize_weights(X.shape[1])\n",
    "        if y.ravel().shape[0] > 1:\n",
    "            for xi, target in zip(X, y):\n",
    "                self._update_weights(xi, target)\n",
    "        else:\n",
    "            self._update_weights(X, y)\n",
    "        return self\n",
    "\n",
    "    def _shuffle(self, X, y):\n",
    "        \"\"\"훈련 데이터를 섞습니다\"\"\"\n",
    "        r = self.rgen.permutation(len(y))\n",
    "        return X[r], y[r]\n",
    "    \n",
    "    def _initialize_weights(self, m):\n",
    "        \"\"\"랜덤한 작은 수로 가중치를 초기화합니다\"\"\"\n",
    "        self.rgen = np.random.RandomState(self.random_state)\n",
    "        self.w_ = self.rgen.normal(loc=0.0, scale=0.01, size=1 + m)\n",
    "        self.w_initialized = True\n",
    "        \n",
    "    def _update_weights(self, xi, target):\n",
    "        \"\"\"아달린 학습 규칙을 적용하여 가중치를 업데이트합니다\"\"\"\n",
    "        output = self.activation(self.net_input(xi))\n",
    "        error = (target - output)\n",
    "        self.w_[1:] += self.eta * xi.dot(error)\n",
    "        self.w_[0] += self.eta * error\n",
    "        cost = 0.5 * error**2\n",
    "        return cost\n",
    "    \n",
    "    def net_input(self, X):\n",
    "        \"\"\"입력 계산\"\"\"\n",
    "        return np.dot(X, self.w_[1:]) + self.w_[0]\n",
    "\n",
    "    def activation(self, X):\n",
    "        \"\"\"선형 활성화 계산\"\"\"\n",
    "        return X\n",
    "\n",
    "    def predict(self, X):\n",
    "        \"\"\"단위 계단 함수를 사용하여 클래스 레이블을 반환합니다\"\"\"\n",
    "        return np.where(self.activation(self.net_input(X)) >= 0.0, 1, -1)"
   ]
  },
  {
   "cell_type": "code",
   "execution_count": null,
   "metadata": {
    "colab": {
     "base_uri": "https://localhost:8080/",
     "height": 577
    },
    "execution": {
     "iopub.execute_input": "2020-10-13T15:10:58.182211Z",
     "iopub.status.busy": "2020-10-13T15:10:58.181685Z",
     "iopub.status.idle": "2020-10-13T15:10:59.021061Z",
     "shell.execute_reply": "2020-10-13T15:10:59.020293Z"
    },
    "id": "CL_zIPSEqALJ",
    "outputId": "663be36e-787e-41e4-a861-a0eda635e61d"
   },
   "outputs": [],
   "source": [
    "ada_sgd = AdalineSGD(n_iter=15, eta=0.01, random_state=1)\n",
    "ada_sgd.fit(X_std, y)\n",
    "\n",
    "plot_decision_regions(X_std, y, classifier=ada_sgd)\n",
    "plt.title('Adaline - Stochastic Gradient Descent')\n",
    "plt.xlabel('sepal length [standardized]')\n",
    "plt.ylabel('petal length [standardized]')\n",
    "plt.legend(loc='upper left')\n",
    "\n",
    "plt.tight_layout()\n",
    "# plt.savefig('images/02_15_1.png', dpi=300)\n",
    "plt.show()\n",
    "\n",
    "plt.plot(range(1, len(ada_sgd.cost_) + 1), ada_sgd.cost_, marker='o')\n",
    "plt.xlabel('Epochs')\n",
    "plt.ylabel('Average Cost')\n",
    "\n",
    "plt.tight_layout()\n",
    "# plt.savefig('images/02_15_2.png', dpi=300)\n",
    "plt.show()"
   ]
  },
  {
   "cell_type": "code",
   "execution_count": null,
   "metadata": {
    "colab": {
     "base_uri": "https://localhost:8080/"
    },
    "execution": {
     "iopub.execute_input": "2020-10-13T15:10:59.028098Z",
     "iopub.status.busy": "2020-10-13T15:10:59.027571Z",
     "iopub.status.idle": "2020-10-13T15:10:59.032180Z",
     "shell.execute_reply": "2020-10-13T15:10:59.031725Z"
    },
    "id": "8MIHsvCsqALK",
    "outputId": "9309e527-eed2-4f8e-8aa4-9a6d6b9da4db"
   },
   "outputs": [],
   "source": [
    "ada_sgd.partial_fit(X_std[0, :], y[0])"
   ]
  },
  {
   "cell_type": "markdown",
   "metadata": {
    "id": "H98ahObaqALK"
   },
   "source": [
    "<br>\n",
    "<br>"
   ]
  },
  {
   "cell_type": "markdown",
   "metadata": {
    "id": "HN8hlUaHqALL"
   },
   "source": [
    "# 요약"
   ]
  },
  {
   "cell_type": "markdown",
   "metadata": {
    "id": "6zpIsTtMqALL"
   },
   "source": [
    "..."
   ]
  }
 ],
 "metadata": {
  "anaconda-cloud": {},
  "colab": {
   "name": "ch02.ipynb",
   "provenance": []
  },
  "kernelspec": {
   "display_name": "Python 3 (ipykernel)",
   "language": "python",
   "name": "python3"
  },
  "language_info": {
   "codemirror_mode": {
    "name": "ipython",
    "version": 3
   },
   "file_extension": ".py",
   "mimetype": "text/x-python",
   "name": "python",
   "nbconvert_exporter": "python",
   "pygments_lexer": "ipython3",
   "version": "3.9.13"
  }
 },
 "nbformat": 4,
 "nbformat_minor": 4
}
