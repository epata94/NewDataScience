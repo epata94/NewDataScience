{
 "cells": [
  {
   "cell_type": "code",
   "execution_count": 4,
   "metadata": {},
   "outputs": [
    {
     "ename": "SyntaxError",
     "evalue": "'break' outside loop (<ipython-input-4-149c15b24822>, line 53)",
     "output_type": "error",
     "traceback": [
      "\u001b[1;36m  File \u001b[1;32m\"<ipython-input-4-149c15b24822>\"\u001b[1;36m, line \u001b[1;32m53\u001b[0m\n\u001b[1;33m    break\u001b[0m\n\u001b[1;37m    ^\u001b[0m\n\u001b[1;31mSyntaxError\u001b[0m\u001b[1;31m:\u001b[0m 'break' outside loop\n"
     ]
    }
   ],
   "source": [
    "import sys\n",
    "\n",
    "class vend_machine:\n",
    "    def __init__(self):\n",
    "        self.product = {'커피': 200, '라떼': 300, '생수': 400}\n",
    "        self.in_money = 0\n",
    "        self.choice = 0\n",
    "        self.cnt = 0\n",
    "\n",
    "    def money(self):\n",
    "        self.in_money = int(input(\"돈을 넣어주세요 : \"))\n",
    "\n",
    "    def add_money(self):\n",
    "        while True:\n",
    "            check = input(\"돈을 추가하시겠습니까?(Y/N) : \")\n",
    "            if check == 'Y':\n",
    "                self.in_money += int(input(\"추가금액 : \"))\n",
    "                break\n",
    "            elif check == 'N':\n",
    "                self.get_describe()\n",
    "                break\n",
    "            else:\n",
    "                print(\"잘못된 입력입니다.\")\n",
    "\n",
    "    def select(self):\n",
    "        print(\"%d원이 있습니다.\" % self.in_money)\n",
    "        choice = int(input(\"\"\"원하는 음료를 고르시오.\\n1.커피 2.라떼 3.생수   0.종료\\n 200원 300원 400원\\n: \"\"\"))\n",
    "        if 1 <= choice <= len(self.product):\n",
    "            self.choice = list(self.product.keys())[choice - 1]\n",
    "            while True:\n",
    "                self.cnt = int(input(\"수량 : \"))\n",
    "                can_buy = (self.in_money // self.product[self.choice])\n",
    "                if self.cnt > can_buy:\n",
    "                    print(\"최대 가능 수량은\", can_buy, \"개입니다.\")\n",
    "                elif can_buy == 0:\n",
    "                    self.add_money()\n",
    "                else:\n",
    "                    break\n",
    "        elif choice == 0:\n",
    "            self.get_describe()\n",
    "        else:\n",
    "            print(\"다시 선택해주세요\")\n",
    "            self.select()\n",
    "\n",
    "        self.get_drink()\n",
    "\n",
    "    def get_drink(self):\n",
    "        self.in_money -= self.product[self.choice] * self.cnt\n",
    "        print(self.choice, self.cnt, \"잔을 드립니다.\\n남은돈 : \", self.in_money)\n",
    "\n",
    "        choice = int(input(\"1. 계속구매  2.종료\\n: \"))\n",
    "        if choice == 2:\n",
    "            break\n",
    "            # sys.exit()\n",
    "\n",
    "\n",
    "    def get_describe(self):\n",
    "        print('잔돈이 %d원 반환되었습니다.' % self.in_money)\n",
    "        break\n",
    "        # sys.exit()\n",
    "\n",
    "\n",
    "vm = vend_machine()\n",
    "vm.money()\n",
    "while True:\n",
    "    if vm.in_money < min(vm.product.values()):\n",
    "        print(\"구매하기엔 돈이 부족합니다.\")\n",
    "        vm.add_money()\n",
    "\n",
    "    vm.select()"
   ]
  },
  {
   "cell_type": "code",
   "execution_count": null,
   "metadata": {},
   "outputs": [],
   "source": []
  }
 ],
 "metadata": {
  "kernelspec": {
   "display_name": "Python 3",
   "language": "python",
   "name": "python3"
  },
  "language_info": {
   "codemirror_mode": {
    "name": "ipython",
    "version": 3
   },
   "file_extension": ".py",
   "mimetype": "text/x-python",
   "name": "python",
   "nbconvert_exporter": "python",
   "pygments_lexer": "ipython3",
   "version": "3.8.3"
  }
 },
 "nbformat": 4,
 "nbformat_minor": 4
}
