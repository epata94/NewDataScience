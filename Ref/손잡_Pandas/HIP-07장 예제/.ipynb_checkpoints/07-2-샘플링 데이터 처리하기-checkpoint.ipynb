{
 "cells": [
  {
   "cell_type": "code",
   "execution_count": 1,
   "metadata": {},
   "outputs": [],
   "source": [
    "import pandas as pd"
   ]
  },
  {
   "cell_type": "markdown",
   "metadata": {},
   "source": [
    "## 예제 7-4   샘플링 데이터 처리하기"
   ]
  },
  {
   "cell_type": "markdown",
   "metadata": {},
   "source": [
    "!python -m pip install --upgrade pip"
   ]
  },
  {
   "cell_type": "markdown",
   "metadata": {},
   "source": [
    "!pip install pandas_datareader --upgrade"
   ]
  },
  {
   "cell_type": "code",
   "execution_count": 2,
   "metadata": {},
   "outputs": [],
   "source": [
    "from pandas_datareader import data"
   ]
  },
  {
   "cell_type": "code",
   "execution_count": 3,
   "metadata": {},
   "outputs": [],
   "source": [
    "import datetime"
   ]
  },
  {
   "cell_type": "code",
   "execution_count": 4,
   "metadata": {},
   "outputs": [],
   "source": [
    "start = datetime.datetime(2018, 1, 2)"
   ]
  },
  {
   "cell_type": "code",
   "execution_count": 5,
   "metadata": {},
   "outputs": [],
   "source": [
    "end = datetime.datetime(2018, 4, 3)"
   ]
  },
  {
   "cell_type": "code",
   "execution_count": 6,
   "metadata": {},
   "outputs": [],
   "source": [
    "cel = data.DataReader(\"068270.KS\", \"yahoo\", start, end)"
   ]
  },
  {
   "cell_type": "code",
   "execution_count": 7,
   "metadata": {},
   "outputs": [
    {
     "data": {
      "text/html": [
       "<div>\n",
       "<style scoped>\n",
       "    .dataframe tbody tr th:only-of-type {\n",
       "        vertical-align: middle;\n",
       "    }\n",
       "\n",
       "    .dataframe tbody tr th {\n",
       "        vertical-align: top;\n",
       "    }\n",
       "\n",
       "    .dataframe thead th {\n",
       "        text-align: right;\n",
       "    }\n",
       "</style>\n",
       "<table border=\"1\" class=\"dataframe\">\n",
       "  <thead>\n",
       "    <tr style=\"text-align: right;\">\n",
       "      <th></th>\n",
       "      <th>High</th>\n",
       "      <th>Low</th>\n",
       "      <th>Open</th>\n",
       "      <th>Close</th>\n",
       "      <th>Volume</th>\n",
       "      <th>Adj Close</th>\n",
       "    </tr>\n",
       "    <tr>\n",
       "      <th>Date</th>\n",
       "      <th></th>\n",
       "      <th></th>\n",
       "      <th></th>\n",
       "      <th></th>\n",
       "      <th></th>\n",
       "      <th></th>\n",
       "    </tr>\n",
       "  </thead>\n",
       "  <tbody>\n",
       "    <tr>\n",
       "      <th>2018-01-03</th>\n",
       "      <td>230812</td>\n",
       "      <td>212045</td>\n",
       "      <td>213725</td>\n",
       "      <td>230345</td>\n",
       "      <td>2582354</td>\n",
       "      <td>230345</td>\n",
       "    </tr>\n",
       "    <tr>\n",
       "      <th>2018-01-04</th>\n",
       "      <td>243884</td>\n",
       "      <td>229038</td>\n",
       "      <td>233053</td>\n",
       "      <td>233427</td>\n",
       "      <td>3497379</td>\n",
       "      <td>233427</td>\n",
       "    </tr>\n",
       "    <tr>\n",
       "      <th>2018-01-05</th>\n",
       "      <td>249300</td>\n",
       "      <td>237162</td>\n",
       "      <td>238002</td>\n",
       "      <td>249206</td>\n",
       "      <td>2057303</td>\n",
       "      <td>249206</td>\n",
       "    </tr>\n",
       "    <tr>\n",
       "      <th>2018-01-08</th>\n",
       "      <td>283100</td>\n",
       "      <td>258824</td>\n",
       "      <td>260037</td>\n",
       "      <td>282446</td>\n",
       "      <td>4603982</td>\n",
       "      <td>282446</td>\n",
       "    </tr>\n",
       "    <tr>\n",
       "      <th>2018-01-09</th>\n",
       "      <td>298786</td>\n",
       "      <td>271895</td>\n",
       "      <td>283847</td>\n",
       "      <td>273109</td>\n",
       "      <td>5471400</td>\n",
       "      <td>273109</td>\n",
       "    </tr>\n",
       "  </tbody>\n",
       "</table>\n",
       "</div>"
      ],
      "text/plain": [
       "              High     Low    Open   Close   Volume  Adj Close\n",
       "Date                                                          \n",
       "2018-01-03  230812  212045  213725  230345  2582354     230345\n",
       "2018-01-04  243884  229038  233053  233427  3497379     233427\n",
       "2018-01-05  249300  237162  238002  249206  2057303     249206\n",
       "2018-01-08  283100  258824  260037  282446  4603982     282446\n",
       "2018-01-09  298786  271895  283847  273109  5471400     273109"
      ]
     },
     "execution_count": 7,
     "metadata": {},
     "output_type": "execute_result"
    }
   ],
   "source": [
    "cel.head()"
   ]
  },
  {
   "cell_type": "code",
   "execution_count": null,
   "metadata": {},
   "outputs": [],
   "source": []
  },
  {
   "cell_type": "code",
   "execution_count": 8,
   "metadata": {},
   "outputs": [
    {
     "data": {
      "text/html": [
       "<div>\n",
       "<style scoped>\n",
       "    .dataframe tbody tr th:only-of-type {\n",
       "        vertical-align: middle;\n",
       "    }\n",
       "\n",
       "    .dataframe tbody tr th {\n",
       "        vertical-align: top;\n",
       "    }\n",
       "\n",
       "    .dataframe thead th {\n",
       "        text-align: right;\n",
       "    }\n",
       "</style>\n",
       "<table border=\"1\" class=\"dataframe\">\n",
       "  <thead>\n",
       "    <tr style=\"text-align: right;\">\n",
       "      <th></th>\n",
       "      <th>High</th>\n",
       "      <th>Low</th>\n",
       "      <th>Open</th>\n",
       "      <th>Close</th>\n",
       "      <th>Volume</th>\n",
       "      <th>Adj Close</th>\n",
       "    </tr>\n",
       "    <tr>\n",
       "      <th>Date</th>\n",
       "      <th></th>\n",
       "      <th></th>\n",
       "      <th></th>\n",
       "      <th></th>\n",
       "      <th></th>\n",
       "      <th></th>\n",
       "    </tr>\n",
       "  </thead>\n",
       "  <tbody>\n",
       "    <tr>\n",
       "      <th>2018-02-02</th>\n",
       "      <td>286088</td>\n",
       "      <td>270775</td>\n",
       "      <td>280392</td>\n",
       "      <td>281419</td>\n",
       "      <td>1764643</td>\n",
       "      <td>281419</td>\n",
       "    </tr>\n",
       "    <tr>\n",
       "      <th>2018-01-16</th>\n",
       "      <td>327171</td>\n",
       "      <td>312979</td>\n",
       "      <td>318394</td>\n",
       "      <td>324370</td>\n",
       "      <td>1766752</td>\n",
       "      <td>324370</td>\n",
       "    </tr>\n",
       "    <tr>\n",
       "      <th>2018-01-03</th>\n",
       "      <td>230812</td>\n",
       "      <td>212045</td>\n",
       "      <td>213725</td>\n",
       "      <td>230345</td>\n",
       "      <td>2582354</td>\n",
       "      <td>230345</td>\n",
       "    </tr>\n",
       "  </tbody>\n",
       "</table>\n",
       "</div>"
      ],
      "text/plain": [
       "              High     Low    Open   Close   Volume  Adj Close\n",
       "Date                                                          \n",
       "2018-02-02  286088  270775  280392  281419  1764643     281419\n",
       "2018-01-16  327171  312979  318394  324370  1766752     324370\n",
       "2018-01-03  230812  212045  213725  230345  2582354     230345"
      ]
     },
     "execution_count": 8,
     "metadata": {},
     "output_type": "execute_result"
    }
   ],
   "source": [
    "cel.sample(n=3)"
   ]
  },
  {
   "cell_type": "code",
   "execution_count": 9,
   "metadata": {},
   "outputs": [
    {
     "data": {
      "text/html": [
       "<div>\n",
       "<style scoped>\n",
       "    .dataframe tbody tr th:only-of-type {\n",
       "        vertical-align: middle;\n",
       "    }\n",
       "\n",
       "    .dataframe tbody tr th {\n",
       "        vertical-align: top;\n",
       "    }\n",
       "\n",
       "    .dataframe thead th {\n",
       "        text-align: right;\n",
       "    }\n",
       "</style>\n",
       "<table border=\"1\" class=\"dataframe\">\n",
       "  <thead>\n",
       "    <tr style=\"text-align: right;\">\n",
       "      <th></th>\n",
       "      <th>High</th>\n",
       "      <th>Low</th>\n",
       "      <th>Open</th>\n",
       "      <th>Close</th>\n",
       "      <th>Volume</th>\n",
       "      <th>Adj Close</th>\n",
       "    </tr>\n",
       "    <tr>\n",
       "      <th>Date</th>\n",
       "      <th></th>\n",
       "      <th></th>\n",
       "      <th></th>\n",
       "      <th></th>\n",
       "      <th></th>\n",
       "      <th></th>\n",
       "    </tr>\n",
       "  </thead>\n",
       "  <tbody>\n",
       "    <tr>\n",
       "      <th>2018-03-09</th>\n",
       "      <td>331466</td>\n",
       "      <td>301587</td>\n",
       "      <td>322596</td>\n",
       "      <td>304388</td>\n",
       "      <td>3811334</td>\n",
       "      <td>304388</td>\n",
       "    </tr>\n",
       "    <tr>\n",
       "      <th>2018-02-26</th>\n",
       "      <td>306256</td>\n",
       "      <td>299253</td>\n",
       "      <td>299720</td>\n",
       "      <td>304855</td>\n",
       "      <td>885860</td>\n",
       "      <td>304855</td>\n",
       "    </tr>\n",
       "    <tr>\n",
       "      <th>2018-03-05</th>\n",
       "      <td>366013</td>\n",
       "      <td>333333</td>\n",
       "      <td>360878</td>\n",
       "      <td>348740</td>\n",
       "      <td>3359031</td>\n",
       "      <td>348740</td>\n",
       "    </tr>\n",
       "  </tbody>\n",
       "</table>\n",
       "</div>"
      ],
      "text/plain": [
       "              High     Low    Open   Close   Volume  Adj Close\n",
       "Date                                                          \n",
       "2018-03-09  331466  301587  322596  304388  3811334     304388\n",
       "2018-02-26  306256  299253  299720  304855   885860     304855\n",
       "2018-03-05  366013  333333  360878  348740  3359031     348740"
      ]
     },
     "execution_count": 9,
     "metadata": {},
     "output_type": "execute_result"
    }
   ],
   "source": [
    "cel.sample(n=3)"
   ]
  },
  {
   "cell_type": "code",
   "execution_count": null,
   "metadata": {},
   "outputs": [],
   "source": []
  },
  {
   "cell_type": "markdown",
   "metadata": {},
   "source": [
    "#### 무작위적으로 처리"
   ]
  },
  {
   "cell_type": "code",
   "execution_count": 10,
   "metadata": {},
   "outputs": [
    {
     "data": {
      "text/html": [
       "<div>\n",
       "<style scoped>\n",
       "    .dataframe tbody tr th:only-of-type {\n",
       "        vertical-align: middle;\n",
       "    }\n",
       "\n",
       "    .dataframe tbody tr th {\n",
       "        vertical-align: top;\n",
       "    }\n",
       "\n",
       "    .dataframe thead th {\n",
       "        text-align: right;\n",
       "    }\n",
       "</style>\n",
       "<table border=\"1\" class=\"dataframe\">\n",
       "  <thead>\n",
       "    <tr style=\"text-align: right;\">\n",
       "      <th></th>\n",
       "      <th>High</th>\n",
       "      <th>Low</th>\n",
       "      <th>Open</th>\n",
       "      <th>Close</th>\n",
       "      <th>Volume</th>\n",
       "      <th>Adj Close</th>\n",
       "    </tr>\n",
       "    <tr>\n",
       "      <th>Date</th>\n",
       "      <th></th>\n",
       "      <th></th>\n",
       "      <th></th>\n",
       "      <th></th>\n",
       "      <th></th>\n",
       "      <th></th>\n",
       "    </tr>\n",
       "  </thead>\n",
       "  <tbody>\n",
       "    <tr>\n",
       "      <th>2018-02-21</th>\n",
       "      <td>290850</td>\n",
       "      <td>281979</td>\n",
       "      <td>283847</td>\n",
       "      <td>287115</td>\n",
       "      <td>776647</td>\n",
       "      <td>287115</td>\n",
       "    </tr>\n",
       "    <tr>\n",
       "      <th>2018-02-06</th>\n",
       "      <td>271895</td>\n",
       "      <td>254155</td>\n",
       "      <td>257890</td>\n",
       "      <td>265359</td>\n",
       "      <td>2780682</td>\n",
       "      <td>265359</td>\n",
       "    </tr>\n",
       "    <tr>\n",
       "      <th>2018-03-08</th>\n",
       "      <td>330532</td>\n",
       "      <td>308590</td>\n",
       "      <td>309057</td>\n",
       "      <td>330532</td>\n",
       "      <td>8291062</td>\n",
       "      <td>330532</td>\n",
       "    </tr>\n",
       "  </tbody>\n",
       "</table>\n",
       "</div>"
      ],
      "text/plain": [
       "              High     Low    Open   Close   Volume  Adj Close\n",
       "Date                                                          \n",
       "2018-02-21  290850  281979  283847  287115   776647     287115\n",
       "2018-02-06  271895  254155  257890  265359  2780682     265359\n",
       "2018-03-08  330532  308590  309057  330532  8291062     330532"
      ]
     },
     "execution_count": 10,
     "metadata": {},
     "output_type": "execute_result"
    }
   ],
   "source": [
    "cel.sample(n=3,replace=True)"
   ]
  },
  {
   "cell_type": "code",
   "execution_count": 11,
   "metadata": {},
   "outputs": [
    {
     "data": {
      "text/plain": [
       "(62, 6)"
      ]
     },
     "execution_count": 11,
     "metadata": {},
     "output_type": "execute_result"
    }
   ],
   "source": [
    "cel.shape"
   ]
  },
  {
   "cell_type": "code",
   "execution_count": 12,
   "metadata": {},
   "outputs": [
    {
     "data": {
      "text/plain": [
       "6"
      ]
     },
     "execution_count": 12,
     "metadata": {},
     "output_type": "execute_result"
    }
   ],
   "source": [
    "int(cel.shape[0]/10)"
   ]
  },
  {
   "cell_type": "code",
   "execution_count": 13,
   "metadata": {},
   "outputs": [
    {
     "data": {
      "text/html": [
       "<div>\n",
       "<style scoped>\n",
       "    .dataframe tbody tr th:only-of-type {\n",
       "        vertical-align: middle;\n",
       "    }\n",
       "\n",
       "    .dataframe tbody tr th {\n",
       "        vertical-align: top;\n",
       "    }\n",
       "\n",
       "    .dataframe thead th {\n",
       "        text-align: right;\n",
       "    }\n",
       "</style>\n",
       "<table border=\"1\" class=\"dataframe\">\n",
       "  <thead>\n",
       "    <tr style=\"text-align: right;\">\n",
       "      <th></th>\n",
       "      <th>High</th>\n",
       "      <th>Low</th>\n",
       "      <th>Open</th>\n",
       "      <th>Close</th>\n",
       "      <th>Volume</th>\n",
       "      <th>Adj Close</th>\n",
       "    </tr>\n",
       "    <tr>\n",
       "      <th>Date</th>\n",
       "      <th></th>\n",
       "      <th></th>\n",
       "      <th></th>\n",
       "      <th></th>\n",
       "      <th></th>\n",
       "      <th></th>\n",
       "    </tr>\n",
       "  </thead>\n",
       "  <tbody>\n",
       "    <tr>\n",
       "      <th>2018-03-29</th>\n",
       "      <td>296919</td>\n",
       "      <td>275444</td>\n",
       "      <td>277311</td>\n",
       "      <td>295985</td>\n",
       "      <td>2094550</td>\n",
       "      <td>295985</td>\n",
       "    </tr>\n",
       "    <tr>\n",
       "      <th>2018-02-19</th>\n",
       "      <td>304388</td>\n",
       "      <td>290850</td>\n",
       "      <td>304388</td>\n",
       "      <td>295518</td>\n",
       "      <td>1440786</td>\n",
       "      <td>295518</td>\n",
       "    </tr>\n",
       "    <tr>\n",
       "      <th>2018-02-06</th>\n",
       "      <td>271895</td>\n",
       "      <td>254155</td>\n",
       "      <td>257890</td>\n",
       "      <td>265359</td>\n",
       "      <td>2780682</td>\n",
       "      <td>265359</td>\n",
       "    </tr>\n",
       "    <tr>\n",
       "      <th>2018-04-03</th>\n",
       "      <td>284314</td>\n",
       "      <td>277311</td>\n",
       "      <td>279645</td>\n",
       "      <td>279178</td>\n",
       "      <td>931887</td>\n",
       "      <td>279178</td>\n",
       "    </tr>\n",
       "    <tr>\n",
       "      <th>2018-03-07</th>\n",
       "      <td>328198</td>\n",
       "      <td>302988</td>\n",
       "      <td>323996</td>\n",
       "      <td>303455</td>\n",
       "      <td>8126833</td>\n",
       "      <td>303455</td>\n",
       "    </tr>\n",
       "    <tr>\n",
       "      <th>2018-01-25</th>\n",
       "      <td>275444</td>\n",
       "      <td>263585</td>\n",
       "      <td>271989</td>\n",
       "      <td>270495</td>\n",
       "      <td>1492804</td>\n",
       "      <td>270495</td>\n",
       "    </tr>\n",
       "  </tbody>\n",
       "</table>\n",
       "</div>"
      ],
      "text/plain": [
       "              High     Low    Open   Close   Volume  Adj Close\n",
       "Date                                                          \n",
       "2018-03-29  296919  275444  277311  295985  2094550     295985\n",
       "2018-02-19  304388  290850  304388  295518  1440786     295518\n",
       "2018-02-06  271895  254155  257890  265359  2780682     265359\n",
       "2018-04-03  284314  277311  279645  279178   931887     279178\n",
       "2018-03-07  328198  302988  323996  303455  8126833     303455\n",
       "2018-01-25  275444  263585  271989  270495  1492804     270495"
      ]
     },
     "execution_count": 13,
     "metadata": {},
     "output_type": "execute_result"
    }
   ],
   "source": [
    "cel.sample(frac=0.1)"
   ]
  },
  {
   "cell_type": "code",
   "execution_count": 14,
   "metadata": {},
   "outputs": [
    {
     "data": {
      "text/html": [
       "<div>\n",
       "<style scoped>\n",
       "    .dataframe tbody tr th:only-of-type {\n",
       "        vertical-align: middle;\n",
       "    }\n",
       "\n",
       "    .dataframe tbody tr th {\n",
       "        vertical-align: top;\n",
       "    }\n",
       "\n",
       "    .dataframe thead th {\n",
       "        text-align: right;\n",
       "    }\n",
       "</style>\n",
       "<table border=\"1\" class=\"dataframe\">\n",
       "  <thead>\n",
       "    <tr style=\"text-align: right;\">\n",
       "      <th></th>\n",
       "      <th>High</th>\n",
       "      <th>Low</th>\n",
       "      <th>Open</th>\n",
       "      <th>Close</th>\n",
       "      <th>Volume</th>\n",
       "      <th>Adj Close</th>\n",
       "    </tr>\n",
       "    <tr>\n",
       "      <th>Date</th>\n",
       "      <th></th>\n",
       "      <th></th>\n",
       "      <th></th>\n",
       "      <th></th>\n",
       "      <th></th>\n",
       "      <th></th>\n",
       "    </tr>\n",
       "  </thead>\n",
       "  <tbody>\n",
       "    <tr>\n",
       "      <th>2018-01-23</th>\n",
       "      <td>280205</td>\n",
       "      <td>264799</td>\n",
       "      <td>267787</td>\n",
       "      <td>279178</td>\n",
       "      <td>2403152</td>\n",
       "      <td>279178</td>\n",
       "    </tr>\n",
       "    <tr>\n",
       "      <th>2018-03-07</th>\n",
       "      <td>328198</td>\n",
       "      <td>302988</td>\n",
       "      <td>323996</td>\n",
       "      <td>303455</td>\n",
       "      <td>8126833</td>\n",
       "      <td>303455</td>\n",
       "    </tr>\n",
       "    <tr>\n",
       "      <th>2018-02-27</th>\n",
       "      <td>330999</td>\n",
       "      <td>308590</td>\n",
       "      <td>311858</td>\n",
       "      <td>327731</td>\n",
       "      <td>2246829</td>\n",
       "      <td>327731</td>\n",
       "    </tr>\n",
       "    <tr>\n",
       "      <th>2018-03-09</th>\n",
       "      <td>331466</td>\n",
       "      <td>301587</td>\n",
       "      <td>322596</td>\n",
       "      <td>304388</td>\n",
       "      <td>3811334</td>\n",
       "      <td>304388</td>\n",
       "    </tr>\n",
       "    <tr>\n",
       "      <th>2018-03-22</th>\n",
       "      <td>297852</td>\n",
       "      <td>284781</td>\n",
       "      <td>291317</td>\n",
       "      <td>289916</td>\n",
       "      <td>1260721</td>\n",
       "      <td>289916</td>\n",
       "    </tr>\n",
       "    <tr>\n",
       "      <th>2018-01-26</th>\n",
       "      <td>281699</td>\n",
       "      <td>263585</td>\n",
       "      <td>267974</td>\n",
       "      <td>280112</td>\n",
       "      <td>1699214</td>\n",
       "      <td>280112</td>\n",
       "    </tr>\n",
       "  </tbody>\n",
       "</table>\n",
       "</div>"
      ],
      "text/plain": [
       "              High     Low    Open   Close   Volume  Adj Close\n",
       "Date                                                          \n",
       "2018-01-23  280205  264799  267787  279178  2403152     279178\n",
       "2018-03-07  328198  302988  323996  303455  8126833     303455\n",
       "2018-02-27  330999  308590  311858  327731  2246829     327731\n",
       "2018-03-09  331466  301587  322596  304388  3811334     304388\n",
       "2018-03-22  297852  284781  291317  289916  1260721     289916\n",
       "2018-01-26  281699  263585  267974  280112  1699214     280112"
      ]
     },
     "execution_count": 14,
     "metadata": {},
     "output_type": "execute_result"
    }
   ],
   "source": [
    "cel.sample(frac=0.1,replace=True)"
   ]
  },
  {
   "cell_type": "code",
   "execution_count": null,
   "metadata": {},
   "outputs": [],
   "source": []
  },
  {
   "cell_type": "code",
   "execution_count": 15,
   "metadata": {},
   "outputs": [
    {
     "data": {
      "text/html": [
       "<div>\n",
       "<style scoped>\n",
       "    .dataframe tbody tr th:only-of-type {\n",
       "        vertical-align: middle;\n",
       "    }\n",
       "\n",
       "    .dataframe tbody tr th {\n",
       "        vertical-align: top;\n",
       "    }\n",
       "\n",
       "    .dataframe thead th {\n",
       "        text-align: right;\n",
       "    }\n",
       "</style>\n",
       "<table border=\"1\" class=\"dataframe\">\n",
       "  <thead>\n",
       "    <tr style=\"text-align: right;\">\n",
       "      <th></th>\n",
       "      <th>High</th>\n",
       "      <th>Low</th>\n",
       "      <th>Open</th>\n",
       "      <th>Close</th>\n",
       "      <th>Volume</th>\n",
       "      <th>Adj Close</th>\n",
       "    </tr>\n",
       "    <tr>\n",
       "      <th>Date</th>\n",
       "      <th></th>\n",
       "      <th></th>\n",
       "      <th></th>\n",
       "      <th></th>\n",
       "      <th></th>\n",
       "      <th></th>\n",
       "    </tr>\n",
       "  </thead>\n",
       "  <tbody>\n",
       "    <tr>\n",
       "      <th>2018-01-18</th>\n",
       "      <td>301961</td>\n",
       "      <td>285341</td>\n",
       "      <td>288422</td>\n",
       "      <td>298133</td>\n",
       "      <td>2092865</td>\n",
       "      <td>298133</td>\n",
       "    </tr>\n",
       "    <tr>\n",
       "      <th>2018-02-12</th>\n",
       "      <td>290850</td>\n",
       "      <td>275444</td>\n",
       "      <td>275910</td>\n",
       "      <td>282446</td>\n",
       "      <td>2262290</td>\n",
       "      <td>282446</td>\n",
       "    </tr>\n",
       "    <tr>\n",
       "      <th>2018-03-22</th>\n",
       "      <td>297852</td>\n",
       "      <td>284781</td>\n",
       "      <td>291317</td>\n",
       "      <td>289916</td>\n",
       "      <td>1260721</td>\n",
       "      <td>289916</td>\n",
       "    </tr>\n",
       "    <tr>\n",
       "      <th>2018-01-29</th>\n",
       "      <td>315126</td>\n",
       "      <td>274416</td>\n",
       "      <td>274416</td>\n",
       "      <td>306536</td>\n",
       "      <td>2306835</td>\n",
       "      <td>306536</td>\n",
       "    </tr>\n",
       "    <tr>\n",
       "      <th>2018-03-13</th>\n",
       "      <td>299720</td>\n",
       "      <td>284781</td>\n",
       "      <td>299720</td>\n",
       "      <td>290383</td>\n",
       "      <td>3191279</td>\n",
       "      <td>290383</td>\n",
       "    </tr>\n",
       "    <tr>\n",
       "      <th>2018-01-19</th>\n",
       "      <td>299533</td>\n",
       "      <td>265546</td>\n",
       "      <td>298786</td>\n",
       "      <td>268721</td>\n",
       "      <td>4022212</td>\n",
       "      <td>268721</td>\n",
       "    </tr>\n",
       "  </tbody>\n",
       "</table>\n",
       "</div>"
      ],
      "text/plain": [
       "              High     Low    Open   Close   Volume  Adj Close\n",
       "Date                                                          \n",
       "2018-01-18  301961  285341  288422  298133  2092865     298133\n",
       "2018-02-12  290850  275444  275910  282446  2262290     282446\n",
       "2018-03-22  297852  284781  291317  289916  1260721     289916\n",
       "2018-01-29  315126  274416  274416  306536  2306835     306536\n",
       "2018-03-13  299720  284781  299720  290383  3191279     290383\n",
       "2018-01-19  299533  265546  298786  268721  4022212     268721"
      ]
     },
     "execution_count": 15,
     "metadata": {},
     "output_type": "execute_result"
    }
   ],
   "source": [
    "cel.sample(frac=0.1,random_state=100 )"
   ]
  },
  {
   "cell_type": "code",
   "execution_count": 16,
   "metadata": {},
   "outputs": [],
   "source": [
    "cel_sam = cel.sample(frac=0.1,random_state=100 )"
   ]
  },
  {
   "cell_type": "code",
   "execution_count": 17,
   "metadata": {},
   "outputs": [
    {
     "data": {
      "text/plain": [
       "pandas.core.frame.DataFrame"
      ]
     },
     "execution_count": 17,
     "metadata": {},
     "output_type": "execute_result"
    }
   ],
   "source": [
    "type(cel_sam)"
   ]
  },
  {
   "cell_type": "code",
   "execution_count": 18,
   "metadata": {},
   "outputs": [
    {
     "data": {
      "text/html": [
       "<div>\n",
       "<style scoped>\n",
       "    .dataframe tbody tr th:only-of-type {\n",
       "        vertical-align: middle;\n",
       "    }\n",
       "\n",
       "    .dataframe tbody tr th {\n",
       "        vertical-align: top;\n",
       "    }\n",
       "\n",
       "    .dataframe thead th {\n",
       "        text-align: right;\n",
       "    }\n",
       "</style>\n",
       "<table border=\"1\" class=\"dataframe\">\n",
       "  <thead>\n",
       "    <tr style=\"text-align: right;\">\n",
       "      <th></th>\n",
       "      <th>High</th>\n",
       "      <th>Low</th>\n",
       "      <th>Open</th>\n",
       "      <th>Close</th>\n",
       "      <th>Volume</th>\n",
       "      <th>Adj Close</th>\n",
       "    </tr>\n",
       "  </thead>\n",
       "  <tbody>\n",
       "    <tr>\n",
       "      <th>count</th>\n",
       "      <td>6.000000</td>\n",
       "      <td>6.000000</td>\n",
       "      <td>6.000000</td>\n",
       "      <td>6.000000</td>\n",
       "      <td>6.000000e+00</td>\n",
       "      <td>6.000000</td>\n",
       "    </tr>\n",
       "    <tr>\n",
       "      <th>mean</th>\n",
       "      <td>300840.333333</td>\n",
       "      <td>278384.833333</td>\n",
       "      <td>288095.166667</td>\n",
       "      <td>289355.833333</td>\n",
       "      <td>2.522700e+06</td>\n",
       "      <td>289355.833333</td>\n",
       "    </tr>\n",
       "    <tr>\n",
       "      <th>std</th>\n",
       "      <td>7962.880501</td>\n",
       "      <td>7993.071135</td>\n",
       "      <td>10913.437450</td>\n",
       "      <td>13016.203616</td>\n",
       "      <td>9.578407e+05</td>\n",
       "      <td>13016.203616</td>\n",
       "    </tr>\n",
       "    <tr>\n",
       "      <th>min</th>\n",
       "      <td>290850.000000</td>\n",
       "      <td>265546.000000</td>\n",
       "      <td>274416.000000</td>\n",
       "      <td>268721.000000</td>\n",
       "      <td>1.260721e+06</td>\n",
       "      <td>268721.000000</td>\n",
       "    </tr>\n",
       "    <tr>\n",
       "      <th>25%</th>\n",
       "      <td>298272.250000</td>\n",
       "      <td>274673.000000</td>\n",
       "      <td>279038.000000</td>\n",
       "      <td>284313.500000</td>\n",
       "      <td>2.135221e+06</td>\n",
       "      <td>284313.500000</td>\n",
       "    </tr>\n",
       "    <tr>\n",
       "      <th>50%</th>\n",
       "      <td>299626.500000</td>\n",
       "      <td>280112.500000</td>\n",
       "      <td>289869.500000</td>\n",
       "      <td>290149.500000</td>\n",
       "      <td>2.284562e+06</td>\n",
       "      <td>290149.500000</td>\n",
       "    </tr>\n",
       "    <tr>\n",
       "      <th>75%</th>\n",
       "      <td>301400.750000</td>\n",
       "      <td>284781.000000</td>\n",
       "      <td>296918.750000</td>\n",
       "      <td>296195.500000</td>\n",
       "      <td>2.970168e+06</td>\n",
       "      <td>296195.500000</td>\n",
       "    </tr>\n",
       "    <tr>\n",
       "      <th>max</th>\n",
       "      <td>315126.000000</td>\n",
       "      <td>285341.000000</td>\n",
       "      <td>299720.000000</td>\n",
       "      <td>306536.000000</td>\n",
       "      <td>4.022212e+06</td>\n",
       "      <td>306536.000000</td>\n",
       "    </tr>\n",
       "  </tbody>\n",
       "</table>\n",
       "</div>"
      ],
      "text/plain": [
       "                High            Low           Open          Close  \\\n",
       "count       6.000000       6.000000       6.000000       6.000000   \n",
       "mean   300840.333333  278384.833333  288095.166667  289355.833333   \n",
       "std      7962.880501    7993.071135   10913.437450   13016.203616   \n",
       "min    290850.000000  265546.000000  274416.000000  268721.000000   \n",
       "25%    298272.250000  274673.000000  279038.000000  284313.500000   \n",
       "50%    299626.500000  280112.500000  289869.500000  290149.500000   \n",
       "75%    301400.750000  284781.000000  296918.750000  296195.500000   \n",
       "max    315126.000000  285341.000000  299720.000000  306536.000000   \n",
       "\n",
       "             Volume      Adj Close  \n",
       "count  6.000000e+00       6.000000  \n",
       "mean   2.522700e+06  289355.833333  \n",
       "std    9.578407e+05   13016.203616  \n",
       "min    1.260721e+06  268721.000000  \n",
       "25%    2.135221e+06  284313.500000  \n",
       "50%    2.284562e+06  290149.500000  \n",
       "75%    2.970168e+06  296195.500000  \n",
       "max    4.022212e+06  306536.000000  "
      ]
     },
     "execution_count": 18,
     "metadata": {},
     "output_type": "execute_result"
    }
   ],
   "source": [
    "cel_sam.describe()"
   ]
  },
  {
   "cell_type": "code",
   "execution_count": 19,
   "metadata": {},
   "outputs": [
    {
     "data": {
      "text/plain": [
       "High         3.008403e+05\n",
       "Low          2.783848e+05\n",
       "Open         2.880952e+05\n",
       "Close        2.893558e+05\n",
       "Volume       2.522700e+06\n",
       "Adj Close    2.893558e+05\n",
       "dtype: float64"
      ]
     },
     "execution_count": 19,
     "metadata": {},
     "output_type": "execute_result"
    }
   ],
   "source": [
    "cel_sam.mean()"
   ]
  },
  {
   "cell_type": "code",
   "execution_count": 20,
   "metadata": {},
   "outputs": [
    {
     "data": {
      "text/plain": [
       "High           7962.880501\n",
       "Low            7993.071135\n",
       "Open          10913.437450\n",
       "Close         13016.203616\n",
       "Volume       957840.728657\n",
       "Adj Close     13016.203616\n",
       "dtype: float64"
      ]
     },
     "execution_count": 20,
     "metadata": {},
     "output_type": "execute_result"
    }
   ],
   "source": [
    "cel_sam.std()"
   ]
  },
  {
   "cell_type": "code",
   "execution_count": 21,
   "metadata": {},
   "outputs": [
    {
     "data": {
      "text/plain": [
       "High         6.340747e+07\n",
       "Low          6.388919e+07\n",
       "Open         1.191031e+08\n",
       "Close        1.694216e+08\n",
       "Volume       9.174589e+11\n",
       "Adj Close    1.694216e+08\n",
       "dtype: float64"
      ]
     },
     "execution_count": 21,
     "metadata": {},
     "output_type": "execute_result"
    }
   ],
   "source": [
    "cel_sam.var()"
   ]
  },
  {
   "cell_type": "code",
   "execution_count": null,
   "metadata": {},
   "outputs": [],
   "source": []
  },
  {
   "cell_type": "code",
   "execution_count": null,
   "metadata": {},
   "outputs": [],
   "source": []
  },
  {
   "cell_type": "markdown",
   "metadata": {},
   "source": [
    "## 예제 7-5   리샘플링 데이터 처리하기"
   ]
  },
  {
   "cell_type": "code",
   "execution_count": 22,
   "metadata": {},
   "outputs": [],
   "source": [
    "from pandas_datareader import data"
   ]
  },
  {
   "cell_type": "code",
   "execution_count": 23,
   "metadata": {},
   "outputs": [],
   "source": [
    "cel_re = data.DataReader(\"068270.KS\", \"yahoo\", '2018-01-02', '2018-08-31')"
   ]
  },
  {
   "cell_type": "code",
   "execution_count": 24,
   "metadata": {},
   "outputs": [
    {
     "data": {
      "text/html": [
       "<div>\n",
       "<style scoped>\n",
       "    .dataframe tbody tr th:only-of-type {\n",
       "        vertical-align: middle;\n",
       "    }\n",
       "\n",
       "    .dataframe tbody tr th {\n",
       "        vertical-align: top;\n",
       "    }\n",
       "\n",
       "    .dataframe thead th {\n",
       "        text-align: right;\n",
       "    }\n",
       "</style>\n",
       "<table border=\"1\" class=\"dataframe\">\n",
       "  <thead>\n",
       "    <tr style=\"text-align: right;\">\n",
       "      <th></th>\n",
       "      <th>High</th>\n",
       "      <th>Low</th>\n",
       "      <th>Open</th>\n",
       "      <th>Close</th>\n",
       "      <th>Volume</th>\n",
       "      <th>Adj Close</th>\n",
       "    </tr>\n",
       "    <tr>\n",
       "      <th>Date</th>\n",
       "      <th></th>\n",
       "      <th></th>\n",
       "      <th></th>\n",
       "      <th></th>\n",
       "      <th></th>\n",
       "      <th></th>\n",
       "    </tr>\n",
       "  </thead>\n",
       "  <tbody>\n",
       "    <tr>\n",
       "      <th>2018-01-03</th>\n",
       "      <td>230812</td>\n",
       "      <td>212045</td>\n",
       "      <td>213725</td>\n",
       "      <td>230345</td>\n",
       "      <td>2582354</td>\n",
       "      <td>230345</td>\n",
       "    </tr>\n",
       "    <tr>\n",
       "      <th>2018-01-04</th>\n",
       "      <td>243884</td>\n",
       "      <td>229038</td>\n",
       "      <td>233053</td>\n",
       "      <td>233427</td>\n",
       "      <td>3497379</td>\n",
       "      <td>233427</td>\n",
       "    </tr>\n",
       "    <tr>\n",
       "      <th>2018-01-05</th>\n",
       "      <td>249300</td>\n",
       "      <td>237162</td>\n",
       "      <td>238002</td>\n",
       "      <td>249206</td>\n",
       "      <td>2057303</td>\n",
       "      <td>249206</td>\n",
       "    </tr>\n",
       "    <tr>\n",
       "      <th>2018-01-08</th>\n",
       "      <td>283100</td>\n",
       "      <td>258824</td>\n",
       "      <td>260037</td>\n",
       "      <td>282446</td>\n",
       "      <td>4603982</td>\n",
       "      <td>282446</td>\n",
       "    </tr>\n",
       "    <tr>\n",
       "      <th>2018-01-09</th>\n",
       "      <td>298786</td>\n",
       "      <td>271895</td>\n",
       "      <td>283847</td>\n",
       "      <td>273109</td>\n",
       "      <td>5471400</td>\n",
       "      <td>273109</td>\n",
       "    </tr>\n",
       "  </tbody>\n",
       "</table>\n",
       "</div>"
      ],
      "text/plain": [
       "              High     Low    Open   Close   Volume  Adj Close\n",
       "Date                                                          \n",
       "2018-01-03  230812  212045  213725  230345  2582354     230345\n",
       "2018-01-04  243884  229038  233053  233427  3497379     233427\n",
       "2018-01-05  249300  237162  238002  249206  2057303     249206\n",
       "2018-01-08  283100  258824  260037  282446  4603982     282446\n",
       "2018-01-09  298786  271895  283847  273109  5471400     273109"
      ]
     },
     "execution_count": 24,
     "metadata": {},
     "output_type": "execute_result"
    }
   ],
   "source": [
    "cel_re.head()"
   ]
  },
  {
   "cell_type": "code",
   "execution_count": 25,
   "metadata": {},
   "outputs": [
    {
     "data": {
      "text/plain": [
       "<pandas.core.resample.DatetimeIndexResampler object at 0x000001ED29621130>"
      ]
     },
     "execution_count": 25,
     "metadata": {},
     "output_type": "execute_result"
    }
   ],
   "source": [
    "cel_re.resample('BA')"
   ]
  },
  {
   "cell_type": "code",
   "execution_count": 26,
   "metadata": {},
   "outputs": [],
   "source": [
    "a = cel_re.resample('BA')"
   ]
  },
  {
   "cell_type": "code",
   "execution_count": 27,
   "metadata": {},
   "outputs": [
    {
     "name": "stdout",
     "output_type": "stream",
     "text": [
      "Close,  High,  Low,  Open,  Volume,  agg,  \n",
      "aggregate,  apply,  asfreq,  ax,  backfill,  bfill,  \n",
      "count,  ffill,  fillna,  first,  get_group,  groups,  \n",
      "indices,  interpolate,  last,  max,  mean,  median,  \n",
      "min,  ndim,  nearest,  ngroups,  nunique,  obj,  \n",
      "ohlc,  pad,  pipe,  plot,  prod,  quantile,  \n",
      "sem,  size,  std,  sum,  transform,  var,  \n"
     ]
    }
   ],
   "source": [
    "count = 0\n",
    "for i in dir(a) :\n",
    "    if not i.startswith(\"_\") :\n",
    "        print(i, end=\",  \")\n",
    "        count += 1\n",
    "        if count % 6 == 0 :\n",
    "            print()"
   ]
  },
  {
   "cell_type": "code",
   "execution_count": 28,
   "metadata": {},
   "outputs": [
    {
     "data": {
      "text/plain": [
       "Date\n",
       "2018-01-03    230812\n",
       "2018-01-04    243884\n",
       "2018-01-05    249300\n",
       "2018-01-08    283100\n",
       "2018-01-09    298786\n",
       "Name: High, dtype: int64"
      ]
     },
     "execution_count": 28,
     "metadata": {},
     "output_type": "execute_result"
    }
   ],
   "source": [
    "a.High.head()"
   ]
  },
  {
   "cell_type": "code",
   "execution_count": null,
   "metadata": {},
   "outputs": [],
   "source": []
  },
  {
   "cell_type": "code",
   "execution_count": 29,
   "metadata": {},
   "outputs": [],
   "source": [
    "cel_2018 = cel_re.resample('BA')"
   ]
  },
  {
   "cell_type": "code",
   "execution_count": 30,
   "metadata": {},
   "outputs": [
    {
     "data": {
      "text/plain": [
       "2"
      ]
     },
     "execution_count": 30,
     "metadata": {},
     "output_type": "execute_result"
    }
   ],
   "source": [
    "cel_2018.ndim"
   ]
  },
  {
   "cell_type": "code",
   "execution_count": 31,
   "metadata": {},
   "outputs": [
    {
     "data": {
      "text/plain": [
       "1"
      ]
     },
     "execution_count": 31,
     "metadata": {},
     "output_type": "execute_result"
    }
   ],
   "source": [
    "cel_2018.ngroups"
   ]
  },
  {
   "cell_type": "code",
   "execution_count": 32,
   "metadata": {},
   "outputs": [
    {
     "data": {
      "text/plain": [
       "Date\n",
       "2018-12-31    164\n",
       "Freq: BA-DEC, dtype: int64"
      ]
     },
     "execution_count": 32,
     "metadata": {},
     "output_type": "execute_result"
    }
   ],
   "source": [
    "cel_2018.size()"
   ]
  },
  {
   "cell_type": "code",
   "execution_count": 33,
   "metadata": {},
   "outputs": [
    {
     "data": {
      "text/html": [
       "<div>\n",
       "<style scoped>\n",
       "    .dataframe tbody tr th:only-of-type {\n",
       "        vertical-align: middle;\n",
       "    }\n",
       "\n",
       "    .dataframe tbody tr th {\n",
       "        vertical-align: top;\n",
       "    }\n",
       "\n",
       "    .dataframe thead th {\n",
       "        text-align: right;\n",
       "    }\n",
       "</style>\n",
       "<table border=\"1\" class=\"dataframe\">\n",
       "  <thead>\n",
       "    <tr style=\"text-align: right;\">\n",
       "      <th></th>\n",
       "      <th>High</th>\n",
       "      <th>Low</th>\n",
       "      <th>Open</th>\n",
       "      <th>Close</th>\n",
       "      <th>Volume</th>\n",
       "      <th>Adj Close</th>\n",
       "    </tr>\n",
       "    <tr>\n",
       "      <th>Date</th>\n",
       "      <th></th>\n",
       "      <th></th>\n",
       "      <th></th>\n",
       "      <th></th>\n",
       "      <th></th>\n",
       "      <th></th>\n",
       "    </tr>\n",
       "  </thead>\n",
       "  <tbody>\n",
       "    <tr>\n",
       "      <th>2018-12-31</th>\n",
       "      <td>277168.04</td>\n",
       "      <td>263695.88</td>\n",
       "      <td>270191.41</td>\n",
       "      <td>269777.5</td>\n",
       "      <td>1541272.75</td>\n",
       "      <td>269777.5</td>\n",
       "    </tr>\n",
       "  </tbody>\n",
       "</table>\n",
       "</div>"
      ],
      "text/plain": [
       "                 High        Low       Open     Close      Volume  Adj Close\n",
       "Date                                                                        \n",
       "2018-12-31  277168.04  263695.88  270191.41  269777.5  1541272.75   269777.5"
      ]
     },
     "execution_count": 33,
     "metadata": {},
     "output_type": "execute_result"
    }
   ],
   "source": [
    "cel_2018.mean().round(2)"
   ]
  },
  {
   "cell_type": "code",
   "execution_count": 34,
   "metadata": {},
   "outputs": [
    {
     "data": {
      "text/html": [
       "<div>\n",
       "<style scoped>\n",
       "    .dataframe tbody tr th:only-of-type {\n",
       "        vertical-align: middle;\n",
       "    }\n",
       "\n",
       "    .dataframe tbody tr th {\n",
       "        vertical-align: top;\n",
       "    }\n",
       "\n",
       "    .dataframe thead th {\n",
       "        text-align: right;\n",
       "    }\n",
       "</style>\n",
       "<table border=\"1\" class=\"dataframe\">\n",
       "  <thead>\n",
       "    <tr style=\"text-align: right;\">\n",
       "      <th></th>\n",
       "      <th>High</th>\n",
       "      <th>Low</th>\n",
       "      <th>Open</th>\n",
       "      <th>Close</th>\n",
       "      <th>Volume</th>\n",
       "      <th>Adj Close</th>\n",
       "    </tr>\n",
       "    <tr>\n",
       "      <th>Date</th>\n",
       "      <th></th>\n",
       "      <th></th>\n",
       "      <th></th>\n",
       "      <th></th>\n",
       "      <th></th>\n",
       "      <th></th>\n",
       "    </tr>\n",
       "  </thead>\n",
       "  <tbody>\n",
       "    <tr>\n",
       "      <th>2018-12-31</th>\n",
       "      <td>25786.93</td>\n",
       "      <td>22955.01</td>\n",
       "      <td>24739.27</td>\n",
       "      <td>24515.17</td>\n",
       "      <td>1354117.64</td>\n",
       "      <td>24515.17</td>\n",
       "    </tr>\n",
       "  </tbody>\n",
       "</table>\n",
       "</div>"
      ],
      "text/plain": [
       "                High       Low      Open     Close      Volume  Adj Close\n",
       "Date                                                                     \n",
       "2018-12-31  25786.93  22955.01  24739.27  24515.17  1354117.64   24515.17"
      ]
     },
     "execution_count": 34,
     "metadata": {},
     "output_type": "execute_result"
    }
   ],
   "source": [
    "cel_2018.std().round(2)"
   ]
  },
  {
   "cell_type": "code",
   "execution_count": 35,
   "metadata": {},
   "outputs": [
    {
     "data": {
      "text/html": [
       "<div>\n",
       "<style scoped>\n",
       "    .dataframe tbody tr th:only-of-type {\n",
       "        vertical-align: middle;\n",
       "    }\n",
       "\n",
       "    .dataframe tbody tr th {\n",
       "        vertical-align: top;\n",
       "    }\n",
       "\n",
       "    .dataframe thead th {\n",
       "        text-align: right;\n",
       "    }\n",
       "</style>\n",
       "<table border=\"1\" class=\"dataframe\">\n",
       "  <thead>\n",
       "    <tr style=\"text-align: right;\">\n",
       "      <th></th>\n",
       "      <th>High</th>\n",
       "      <th>Low</th>\n",
       "      <th>Open</th>\n",
       "      <th>Close</th>\n",
       "      <th>Volume</th>\n",
       "      <th>Adj Close</th>\n",
       "    </tr>\n",
       "    <tr>\n",
       "      <th>Date</th>\n",
       "      <th></th>\n",
       "      <th></th>\n",
       "      <th></th>\n",
       "      <th></th>\n",
       "      <th></th>\n",
       "      <th></th>\n",
       "    </tr>\n",
       "  </thead>\n",
       "  <tbody>\n",
       "    <tr>\n",
       "      <th>2018-12-31</th>\n",
       "      <td>664965806.6</td>\n",
       "      <td>526932710.1</td>\n",
       "      <td>612031570.8</td>\n",
       "      <td>600993768.3</td>\n",
       "      <td>1.833635e+12</td>\n",
       "      <td>600993768.3</td>\n",
       "    </tr>\n",
       "  </tbody>\n",
       "</table>\n",
       "</div>"
      ],
      "text/plain": [
       "                   High          Low         Open        Close        Volume  \\\n",
       "Date                                                                           \n",
       "2018-12-31  664965806.6  526932710.1  612031570.8  600993768.3  1.833635e+12   \n",
       "\n",
       "              Adj Close  \n",
       "Date                     \n",
       "2018-12-31  600993768.3  "
      ]
     },
     "execution_count": 35,
     "metadata": {},
     "output_type": "execute_result"
    }
   ],
   "source": [
    "cel_2018.var().round(1)"
   ]
  },
  {
   "cell_type": "code",
   "execution_count": 36,
   "metadata": {},
   "outputs": [],
   "source": [
    "year = cel_re.resample('A')"
   ]
  },
  {
   "cell_type": "code",
   "execution_count": 37,
   "metadata": {},
   "outputs": [
    {
     "data": {
      "text/html": [
       "<div>\n",
       "<style scoped>\n",
       "    .dataframe tbody tr th:only-of-type {\n",
       "        vertical-align: middle;\n",
       "    }\n",
       "\n",
       "    .dataframe tbody tr th {\n",
       "        vertical-align: top;\n",
       "    }\n",
       "\n",
       "    .dataframe thead th {\n",
       "        text-align: right;\n",
       "    }\n",
       "</style>\n",
       "<table border=\"1\" class=\"dataframe\">\n",
       "  <thead>\n",
       "    <tr style=\"text-align: right;\">\n",
       "      <th></th>\n",
       "      <th>High</th>\n",
       "      <th>Low</th>\n",
       "      <th>Open</th>\n",
       "      <th>Close</th>\n",
       "      <th>Volume</th>\n",
       "      <th>Adj Close</th>\n",
       "    </tr>\n",
       "    <tr>\n",
       "      <th>Date</th>\n",
       "      <th></th>\n",
       "      <th></th>\n",
       "      <th></th>\n",
       "      <th></th>\n",
       "      <th></th>\n",
       "      <th></th>\n",
       "    </tr>\n",
       "  </thead>\n",
       "  <tbody>\n",
       "    <tr>\n",
       "      <th>2018-12-31</th>\n",
       "      <td>277168.04</td>\n",
       "      <td>263695.88</td>\n",
       "      <td>270191.41</td>\n",
       "      <td>269777.5</td>\n",
       "      <td>1541272.75</td>\n",
       "      <td>269777.5</td>\n",
       "    </tr>\n",
       "  </tbody>\n",
       "</table>\n",
       "</div>"
      ],
      "text/plain": [
       "                 High        Low       Open     Close      Volume  Adj Close\n",
       "Date                                                                        \n",
       "2018-12-31  277168.04  263695.88  270191.41  269777.5  1541272.75   269777.5"
      ]
     },
     "execution_count": 37,
     "metadata": {},
     "output_type": "execute_result"
    }
   ],
   "source": [
    "year.mean().round(2)"
   ]
  },
  {
   "cell_type": "code",
   "execution_count": null,
   "metadata": {},
   "outputs": [],
   "source": []
  },
  {
   "cell_type": "code",
   "execution_count": 38,
   "metadata": {},
   "outputs": [],
   "source": [
    "cel_bq = cel.resample('BQ')"
   ]
  },
  {
   "cell_type": "code",
   "execution_count": 39,
   "metadata": {},
   "outputs": [
    {
     "data": {
      "text/html": [
       "<div>\n",
       "<style scoped>\n",
       "    .dataframe tbody tr th:only-of-type {\n",
       "        vertical-align: middle;\n",
       "    }\n",
       "\n",
       "    .dataframe tbody tr th {\n",
       "        vertical-align: top;\n",
       "    }\n",
       "\n",
       "    .dataframe thead th {\n",
       "        text-align: right;\n",
       "    }\n",
       "</style>\n",
       "<table border=\"1\" class=\"dataframe\">\n",
       "  <thead>\n",
       "    <tr style=\"text-align: right;\">\n",
       "      <th></th>\n",
       "      <th>High</th>\n",
       "      <th>Low</th>\n",
       "      <th>Open</th>\n",
       "      <th>Close</th>\n",
       "      <th>Volume</th>\n",
       "      <th>Adj Close</th>\n",
       "    </tr>\n",
       "    <tr>\n",
       "      <th>Date</th>\n",
       "      <th></th>\n",
       "      <th></th>\n",
       "      <th></th>\n",
       "      <th></th>\n",
       "      <th></th>\n",
       "      <th></th>\n",
       "    </tr>\n",
       "  </thead>\n",
       "  <tbody>\n",
       "    <tr>\n",
       "      <th>2018-03-30</th>\n",
       "      <td>299259.27</td>\n",
       "      <td>280331.48</td>\n",
       "      <td>289013.35</td>\n",
       "      <td>289718.28</td>\n",
       "      <td>2581370.77</td>\n",
       "      <td>289718.28</td>\n",
       "    </tr>\n",
       "    <tr>\n",
       "      <th>2018-06-29</th>\n",
       "      <td>289682.50</td>\n",
       "      <td>280579.00</td>\n",
       "      <td>284780.50</td>\n",
       "      <td>281512.50</td>\n",
       "      <td>842396.00</td>\n",
       "      <td>281512.50</td>\n",
       "    </tr>\n",
       "  </tbody>\n",
       "</table>\n",
       "</div>"
      ],
      "text/plain": [
       "                 High        Low       Open      Close      Volume  Adj Close\n",
       "Date                                                                         \n",
       "2018-03-30  299259.27  280331.48  289013.35  289718.28  2581370.77  289718.28\n",
       "2018-06-29  289682.50  280579.00  284780.50  281512.50   842396.00  281512.50"
      ]
     },
     "execution_count": 39,
     "metadata": {},
     "output_type": "execute_result"
    }
   ],
   "source": [
    "cel_bq.mean().round(2)"
   ]
  },
  {
   "cell_type": "code",
   "execution_count": null,
   "metadata": {},
   "outputs": [],
   "source": []
  },
  {
   "cell_type": "code",
   "execution_count": 40,
   "metadata": {},
   "outputs": [],
   "source": [
    "cel_q = cel.resample('Q')"
   ]
  },
  {
   "cell_type": "code",
   "execution_count": 41,
   "metadata": {},
   "outputs": [
    {
     "data": {
      "text/html": [
       "<div>\n",
       "<style scoped>\n",
       "    .dataframe tbody tr th:only-of-type {\n",
       "        vertical-align: middle;\n",
       "    }\n",
       "\n",
       "    .dataframe tbody tr th {\n",
       "        vertical-align: top;\n",
       "    }\n",
       "\n",
       "    .dataframe thead th {\n",
       "        text-align: right;\n",
       "    }\n",
       "</style>\n",
       "<table border=\"1\" class=\"dataframe\">\n",
       "  <thead>\n",
       "    <tr style=\"text-align: right;\">\n",
       "      <th></th>\n",
       "      <th>High</th>\n",
       "      <th>Low</th>\n",
       "      <th>Open</th>\n",
       "      <th>Close</th>\n",
       "      <th>Volume</th>\n",
       "      <th>Adj Close</th>\n",
       "    </tr>\n",
       "    <tr>\n",
       "      <th>Date</th>\n",
       "      <th></th>\n",
       "      <th></th>\n",
       "      <th></th>\n",
       "      <th></th>\n",
       "      <th></th>\n",
       "      <th></th>\n",
       "    </tr>\n",
       "  </thead>\n",
       "  <tbody>\n",
       "    <tr>\n",
       "      <th>2018-03-31</th>\n",
       "      <td>299259.27</td>\n",
       "      <td>280331.48</td>\n",
       "      <td>289013.35</td>\n",
       "      <td>289718.28</td>\n",
       "      <td>2581370.77</td>\n",
       "      <td>289718.28</td>\n",
       "    </tr>\n",
       "    <tr>\n",
       "      <th>2018-06-30</th>\n",
       "      <td>289682.50</td>\n",
       "      <td>280579.00</td>\n",
       "      <td>284780.50</td>\n",
       "      <td>281512.50</td>\n",
       "      <td>842396.00</td>\n",
       "      <td>281512.50</td>\n",
       "    </tr>\n",
       "  </tbody>\n",
       "</table>\n",
       "</div>"
      ],
      "text/plain": [
       "                 High        Low       Open      Close      Volume  Adj Close\n",
       "Date                                                                         \n",
       "2018-03-31  299259.27  280331.48  289013.35  289718.28  2581370.77  289718.28\n",
       "2018-06-30  289682.50  280579.00  284780.50  281512.50   842396.00  281512.50"
      ]
     },
     "execution_count": 41,
     "metadata": {},
     "output_type": "execute_result"
    }
   ],
   "source": [
    "cel_q.mean().round(2)"
   ]
  },
  {
   "cell_type": "code",
   "execution_count": null,
   "metadata": {},
   "outputs": [],
   "source": []
  },
  {
   "cell_type": "code",
   "execution_count": 42,
   "metadata": {},
   "outputs": [],
   "source": [
    "cel_bm = cel.resample('BM')"
   ]
  },
  {
   "cell_type": "code",
   "execution_count": 43,
   "metadata": {},
   "outputs": [
    {
     "data": {
      "text/html": [
       "<div>\n",
       "<style scoped>\n",
       "    .dataframe tbody tr th:only-of-type {\n",
       "        vertical-align: middle;\n",
       "    }\n",
       "\n",
       "    .dataframe tbody tr th {\n",
       "        vertical-align: top;\n",
       "    }\n",
       "\n",
       "    .dataframe thead th {\n",
       "        text-align: right;\n",
       "    }\n",
       "</style>\n",
       "<table border=\"1\" class=\"dataframe\">\n",
       "  <thead>\n",
       "    <tr style=\"text-align: right;\">\n",
       "      <th></th>\n",
       "      <th>High</th>\n",
       "      <th>Low</th>\n",
       "      <th>Open</th>\n",
       "      <th>Close</th>\n",
       "      <th>Volume</th>\n",
       "      <th>Adj Close</th>\n",
       "    </tr>\n",
       "    <tr>\n",
       "      <th>Date</th>\n",
       "      <th></th>\n",
       "      <th></th>\n",
       "      <th></th>\n",
       "      <th></th>\n",
       "      <th></th>\n",
       "      <th></th>\n",
       "    </tr>\n",
       "  </thead>\n",
       "  <tbody>\n",
       "    <tr>\n",
       "      <th>2018-01-31</th>\n",
       "      <td>293010.57</td>\n",
       "      <td>271135.05</td>\n",
       "      <td>280320.95</td>\n",
       "      <td>282535.19</td>\n",
       "      <td>2900048.57</td>\n",
       "      <td>282535.19</td>\n",
       "    </tr>\n",
       "    <tr>\n",
       "      <th>2018-02-28</th>\n",
       "      <td>292888.22</td>\n",
       "      <td>274847.06</td>\n",
       "      <td>282280.33</td>\n",
       "      <td>284251.39</td>\n",
       "      <td>2191073.11</td>\n",
       "      <td>284251.39</td>\n",
       "    </tr>\n",
       "    <tr>\n",
       "      <th>2018-03-30</th>\n",
       "      <td>310968.86</td>\n",
       "      <td>294228.86</td>\n",
       "      <td>303476.90</td>\n",
       "      <td>301587.29</td>\n",
       "      <td>2597233.81</td>\n",
       "      <td>301587.29</td>\n",
       "    </tr>\n",
       "    <tr>\n",
       "      <th>2018-04-30</th>\n",
       "      <td>289682.50</td>\n",
       "      <td>280579.00</td>\n",
       "      <td>284780.50</td>\n",
       "      <td>281512.50</td>\n",
       "      <td>842396.00</td>\n",
       "      <td>281512.50</td>\n",
       "    </tr>\n",
       "  </tbody>\n",
       "</table>\n",
       "</div>"
      ],
      "text/plain": [
       "                 High        Low       Open      Close      Volume  Adj Close\n",
       "Date                                                                         \n",
       "2018-01-31  293010.57  271135.05  280320.95  282535.19  2900048.57  282535.19\n",
       "2018-02-28  292888.22  274847.06  282280.33  284251.39  2191073.11  284251.39\n",
       "2018-03-30  310968.86  294228.86  303476.90  301587.29  2597233.81  301587.29\n",
       "2018-04-30  289682.50  280579.00  284780.50  281512.50   842396.00  281512.50"
      ]
     },
     "execution_count": 43,
     "metadata": {},
     "output_type": "execute_result"
    }
   ],
   "source": [
    "cel_bm.mean().round(2)"
   ]
  },
  {
   "cell_type": "code",
   "execution_count": 44,
   "metadata": {},
   "outputs": [],
   "source": [
    "cel_m = cel.resample('M')"
   ]
  },
  {
   "cell_type": "code",
   "execution_count": 45,
   "metadata": {},
   "outputs": [
    {
     "data": {
      "text/html": [
       "<div>\n",
       "<style scoped>\n",
       "    .dataframe tbody tr th:only-of-type {\n",
       "        vertical-align: middle;\n",
       "    }\n",
       "\n",
       "    .dataframe tbody tr th {\n",
       "        vertical-align: top;\n",
       "    }\n",
       "\n",
       "    .dataframe thead th {\n",
       "        text-align: right;\n",
       "    }\n",
       "</style>\n",
       "<table border=\"1\" class=\"dataframe\">\n",
       "  <thead>\n",
       "    <tr style=\"text-align: right;\">\n",
       "      <th></th>\n",
       "      <th>High</th>\n",
       "      <th>Low</th>\n",
       "      <th>Open</th>\n",
       "      <th>Close</th>\n",
       "      <th>Volume</th>\n",
       "      <th>Adj Close</th>\n",
       "    </tr>\n",
       "    <tr>\n",
       "      <th>Date</th>\n",
       "      <th></th>\n",
       "      <th></th>\n",
       "      <th></th>\n",
       "      <th></th>\n",
       "      <th></th>\n",
       "      <th></th>\n",
       "    </tr>\n",
       "  </thead>\n",
       "  <tbody>\n",
       "    <tr>\n",
       "      <th>2018-01-31</th>\n",
       "      <td>293010.57</td>\n",
       "      <td>271135.05</td>\n",
       "      <td>280320.95</td>\n",
       "      <td>282535.19</td>\n",
       "      <td>2900048.57</td>\n",
       "      <td>282535.19</td>\n",
       "    </tr>\n",
       "    <tr>\n",
       "      <th>2018-02-28</th>\n",
       "      <td>292888.22</td>\n",
       "      <td>274847.06</td>\n",
       "      <td>282280.33</td>\n",
       "      <td>284251.39</td>\n",
       "      <td>2191073.11</td>\n",
       "      <td>284251.39</td>\n",
       "    </tr>\n",
       "    <tr>\n",
       "      <th>2018-03-31</th>\n",
       "      <td>310968.86</td>\n",
       "      <td>294228.86</td>\n",
       "      <td>303476.90</td>\n",
       "      <td>301587.29</td>\n",
       "      <td>2597233.81</td>\n",
       "      <td>301587.29</td>\n",
       "    </tr>\n",
       "    <tr>\n",
       "      <th>2018-04-30</th>\n",
       "      <td>289682.50</td>\n",
       "      <td>280579.00</td>\n",
       "      <td>284780.50</td>\n",
       "      <td>281512.50</td>\n",
       "      <td>842396.00</td>\n",
       "      <td>281512.50</td>\n",
       "    </tr>\n",
       "  </tbody>\n",
       "</table>\n",
       "</div>"
      ],
      "text/plain": [
       "                 High        Low       Open      Close      Volume  Adj Close\n",
       "Date                                                                         \n",
       "2018-01-31  293010.57  271135.05  280320.95  282535.19  2900048.57  282535.19\n",
       "2018-02-28  292888.22  274847.06  282280.33  284251.39  2191073.11  284251.39\n",
       "2018-03-31  310968.86  294228.86  303476.90  301587.29  2597233.81  301587.29\n",
       "2018-04-30  289682.50  280579.00  284780.50  281512.50   842396.00  281512.50"
      ]
     },
     "execution_count": 45,
     "metadata": {},
     "output_type": "execute_result"
    }
   ],
   "source": [
    "cel_m.mean().round(2)"
   ]
  },
  {
   "cell_type": "code",
   "execution_count": 46,
   "metadata": {},
   "outputs": [],
   "source": [
    "cel_w = cel.resample('W')"
   ]
  },
  {
   "cell_type": "code",
   "execution_count": 47,
   "metadata": {},
   "outputs": [
    {
     "data": {
      "text/html": [
       "<div>\n",
       "<style scoped>\n",
       "    .dataframe tbody tr th:only-of-type {\n",
       "        vertical-align: middle;\n",
       "    }\n",
       "\n",
       "    .dataframe tbody tr th {\n",
       "        vertical-align: top;\n",
       "    }\n",
       "\n",
       "    .dataframe thead th {\n",
       "        text-align: right;\n",
       "    }\n",
       "</style>\n",
       "<table border=\"1\" class=\"dataframe\">\n",
       "  <thead>\n",
       "    <tr style=\"text-align: right;\">\n",
       "      <th></th>\n",
       "      <th>High</th>\n",
       "      <th>Low</th>\n",
       "      <th>Open</th>\n",
       "      <th>Close</th>\n",
       "      <th>Volume</th>\n",
       "      <th>Adj Close</th>\n",
       "    </tr>\n",
       "    <tr>\n",
       "      <th>Date</th>\n",
       "      <th></th>\n",
       "      <th></th>\n",
       "      <th></th>\n",
       "      <th></th>\n",
       "      <th></th>\n",
       "      <th></th>\n",
       "    </tr>\n",
       "  </thead>\n",
       "  <tbody>\n",
       "    <tr>\n",
       "      <th>2018-01-07</th>\n",
       "      <td>241332.0</td>\n",
       "      <td>226081.67</td>\n",
       "      <td>228260.0</td>\n",
       "      <td>237659.33</td>\n",
       "      <td>2712345.33</td>\n",
       "      <td>237659.33</td>\n",
       "    </tr>\n",
       "    <tr>\n",
       "      <th>2018-01-14</th>\n",
       "      <td>302371.6</td>\n",
       "      <td>273370.60</td>\n",
       "      <td>281792.6</td>\n",
       "      <td>287488.20</td>\n",
       "      <td>4382206.80</td>\n",
       "      <td>287488.20</td>\n",
       "    </tr>\n",
       "    <tr>\n",
       "      <th>2018-01-21</th>\n",
       "      <td>317124.2</td>\n",
       "      <td>292474.40</td>\n",
       "      <td>310140.0</td>\n",
       "      <td>302147.60</td>\n",
       "      <td>2979940.20</td>\n",
       "      <td>302147.60</td>\n",
       "    </tr>\n",
       "    <tr>\n",
       "      <th>2018-01-28</th>\n",
       "      <td>279869.4</td>\n",
       "      <td>263305.20</td>\n",
       "      <td>271914.2</td>\n",
       "      <td>273165.20</td>\n",
       "      <td>2049579.80</td>\n",
       "      <td>273165.20</td>\n",
       "    </tr>\n",
       "    <tr>\n",
       "      <th>2018-02-04</th>\n",
       "      <td>303137.4</td>\n",
       "      <td>283641.20</td>\n",
       "      <td>291409.8</td>\n",
       "      <td>293520.00</td>\n",
       "      <td>1903098.00</td>\n",
       "      <td>293520.00</td>\n",
       "    </tr>\n",
       "  </tbody>\n",
       "</table>\n",
       "</div>"
      ],
      "text/plain": [
       "                High        Low      Open      Close      Volume  Adj Close\n",
       "Date                                                                       \n",
       "2018-01-07  241332.0  226081.67  228260.0  237659.33  2712345.33  237659.33\n",
       "2018-01-14  302371.6  273370.60  281792.6  287488.20  4382206.80  287488.20\n",
       "2018-01-21  317124.2  292474.40  310140.0  302147.60  2979940.20  302147.60\n",
       "2018-01-28  279869.4  263305.20  271914.2  273165.20  2049579.80  273165.20\n",
       "2018-02-04  303137.4  283641.20  291409.8  293520.00  1903098.00  293520.00"
      ]
     },
     "execution_count": 47,
     "metadata": {},
     "output_type": "execute_result"
    }
   ],
   "source": [
    "cel_w.mean().round(2).head()"
   ]
  },
  {
   "cell_type": "code",
   "execution_count": null,
   "metadata": {},
   "outputs": [],
   "source": []
  },
  {
   "cell_type": "code",
   "execution_count": 48,
   "metadata": {},
   "outputs": [],
   "source": [
    "cel_d = cel.resample('D')"
   ]
  },
  {
   "cell_type": "code",
   "execution_count": 49,
   "metadata": {},
   "outputs": [
    {
     "data": {
      "text/plain": [
       "(62, 6)"
      ]
     },
     "execution_count": 49,
     "metadata": {},
     "output_type": "execute_result"
    }
   ],
   "source": [
    "cel.shape"
   ]
  },
  {
   "cell_type": "code",
   "execution_count": 50,
   "metadata": {},
   "outputs": [
    {
     "data": {
      "text/plain": [
       "(91, 6)"
      ]
     },
     "execution_count": 50,
     "metadata": {},
     "output_type": "execute_result"
    }
   ],
   "source": [
    "cel_d.count().shape"
   ]
  },
  {
   "cell_type": "code",
   "execution_count": 51,
   "metadata": {},
   "outputs": [],
   "source": [
    "interpolated = cel_d.interpolate(method='linear').astype('int64')"
   ]
  },
  {
   "cell_type": "code",
   "execution_count": 52,
   "metadata": {},
   "outputs": [
    {
     "data": {
      "text/html": [
       "<div>\n",
       "<style scoped>\n",
       "    .dataframe tbody tr th:only-of-type {\n",
       "        vertical-align: middle;\n",
       "    }\n",
       "\n",
       "    .dataframe tbody tr th {\n",
       "        vertical-align: top;\n",
       "    }\n",
       "\n",
       "    .dataframe thead th {\n",
       "        text-align: right;\n",
       "    }\n",
       "</style>\n",
       "<table border=\"1\" class=\"dataframe\">\n",
       "  <thead>\n",
       "    <tr style=\"text-align: right;\">\n",
       "      <th></th>\n",
       "      <th>High</th>\n",
       "      <th>Low</th>\n",
       "      <th>Open</th>\n",
       "      <th>Close</th>\n",
       "      <th>Volume</th>\n",
       "      <th>Adj Close</th>\n",
       "    </tr>\n",
       "    <tr>\n",
       "      <th>Date</th>\n",
       "      <th></th>\n",
       "      <th></th>\n",
       "      <th></th>\n",
       "      <th></th>\n",
       "      <th></th>\n",
       "      <th></th>\n",
       "    </tr>\n",
       "  </thead>\n",
       "  <tbody>\n",
       "    <tr>\n",
       "      <th>2018-01-03</th>\n",
       "      <td>230812</td>\n",
       "      <td>212045</td>\n",
       "      <td>213725</td>\n",
       "      <td>230345</td>\n",
       "      <td>2582354</td>\n",
       "      <td>230345</td>\n",
       "    </tr>\n",
       "    <tr>\n",
       "      <th>2018-01-04</th>\n",
       "      <td>243884</td>\n",
       "      <td>229038</td>\n",
       "      <td>233053</td>\n",
       "      <td>233427</td>\n",
       "      <td>3497379</td>\n",
       "      <td>233427</td>\n",
       "    </tr>\n",
       "    <tr>\n",
       "      <th>2018-01-05</th>\n",
       "      <td>249300</td>\n",
       "      <td>237162</td>\n",
       "      <td>238002</td>\n",
       "      <td>249206</td>\n",
       "      <td>2057303</td>\n",
       "      <td>249206</td>\n",
       "    </tr>\n",
       "    <tr>\n",
       "      <th>2018-01-06</th>\n",
       "      <td>260566</td>\n",
       "      <td>244382</td>\n",
       "      <td>245347</td>\n",
       "      <td>260286</td>\n",
       "      <td>2906196</td>\n",
       "      <td>260286</td>\n",
       "    </tr>\n",
       "    <tr>\n",
       "      <th>2018-01-07</th>\n",
       "      <td>271833</td>\n",
       "      <td>251603</td>\n",
       "      <td>252692</td>\n",
       "      <td>271366</td>\n",
       "      <td>3755089</td>\n",
       "      <td>271366</td>\n",
       "    </tr>\n",
       "    <tr>\n",
       "      <th>2018-01-08</th>\n",
       "      <td>283100</td>\n",
       "      <td>258824</td>\n",
       "      <td>260037</td>\n",
       "      <td>282446</td>\n",
       "      <td>4603982</td>\n",
       "      <td>282446</td>\n",
       "    </tr>\n",
       "    <tr>\n",
       "      <th>2018-01-09</th>\n",
       "      <td>298786</td>\n",
       "      <td>271895</td>\n",
       "      <td>283847</td>\n",
       "      <td>273109</td>\n",
       "      <td>5471400</td>\n",
       "      <td>273109</td>\n",
       "    </tr>\n",
       "  </tbody>\n",
       "</table>\n",
       "</div>"
      ],
      "text/plain": [
       "              High     Low    Open   Close   Volume  Adj Close\n",
       "Date                                                          \n",
       "2018-01-03  230812  212045  213725  230345  2582354     230345\n",
       "2018-01-04  243884  229038  233053  233427  3497379     233427\n",
       "2018-01-05  249300  237162  238002  249206  2057303     249206\n",
       "2018-01-06  260566  244382  245347  260286  2906196     260286\n",
       "2018-01-07  271833  251603  252692  271366  3755089     271366\n",
       "2018-01-08  283100  258824  260037  282446  4603982     282446\n",
       "2018-01-09  298786  271895  283847  273109  5471400     273109"
      ]
     },
     "execution_count": 52,
     "metadata": {},
     "output_type": "execute_result"
    }
   ],
   "source": [
    "interpolated.head(7)"
   ]
  },
  {
   "cell_type": "code",
   "execution_count": 53,
   "metadata": {},
   "outputs": [
    {
     "data": {
      "text/html": [
       "<div>\n",
       "<style scoped>\n",
       "    .dataframe tbody tr th:only-of-type {\n",
       "        vertical-align: middle;\n",
       "    }\n",
       "\n",
       "    .dataframe tbody tr th {\n",
       "        vertical-align: top;\n",
       "    }\n",
       "\n",
       "    .dataframe thead th {\n",
       "        text-align: right;\n",
       "    }\n",
       "</style>\n",
       "<table border=\"1\" class=\"dataframe\">\n",
       "  <thead>\n",
       "    <tr style=\"text-align: right;\">\n",
       "      <th></th>\n",
       "      <th>High</th>\n",
       "      <th>Low</th>\n",
       "      <th>Open</th>\n",
       "      <th>Close</th>\n",
       "      <th>Volume</th>\n",
       "      <th>Adj Close</th>\n",
       "    </tr>\n",
       "    <tr>\n",
       "      <th>Date</th>\n",
       "      <th></th>\n",
       "      <th></th>\n",
       "      <th></th>\n",
       "      <th></th>\n",
       "      <th></th>\n",
       "      <th></th>\n",
       "    </tr>\n",
       "  </thead>\n",
       "  <tbody>\n",
       "    <tr>\n",
       "      <th>2018-01-03</th>\n",
       "      <td>230812</td>\n",
       "      <td>212045</td>\n",
       "      <td>213725</td>\n",
       "      <td>230345</td>\n",
       "      <td>2582354</td>\n",
       "      <td>230345</td>\n",
       "    </tr>\n",
       "    <tr>\n",
       "      <th>2018-01-04</th>\n",
       "      <td>243884</td>\n",
       "      <td>229038</td>\n",
       "      <td>233053</td>\n",
       "      <td>233427</td>\n",
       "      <td>3497379</td>\n",
       "      <td>233427</td>\n",
       "    </tr>\n",
       "    <tr>\n",
       "      <th>2018-01-05</th>\n",
       "      <td>249300</td>\n",
       "      <td>237162</td>\n",
       "      <td>238002</td>\n",
       "      <td>249206</td>\n",
       "      <td>2057303</td>\n",
       "      <td>249206</td>\n",
       "    </tr>\n",
       "    <tr>\n",
       "      <th>2018-01-08</th>\n",
       "      <td>283100</td>\n",
       "      <td>258824</td>\n",
       "      <td>260037</td>\n",
       "      <td>282446</td>\n",
       "      <td>4603982</td>\n",
       "      <td>282446</td>\n",
       "    </tr>\n",
       "    <tr>\n",
       "      <th>2018-01-09</th>\n",
       "      <td>298786</td>\n",
       "      <td>271895</td>\n",
       "      <td>283847</td>\n",
       "      <td>273109</td>\n",
       "      <td>5471400</td>\n",
       "      <td>273109</td>\n",
       "    </tr>\n",
       "  </tbody>\n",
       "</table>\n",
       "</div>"
      ],
      "text/plain": [
       "              High     Low    Open   Close   Volume  Adj Close\n",
       "Date                                                          \n",
       "2018-01-03  230812  212045  213725  230345  2582354     230345\n",
       "2018-01-04  243884  229038  233053  233427  3497379     233427\n",
       "2018-01-05  249300  237162  238002  249206  2057303     249206\n",
       "2018-01-08  283100  258824  260037  282446  4603982     282446\n",
       "2018-01-09  298786  271895  283847  273109  5471400     273109"
      ]
     },
     "execution_count": 53,
     "metadata": {},
     "output_type": "execute_result"
    }
   ],
   "source": [
    "cel.head()"
   ]
  },
  {
   "cell_type": "code",
   "execution_count": null,
   "metadata": {},
   "outputs": [],
   "source": []
  },
  {
   "cell_type": "code",
   "execution_count": 54,
   "metadata": {},
   "outputs": [
    {
     "name": "stderr",
     "output_type": "stream",
     "text": [
      "C:\\COSMOS\\Anaconda3\\envs\\pyenv3\\lib\\site-packages\\scipy\\interpolate\\fitpack2.py:253: UserWarning: \n",
      "The maximal number of iterations maxit (set to 20 by the program)\n",
      "allowed for finding a smoothing spline with fp=s has been reached: s\n",
      "too small.\n",
      "There is an approximation returned but the corresponding weighted sum\n",
      "of squared residuals does not satisfy the condition abs(fp-s)/s < tol.\n",
      "  warnings.warn(message)\n"
     ]
    }
   ],
   "source": [
    "in_spline = cel_d.interpolate(method='spline', order=2).astype('int64')"
   ]
  },
  {
   "cell_type": "code",
   "execution_count": 55,
   "metadata": {},
   "outputs": [
    {
     "data": {
      "text/html": [
       "<div>\n",
       "<style scoped>\n",
       "    .dataframe tbody tr th:only-of-type {\n",
       "        vertical-align: middle;\n",
       "    }\n",
       "\n",
       "    .dataframe tbody tr th {\n",
       "        vertical-align: top;\n",
       "    }\n",
       "\n",
       "    .dataframe thead th {\n",
       "        text-align: right;\n",
       "    }\n",
       "</style>\n",
       "<table border=\"1\" class=\"dataframe\">\n",
       "  <thead>\n",
       "    <tr style=\"text-align: right;\">\n",
       "      <th></th>\n",
       "      <th>High</th>\n",
       "      <th>Low</th>\n",
       "      <th>Open</th>\n",
       "      <th>Close</th>\n",
       "      <th>Volume</th>\n",
       "      <th>Adj Close</th>\n",
       "    </tr>\n",
       "    <tr>\n",
       "      <th>Date</th>\n",
       "      <th></th>\n",
       "      <th></th>\n",
       "      <th></th>\n",
       "      <th></th>\n",
       "      <th></th>\n",
       "      <th></th>\n",
       "    </tr>\n",
       "  </thead>\n",
       "  <tbody>\n",
       "    <tr>\n",
       "      <th>2018-01-03</th>\n",
       "      <td>230812</td>\n",
       "      <td>212045</td>\n",
       "      <td>213725</td>\n",
       "      <td>230345</td>\n",
       "      <td>2582354</td>\n",
       "      <td>230345</td>\n",
       "    </tr>\n",
       "    <tr>\n",
       "      <th>2018-01-04</th>\n",
       "      <td>243884</td>\n",
       "      <td>229038</td>\n",
       "      <td>233053</td>\n",
       "      <td>233427</td>\n",
       "      <td>3497379</td>\n",
       "      <td>233427</td>\n",
       "    </tr>\n",
       "    <tr>\n",
       "      <th>2018-01-05</th>\n",
       "      <td>249300</td>\n",
       "      <td>237162</td>\n",
       "      <td>238002</td>\n",
       "      <td>249206</td>\n",
       "      <td>2057303</td>\n",
       "      <td>249206</td>\n",
       "    </tr>\n",
       "    <tr>\n",
       "      <th>2018-01-06</th>\n",
       "      <td>256745</td>\n",
       "      <td>242772</td>\n",
       "      <td>240451</td>\n",
       "      <td>266299</td>\n",
       "      <td>1835881</td>\n",
       "      <td>266299</td>\n",
       "    </tr>\n",
       "    <tr>\n",
       "      <th>2018-01-07</th>\n",
       "      <td>267890</td>\n",
       "      <td>247950</td>\n",
       "      <td>244187</td>\n",
       "      <td>280999</td>\n",
       "      <td>3180751</td>\n",
       "      <td>280999</td>\n",
       "    </tr>\n",
       "    <tr>\n",
       "      <th>2018-01-08</th>\n",
       "      <td>283100</td>\n",
       "      <td>258824</td>\n",
       "      <td>260037</td>\n",
       "      <td>282446</td>\n",
       "      <td>4603982</td>\n",
       "      <td>282446</td>\n",
       "    </tr>\n",
       "    <tr>\n",
       "      <th>2018-01-09</th>\n",
       "      <td>298786</td>\n",
       "      <td>271895</td>\n",
       "      <td>283847</td>\n",
       "      <td>273109</td>\n",
       "      <td>5471400</td>\n",
       "      <td>273109</td>\n",
       "    </tr>\n",
       "  </tbody>\n",
       "</table>\n",
       "</div>"
      ],
      "text/plain": [
       "              High     Low    Open   Close   Volume  Adj Close\n",
       "Date                                                          \n",
       "2018-01-03  230812  212045  213725  230345  2582354     230345\n",
       "2018-01-04  243884  229038  233053  233427  3497379     233427\n",
       "2018-01-05  249300  237162  238002  249206  2057303     249206\n",
       "2018-01-06  256745  242772  240451  266299  1835881     266299\n",
       "2018-01-07  267890  247950  244187  280999  3180751     280999\n",
       "2018-01-08  283100  258824  260037  282446  4603982     282446\n",
       "2018-01-09  298786  271895  283847  273109  5471400     273109"
      ]
     },
     "execution_count": 55,
     "metadata": {},
     "output_type": "execute_result"
    }
   ],
   "source": [
    "in_spline.head(7)"
   ]
  },
  {
   "cell_type": "code",
   "execution_count": null,
   "metadata": {},
   "outputs": [],
   "source": []
  },
  {
   "cell_type": "code",
   "execution_count": 56,
   "metadata": {},
   "outputs": [],
   "source": [
    "index = pd.date_range('1/1/2018', periods=9, freq='T')"
   ]
  },
  {
   "cell_type": "code",
   "execution_count": 57,
   "metadata": {},
   "outputs": [],
   "source": [
    "series = pd.Series(range(9), index=index)"
   ]
  },
  {
   "cell_type": "code",
   "execution_count": 58,
   "metadata": {},
   "outputs": [
    {
     "data": {
      "text/plain": [
       "2018-01-01 00:00:00    0\n",
       "2018-01-01 00:01:00    1\n",
       "2018-01-01 00:02:00    2\n",
       "2018-01-01 00:03:00    3\n",
       "2018-01-01 00:04:00    4\n",
       "2018-01-01 00:05:00    5\n",
       "2018-01-01 00:06:00    6\n",
       "2018-01-01 00:07:00    7\n",
       "2018-01-01 00:08:00    8\n",
       "Freq: T, dtype: int64"
      ]
     },
     "execution_count": 58,
     "metadata": {},
     "output_type": "execute_result"
    }
   ],
   "source": [
    "series "
   ]
  },
  {
   "cell_type": "code",
   "execution_count": 59,
   "metadata": {},
   "outputs": [
    {
     "data": {
      "text/plain": [
       "2018-01-01 00:00:00     3\n",
       "2018-01-01 00:03:00    12\n",
       "2018-01-01 00:06:00    21\n",
       "Freq: 3T, dtype: int64"
      ]
     },
     "execution_count": 59,
     "metadata": {},
     "output_type": "execute_result"
    }
   ],
   "source": [
    "series.resample('3T').sum()"
   ]
  },
  {
   "cell_type": "code",
   "execution_count": 60,
   "metadata": {},
   "outputs": [
    {
     "data": {
      "text/plain": [
       "2018-01-01 00:03:00     3\n",
       "2018-01-01 00:06:00    12\n",
       "2018-01-01 00:09:00    21\n",
       "Freq: 3T, dtype: int64"
      ]
     },
     "execution_count": 60,
     "metadata": {},
     "output_type": "execute_result"
    }
   ],
   "source": [
    "series.resample('3T', label='right').sum()"
   ]
  },
  {
   "cell_type": "code",
   "execution_count": 61,
   "metadata": {},
   "outputs": [
    {
     "data": {
      "text/plain": [
       "2018-01-01 00:00:00     0\n",
       "2018-01-01 00:03:00     6\n",
       "2018-01-01 00:06:00    15\n",
       "2018-01-01 00:09:00    15\n",
       "Freq: 3T, dtype: int64"
      ]
     },
     "execution_count": 61,
     "metadata": {},
     "output_type": "execute_result"
    }
   ],
   "source": [
    "series.resample('3T', label='right', closed='right').sum()"
   ]
  },
  {
   "cell_type": "code",
   "execution_count": null,
   "metadata": {},
   "outputs": [],
   "source": []
  },
  {
   "cell_type": "code",
   "execution_count": 62,
   "metadata": {},
   "outputs": [],
   "source": [
    "index_h = pd.date_range('1/1/2018', periods=9, freq='H')"
   ]
  },
  {
   "cell_type": "code",
   "execution_count": 63,
   "metadata": {},
   "outputs": [],
   "source": [
    "series_h = pd.Series(range(9), index=index_h)"
   ]
  },
  {
   "cell_type": "code",
   "execution_count": 64,
   "metadata": {},
   "outputs": [
    {
     "data": {
      "text/plain": [
       "2018-01-01 00:00:00    0\n",
       "2018-01-01 01:00:00    1\n",
       "2018-01-01 02:00:00    2\n",
       "2018-01-01 03:00:00    3\n",
       "2018-01-01 04:00:00    4\n",
       "2018-01-01 05:00:00    5\n",
       "2018-01-01 06:00:00    6\n",
       "2018-01-01 07:00:00    7\n",
       "2018-01-01 08:00:00    8\n",
       "Freq: H, dtype: int64"
      ]
     },
     "execution_count": 64,
     "metadata": {},
     "output_type": "execute_result"
    }
   ],
   "source": [
    "series_h"
   ]
  },
  {
   "cell_type": "code",
   "execution_count": 65,
   "metadata": {},
   "outputs": [],
   "source": [
    "sh_re = series_h.resample('3H')"
   ]
  },
  {
   "cell_type": "code",
   "execution_count": 66,
   "metadata": {},
   "outputs": [
    {
     "data": {
      "text/plain": [
       "pandas.core.resample.DatetimeIndexResampler"
      ]
     },
     "execution_count": 66,
     "metadata": {},
     "output_type": "execute_result"
    }
   ],
   "source": [
    "type(sh_re)"
   ]
  },
  {
   "cell_type": "code",
   "execution_count": 67,
   "metadata": {},
   "outputs": [
    {
     "data": {
      "text/plain": [
       "2018-01-01 00:00:00     3\n",
       "2018-01-01 03:00:00    12\n",
       "2018-01-01 06:00:00    21\n",
       "Freq: 3H, dtype: int64"
      ]
     },
     "execution_count": 67,
     "metadata": {},
     "output_type": "execute_result"
    }
   ],
   "source": [
    "series_h.resample('3H').sum()"
   ]
  },
  {
   "cell_type": "code",
   "execution_count": null,
   "metadata": {},
   "outputs": [],
   "source": []
  },
  {
   "cell_type": "code",
   "execution_count": 68,
   "metadata": {},
   "outputs": [],
   "source": [
    "sh = series_h.asfreq(freq='3H')"
   ]
  },
  {
   "cell_type": "code",
   "execution_count": 69,
   "metadata": {},
   "outputs": [
    {
     "data": {
      "text/plain": [
       "pandas.core.series.Series"
      ]
     },
     "execution_count": 69,
     "metadata": {},
     "output_type": "execute_result"
    }
   ],
   "source": [
    "type(sh)"
   ]
  },
  {
   "cell_type": "code",
   "execution_count": 70,
   "metadata": {},
   "outputs": [
    {
     "data": {
      "text/plain": [
       "2018-01-01 00:00:00    0\n",
       "2018-01-01 03:00:00    3\n",
       "2018-01-01 06:00:00    6\n",
       "Freq: 3H, dtype: int64"
      ]
     },
     "execution_count": 70,
     "metadata": {},
     "output_type": "execute_result"
    }
   ],
   "source": [
    "sh"
   ]
  },
  {
   "cell_type": "code",
   "execution_count": null,
   "metadata": {},
   "outputs": [],
   "source": []
  },
  {
   "cell_type": "markdown",
   "metadata": {},
   "source": [
    "## 예제 7-6 추가 메소드 적용하기"
   ]
  },
  {
   "cell_type": "code",
   "execution_count": 71,
   "metadata": {},
   "outputs": [],
   "source": [
    "from pandas_datareader import data"
   ]
  },
  {
   "cell_type": "code",
   "execution_count": 72,
   "metadata": {},
   "outputs": [],
   "source": [
    "cel_s = data.DataReader(\"068270.KS\", \"yahoo\", '2018-01-02', '2018-08-31')"
   ]
  },
  {
   "cell_type": "code",
   "execution_count": 73,
   "metadata": {},
   "outputs": [
    {
     "data": {
      "text/html": [
       "<div>\n",
       "<style scoped>\n",
       "    .dataframe tbody tr th:only-of-type {\n",
       "        vertical-align: middle;\n",
       "    }\n",
       "\n",
       "    .dataframe tbody tr th {\n",
       "        vertical-align: top;\n",
       "    }\n",
       "\n",
       "    .dataframe thead th {\n",
       "        text-align: right;\n",
       "    }\n",
       "</style>\n",
       "<table border=\"1\" class=\"dataframe\">\n",
       "  <thead>\n",
       "    <tr style=\"text-align: right;\">\n",
       "      <th></th>\n",
       "      <th>High</th>\n",
       "      <th>Low</th>\n",
       "      <th>Open</th>\n",
       "      <th>Close</th>\n",
       "      <th>Volume</th>\n",
       "      <th>Adj Close</th>\n",
       "    </tr>\n",
       "  </thead>\n",
       "  <tbody>\n",
       "    <tr>\n",
       "      <th>High</th>\n",
       "      <td>1.000000</td>\n",
       "      <td>0.958222</td>\n",
       "      <td>0.962288</td>\n",
       "      <td>0.969028</td>\n",
       "      <td>0.425471</td>\n",
       "      <td>0.969028</td>\n",
       "    </tr>\n",
       "    <tr>\n",
       "      <th>Low</th>\n",
       "      <td>0.958222</td>\n",
       "      <td>1.000000</td>\n",
       "      <td>0.967921</td>\n",
       "      <td>0.964572</td>\n",
       "      <td>0.224852</td>\n",
       "      <td>0.964572</td>\n",
       "    </tr>\n",
       "    <tr>\n",
       "      <th>Open</th>\n",
       "      <td>0.962288</td>\n",
       "      <td>0.967921</td>\n",
       "      <td>1.000000</td>\n",
       "      <td>0.919116</td>\n",
       "      <td>0.303828</td>\n",
       "      <td>0.919116</td>\n",
       "    </tr>\n",
       "    <tr>\n",
       "      <th>Close</th>\n",
       "      <td>0.969028</td>\n",
       "      <td>0.964572</td>\n",
       "      <td>0.919116</td>\n",
       "      <td>1.000000</td>\n",
       "      <td>0.342265</td>\n",
       "      <td>1.000000</td>\n",
       "    </tr>\n",
       "    <tr>\n",
       "      <th>Volume</th>\n",
       "      <td>0.425471</td>\n",
       "      <td>0.224852</td>\n",
       "      <td>0.303828</td>\n",
       "      <td>0.342265</td>\n",
       "      <td>1.000000</td>\n",
       "      <td>0.342265</td>\n",
       "    </tr>\n",
       "    <tr>\n",
       "      <th>Adj Close</th>\n",
       "      <td>0.969028</td>\n",
       "      <td>0.964572</td>\n",
       "      <td>0.919116</td>\n",
       "      <td>1.000000</td>\n",
       "      <td>0.342265</td>\n",
       "      <td>1.000000</td>\n",
       "    </tr>\n",
       "  </tbody>\n",
       "</table>\n",
       "</div>"
      ],
      "text/plain": [
       "               High       Low      Open     Close    Volume  Adj Close\n",
       "High       1.000000  0.958222  0.962288  0.969028  0.425471   0.969028\n",
       "Low        0.958222  1.000000  0.967921  0.964572  0.224852   0.964572\n",
       "Open       0.962288  0.967921  1.000000  0.919116  0.303828   0.919116\n",
       "Close      0.969028  0.964572  0.919116  1.000000  0.342265   1.000000\n",
       "Volume     0.425471  0.224852  0.303828  0.342265  1.000000   0.342265\n",
       "Adj Close  0.969028  0.964572  0.919116  1.000000  0.342265   1.000000"
      ]
     },
     "execution_count": 73,
     "metadata": {},
     "output_type": "execute_result"
    }
   ],
   "source": [
    "cel_s.corr()"
   ]
  },
  {
   "cell_type": "code",
   "execution_count": 74,
   "metadata": {},
   "outputs": [
    {
     "data": {
      "text/html": [
       "<div>\n",
       "<style scoped>\n",
       "    .dataframe tbody tr th:only-of-type {\n",
       "        vertical-align: middle;\n",
       "    }\n",
       "\n",
       "    .dataframe tbody tr th {\n",
       "        vertical-align: top;\n",
       "    }\n",
       "\n",
       "    .dataframe thead th {\n",
       "        text-align: right;\n",
       "    }\n",
       "</style>\n",
       "<table border=\"1\" class=\"dataframe\">\n",
       "  <thead>\n",
       "    <tr style=\"text-align: right;\">\n",
       "      <th></th>\n",
       "      <th>High</th>\n",
       "      <th>Low</th>\n",
       "      <th>Open</th>\n",
       "      <th>Close</th>\n",
       "      <th>Volume</th>\n",
       "      <th>Adj Close</th>\n",
       "    </tr>\n",
       "    <tr>\n",
       "      <th>Date</th>\n",
       "      <th></th>\n",
       "      <th></th>\n",
       "      <th></th>\n",
       "      <th></th>\n",
       "      <th></th>\n",
       "      <th></th>\n",
       "    </tr>\n",
       "  </thead>\n",
       "  <tbody>\n",
       "    <tr>\n",
       "      <th>2018-01-03</th>\n",
       "      <td>230812</td>\n",
       "      <td>212045</td>\n",
       "      <td>213725</td>\n",
       "      <td>230345</td>\n",
       "      <td>2582354</td>\n",
       "      <td>230345</td>\n",
       "    </tr>\n",
       "    <tr>\n",
       "      <th>2018-01-04</th>\n",
       "      <td>474696</td>\n",
       "      <td>441083</td>\n",
       "      <td>446778</td>\n",
       "      <td>463772</td>\n",
       "      <td>6079733</td>\n",
       "      <td>463772</td>\n",
       "    </tr>\n",
       "    <tr>\n",
       "      <th>2018-01-05</th>\n",
       "      <td>723996</td>\n",
       "      <td>678245</td>\n",
       "      <td>684780</td>\n",
       "      <td>712978</td>\n",
       "      <td>8137036</td>\n",
       "      <td>712978</td>\n",
       "    </tr>\n",
       "    <tr>\n",
       "      <th>2018-01-08</th>\n",
       "      <td>1007096</td>\n",
       "      <td>937069</td>\n",
       "      <td>944817</td>\n",
       "      <td>995424</td>\n",
       "      <td>12741018</td>\n",
       "      <td>995424</td>\n",
       "    </tr>\n",
       "    <tr>\n",
       "      <th>2018-01-09</th>\n",
       "      <td>1305882</td>\n",
       "      <td>1208964</td>\n",
       "      <td>1228664</td>\n",
       "      <td>1268533</td>\n",
       "      <td>18212418</td>\n",
       "      <td>1268533</td>\n",
       "    </tr>\n",
       "  </tbody>\n",
       "</table>\n",
       "</div>"
      ],
      "text/plain": [
       "               High      Low     Open    Close    Volume  Adj Close\n",
       "Date                                                               \n",
       "2018-01-03   230812   212045   213725   230345   2582354     230345\n",
       "2018-01-04   474696   441083   446778   463772   6079733     463772\n",
       "2018-01-05   723996   678245   684780   712978   8137036     712978\n",
       "2018-01-08  1007096   937069   944817   995424  12741018     995424\n",
       "2018-01-09  1305882  1208964  1228664  1268533  18212418    1268533"
      ]
     },
     "execution_count": 74,
     "metadata": {},
     "output_type": "execute_result"
    }
   ],
   "source": [
    "cel_s.cumsum().head()"
   ]
  },
  {
   "cell_type": "code",
   "execution_count": 75,
   "metadata": {},
   "outputs": [
    {
     "data": {
      "text/html": [
       "<div>\n",
       "<style scoped>\n",
       "    .dataframe tbody tr th:only-of-type {\n",
       "        vertical-align: middle;\n",
       "    }\n",
       "\n",
       "    .dataframe tbody tr th {\n",
       "        vertical-align: top;\n",
       "    }\n",
       "\n",
       "    .dataframe thead th {\n",
       "        text-align: right;\n",
       "    }\n",
       "</style>\n",
       "<table border=\"1\" class=\"dataframe\">\n",
       "  <thead>\n",
       "    <tr style=\"text-align: right;\">\n",
       "      <th></th>\n",
       "      <th>High</th>\n",
       "      <th>Low</th>\n",
       "      <th>Open</th>\n",
       "      <th>Close</th>\n",
       "      <th>Volume</th>\n",
       "      <th>Adj Close</th>\n",
       "    </tr>\n",
       "    <tr>\n",
       "      <th>Date</th>\n",
       "      <th></th>\n",
       "      <th></th>\n",
       "      <th></th>\n",
       "      <th></th>\n",
       "      <th></th>\n",
       "      <th></th>\n",
       "    </tr>\n",
       "  </thead>\n",
       "  <tbody>\n",
       "    <tr>\n",
       "      <th>2018-08-27</th>\n",
       "      <td>44431749</td>\n",
       "      <td>42249394</td>\n",
       "      <td>43298319</td>\n",
       "      <td>43239775</td>\n",
       "      <td>250220899</td>\n",
       "      <td>43239775</td>\n",
       "    </tr>\n",
       "    <tr>\n",
       "      <th>2018-08-28</th>\n",
       "      <td>44693187</td>\n",
       "      <td>42500561</td>\n",
       "      <td>43559290</td>\n",
       "      <td>43490942</td>\n",
       "      <td>251019202</td>\n",
       "      <td>43490942</td>\n",
       "    </tr>\n",
       "    <tr>\n",
       "      <th>2018-08-29</th>\n",
       "      <td>44949023</td>\n",
       "      <td>42751728</td>\n",
       "      <td>43810457</td>\n",
       "      <td>43742576</td>\n",
       "      <td>251458400</td>\n",
       "      <td>43742576</td>\n",
       "    </tr>\n",
       "    <tr>\n",
       "      <th>2018-08-30</th>\n",
       "      <td>45201124</td>\n",
       "      <td>42998693</td>\n",
       "      <td>44062558</td>\n",
       "      <td>43991409</td>\n",
       "      <td>252049128</td>\n",
       "      <td>43991409</td>\n",
       "    </tr>\n",
       "    <tr>\n",
       "      <th>2018-08-31</th>\n",
       "      <td>45455559</td>\n",
       "      <td>43246125</td>\n",
       "      <td>44311391</td>\n",
       "      <td>44243510</td>\n",
       "      <td>252768731</td>\n",
       "      <td>44243510</td>\n",
       "    </tr>\n",
       "  </tbody>\n",
       "</table>\n",
       "</div>"
      ],
      "text/plain": [
       "                High       Low      Open     Close     Volume  Adj Close\n",
       "Date                                                                    \n",
       "2018-08-27  44431749  42249394  43298319  43239775  250220899   43239775\n",
       "2018-08-28  44693187  42500561  43559290  43490942  251019202   43490942\n",
       "2018-08-29  44949023  42751728  43810457  43742576  251458400   43742576\n",
       "2018-08-30  45201124  42998693  44062558  43991409  252049128   43991409\n",
       "2018-08-31  45455559  43246125  44311391  44243510  252768731   44243510"
      ]
     },
     "execution_count": 75,
     "metadata": {},
     "output_type": "execute_result"
    }
   ],
   "source": [
    "cel_s.cumsum().tail()"
   ]
  },
  {
   "cell_type": "code",
   "execution_count": 76,
   "metadata": {},
   "outputs": [
    {
     "data": {
      "text/plain": [
       "Date\n",
       "2018-01-03                 230812\n",
       "2018-01-04            56291353808\n",
       "2018-01-05      14033434504334400\n",
       "2018-01-08    6815332329515042560\n",
       "2018-01-09    8253853757812993536\n",
       "Name: High, dtype: int64"
      ]
     },
     "execution_count": 76,
     "metadata": {},
     "output_type": "execute_result"
    }
   ],
   "source": [
    "cel_s.cumprod()['High'].head()"
   ]
  },
  {
   "cell_type": "code",
   "execution_count": null,
   "metadata": {},
   "outputs": [],
   "source": []
  },
  {
   "cell_type": "code",
   "execution_count": 77,
   "metadata": {},
   "outputs": [],
   "source": [
    "cel_as = cel_s.astype('float64')"
   ]
  },
  {
   "cell_type": "code",
   "execution_count": 78,
   "metadata": {},
   "outputs": [
    {
     "data": {
      "text/plain": [
       "inf"
      ]
     },
     "execution_count": 78,
     "metadata": {},
     "output_type": "execute_result"
    }
   ],
   "source": [
    "cel_as.cumprod()['High'].iloc[100]"
   ]
  },
  {
   "cell_type": "code",
   "execution_count": null,
   "metadata": {},
   "outputs": [],
   "source": []
  }
 ],
 "metadata": {
  "kernelspec": {
   "display_name": "Python 3",
   "language": "python",
   "name": "python3"
  },
  "language_info": {
   "codemirror_mode": {
    "name": "ipython",
    "version": 3
   },
   "file_extension": ".py",
   "mimetype": "text/x-python",
   "name": "python",
   "nbconvert_exporter": "python",
   "pygments_lexer": "ipython3",
   "version": "3.8.5"
  }
 },
 "nbformat": 4,
 "nbformat_minor": 2
}
