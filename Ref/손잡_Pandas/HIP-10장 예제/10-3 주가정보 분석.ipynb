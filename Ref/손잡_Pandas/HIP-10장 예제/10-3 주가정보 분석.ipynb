{
 "cells": [
  {
   "cell_type": "code",
   "execution_count": 38,
   "metadata": {},
   "outputs": [],
   "source": [
    "import pandas as pd"
   ]
  },
  {
   "cell_type": "markdown",
   "metadata": {
    "collapsed": true
   },
   "source": [
    "## 예제 10-10 주가 정보 가져와서 확인하기"
   ]
  },
  {
   "cell_type": "code",
   "execution_count": 39,
   "metadata": {},
   "outputs": [],
   "source": [
    "import matplotlib.pyplot as plt"
   ]
  },
  {
   "cell_type": "code",
   "execution_count": 40,
   "metadata": {},
   "outputs": [],
   "source": [
    "%matplotlib inline"
   ]
  },
  {
   "cell_type": "markdown",
   "metadata": {},
   "source": [
    "!conda install -c anaconda pandas-datareader "
   ]
  },
  {
   "cell_type": "markdown",
   "metadata": {},
   "source": [
    "!pip install pandas-datareader "
   ]
  },
  {
   "cell_type": "code",
   "execution_count": 41,
   "metadata": {},
   "outputs": [],
   "source": [
    " # !pip install pandas-datareader"
   ]
  },
  {
   "cell_type": "code",
   "execution_count": 42,
   "metadata": {
    "scrolled": true
   },
   "outputs": [],
   "source": [
    "from pandas_datareader import data"
   ]
  },
  {
   "cell_type": "code",
   "execution_count": 43,
   "metadata": {},
   "outputs": [],
   "source": [
    "import datetime"
   ]
  },
  {
   "cell_type": "code",
   "execution_count": 44,
   "metadata": {},
   "outputs": [
    {
     "data": {
      "text/plain": [
       "datetime.datetime(2014, 2, 19, 0, 0)"
      ]
     },
     "execution_count": 44,
     "metadata": {},
     "output_type": "execute_result"
    }
   ],
   "source": [
    "start = datetime.datetime(2014, 2, 19)\n",
    "start"
   ]
  },
  {
   "cell_type": "code",
   "execution_count": 45,
   "metadata": {},
   "outputs": [
    {
     "data": {
      "text/plain": [
       "datetime.datetime(2018, 3, 4, 0, 0)"
      ]
     },
     "execution_count": 45,
     "metadata": {},
     "output_type": "execute_result"
    }
   ],
   "source": [
    "end = datetime.datetime(2018, 3, 4)\n",
    "end"
   ]
  },
  {
   "cell_type": "code",
   "execution_count": null,
   "metadata": {},
   "outputs": [],
   "source": []
  },
  {
   "cell_type": "code",
   "execution_count": 46,
   "metadata": {},
   "outputs": [],
   "source": [
    "f = data.DataReader(\"068270.KS\", \"yahoo\", start, end)"
   ]
  },
  {
   "cell_type": "code",
   "execution_count": 47,
   "metadata": {},
   "outputs": [
    {
     "data": {
      "text/html": [
       "<div>\n",
       "<style scoped>\n",
       "    .dataframe tbody tr th:only-of-type {\n",
       "        vertical-align: middle;\n",
       "    }\n",
       "\n",
       "    .dataframe tbody tr th {\n",
       "        vertical-align: top;\n",
       "    }\n",
       "\n",
       "    .dataframe thead th {\n",
       "        text-align: right;\n",
       "    }\n",
       "</style>\n",
       "<table border=\"1\" class=\"dataframe\">\n",
       "  <thead>\n",
       "    <tr style=\"text-align: right;\">\n",
       "      <th></th>\n",
       "      <th>High</th>\n",
       "      <th>Low</th>\n",
       "      <th>Open</th>\n",
       "      <th>Close</th>\n",
       "      <th>Volume</th>\n",
       "      <th>Adj Close</th>\n",
       "    </tr>\n",
       "    <tr>\n",
       "      <th>Date</th>\n",
       "      <th></th>\n",
       "      <th></th>\n",
       "      <th></th>\n",
       "      <th></th>\n",
       "      <th></th>\n",
       "      <th></th>\n",
       "    </tr>\n",
       "  </thead>\n",
       "  <tbody>\n",
       "    <tr>\n",
       "      <th>2014-02-19</th>\n",
       "      <td>39418.800781</td>\n",
       "      <td>35952.500000</td>\n",
       "      <td>36436.199219</td>\n",
       "      <td>38572.398438</td>\n",
       "      <td>3758157.0</td>\n",
       "      <td>38572.398438</td>\n",
       "    </tr>\n",
       "    <tr>\n",
       "      <th>2014-02-20</th>\n",
       "      <td>38935.101562</td>\n",
       "      <td>37202.000000</td>\n",
       "      <td>38814.199219</td>\n",
       "      <td>37484.101562</td>\n",
       "      <td>1514137.0</td>\n",
       "      <td>37484.101562</td>\n",
       "    </tr>\n",
       "    <tr>\n",
       "      <th>2014-02-21</th>\n",
       "      <td>38532.101562</td>\n",
       "      <td>37322.898438</td>\n",
       "      <td>37806.601562</td>\n",
       "      <td>37927.500000</td>\n",
       "      <td>850284.0</td>\n",
       "      <td>37927.500000</td>\n",
       "    </tr>\n",
       "    <tr>\n",
       "      <th>2014-02-24</th>\n",
       "      <td>39136.699219</td>\n",
       "      <td>37927.500000</td>\n",
       "      <td>38209.601562</td>\n",
       "      <td>38008.101562</td>\n",
       "      <td>946798.0</td>\n",
       "      <td>38008.101562</td>\n",
       "    </tr>\n",
       "    <tr>\n",
       "      <th>2014-02-25</th>\n",
       "      <td>38532.101562</td>\n",
       "      <td>37605.101562</td>\n",
       "      <td>38330.601562</td>\n",
       "      <td>38209.601562</td>\n",
       "      <td>536812.0</td>\n",
       "      <td>38209.601562</td>\n",
       "    </tr>\n",
       "  </tbody>\n",
       "</table>\n",
       "</div>"
      ],
      "text/plain": [
       "                    High           Low          Open         Close     Volume  \\\n",
       "Date                                                                            \n",
       "2014-02-19  39418.800781  35952.500000  36436.199219  38572.398438  3758157.0   \n",
       "2014-02-20  38935.101562  37202.000000  38814.199219  37484.101562  1514137.0   \n",
       "2014-02-21  38532.101562  37322.898438  37806.601562  37927.500000   850284.0   \n",
       "2014-02-24  39136.699219  37927.500000  38209.601562  38008.101562   946798.0   \n",
       "2014-02-25  38532.101562  37605.101562  38330.601562  38209.601562   536812.0   \n",
       "\n",
       "               Adj Close  \n",
       "Date                      \n",
       "2014-02-19  38572.398438  \n",
       "2014-02-20  37484.101562  \n",
       "2014-02-21  37927.500000  \n",
       "2014-02-24  38008.101562  \n",
       "2014-02-25  38209.601562  "
      ]
     },
     "execution_count": 47,
     "metadata": {},
     "output_type": "execute_result"
    }
   ],
   "source": [
    "f.head()"
   ]
  },
  {
   "cell_type": "code",
   "execution_count": 48,
   "metadata": {},
   "outputs": [
    {
     "data": {
      "text/html": [
       "<div>\n",
       "<style scoped>\n",
       "    .dataframe tbody tr th:only-of-type {\n",
       "        vertical-align: middle;\n",
       "    }\n",
       "\n",
       "    .dataframe tbody tr th {\n",
       "        vertical-align: top;\n",
       "    }\n",
       "\n",
       "    .dataframe thead th {\n",
       "        text-align: right;\n",
       "    }\n",
       "</style>\n",
       "<table border=\"1\" class=\"dataframe\">\n",
       "  <thead>\n",
       "    <tr style=\"text-align: right;\">\n",
       "      <th></th>\n",
       "      <th>High</th>\n",
       "      <th>Low</th>\n",
       "      <th>Open</th>\n",
       "      <th>Close</th>\n",
       "      <th>Volume</th>\n",
       "      <th>Adj Close</th>\n",
       "    </tr>\n",
       "    <tr>\n",
       "      <th>Date</th>\n",
       "      <th></th>\n",
       "      <th></th>\n",
       "      <th></th>\n",
       "      <th></th>\n",
       "      <th></th>\n",
       "      <th></th>\n",
       "    </tr>\n",
       "  </thead>\n",
       "  <tbody>\n",
       "    <tr>\n",
       "      <th>2018-02-23</th>\n",
       "      <td>301120.0</td>\n",
       "      <td>286648.0</td>\n",
       "      <td>288515.0</td>\n",
       "      <td>296919.0</td>\n",
       "      <td>1045846.0</td>\n",
       "      <td>296919.0</td>\n",
       "    </tr>\n",
       "    <tr>\n",
       "      <th>2018-02-26</th>\n",
       "      <td>306256.0</td>\n",
       "      <td>299253.0</td>\n",
       "      <td>299720.0</td>\n",
       "      <td>304855.0</td>\n",
       "      <td>885860.0</td>\n",
       "      <td>304855.0</td>\n",
       "    </tr>\n",
       "    <tr>\n",
       "      <th>2018-02-27</th>\n",
       "      <td>330999.0</td>\n",
       "      <td>308590.0</td>\n",
       "      <td>311858.0</td>\n",
       "      <td>327731.0</td>\n",
       "      <td>2246829.0</td>\n",
       "      <td>327731.0</td>\n",
       "    </tr>\n",
       "    <tr>\n",
       "      <th>2018-02-28</th>\n",
       "      <td>340336.0</td>\n",
       "      <td>319328.0</td>\n",
       "      <td>319795.0</td>\n",
       "      <td>329598.0</td>\n",
       "      <td>2586064.0</td>\n",
       "      <td>329598.0</td>\n",
       "    </tr>\n",
       "    <tr>\n",
       "      <th>2018-03-02</th>\n",
       "      <td>347339.0</td>\n",
       "      <td>327731.0</td>\n",
       "      <td>329598.0</td>\n",
       "      <td>347339.0</td>\n",
       "      <td>2103542.0</td>\n",
       "      <td>347339.0</td>\n",
       "    </tr>\n",
       "  </tbody>\n",
       "</table>\n",
       "</div>"
      ],
      "text/plain": [
       "                High       Low      Open     Close     Volume  Adj Close\n",
       "Date                                                                    \n",
       "2018-02-23  301120.0  286648.0  288515.0  296919.0  1045846.0   296919.0\n",
       "2018-02-26  306256.0  299253.0  299720.0  304855.0   885860.0   304855.0\n",
       "2018-02-27  330999.0  308590.0  311858.0  327731.0  2246829.0   327731.0\n",
       "2018-02-28  340336.0  319328.0  319795.0  329598.0  2586064.0   329598.0\n",
       "2018-03-02  347339.0  327731.0  329598.0  347339.0  2103542.0   347339.0"
      ]
     },
     "execution_count": 48,
     "metadata": {},
     "output_type": "execute_result"
    }
   ],
   "source": [
    "f.tail()"
   ]
  },
  {
   "cell_type": "code",
   "execution_count": 49,
   "metadata": {},
   "outputs": [
    {
     "data": {
      "text/plain": [
       "High         0\n",
       "Low          0\n",
       "Open         0\n",
       "Close        0\n",
       "Volume       0\n",
       "Adj Close    0\n",
       "dtype: int64"
      ]
     },
     "execution_count": 49,
     "metadata": {},
     "output_type": "execute_result"
    }
   ],
   "source": [
    "f.isnull().sum()"
   ]
  },
  {
   "cell_type": "markdown",
   "metadata": {},
   "source": [
    "#### seaborn 을 이용하면 실제 스타일이 바뀐다"
   ]
  },
  {
   "cell_type": "markdown",
   "metadata": {},
   "source": [
    "!pip install seaborn"
   ]
  },
  {
   "cell_type": "code",
   "execution_count": 50,
   "metadata": {},
   "outputs": [],
   "source": [
    "import seaborn\n",
    "\n",
    "seaborn.set()"
   ]
  },
  {
   "cell_type": "code",
   "execution_count": 51,
   "metadata": {},
   "outputs": [
    {
     "data": {
      "text/plain": [
       "<AxesSubplot:xlabel='Date'>"
      ]
     },
     "execution_count": 51,
     "metadata": {},
     "output_type": "execute_result"
    },
    {
     "data": {
      "image/png": "[encoded data removed]",
      "text/plain": [
       "<Figure size 432x288 with 1 Axes>"
      ]
     },
     "metadata": {},
     "output_type": "display_data"
    }
   ],
   "source": [
    "f.plot()"
   ]
  },
  {
   "cell_type": "code",
   "execution_count": 52,
   "metadata": {},
   "outputs": [
    {
     "data": {
      "text/plain": [
       "Index(['High', 'Low', 'Open', 'Close', 'Volume', 'Adj Close'], dtype='object')"
      ]
     },
     "execution_count": 52,
     "metadata": {},
     "output_type": "execute_result"
    }
   ],
   "source": [
    "f.columns"
   ]
  },
  {
   "cell_type": "code",
   "execution_count": 53,
   "metadata": {},
   "outputs": [
    {
     "data": {
      "text/plain": [
       "DatetimeIndex(['2014-02-19', '2014-02-20', '2014-02-21', '2014-02-24',\n",
       "               '2014-02-25', '2014-02-26', '2014-02-27', '2014-02-28',\n",
       "               '2014-03-03', '2014-03-04',\n",
       "               ...\n",
       "               '2018-02-14', '2018-02-19', '2018-02-20', '2018-02-21',\n",
       "               '2018-02-22', '2018-02-23', '2018-02-26', '2018-02-27',\n",
       "               '2018-02-28', '2018-03-02'],\n",
       "              dtype='datetime64[ns]', name='Date', length=987, freq=None)"
      ]
     },
     "execution_count": 53,
     "metadata": {},
     "output_type": "execute_result"
    }
   ],
   "source": [
    "f.index"
   ]
  },
  {
   "cell_type": "code",
   "execution_count": null,
   "metadata": {},
   "outputs": [],
   "source": []
  },
  {
   "cell_type": "code",
   "execution_count": 54,
   "metadata": {},
   "outputs": [
    {
     "data": {
      "text/plain": [
       "<AxesSubplot:xlabel='Date'>"
      ]
     },
     "execution_count": 54,
     "metadata": {},
     "output_type": "execute_result"
    },
    {
     "data": {
      "image/png": "[encoded data removed]",
      "text/plain": [
       "<Figure size 432x288 with 1 Axes>"
      ]
     },
     "metadata": {},
     "output_type": "display_data"
    }
   ],
   "source": [
    "f.resample('BA').mean().plot()"
   ]
  },
  {
   "cell_type": "code",
   "execution_count": 55,
   "metadata": {},
   "outputs": [
    {
     "data": {
      "text/html": [
       "<div>\n",
       "<style scoped>\n",
       "    .dataframe tbody tr th:only-of-type {\n",
       "        vertical-align: middle;\n",
       "    }\n",
       "\n",
       "    .dataframe tbody tr th {\n",
       "        vertical-align: top;\n",
       "    }\n",
       "\n",
       "    .dataframe thead th {\n",
       "        text-align: right;\n",
       "    }\n",
       "</style>\n",
       "<table border=\"1\" class=\"dataframe\">\n",
       "  <thead>\n",
       "    <tr style=\"text-align: right;\">\n",
       "      <th></th>\n",
       "      <th>High</th>\n",
       "      <th>Low</th>\n",
       "      <th>Open</th>\n",
       "      <th>Close</th>\n",
       "      <th>Volume</th>\n",
       "      <th>Adj Close</th>\n",
       "    </tr>\n",
       "    <tr>\n",
       "      <th>Date</th>\n",
       "      <th></th>\n",
       "      <th></th>\n",
       "      <th></th>\n",
       "      <th></th>\n",
       "      <th></th>\n",
       "      <th></th>\n",
       "    </tr>\n",
       "  </thead>\n",
       "  <tbody>\n",
       "    <tr>\n",
       "      <th>2014-12-31</th>\n",
       "      <td>36239.745415</td>\n",
       "      <td>35092.578483</td>\n",
       "      <td>35626.362080</td>\n",
       "      <td>35548.829042</td>\n",
       "      <td>8.272947e+05</td>\n",
       "      <td>35548.829042</td>\n",
       "    </tr>\n",
       "    <tr>\n",
       "      <th>2015-12-31</th>\n",
       "      <td>62806.593475</td>\n",
       "      <td>60052.977880</td>\n",
       "      <td>61376.342173</td>\n",
       "      <td>61229.877408</td>\n",
       "      <td>1.872413e+06</td>\n",
       "      <td>61229.877408</td>\n",
       "    </tr>\n",
       "    <tr>\n",
       "      <th>2016-12-30</th>\n",
       "      <td>92434.991171</td>\n",
       "      <td>89714.481739</td>\n",
       "      <td>91075.139450</td>\n",
       "      <td>90843.840003</td>\n",
       "      <td>9.957034e+05</td>\n",
       "      <td>90843.840003</td>\n",
       "    </tr>\n",
       "    <tr>\n",
       "      <th>2017-12-29</th>\n",
       "      <td>115685.037690</td>\n",
       "      <td>112074.451850</td>\n",
       "      <td>113819.444495</td>\n",
       "      <td>113758.506897</td>\n",
       "      <td>1.025958e+06</td>\n",
       "      <td>113758.506897</td>\n",
       "    </tr>\n",
       "    <tr>\n",
       "      <th>2018-12-31</th>\n",
       "      <td>294313.725000</td>\n",
       "      <td>274220.350000</td>\n",
       "      <td>282434.600000</td>\n",
       "      <td>284927.575000</td>\n",
       "      <td>2.561097e+06</td>\n",
       "      <td>284927.575000</td>\n",
       "    </tr>\n",
       "  </tbody>\n",
       "</table>\n",
       "</div>"
      ],
      "text/plain": [
       "                     High            Low           Open          Close  \\\n",
       "Date                                                                     \n",
       "2014-12-31   36239.745415   35092.578483   35626.362080   35548.829042   \n",
       "2015-12-31   62806.593475   60052.977880   61376.342173   61229.877408   \n",
       "2016-12-30   92434.991171   89714.481739   91075.139450   90843.840003   \n",
       "2017-12-29  115685.037690  112074.451850  113819.444495  113758.506897   \n",
       "2018-12-31  294313.725000  274220.350000  282434.600000  284927.575000   \n",
       "\n",
       "                  Volume      Adj Close  \n",
       "Date                                     \n",
       "2014-12-31  8.272947e+05   35548.829042  \n",
       "2015-12-31  1.872413e+06   61229.877408  \n",
       "2016-12-30  9.957034e+05   90843.840003  \n",
       "2017-12-29  1.025958e+06  113758.506897  \n",
       "2018-12-31  2.561097e+06  284927.575000  "
      ]
     },
     "execution_count": 55,
     "metadata": {},
     "output_type": "execute_result"
    }
   ],
   "source": [
    "f.resample('BA').mean().head()"
   ]
  },
  {
   "cell_type": "code",
   "execution_count": 56,
   "metadata": {},
   "outputs": [
    {
     "data": {
      "text/plain": [
       "High          32883.300781\n",
       "Low           32417.699219\n",
       "Open          32798.601562\n",
       "Close         32883.300781\n",
       "Volume       157983.000000\n",
       "Adj Close     32883.300781\n",
       "Name: 2014-12-30 00:00:00, dtype: float64"
      ]
     },
     "execution_count": 56,
     "metadata": {},
     "output_type": "execute_result"
    }
   ],
   "source": [
    "f.loc['2014-12-30']"
   ]
  },
  {
   "cell_type": "code",
   "execution_count": 57,
   "metadata": {},
   "outputs": [
    {
     "name": "stdout",
     "output_type": "stream",
     "text": [
      "'2014-12-31'\n"
     ]
    }
   ],
   "source": [
    "try :\n",
    "    f.loc['2014-12-31']\n",
    "except Exception as e :\n",
    "    print(e)"
   ]
  },
  {
   "cell_type": "code",
   "execution_count": 58,
   "metadata": {},
   "outputs": [
    {
     "data": {
      "text/html": [
       "<div>\n",
       "<style scoped>\n",
       "    .dataframe tbody tr th:only-of-type {\n",
       "        vertical-align: middle;\n",
       "    }\n",
       "\n",
       "    .dataframe tbody tr th {\n",
       "        vertical-align: top;\n",
       "    }\n",
       "\n",
       "    .dataframe thead th {\n",
       "        text-align: right;\n",
       "    }\n",
       "</style>\n",
       "<table border=\"1\" class=\"dataframe\">\n",
       "  <thead>\n",
       "    <tr style=\"text-align: right;\">\n",
       "      <th></th>\n",
       "      <th>High</th>\n",
       "      <th>Low</th>\n",
       "      <th>Open</th>\n",
       "      <th>Close</th>\n",
       "      <th>Volume</th>\n",
       "      <th>Adj Close</th>\n",
       "    </tr>\n",
       "    <tr>\n",
       "      <th>Date</th>\n",
       "      <th></th>\n",
       "      <th></th>\n",
       "      <th></th>\n",
       "      <th></th>\n",
       "      <th></th>\n",
       "      <th></th>\n",
       "    </tr>\n",
       "  </thead>\n",
       "  <tbody>\n",
       "    <tr>\n",
       "      <th>2014-12-31</th>\n",
       "      <td>32883.300781</td>\n",
       "      <td>32417.699219</td>\n",
       "      <td>32798.601562</td>\n",
       "      <td>32883.300781</td>\n",
       "      <td>157983.0</td>\n",
       "      <td>32883.300781</td>\n",
       "    </tr>\n",
       "    <tr>\n",
       "      <th>2015-12-31</th>\n",
       "      <td>74103.703125</td>\n",
       "      <td>72534.500000</td>\n",
       "      <td>74103.703125</td>\n",
       "      <td>73667.796875</td>\n",
       "      <td>1016498.0</td>\n",
       "      <td>73667.796875</td>\n",
       "    </tr>\n",
       "    <tr>\n",
       "      <th>2016-12-30</th>\n",
       "      <td>98588.500000</td>\n",
       "      <td>96208.398438</td>\n",
       "      <td>96849.203125</td>\n",
       "      <td>98313.796875</td>\n",
       "      <td>540847.0</td>\n",
       "      <td>98313.796875</td>\n",
       "    </tr>\n",
       "    <tr>\n",
       "      <th>2017-12-29</th>\n",
       "      <td>210738.000000</td>\n",
       "      <td>203641.000000</td>\n",
       "      <td>207190.000000</td>\n",
       "      <td>206443.000000</td>\n",
       "      <td>1991360.0</td>\n",
       "      <td>206443.000000</td>\n",
       "    </tr>\n",
       "  </tbody>\n",
       "</table>\n",
       "</div>"
      ],
      "text/plain": [
       "                     High            Low           Open          Close  \\\n",
       "Date                                                                     \n",
       "2014-12-31   32883.300781   32417.699219   32798.601562   32883.300781   \n",
       "2015-12-31   74103.703125   72534.500000   74103.703125   73667.796875   \n",
       "2016-12-30   98588.500000   96208.398438   96849.203125   98313.796875   \n",
       "2017-12-29  210738.000000  203641.000000  207190.000000  206443.000000   \n",
       "\n",
       "               Volume      Adj Close  \n",
       "Date                                  \n",
       "2014-12-31   157983.0   32883.300781  \n",
       "2015-12-31  1016498.0   73667.796875  \n",
       "2016-12-30   540847.0   98313.796875  \n",
       "2017-12-29  1991360.0  206443.000000  "
      ]
     },
     "execution_count": 58,
     "metadata": {},
     "output_type": "execute_result"
    }
   ],
   "source": [
    "f.asfreq('BA', method='ffill').head()"
   ]
  },
  {
   "cell_type": "code",
   "execution_count": 59,
   "metadata": {},
   "outputs": [
    {
     "data": {
      "text/plain": [
       "<AxesSubplot:xlabel='Date'>"
      ]
     },
     "execution_count": 59,
     "metadata": {},
     "output_type": "execute_result"
    },
    {
     "data": {
      "image/png": "[encoded data removed]",
      "text/plain": [
       "<Figure size 432x288 with 1 Axes>"
      ]
     },
     "metadata": {},
     "output_type": "display_data"
    }
   ],
   "source": [
    "f.asfreq('BA',method='ffill')[['Close', 'High', 'Low']].plot()"
   ]
  },
  {
   "cell_type": "code",
   "execution_count": 60,
   "metadata": {},
   "outputs": [
    {
     "data": {
      "text/plain": [
       "<AxesSubplot:xlabel='Date'>"
      ]
     },
     "execution_count": 60,
     "metadata": {},
     "output_type": "execute_result"
    },
    {
     "data": {
      "image/png": "[encoded data removed]",
      "text/plain": [
       "<Figure size 432x288 with 1 Axes>"
      ]
     },
     "metadata": {},
     "output_type": "display_data"
    }
   ],
   "source": [
    "f.asfreq('BA',method='ffill')[['Volume']].plot()"
   ]
  },
  {
   "cell_type": "markdown",
   "metadata": {},
   "source": [
    "### 이동평균 구하기"
   ]
  },
  {
   "cell_type": "code",
   "execution_count": 61,
   "metadata": {},
   "outputs": [],
   "source": [
    "md20 = f['Close'].rolling(window=20).mean()"
   ]
  },
  {
   "cell_type": "code",
   "execution_count": 62,
   "metadata": {},
   "outputs": [
    {
     "data": {
      "text/plain": [
       "Date\n",
       "2014-02-19             NaN\n",
       "2014-02-20             NaN\n",
       "2014-02-21             NaN\n",
       "2014-02-24             NaN\n",
       "2014-02-25             NaN\n",
       "2014-02-26             NaN\n",
       "2014-02-27             NaN\n",
       "2014-02-28             NaN\n",
       "2014-03-03             NaN\n",
       "2014-03-04             NaN\n",
       "2014-03-05             NaN\n",
       "2014-03-06             NaN\n",
       "2014-03-07             NaN\n",
       "2014-03-10             NaN\n",
       "2014-03-11             NaN\n",
       "2014-03-12             NaN\n",
       "2014-03-13             NaN\n",
       "2014-03-14             NaN\n",
       "2014-03-17             NaN\n",
       "2014-03-18    36970.235547\n",
       "Name: Close, dtype: float64"
      ]
     },
     "execution_count": 62,
     "metadata": {},
     "output_type": "execute_result"
    }
   ],
   "source": [
    "md20.head(20)"
   ]
  },
  {
   "cell_type": "markdown",
   "metadata": {},
   "source": [
    "#### 이동평균을 구하기 "
   ]
  },
  {
   "cell_type": "code",
   "execution_count": 63,
   "metadata": {},
   "outputs": [],
   "source": [
    "md60 = f['Close'].rolling(window=60).mean()"
   ]
  },
  {
   "cell_type": "code",
   "execution_count": 64,
   "metadata": {},
   "outputs": [],
   "source": [
    "md120 = f['Close'].rolling(window=120).mean()"
   ]
  },
  {
   "cell_type": "markdown",
   "metadata": {},
   "source": [
    "#### 기존 데이터에 넣기"
   ]
  },
  {
   "cell_type": "code",
   "execution_count": 65,
   "metadata": {},
   "outputs": [],
   "source": [
    "f.insert(len(f.columns), \"MD20\", md20)"
   ]
  },
  {
   "cell_type": "code",
   "execution_count": 66,
   "metadata": {},
   "outputs": [
    {
     "data": {
      "text/html": [
       "<div>\n",
       "<style scoped>\n",
       "    .dataframe tbody tr th:only-of-type {\n",
       "        vertical-align: middle;\n",
       "    }\n",
       "\n",
       "    .dataframe tbody tr th {\n",
       "        vertical-align: top;\n",
       "    }\n",
       "\n",
       "    .dataframe thead th {\n",
       "        text-align: right;\n",
       "    }\n",
       "</style>\n",
       "<table border=\"1\" class=\"dataframe\">\n",
       "  <thead>\n",
       "    <tr style=\"text-align: right;\">\n",
       "      <th></th>\n",
       "      <th>High</th>\n",
       "      <th>Low</th>\n",
       "      <th>Open</th>\n",
       "      <th>Close</th>\n",
       "      <th>Volume</th>\n",
       "      <th>Adj Close</th>\n",
       "      <th>MD20</th>\n",
       "    </tr>\n",
       "    <tr>\n",
       "      <th>Date</th>\n",
       "      <th></th>\n",
       "      <th></th>\n",
       "      <th></th>\n",
       "      <th></th>\n",
       "      <th></th>\n",
       "      <th></th>\n",
       "      <th></th>\n",
       "    </tr>\n",
       "  </thead>\n",
       "  <tbody>\n",
       "    <tr>\n",
       "      <th>2014-02-19</th>\n",
       "      <td>39418.800781</td>\n",
       "      <td>35952.500000</td>\n",
       "      <td>36436.199219</td>\n",
       "      <td>38572.398438</td>\n",
       "      <td>3758157.0</td>\n",
       "      <td>38572.398438</td>\n",
       "      <td>NaN</td>\n",
       "    </tr>\n",
       "    <tr>\n",
       "      <th>2014-02-20</th>\n",
       "      <td>38935.101562</td>\n",
       "      <td>37202.000000</td>\n",
       "      <td>38814.199219</td>\n",
       "      <td>37484.101562</td>\n",
       "      <td>1514137.0</td>\n",
       "      <td>37484.101562</td>\n",
       "      <td>NaN</td>\n",
       "    </tr>\n",
       "    <tr>\n",
       "      <th>2014-02-21</th>\n",
       "      <td>38532.101562</td>\n",
       "      <td>37322.898438</td>\n",
       "      <td>37806.601562</td>\n",
       "      <td>37927.500000</td>\n",
       "      <td>850284.0</td>\n",
       "      <td>37927.500000</td>\n",
       "      <td>NaN</td>\n",
       "    </tr>\n",
       "  </tbody>\n",
       "</table>\n",
       "</div>"
      ],
      "text/plain": [
       "                    High           Low          Open         Close     Volume  \\\n",
       "Date                                                                            \n",
       "2014-02-19  39418.800781  35952.500000  36436.199219  38572.398438  3758157.0   \n",
       "2014-02-20  38935.101562  37202.000000  38814.199219  37484.101562  1514137.0   \n",
       "2014-02-21  38532.101562  37322.898438  37806.601562  37927.500000   850284.0   \n",
       "\n",
       "               Adj Close  MD20  \n",
       "Date                            \n",
       "2014-02-19  38572.398438   NaN  \n",
       "2014-02-20  37484.101562   NaN  \n",
       "2014-02-21  37927.500000   NaN  "
      ]
     },
     "execution_count": 66,
     "metadata": {},
     "output_type": "execute_result"
    }
   ],
   "source": [
    "f.head(3)"
   ]
  },
  {
   "cell_type": "code",
   "execution_count": 67,
   "metadata": {},
   "outputs": [
    {
     "data": {
      "text/html": [
       "<div>\n",
       "<style scoped>\n",
       "    .dataframe tbody tr th:only-of-type {\n",
       "        vertical-align: middle;\n",
       "    }\n",
       "\n",
       "    .dataframe tbody tr th {\n",
       "        vertical-align: top;\n",
       "    }\n",
       "\n",
       "    .dataframe thead th {\n",
       "        text-align: right;\n",
       "    }\n",
       "</style>\n",
       "<table border=\"1\" class=\"dataframe\">\n",
       "  <thead>\n",
       "    <tr style=\"text-align: right;\">\n",
       "      <th></th>\n",
       "      <th>High</th>\n",
       "      <th>Low</th>\n",
       "      <th>Open</th>\n",
       "      <th>Close</th>\n",
       "      <th>Volume</th>\n",
       "      <th>Adj Close</th>\n",
       "      <th>MD20</th>\n",
       "    </tr>\n",
       "    <tr>\n",
       "      <th>Date</th>\n",
       "      <th></th>\n",
       "      <th></th>\n",
       "      <th></th>\n",
       "      <th></th>\n",
       "      <th></th>\n",
       "      <th></th>\n",
       "      <th></th>\n",
       "    </tr>\n",
       "  </thead>\n",
       "  <tbody>\n",
       "    <tr>\n",
       "      <th>2018-02-27</th>\n",
       "      <td>330999.0</td>\n",
       "      <td>308590.0</td>\n",
       "      <td>311858.0</td>\n",
       "      <td>327731.0</td>\n",
       "      <td>2246829.0</td>\n",
       "      <td>327731.0</td>\n",
       "      <td>284659.15</td>\n",
       "    </tr>\n",
       "    <tr>\n",
       "      <th>2018-02-28</th>\n",
       "      <td>340336.0</td>\n",
       "      <td>319328.0</td>\n",
       "      <td>319795.0</td>\n",
       "      <td>329598.0</td>\n",
       "      <td>2586064.0</td>\n",
       "      <td>329598.0</td>\n",
       "      <td>285812.25</td>\n",
       "    </tr>\n",
       "    <tr>\n",
       "      <th>2018-03-02</th>\n",
       "      <td>347339.0</td>\n",
       "      <td>327731.0</td>\n",
       "      <td>329598.0</td>\n",
       "      <td>347339.0</td>\n",
       "      <td>2103542.0</td>\n",
       "      <td>347339.0</td>\n",
       "      <td>287931.75</td>\n",
       "    </tr>\n",
       "  </tbody>\n",
       "</table>\n",
       "</div>"
      ],
      "text/plain": [
       "                High       Low      Open     Close     Volume  Adj Close  \\\n",
       "Date                                                                       \n",
       "2018-02-27  330999.0  308590.0  311858.0  327731.0  2246829.0   327731.0   \n",
       "2018-02-28  340336.0  319328.0  319795.0  329598.0  2586064.0   329598.0   \n",
       "2018-03-02  347339.0  327731.0  329598.0  347339.0  2103542.0   347339.0   \n",
       "\n",
       "                 MD20  \n",
       "Date                   \n",
       "2018-02-27  284659.15  \n",
       "2018-02-28  285812.25  \n",
       "2018-03-02  287931.75  "
      ]
     },
     "execution_count": 67,
     "metadata": {},
     "output_type": "execute_result"
    }
   ],
   "source": [
    "f.tail(3)"
   ]
  },
  {
   "cell_type": "code",
   "execution_count": 68,
   "metadata": {},
   "outputs": [],
   "source": [
    "f.insert(len(f.columns), \"MD60\", md60)"
   ]
  },
  {
   "cell_type": "code",
   "execution_count": 69,
   "metadata": {},
   "outputs": [],
   "source": [
    "f.insert(len(f.columns), \"MD120\", md120)"
   ]
  },
  {
   "cell_type": "markdown",
   "metadata": {},
   "source": [
    "###  평균 이동선 그래프 그리기"
   ]
  },
  {
   "cell_type": "code",
   "execution_count": 70,
   "metadata": {},
   "outputs": [
    {
     "data": {
      "text/plain": [
       "<AxesSubplot:xlabel='Date'>"
      ]
     },
     "execution_count": 70,
     "metadata": {},
     "output_type": "execute_result"
    },
    {
     "data": {
      "image/png": "[encoded data removed]",
      "text/plain": [
       "<Figure size 432x288 with 1 Axes>"
      ]
     },
     "metadata": {},
     "output_type": "display_data"
    }
   ],
   "source": [
    "f[['MD20','MD60','MD120']].plot()"
   ]
  },
  {
   "cell_type": "code",
   "execution_count": null,
   "metadata": {},
   "outputs": [],
   "source": []
  },
  {
   "cell_type": "code",
   "execution_count": null,
   "metadata": {},
   "outputs": [],
   "source": []
  }
 ],
 "metadata": {
  "kernelspec": {
   "display_name": "Python 3",
   "language": "python",
   "name": "python3"
  },
  "language_info": {
   "codemirror_mode": {
    "name": "ipython",
    "version": 3
   },
   "file_extension": ".py",
   "mimetype": "text/x-python",
   "name": "python",
   "nbconvert_exporter": "python",
   "pygments_lexer": "ipython3",
   "version": "3.8.5"
  }
 },
 "nbformat": 4,
 "nbformat_minor": 2
}
