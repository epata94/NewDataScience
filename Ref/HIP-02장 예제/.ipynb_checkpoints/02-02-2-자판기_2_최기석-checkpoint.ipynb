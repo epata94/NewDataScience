{
 "cells": [
  {
   "cell_type": "code",
   "execution_count": 2,
   "metadata": {},
   "outputs": [
    {
     "name": "stdout",
     "output_type": "stream",
     "text": [
      "\n",
      "돈을 넣어주세요(종료: 0): 0\n",
      "작동을 멈춥니다.\n"
     ]
    }
   ],
   "source": [
    "class vending_machine:\n",
    "\n",
    "    def __init__(self):\n",
    "        self.product = (['생수', 300], ['코코팜', 1000], ['모구모구', 1300])\n",
    "        self.money = 0\n",
    "\n",
    "    def insert_money(self):\n",
    "        print()\n",
    "        self.money += int(input(\"돈을 넣어주세요(종료: 0): \"))\n",
    "        if self.money == 0:\n",
    "            return 2\n",
    "        else:\n",
    "            print(\"잔액: \", self.money, \"원\")\n",
    "            return 1\n",
    "\n",
    "    def choice_product(self):\n",
    "        print()\n",
    "        cnt = 0\n",
    "        for i in self.product:\n",
    "            cnt += 1\n",
    "            print(cnt, \": \", i)\n",
    "        product_name = input(\"상품 번호를 선택해주세요(돈추가: 0, 종료: -1): \")\n",
    "        product_name = int(product_name)\n",
    "        if product_name == -1:\n",
    "            return 2\n",
    "        elif product_name > len(self.product):\n",
    "            print(len(product_name, \"번호 내에서 선택해 주세요\"))\n",
    "            return 1\n",
    "        else:\n",
    "            if product_name == 0:\n",
    "                return 0\n",
    "            else:\n",
    "                print(self.product[product_name - 1][0], \"상품이 선택되었습니다.\")\n",
    "                self.money = self.money - self.product[product_name - 1][1]\n",
    "                if self.money >= 0:\n",
    "                    print(\"잔액이 \", self.money, \"원 남았습니다.\")\n",
    "                    return 1\n",
    "                else:\n",
    "                    self.money = self.money + self.product[product_name - 1][1]\n",
    "                    print(\"잔액이 모자랍니다.\")\n",
    "                    print(\"잔액이 \", self.money, \"원 남았습니다.\")\n",
    "                    return 1\n",
    "\n",
    "\n",
    "vm = vending_machine()\n",
    "step = 0\n",
    "while True:\n",
    "    if step == 0:\n",
    "        step = vm.insert_money()\n",
    "    elif step == 1:\n",
    "        step = vm.choice_product()\n",
    "    elif step == 2:\n",
    "        print(\"작동을 멈춥니다.\")\n",
    "        break"
   ]
  }
 ],
 "metadata": {
  "kernelspec": {
   "display_name": "Python 3",
   "language": "python",
   "name": "python3"
  },
  "language_info": {
   "codemirror_mode": {
    "name": "ipython",
    "version": 3
   },
   "file_extension": ".py",
   "mimetype": "text/x-python",
   "name": "python",
   "nbconvert_exporter": "python",
   "pygments_lexer": "ipython3",
   "version": "3.8.3"
  }
 },
 "nbformat": 4,
 "nbformat_minor": 4
}
