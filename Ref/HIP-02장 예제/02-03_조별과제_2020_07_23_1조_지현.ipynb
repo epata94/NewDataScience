{
 "cells": [
  {
   "cell_type": "markdown",
   "metadata": {},
   "source": [
    "# 조별 과제 1조\n",
    " - ### ../3-2-손에 잡히는 판다스/data/korea_movie_list.csv 사용"
   ]
  },
  {
   "cell_type": "code",
   "execution_count": 1,
   "metadata": {},
   "outputs": [],
   "source": [
    "import pandas as pd\n",
    "df = pd.read_csv('..//data/korea_movie_list.csv', engine='python')"
   ]
  },
  {
   "cell_type": "code",
   "execution_count": 2,
   "metadata": {},
   "outputs": [
    {
     "data": {
      "text/html": [
       "<div>\n",
       "<style scoped>\n",
       "    .dataframe tbody tr th:only-of-type {\n",
       "        vertical-align: middle;\n",
       "    }\n",
       "\n",
       "    .dataframe tbody tr th {\n",
       "        vertical-align: top;\n",
       "    }\n",
       "\n",
       "    .dataframe thead th {\n",
       "        text-align: right;\n",
       "    }\n",
       "</style>\n",
       "<table border=\"1\" class=\"dataframe\">\n",
       "  <thead>\n",
       "    <tr style=\"text-align: right;\">\n",
       "      <th></th>\n",
       "      <th>movie_code</th>\n",
       "      <th>title</th>\n",
       "      <th>title_Eng</th>\n",
       "      <th>show_time</th>\n",
       "      <th>produce_year</th>\n",
       "      <th>open_date</th>\n",
       "      <th>produce_state</th>\n",
       "      <th>type</th>\n",
       "      <th>nation</th>\n",
       "      <th>genre</th>\n",
       "      <th>director</th>\n",
       "      <th>actor</th>\n",
       "      <th>show_type</th>\n",
       "      <th>watch_grade</th>\n",
       "    </tr>\n",
       "  </thead>\n",
       "  <tbody>\n",
       "    <tr>\n",
       "      <th>0</th>\n",
       "      <td>20185801</td>\n",
       "      <td>할로우 차일드</td>\n",
       "      <td>The Hollow Child</td>\n",
       "      <td>88.0</td>\n",
       "      <td>2017</td>\n",
       "      <td>20180802</td>\n",
       "      <td>개봉예정</td>\n",
       "      <td>장편</td>\n",
       "      <td>캐나다</td>\n",
       "      <td>공포(호러)/판타지</td>\n",
       "      <td>제레미 루터</td>\n",
       "      <td>NaN</td>\n",
       "      <td>NaN</td>\n",
       "      <td>15세이상관람가</td>\n",
       "    </tr>\n",
       "    <tr>\n",
       "      <th>1</th>\n",
       "      <td>20187649</td>\n",
       "      <td>죽음의 리무진</td>\n",
       "      <td>Glass Coffin</td>\n",
       "      <td>75.0</td>\n",
       "      <td>2016</td>\n",
       "      <td>20180816</td>\n",
       "      <td>개봉예정</td>\n",
       "      <td>장편</td>\n",
       "      <td>스페인</td>\n",
       "      <td>스릴러/공포(호러)</td>\n",
       "      <td>하리츠 쥬빌라가</td>\n",
       "      <td>파울라 본템피</td>\n",
       "      <td>NaN</td>\n",
       "      <td>NaN</td>\n",
       "    </tr>\n",
       "    <tr>\n",
       "      <th>2</th>\n",
       "      <td>20187641</td>\n",
       "      <td>극장판 도라에몽: 진구의 보물섬</td>\n",
       "      <td>NaN</td>\n",
       "      <td>107.0</td>\n",
       "      <td>2018</td>\n",
       "      <td>20180815</td>\n",
       "      <td>개봉예정</td>\n",
       "      <td>장편</td>\n",
       "      <td>일본</td>\n",
       "      <td>애니메이션/SF/어드벤처</td>\n",
       "      <td>이마이 카즈아키</td>\n",
       "      <td>윤아영/김정아/조현정/최낙윤/이현주/임은정/김정은/이지현/이경태/강은애/박성영/이다...</td>\n",
       "      <td>2D,디지털더빙</td>\n",
       "      <td>전체관람가</td>\n",
       "    </tr>\n",
       "    <tr>\n",
       "      <th>3</th>\n",
       "      <td>20187427</td>\n",
       "      <td>명탐정 코난 : 제로의 집행인</td>\n",
       "      <td>Detective Conan: Zero the Enforcer</td>\n",
       "      <td>110.0</td>\n",
       "      <td>2018</td>\n",
       "      <td>20180808</td>\n",
       "      <td>개봉예정</td>\n",
       "      <td>장편</td>\n",
       "      <td>일본</td>\n",
       "      <td>애니메이션</td>\n",
       "      <td>타치카와 유즈루</td>\n",
       "      <td>타카야마 미나미/야마자키 와카나/코야마 리키야/푸루야 토루</td>\n",
       "      <td>2D,디지털/2D,디지털더빙</td>\n",
       "      <td>12세이상관람가</td>\n",
       "    </tr>\n",
       "    <tr>\n",
       "      <th>4</th>\n",
       "      <td>20173732</td>\n",
       "      <td>살아남은 아이</td>\n",
       "      <td>Last Child</td>\n",
       "      <td>123.0</td>\n",
       "      <td>2017</td>\n",
       "      <td>20180830</td>\n",
       "      <td>개봉예정</td>\n",
       "      <td>장편</td>\n",
       "      <td>한국</td>\n",
       "      <td>드라마</td>\n",
       "      <td>신동석</td>\n",
       "      <td>최무성/김여진/성유빈</td>\n",
       "      <td>2D,디지털</td>\n",
       "      <td>NaN</td>\n",
       "    </tr>\n",
       "  </tbody>\n",
       "</table>\n",
       "</div>"
      ],
      "text/plain": [
       "   movie_code              title                           title_Eng  \\\n",
       "0    20185801            할로우 차일드                    The Hollow Child   \n",
       "1    20187649            죽음의 리무진                        Glass Coffin   \n",
       "2    20187641  극장판 도라에몽: 진구의 보물섬                                 NaN   \n",
       "3    20187427   명탐정 코난 : 제로의 집행인  Detective Conan: Zero the Enforcer   \n",
       "4    20173732            살아남은 아이                          Last Child   \n",
       "\n",
       "   show_time  produce_year  open_date produce_state type nation  \\\n",
       "0       88.0          2017   20180802          개봉예정   장편    캐나다   \n",
       "1       75.0          2016   20180816          개봉예정   장편    스페인   \n",
       "2      107.0          2018   20180815          개봉예정   장편     일본   \n",
       "3      110.0          2018   20180808          개봉예정   장편     일본   \n",
       "4      123.0          2017   20180830          개봉예정   장편     한국   \n",
       "\n",
       "           genre  director                                              actor  \\\n",
       "0     공포(호러)/판타지    제레미 루터                                                NaN   \n",
       "1     스릴러/공포(호러)  하리츠 쥬빌라가                                            파울라 본템피   \n",
       "2  애니메이션/SF/어드벤처  이마이 카즈아키  윤아영/김정아/조현정/최낙윤/이현주/임은정/김정은/이지현/이경태/강은애/박성영/이다...   \n",
       "3          애니메이션  타치카와 유즈루                   타카야마 미나미/야마자키 와카나/코야마 리키야/푸루야 토루   \n",
       "4            드라마       신동석                                        최무성/김여진/성유빈   \n",
       "\n",
       "         show_type watch_grade  \n",
       "0              NaN    15세이상관람가  \n",
       "1              NaN         NaN  \n",
       "2         2D,디지털더빙       전체관람가  \n",
       "3  2D,디지털/2D,디지털더빙    12세이상관람가  \n",
       "4           2D,디지털         NaN  "
      ]
     },
     "execution_count": 2,
     "metadata": {},
     "output_type": "execute_result"
    }
   ],
   "source": [
    "df.head()"
   ]
  },
  {
   "cell_type": "code",
   "execution_count": 3,
   "metadata": {
    "scrolled": true
   },
   "outputs": [
    {
     "data": {
      "text/plain": [
       "0       공포(호러)/판타지\n",
       "1       스릴러/공포(호러)\n",
       "2    애니메이션/SF/어드벤처\n",
       "3            애니메이션\n",
       "4              드라마\n",
       "Name: genre, dtype: object"
      ]
     },
     "execution_count": 3,
     "metadata": {},
     "output_type": "execute_result"
    }
   ],
   "source": [
    "df_genre = df['genre']\n",
    "df_genre.head()"
   ]
  },
  {
   "cell_type": "code",
   "execution_count": 4,
   "metadata": {},
   "outputs": [
    {
     "data": {
      "text/plain": [
       "(2827, 14)"
      ]
     },
     "execution_count": 4,
     "metadata": {},
     "output_type": "execute_result"
    }
   ],
   "source": [
    "df.shape # 모양"
   ]
  },
  {
   "cell_type": "code",
   "execution_count": 5,
   "metadata": {},
   "outputs": [
    {
     "data": {
      "text/plain": [
       "(2827,)"
      ]
     },
     "execution_count": 5,
     "metadata": {},
     "output_type": "execute_result"
    }
   ],
   "source": [
    "df_genre.shape # 모양"
   ]
  },
  {
   "cell_type": "code",
   "execution_count": 6,
   "metadata": {},
   "outputs": [
    {
     "data": {
      "text/plain": [
       "2"
      ]
     },
     "execution_count": 6,
     "metadata": {},
     "output_type": "execute_result"
    }
   ],
   "source": [
    "df.ndim # 차원"
   ]
  },
  {
   "cell_type": "code",
   "execution_count": 7,
   "metadata": {},
   "outputs": [
    {
     "data": {
      "text/plain": [
       "1"
      ]
     },
     "execution_count": 7,
     "metadata": {},
     "output_type": "execute_result"
    }
   ],
   "source": [
    "df_genre.ndim # 차원"
   ]
  },
  {
   "cell_type": "code",
   "execution_count": 8,
   "metadata": {},
   "outputs": [
    {
     "data": {
      "text/plain": [
       "39578"
      ]
     },
     "execution_count": 8,
     "metadata": {},
     "output_type": "execute_result"
    }
   ],
   "source": [
    "df.size"
   ]
  },
  {
   "cell_type": "code",
   "execution_count": 9,
   "metadata": {},
   "outputs": [
    {
     "data": {
      "text/plain": [
       "2827"
      ]
     },
     "execution_count": 9,
     "metadata": {},
     "output_type": "execute_result"
    }
   ],
   "source": [
    "df_genre.size"
   ]
  },
  {
   "cell_type": "code",
   "execution_count": 10,
   "metadata": {},
   "outputs": [
    {
     "data": {
      "text/plain": [
       "RangeIndex(start=0, stop=2827, step=1)"
      ]
     },
     "execution_count": 10,
     "metadata": {},
     "output_type": "execute_result"
    }
   ],
   "source": [
    "df.index"
   ]
  },
  {
   "cell_type": "code",
   "execution_count": 11,
   "metadata": {},
   "outputs": [
    {
     "name": "stdout",
     "output_type": "stream",
     "text": [
      "<class 'pandas.core.frame.DataFrame'>\n",
      "RangeIndex: 2827 entries, 0 to 2826\n",
      "Data columns (total 14 columns):\n",
      " #   Column         Non-Null Count  Dtype  \n",
      "---  ------         --------------  -----  \n",
      " 0   movie_code     2827 non-null   int64  \n",
      " 1   title          2827 non-null   object \n",
      " 2   title_Eng      2226 non-null   object \n",
      " 3   show_time      2822 non-null   float64\n",
      " 4   produce_year   2827 non-null   int64  \n",
      " 5   open_date      2827 non-null   int64  \n",
      " 6   produce_state  2827 non-null   object \n",
      " 7   type           2827 non-null   object \n",
      " 8   nation         2827 non-null   object \n",
      " 9   genre          2785 non-null   object \n",
      " 10  director       2715 non-null   object \n",
      " 11  actor          1534 non-null   object \n",
      " 12  show_type      2813 non-null   object \n",
      " 13  watch_grade    2803 non-null   object \n",
      "dtypes: float64(1), int64(3), object(10)\n",
      "memory usage: 309.3+ KB\n"
     ]
    }
   ],
   "source": [
    "df.info() "
   ]
  },
  {
   "cell_type": "code",
   "execution_count": 12,
   "metadata": {},
   "outputs": [
    {
     "data": {
      "text/plain": [
       "0          공포(호러)/판타지\n",
       "1          스릴러/공포(호러)\n",
       "2       애니메이션/SF/어드벤처\n",
       "3               애니메이션\n",
       "4                 드라마\n",
       "            ...      \n",
       "2822          성인물(에로)\n",
       "2823           공포(호러)\n",
       "2824          성인물(에로)\n",
       "2825          성인물(에로)\n",
       "2826          성인물(에로)\n",
       "Name: genre, Length: 2827, dtype: object"
      ]
     },
     "execution_count": 12,
     "metadata": {},
     "output_type": "execute_result"
    }
   ],
   "source": [
    "df['genre']"
   ]
  },
  {
   "cell_type": "code",
   "execution_count": 13,
   "metadata": {},
   "outputs": [
    {
     "data": {
      "text/plain": [
       "9"
      ]
     },
     "execution_count": 13,
     "metadata": {},
     "output_type": "execute_result"
    }
   ],
   "source": [
    "df.columns.get_loc('genre')"
   ]
  },
  {
   "cell_type": "code",
   "execution_count": 14,
   "metadata": {},
   "outputs": [
    {
     "data": {
      "text/plain": [
       "Index(['movie_code', 'title', 'title_Eng', 'show_time', 'produce_year',\n",
       "       'open_date', 'produce_state', 'type', 'nation', 'genre', 'director',\n",
       "       'actor', 'show_type', 'watch_grade'],\n",
       "      dtype='object')"
      ]
     },
     "execution_count": 14,
     "metadata": {},
     "output_type": "execute_result"
    }
   ],
   "source": [
    "df.columns"
   ]
  },
  {
   "cell_type": "code",
   "execution_count": 15,
   "metadata": {},
   "outputs": [
    {
     "data": {
      "text/plain": [
       "0          공포(호러)/판타지\n",
       "1          스릴러/공포(호러)\n",
       "2       애니메이션/SF/어드벤처\n",
       "3               애니메이션\n",
       "4                 드라마\n",
       "            ...      \n",
       "2822          성인물(에로)\n",
       "2823           공포(호러)\n",
       "2824          성인물(에로)\n",
       "2825          성인물(에로)\n",
       "2826          성인물(에로)\n",
       "Name: genre, Length: 2827, dtype: object"
      ]
     },
     "execution_count": 15,
     "metadata": {},
     "output_type": "execute_result"
    }
   ],
   "source": [
    "df_genre"
   ]
  },
  {
   "cell_type": "code",
   "execution_count": null,
   "metadata": {},
   "outputs": [],
   "source": []
  },
  {
   "cell_type": "code",
   "execution_count": 16,
   "metadata": {},
   "outputs": [],
   "source": [
    "df_genre = df_genre.dropna()"
   ]
  },
  {
   "cell_type": "code",
   "execution_count": 17,
   "metadata": {},
   "outputs": [
    {
     "data": {
      "text/plain": [
       "{'SF',\n",
       " 'SF/드라마',\n",
       " 'SF/드라마/스릴러',\n",
       " 'SF/멜로/로맨스',\n",
       " 'SF/범죄/액션',\n",
       " 'SF/스릴러',\n",
       " 'SF/스릴러/액션',\n",
       " 'SF/액션',\n",
       " 'SF/액션/드라마',\n",
       " 'SF/액션/스릴러',\n",
       " 'SF/액션/판타지',\n",
       " 'SF/판타지',\n",
       " '가족/드라마',\n",
       " '가족/뮤지컬',\n",
       " '가족/코미디',\n",
       " '공연',\n",
       " '공연/드라마/멜로/로맨스',\n",
       " '공연/멜로/로맨스',\n",
       " '공연/뮤지컬',\n",
       " '공포(호러)',\n",
       " '공포(호러)/SF',\n",
       " '공포(호러)/SF/스릴러',\n",
       " '공포(호러)/드라마',\n",
       " '공포(호러)/멜로/로맨스',\n",
       " '공포(호러)/미스터리',\n",
       " '공포(호러)/미스터리/스릴러',\n",
       " '공포(호러)/미스터리/스릴러/드라마',\n",
       " '공포(호러)/서부극(웨스턴)/코미디',\n",
       " '공포(호러)/스릴러',\n",
       " '공포(호러)/스릴러/드라마',\n",
       " '공포(호러)/스릴러/미스터리/액션',\n",
       " '공포(호러)/스릴러/범죄',\n",
       " '공포(호러)/액션',\n",
       " '공포(호러)/코미디',\n",
       " '공포(호러)/코미디/멜로/로맨스',\n",
       " '공포(호러)/판타지',\n",
       " '기타',\n",
       " '다큐멘터리',\n",
       " '다큐멘터리/가족',\n",
       " '다큐멘터리/공포(호러)',\n",
       " '다큐멘터리/드라마',\n",
       " '다큐멘터리/애니메이션/가족',\n",
       " '드라마',\n",
       " '드라마/SF',\n",
       " '드라마/SF/스릴러',\n",
       " '드라마/가족',\n",
       " '드라마/공포(호러)',\n",
       " '드라마/공포(호러)/스릴러',\n",
       " '드라마/다큐멘터리',\n",
       " '드라마/멜로/로맨스',\n",
       " '드라마/멜로/로맨스/스릴러',\n",
       " '드라마/뮤지컬',\n",
       " '드라마/미스터리',\n",
       " '드라마/미스터리/범죄',\n",
       " '드라마/미스터리/스릴러',\n",
       " '드라마/범죄',\n",
       " '드라마/범죄/미스터리',\n",
       " '드라마/범죄/스릴러',\n",
       " '드라마/범죄/액션',\n",
       " '드라마/사극',\n",
       " '드라마/서부극(웨스턴)',\n",
       " '드라마/성인물(에로)',\n",
       " '드라마/스릴러',\n",
       " '드라마/스릴러/SF',\n",
       " '드라마/스릴러/멜로/로맨스',\n",
       " '드라마/스릴러/미스터리',\n",
       " '드라마/액션',\n",
       " '드라마/어드벤처',\n",
       " '드라마/전쟁',\n",
       " '드라마/전쟁/액션',\n",
       " '드라마/코미디',\n",
       " '드라마/코미디/가족',\n",
       " '드라마/코미디/멜로/로맨스',\n",
       " '드라마/코미디/멜로/로맨스/스릴러/성인물(에로)',\n",
       " '드라마/판타지',\n",
       " '드라마/판타지/SF',\n",
       " '멜로/로맨스',\n",
       " '멜로/로맨스/드라마',\n",
       " '멜로/로맨스/드라마/사극',\n",
       " '멜로/로맨스/드라마/액션',\n",
       " '멜로/로맨스/드라마/코미디',\n",
       " '멜로/로맨스/미스터리/스릴러/SF',\n",
       " '멜로/로맨스/성인물(에로)',\n",
       " '멜로/로맨스/스릴러',\n",
       " '멜로/로맨스/액션',\n",
       " '멜로/로맨스/어드벤처',\n",
       " '멜로/로맨스/코미디',\n",
       " '멜로/로맨스/판타지/SF',\n",
       " '멜로/로맨스/판타지/뮤지컬',\n",
       " '뮤지컬',\n",
       " '뮤지컬/공연',\n",
       " '미스터리',\n",
       " '미스터리/SF',\n",
       " '미스터리/공포(호러)',\n",
       " '미스터리/드라마',\n",
       " '미스터리/멜로/로맨스/공포(호러)',\n",
       " '미스터리/멜로/로맨스/스릴러',\n",
       " '미스터리/범죄/스릴러',\n",
       " '미스터리/스릴러',\n",
       " '미스터리/스릴러/SF',\n",
       " '미스터리/액션',\n",
       " '미스터리/어드벤처',\n",
       " '미스터리/코미디',\n",
       " '미스터리/판타지',\n",
       " '범죄',\n",
       " '범죄/드라마',\n",
       " '범죄/드라마/미스터리',\n",
       " '범죄/드라마/미스터리/스릴러',\n",
       " '범죄/드라마/스릴러',\n",
       " '범죄/드라마/스릴러/액션',\n",
       " '범죄/미스터리',\n",
       " '범죄/미스터리/스릴러',\n",
       " '범죄/성인물(에로)/액션',\n",
       " '범죄/스릴러',\n",
       " '범죄/스릴러/드라마',\n",
       " '범죄/스릴러/액션',\n",
       " '범죄/스릴러/코미디',\n",
       " '범죄/액션',\n",
       " '범죄/액션/드라마',\n",
       " '범죄/액션/성인물(에로)',\n",
       " '범죄/액션/스릴러',\n",
       " '범죄/코미디',\n",
       " '사극',\n",
       " '사극/드라마',\n",
       " '사극/액션',\n",
       " '사극/어드벤처/코미디',\n",
       " '서부극(웨스턴)',\n",
       " '서부극(웨스턴)/액션',\n",
       " '서부극(웨스턴)/액션/어드벤처',\n",
       " '성인물(에로)',\n",
       " '스릴러',\n",
       " '스릴러/SF',\n",
       " '스릴러/공포(호러)',\n",
       " '스릴러/드라마',\n",
       " '스릴러/드라마/멜로/로맨스',\n",
       " '스릴러/드라마/코미디',\n",
       " '스릴러/멜로/로맨스',\n",
       " '스릴러/미스터리',\n",
       " '스릴러/미스터리/드라마',\n",
       " '스릴러/미스터리/멜로/로맨스',\n",
       " '스릴러/미스터리/범죄',\n",
       " '스릴러/범죄',\n",
       " '스릴러/범죄/드라마',\n",
       " '스릴러/액션',\n",
       " '스릴러/전쟁',\n",
       " '애니메이션',\n",
       " '애니메이션/SF',\n",
       " '애니메이션/SF/가족/어드벤처',\n",
       " '애니메이션/SF/액션',\n",
       " '애니메이션/SF/어드벤처',\n",
       " '애니메이션/가족',\n",
       " '애니메이션/가족/코미디',\n",
       " '애니메이션/공포(호러)',\n",
       " '애니메이션/드라마',\n",
       " '애니메이션/드라마/가족',\n",
       " '애니메이션/드라마/멜로/로맨스',\n",
       " '애니메이션/드라마/액션/판타지',\n",
       " '애니메이션/멜로/로맨스',\n",
       " '애니메이션/멜로/로맨스/코미디/판타지',\n",
       " '애니메이션/뮤지컬/어드벤처',\n",
       " '애니메이션/미스터리',\n",
       " '애니메이션/성인물(에로)',\n",
       " '애니메이션/액션/어드벤처',\n",
       " '애니메이션/액션/어드벤처/코미디/가족',\n",
       " '애니메이션/액션/코미디',\n",
       " '애니메이션/액션/코미디/어드벤처/가족',\n",
       " '애니메이션/액션/판타지',\n",
       " '애니메이션/어드벤처',\n",
       " '애니메이션/어드벤처/가족',\n",
       " '애니메이션/어드벤처/가족/뮤지컬',\n",
       " '애니메이션/어드벤처/가족/판타지',\n",
       " '애니메이션/어드벤처/가족/판타지/뮤지컬',\n",
       " '애니메이션/어드벤처/코미디',\n",
       " '애니메이션/어드벤처/코미디/가족',\n",
       " '애니메이션/어드벤처/판타지',\n",
       " '애니메이션/코미디',\n",
       " '애니메이션/코미디/가족',\n",
       " '애니메이션/코미디/가족/어드벤처/뮤지컬/판타지',\n",
       " '애니메이션/코미디/가족/판타지',\n",
       " '애니메이션/코미디/액션',\n",
       " '애니메이션/코미디/어드벤처',\n",
       " '애니메이션/판타지',\n",
       " '애니메이션/판타지/드라마',\n",
       " '애니메이션/판타지/드라마/액션',\n",
       " '애니메이션/판타지/액션',\n",
       " '애니메이션/판타지/액션/드라마',\n",
       " '애니메이션/판타지/어드벤처',\n",
       " '액션',\n",
       " '액션/SF',\n",
       " '액션/SF/스릴러',\n",
       " '액션/SF/어드벤처',\n",
       " '액션/공포(호러)',\n",
       " '액션/공포(호러)/SF',\n",
       " '액션/공포(호러)/SF/스릴러',\n",
       " '액션/공포(호러)/서부극(웨스턴)',\n",
       " '액션/공포(호러)/어드벤처',\n",
       " '액션/다큐멘터리',\n",
       " '액션/드라마',\n",
       " '액션/드라마/SF',\n",
       " '액션/드라마/멜로/로맨스',\n",
       " '액션/드라마/스릴러',\n",
       " '액션/드라마/스릴러/전쟁',\n",
       " '액션/드라마/어드벤처',\n",
       " '액션/드라마/전쟁',\n",
       " '액션/멜로/로맨스',\n",
       " '액션/미스터리',\n",
       " '액션/범죄',\n",
       " '액션/범죄/공포(호러)',\n",
       " '액션/범죄/드라마',\n",
       " '액션/범죄/스릴러',\n",
       " '액션/사극',\n",
       " '액션/스릴러',\n",
       " '액션/스릴러/드라마',\n",
       " '액션/스릴러/범죄',\n",
       " '액션/스릴러/전쟁',\n",
       " '액션/스릴러/코미디/SF',\n",
       " '액션/어드벤처',\n",
       " '액션/어드벤처/SF',\n",
       " '액션/어드벤처/공포(호러)',\n",
       " '액션/어드벤처/드라마',\n",
       " '액션/어드벤처/드라마/SF',\n",
       " '액션/어드벤처/드라마/스릴러',\n",
       " '액션/어드벤처/멜로/로맨스/SF',\n",
       " '액션/어드벤처/미스터리',\n",
       " '액션/어드벤처/범죄',\n",
       " '액션/어드벤처/스릴러',\n",
       " '액션/어드벤처/애니메이션',\n",
       " '액션/어드벤처/전쟁',\n",
       " '액션/어드벤처/코미디',\n",
       " '액션/어드벤처/코미디/SF',\n",
       " '액션/어드벤처/판타지',\n",
       " '액션/어드벤처/판타지/SF',\n",
       " '액션/어드벤처/판타지/코미디',\n",
       " '액션/전쟁',\n",
       " '액션/전쟁/드라마',\n",
       " '액션/전쟁/사극',\n",
       " '액션/코미디',\n",
       " '액션/코미디/SF',\n",
       " '액션/코미디/범죄',\n",
       " '액션/판타지',\n",
       " '액션/판타지/코미디',\n",
       " '어드벤처',\n",
       " '어드벤처/SF',\n",
       " '어드벤처/SF/스릴러',\n",
       " '어드벤처/가족',\n",
       " '어드벤처/드라마',\n",
       " '어드벤처/드라마/가족',\n",
       " '어드벤처/드라마/멜로/로맨스/SF',\n",
       " '어드벤처/드라마/판타지',\n",
       " '어드벤처/미스터리/SF',\n",
       " '어드벤처/스릴러',\n",
       " '어드벤처/액션',\n",
       " '어드벤처/액션/SF',\n",
       " '어드벤처/액션/드라마',\n",
       " '어드벤처/코미디/가족',\n",
       " '어드벤처/코미디/가족/판타지',\n",
       " '어드벤처/판타지',\n",
       " '전쟁/드라마',\n",
       " '전쟁/액션',\n",
       " '전쟁/액션/드라마',\n",
       " '코미디',\n",
       " '코미디/SF',\n",
       " '코미디/드라마',\n",
       " '코미디/드라마/가족',\n",
       " '코미디/드라마/멜로/로맨스',\n",
       " '코미디/드라마/범죄',\n",
       " '코미디/드라마/성인물(에로)',\n",
       " '코미디/멜로/로맨스',\n",
       " '코미디/멜로/로맨스/드라마',\n",
       " '코미디/뮤지컬',\n",
       " '코미디/미스터리/공포(호러)/뮤지컬',\n",
       " '코미디/범죄',\n",
       " '코미디/범죄/드라마',\n",
       " '코미디/범죄/드라마/액션',\n",
       " '코미디/범죄/스릴러',\n",
       " '코미디/스릴러/공포(호러)',\n",
       " '코미디/애니메이션/다큐멘터리',\n",
       " '코미디/액션',\n",
       " '코미디/액션/판타지',\n",
       " '코미디/어드벤처/액션',\n",
       " '코미디/판타지',\n",
       " '판타지',\n",
       " '판타지/SF/스릴러',\n",
       " '판타지/공포(호러)',\n",
       " '판타지/공포(호러)/액션',\n",
       " '판타지/드라마',\n",
       " '판타지/드라마/미스터리',\n",
       " '판타지/멜로/로맨스',\n",
       " '판타지/멜로/로맨스/액션',\n",
       " '판타지/멜로/로맨스/코미디',\n",
       " '판타지/범죄/액션',\n",
       " '판타지/스릴러',\n",
       " '판타지/스릴러/액션',\n",
       " '판타지/애니메이션',\n",
       " '판타지/액션',\n",
       " '판타지/액션/멜로/로맨스',\n",
       " '판타지/액션/스릴러',\n",
       " '판타지/액션/어드벤처',\n",
       " '판타지/어드벤처',\n",
       " '판타지/어드벤처/액션',\n",
       " '판타지/코미디',\n",
       " '판타지/코미디/어드벤처/액션/SF'}"
      ]
     },
     "execution_count": 17,
     "metadata": {},
     "output_type": "execute_result"
    }
   ],
   "source": [
    "set(df_genre)"
   ]
  },
  {
   "cell_type": "code",
   "execution_count": 18,
   "metadata": {},
   "outputs": [
    {
     "data": {
      "text/html": [
       "<div>\n",
       "<style scoped>\n",
       "    .dataframe tbody tr th:only-of-type {\n",
       "        vertical-align: middle;\n",
       "    }\n",
       "\n",
       "    .dataframe tbody tr th {\n",
       "        vertical-align: top;\n",
       "    }\n",
       "\n",
       "    .dataframe thead th {\n",
       "        text-align: right;\n",
       "    }\n",
       "</style>\n",
       "<table border=\"1\" class=\"dataframe\">\n",
       "  <thead>\n",
       "    <tr style=\"text-align: right;\">\n",
       "      <th></th>\n",
       "      <th>genre</th>\n",
       "      <th>records</th>\n",
       "    </tr>\n",
       "  </thead>\n",
       "  <tbody>\n",
       "    <tr>\n",
       "      <th>0</th>\n",
       "      <td>SF</td>\n",
       "      <td>6</td>\n",
       "    </tr>\n",
       "    <tr>\n",
       "      <th>1</th>\n",
       "      <td>SF/드라마</td>\n",
       "      <td>1</td>\n",
       "    </tr>\n",
       "    <tr>\n",
       "      <th>2</th>\n",
       "      <td>SF/드라마/스릴러</td>\n",
       "      <td>1</td>\n",
       "    </tr>\n",
       "    <tr>\n",
       "      <th>3</th>\n",
       "      <td>SF/멜로/로맨스</td>\n",
       "      <td>1</td>\n",
       "    </tr>\n",
       "    <tr>\n",
       "      <th>4</th>\n",
       "      <td>SF/범죄/액션</td>\n",
       "      <td>1</td>\n",
       "    </tr>\n",
       "    <tr>\n",
       "      <th>...</th>\n",
       "      <td>...</td>\n",
       "      <td>...</td>\n",
       "    </tr>\n",
       "    <tr>\n",
       "      <th>297</th>\n",
       "      <td>판타지/액션/어드벤처</td>\n",
       "      <td>3</td>\n",
       "    </tr>\n",
       "    <tr>\n",
       "      <th>298</th>\n",
       "      <td>판타지/어드벤처</td>\n",
       "      <td>1</td>\n",
       "    </tr>\n",
       "    <tr>\n",
       "      <th>299</th>\n",
       "      <td>판타지/어드벤처/액션</td>\n",
       "      <td>3</td>\n",
       "    </tr>\n",
       "    <tr>\n",
       "      <th>300</th>\n",
       "      <td>판타지/코미디</td>\n",
       "      <td>1</td>\n",
       "    </tr>\n",
       "    <tr>\n",
       "      <th>301</th>\n",
       "      <td>판타지/코미디/어드벤처/액션/SF</td>\n",
       "      <td>1</td>\n",
       "    </tr>\n",
       "  </tbody>\n",
       "</table>\n",
       "<p>302 rows × 2 columns</p>\n",
       "</div>"
      ],
      "text/plain": [
       "                  genre  records\n",
       "0                    SF        6\n",
       "1                SF/드라마        1\n",
       "2            SF/드라마/스릴러        1\n",
       "3             SF/멜로/로맨스        1\n",
       "4              SF/범죄/액션        1\n",
       "..                  ...      ...\n",
       "297         판타지/액션/어드벤처        3\n",
       "298            판타지/어드벤처        1\n",
       "299         판타지/어드벤처/액션        3\n",
       "300             판타지/코미디        1\n",
       "301  판타지/코미디/어드벤처/액션/SF        1\n",
       "\n",
       "[302 rows x 2 columns]"
      ]
     },
     "execution_count": 18,
     "metadata": {},
     "output_type": "execute_result"
    }
   ],
   "source": [
    "df_genre2 = df.groupby('genre').size().reset_index().rename(columns={0:'records'})\n",
    "df_genre2"
   ]
  },
  {
   "cell_type": "code",
   "execution_count": 19,
   "metadata": {
    "scrolled": false
   },
   "outputs": [
    {
     "data": {
      "text/html": [
       "<div>\n",
       "<style scoped>\n",
       "    .dataframe tbody tr th:only-of-type {\n",
       "        vertical-align: middle;\n",
       "    }\n",
       "\n",
       "    .dataframe tbody tr th {\n",
       "        vertical-align: top;\n",
       "    }\n",
       "\n",
       "    .dataframe thead th {\n",
       "        text-align: right;\n",
       "    }\n",
       "</style>\n",
       "<table border=\"1\" class=\"dataframe\">\n",
       "  <thead>\n",
       "    <tr style=\"text-align: right;\">\n",
       "      <th></th>\n",
       "      <th>genre</th>\n",
       "      <th>records</th>\n",
       "    </tr>\n",
       "  </thead>\n",
       "  <tbody>\n",
       "    <tr>\n",
       "      <th>76</th>\n",
       "      <td>멜로/로맨스</td>\n",
       "      <td>535</td>\n",
       "    </tr>\n",
       "    <tr>\n",
       "      <th>129</th>\n",
       "      <td>성인물(에로)</td>\n",
       "      <td>335</td>\n",
       "    </tr>\n",
       "    <tr>\n",
       "      <th>42</th>\n",
       "      <td>드라마</td>\n",
       "      <td>305</td>\n",
       "    </tr>\n",
       "    <tr>\n",
       "      <th>77</th>\n",
       "      <td>멜로/로맨스/드라마</td>\n",
       "      <td>264</td>\n",
       "    </tr>\n",
       "    <tr>\n",
       "      <th>145</th>\n",
       "      <td>애니메이션</td>\n",
       "      <td>90</td>\n",
       "    </tr>\n",
       "    <tr>\n",
       "      <th>37</th>\n",
       "      <td>다큐멘터리</td>\n",
       "      <td>82</td>\n",
       "    </tr>\n",
       "    <tr>\n",
       "      <th>187</th>\n",
       "      <td>액션</td>\n",
       "      <td>71</td>\n",
       "    </tr>\n",
       "    <tr>\n",
       "      <th>130</th>\n",
       "      <td>스릴러</td>\n",
       "      <td>53</td>\n",
       "    </tr>\n",
       "    <tr>\n",
       "      <th>49</th>\n",
       "      <td>드라마/멜로/로맨스</td>\n",
       "      <td>45</td>\n",
       "    </tr>\n",
       "    <tr>\n",
       "      <th>19</th>\n",
       "      <td>공포(호러)</td>\n",
       "      <td>44</td>\n",
       "    </tr>\n",
       "  </tbody>\n",
       "</table>\n",
       "</div>"
      ],
      "text/plain": [
       "          genre  records\n",
       "76       멜로/로맨스      535\n",
       "129     성인물(에로)      335\n",
       "42          드라마      305\n",
       "77   멜로/로맨스/드라마      264\n",
       "145       애니메이션       90\n",
       "37        다큐멘터리       82\n",
       "187          액션       71\n",
       "130         스릴러       53\n",
       "49   드라마/멜로/로맨스       45\n",
       "19       공포(호러)       44"
      ]
     },
     "execution_count": 19,
     "metadata": {},
     "output_type": "execute_result"
    }
   ],
   "source": [
    "df_genre3 = df.groupby('genre').size().reset_index().rename(columns={0:'records'}).sort_values(by='records', ascending=False).head(10)\n",
    "df_genre3"
   ]
  },
  {
   "cell_type": "code",
   "execution_count": 20,
   "metadata": {},
   "outputs": [
    {
     "data": {
      "text/plain": [
       "76         멜로/로맨스\n",
       "129       성인물(에로)\n",
       "42            드라마\n",
       "77     멜로/로맨스/드라마\n",
       "145         애니메이션\n",
       "37          다큐멘터리\n",
       "187            액션\n",
       "130           스릴러\n",
       "49     드라마/멜로/로맨스\n",
       "19         공포(호러)\n",
       "Name: genre, dtype: object"
      ]
     },
     "execution_count": 20,
     "metadata": {},
     "output_type": "execute_result"
    }
   ],
   "source": [
    "df_genre3['genre']"
   ]
  },
  {
   "cell_type": "code",
   "execution_count": 21,
   "metadata": {},
   "outputs": [
    {
     "data": {
      "text/plain": [
       "76     535\n",
       "129    335\n",
       "42     305\n",
       "77     264\n",
       "145     90\n",
       "37      82\n",
       "187     71\n",
       "130     53\n",
       "49      45\n",
       "19      44\n",
       "Name: records, dtype: int64"
      ]
     },
     "execution_count": 21,
     "metadata": {},
     "output_type": "execute_result"
    }
   ],
   "source": [
    "df_genre3['records']"
   ]
  },
  {
   "cell_type": "code",
   "execution_count": 22,
   "metadata": {},
   "outputs": [],
   "source": [
    "import platform\n",
    "from matplotlib import font_manager, rc\n",
    "\n",
    "path = \"c:/Windows/Fonts/malgun.ttf\"\n",
    "if platform.system() == 'Darwin':\n",
    "    rc('font', family='AppleGothic')\n",
    "elif platform.system() == 'Windows':\n",
    "    font_name = font_manager.FontProperties(fname=path).get_name()\n",
    "    rc('font', family=font_name)\n",
    "else:\n",
    "    print('Unknown system... sorry~~~~') "
   ]
  },
  {
   "cell_type": "code",
   "execution_count": 23,
   "metadata": {},
   "outputs": [
    {
     "name": "stderr",
     "output_type": "stream",
     "text": [
      "No handles with labels found to put in legend.\n",
      "<ipython-input-23-186108c742e6>:6: MatplotlibDeprecationWarning: Unrecognized location '인기장르 개봉건수'. Falling back on 'best'; valid locations are\n",
      "\tbest\n",
      "\tupper right\n",
      "\tupper left\n",
      "\tlower left\n",
      "\tlower right\n",
      "\tright\n",
      "\tcenter left\n",
      "\tcenter right\n",
      "\tlower center\n",
      "\tupper center\n",
      "\tcenter\n",
      "This will raise an exception in 3.3.\n",
      "  plt.legend(loc='인기장르 개봉건수')\n"
     ]
    },
    {
     "data": {
      "image/png": "[encoded data removed]",
      "text/plain": [
       "<Figure size 864x504 with 1 Axes>"
      ]
     },
     "metadata": {
      "needs_background": "light"
     },
     "output_type": "display_data"
    }
   ],
   "source": [
    "import matplotlib.pyplot as plt\n",
    "%matplotlib inline\n",
    "\n",
    "plt.figure(figsize=(12,7))\n",
    "plt.plot(df_genre3['genre'], df_genre3['records'])\n",
    "plt.legend(loc='인기장르 개봉건수')\n",
    "plt.grid()\n",
    "plt.show()"
   ]
  },
  {
   "cell_type": "code",
   "execution_count": 24,
   "metadata": {},
   "outputs": [
    {
     "data": {
      "text/html": [
       "<div>\n",
       "<style scoped>\n",
       "    .dataframe tbody tr th:only-of-type {\n",
       "        vertical-align: middle;\n",
       "    }\n",
       "\n",
       "    .dataframe tbody tr th {\n",
       "        vertical-align: top;\n",
       "    }\n",
       "\n",
       "    .dataframe thead th {\n",
       "        text-align: right;\n",
       "    }\n",
       "</style>\n",
       "<table border=\"1\" class=\"dataframe\">\n",
       "  <thead>\n",
       "    <tr style=\"text-align: right;\">\n",
       "      <th></th>\n",
       "      <th>genre</th>\n",
       "      <th>produce_year</th>\n",
       "      <th>records</th>\n",
       "    </tr>\n",
       "  </thead>\n",
       "  <tbody>\n",
       "    <tr>\n",
       "      <th>176</th>\n",
       "      <td>멜로/로맨스</td>\n",
       "      <td>2017</td>\n",
       "      <td>271</td>\n",
       "    </tr>\n",
       "    <tr>\n",
       "      <th>274</th>\n",
       "      <td>성인물(에로)</td>\n",
       "      <td>2016</td>\n",
       "      <td>183</td>\n",
       "    </tr>\n",
       "    <tr>\n",
       "      <th>185</th>\n",
       "      <td>멜로/로맨스/드라마</td>\n",
       "      <td>2016</td>\n",
       "      <td>129</td>\n",
       "    </tr>\n",
       "    <tr>\n",
       "      <th>108</th>\n",
       "      <td>드라마</td>\n",
       "      <td>2017</td>\n",
       "      <td>119</td>\n",
       "    </tr>\n",
       "    <tr>\n",
       "      <th>175</th>\n",
       "      <td>멜로/로맨스</td>\n",
       "      <td>2016</td>\n",
       "      <td>116</td>\n",
       "    </tr>\n",
       "    <tr>\n",
       "      <th>107</th>\n",
       "      <td>드라마</td>\n",
       "      <td>2016</td>\n",
       "      <td>114</td>\n",
       "    </tr>\n",
       "    <tr>\n",
       "      <th>177</th>\n",
       "      <td>멜로/로맨스</td>\n",
       "      <td>2018</td>\n",
       "      <td>94</td>\n",
       "    </tr>\n",
       "    <tr>\n",
       "      <th>275</th>\n",
       "      <td>성인물(에로)</td>\n",
       "      <td>2017</td>\n",
       "      <td>83</td>\n",
       "    </tr>\n",
       "    <tr>\n",
       "      <th>186</th>\n",
       "      <td>멜로/로맨스/드라마</td>\n",
       "      <td>2017</td>\n",
       "      <td>69</td>\n",
       "    </tr>\n",
       "    <tr>\n",
       "      <th>273</th>\n",
       "      <td>성인물(에로)</td>\n",
       "      <td>2015</td>\n",
       "      <td>69</td>\n",
       "    </tr>\n",
       "  </tbody>\n",
       "</table>\n",
       "</div>"
      ],
      "text/plain": [
       "          genre  produce_year  records\n",
       "176      멜로/로맨스          2017      271\n",
       "274     성인물(에로)          2016      183\n",
       "185  멜로/로맨스/드라마          2016      129\n",
       "108         드라마          2017      119\n",
       "175      멜로/로맨스          2016      116\n",
       "107         드라마          2016      114\n",
       "177      멜로/로맨스          2018       94\n",
       "275     성인물(에로)          2017       83\n",
       "186  멜로/로맨스/드라마          2017       69\n",
       "273     성인물(에로)          2015       69"
      ]
     },
     "execution_count": 24,
     "metadata": {},
     "output_type": "execute_result"
    }
   ],
   "source": [
    "df_genre4 = df.groupby(['genre', 'produce_year']).size().reset_index().rename(columns={0:'records'}).sort_values(by='produce_year', ascending=True).sort_values(by='records', ascending=False).head(10)\n",
    "df_genre4"
   ]
  },
  {
   "cell_type": "code",
   "execution_count": 25,
   "metadata": {},
   "outputs": [
    {
     "data": {
      "text/html": [
       "<div>\n",
       "<style scoped>\n",
       "    .dataframe tbody tr th:only-of-type {\n",
       "        vertical-align: middle;\n",
       "    }\n",
       "\n",
       "    .dataframe tbody tr th {\n",
       "        vertical-align: top;\n",
       "    }\n",
       "\n",
       "    .dataframe thead th {\n",
       "        text-align: right;\n",
       "    }\n",
       "</style>\n",
       "<table border=\"1\" class=\"dataframe\">\n",
       "  <thead>\n",
       "    <tr style=\"text-align: right;\">\n",
       "      <th></th>\n",
       "      <th>genre</th>\n",
       "      <th>produce_year</th>\n",
       "      <th>records</th>\n",
       "    </tr>\n",
       "  </thead>\n",
       "  <tbody>\n",
       "    <tr>\n",
       "      <th>176</th>\n",
       "      <td>멜로/로맨스</td>\n",
       "      <td>2017</td>\n",
       "      <td>271</td>\n",
       "    </tr>\n",
       "    <tr>\n",
       "      <th>274</th>\n",
       "      <td>성인물(에로)</td>\n",
       "      <td>2016</td>\n",
       "      <td>183</td>\n",
       "    </tr>\n",
       "    <tr>\n",
       "      <th>185</th>\n",
       "      <td>멜로/로맨스/드라마</td>\n",
       "      <td>2016</td>\n",
       "      <td>129</td>\n",
       "    </tr>\n",
       "    <tr>\n",
       "      <th>108</th>\n",
       "      <td>드라마</td>\n",
       "      <td>2017</td>\n",
       "      <td>119</td>\n",
       "    </tr>\n",
       "    <tr>\n",
       "      <th>175</th>\n",
       "      <td>멜로/로맨스</td>\n",
       "      <td>2016</td>\n",
       "      <td>116</td>\n",
       "    </tr>\n",
       "  </tbody>\n",
       "</table>\n",
       "</div>"
      ],
      "text/plain": [
       "          genre  produce_year  records\n",
       "176      멜로/로맨스          2017      271\n",
       "274     성인물(에로)          2016      183\n",
       "185  멜로/로맨스/드라마          2016      129\n",
       "108         드라마          2017      119\n",
       "175      멜로/로맨스          2016      116"
      ]
     },
     "execution_count": 25,
     "metadata": {},
     "output_type": "execute_result"
    }
   ],
   "source": [
    "df_sample =  df_genre4 \n",
    "df_sample.head()"
   ]
  },
  {
   "cell_type": "code",
   "execution_count": 26,
   "metadata": {},
   "outputs": [
    {
     "data": {
      "text/plain": [
       "<bound method DataFrame.info of           genre  produce_year  records\n",
       "176      멜로/로맨스          2017      271\n",
       "274     성인물(에로)          2016      183\n",
       "185  멜로/로맨스/드라마          2016      129\n",
       "108         드라마          2017      119\n",
       "175      멜로/로맨스          2016      116\n",
       "107         드라마          2016      114\n",
       "177      멜로/로맨스          2018       94\n",
       "275     성인물(에로)          2017       83\n",
       "186  멜로/로맨스/드라마          2017       69\n",
       "273     성인물(에로)          2015       69>"
      ]
     },
     "execution_count": 26,
     "metadata": {},
     "output_type": "execute_result"
    }
   ],
   "source": [
    "df_sample.info"
   ]
  },
  {
   "cell_type": "code",
   "execution_count": 27,
   "metadata": {},
   "outputs": [
    {
     "data": {
      "text/html": [
       "<div>\n",
       "<style scoped>\n",
       "    .dataframe tbody tr th:only-of-type {\n",
       "        vertical-align: middle;\n",
       "    }\n",
       "\n",
       "    .dataframe tbody tr th {\n",
       "        vertical-align: top;\n",
       "    }\n",
       "\n",
       "    .dataframe thead th {\n",
       "        text-align: right;\n",
       "    }\n",
       "</style>\n",
       "<table border=\"1\" class=\"dataframe\">\n",
       "  <thead>\n",
       "    <tr style=\"text-align: right;\">\n",
       "      <th></th>\n",
       "      <th>genre</th>\n",
       "      <th>produce_year</th>\n",
       "      <th>records</th>\n",
       "    </tr>\n",
       "  </thead>\n",
       "  <tbody>\n",
       "    <tr>\n",
       "      <th>176</th>\n",
       "      <td>멜로/로맨스</td>\n",
       "      <td>2017</td>\n",
       "      <td>271</td>\n",
       "    </tr>\n",
       "    <tr>\n",
       "      <th>274</th>\n",
       "      <td>성인물(에로)</td>\n",
       "      <td>2016</td>\n",
       "      <td>183</td>\n",
       "    </tr>\n",
       "    <tr>\n",
       "      <th>185</th>\n",
       "      <td>멜로/로맨스/드라마</td>\n",
       "      <td>2016</td>\n",
       "      <td>129</td>\n",
       "    </tr>\n",
       "    <tr>\n",
       "      <th>108</th>\n",
       "      <td>드라마</td>\n",
       "      <td>2017</td>\n",
       "      <td>119</td>\n",
       "    </tr>\n",
       "    <tr>\n",
       "      <th>175</th>\n",
       "      <td>멜로/로맨스</td>\n",
       "      <td>2016</td>\n",
       "      <td>116</td>\n",
       "    </tr>\n",
       "    <tr>\n",
       "      <th>107</th>\n",
       "      <td>드라마</td>\n",
       "      <td>2016</td>\n",
       "      <td>114</td>\n",
       "    </tr>\n",
       "    <tr>\n",
       "      <th>177</th>\n",
       "      <td>멜로/로맨스</td>\n",
       "      <td>2018</td>\n",
       "      <td>94</td>\n",
       "    </tr>\n",
       "    <tr>\n",
       "      <th>275</th>\n",
       "      <td>성인물(에로)</td>\n",
       "      <td>2017</td>\n",
       "      <td>83</td>\n",
       "    </tr>\n",
       "    <tr>\n",
       "      <th>186</th>\n",
       "      <td>멜로/로맨스/드라마</td>\n",
       "      <td>2017</td>\n",
       "      <td>69</td>\n",
       "    </tr>\n",
       "    <tr>\n",
       "      <th>273</th>\n",
       "      <td>성인물(에로)</td>\n",
       "      <td>2015</td>\n",
       "      <td>69</td>\n",
       "    </tr>\n",
       "  </tbody>\n",
       "</table>\n",
       "</div>"
      ],
      "text/plain": [
       "          genre  produce_year  records\n",
       "176      멜로/로맨스          2017      271\n",
       "274     성인물(에로)          2016      183\n",
       "185  멜로/로맨스/드라마          2016      129\n",
       "108         드라마          2017      119\n",
       "175      멜로/로맨스          2016      116\n",
       "107         드라마          2016      114\n",
       "177      멜로/로맨스          2018       94\n",
       "275     성인물(에로)          2017       83\n",
       "186  멜로/로맨스/드라마          2017       69\n",
       "273     성인물(에로)          2015       69"
      ]
     },
     "execution_count": 27,
     "metadata": {},
     "output_type": "execute_result"
    }
   ],
   "source": [
    "df_sample"
   ]
  },
  {
   "cell_type": "code",
   "execution_count": 28,
   "metadata": {},
   "outputs": [
    {
     "name": "stderr",
     "output_type": "stream",
     "text": [
      "<ipython-input-28-12d0b4104b4e>:10: MatplotlibDeprecationWarning: Unrecognized location '년도별 인기장르 개봉건수'. Falling back on 'best'; valid locations are\n",
      "\tbest\n",
      "\tupper right\n",
      "\tupper left\n",
      "\tlower left\n",
      "\tlower right\n",
      "\tright\n",
      "\tcenter left\n",
      "\tcenter right\n",
      "\tlower center\n",
      "\tupper center\n",
      "\tcenter\n",
      "This will raise an exception in 3.3.\n",
      "  plt.legend(target_col, loc='년도별 인기장르 개봉건수')\n"
     ]
    },
    {
     "data": {
      "image/png": "[encoded data removed]",
      "text/plain": [
       "<Figure size 864x504 with 1 Axes>"
      ]
     },
     "metadata": {
      "needs_background": "light"
     },
     "output_type": "display_data"
    }
   ],
   "source": [
    "import matplotlib.pyplot as plt\n",
    "%matplotlib inline\n",
    "\n",
    "target_col = ['2015', '2016', '2017', '2018']\n",
    "plt.figure(figsize=(12,7))\n",
    "plt.plot(df_genre4['genre'],df_genre4['records']) # 년도별 구분하고 싶은데.........어떻게?????????\n",
    "\n",
    "\n",
    "# plt.plot(df_genre4[target_col]) # 년도별 구분하고 싶은데.........어떻게?????????\n",
    "plt.legend(target_col, loc='년도별 인기장르 개봉건수')\n",
    "plt.grid()\n",
    "plt.show()"
   ]
  },
  {
   "cell_type": "code",
   "execution_count": 29,
   "metadata": {},
   "outputs": [
    {
     "data": {
      "text/plain": [
       "176    2017\n",
       "274    2016\n",
       "185    2016\n",
       "108    2017\n",
       "175    2016\n",
       "107    2016\n",
       "177    2018\n",
       "275    2017\n",
       "186    2017\n",
       "273    2015\n",
       "Name: produce_year, dtype: int64"
      ]
     },
     "execution_count": 29,
     "metadata": {},
     "output_type": "execute_result"
    }
   ],
   "source": [
    "df_sample['produce_year']"
   ]
  },
  {
   "cell_type": "code",
   "execution_count": 30,
   "metadata": {},
   "outputs": [
    {
     "data": {
      "text/plain": [
       "176        멜로/로맨스\n",
       "274       성인물(에로)\n",
       "185    멜로/로맨스/드라마\n",
       "108           드라마\n",
       "175        멜로/로맨스\n",
       "107           드라마\n",
       "177        멜로/로맨스\n",
       "275       성인물(에로)\n",
       "186    멜로/로맨스/드라마\n",
       "273       성인물(에로)\n",
       "Name: genre, dtype: object"
      ]
     },
     "execution_count": 30,
     "metadata": {},
     "output_type": "execute_result"
    }
   ],
   "source": [
    "df_sample['genre']"
   ]
  },
  {
   "cell_type": "code",
   "execution_count": 31,
   "metadata": {},
   "outputs": [
    {
     "data": {
      "image/png": "[encoded data removed]",
      "text/plain": [
       "<Figure size 864x432 with 1 Axes>"
      ]
     },
     "metadata": {
      "needs_background": "light"
     },
     "output_type": "display_data"
    }
   ],
   "source": [
    "# target_col = ['타오르는 여인의 초상', '작은 아씨들', '윤희에게', '기생충']\n",
    "plt.figure(figsize=(12,6))\n",
    "plt.plot(df_sample['genre'],df_sample['records'])\n",
    "# plt.legend(target_col, loc='best')\n",
    "plt.grid()\n",
    "plt.show()"
   ]
  },
  {
   "cell_type": "code",
   "execution_count": 32,
   "metadata": {},
   "outputs": [
    {
     "data": {
      "image/png": "[encoded data removed]",
      "text/plain": [
       "<Figure size 864x432 with 1 Axes>"
      ]
     },
     "metadata": {
      "needs_background": "light"
     },
     "output_type": "display_data"
    }
   ],
   "source": [
    "# target_col = ['타오르는 여인의 초상', '작은 아씨들', '윤희에게', '기생충']\n",
    "plt.figure(figsize=(12,6))\n",
    "plt.plot(df_sample['genre'],df_sample['records'])\n",
    "# plt.legend(target_col, loc='best')\n",
    "plt.grid()\n",
    "plt.show()"
   ]
  },
  {
   "cell_type": "code",
   "execution_count": 33,
   "metadata": {},
   "outputs": [
    {
     "data": {
      "text/html": [
       "<div>\n",
       "<style scoped>\n",
       "    .dataframe tbody tr th:only-of-type {\n",
       "        vertical-align: middle;\n",
       "    }\n",
       "\n",
       "    .dataframe tbody tr th {\n",
       "        vertical-align: top;\n",
       "    }\n",
       "\n",
       "    .dataframe thead tr th {\n",
       "        text-align: left;\n",
       "    }\n",
       "\n",
       "    .dataframe thead tr:last-of-type th {\n",
       "        text-align: right;\n",
       "    }\n",
       "</style>\n",
       "<table border=\"1\" class=\"dataframe\">\n",
       "  <thead>\n",
       "    <tr>\n",
       "      <th></th>\n",
       "      <th colspan=\"4\" halign=\"left\">records</th>\n",
       "    </tr>\n",
       "    <tr>\n",
       "      <th>genre</th>\n",
       "      <th>드라마</th>\n",
       "      <th>멜로/로맨스</th>\n",
       "      <th>멜로/로맨스/드라마</th>\n",
       "      <th>성인물(에로)</th>\n",
       "    </tr>\n",
       "    <tr>\n",
       "      <th>produce_year</th>\n",
       "      <th></th>\n",
       "      <th></th>\n",
       "      <th></th>\n",
       "      <th></th>\n",
       "    </tr>\n",
       "  </thead>\n",
       "  <tbody>\n",
       "    <tr>\n",
       "      <th>2016</th>\n",
       "      <td>114.0</td>\n",
       "      <td>116.0</td>\n",
       "      <td>129.0</td>\n",
       "      <td>183.0</td>\n",
       "    </tr>\n",
       "    <tr>\n",
       "      <th>2017</th>\n",
       "      <td>119.0</td>\n",
       "      <td>271.0</td>\n",
       "      <td>69.0</td>\n",
       "      <td>83.0</td>\n",
       "    </tr>\n",
       "  </tbody>\n",
       "</table>\n",
       "</div>"
      ],
      "text/plain": [
       "             records                          \n",
       "genre            드라마 멜로/로맨스 멜로/로맨스/드라마 성인물(에로)\n",
       "produce_year                                  \n",
       "2016           114.0  116.0      129.0   183.0\n",
       "2017           119.0  271.0       69.0    83.0"
      ]
     },
     "execution_count": 33,
     "metadata": {},
     "output_type": "execute_result"
    }
   ],
   "source": [
    "df_sample2 = pd.pivot_table(df_sample, index=['produce_year'], columns=['genre'], \n",
    "                                         values=['records']).dropna()\n",
    "df_sample2.head()"
   ]
  },
  {
   "cell_type": "code",
   "execution_count": 34,
   "metadata": {},
   "outputs": [],
   "source": [
    "target_col = df_sample['genre']"
   ]
  },
  {
   "cell_type": "code",
   "execution_count": 35,
   "metadata": {},
   "outputs": [
    {
     "data": {
      "image/png": "[encoded data removed]",
      "text/plain": [
       "<Figure size 864x432 with 1 Axes>"
      ]
     },
     "metadata": {
      "needs_background": "light"
     },
     "output_type": "display_data"
    }
   ],
   "source": [
    "plt.figure(figsize=(12,6))\n",
    "plt.plot(df_sample['genre'],df_sample['records'])  # records : 건수  \n",
    "# plt.legend(target_col, loc='best')\n",
    "plt.grid()\n",
    "plt.show()"
   ]
  },
  {
   "cell_type": "code",
   "execution_count": 36,
   "metadata": {},
   "outputs": [
    {
     "name": "stderr",
     "output_type": "stream",
     "text": [
      "No handles with labels found to put in legend.\n"
     ]
    },
    {
     "data": {
      "image/png": "[encoded data removed]",
      "text/plain": [
       "<Figure size 432x288 with 1 Axes>"
      ]
     },
     "metadata": {
      "needs_background": "light"
     },
     "output_type": "display_data"
    }
   ],
   "source": [
    "\n",
    "# Line Graph by matplotlib with wide-form DataFrame\n",
    "\n",
    "plt.plot(df_sample2.index, df_sample2['records'], marker='s', color='r')\n",
    "#plt.plot(df_sample2.index, df_sample2['records'], marker='o', color='b')\n",
    "#plt.plot(df_sample2.index, df_sample2['records'], marker='o', color='g')\n",
    "#plt.plot(df_sample2.index, df_sample2['records'], marker='+', color='y')\n",
    "\n",
    "plt.title('Line Graph w/ different markers and colors', fontsize=20) \n",
    "plt.ylabel('제작건수', fontsize=14)\n",
    "plt.xlabel('제작연도', fontsize=14)\n",
    "plt.legend(fontsize=10, loc='best')\n",
    "\n",
    "plt.show()"
   ]
  },
  {
   "cell_type": "code",
   "execution_count": null,
   "metadata": {},
   "outputs": [],
   "source": []
  },
  {
   "cell_type": "code",
   "execution_count": null,
   "metadata": {},
   "outputs": [],
   "source": []
  }
 ],
 "metadata": {
  "kernelspec": {
   "display_name": "Python 3",
   "language": "python",
   "name": "python3"
  },
  "language_info": {
   "codemirror_mode": {
    "name": "ipython",
    "version": 3
   },
   "file_extension": ".py",
   "mimetype": "text/x-python",
   "name": "python",
   "nbconvert_exporter": "python",
   "pygments_lexer": "ipython3",
   "version": "3.8.3"
  }
 },
 "nbformat": 4,
 "nbformat_minor": 4
}
