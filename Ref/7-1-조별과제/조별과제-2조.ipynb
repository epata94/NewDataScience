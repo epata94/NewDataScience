class Coffee:
    def __init__(self):
        self.menu = ["", "Americano", "Latte", "Ade"]
        self.price = [0, 1500, 2000, 3000]
        self.total = 0
        self.money_more_add = 0

    def menu_print(self):
        # 메뉴 목록을 출력하는 함수 구현
        for i in range(1, len(self.menu)):
            print(i, "-", self.menu[i], ":", self.price[i])

    def selection(self):
        # 메뉴를 고르는 기능
        # 나가기 누를때까지 계속 장바구니에 담기
        while True:
            selection = int(input("메뉴를 입력 해주세요 :"))
            print("%s를 선택하셨습니다. 옵션을 선택해 주세요." %(self.menu[selection]))
            print("1: Ice 추가 = +500")
            print("2: Shot 추가 = +500")
            print("3: Ice & Shot 추가 = +1000")
            print("4: 추가 안함")
            opt = int(input("옵션: "))
            s, opt_fee = '', 0
            if opt == 1:
                s, opt_fee = 'Ice 추가', 500
            elif opt == 2:
                s, opt_fee = 'Shot 추가', 500
            elif opt == 3:
                s, opt_fee = 'Ice & Shot 추가', 1000
            elif opt == 4:
                s, opt_fee = '추가 안함', 0

            if opt != 4:
                print("%s 옵션을 선택하셨습니다. 추가금액은 %d원 입니다." %(s, opt_fee))

            print("가격 :", self.price[selection]+opt_fee)
            number = int(input("수량: "))
            price_sum = (self.price[selection]+opt_fee) * number
            self.total += price_sum

            print("현재 누적 금액 :", self.total)
            print("1:계속, 2:나가기")
            keep = input("추가 주문 하시겠어요?:")

            if keep == "2":
                print("최종 결제 금액 :", self.total)
                break

            else:
                print("음료 주문을 계속합니다.")


    def payment_cash(self):
        # 현금계산
        # selection에서 장바구니에 담은 메뉴에 대한 금액을 계산
        # 현재투입한금액, 부족한금액, 등등예외처리
        global payed
        payed = 0
        print("결제금액 : %d 원" %(self.total))
        paid_money = int(input("투입 금액 : "))
        if paid_money >= self.total:
            if paid_money > self.total:
                print("잔돈 : %d원" % (paid_money - self.total))
            print("감사합니다.")
            payed = 1
        elif paid_money < self.total:
            print(self.total - paid_money, "원이 부족합니다.")
            print("1 : 추가금액 지불")
            print("2 : 결제 취소")
            select = int(input("선택 : "))
            if select == 1:
                while self.total - self.money_more_add >= 0:
                    more_paid_money = int(input("추가 금액 : "))
                    self.money_more_add += more_paid_money
                    result = paid_money + self.money_more_add - self.total
                    if result == 0:
                        print("감사합니다.")
                        payed = 1
                        break
                    elif result > 0:
                        print("잔돈 : %d원"%(result))
                        print("감사합니다.")
                        payed = 1
                        break
                    else:
                        print("%d원이 부족합니다." %(result))
            else:
                print("결제를 취소하셨습니다.")

    def payment_card(self):
        # 카드계산
        global payed
        payed = 0
        print("결제금액 : %d 원" % (self.total))
        cardMoney = int(100000)
        print("현재 카드잔액은 %d 원 입니다"%(cardMoney))
        print("결제를 진행하시겠습니까?")
        print("1 : 결제")
        print("2 : 결제 취소")
        payornot = int(input("선택 : "))
        if payornot == 1:
            if cardMoney >= self.total:
                if cardMoney > self.total:
                    print("잔액 : %d원" % (cardMoney - self.total))
                print("감사합니다.")
                payed = 1
            elif cardMoney < self.total:
                print(self.total - cardMoney, "원이 부족합니다.")
                print("1 : 추가금액 충전")
                print("2 : 결제 취소")
                select = int(input("선택 : "))
                if select == 1:
                    while self.total - self.money_more_add >= 0:
                        more_paid_money = int(input("추가 금액 : "))
                        self.money_more_add += more_paid_money
                        result = cardMoney + self.money_more_add - self.total
                        if result == 0:
                            # print("감사합니다.")
                            payed = 1
                            break
                        elif result > 0:
                            print("잔액 : %d원" % (result))
                            # print("감사합니다.")
                            payed = 1
                            break
                        else:
                            print("%d원이 부족합니다." % (result))
                else:
                    print("결제를 취소하셨습니다.")
        elif payornot == 2 :
            print("결제를 취소하셨습니다.")

    def add_Mileage(self):
        # 휴대폰 번호 입력받음
        print("적립하시겠습니까?")
        select = int(input("1: 적립\n2: 취소"))
        if select == 1:
            print("적립받으실 휴대폰번호를 입력해주세요 :")
            number = input()
            # 휴대폰번호에 구매금액 10%만큼 마일리지 적립했다고 출력
            print("<",number,">번 으로 %d 포인트 적립되었습니다" %(self.total//10))
        print("구매해주셔서 감사합니다")

Buy_Coffee = Coffee()
Buy_Coffee.menu_print()
Buy_Coffee.selection()
while True:
    print("1 : 현금결제")
    print("2 : 카드결제")
    payment_method = int(input("결제수단 :"))
    if payment_method == 1:
        Buy_Coffee.payment_cash()
        break
    elif payment_method == 2:
        Buy_Coffee.payment_card()
        break
    else:
        print("다시 입력해주세요.")
if payed == 1 :
    Buy_Coffee.add_Mileage()

